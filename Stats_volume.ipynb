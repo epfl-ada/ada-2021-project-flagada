{
 "cells": [
  {
   "cell_type": "markdown",
   "id": "ddd90ae5",
   "metadata": {},
   "source": [
    "# IMPORT OF LIBRAIRIES "
   ]
  },
  {
   "cell_type": "code",
   "execution_count": 1,
   "id": "a844db16",
   "metadata": {},
   "outputs": [
    {
     "name": "stderr",
     "output_type": "stream",
     "text": [
      "[nltk_data] Downloading package vader_lexicon to\n",
      "[nltk_data]     /Users/adrien/nltk_data...\n",
      "[nltk_data]   Package vader_lexicon is already up-to-date!\n",
      "[nltk_data] Downloading package stopwords to\n",
      "[nltk_data]     /Users/adrien/nltk_data...\n",
      "[nltk_data]   Package stopwords is already up-to-date!\n",
      "[nltk_data] Downloading package punkt to /Users/adrien/nltk_data...\n",
      "[nltk_data]   Package punkt is already up-to-date!\n"
     ]
    }
   ],
   "source": [
    "import pandas as pd\n",
    "import matplotlib.pyplot as plt\n",
    "from matplotlib.colors import ListedColormap\n",
    "import seaborn as sns\n",
    "import calendar\n",
    "from functions import *\n",
    "import urllib.parse\n",
    "from matplotlib.pyplot import figure\n",
    "import geoip2.database\n",
    "import socket\n",
    "from tld import get_tld\n",
    "\n",
    "import re\n",
    "import json\n",
    "from urllib.request import urlopen\n",
    "import pygeoip\n",
    "\n",
    "import matplotlib.ticker as mtick\n",
    "\n",
    "import spacy\n",
    "from spacy import displacy\n",
    "from collections import Counter\n",
    "import en_core_web_sm\n",
    "nlp = en_core_web_sm.load()\n",
    "\n",
    "from bs4 import BeautifulSoup\n",
    "import requests\n",
    "import re\n",
    "\n",
    "from matplotlib.pyplot import figure"
   ]
  },
  {
   "cell_type": "code",
   "execution_count": 2,
   "id": "da0532ab",
   "metadata": {},
   "outputs": [],
   "source": [
    "quotes_all_years = pd.io.json.read_json('Quotebank_climate_attributes/quotes-all-years.json.bz2', lines = True)"
   ]
  },
  {
   "cell_type": "code",
   "execution_count": null,
   "id": "04f052f1",
   "metadata": {},
   "outputs": [],
   "source": []
  },
  {
   "cell_type": "code",
   "execution_count": 3,
   "id": "496ab7e4",
   "metadata": {},
   "outputs": [],
   "source": [
    "quotes_norm = pd.io.json.read_json('Quotebank_climate_attributes/Quote_frequency_day.json', orient = 'index')\n"
   ]
  },
  {
   "cell_type": "code",
   "execution_count": 4,
   "id": "8e31bad8",
   "metadata": {},
   "outputs": [],
   "source": [
    "quotes_norm['date'] = quotes_norm.index\n",
    "quotes_norm['count']= quotes_norm[0]\n",
    "quotes_norm.reset_index(drop = True, inplace = True)\n",
    "quotes_norm.drop( columns = 0, inplace = True)"
   ]
  },
  {
   "cell_type": "code",
   "execution_count": 5,
   "id": "bf81ea54",
   "metadata": {},
   "outputs": [
    {
     "data": {
      "text/html": [
       "<div>\n",
       "<style scoped>\n",
       "    .dataframe tbody tr th:only-of-type {\n",
       "        vertical-align: middle;\n",
       "    }\n",
       "\n",
       "    .dataframe tbody tr th {\n",
       "        vertical-align: top;\n",
       "    }\n",
       "\n",
       "    .dataframe thead th {\n",
       "        text-align: right;\n",
       "    }\n",
       "</style>\n",
       "<table border=\"1\" class=\"dataframe\">\n",
       "  <thead>\n",
       "    <tr style=\"text-align: right;\">\n",
       "      <th></th>\n",
       "      <th>date</th>\n",
       "      <th>count</th>\n",
       "    </tr>\n",
       "  </thead>\n",
       "  <tbody>\n",
       "    <tr>\n",
       "      <th>0</th>\n",
       "      <td>2015-08-31</td>\n",
       "      <td>67945</td>\n",
       "    </tr>\n",
       "    <tr>\n",
       "      <th>1</th>\n",
       "      <td>2015-12-08</td>\n",
       "      <td>87238</td>\n",
       "    </tr>\n",
       "    <tr>\n",
       "      <th>2</th>\n",
       "      <td>2015-09-10</td>\n",
       "      <td>84472</td>\n",
       "    </tr>\n",
       "    <tr>\n",
       "      <th>3</th>\n",
       "      <td>2015-07-23</td>\n",
       "      <td>88601</td>\n",
       "    </tr>\n",
       "    <tr>\n",
       "      <th>4</th>\n",
       "      <td>2015-10-04</td>\n",
       "      <td>43412</td>\n",
       "    </tr>\n",
       "    <tr>\n",
       "      <th>...</th>\n",
       "      <td>...</td>\n",
       "      <td>...</td>\n",
       "    </tr>\n",
       "    <tr>\n",
       "      <th>1929</th>\n",
       "      <td>2020-03-08</td>\n",
       "      <td>27171</td>\n",
       "    </tr>\n",
       "    <tr>\n",
       "      <th>1930</th>\n",
       "      <td>2020-03-28</td>\n",
       "      <td>22781</td>\n",
       "    </tr>\n",
       "    <tr>\n",
       "      <th>1931</th>\n",
       "      <td>2020-02-01</td>\n",
       "      <td>39262</td>\n",
       "    </tr>\n",
       "    <tr>\n",
       "      <th>1932</th>\n",
       "      <td>2020-04-12</td>\n",
       "      <td>19718</td>\n",
       "    </tr>\n",
       "    <tr>\n",
       "      <th>1933</th>\n",
       "      <td>2020-01-04</td>\n",
       "      <td>29241</td>\n",
       "    </tr>\n",
       "  </tbody>\n",
       "</table>\n",
       "<p>1934 rows × 2 columns</p>\n",
       "</div>"
      ],
      "text/plain": [
       "           date  count\n",
       "0    2015-08-31  67945\n",
       "1    2015-12-08  87238\n",
       "2    2015-09-10  84472\n",
       "3    2015-07-23  88601\n",
       "4    2015-10-04  43412\n",
       "...         ...    ...\n",
       "1929 2020-03-08  27171\n",
       "1930 2020-03-28  22781\n",
       "1931 2020-02-01  39262\n",
       "1932 2020-04-12  19718\n",
       "1933 2020-01-04  29241\n",
       "\n",
       "[1934 rows x 2 columns]"
      ]
     },
     "execution_count": 5,
     "metadata": {},
     "output_type": "execute_result"
    }
   ],
   "source": [
    "quotes_norm"
   ]
  },
  {
   "cell_type": "markdown",
   "id": "5d52f3e2",
   "metadata": {},
   "source": [
    "### Creation of a column containing the month when the month when the quote was reported\n"
   ]
  },
  {
   "cell_type": "code",
   "execution_count": 6,
   "id": "823db48f",
   "metadata": {},
   "outputs": [
    {
     "data": {
      "text/html": [
       "<div>\n",
       "<style scoped>\n",
       "    .dataframe tbody tr th:only-of-type {\n",
       "        vertical-align: middle;\n",
       "    }\n",
       "\n",
       "    .dataframe tbody tr th {\n",
       "        vertical-align: top;\n",
       "    }\n",
       "\n",
       "    .dataframe thead th {\n",
       "        text-align: right;\n",
       "    }\n",
       "</style>\n",
       "<table border=\"1\" class=\"dataframe\">\n",
       "  <thead>\n",
       "    <tr style=\"text-align: right;\">\n",
       "      <th></th>\n",
       "      <th>quoteID</th>\n",
       "      <th>quotation</th>\n",
       "      <th>speaker</th>\n",
       "      <th>qids</th>\n",
       "      <th>date</th>\n",
       "      <th>numOccurrences</th>\n",
       "      <th>probas</th>\n",
       "      <th>urls</th>\n",
       "      <th>phase</th>\n",
       "      <th>day</th>\n",
       "      <th>date_of_birth</th>\n",
       "      <th>nationality</th>\n",
       "      <th>gender</th>\n",
       "      <th>ethnic_group</th>\n",
       "      <th>occupation</th>\n",
       "      <th>party</th>\n",
       "      <th>religion</th>\n",
       "      <th>month</th>\n",
       "    </tr>\n",
       "  </thead>\n",
       "  <tbody>\n",
       "    <tr>\n",
       "      <th>0</th>\n",
       "      <td>2015-02-09-029204</td>\n",
       "      <td>I want him to be Prime Minister because he sup...</td>\n",
       "      <td>None</td>\n",
       "      <td>[]</td>\n",
       "      <td>2015-02-09 04:28:41</td>\n",
       "      <td>1</td>\n",
       "      <td>[[None, 0.8177], [Malcolm Turnbull, 0.1823]]</td>\n",
       "      <td>[http://sbs.com.au/comedy/article/2015/02/09/w...</td>\n",
       "      <td>E</td>\n",
       "      <td>Monday</td>\n",
       "      <td>None</td>\n",
       "      <td>None</td>\n",
       "      <td>None</td>\n",
       "      <td>None</td>\n",
       "      <td>None</td>\n",
       "      <td>None</td>\n",
       "      <td>None</td>\n",
       "      <td>Feb</td>\n",
       "    </tr>\n",
       "    <tr>\n",
       "      <th>1</th>\n",
       "      <td>2015-01-26-037174</td>\n",
       "      <td>It is encouraging that they are backing their ...</td>\n",
       "      <td>None</td>\n",
       "      <td>[]</td>\n",
       "      <td>2015-01-26 13:03:00</td>\n",
       "      <td>1</td>\n",
       "      <td>[[None, 0.7101], [President Obama, 0.2899]]</td>\n",
       "      <td>[http://www.theclimategroup.org/what-we-do/new...</td>\n",
       "      <td>E</td>\n",
       "      <td>Monday</td>\n",
       "      <td>None</td>\n",
       "      <td>None</td>\n",
       "      <td>None</td>\n",
       "      <td>None</td>\n",
       "      <td>None</td>\n",
       "      <td>None</td>\n",
       "      <td>None</td>\n",
       "      <td>Jan</td>\n",
       "    </tr>\n",
       "    <tr>\n",
       "      <th>2</th>\n",
       "      <td>2015-07-22-062083</td>\n",
       "      <td>Labor's ambition is to see 50% of our electric...</td>\n",
       "      <td>Bill Shorten</td>\n",
       "      <td>[Q4910865]</td>\n",
       "      <td>2015-07-22 01:21:51</td>\n",
       "      <td>2</td>\n",
       "      <td>[[Bill Shorten, 0.8927], [None, 0.1073]]</td>\n",
       "      <td>[http://feeds.theguardian.com/c/34708/f/663879...</td>\n",
       "      <td>E</td>\n",
       "      <td>Wednesday</td>\n",
       "      <td>+1967-05-12T00:00:00Z</td>\n",
       "      <td>[Australia, United Kingdom]</td>\n",
       "      <td>male</td>\n",
       "      <td>None</td>\n",
       "      <td>[politician, lawyer, trade unionist]</td>\n",
       "      <td>Australian Labor Party</td>\n",
       "      <td>None</td>\n",
       "      <td>Jul</td>\n",
       "    </tr>\n",
       "    <tr>\n",
       "      <th>3</th>\n",
       "      <td>2015-09-28-067347</td>\n",
       "      <td>man-made emissions are an insignificant part o...</td>\n",
       "      <td>John Abraham</td>\n",
       "      <td>[Q313025, Q3180862, Q47503507, Q6218074, Q6324...</td>\n",
       "      <td>2015-09-28 23:16:52</td>\n",
       "      <td>1</td>\n",
       "      <td>[[John Abraham, 0.6469], [None, 0.3092], [Will...</td>\n",
       "      <td>[http://www.desmogblog.com/donors-capital-fund]</td>\n",
       "      <td>E</td>\n",
       "      <td>Monday</td>\n",
       "      <td>None</td>\n",
       "      <td>None</td>\n",
       "      <td>None</td>\n",
       "      <td>None</td>\n",
       "      <td>None</td>\n",
       "      <td>None</td>\n",
       "      <td>None</td>\n",
       "      <td>Sep</td>\n",
       "    </tr>\n",
       "    <tr>\n",
       "      <th>4</th>\n",
       "      <td>2015-07-28-039461</td>\n",
       "      <td>I suppose Prime Minister Modi will decide at t...</td>\n",
       "      <td>Laurence Tubiana</td>\n",
       "      <td>[Q3218947]</td>\n",
       "      <td>2015-07-28 17:39:32</td>\n",
       "      <td>2</td>\n",
       "      <td>[[Laurence Tubiana, 0.9432], [None, 0.0568]]</td>\n",
       "      <td>[http://economictimes.indiatimes.com/news/poli...</td>\n",
       "      <td>E</td>\n",
       "      <td>Tuesday</td>\n",
       "      <td>+1951-07-05T00:00:00Z</td>\n",
       "      <td>France</td>\n",
       "      <td>female</td>\n",
       "      <td>None</td>\n",
       "      <td>[economist, university teacher]</td>\n",
       "      <td>None</td>\n",
       "      <td>None</td>\n",
       "      <td>Jul</td>\n",
       "    </tr>\n",
       "    <tr>\n",
       "      <th>...</th>\n",
       "      <td>...</td>\n",
       "      <td>...</td>\n",
       "      <td>...</td>\n",
       "      <td>...</td>\n",
       "      <td>...</td>\n",
       "      <td>...</td>\n",
       "      <td>...</td>\n",
       "      <td>...</td>\n",
       "      <td>...</td>\n",
       "      <td>...</td>\n",
       "      <td>...</td>\n",
       "      <td>...</td>\n",
       "      <td>...</td>\n",
       "      <td>...</td>\n",
       "      <td>...</td>\n",
       "      <td>...</td>\n",
       "      <td>...</td>\n",
       "      <td>...</td>\n",
       "    </tr>\n",
       "    <tr>\n",
       "      <th>207031</th>\n",
       "      <td>2020-02-21-007763</td>\n",
       "      <td>Both urgent and long-term actions are needed t...</td>\n",
       "      <td>None</td>\n",
       "      <td>[]</td>\n",
       "      <td>2020-02-21 20:23:47</td>\n",
       "      <td>1</td>\n",
       "      <td>[[None, 0.7482], [Greta Thunberg, 0.2518]]</td>\n",
       "      <td>[http://feeds.inquisitr.com/~r/google/yDYq/~3/...</td>\n",
       "      <td>E</td>\n",
       "      <td>Friday</td>\n",
       "      <td>None</td>\n",
       "      <td>None</td>\n",
       "      <td>None</td>\n",
       "      <td>None</td>\n",
       "      <td>None</td>\n",
       "      <td>None</td>\n",
       "      <td>None</td>\n",
       "      <td>Feb</td>\n",
       "    </tr>\n",
       "    <tr>\n",
       "      <th>207032</th>\n",
       "      <td>2020-04-10-020959</td>\n",
       "      <td>If we re-elect Donald Trump because we have tu...</td>\n",
       "      <td>None</td>\n",
       "      <td>[]</td>\n",
       "      <td>2020-04-10 00:00:00</td>\n",
       "      <td>1</td>\n",
       "      <td>[[None, 0.5234], [Mike Doyle, 0.4509], [Jim Bu...</td>\n",
       "      <td>[http://wesa.fm/post/mike-doyle-face-progressi...</td>\n",
       "      <td>E</td>\n",
       "      <td>Friday</td>\n",
       "      <td>None</td>\n",
       "      <td>None</td>\n",
       "      <td>None</td>\n",
       "      <td>None</td>\n",
       "      <td>None</td>\n",
       "      <td>None</td>\n",
       "      <td>None</td>\n",
       "      <td>Apr</td>\n",
       "    </tr>\n",
       "    <tr>\n",
       "      <th>207033</th>\n",
       "      <td>2020-04-11-013559</td>\n",
       "      <td>I'm talking about telling the fossil fuel indu...</td>\n",
       "      <td>Bernie Sanders</td>\n",
       "      <td>[Q359442]</td>\n",
       "      <td>2020-04-11 04:00:00</td>\n",
       "      <td>2</td>\n",
       "      <td>[[Bernie Sanders, 0.5636], [None, 0.3044], [Jo...</td>\n",
       "      <td>[https://www.commondreams.org/views/2020/04/11...</td>\n",
       "      <td>E</td>\n",
       "      <td>Saturday</td>\n",
       "      <td>+1941-09-08T00:00:00Z</td>\n",
       "      <td>United States of America</td>\n",
       "      <td>male</td>\n",
       "      <td>Jewish people</td>\n",
       "      <td>[politician, journalist, carpenter, university...</td>\n",
       "      <td>[Liberty Union Party, Democratic Party, indepe...</td>\n",
       "      <td>Judaism</td>\n",
       "      <td>Apr</td>\n",
       "    </tr>\n",
       "    <tr>\n",
       "      <th>207034</th>\n",
       "      <td>2020-02-10-057505</td>\n",
       "      <td>Obama got health care, Trump got his tax cut, ...</td>\n",
       "      <td>Tom Steyer</td>\n",
       "      <td>[Q16189531]</td>\n",
       "      <td>2020-02-10 11:00:08</td>\n",
       "      <td>1</td>\n",
       "      <td>[[Tom Steyer, 0.8143], [None, 0.1857]]</td>\n",
       "      <td>[https://thebulletin.org/2020/02/on-the-new-ha...</td>\n",
       "      <td>E</td>\n",
       "      <td>Monday</td>\n",
       "      <td>+1957-06-27T00:00:00Z</td>\n",
       "      <td>United States of America</td>\n",
       "      <td>male</td>\n",
       "      <td>None</td>\n",
       "      <td>[businessperson, organizational founder, phila...</td>\n",
       "      <td>Democratic Party</td>\n",
       "      <td>None</td>\n",
       "      <td>Feb</td>\n",
       "    </tr>\n",
       "    <tr>\n",
       "      <th>207035</th>\n",
       "      <td>2020-02-23-041538</td>\n",
       "      <td>We've been writing about climate change being ...</td>\n",
       "      <td>Lesley Hughes</td>\n",
       "      <td>[Q53473786]</td>\n",
       "      <td>2020-02-23 22:38:42</td>\n",
       "      <td>2</td>\n",
       "      <td>[[Lesley Hughes, 0.9023], [None, 0.0978]]</td>\n",
       "      <td>[https://www.nytimes.com/2020/02/23/world/aust...</td>\n",
       "      <td>E</td>\n",
       "      <td>Sunday</td>\n",
       "      <td>None</td>\n",
       "      <td>Australia</td>\n",
       "      <td>female</td>\n",
       "      <td>None</td>\n",
       "      <td>biologist</td>\n",
       "      <td>None</td>\n",
       "      <td>None</td>\n",
       "      <td>Feb</td>\n",
       "    </tr>\n",
       "  </tbody>\n",
       "</table>\n",
       "<p>207036 rows × 18 columns</p>\n",
       "</div>"
      ],
      "text/plain": [
       "                  quoteID                                          quotation  \\\n",
       "0       2015-02-09-029204  I want him to be Prime Minister because he sup...   \n",
       "1       2015-01-26-037174  It is encouraging that they are backing their ...   \n",
       "2       2015-07-22-062083  Labor's ambition is to see 50% of our electric...   \n",
       "3       2015-09-28-067347  man-made emissions are an insignificant part o...   \n",
       "4       2015-07-28-039461  I suppose Prime Minister Modi will decide at t...   \n",
       "...                   ...                                                ...   \n",
       "207031  2020-02-21-007763  Both urgent and long-term actions are needed t...   \n",
       "207032  2020-04-10-020959  If we re-elect Donald Trump because we have tu...   \n",
       "207033  2020-04-11-013559  I'm talking about telling the fossil fuel indu...   \n",
       "207034  2020-02-10-057505  Obama got health care, Trump got his tax cut, ...   \n",
       "207035  2020-02-23-041538  We've been writing about climate change being ...   \n",
       "\n",
       "                 speaker                                               qids  \\\n",
       "0                   None                                                 []   \n",
       "1                   None                                                 []   \n",
       "2           Bill Shorten                                         [Q4910865]   \n",
       "3           John Abraham  [Q313025, Q3180862, Q47503507, Q6218074, Q6324...   \n",
       "4       Laurence Tubiana                                         [Q3218947]   \n",
       "...                  ...                                                ...   \n",
       "207031              None                                                 []   \n",
       "207032              None                                                 []   \n",
       "207033    Bernie Sanders                                          [Q359442]   \n",
       "207034        Tom Steyer                                        [Q16189531]   \n",
       "207035     Lesley Hughes                                        [Q53473786]   \n",
       "\n",
       "                      date  numOccurrences  \\\n",
       "0      2015-02-09 04:28:41               1   \n",
       "1      2015-01-26 13:03:00               1   \n",
       "2      2015-07-22 01:21:51               2   \n",
       "3      2015-09-28 23:16:52               1   \n",
       "4      2015-07-28 17:39:32               2   \n",
       "...                    ...             ...   \n",
       "207031 2020-02-21 20:23:47               1   \n",
       "207032 2020-04-10 00:00:00               1   \n",
       "207033 2020-04-11 04:00:00               2   \n",
       "207034 2020-02-10 11:00:08               1   \n",
       "207035 2020-02-23 22:38:42               2   \n",
       "\n",
       "                                                   probas  \\\n",
       "0            [[None, 0.8177], [Malcolm Turnbull, 0.1823]]   \n",
       "1             [[None, 0.7101], [President Obama, 0.2899]]   \n",
       "2                [[Bill Shorten, 0.8927], [None, 0.1073]]   \n",
       "3       [[John Abraham, 0.6469], [None, 0.3092], [Will...   \n",
       "4            [[Laurence Tubiana, 0.9432], [None, 0.0568]]   \n",
       "...                                                   ...   \n",
       "207031         [[None, 0.7482], [Greta Thunberg, 0.2518]]   \n",
       "207032  [[None, 0.5234], [Mike Doyle, 0.4509], [Jim Bu...   \n",
       "207033  [[Bernie Sanders, 0.5636], [None, 0.3044], [Jo...   \n",
       "207034             [[Tom Steyer, 0.8143], [None, 0.1857]]   \n",
       "207035          [[Lesley Hughes, 0.9023], [None, 0.0978]]   \n",
       "\n",
       "                                                     urls phase        day  \\\n",
       "0       [http://sbs.com.au/comedy/article/2015/02/09/w...     E     Monday   \n",
       "1       [http://www.theclimategroup.org/what-we-do/new...     E     Monday   \n",
       "2       [http://feeds.theguardian.com/c/34708/f/663879...     E  Wednesday   \n",
       "3         [http://www.desmogblog.com/donors-capital-fund]     E     Monday   \n",
       "4       [http://economictimes.indiatimes.com/news/poli...     E    Tuesday   \n",
       "...                                                   ...   ...        ...   \n",
       "207031  [http://feeds.inquisitr.com/~r/google/yDYq/~3/...     E     Friday   \n",
       "207032  [http://wesa.fm/post/mike-doyle-face-progressi...     E     Friday   \n",
       "207033  [https://www.commondreams.org/views/2020/04/11...     E   Saturday   \n",
       "207034  [https://thebulletin.org/2020/02/on-the-new-ha...     E     Monday   \n",
       "207035  [https://www.nytimes.com/2020/02/23/world/aust...     E     Sunday   \n",
       "\n",
       "                date_of_birth                  nationality  gender  \\\n",
       "0                        None                         None    None   \n",
       "1                        None                         None    None   \n",
       "2       +1967-05-12T00:00:00Z  [Australia, United Kingdom]    male   \n",
       "3                        None                         None    None   \n",
       "4       +1951-07-05T00:00:00Z                       France  female   \n",
       "...                       ...                          ...     ...   \n",
       "207031                   None                         None    None   \n",
       "207032                   None                         None    None   \n",
       "207033  +1941-09-08T00:00:00Z     United States of America    male   \n",
       "207034  +1957-06-27T00:00:00Z     United States of America    male   \n",
       "207035                   None                    Australia  female   \n",
       "\n",
       "         ethnic_group                                         occupation  \\\n",
       "0                None                                               None   \n",
       "1                None                                               None   \n",
       "2                None               [politician, lawyer, trade unionist]   \n",
       "3                None                                               None   \n",
       "4                None                    [economist, university teacher]   \n",
       "...               ...                                                ...   \n",
       "207031           None                                               None   \n",
       "207032           None                                               None   \n",
       "207033  Jewish people  [politician, journalist, carpenter, university...   \n",
       "207034           None  [businessperson, organizational founder, phila...   \n",
       "207035           None                                          biologist   \n",
       "\n",
       "                                                    party religion month  \n",
       "0                                                    None     None   Feb  \n",
       "1                                                    None     None   Jan  \n",
       "2                                  Australian Labor Party     None   Jul  \n",
       "3                                                    None     None   Sep  \n",
       "4                                                    None     None   Jul  \n",
       "...                                                   ...      ...   ...  \n",
       "207031                                               None     None   Feb  \n",
       "207032                                               None     None   Apr  \n",
       "207033  [Liberty Union Party, Democratic Party, indepe...  Judaism   Apr  \n",
       "207034                                   Democratic Party     None   Feb  \n",
       "207035                                               None     None   Feb  \n",
       "\n",
       "[207036 rows x 18 columns]"
      ]
     },
     "execution_count": 6,
     "metadata": {},
     "output_type": "execute_result"
    }
   ],
   "source": [
    "quotes_all_years['month'] = quotes_all_years['date'].dt.month.apply(lambda x: calendar.month_abbr[x])   \n",
    "quotes_all_years"
   ]
  },
  {
   "cell_type": "code",
   "execution_count": 7,
   "id": "7977268d",
   "metadata": {},
   "outputs": [],
   "source": [
    "quotes_all_years['date'] = quotes_all_years['date'].dt.date"
   ]
  },
  {
   "cell_type": "code",
   "execution_count": 8,
   "id": "b089d394",
   "metadata": {},
   "outputs": [
    {
     "data": {
      "text/html": [
       "<div>\n",
       "<style scoped>\n",
       "    .dataframe tbody tr th:only-of-type {\n",
       "        vertical-align: middle;\n",
       "    }\n",
       "\n",
       "    .dataframe tbody tr th {\n",
       "        vertical-align: top;\n",
       "    }\n",
       "\n",
       "    .dataframe thead th {\n",
       "        text-align: right;\n",
       "    }\n",
       "</style>\n",
       "<table border=\"1\" class=\"dataframe\">\n",
       "  <thead>\n",
       "    <tr style=\"text-align: right;\">\n",
       "      <th></th>\n",
       "      <th>quoteID</th>\n",
       "      <th>quotation</th>\n",
       "      <th>speaker</th>\n",
       "      <th>qids</th>\n",
       "      <th>date</th>\n",
       "      <th>numOccurrences</th>\n",
       "      <th>probas</th>\n",
       "      <th>urls</th>\n",
       "      <th>phase</th>\n",
       "      <th>day</th>\n",
       "      <th>date_of_birth</th>\n",
       "      <th>nationality</th>\n",
       "      <th>gender</th>\n",
       "      <th>ethnic_group</th>\n",
       "      <th>occupation</th>\n",
       "      <th>party</th>\n",
       "      <th>religion</th>\n",
       "      <th>month</th>\n",
       "    </tr>\n",
       "  </thead>\n",
       "  <tbody>\n",
       "    <tr>\n",
       "      <th>0</th>\n",
       "      <td>2015-02-09-029204</td>\n",
       "      <td>I want him to be Prime Minister because he sup...</td>\n",
       "      <td>None</td>\n",
       "      <td>[]</td>\n",
       "      <td>2015-02-09</td>\n",
       "      <td>1</td>\n",
       "      <td>[[None, 0.8177], [Malcolm Turnbull, 0.1823]]</td>\n",
       "      <td>[http://sbs.com.au/comedy/article/2015/02/09/w...</td>\n",
       "      <td>E</td>\n",
       "      <td>Monday</td>\n",
       "      <td>None</td>\n",
       "      <td>None</td>\n",
       "      <td>None</td>\n",
       "      <td>None</td>\n",
       "      <td>None</td>\n",
       "      <td>None</td>\n",
       "      <td>None</td>\n",
       "      <td>Feb</td>\n",
       "    </tr>\n",
       "    <tr>\n",
       "      <th>1</th>\n",
       "      <td>2015-01-26-037174</td>\n",
       "      <td>It is encouraging that they are backing their ...</td>\n",
       "      <td>None</td>\n",
       "      <td>[]</td>\n",
       "      <td>2015-01-26</td>\n",
       "      <td>1</td>\n",
       "      <td>[[None, 0.7101], [President Obama, 0.2899]]</td>\n",
       "      <td>[http://www.theclimategroup.org/what-we-do/new...</td>\n",
       "      <td>E</td>\n",
       "      <td>Monday</td>\n",
       "      <td>None</td>\n",
       "      <td>None</td>\n",
       "      <td>None</td>\n",
       "      <td>None</td>\n",
       "      <td>None</td>\n",
       "      <td>None</td>\n",
       "      <td>None</td>\n",
       "      <td>Jan</td>\n",
       "    </tr>\n",
       "    <tr>\n",
       "      <th>2</th>\n",
       "      <td>2015-07-22-062083</td>\n",
       "      <td>Labor's ambition is to see 50% of our electric...</td>\n",
       "      <td>Bill Shorten</td>\n",
       "      <td>[Q4910865]</td>\n",
       "      <td>2015-07-22</td>\n",
       "      <td>2</td>\n",
       "      <td>[[Bill Shorten, 0.8927], [None, 0.1073]]</td>\n",
       "      <td>[http://feeds.theguardian.com/c/34708/f/663879...</td>\n",
       "      <td>E</td>\n",
       "      <td>Wednesday</td>\n",
       "      <td>+1967-05-12T00:00:00Z</td>\n",
       "      <td>[Australia, United Kingdom]</td>\n",
       "      <td>male</td>\n",
       "      <td>None</td>\n",
       "      <td>[politician, lawyer, trade unionist]</td>\n",
       "      <td>Australian Labor Party</td>\n",
       "      <td>None</td>\n",
       "      <td>Jul</td>\n",
       "    </tr>\n",
       "    <tr>\n",
       "      <th>3</th>\n",
       "      <td>2015-09-28-067347</td>\n",
       "      <td>man-made emissions are an insignificant part o...</td>\n",
       "      <td>John Abraham</td>\n",
       "      <td>[Q313025, Q3180862, Q47503507, Q6218074, Q6324...</td>\n",
       "      <td>2015-09-28</td>\n",
       "      <td>1</td>\n",
       "      <td>[[John Abraham, 0.6469], [None, 0.3092], [Will...</td>\n",
       "      <td>[http://www.desmogblog.com/donors-capital-fund]</td>\n",
       "      <td>E</td>\n",
       "      <td>Monday</td>\n",
       "      <td>None</td>\n",
       "      <td>None</td>\n",
       "      <td>None</td>\n",
       "      <td>None</td>\n",
       "      <td>None</td>\n",
       "      <td>None</td>\n",
       "      <td>None</td>\n",
       "      <td>Sep</td>\n",
       "    </tr>\n",
       "    <tr>\n",
       "      <th>4</th>\n",
       "      <td>2015-07-28-039461</td>\n",
       "      <td>I suppose Prime Minister Modi will decide at t...</td>\n",
       "      <td>Laurence Tubiana</td>\n",
       "      <td>[Q3218947]</td>\n",
       "      <td>2015-07-28</td>\n",
       "      <td>2</td>\n",
       "      <td>[[Laurence Tubiana, 0.9432], [None, 0.0568]]</td>\n",
       "      <td>[http://economictimes.indiatimes.com/news/poli...</td>\n",
       "      <td>E</td>\n",
       "      <td>Tuesday</td>\n",
       "      <td>+1951-07-05T00:00:00Z</td>\n",
       "      <td>France</td>\n",
       "      <td>female</td>\n",
       "      <td>None</td>\n",
       "      <td>[economist, university teacher]</td>\n",
       "      <td>None</td>\n",
       "      <td>None</td>\n",
       "      <td>Jul</td>\n",
       "    </tr>\n",
       "    <tr>\n",
       "      <th>...</th>\n",
       "      <td>...</td>\n",
       "      <td>...</td>\n",
       "      <td>...</td>\n",
       "      <td>...</td>\n",
       "      <td>...</td>\n",
       "      <td>...</td>\n",
       "      <td>...</td>\n",
       "      <td>...</td>\n",
       "      <td>...</td>\n",
       "      <td>...</td>\n",
       "      <td>...</td>\n",
       "      <td>...</td>\n",
       "      <td>...</td>\n",
       "      <td>...</td>\n",
       "      <td>...</td>\n",
       "      <td>...</td>\n",
       "      <td>...</td>\n",
       "      <td>...</td>\n",
       "    </tr>\n",
       "    <tr>\n",
       "      <th>207031</th>\n",
       "      <td>2020-02-21-007763</td>\n",
       "      <td>Both urgent and long-term actions are needed t...</td>\n",
       "      <td>None</td>\n",
       "      <td>[]</td>\n",
       "      <td>2020-02-21</td>\n",
       "      <td>1</td>\n",
       "      <td>[[None, 0.7482], [Greta Thunberg, 0.2518]]</td>\n",
       "      <td>[http://feeds.inquisitr.com/~r/google/yDYq/~3/...</td>\n",
       "      <td>E</td>\n",
       "      <td>Friday</td>\n",
       "      <td>None</td>\n",
       "      <td>None</td>\n",
       "      <td>None</td>\n",
       "      <td>None</td>\n",
       "      <td>None</td>\n",
       "      <td>None</td>\n",
       "      <td>None</td>\n",
       "      <td>Feb</td>\n",
       "    </tr>\n",
       "    <tr>\n",
       "      <th>207032</th>\n",
       "      <td>2020-04-10-020959</td>\n",
       "      <td>If we re-elect Donald Trump because we have tu...</td>\n",
       "      <td>None</td>\n",
       "      <td>[]</td>\n",
       "      <td>2020-04-10</td>\n",
       "      <td>1</td>\n",
       "      <td>[[None, 0.5234], [Mike Doyle, 0.4509], [Jim Bu...</td>\n",
       "      <td>[http://wesa.fm/post/mike-doyle-face-progressi...</td>\n",
       "      <td>E</td>\n",
       "      <td>Friday</td>\n",
       "      <td>None</td>\n",
       "      <td>None</td>\n",
       "      <td>None</td>\n",
       "      <td>None</td>\n",
       "      <td>None</td>\n",
       "      <td>None</td>\n",
       "      <td>None</td>\n",
       "      <td>Apr</td>\n",
       "    </tr>\n",
       "    <tr>\n",
       "      <th>207033</th>\n",
       "      <td>2020-04-11-013559</td>\n",
       "      <td>I'm talking about telling the fossil fuel indu...</td>\n",
       "      <td>Bernie Sanders</td>\n",
       "      <td>[Q359442]</td>\n",
       "      <td>2020-04-11</td>\n",
       "      <td>2</td>\n",
       "      <td>[[Bernie Sanders, 0.5636], [None, 0.3044], [Jo...</td>\n",
       "      <td>[https://www.commondreams.org/views/2020/04/11...</td>\n",
       "      <td>E</td>\n",
       "      <td>Saturday</td>\n",
       "      <td>+1941-09-08T00:00:00Z</td>\n",
       "      <td>United States of America</td>\n",
       "      <td>male</td>\n",
       "      <td>Jewish people</td>\n",
       "      <td>[politician, journalist, carpenter, university...</td>\n",
       "      <td>[Liberty Union Party, Democratic Party, indepe...</td>\n",
       "      <td>Judaism</td>\n",
       "      <td>Apr</td>\n",
       "    </tr>\n",
       "    <tr>\n",
       "      <th>207034</th>\n",
       "      <td>2020-02-10-057505</td>\n",
       "      <td>Obama got health care, Trump got his tax cut, ...</td>\n",
       "      <td>Tom Steyer</td>\n",
       "      <td>[Q16189531]</td>\n",
       "      <td>2020-02-10</td>\n",
       "      <td>1</td>\n",
       "      <td>[[Tom Steyer, 0.8143], [None, 0.1857]]</td>\n",
       "      <td>[https://thebulletin.org/2020/02/on-the-new-ha...</td>\n",
       "      <td>E</td>\n",
       "      <td>Monday</td>\n",
       "      <td>+1957-06-27T00:00:00Z</td>\n",
       "      <td>United States of America</td>\n",
       "      <td>male</td>\n",
       "      <td>None</td>\n",
       "      <td>[businessperson, organizational founder, phila...</td>\n",
       "      <td>Democratic Party</td>\n",
       "      <td>None</td>\n",
       "      <td>Feb</td>\n",
       "    </tr>\n",
       "    <tr>\n",
       "      <th>207035</th>\n",
       "      <td>2020-02-23-041538</td>\n",
       "      <td>We've been writing about climate change being ...</td>\n",
       "      <td>Lesley Hughes</td>\n",
       "      <td>[Q53473786]</td>\n",
       "      <td>2020-02-23</td>\n",
       "      <td>2</td>\n",
       "      <td>[[Lesley Hughes, 0.9023], [None, 0.0978]]</td>\n",
       "      <td>[https://www.nytimes.com/2020/02/23/world/aust...</td>\n",
       "      <td>E</td>\n",
       "      <td>Sunday</td>\n",
       "      <td>None</td>\n",
       "      <td>Australia</td>\n",
       "      <td>female</td>\n",
       "      <td>None</td>\n",
       "      <td>biologist</td>\n",
       "      <td>None</td>\n",
       "      <td>None</td>\n",
       "      <td>Feb</td>\n",
       "    </tr>\n",
       "  </tbody>\n",
       "</table>\n",
       "<p>207036 rows × 18 columns</p>\n",
       "</div>"
      ],
      "text/plain": [
       "                  quoteID                                          quotation  \\\n",
       "0       2015-02-09-029204  I want him to be Prime Minister because he sup...   \n",
       "1       2015-01-26-037174  It is encouraging that they are backing their ...   \n",
       "2       2015-07-22-062083  Labor's ambition is to see 50% of our electric...   \n",
       "3       2015-09-28-067347  man-made emissions are an insignificant part o...   \n",
       "4       2015-07-28-039461  I suppose Prime Minister Modi will decide at t...   \n",
       "...                   ...                                                ...   \n",
       "207031  2020-02-21-007763  Both urgent and long-term actions are needed t...   \n",
       "207032  2020-04-10-020959  If we re-elect Donald Trump because we have tu...   \n",
       "207033  2020-04-11-013559  I'm talking about telling the fossil fuel indu...   \n",
       "207034  2020-02-10-057505  Obama got health care, Trump got his tax cut, ...   \n",
       "207035  2020-02-23-041538  We've been writing about climate change being ...   \n",
       "\n",
       "                 speaker                                               qids  \\\n",
       "0                   None                                                 []   \n",
       "1                   None                                                 []   \n",
       "2           Bill Shorten                                         [Q4910865]   \n",
       "3           John Abraham  [Q313025, Q3180862, Q47503507, Q6218074, Q6324...   \n",
       "4       Laurence Tubiana                                         [Q3218947]   \n",
       "...                  ...                                                ...   \n",
       "207031              None                                                 []   \n",
       "207032              None                                                 []   \n",
       "207033    Bernie Sanders                                          [Q359442]   \n",
       "207034        Tom Steyer                                        [Q16189531]   \n",
       "207035     Lesley Hughes                                        [Q53473786]   \n",
       "\n",
       "              date  numOccurrences  \\\n",
       "0       2015-02-09               1   \n",
       "1       2015-01-26               1   \n",
       "2       2015-07-22               2   \n",
       "3       2015-09-28               1   \n",
       "4       2015-07-28               2   \n",
       "...            ...             ...   \n",
       "207031  2020-02-21               1   \n",
       "207032  2020-04-10               1   \n",
       "207033  2020-04-11               2   \n",
       "207034  2020-02-10               1   \n",
       "207035  2020-02-23               2   \n",
       "\n",
       "                                                   probas  \\\n",
       "0            [[None, 0.8177], [Malcolm Turnbull, 0.1823]]   \n",
       "1             [[None, 0.7101], [President Obama, 0.2899]]   \n",
       "2                [[Bill Shorten, 0.8927], [None, 0.1073]]   \n",
       "3       [[John Abraham, 0.6469], [None, 0.3092], [Will...   \n",
       "4            [[Laurence Tubiana, 0.9432], [None, 0.0568]]   \n",
       "...                                                   ...   \n",
       "207031         [[None, 0.7482], [Greta Thunberg, 0.2518]]   \n",
       "207032  [[None, 0.5234], [Mike Doyle, 0.4509], [Jim Bu...   \n",
       "207033  [[Bernie Sanders, 0.5636], [None, 0.3044], [Jo...   \n",
       "207034             [[Tom Steyer, 0.8143], [None, 0.1857]]   \n",
       "207035          [[Lesley Hughes, 0.9023], [None, 0.0978]]   \n",
       "\n",
       "                                                     urls phase        day  \\\n",
       "0       [http://sbs.com.au/comedy/article/2015/02/09/w...     E     Monday   \n",
       "1       [http://www.theclimategroup.org/what-we-do/new...     E     Monday   \n",
       "2       [http://feeds.theguardian.com/c/34708/f/663879...     E  Wednesday   \n",
       "3         [http://www.desmogblog.com/donors-capital-fund]     E     Monday   \n",
       "4       [http://economictimes.indiatimes.com/news/poli...     E    Tuesday   \n",
       "...                                                   ...   ...        ...   \n",
       "207031  [http://feeds.inquisitr.com/~r/google/yDYq/~3/...     E     Friday   \n",
       "207032  [http://wesa.fm/post/mike-doyle-face-progressi...     E     Friday   \n",
       "207033  [https://www.commondreams.org/views/2020/04/11...     E   Saturday   \n",
       "207034  [https://thebulletin.org/2020/02/on-the-new-ha...     E     Monday   \n",
       "207035  [https://www.nytimes.com/2020/02/23/world/aust...     E     Sunday   \n",
       "\n",
       "                date_of_birth                  nationality  gender  \\\n",
       "0                        None                         None    None   \n",
       "1                        None                         None    None   \n",
       "2       +1967-05-12T00:00:00Z  [Australia, United Kingdom]    male   \n",
       "3                        None                         None    None   \n",
       "4       +1951-07-05T00:00:00Z                       France  female   \n",
       "...                       ...                          ...     ...   \n",
       "207031                   None                         None    None   \n",
       "207032                   None                         None    None   \n",
       "207033  +1941-09-08T00:00:00Z     United States of America    male   \n",
       "207034  +1957-06-27T00:00:00Z     United States of America    male   \n",
       "207035                   None                    Australia  female   \n",
       "\n",
       "         ethnic_group                                         occupation  \\\n",
       "0                None                                               None   \n",
       "1                None                                               None   \n",
       "2                None               [politician, lawyer, trade unionist]   \n",
       "3                None                                               None   \n",
       "4                None                    [economist, university teacher]   \n",
       "...               ...                                                ...   \n",
       "207031           None                                               None   \n",
       "207032           None                                               None   \n",
       "207033  Jewish people  [politician, journalist, carpenter, university...   \n",
       "207034           None  [businessperson, organizational founder, phila...   \n",
       "207035           None                                          biologist   \n",
       "\n",
       "                                                    party religion month  \n",
       "0                                                    None     None   Feb  \n",
       "1                                                    None     None   Jan  \n",
       "2                                  Australian Labor Party     None   Jul  \n",
       "3                                                    None     None   Sep  \n",
       "4                                                    None     None   Jul  \n",
       "...                                                   ...      ...   ...  \n",
       "207031                                               None     None   Feb  \n",
       "207032                                               None     None   Apr  \n",
       "207033  [Liberty Union Party, Democratic Party, indepe...  Judaism   Apr  \n",
       "207034                                   Democratic Party     None   Feb  \n",
       "207035                                               None     None   Feb  \n",
       "\n",
       "[207036 rows x 18 columns]"
      ]
     },
     "execution_count": 8,
     "metadata": {},
     "output_type": "execute_result"
    }
   ],
   "source": [
    "quotes_all_years"
   ]
  },
  {
   "cell_type": "markdown",
   "id": "3655f201",
   "metadata": {},
   "source": [
    "### Here create a serie containing the number of quotations per day in descending order "
   ]
  },
  {
   "cell_type": "code",
   "execution_count": 9,
   "id": "e16e0252",
   "metadata": {},
   "outputs": [
    {
     "data": {
      "text/plain": [
       "date\n",
       "2017-06-02    1098\n",
       "2017-06-01     784\n",
       "2015-11-30     762\n",
       "2019-09-20     701\n",
       "2015-12-01     547\n",
       "2019-09-23     502\n",
       "2019-09-19     464\n",
       "2019-09-24     456\n",
       "2019-09-25     452\n",
       "2017-06-05     372\n",
       "Name: date, dtype: int64"
      ]
     },
     "execution_count": 9,
     "metadata": {},
     "output_type": "execute_result"
    }
   ],
   "source": [
    "quotes_date_occurence = quotes_all_years.groupby('date').date.count()\n",
    "quotes_date_occurence = quotes_date_occurence.sort_values(ascending= False)\n",
    "quotes_date_occurence.head(10)"
   ]
  },
  {
   "cell_type": "markdown",
   "id": "facd0620",
   "metadata": {},
   "source": [
    "## Plot of the quotations reported per month"
   ]
  },
  {
   "cell_type": "code",
   "execution_count": 10,
   "id": "5af6eb2f",
   "metadata": {},
   "outputs": [
    {
     "data": {
      "text/plain": [
       "Text(-9.075000000000003, 0.5, 'Count')"
      ]
     },
     "execution_count": 10,
     "metadata": {},
     "output_type": "execute_result"
    },
    {
     "data": {
      "image/png": "[encoded data removed]",
      "text/plain": [
       "<Figure size 360x360 with 1 Axes>"
      ]
     },
     "metadata": {
      "needs_background": "light"
     },
     "output_type": "display_data"
    }
   ],
   "source": [
    "sns.displot(quotes_all_years['month'])\n",
    "plt.title('Quotations reported per month')\n",
    "plt.xlabel(\"Months\")\n",
    "plt.ylabel(\"Count\")"
   ]
  },
  {
   "cell_type": "markdown",
   "id": "834f6fad",
   "metadata": {},
   "source": [
    "### We then select  the quotations reported on peak days "
   ]
  },
  {
   "cell_type": "code",
   "execution_count": 11,
   "id": "2d4692b7",
   "metadata": {},
   "outputs": [
    {
     "data": {
      "text/html": [
       "<div>\n",
       "<style scoped>\n",
       "    .dataframe tbody tr th:only-of-type {\n",
       "        vertical-align: middle;\n",
       "    }\n",
       "\n",
       "    .dataframe tbody tr th {\n",
       "        vertical-align: top;\n",
       "    }\n",
       "\n",
       "    .dataframe thead th {\n",
       "        text-align: right;\n",
       "    }\n",
       "</style>\n",
       "<table border=\"1\" class=\"dataframe\">\n",
       "  <thead>\n",
       "    <tr style=\"text-align: right;\">\n",
       "      <th></th>\n",
       "      <th>quoteID</th>\n",
       "      <th>quotation</th>\n",
       "      <th>speaker</th>\n",
       "      <th>qids</th>\n",
       "      <th>date</th>\n",
       "      <th>numOccurrences</th>\n",
       "      <th>probas</th>\n",
       "      <th>urls</th>\n",
       "      <th>phase</th>\n",
       "      <th>day</th>\n",
       "      <th>date_of_birth</th>\n",
       "      <th>nationality</th>\n",
       "      <th>gender</th>\n",
       "      <th>ethnic_group</th>\n",
       "      <th>occupation</th>\n",
       "      <th>party</th>\n",
       "      <th>religion</th>\n",
       "      <th>month</th>\n",
       "    </tr>\n",
       "  </thead>\n",
       "  <tbody>\n",
       "    <tr>\n",
       "      <th>0</th>\n",
       "      <td>2015-11-30-137589</td>\n",
       "      <td>Women of Color Speak Out -- Climate Change and...</td>\n",
       "      <td>None</td>\n",
       "      <td>[]</td>\n",
       "      <td>2015-11-30</td>\n",
       "      <td>1</td>\n",
       "      <td>[[None, 0.9592], [Yin Yu, 0.0408]]</td>\n",
       "      <td>[http://www.nwasianweekly.com/2015/11/presenta...</td>\n",
       "      <td>E</td>\n",
       "      <td>Monday</td>\n",
       "      <td>None</td>\n",
       "      <td>None</td>\n",
       "      <td>None</td>\n",
       "      <td>None</td>\n",
       "      <td>None</td>\n",
       "      <td>None</td>\n",
       "      <td>None</td>\n",
       "      <td>Nov</td>\n",
       "    </tr>\n",
       "    <tr>\n",
       "      <th>1</th>\n",
       "      <td>2015-12-01-053425</td>\n",
       "      <td>In an attempt to score a cheap political point...</td>\n",
       "      <td>Tanya Plibersek</td>\n",
       "      <td>[Q7684036]</td>\n",
       "      <td>2015-12-01</td>\n",
       "      <td>2</td>\n",
       "      <td>[[Tanya Plibersek, 0.8804], [None, 0.1196]]</td>\n",
       "      <td>[http://www.news.com.au/national/politics/juli...</td>\n",
       "      <td>E</td>\n",
       "      <td>Tuesday</td>\n",
       "      <td>+1969-12-02T00:00:00Z</td>\n",
       "      <td>Australia</td>\n",
       "      <td>female</td>\n",
       "      <td>None</td>\n",
       "      <td>politician</td>\n",
       "      <td>Australian Labor Party</td>\n",
       "      <td>None</td>\n",
       "      <td>Dec</td>\n",
       "    </tr>\n",
       "    <tr>\n",
       "      <th>2</th>\n",
       "      <td>2015-12-01-095724</td>\n",
       "      <td>The climate change that we need is the climate...</td>\n",
       "      <td>Mike Huckabee</td>\n",
       "      <td>[Q158813]</td>\n",
       "      <td>2015-12-01</td>\n",
       "      <td>1</td>\n",
       "      <td>[[Mike Huckabee, 0.7624], [Chris Christie, 0.2...</td>\n",
       "      <td>[http://northjersey.com/news/christie-climate-...</td>\n",
       "      <td>E</td>\n",
       "      <td>Tuesday</td>\n",
       "      <td>+1955-08-24T00:00:00Z</td>\n",
       "      <td>United States of America</td>\n",
       "      <td>male</td>\n",
       "      <td>None</td>\n",
       "      <td>[radio personality, politician, musician, writer]</td>\n",
       "      <td>Republican Party</td>\n",
       "      <td>Southern Baptist Convention</td>\n",
       "      <td>Dec</td>\n",
       "    </tr>\n",
       "    <tr>\n",
       "      <th>3</th>\n",
       "      <td>2015-11-30-138917</td>\n",
       "      <td>You can make a very reasonable argument that c...</td>\n",
       "      <td>Bill Nye</td>\n",
       "      <td>[Q2619019]</td>\n",
       "      <td>2015-11-30</td>\n",
       "      <td>3</td>\n",
       "      <td>[[Bill Nye, 0.7559], [None, 0.1992], [Presiden...</td>\n",
       "      <td>[http://feeds.huffingtonpost.com/c/35496/f/677...</td>\n",
       "      <td>E</td>\n",
       "      <td>Monday</td>\n",
       "      <td>+1955-11-27T00:00:00Z</td>\n",
       "      <td>United States of America</td>\n",
       "      <td>male</td>\n",
       "      <td>None</td>\n",
       "      <td>[engineer, physicist, educator, writer, actor]</td>\n",
       "      <td>Democratic Party</td>\n",
       "      <td>None</td>\n",
       "      <td>Nov</td>\n",
       "    </tr>\n",
       "    <tr>\n",
       "      <th>4</th>\n",
       "      <td>2015-11-30-077809</td>\n",
       "      <td>only acceptable decision by EPA would have bee...</td>\n",
       "      <td>None</td>\n",
       "      <td>[]</td>\n",
       "      <td>2015-11-30</td>\n",
       "      <td>1</td>\n",
       "      <td>[[None, 0.9566], [President Obama, 0.0434]]</td>\n",
       "      <td>[http://pantagraph.com/business/epa-boosts-use...</td>\n",
       "      <td>E</td>\n",
       "      <td>Monday</td>\n",
       "      <td>None</td>\n",
       "      <td>None</td>\n",
       "      <td>None</td>\n",
       "      <td>None</td>\n",
       "      <td>None</td>\n",
       "      <td>None</td>\n",
       "      <td>None</td>\n",
       "      <td>Nov</td>\n",
       "    </tr>\n",
       "    <tr>\n",
       "      <th>...</th>\n",
       "      <td>...</td>\n",
       "      <td>...</td>\n",
       "      <td>...</td>\n",
       "      <td>...</td>\n",
       "      <td>...</td>\n",
       "      <td>...</td>\n",
       "      <td>...</td>\n",
       "      <td>...</td>\n",
       "      <td>...</td>\n",
       "      <td>...</td>\n",
       "      <td>...</td>\n",
       "      <td>...</td>\n",
       "      <td>...</td>\n",
       "      <td>...</td>\n",
       "      <td>...</td>\n",
       "      <td>...</td>\n",
       "      <td>...</td>\n",
       "      <td>...</td>\n",
       "    </tr>\n",
       "    <tr>\n",
       "      <th>6133</th>\n",
       "      <td>2019-09-23-020326</td>\n",
       "      <td>Good intentions and recycled commitments will ...</td>\n",
       "      <td>Winnie Byanyima</td>\n",
       "      <td>[Q21759]</td>\n",
       "      <td>2019-09-23</td>\n",
       "      <td>1</td>\n",
       "      <td>[[Winnie Byanyima, 0.8078], [None, 0.1922]]</td>\n",
       "      <td>[http://www.aljazeera.com/ajimpact/fuel-flames...</td>\n",
       "      <td>E</td>\n",
       "      <td>Monday</td>\n",
       "      <td>+1959-01-13T00:00:00Z</td>\n",
       "      <td>Uganda</td>\n",
       "      <td>female</td>\n",
       "      <td>Ankole</td>\n",
       "      <td>[engineer, politician, diplomat, entrepreneur,...</td>\n",
       "      <td>Forum for Democratic Change</td>\n",
       "      <td>Catholicism</td>\n",
       "      <td>Sep</td>\n",
       "    </tr>\n",
       "    <tr>\n",
       "      <th>6134</th>\n",
       "      <td>2019-09-24-089940</td>\n",
       "      <td>There are many items on the climate change age...</td>\n",
       "      <td>Jerry Brown</td>\n",
       "      <td>[Q152451, Q717620]</td>\n",
       "      <td>2019-09-24</td>\n",
       "      <td>1</td>\n",
       "      <td>[[Jerry Brown, 0.603], [None, 0.397]]</td>\n",
       "      <td>[https://www.dailycal.org/2019/09/23/uc-berkel...</td>\n",
       "      <td>E</td>\n",
       "      <td>Tuesday</td>\n",
       "      <td>None</td>\n",
       "      <td>None</td>\n",
       "      <td>None</td>\n",
       "      <td>None</td>\n",
       "      <td>None</td>\n",
       "      <td>None</td>\n",
       "      <td>None</td>\n",
       "      <td>Sep</td>\n",
       "    </tr>\n",
       "    <tr>\n",
       "      <th>6135</th>\n",
       "      <td>2019-09-19-048143</td>\n",
       "      <td>In signing the Paris Agreement, national gover...</td>\n",
       "      <td>Christiana Figueres</td>\n",
       "      <td>[Q518828]</td>\n",
       "      <td>2019-09-19</td>\n",
       "      <td>1</td>\n",
       "      <td>[[Christiana Figueres, 0.7789], [None, 0.2211]]</td>\n",
       "      <td>[https://www.wri.org/news/2019/09/release-new-...</td>\n",
       "      <td>E</td>\n",
       "      <td>Thursday</td>\n",
       "      <td>+1956-08-07T00:00:00Z</td>\n",
       "      <td>Costa Rica</td>\n",
       "      <td>female</td>\n",
       "      <td>None</td>\n",
       "      <td>[diplomat, economist, politician, climate acti...</td>\n",
       "      <td>National Liberation Party</td>\n",
       "      <td>None</td>\n",
       "      <td>Sep</td>\n",
       "    </tr>\n",
       "    <tr>\n",
       "      <th>6136</th>\n",
       "      <td>2019-09-20-062658</td>\n",
       "      <td>Not only is it a climate crisis, but it's a cl...</td>\n",
       "      <td>Steve Bullock</td>\n",
       "      <td>[Q24015, Q7612088, Q7612089]</td>\n",
       "      <td>2019-09-20</td>\n",
       "      <td>1</td>\n",
       "      <td>[[Steve Bullock, 0.7709], [None, 0.2291]]</td>\n",
       "      <td>[https://thehoya.com/day-2-climate-forum-2020-...</td>\n",
       "      <td>E</td>\n",
       "      <td>Friday</td>\n",
       "      <td>None</td>\n",
       "      <td>None</td>\n",
       "      <td>None</td>\n",
       "      <td>None</td>\n",
       "      <td>None</td>\n",
       "      <td>None</td>\n",
       "      <td>None</td>\n",
       "      <td>Sep</td>\n",
       "    </tr>\n",
       "    <tr>\n",
       "      <th>6137</th>\n",
       "      <td>2019-09-25-081970</td>\n",
       "      <td>That constructive conversation (about climate ...</td>\n",
       "      <td>Katharine Hayhoe</td>\n",
       "      <td>[Q15429497]</td>\n",
       "      <td>2019-09-25</td>\n",
       "      <td>2</td>\n",
       "      <td>[[Katharine Hayhoe, 0.7118], [None, 0.2882]]</td>\n",
       "      <td>[https://asunow.asu.edu/20190920-arizona-impac...</td>\n",
       "      <td>E</td>\n",
       "      <td>Wednesday</td>\n",
       "      <td>+1972-04-15T00:00:00Z</td>\n",
       "      <td>Canada</td>\n",
       "      <td>female</td>\n",
       "      <td>None</td>\n",
       "      <td>[political scientist, academic, naturalist, en...</td>\n",
       "      <td>None</td>\n",
       "      <td>None</td>\n",
       "      <td>Sep</td>\n",
       "    </tr>\n",
       "  </tbody>\n",
       "</table>\n",
       "<p>6138 rows × 18 columns</p>\n",
       "</div>"
      ],
      "text/plain": [
       "                quoteID                                          quotation  \\\n",
       "0     2015-11-30-137589  Women of Color Speak Out -- Climate Change and...   \n",
       "1     2015-12-01-053425  In an attempt to score a cheap political point...   \n",
       "2     2015-12-01-095724  The climate change that we need is the climate...   \n",
       "3     2015-11-30-138917  You can make a very reasonable argument that c...   \n",
       "4     2015-11-30-077809  only acceptable decision by EPA would have bee...   \n",
       "...                 ...                                                ...   \n",
       "6133  2019-09-23-020326  Good intentions and recycled commitments will ...   \n",
       "6134  2019-09-24-089940  There are many items on the climate change age...   \n",
       "6135  2019-09-19-048143  In signing the Paris Agreement, national gover...   \n",
       "6136  2019-09-20-062658  Not only is it a climate crisis, but it's a cl...   \n",
       "6137  2019-09-25-081970  That constructive conversation (about climate ...   \n",
       "\n",
       "                  speaker                          qids        date  \\\n",
       "0                    None                            []  2015-11-30   \n",
       "1         Tanya Plibersek                    [Q7684036]  2015-12-01   \n",
       "2           Mike Huckabee                     [Q158813]  2015-12-01   \n",
       "3                Bill Nye                    [Q2619019]  2015-11-30   \n",
       "4                    None                            []  2015-11-30   \n",
       "...                   ...                           ...         ...   \n",
       "6133      Winnie Byanyima                      [Q21759]  2019-09-23   \n",
       "6134          Jerry Brown            [Q152451, Q717620]  2019-09-24   \n",
       "6135  Christiana Figueres                     [Q518828]  2019-09-19   \n",
       "6136        Steve Bullock  [Q24015, Q7612088, Q7612089]  2019-09-20   \n",
       "6137     Katharine Hayhoe                   [Q15429497]  2019-09-25   \n",
       "\n",
       "      numOccurrences                                             probas  \\\n",
       "0                  1                 [[None, 0.9592], [Yin Yu, 0.0408]]   \n",
       "1                  2        [[Tanya Plibersek, 0.8804], [None, 0.1196]]   \n",
       "2                  1  [[Mike Huckabee, 0.7624], [Chris Christie, 0.2...   \n",
       "3                  3  [[Bill Nye, 0.7559], [None, 0.1992], [Presiden...   \n",
       "4                  1        [[None, 0.9566], [President Obama, 0.0434]]   \n",
       "...              ...                                                ...   \n",
       "6133               1        [[Winnie Byanyima, 0.8078], [None, 0.1922]]   \n",
       "6134               1              [[Jerry Brown, 0.603], [None, 0.397]]   \n",
       "6135               1    [[Christiana Figueres, 0.7789], [None, 0.2211]]   \n",
       "6136               1          [[Steve Bullock, 0.7709], [None, 0.2291]]   \n",
       "6137               2       [[Katharine Hayhoe, 0.7118], [None, 0.2882]]   \n",
       "\n",
       "                                                   urls phase        day  \\\n",
       "0     [http://www.nwasianweekly.com/2015/11/presenta...     E     Monday   \n",
       "1     [http://www.news.com.au/national/politics/juli...     E    Tuesday   \n",
       "2     [http://northjersey.com/news/christie-climate-...     E    Tuesday   \n",
       "3     [http://feeds.huffingtonpost.com/c/35496/f/677...     E     Monday   \n",
       "4     [http://pantagraph.com/business/epa-boosts-use...     E     Monday   \n",
       "...                                                 ...   ...        ...   \n",
       "6133  [http://www.aljazeera.com/ajimpact/fuel-flames...     E     Monday   \n",
       "6134  [https://www.dailycal.org/2019/09/23/uc-berkel...     E    Tuesday   \n",
       "6135  [https://www.wri.org/news/2019/09/release-new-...     E   Thursday   \n",
       "6136  [https://thehoya.com/day-2-climate-forum-2020-...     E     Friday   \n",
       "6137  [https://asunow.asu.edu/20190920-arizona-impac...     E  Wednesday   \n",
       "\n",
       "              date_of_birth               nationality  gender ethnic_group  \\\n",
       "0                      None                      None    None         None   \n",
       "1     +1969-12-02T00:00:00Z                 Australia  female         None   \n",
       "2     +1955-08-24T00:00:00Z  United States of America    male         None   \n",
       "3     +1955-11-27T00:00:00Z  United States of America    male         None   \n",
       "4                      None                      None    None         None   \n",
       "...                     ...                       ...     ...          ...   \n",
       "6133  +1959-01-13T00:00:00Z                    Uganda  female       Ankole   \n",
       "6134                   None                      None    None         None   \n",
       "6135  +1956-08-07T00:00:00Z                Costa Rica  female         None   \n",
       "6136                   None                      None    None         None   \n",
       "6137  +1972-04-15T00:00:00Z                    Canada  female         None   \n",
       "\n",
       "                                             occupation  \\\n",
       "0                                                  None   \n",
       "1                                            politician   \n",
       "2     [radio personality, politician, musician, writer]   \n",
       "3        [engineer, physicist, educator, writer, actor]   \n",
       "4                                                  None   \n",
       "...                                                 ...   \n",
       "6133  [engineer, politician, diplomat, entrepreneur,...   \n",
       "6134                                               None   \n",
       "6135  [diplomat, economist, politician, climate acti...   \n",
       "6136                                               None   \n",
       "6137  [political scientist, academic, naturalist, en...   \n",
       "\n",
       "                            party                     religion month  \n",
       "0                            None                         None   Nov  \n",
       "1          Australian Labor Party                         None   Dec  \n",
       "2                Republican Party  Southern Baptist Convention   Dec  \n",
       "3                Democratic Party                         None   Nov  \n",
       "4                            None                         None   Nov  \n",
       "...                           ...                          ...   ...  \n",
       "6133  Forum for Democratic Change                  Catholicism   Sep  \n",
       "6134                         None                         None   Sep  \n",
       "6135    National Liberation Party                         None   Sep  \n",
       "6136                         None                         None   Sep  \n",
       "6137                         None                         None   Sep  \n",
       "\n",
       "[6138 rows x 18 columns]"
      ]
     },
     "execution_count": 11,
     "metadata": {},
     "output_type": "execute_result"
    }
   ],
   "source": [
    "top_ten_days = quotes_date_occurence.index[:10].astype(str)\n",
    "quotations_peak  = quotes_all_years[quotes_all_years['date'].astype(str).apply(lambda x: x in top_ten_days.to_list())]\n",
    "quotations_peak.reset_index(drop = True, inplace = True)\n",
    "quotations_peak"
   ]
  },
  {
   "cell_type": "markdown",
   "id": "462f697f",
   "metadata": {},
   "source": [
    "## Plot of the number of quotations reported per day "
   ]
  },
  {
   "cell_type": "code",
   "execution_count": 12,
   "id": "692cb870",
   "metadata": {},
   "outputs": [],
   "source": [
    "#number = list(set(quotes_norm.date.astype(str)) & set(quotes_all_years.date.unique().astype(str)))\n",
    "#quotes_norm[quotes_norm.date.astype(str) == number ]\n",
    "#quotes_norm[list(set(quotes_norm.date.astype(str)) & set(quotes_all_years.date.unique().astype(str)))]\n",
    "\n",
    "\n"
   ]
  },
  {
   "cell_type": "code",
   "execution_count": 13,
   "id": "a3076b02",
   "metadata": {},
   "outputs": [
    {
     "data": {
      "text/plain": [
       "Text(0.5, 1.0, 'Number of quotations reported per day ')"
      ]
     },
     "execution_count": 13,
     "metadata": {},
     "output_type": "execute_result"
    },
    {
     "data": {
      "image/png": "[encoded data removed]",
      "text/plain": [
       "<Figure size 432x288 with 1 Axes>"
      ]
     },
     "metadata": {
      "needs_background": "light"
     },
     "output_type": "display_data"
    }
   ],
   "source": [
    "sns.histplot(quotes_all_years['date'],label = \"Whole dataset\", bins =5*365, kde = True)\n",
    "sns.histplot(quotations_peak['date'], color = 'red',label = \"Peaks\") \n",
    "plt.xticks(rotation= 45 )\n",
    "plt.xlabel('Dates')\n",
    "plt.ylabel('Count')\n",
    "plt.legend()\n",
    "\n",
    "plt.title('Number of quotations reported per day ')"
   ]
  },
  {
   "cell_type": "markdown",
   "id": "1f98acf8",
   "metadata": {},
   "source": [
    "## sorting"
   ]
  },
  {
   "cell_type": "code",
   "execution_count": 14,
   "id": "c1063bbb",
   "metadata": {},
   "outputs": [],
   "source": [
    "dates_sorted = quotes_norm.sort_values(by=['date']).date\n",
    "dates_sorted.reset_index(drop = True, inplace = True)"
   ]
  },
  {
   "cell_type": "markdown",
   "id": "dab28966",
   "metadata": {},
   "source": [
    "## Volume"
   ]
  },
  {
   "cell_type": "code",
   "execution_count": 15,
   "id": "c730712a",
   "metadata": {},
   "outputs": [],
   "source": [
    "quotes_2015 = quotes_all_years[quotes_all_years['date'].astype(str).str.contains(\"2015\")]\n",
    "quotes_norm_2015 = quotes_norm[quotes_norm.date.astype(str).str.contains(\"2015\")]\n",
    "\n",
    "quotes_2016 = quotes_all_years[quotes_all_years['date'].astype(str).str.contains(\"2016\")]\n",
    "quotes_norm_2016 = quotes_norm[quotes_norm.date.astype(str).str.contains(\"2016\")]\n",
    "\n",
    "quotes_2017 = quotes_all_years[quotes_all_years['date'].astype(str).str.contains(\"2017\")]\n",
    "quotes_norm_2017 = quotes_norm[quotes_norm.date.astype(str).str.contains(\"2017\")]\n",
    "\n",
    "quotes_2018 = quotes_all_years[quotes_all_years['date'].astype(str).str.contains(\"2018\")]\n",
    "quotes_norm_2018 = quotes_norm[quotes_norm.date.astype(str).str.contains(\"2018\")]\n",
    "\n",
    "quotes_2019 = quotes_all_years[quotes_all_years['date'].astype(str).str.contains(\"2019\")]\n",
    "quotes_norm_2019 = quotes_norm[quotes_norm.date.astype(str).str.contains(\"2019\")]\n",
    "\n",
    "quotes_2020 = quotes_all_years[quotes_all_years['date'].astype(str).str.contains(\"2020\")]\n",
    "quotes_norm_2020 = quotes_norm[quotes_norm.date.astype(str).str.contains(\"2020\")]\n",
    "\n"
   ]
  },
  {
   "cell_type": "code",
   "execution_count": 16,
   "id": "b74684e2",
   "metadata": {},
   "outputs": [
    {
     "name": "stdout",
     "output_type": "stream",
     "text": [
      "The proportion of days where there  is at least one article on climate during the whole study is 97.47% \n",
      "\n",
      "The proportion of days where there  is at least one article on climate  is 99.73%  in 2015\n",
      "\n",
      "The proportion of days where there  is at least one article on climate  is 89.07%  in 2016\n",
      "\n",
      "The proportion of days where there  is at least one article on climate  is 97.81%  in 2017\n",
      "\n",
      "The proportion of days where there  is at least one article on climate  is 100.00%  in 2018\n",
      "\n",
      "The proportion of days where there  is at least one article on climate  is 100.00%  in 2019\n",
      "\n",
      "The proportion of days where there  is at least one article on climate  is 100.00%  in 2020\n"
     ]
    }
   ],
   "source": [
    "prop_articles_all_years = (len(quotes_all_years['date'].unique()))/len(quotes_norm)\n",
    "prop_articles_2015 = (len(quotes_2015['date'].unique()))/len(quotes_norm_2015)\n",
    "prop_articles_2016 = (len(quotes_2016['date'].unique()))/len(quotes_norm_2016)\n",
    "prop_articles_2017 = (len(quotes_2017['date'].unique()))/len(quotes_norm_2017)\n",
    "prop_articles_2018 = (len(quotes_2018['date'].unique()))/len(quotes_norm_2018)\n",
    "prop_articles_2019 = (len(quotes_2019['date'].unique()))/len(quotes_norm_2019)\n",
    "prop_articles_2020 = (len(quotes_2020['date'].unique()))/len(quotes_norm_2020)\n",
    "\n",
    "print(\"The proportion of days where there  is at least one article on climate during the whole study is {:.2%} \\n\".format(prop_articles_all_years))\n",
    "print(\"The proportion of days where there  is at least one article on climate  is {:.2%}  in 2015\\n\".format(prop_articles_2015))\n",
    "print(\"The proportion of days where there  is at least one article on climate  is {:.2%}  in 2016\\n\".format(prop_articles_2016))\n",
    "print(\"The proportion of days where there  is at least one article on climate  is {:.2%}  in 2017\\n\".format(prop_articles_2017))\n",
    "print(\"The proportion of days where there  is at least one article on climate  is {:.2%}  in 2018\\n\".format(prop_articles_2018))\n",
    "print(\"The proportion of days where there  is at least one article on climate  is {:.2%}  in 2019\\n\".format(prop_articles_2019))\n",
    "print(\"The proportion of days where there  is at least one article on climate  is {:.2%}  in 2020\".format(prop_articles_2020))\n",
    "\n"
   ]
  },
  {
   "cell_type": "code",
   "execution_count": 17,
   "id": "39349024",
   "metadata": {},
   "outputs": [
    {
     "data": {
      "text/plain": [
       "Text(0, 0.5, 'Proportion')"
      ]
     },
     "execution_count": 17,
     "metadata": {},
     "output_type": "execute_result"
    },
    {
     "data": {
      "image/png": "[encoded data removed]",
      "text/plain": [
       "<Figure size 432x288 with 1 Axes>"
      ]
     },
     "metadata": {
      "needs_background": "light"
     },
     "output_type": "display_data"
    }
   ],
   "source": [
    "plt.bar(\"All years\",prop_articles_all_years, color = 'red', alpha = 0.6)\n",
    "ax = plt.bar('2015',prop_articles_2015, color = 'blue', alpha = 0.75)\n",
    "ax = plt.bar('2016',prop_articles_2016, color = 'blue', alpha = 0.4)\n",
    "ax = plt.bar('2017',prop_articles_2017,color = 'blue',alpha = 0.6 )\n",
    "ax = plt.bar('2018',prop_articles_2018,color = 'blue', alpha = 0.8)\n",
    "ax = plt.bar('2019',prop_articles_2019,color = 'blue', alpha = 0.8)\n",
    "ax = plt.bar('2020',prop_articles_2020,color = 'blue', alpha = 0.8)\n",
    "plt.title(\"Proportions of days with articles on climate\")\n",
    "plt.xlabel('Year')\n",
    "plt.ylabel(\"Proportion\")\n"
   ]
  },
  {
   "cell_type": "markdown",
   "id": "dd62779b",
   "metadata": {},
   "source": [
    "## Trump"
   ]
  },
  {
   "cell_type": "markdown",
   "id": "84f65f70",
   "metadata": {},
   "source": [
    "#### Month"
   ]
  },
  {
   "cell_type": "code",
   "execution_count": 18,
   "id": "6206fa64",
   "metadata": {},
   "outputs": [],
   "source": [
    "quotes_Trump_Paris_Agreement = quotes_all_years[quotes_all_years['date'].astype(str) == '2017-06-02']\n",
    "quotes_Trump_Paris_Agreement.reset_index(drop = True, inplace = True)\n",
    "quotes_month_Trump_Paris_Agreement = quotes_2017[pd.to_datetime(quotes_2017.date).dt.month == 6]\n",
    "quotes_month_Trump_Paris_Agreement.reset_index(drop = True, inplace = True)\n",
    "\n",
    "\n",
    "                                                                                                    "
   ]
  },
  {
   "cell_type": "code",
   "execution_count": 19,
   "id": "3f46271d",
   "metadata": {},
   "outputs": [
    {
     "data": {
      "text/plain": [
       "Text(0.5, 1.0, 'Number of quotations reported per day for the month of June')"
      ]
     },
     "execution_count": 19,
     "metadata": {},
     "output_type": "execute_result"
    },
    {
     "data": {
      "image/png": "[encoded data removed]",
      "text/plain": [
       "<Figure size 432x288 with 1 Axes>"
      ]
     },
     "metadata": {
      "needs_background": "light"
     },
     "output_type": "display_data"
    }
   ],
   "source": [
    "sns.histplot(quotes_month_Trump_Paris_Agreement['date'],label = \"Month of June\", bins =len(quotes_month_Trump_Paris_Agreement), kde = True)\n",
    "sns.histplot(quotes_Trump_Paris_Agreement['date'], color = 'red',label = \"Peak\") \n",
    "plt.xticks(rotation= 45 )\n",
    "plt.xlabel('Dates')\n",
    "plt.ylabel('Count')\n",
    "plt.legend()\n",
    "\n",
    "plt.title('Number of quotations reported per day for the month of June')"
   ]
  },
  {
   "cell_type": "markdown",
   "id": "b1a0ddb4",
   "metadata": {},
   "source": [
    "#### Week"
   ]
  },
  {
   "cell_type": "code",
   "execution_count": 20,
   "id": "dee2985b",
   "metadata": {},
   "outputs": [],
   "source": [
    "index_date_trump = dates_sorted[dates_sorted == '2017-06-02'].index[0]\n",
    "min_trump = index_date_trump-7\n",
    "max_trump = index_date_trump+7-1\n",
    "date_min_trump = dates_sorted[min_trump]\n",
    "date_max_trump = dates_sorted[max_trump]\n",
    "\n",
    "interval_week_trump = quotes_all_years[(quotes_all_years['date'] >= date_min_trump) & \n",
    "                 (quotes_all_years['date'] <= date_max_trump)]\n"
   ]
  },
  {
   "cell_type": "code",
   "execution_count": 21,
   "id": "215fd71f",
   "metadata": {},
   "outputs": [
    {
     "data": {
      "text/plain": [
       "Text(0.5, 1.0, 'Number of quotations reported per day')"
      ]
     },
     "execution_count": 21,
     "metadata": {},
     "output_type": "execute_result"
    },
    {
     "data": {
      "image/png": "[encoded data removed]",
      "text/plain": [
       "<Figure size 432x288 with 1 Axes>"
      ]
     },
     "metadata": {
      "needs_background": "light"
     },
     "output_type": "display_data"
    }
   ],
   "source": [
    "sns.histplot(interval_week_trump['date'],label = \"Week\", bins =len(interval_week_trump), kde = True)\n",
    "sns.histplot(interval_week_trump[interval_week_trump['date'].astype(str) =='2017-06-02'].date, color = 'red',label = \"Peak\") \n",
    "plt.xticks(rotation= 45 )\n",
    "plt.xlabel('Dates')\n",
    "plt.ylabel('Count')\n",
    "plt.legend()\n",
    "\n",
    "plt.title('Number of quotations reported per day')\n"
   ]
  },
  {
   "cell_type": "markdown",
   "id": "a89e5e36",
   "metadata": {},
   "source": [
    "## COP21"
   ]
  },
  {
   "cell_type": "markdown",
   "id": "4e0494be",
   "metadata": {},
   "source": [
    "#### Month"
   ]
  },
  {
   "cell_type": "code",
   "execution_count": 22,
   "id": "66f0ab0e",
   "metadata": {},
   "outputs": [],
   "source": [
    "quotes_cop21 = quotes_all_years[quotes_all_years['date'].astype(str).str.contains('2015-11-30')]\n",
    "quotes_cop21.reset_index(drop = True, inplace = True) \n",
    "quotes_month_cop21= quotes_2015[pd.to_datetime(quotes_2015.date).dt.month == 11 ]\n",
    "quotes_month_cop21.reset_index(drop = True, inplace = True) \n"
   ]
  },
  {
   "cell_type": "code",
   "execution_count": 23,
   "id": "98a18fe1",
   "metadata": {},
   "outputs": [
    {
     "data": {
      "text/plain": [
       "Text(0.5, 1.0, 'Number of quotations reported per day for the month of November ')"
      ]
     },
     "execution_count": 23,
     "metadata": {},
     "output_type": "execute_result"
    },
    {
     "data": {
      "image/png": "[encoded data removed]",
      "text/plain": [
       "<Figure size 432x288 with 1 Axes>"
      ]
     },
     "metadata": {
      "needs_background": "light"
     },
     "output_type": "display_data"
    }
   ],
   "source": [
    "sns.histplot(quotes_month_cop21['date'],label = \"Month of November\", bins =len(quotes_month_cop21), kde = True)\n",
    "sns.histplot(quotes_cop21['date'], color = 'red',label = \"Peak\") \n",
    "plt.xticks(rotation= 45 )\n",
    "plt.xlabel('Dates')\n",
    "plt.ylabel('Count')\n",
    "plt.legend()\n",
    "\n",
    "plt.title('Number of quotations reported per day for the month of November ')"
   ]
  },
  {
   "cell_type": "markdown",
   "id": "bce9b8a4",
   "metadata": {},
   "source": [
    "#### Week"
   ]
  },
  {
   "cell_type": "code",
   "execution_count": 24,
   "id": "74825aea",
   "metadata": {},
   "outputs": [],
   "source": [
    "index_date_cop_21 = dates_sorted[dates_sorted == '2015-11-30'].index[0]\n",
    "min_21 = index_date_cop_21-7\n",
    "max_21 = index_date_cop_21+7-1\n",
    "date_min_21 = dates_sorted[min_21]\n",
    "date_max_21 = dates_sorted[max_21]\n",
    "\n",
    "interval_week_cop_21 = quotes_all_years[(quotes_all_years['date'] >= date_min_21) & \n",
    "                 (quotes_all_years['date'] <= date_max_21)]\n"
   ]
  },
  {
   "cell_type": "code",
   "execution_count": 25,
   "id": "dc8a2018",
   "metadata": {},
   "outputs": [
    {
     "data": {
      "text/plain": [
       "Text(0.5, 1.0, 'Number of quotations reported per day ')"
      ]
     },
     "execution_count": 25,
     "metadata": {},
     "output_type": "execute_result"
    },
    {
     "data": {
      "image/png": "[encoded data removed]",
      "text/plain": [
       "<Figure size 432x288 with 1 Axes>"
      ]
     },
     "metadata": {
      "needs_background": "light"
     },
     "output_type": "display_data"
    }
   ],
   "source": [
    "sns.histplot(interval_week_cop_21['date'],label = \"Week\", bins =len(interval_week_cop_21), kde = True)\n",
    "sns.histplot(interval_week_cop_21[interval_week_cop_21['date'].astype(str) =='2015-11-30'].date, color = 'red',label = \"Peak\") \n",
    "plt.xticks(rotation= 45 )\n",
    "plt.xlabel('Dates')\n",
    "plt.ylabel('Count')\n",
    "plt.legend()\n",
    "\n",
    "plt.title('Number of quotations reported per day ')"
   ]
  },
  {
   "cell_type": "markdown",
   "id": "1e00cf34",
   "metadata": {},
   "source": [
    " # coherence"
   ]
  },
  {
   "cell_type": "code",
   "execution_count": 26,
   "id": "69d294ba",
   "metadata": {},
   "outputs": [],
   "source": [
    "## Pas utilisé mais permet de sortir l'article associé à l'url\n",
    "def url_to_string(url):\n",
    "    res = requests.get(url, timeout = 20,verify=False)\n",
    "    html = res.text\n",
    "    soup = BeautifulSoup(html, 'html5lib')\n",
    "    for script in soup([\"script\", \"style\", 'aside']):\n",
    "        script.extract()\n",
    "    return \" \".join(re.split(r'[\\n\\t]+', soup.get_text()))"
   ]
  },
  {
   "cell_type": "markdown",
   "id": "006124bc",
   "metadata": {},
   "source": [
    "## Trump out of paris agreements"
   ]
  },
  {
   "cell_type": "code",
   "execution_count": 27,
   "id": "2f5e0203",
   "metadata": {},
   "outputs": [
    {
     "name": "stdout",
     "output_type": "stream",
     "text": [
      "1\n"
     ]
    },
    {
     "name": "stderr",
     "output_type": "stream",
     "text": [
      "/Users/adrien/opt/anaconda3/lib/python3.7/site-packages/urllib3/connectionpool.py:1020: InsecureRequestWarning: Unverified HTTPS request is being made to host 'pantagraph.com'. Adding certificate verification is strongly advised. See: https://urllib3.readthedocs.io/en/latest/advanced-usage.html#ssl-warnings\n",
      "  InsecureRequestWarning,\n",
      "/Users/adrien/opt/anaconda3/lib/python3.7/site-packages/urllib3/connectionpool.py:1020: InsecureRequestWarning: Unverified HTTPS request is being made to host 'pantagraph.com'. Adding certificate verification is strongly advised. See: https://urllib3.readthedocs.io/en/latest/advanced-usage.html#ssl-warnings\n",
      "  InsecureRequestWarning,\n"
     ]
    },
    {
     "name": "stdout",
     "output_type": "stream",
     "text": [
      "2\n"
     ]
    },
    {
     "name": "stderr",
     "output_type": "stream",
     "text": [
      "/Users/adrien/opt/anaconda3/lib/python3.7/site-packages/urllib3/connectionpool.py:1020: InsecureRequestWarning: Unverified HTTPS request is being made to host 'uk.reuters.com'. Adding certificate verification is strongly advised. See: https://urllib3.readthedocs.io/en/latest/advanced-usage.html#ssl-warnings\n",
      "  InsecureRequestWarning,\n",
      "/Users/adrien/opt/anaconda3/lib/python3.7/site-packages/urllib3/connectionpool.py:1020: InsecureRequestWarning: Unverified HTTPS request is being made to host 'www.reuters.com'. Adding certificate verification is strongly advised. See: https://urllib3.readthedocs.io/en/latest/advanced-usage.html#ssl-warnings\n",
      "  InsecureRequestWarning,\n",
      "/Users/adrien/opt/anaconda3/lib/python3.7/site-packages/urllib3/connectionpool.py:1020: InsecureRequestWarning: Unverified HTTPS request is being made to host 'uk.reuters.com'. Adding certificate verification is strongly advised. See: https://urllib3.readthedocs.io/en/latest/advanced-usage.html#ssl-warnings\n",
      "  InsecureRequestWarning,\n",
      "/Users/adrien/opt/anaconda3/lib/python3.7/site-packages/urllib3/connectionpool.py:1020: InsecureRequestWarning: Unverified HTTPS request is being made to host 'www.reuters.com'. Adding certificate verification is strongly advised. See: https://urllib3.readthedocs.io/en/latest/advanced-usage.html#ssl-warnings\n",
      "  InsecureRequestWarning,\n"
     ]
    },
    {
     "name": "stdout",
     "output_type": "stream",
     "text": [
      "3\n"
     ]
    },
    {
     "name": "stderr",
     "output_type": "stream",
     "text": [
      "/Users/adrien/opt/anaconda3/lib/python3.7/site-packages/urllib3/connectionpool.py:1020: InsecureRequestWarning: Unverified HTTPS request is being made to host 'www.thedailybeast.com'. Adding certificate verification is strongly advised. See: https://urllib3.readthedocs.io/en/latest/advanced-usage.html#ssl-warnings\n",
      "  InsecureRequestWarning,\n",
      "/Users/adrien/opt/anaconda3/lib/python3.7/site-packages/urllib3/connectionpool.py:1020: InsecureRequestWarning: Unverified HTTPS request is being made to host 'www.thedailybeast.com'. Adding certificate verification is strongly advised. See: https://urllib3.readthedocs.io/en/latest/advanced-usage.html#ssl-warnings\n",
      "  InsecureRequestWarning,\n",
      "/Users/adrien/opt/anaconda3/lib/python3.7/site-packages/urllib3/connectionpool.py:1020: InsecureRequestWarning: Unverified HTTPS request is being made to host 'www.thedailybeast.com'. Adding certificate verification is strongly advised. See: https://urllib3.readthedocs.io/en/latest/advanced-usage.html#ssl-warnings\n",
      "  InsecureRequestWarning,\n",
      "/Users/adrien/opt/anaconda3/lib/python3.7/site-packages/urllib3/connectionpool.py:1020: InsecureRequestWarning: Unverified HTTPS request is being made to host 'www.thedailybeast.com'. Adding certificate verification is strongly advised. See: https://urllib3.readthedocs.io/en/latest/advanced-usage.html#ssl-warnings\n",
      "  InsecureRequestWarning,\n"
     ]
    },
    {
     "name": "stdout",
     "output_type": "stream",
     "text": [
      "4\n"
     ]
    },
    {
     "name": "stderr",
     "output_type": "stream",
     "text": [
      "/Users/adrien/opt/anaconda3/lib/python3.7/site-packages/urllib3/connectionpool.py:1020: InsecureRequestWarning: Unverified HTTPS request is being made to host 'www.climatechangenews.com'. Adding certificate verification is strongly advised. See: https://urllib3.readthedocs.io/en/latest/advanced-usage.html#ssl-warnings\n",
      "  InsecureRequestWarning,\n",
      "/Users/adrien/opt/anaconda3/lib/python3.7/site-packages/urllib3/connectionpool.py:1020: InsecureRequestWarning: Unverified HTTPS request is being made to host 'www.climatechangenews.com'. Adding certificate verification is strongly advised. See: https://urllib3.readthedocs.io/en/latest/advanced-usage.html#ssl-warnings\n",
      "  InsecureRequestWarning,\n"
     ]
    },
    {
     "name": "stdout",
     "output_type": "stream",
     "text": [
      "5\n"
     ]
    },
    {
     "name": "stderr",
     "output_type": "stream",
     "text": [
      "/Users/adrien/opt/anaconda3/lib/python3.7/site-packages/urllib3/connectionpool.py:1020: InsecureRequestWarning: Unverified HTTPS request is being made to host 'www.newsbusters.org'. Adding certificate verification is strongly advised. See: https://urllib3.readthedocs.io/en/latest/advanced-usage.html#ssl-warnings\n",
      "  InsecureRequestWarning,\n",
      "/Users/adrien/opt/anaconda3/lib/python3.7/site-packages/urllib3/connectionpool.py:1020: InsecureRequestWarning: Unverified HTTPS request is being made to host 'www.newsbusters.org'. Adding certificate verification is strongly advised. See: https://urllib3.readthedocs.io/en/latest/advanced-usage.html#ssl-warnings\n",
      "  InsecureRequestWarning,\n"
     ]
    },
    {
     "name": "stdout",
     "output_type": "stream",
     "text": [
      "6\n"
     ]
    },
    {
     "name": "stderr",
     "output_type": "stream",
     "text": [
      "/Users/adrien/opt/anaconda3/lib/python3.7/site-packages/urllib3/connectionpool.py:1020: InsecureRequestWarning: Unverified HTTPS request is being made to host 'ruralradio.com'. Adding certificate verification is strongly advised. See: https://urllib3.readthedocs.io/en/latest/advanced-usage.html#ssl-warnings\n",
      "  InsecureRequestWarning,\n",
      "/Users/adrien/opt/anaconda3/lib/python3.7/site-packages/urllib3/connectionpool.py:1020: InsecureRequestWarning: Unverified HTTPS request is being made to host 'ruralradio.com'. Adding certificate verification is strongly advised. See: https://urllib3.readthedocs.io/en/latest/advanced-usage.html#ssl-warnings\n",
      "  InsecureRequestWarning,\n"
     ]
    },
    {
     "name": "stdout",
     "output_type": "stream",
     "text": [
      "7\n"
     ]
    },
    {
     "name": "stderr",
     "output_type": "stream",
     "text": [
      "/Users/adrien/opt/anaconda3/lib/python3.7/site-packages/urllib3/connectionpool.py:1020: InsecureRequestWarning: Unverified HTTPS request is being made to host 'www.politico.eu'. Adding certificate verification is strongly advised. See: https://urllib3.readthedocs.io/en/latest/advanced-usage.html#ssl-warnings\n",
      "  InsecureRequestWarning,\n"
     ]
    },
    {
     "name": "stdout",
     "output_type": "stream",
     "text": [
      "8\n"
     ]
    },
    {
     "name": "stderr",
     "output_type": "stream",
     "text": [
      "/Users/adrien/opt/anaconda3/lib/python3.7/site-packages/urllib3/connectionpool.py:1020: InsecureRequestWarning: Unverified HTTPS request is being made to host 'enewspf.com'. Adding certificate verification is strongly advised. See: https://urllib3.readthedocs.io/en/latest/advanced-usage.html#ssl-warnings\n",
      "  InsecureRequestWarning,\n",
      "/Users/adrien/opt/anaconda3/lib/python3.7/site-packages/urllib3/connectionpool.py:1020: InsecureRequestWarning: Unverified HTTPS request is being made to host 'enewspf.com'. Adding certificate verification is strongly advised. See: https://urllib3.readthedocs.io/en/latest/advanced-usage.html#ssl-warnings\n",
      "  InsecureRequestWarning,\n"
     ]
    },
    {
     "name": "stdout",
     "output_type": "stream",
     "text": [
      "9\n"
     ]
    },
    {
     "name": "stderr",
     "output_type": "stream",
     "text": [
      "/Users/adrien/opt/anaconda3/lib/python3.7/site-packages/urllib3/connectionpool.py:1020: InsecureRequestWarning: Unverified HTTPS request is being made to host 'www.dailytelegraph.com.au'. Adding certificate verification is strongly advised. See: https://urllib3.readthedocs.io/en/latest/advanced-usage.html#ssl-warnings\n",
      "  InsecureRequestWarning,\n",
      "/Users/adrien/opt/anaconda3/lib/python3.7/site-packages/urllib3/connectionpool.py:1020: InsecureRequestWarning: Unverified HTTPS request is being made to host 'www.dailytelegraph.com.au'. Adding certificate verification is strongly advised. See: https://urllib3.readthedocs.io/en/latest/advanced-usage.html#ssl-warnings\n",
      "  InsecureRequestWarning,\n",
      "/Users/adrien/opt/anaconda3/lib/python3.7/site-packages/urllib3/connectionpool.py:1020: InsecureRequestWarning: Unverified HTTPS request is being made to host 'www.dailytelegraph.com.au'. Adding certificate verification is strongly advised. See: https://urllib3.readthedocs.io/en/latest/advanced-usage.html#ssl-warnings\n",
      "  InsecureRequestWarning,\n",
      "/Users/adrien/opt/anaconda3/lib/python3.7/site-packages/urllib3/connectionpool.py:1020: InsecureRequestWarning: Unverified HTTPS request is being made to host 'tags.news.com.au'. Adding certificate verification is strongly advised. See: https://urllib3.readthedocs.io/en/latest/advanced-usage.html#ssl-warnings\n",
      "  InsecureRequestWarning,\n",
      "/Users/adrien/opt/anaconda3/lib/python3.7/site-packages/urllib3/connectionpool.py:1020: InsecureRequestWarning: Unverified HTTPS request is being made to host 'www.dailytelegraph.com.au'. Adding certificate verification is strongly advised. See: https://urllib3.readthedocs.io/en/latest/advanced-usage.html#ssl-warnings\n",
      "  InsecureRequestWarning,\n",
      "/Users/adrien/opt/anaconda3/lib/python3.7/site-packages/urllib3/connectionpool.py:1020: InsecureRequestWarning: Unverified HTTPS request is being made to host 'www.dailytelegraph.com.au'. Adding certificate verification is strongly advised. See: https://urllib3.readthedocs.io/en/latest/advanced-usage.html#ssl-warnings\n",
      "  InsecureRequestWarning,\n",
      "/Users/adrien/opt/anaconda3/lib/python3.7/site-packages/urllib3/connectionpool.py:1020: InsecureRequestWarning: Unverified HTTPS request is being made to host 'tags.news.com.au'. Adding certificate verification is strongly advised. See: https://urllib3.readthedocs.io/en/latest/advanced-usage.html#ssl-warnings\n",
      "  InsecureRequestWarning,\n",
      "/Users/adrien/opt/anaconda3/lib/python3.7/site-packages/urllib3/connectionpool.py:1020: InsecureRequestWarning: Unverified HTTPS request is being made to host 'www.dailytelegraph.com.au'. Adding certificate verification is strongly advised. See: https://urllib3.readthedocs.io/en/latest/advanced-usage.html#ssl-warnings\n",
      "  InsecureRequestWarning,\n",
      "/Users/adrien/opt/anaconda3/lib/python3.7/site-packages/urllib3/connectionpool.py:1020: InsecureRequestWarning: Unverified HTTPS request is being made to host 'www.dailytelegraph.com.au'. Adding certificate verification is strongly advised. See: https://urllib3.readthedocs.io/en/latest/advanced-usage.html#ssl-warnings\n",
      "  InsecureRequestWarning,\n",
      "/Users/adrien/opt/anaconda3/lib/python3.7/site-packages/urllib3/connectionpool.py:1020: InsecureRequestWarning: Unverified HTTPS request is being made to host 'www.dailytelegraph.com.au'. Adding certificate verification is strongly advised. See: https://urllib3.readthedocs.io/en/latest/advanced-usage.html#ssl-warnings\n",
      "  InsecureRequestWarning,\n",
      "/Users/adrien/opt/anaconda3/lib/python3.7/site-packages/urllib3/connectionpool.py:1020: InsecureRequestWarning: Unverified HTTPS request is being made to host 'www.dailytelegraph.com.au'. Adding certificate verification is strongly advised. See: https://urllib3.readthedocs.io/en/latest/advanced-usage.html#ssl-warnings\n",
      "  InsecureRequestWarning,\n",
      "/Users/adrien/opt/anaconda3/lib/python3.7/site-packages/urllib3/connectionpool.py:1020: InsecureRequestWarning: Unverified HTTPS request is being made to host 'tags.news.com.au'. Adding certificate verification is strongly advised. See: https://urllib3.readthedocs.io/en/latest/advanced-usage.html#ssl-warnings\n",
      "  InsecureRequestWarning,\n",
      "/Users/adrien/opt/anaconda3/lib/python3.7/site-packages/urllib3/connectionpool.py:1020: InsecureRequestWarning: Unverified HTTPS request is being made to host 'www.dailytelegraph.com.au'. Adding certificate verification is strongly advised. See: https://urllib3.readthedocs.io/en/latest/advanced-usage.html#ssl-warnings\n",
      "  InsecureRequestWarning,\n",
      "/Users/adrien/opt/anaconda3/lib/python3.7/site-packages/urllib3/connectionpool.py:1020: InsecureRequestWarning: Unverified HTTPS request is being made to host 'www.dailytelegraph.com.au'. Adding certificate verification is strongly advised. See: https://urllib3.readthedocs.io/en/latest/advanced-usage.html#ssl-warnings\n",
      "  InsecureRequestWarning,\n",
      "/Users/adrien/opt/anaconda3/lib/python3.7/site-packages/urllib3/connectionpool.py:1020: InsecureRequestWarning: Unverified HTTPS request is being made to host 'tags.news.com.au'. Adding certificate verification is strongly advised. See: https://urllib3.readthedocs.io/en/latest/advanced-usage.html#ssl-warnings\n",
      "  InsecureRequestWarning,\n",
      "/Users/adrien/opt/anaconda3/lib/python3.7/site-packages/urllib3/connectionpool.py:1020: InsecureRequestWarning: Unverified HTTPS request is being made to host 'www.dailytelegraph.com.au'. Adding certificate verification is strongly advised. See: https://urllib3.readthedocs.io/en/latest/advanced-usage.html#ssl-warnings\n",
      "  InsecureRequestWarning,\n"
     ]
    },
    {
     "name": "stdout",
     "output_type": "stream",
     "text": [
      "10\n"
     ]
    },
    {
     "name": "stderr",
     "output_type": "stream",
     "text": [
      "/Users/adrien/opt/anaconda3/lib/python3.7/site-packages/urllib3/connectionpool.py:1020: InsecureRequestWarning: Unverified HTTPS request is being made to host 'cnsnews.com'. Adding certificate verification is strongly advised. See: https://urllib3.readthedocs.io/en/latest/advanced-usage.html#ssl-warnings\n",
      "  InsecureRequestWarning,\n",
      "/Users/adrien/opt/anaconda3/lib/python3.7/site-packages/urllib3/connectionpool.py:1020: InsecureRequestWarning: Unverified HTTPS request is being made to host 'cnsnews.com'. Adding certificate verification is strongly advised. See: https://urllib3.readthedocs.io/en/latest/advanced-usage.html#ssl-warnings\n",
      "  InsecureRequestWarning,\n",
      "/Users/adrien/opt/anaconda3/lib/python3.7/site-packages/urllib3/connectionpool.py:1020: InsecureRequestWarning: Unverified HTTPS request is being made to host 'www.theblaze.com'. Adding certificate verification is strongly advised. See: https://urllib3.readthedocs.io/en/latest/advanced-usage.html#ssl-warnings\n",
      "  InsecureRequestWarning,\n"
     ]
    },
    {
     "name": "stdout",
     "output_type": "stream",
     "text": [
      "11\n"
     ]
    },
    {
     "name": "stderr",
     "output_type": "stream",
     "text": [
      "/Users/adrien/opt/anaconda3/lib/python3.7/site-packages/urllib3/connectionpool.py:1020: InsecureRequestWarning: Unverified HTTPS request is being made to host 'www.theblaze.com'. Adding certificate verification is strongly advised. See: https://urllib3.readthedocs.io/en/latest/advanced-usage.html#ssl-warnings\n",
      "  InsecureRequestWarning,\n",
      "/Users/adrien/opt/anaconda3/lib/python3.7/site-packages/urllib3/connectionpool.py:1020: InsecureRequestWarning: Unverified HTTPS request is being made to host 'dailyadvertiser.com.au'. Adding certificate verification is strongly advised. See: https://urllib3.readthedocs.io/en/latest/advanced-usage.html#ssl-warnings\n",
      "  InsecureRequestWarning,\n"
     ]
    },
    {
     "name": "stdout",
     "output_type": "stream",
     "text": [
      "12\n"
     ]
    },
    {
     "name": "stderr",
     "output_type": "stream",
     "text": [
      "/Users/adrien/opt/anaconda3/lib/python3.7/site-packages/urllib3/connectionpool.py:1020: InsecureRequestWarning: Unverified HTTPS request is being made to host 'www.dailyadvertiser.com.au'. Adding certificate verification is strongly advised. See: https://urllib3.readthedocs.io/en/latest/advanced-usage.html#ssl-warnings\n",
      "  InsecureRequestWarning,\n",
      "/Users/adrien/opt/anaconda3/lib/python3.7/site-packages/urllib3/connectionpool.py:1020: InsecureRequestWarning: Unverified HTTPS request is being made to host 'dailyadvertiser.com.au'. Adding certificate verification is strongly advised. See: https://urllib3.readthedocs.io/en/latest/advanced-usage.html#ssl-warnings\n",
      "  InsecureRequestWarning,\n",
      "/Users/adrien/opt/anaconda3/lib/python3.7/site-packages/urllib3/connectionpool.py:1020: InsecureRequestWarning: Unverified HTTPS request is being made to host 'www.dailyadvertiser.com.au'. Adding certificate verification is strongly advised. See: https://urllib3.readthedocs.io/en/latest/advanced-usage.html#ssl-warnings\n",
      "  InsecureRequestWarning,\n"
     ]
    },
    {
     "name": "stdout",
     "output_type": "stream",
     "text": [
      "13\n"
     ]
    },
    {
     "name": "stderr",
     "output_type": "stream",
     "text": [
      "/Users/adrien/opt/anaconda3/lib/python3.7/site-packages/urllib3/connectionpool.py:1020: InsecureRequestWarning: Unverified HTTPS request is being made to host 'pjmedia.com'. Adding certificate verification is strongly advised. See: https://urllib3.readthedocs.io/en/latest/advanced-usage.html#ssl-warnings\n",
      "  InsecureRequestWarning,\n",
      "/Users/adrien/opt/anaconda3/lib/python3.7/site-packages/urllib3/connectionpool.py:1020: InsecureRequestWarning: Unverified HTTPS request is being made to host 'pjmedia.com'. Adding certificate verification is strongly advised. See: https://urllib3.readthedocs.io/en/latest/advanced-usage.html#ssl-warnings\n",
      "  InsecureRequestWarning,\n",
      "/Users/adrien/opt/anaconda3/lib/python3.7/site-packages/urllib3/connectionpool.py:1020: InsecureRequestWarning: Unverified HTTPS request is being made to host 'pjmedia.com'. Adding certificate verification is strongly advised. See: https://urllib3.readthedocs.io/en/latest/advanced-usage.html#ssl-warnings\n",
      "  InsecureRequestWarning,\n",
      "/Users/adrien/opt/anaconda3/lib/python3.7/site-packages/urllib3/connectionpool.py:1020: InsecureRequestWarning: Unverified HTTPS request is being made to host 'pjmedia.com'. Adding certificate verification is strongly advised. See: https://urllib3.readthedocs.io/en/latest/advanced-usage.html#ssl-warnings\n",
      "  InsecureRequestWarning,\n"
     ]
    },
    {
     "name": "stdout",
     "output_type": "stream",
     "text": [
      "14\n"
     ]
    },
    {
     "name": "stderr",
     "output_type": "stream",
     "text": [
      "/Users/adrien/opt/anaconda3/lib/python3.7/site-packages/urllib3/connectionpool.py:1020: InsecureRequestWarning: Unverified HTTPS request is being made to host 'timesofindia.indiatimes.com'. Adding certificate verification is strongly advised. See: https://urllib3.readthedocs.io/en/latest/advanced-usage.html#ssl-warnings\n",
      "  InsecureRequestWarning,\n",
      "/Users/adrien/opt/anaconda3/lib/python3.7/site-packages/urllib3/connectionpool.py:1020: InsecureRequestWarning: Unverified HTTPS request is being made to host 'timesofindia.indiatimes.com'. Adding certificate verification is strongly advised. See: https://urllib3.readthedocs.io/en/latest/advanced-usage.html#ssl-warnings\n",
      "  InsecureRequestWarning,\n"
     ]
    },
    {
     "name": "stdout",
     "output_type": "stream",
     "text": [
      "15\n"
     ]
    },
    {
     "name": "stderr",
     "output_type": "stream",
     "text": [
      "/Users/adrien/opt/anaconda3/lib/python3.7/site-packages/urllib3/connectionpool.py:1020: InsecureRequestWarning: Unverified HTTPS request is being made to host 'edition.cnn.com'. Adding certificate verification is strongly advised. See: https://urllib3.readthedocs.io/en/latest/advanced-usage.html#ssl-warnings\n",
      "  InsecureRequestWarning,\n",
      "/Users/adrien/opt/anaconda3/lib/python3.7/site-packages/urllib3/connectionpool.py:1020: InsecureRequestWarning: Unverified HTTPS request is being made to host 'edition.cnn.com'. Adding certificate verification is strongly advised. See: https://urllib3.readthedocs.io/en/latest/advanced-usage.html#ssl-warnings\n",
      "  InsecureRequestWarning,\n"
     ]
    },
    {
     "name": "stdout",
     "output_type": "stream",
     "text": [
      "16\n",
      "17\n"
     ]
    },
    {
     "name": "stderr",
     "output_type": "stream",
     "text": [
      "/Users/adrien/opt/anaconda3/lib/python3.7/site-packages/urllib3/connectionpool.py:1020: InsecureRequestWarning: Unverified HTTPS request is being made to host 'enewspf.com'. Adding certificate verification is strongly advised. See: https://urllib3.readthedocs.io/en/latest/advanced-usage.html#ssl-warnings\n",
      "  InsecureRequestWarning,\n",
      "/Users/adrien/opt/anaconda3/lib/python3.7/site-packages/urllib3/connectionpool.py:1020: InsecureRequestWarning: Unverified HTTPS request is being made to host 'enewspf.com'. Adding certificate verification is strongly advised. See: https://urllib3.readthedocs.io/en/latest/advanced-usage.html#ssl-warnings\n",
      "  InsecureRequestWarning,\n"
     ]
    },
    {
     "name": "stdout",
     "output_type": "stream",
     "text": [
      "18\n"
     ]
    },
    {
     "name": "stderr",
     "output_type": "stream",
     "text": [
      "/Users/adrien/opt/anaconda3/lib/python3.7/site-packages/urllib3/connectionpool.py:1020: InsecureRequestWarning: Unverified HTTPS request is being made to host 'whowhatwhy.org'. Adding certificate verification is strongly advised. See: https://urllib3.readthedocs.io/en/latest/advanced-usage.html#ssl-warnings\n",
      "  InsecureRequestWarning,\n",
      "/Users/adrien/opt/anaconda3/lib/python3.7/site-packages/urllib3/connectionpool.py:1020: InsecureRequestWarning: Unverified HTTPS request is being made to host 'whowhatwhy.org'. Adding certificate verification is strongly advised. See: https://urllib3.readthedocs.io/en/latest/advanced-usage.html#ssl-warnings\n",
      "  InsecureRequestWarning,\n",
      "/Users/adrien/opt/anaconda3/lib/python3.7/site-packages/urllib3/connectionpool.py:1020: InsecureRequestWarning: Unverified HTTPS request is being made to host 'whowhatwhy.org'. Adding certificate verification is strongly advised. See: https://urllib3.readthedocs.io/en/latest/advanced-usage.html#ssl-warnings\n",
      "  InsecureRequestWarning,\n",
      "/Users/adrien/opt/anaconda3/lib/python3.7/site-packages/urllib3/connectionpool.py:1020: InsecureRequestWarning: Unverified HTTPS request is being made to host 'whowhatwhy.org'. Adding certificate verification is strongly advised. See: https://urllib3.readthedocs.io/en/latest/advanced-usage.html#ssl-warnings\n",
      "  InsecureRequestWarning,\n"
     ]
    },
    {
     "name": "stdout",
     "output_type": "stream",
     "text": [
      "19\n"
     ]
    },
    {
     "name": "stderr",
     "output_type": "stream",
     "text": [
      "/Users/adrien/opt/anaconda3/lib/python3.7/site-packages/urllib3/connectionpool.py:1020: InsecureRequestWarning: Unverified HTTPS request is being made to host 'www.nationalreview.com'. Adding certificate verification is strongly advised. See: https://urllib3.readthedocs.io/en/latest/advanced-usage.html#ssl-warnings\n",
      "  InsecureRequestWarning,\n",
      "/Users/adrien/opt/anaconda3/lib/python3.7/site-packages/urllib3/connectionpool.py:1020: InsecureRequestWarning: Unverified HTTPS request is being made to host 'www.nationalreview.com'. Adding certificate verification is strongly advised. See: https://urllib3.readthedocs.io/en/latest/advanced-usage.html#ssl-warnings\n",
      "  InsecureRequestWarning,\n",
      "/Users/adrien/opt/anaconda3/lib/python3.7/site-packages/urllib3/connectionpool.py:1020: InsecureRequestWarning: Unverified HTTPS request is being made to host 'www.nationalreview.com'. Adding certificate verification is strongly advised. See: https://urllib3.readthedocs.io/en/latest/advanced-usage.html#ssl-warnings\n",
      "  InsecureRequestWarning,\n",
      "/Users/adrien/opt/anaconda3/lib/python3.7/site-packages/urllib3/connectionpool.py:1020: InsecureRequestWarning: Unverified HTTPS request is being made to host 'www.nationalreview.com'. Adding certificate verification is strongly advised. See: https://urllib3.readthedocs.io/en/latest/advanced-usage.html#ssl-warnings\n",
      "  InsecureRequestWarning,\n"
     ]
    },
    {
     "name": "stdout",
     "output_type": "stream",
     "text": [
      "20\n"
     ]
    },
    {
     "name": "stderr",
     "output_type": "stream",
     "text": [
      "/Users/adrien/opt/anaconda3/lib/python3.7/site-packages/urllib3/connectionpool.py:1020: InsecureRequestWarning: Unverified HTTPS request is being made to host 'www.newswire.ca'. Adding certificate verification is strongly advised. See: https://urllib3.readthedocs.io/en/latest/advanced-usage.html#ssl-warnings\n",
      "  InsecureRequestWarning,\n",
      "/Users/adrien/opt/anaconda3/lib/python3.7/site-packages/urllib3/connectionpool.py:1020: InsecureRequestWarning: Unverified HTTPS request is being made to host 'www.newswire.ca'. Adding certificate verification is strongly advised. See: https://urllib3.readthedocs.io/en/latest/advanced-usage.html#ssl-warnings\n",
      "  InsecureRequestWarning,\n"
     ]
    },
    {
     "name": "stdout",
     "output_type": "stream",
     "text": [
      "21\n"
     ]
    },
    {
     "name": "stderr",
     "output_type": "stream",
     "text": [
      "/Users/adrien/opt/anaconda3/lib/python3.7/site-packages/urllib3/connectionpool.py:1020: InsecureRequestWarning: Unverified HTTPS request is being made to host 'www.trust.org'. Adding certificate verification is strongly advised. See: https://urllib3.readthedocs.io/en/latest/advanced-usage.html#ssl-warnings\n",
      "  InsecureRequestWarning,\n",
      "/Users/adrien/opt/anaconda3/lib/python3.7/site-packages/urllib3/connectionpool.py:1020: InsecureRequestWarning: Unverified HTTPS request is being made to host 'www.trust.org'. Adding certificate verification is strongly advised. See: https://urllib3.readthedocs.io/en/latest/advanced-usage.html#ssl-warnings\n",
      "  InsecureRequestWarning,\n"
     ]
    },
    {
     "name": "stdout",
     "output_type": "stream",
     "text": [
      "22\n"
     ]
    },
    {
     "name": "stderr",
     "output_type": "stream",
     "text": [
      "/Users/adrien/opt/anaconda3/lib/python3.7/site-packages/urllib3/connectionpool.py:1020: InsecureRequestWarning: Unverified HTTPS request is being made to host 'www.justsecurity.org'. Adding certificate verification is strongly advised. See: https://urllib3.readthedocs.io/en/latest/advanced-usage.html#ssl-warnings\n",
      "  InsecureRequestWarning,\n",
      "/Users/adrien/opt/anaconda3/lib/python3.7/site-packages/urllib3/connectionpool.py:1020: InsecureRequestWarning: Unverified HTTPS request is being made to host 'www.upi.com'. Adding certificate verification is strongly advised. See: https://urllib3.readthedocs.io/en/latest/advanced-usage.html#ssl-warnings\n",
      "  InsecureRequestWarning,\n",
      "/Users/adrien/opt/anaconda3/lib/python3.7/site-packages/urllib3/connectionpool.py:1020: InsecureRequestWarning: Unverified HTTPS request is being made to host 'www.upi.com'. Adding certificate verification is strongly advised. See: https://urllib3.readthedocs.io/en/latest/advanced-usage.html#ssl-warnings\n",
      "  InsecureRequestWarning,\n"
     ]
    },
    {
     "name": "stdout",
     "output_type": "stream",
     "text": [
      "23\n",
      "24\n"
     ]
    },
    {
     "name": "stderr",
     "output_type": "stream",
     "text": [
      "/Users/adrien/opt/anaconda3/lib/python3.7/site-packages/urllib3/connectionpool.py:1020: InsecureRequestWarning: Unverified HTTPS request is being made to host 'agwired.com'. Adding certificate verification is strongly advised. See: https://urllib3.readthedocs.io/en/latest/advanced-usage.html#ssl-warnings\n",
      "  InsecureRequestWarning,\n",
      "/Users/adrien/opt/anaconda3/lib/python3.7/site-packages/urllib3/connectionpool.py:1020: InsecureRequestWarning: Unverified HTTPS request is being made to host 'www.rediff.com'. Adding certificate verification is strongly advised. See: https://urllib3.readthedocs.io/en/latest/advanced-usage.html#ssl-warnings\n",
      "  InsecureRequestWarning,\n",
      "/Users/adrien/opt/anaconda3/lib/python3.7/site-packages/urllib3/connectionpool.py:1020: InsecureRequestWarning: Unverified HTTPS request is being made to host 'www.rediff.com'. Adding certificate verification is strongly advised. See: https://urllib3.readthedocs.io/en/latest/advanced-usage.html#ssl-warnings\n",
      "  InsecureRequestWarning,\n"
     ]
    },
    {
     "name": "stdout",
     "output_type": "stream",
     "text": [
      "25\n"
     ]
    },
    {
     "name": "stderr",
     "output_type": "stream",
     "text": [
      "/Users/adrien/opt/anaconda3/lib/python3.7/site-packages/urllib3/connectionpool.py:1020: InsecureRequestWarning: Unverified HTTPS request is being made to host 'allafrica.com'. Adding certificate verification is strongly advised. See: https://urllib3.readthedocs.io/en/latest/advanced-usage.html#ssl-warnings\n",
      "  InsecureRequestWarning,\n",
      "/Users/adrien/opt/anaconda3/lib/python3.7/site-packages/urllib3/connectionpool.py:1020: InsecureRequestWarning: Unverified HTTPS request is being made to host 'allafrica.com'. Adding certificate verification is strongly advised. See: https://urllib3.readthedocs.io/en/latest/advanced-usage.html#ssl-warnings\n",
      "  InsecureRequestWarning,\n"
     ]
    },
    {
     "name": "stdout",
     "output_type": "stream",
     "text": [
      "26\n"
     ]
    },
    {
     "name": "stderr",
     "output_type": "stream",
     "text": [
      "/Users/adrien/opt/anaconda3/lib/python3.7/site-packages/urllib3/connectionpool.py:1020: InsecureRequestWarning: Unverified HTTPS request is being made to host 'www.commondreams.org'. Adding certificate verification is strongly advised. See: https://urllib3.readthedocs.io/en/latest/advanced-usage.html#ssl-warnings\n",
      "  InsecureRequestWarning,\n",
      "/Users/adrien/opt/anaconda3/lib/python3.7/site-packages/urllib3/connectionpool.py:1020: InsecureRequestWarning: Unverified HTTPS request is being made to host 'www.commondreams.org'. Adding certificate verification is strongly advised. See: https://urllib3.readthedocs.io/en/latest/advanced-usage.html#ssl-warnings\n",
      "  InsecureRequestWarning,\n"
     ]
    },
    {
     "name": "stdout",
     "output_type": "stream",
     "text": [
      "27\n"
     ]
    },
    {
     "name": "stderr",
     "output_type": "stream",
     "text": [
      "/Users/adrien/opt/anaconda3/lib/python3.7/site-packages/urllib3/connectionpool.py:1020: InsecureRequestWarning: Unverified HTTPS request is being made to host 'scholarsandrogues.com'. Adding certificate verification is strongly advised. See: https://urllib3.readthedocs.io/en/latest/advanced-usage.html#ssl-warnings\n",
      "  InsecureRequestWarning,\n",
      "/Users/adrien/opt/anaconda3/lib/python3.7/site-packages/urllib3/connectionpool.py:1020: InsecureRequestWarning: Unverified HTTPS request is being made to host 'scholarsandrogues.com'. Adding certificate verification is strongly advised. See: https://urllib3.readthedocs.io/en/latest/advanced-usage.html#ssl-warnings\n",
      "  InsecureRequestWarning,\n"
     ]
    },
    {
     "name": "stdout",
     "output_type": "stream",
     "text": [
      "28\n"
     ]
    },
    {
     "name": "stderr",
     "output_type": "stream",
     "text": [
      "/Users/adrien/opt/anaconda3/lib/python3.7/site-packages/urllib3/connectionpool.py:1020: InsecureRequestWarning: Unverified HTTPS request is being made to host 'www.heartland.org'. Adding certificate verification is strongly advised. See: https://urllib3.readthedocs.io/en/latest/advanced-usage.html#ssl-warnings\n",
      "  InsecureRequestWarning,\n",
      "/Users/adrien/opt/anaconda3/lib/python3.7/site-packages/urllib3/connectionpool.py:1020: InsecureRequestWarning: Unverified HTTPS request is being made to host 'www.heartland.org'. Adding certificate verification is strongly advised. See: https://urllib3.readthedocs.io/en/latest/advanced-usage.html#ssl-warnings\n",
      "  InsecureRequestWarning,\n",
      "/Users/adrien/opt/anaconda3/lib/python3.7/site-packages/urllib3/connectionpool.py:1020: InsecureRequestWarning: Unverified HTTPS request is being made to host 'www.heartland.org'. Adding certificate verification is strongly advised. See: https://urllib3.readthedocs.io/en/latest/advanced-usage.html#ssl-warnings\n",
      "  InsecureRequestWarning,\n",
      "/Users/adrien/opt/anaconda3/lib/python3.7/site-packages/urllib3/connectionpool.py:1020: InsecureRequestWarning: Unverified HTTPS request is being made to host 'www.heartland.org'. Adding certificate verification is strongly advised. See: https://urllib3.readthedocs.io/en/latest/advanced-usage.html#ssl-warnings\n",
      "  InsecureRequestWarning,\n"
     ]
    },
    {
     "name": "stdout",
     "output_type": "stream",
     "text": [
      "29\n"
     ]
    },
    {
     "name": "stderr",
     "output_type": "stream",
     "text": [
      "/Users/adrien/opt/anaconda3/lib/python3.7/site-packages/urllib3/connectionpool.py:1020: InsecureRequestWarning: Unverified HTTPS request is being made to host 'www.citylab.com'. Adding certificate verification is strongly advised. See: https://urllib3.readthedocs.io/en/latest/advanced-usage.html#ssl-warnings\n",
      "  InsecureRequestWarning,\n",
      "/Users/adrien/opt/anaconda3/lib/python3.7/site-packages/urllib3/connectionpool.py:1020: InsecureRequestWarning: Unverified HTTPS request is being made to host 'www.bloomberg.com'. Adding certificate verification is strongly advised. See: https://urllib3.readthedocs.io/en/latest/advanced-usage.html#ssl-warnings\n",
      "  InsecureRequestWarning,\n",
      "/Users/adrien/opt/anaconda3/lib/python3.7/site-packages/urllib3/connectionpool.py:1020: InsecureRequestWarning: Unverified HTTPS request is being made to host 'www.bloomberg.com'. Adding certificate verification is strongly advised. See: https://urllib3.readthedocs.io/en/latest/advanced-usage.html#ssl-warnings\n",
      "  InsecureRequestWarning,\n",
      "/Users/adrien/opt/anaconda3/lib/python3.7/site-packages/urllib3/connectionpool.py:1020: InsecureRequestWarning: Unverified HTTPS request is being made to host 'www.citylab.com'. Adding certificate verification is strongly advised. See: https://urllib3.readthedocs.io/en/latest/advanced-usage.html#ssl-warnings\n",
      "  InsecureRequestWarning,\n",
      "/Users/adrien/opt/anaconda3/lib/python3.7/site-packages/urllib3/connectionpool.py:1020: InsecureRequestWarning: Unverified HTTPS request is being made to host 'www.bloomberg.com'. Adding certificate verification is strongly advised. See: https://urllib3.readthedocs.io/en/latest/advanced-usage.html#ssl-warnings\n",
      "  InsecureRequestWarning,\n",
      "/Users/adrien/opt/anaconda3/lib/python3.7/site-packages/urllib3/connectionpool.py:1020: InsecureRequestWarning: Unverified HTTPS request is being made to host 'www.bloomberg.com'. Adding certificate verification is strongly advised. See: https://urllib3.readthedocs.io/en/latest/advanced-usage.html#ssl-warnings\n",
      "  InsecureRequestWarning,\n"
     ]
    },
    {
     "name": "stdout",
     "output_type": "stream",
     "text": [
      "30\n",
      "31\n"
     ]
    },
    {
     "name": "stderr",
     "output_type": "stream",
     "text": [
      "/Users/adrien/opt/anaconda3/lib/python3.7/site-packages/urllib3/connectionpool.py:1020: InsecureRequestWarning: Unverified HTTPS request is being made to host 'www.modernghana.com'. Adding certificate verification is strongly advised. See: https://urllib3.readthedocs.io/en/latest/advanced-usage.html#ssl-warnings\n",
      "  InsecureRequestWarning,\n",
      "/Users/adrien/opt/anaconda3/lib/python3.7/site-packages/urllib3/connectionpool.py:1020: InsecureRequestWarning: Unverified HTTPS request is being made to host 'www.modernghana.com'. Adding certificate verification is strongly advised. See: https://urllib3.readthedocs.io/en/latest/advanced-usage.html#ssl-warnings\n",
      "  InsecureRequestWarning,\n"
     ]
    },
    {
     "name": "stdout",
     "output_type": "stream",
     "text": [
      "32\n"
     ]
    },
    {
     "name": "stderr",
     "output_type": "stream",
     "text": [
      "/Users/adrien/opt/anaconda3/lib/python3.7/site-packages/urllib3/connectionpool.py:1020: InsecureRequestWarning: Unverified HTTPS request is being made to host 'www.alternet.org'. Adding certificate verification is strongly advised. See: https://urllib3.readthedocs.io/en/latest/advanced-usage.html#ssl-warnings\n",
      "  InsecureRequestWarning,\n",
      "/Users/adrien/opt/anaconda3/lib/python3.7/site-packages/urllib3/connectionpool.py:1020: InsecureRequestWarning: Unverified HTTPS request is being made to host 'www.alternet.org'. Adding certificate verification is strongly advised. See: https://urllib3.readthedocs.io/en/latest/advanced-usage.html#ssl-warnings\n",
      "  InsecureRequestWarning,\n",
      "/Users/adrien/opt/anaconda3/lib/python3.7/site-packages/urllib3/connectionpool.py:1020: InsecureRequestWarning: Unverified HTTPS request is being made to host 'www.alternet.org'. Adding certificate verification is strongly advised. See: https://urllib3.readthedocs.io/en/latest/advanced-usage.html#ssl-warnings\n",
      "  InsecureRequestWarning,\n",
      "/Users/adrien/opt/anaconda3/lib/python3.7/site-packages/urllib3/connectionpool.py:1020: InsecureRequestWarning: Unverified HTTPS request is being made to host 'www.alternet.org'. Adding certificate verification is strongly advised. See: https://urllib3.readthedocs.io/en/latest/advanced-usage.html#ssl-warnings\n",
      "  InsecureRequestWarning,\n"
     ]
    },
    {
     "name": "stdout",
     "output_type": "stream",
     "text": [
      "33\n"
     ]
    },
    {
     "name": "stderr",
     "output_type": "stream",
     "text": [
      "/Users/adrien/opt/anaconda3/lib/python3.7/site-packages/urllib3/connectionpool.py:1020: InsecureRequestWarning: Unverified HTTPS request is being made to host 'economictimes.indiatimes.com'. Adding certificate verification is strongly advised. See: https://urllib3.readthedocs.io/en/latest/advanced-usage.html#ssl-warnings\n",
      "  InsecureRequestWarning,\n",
      "/Users/adrien/opt/anaconda3/lib/python3.7/site-packages/urllib3/connectionpool.py:1020: InsecureRequestWarning: Unverified HTTPS request is being made to host 'economictimes.indiatimes.com'. Adding certificate verification is strongly advised. See: https://urllib3.readthedocs.io/en/latest/advanced-usage.html#ssl-warnings\n",
      "  InsecureRequestWarning,\n"
     ]
    },
    {
     "name": "stdout",
     "output_type": "stream",
     "text": [
      "34\n"
     ]
    },
    {
     "name": "stderr",
     "output_type": "stream",
     "text": [
      "/Users/adrien/opt/anaconda3/lib/python3.7/site-packages/urllib3/connectionpool.py:1020: InsecureRequestWarning: Unverified HTTPS request is being made to host 'bdnews24.com'. Adding certificate verification is strongly advised. See: https://urllib3.readthedocs.io/en/latest/advanced-usage.html#ssl-warnings\n",
      "  InsecureRequestWarning,\n",
      "/Users/adrien/opt/anaconda3/lib/python3.7/site-packages/urllib3/connectionpool.py:1020: InsecureRequestWarning: Unverified HTTPS request is being made to host 'bdnews24.com'. Adding certificate verification is strongly advised. See: https://urllib3.readthedocs.io/en/latest/advanced-usage.html#ssl-warnings\n",
      "  InsecureRequestWarning,\n"
     ]
    },
    {
     "name": "stdout",
     "output_type": "stream",
     "text": [
      "35\n"
     ]
    },
    {
     "name": "stderr",
     "output_type": "stream",
     "text": [
      "/Users/adrien/opt/anaconda3/lib/python3.7/site-packages/urllib3/connectionpool.py:1020: InsecureRequestWarning: Unverified HTTPS request is being made to host 'www.latinpost.com'. Adding certificate verification is strongly advised. See: https://urllib3.readthedocs.io/en/latest/advanced-usage.html#ssl-warnings\n",
      "  InsecureRequestWarning,\n",
      "/Users/adrien/opt/anaconda3/lib/python3.7/site-packages/urllib3/connectionpool.py:1020: InsecureRequestWarning: Unverified HTTPS request is being made to host 'www.latinpost.com'. Adding certificate verification is strongly advised. See: https://urllib3.readthedocs.io/en/latest/advanced-usage.html#ssl-warnings\n",
      "  InsecureRequestWarning,\n"
     ]
    },
    {
     "name": "stdout",
     "output_type": "stream",
     "text": [
      "36\n"
     ]
    },
    {
     "name": "stderr",
     "output_type": "stream",
     "text": [
      "/Users/adrien/opt/anaconda3/lib/python3.7/site-packages/urllib3/connectionpool.py:1020: InsecureRequestWarning: Unverified HTTPS request is being made to host 'www.deccanchronicle.com'. Adding certificate verification is strongly advised. See: https://urllib3.readthedocs.io/en/latest/advanced-usage.html#ssl-warnings\n",
      "  InsecureRequestWarning,\n",
      "/Users/adrien/opt/anaconda3/lib/python3.7/site-packages/urllib3/connectionpool.py:1020: InsecureRequestWarning: Unverified HTTPS request is being made to host 'deccanchronicle.com'. Adding certificate verification is strongly advised. See: https://urllib3.readthedocs.io/en/latest/advanced-usage.html#ssl-warnings\n",
      "  InsecureRequestWarning,\n"
     ]
    },
    {
     "name": "stdout",
     "output_type": "stream",
     "text": [
      "37\n"
     ]
    },
    {
     "name": "stderr",
     "output_type": "stream",
     "text": [
      "/Users/adrien/opt/anaconda3/lib/python3.7/site-packages/urllib3/connectionpool.py:1020: InsecureRequestWarning: Unverified HTTPS request is being made to host 'www.ithaca.edu'. Adding certificate verification is strongly advised. See: https://urllib3.readthedocs.io/en/latest/advanced-usage.html#ssl-warnings\n",
      "  InsecureRequestWarning,\n",
      "/Users/adrien/opt/anaconda3/lib/python3.7/site-packages/urllib3/connectionpool.py:1020: InsecureRequestWarning: Unverified HTTPS request is being made to host 'www.ithaca.edu'. Adding certificate verification is strongly advised. See: https://urllib3.readthedocs.io/en/latest/advanced-usage.html#ssl-warnings\n",
      "  InsecureRequestWarning,\n",
      "/Users/adrien/opt/anaconda3/lib/python3.7/site-packages/urllib3/connectionpool.py:1020: InsecureRequestWarning: Unverified HTTPS request is being made to host 'www.ithaca.edu'. Adding certificate verification is strongly advised. See: https://urllib3.readthedocs.io/en/latest/advanced-usage.html#ssl-warnings\n",
      "  InsecureRequestWarning,\n",
      "/Users/adrien/opt/anaconda3/lib/python3.7/site-packages/urllib3/connectionpool.py:1020: InsecureRequestWarning: Unverified HTTPS request is being made to host 'www.ithaca.edu'. Adding certificate verification is strongly advised. See: https://urllib3.readthedocs.io/en/latest/advanced-usage.html#ssl-warnings\n",
      "  InsecureRequestWarning,\n"
     ]
    },
    {
     "name": "stdout",
     "output_type": "stream",
     "text": [
      "38\n"
     ]
    },
    {
     "name": "stderr",
     "output_type": "stream",
     "text": [
      "/Users/adrien/opt/anaconda3/lib/python3.7/site-packages/urllib3/connectionpool.py:1020: InsecureRequestWarning: Unverified HTTPS request is being made to host 'www.sciencecodex.com'. Adding certificate verification is strongly advised. See: https://urllib3.readthedocs.io/en/latest/advanced-usage.html#ssl-warnings\n",
      "  InsecureRequestWarning,\n",
      "/Users/adrien/opt/anaconda3/lib/python3.7/site-packages/urllib3/connectionpool.py:1020: InsecureRequestWarning: Unverified HTTPS request is being made to host 'www.sciencecodex.com'. Adding certificate verification is strongly advised. See: https://urllib3.readthedocs.io/en/latest/advanced-usage.html#ssl-warnings\n",
      "  InsecureRequestWarning,\n"
     ]
    },
    {
     "name": "stdout",
     "output_type": "stream",
     "text": [
      "39\n",
      "40\n",
      "41\n"
     ]
    },
    {
     "name": "stderr",
     "output_type": "stream",
     "text": [
      "/Users/adrien/opt/anaconda3/lib/python3.7/site-packages/urllib3/connectionpool.py:1020: InsecureRequestWarning: Unverified HTTPS request is being made to host 'www.thefifthestate.com.au'. Adding certificate verification is strongly advised. See: https://urllib3.readthedocs.io/en/latest/advanced-usage.html#ssl-warnings\n",
      "  InsecureRequestWarning,\n",
      "/Users/adrien/opt/anaconda3/lib/python3.7/site-packages/urllib3/connectionpool.py:1020: InsecureRequestWarning: Unverified HTTPS request is being made to host 'thefifthestate.com.au'. Adding certificate verification is strongly advised. See: https://urllib3.readthedocs.io/en/latest/advanced-usage.html#ssl-warnings\n",
      "  InsecureRequestWarning,\n",
      "/Users/adrien/opt/anaconda3/lib/python3.7/site-packages/urllib3/connectionpool.py:1020: InsecureRequestWarning: Unverified HTTPS request is being made to host 'thefifthestate.com.au'. Adding certificate verification is strongly advised. See: https://urllib3.readthedocs.io/en/latest/advanced-usage.html#ssl-warnings\n",
      "  InsecureRequestWarning,\n",
      "/Users/adrien/opt/anaconda3/lib/python3.7/site-packages/urllib3/connectionpool.py:1020: InsecureRequestWarning: Unverified HTTPS request is being made to host 'www.thefifthestate.com.au'. Adding certificate verification is strongly advised. See: https://urllib3.readthedocs.io/en/latest/advanced-usage.html#ssl-warnings\n",
      "  InsecureRequestWarning,\n",
      "/Users/adrien/opt/anaconda3/lib/python3.7/site-packages/urllib3/connectionpool.py:1020: InsecureRequestWarning: Unverified HTTPS request is being made to host 'thefifthestate.com.au'. Adding certificate verification is strongly advised. See: https://urllib3.readthedocs.io/en/latest/advanced-usage.html#ssl-warnings\n",
      "  InsecureRequestWarning,\n",
      "/Users/adrien/opt/anaconda3/lib/python3.7/site-packages/urllib3/connectionpool.py:1020: InsecureRequestWarning: Unverified HTTPS request is being made to host 'thefifthestate.com.au'. Adding certificate verification is strongly advised. See: https://urllib3.readthedocs.io/en/latest/advanced-usage.html#ssl-warnings\n",
      "  InsecureRequestWarning,\n"
     ]
    },
    {
     "name": "stdout",
     "output_type": "stream",
     "text": [
      "42\n"
     ]
    },
    {
     "name": "stderr",
     "output_type": "stream",
     "text": [
      "/Users/adrien/opt/anaconda3/lib/python3.7/site-packages/urllib3/connectionpool.py:1020: InsecureRequestWarning: Unverified HTTPS request is being made to host 'www.sciencecodex.com'. Adding certificate verification is strongly advised. See: https://urllib3.readthedocs.io/en/latest/advanced-usage.html#ssl-warnings\n",
      "  InsecureRequestWarning,\n",
      "/Users/adrien/opt/anaconda3/lib/python3.7/site-packages/urllib3/connectionpool.py:1020: InsecureRequestWarning: Unverified HTTPS request is being made to host 'www.sciencecodex.com'. Adding certificate verification is strongly advised. See: https://urllib3.readthedocs.io/en/latest/advanced-usage.html#ssl-warnings\n",
      "  InsecureRequestWarning,\n"
     ]
    },
    {
     "name": "stdout",
     "output_type": "stream",
     "text": [
      "43\n"
     ]
    },
    {
     "name": "stderr",
     "output_type": "stream",
     "text": [
      "/Users/adrien/opt/anaconda3/lib/python3.7/site-packages/urllib3/connectionpool.py:1020: InsecureRequestWarning: Unverified HTTPS request is being made to host 'www.thestar.com.my'. Adding certificate verification is strongly advised. See: https://urllib3.readthedocs.io/en/latest/advanced-usage.html#ssl-warnings\n",
      "  InsecureRequestWarning,\n",
      "/Users/adrien/opt/anaconda3/lib/python3.7/site-packages/urllib3/connectionpool.py:1020: InsecureRequestWarning: Unverified HTTPS request is being made to host 'www.thestar.com.my'. Adding certificate verification is strongly advised. See: https://urllib3.readthedocs.io/en/latest/advanced-usage.html#ssl-warnings\n",
      "  InsecureRequestWarning,\n"
     ]
    },
    {
     "name": "stdout",
     "output_type": "stream",
     "text": [
      "44\n"
     ]
    },
    {
     "name": "stderr",
     "output_type": "stream",
     "text": [
      "/Users/adrien/opt/anaconda3/lib/python3.7/site-packages/urllib3/connectionpool.py:1020: InsecureRequestWarning: Unverified HTTPS request is being made to host 'leaderpost.com'. Adding certificate verification is strongly advised. See: https://urllib3.readthedocs.io/en/latest/advanced-usage.html#ssl-warnings\n",
      "  InsecureRequestWarning,\n",
      "/Users/adrien/opt/anaconda3/lib/python3.7/site-packages/urllib3/connectionpool.py:1020: InsecureRequestWarning: Unverified HTTPS request is being made to host 'leaderpost.com'. Adding certificate verification is strongly advised. See: https://urllib3.readthedocs.io/en/latest/advanced-usage.html#ssl-warnings\n",
      "  InsecureRequestWarning,\n"
     ]
    },
    {
     "name": "stdout",
     "output_type": "stream",
     "text": [
      "45\n"
     ]
    },
    {
     "name": "stderr",
     "output_type": "stream",
     "text": [
      "/Users/adrien/opt/anaconda3/lib/python3.7/site-packages/urllib3/connectionpool.py:1020: InsecureRequestWarning: Unverified HTTPS request is being made to host 'www.abc.net.au'. Adding certificate verification is strongly advised. See: https://urllib3.readthedocs.io/en/latest/advanced-usage.html#ssl-warnings\n",
      "  InsecureRequestWarning,\n",
      "/Users/adrien/opt/anaconda3/lib/python3.7/site-packages/urllib3/connectionpool.py:1020: InsecureRequestWarning: Unverified HTTPS request is being made to host 'www.abc.net.au'. Adding certificate verification is strongly advised. See: https://urllib3.readthedocs.io/en/latest/advanced-usage.html#ssl-warnings\n",
      "  InsecureRequestWarning,\n"
     ]
    },
    {
     "name": "stdout",
     "output_type": "stream",
     "text": [
      "46\n"
     ]
    },
    {
     "name": "stderr",
     "output_type": "stream",
     "text": [
      "/Users/adrien/opt/anaconda3/lib/python3.7/site-packages/urllib3/connectionpool.py:1020: InsecureRequestWarning: Unverified HTTPS request is being made to host 'www.kbtx.com'. Adding certificate verification is strongly advised. See: https://urllib3.readthedocs.io/en/latest/advanced-usage.html#ssl-warnings\n",
      "  InsecureRequestWarning,\n",
      "/Users/adrien/opt/anaconda3/lib/python3.7/site-packages/urllib3/connectionpool.py:1020: InsecureRequestWarning: Unverified HTTPS request is being made to host 'www.kbtx.com'. Adding certificate verification is strongly advised. See: https://urllib3.readthedocs.io/en/latest/advanced-usage.html#ssl-warnings\n",
      "  InsecureRequestWarning,\n"
     ]
    },
    {
     "name": "stdout",
     "output_type": "stream",
     "text": [
      "47\n"
     ]
    },
    {
     "name": "stderr",
     "output_type": "stream",
     "text": [
      "/Users/adrien/opt/anaconda3/lib/python3.7/site-packages/urllib3/connectionpool.py:1020: InsecureRequestWarning: Unverified HTTPS request is being made to host 'www.eurekalert.org'. Adding certificate verification is strongly advised. See: https://urllib3.readthedocs.io/en/latest/advanced-usage.html#ssl-warnings\n",
      "  InsecureRequestWarning,\n",
      "/Users/adrien/opt/anaconda3/lib/python3.7/site-packages/urllib3/connectionpool.py:1020: InsecureRequestWarning: Unverified HTTPS request is being made to host 'www.eurekalert.org'. Adding certificate verification is strongly advised. See: https://urllib3.readthedocs.io/en/latest/advanced-usage.html#ssl-warnings\n",
      "  InsecureRequestWarning,\n",
      "/Users/adrien/opt/anaconda3/lib/python3.7/site-packages/urllib3/connectionpool.py:1020: InsecureRequestWarning: Unverified HTTPS request is being made to host 'www.eurekalert.org'. Adding certificate verification is strongly advised. See: https://urllib3.readthedocs.io/en/latest/advanced-usage.html#ssl-warnings\n",
      "  InsecureRequestWarning,\n",
      "/Users/adrien/opt/anaconda3/lib/python3.7/site-packages/urllib3/connectionpool.py:1020: InsecureRequestWarning: Unverified HTTPS request is being made to host 'www.eurekalert.org'. Adding certificate verification is strongly advised. See: https://urllib3.readthedocs.io/en/latest/advanced-usage.html#ssl-warnings\n",
      "  InsecureRequestWarning,\n"
     ]
    },
    {
     "name": "stdout",
     "output_type": "stream",
     "text": [
      "48\n"
     ]
    },
    {
     "name": "stderr",
     "output_type": "stream",
     "text": [
      "/Users/adrien/opt/anaconda3/lib/python3.7/site-packages/urllib3/connectionpool.py:1020: InsecureRequestWarning: Unverified HTTPS request is being made to host 'www.thenews.com.pk'. Adding certificate verification is strongly advised. See: https://urllib3.readthedocs.io/en/latest/advanced-usage.html#ssl-warnings\n",
      "  InsecureRequestWarning,\n",
      "/Users/adrien/opt/anaconda3/lib/python3.7/site-packages/urllib3/connectionpool.py:1020: InsecureRequestWarning: Unverified HTTPS request is being made to host 'www.thenews.com.pk'. Adding certificate verification is strongly advised. See: https://urllib3.readthedocs.io/en/latest/advanced-usage.html#ssl-warnings\n",
      "  InsecureRequestWarning,\n",
      "/Users/adrien/opt/anaconda3/lib/python3.7/site-packages/urllib3/connectionpool.py:1020: InsecureRequestWarning: Unverified HTTPS request is being made to host 'www.thenews.com.pk'. Adding certificate verification is strongly advised. See: https://urllib3.readthedocs.io/en/latest/advanced-usage.html#ssl-warnings\n",
      "  InsecureRequestWarning,\n",
      "/Users/adrien/opt/anaconda3/lib/python3.7/site-packages/urllib3/connectionpool.py:1020: InsecureRequestWarning: Unverified HTTPS request is being made to host 'www.thenews.com.pk'. Adding certificate verification is strongly advised. See: https://urllib3.readthedocs.io/en/latest/advanced-usage.html#ssl-warnings\n",
      "  InsecureRequestWarning,\n",
      "/Users/adrien/opt/anaconda3/lib/python3.7/site-packages/urllib3/connectionpool.py:1020: InsecureRequestWarning: Unverified HTTPS request is being made to host 'www.thenews.com.pk'. Adding certificate verification is strongly advised. See: https://urllib3.readthedocs.io/en/latest/advanced-usage.html#ssl-warnings\n",
      "  InsecureRequestWarning,\n",
      "/Users/adrien/opt/anaconda3/lib/python3.7/site-packages/urllib3/connectionpool.py:1020: InsecureRequestWarning: Unverified HTTPS request is being made to host 'www.thenews.com.pk'. Adding certificate verification is strongly advised. See: https://urllib3.readthedocs.io/en/latest/advanced-usage.html#ssl-warnings\n",
      "  InsecureRequestWarning,\n"
     ]
    },
    {
     "name": "stdout",
     "output_type": "stream",
     "text": [
      "49\n"
     ]
    },
    {
     "name": "stderr",
     "output_type": "stream",
     "text": [
      "/Users/adrien/opt/anaconda3/lib/python3.7/site-packages/urllib3/connectionpool.py:1020: InsecureRequestWarning: Unverified HTTPS request is being made to host 'jamesbrody.wordpress.com'. Adding certificate verification is strongly advised. See: https://urllib3.readthedocs.io/en/latest/advanced-usage.html#ssl-warnings\n",
      "  InsecureRequestWarning,\n",
      "/Users/adrien/opt/anaconda3/lib/python3.7/site-packages/urllib3/connectionpool.py:1020: InsecureRequestWarning: Unverified HTTPS request is being made to host 'jamesbrody.wordpress.com'. Adding certificate verification is strongly advised. See: https://urllib3.readthedocs.io/en/latest/advanced-usage.html#ssl-warnings\n",
      "  InsecureRequestWarning,\n"
     ]
    },
    {
     "name": "stdout",
     "output_type": "stream",
     "text": [
      "50\n"
     ]
    },
    {
     "name": "stderr",
     "output_type": "stream",
     "text": [
      "/Users/adrien/opt/anaconda3/lib/python3.7/site-packages/urllib3/connectionpool.py:1020: InsecureRequestWarning: Unverified HTTPS request is being made to host 'www.wtvq.com'. Adding certificate verification is strongly advised. See: https://urllib3.readthedocs.io/en/latest/advanced-usage.html#ssl-warnings\n",
      "  InsecureRequestWarning,\n",
      "/Users/adrien/opt/anaconda3/lib/python3.7/site-packages/urllib3/connectionpool.py:1020: InsecureRequestWarning: Unverified HTTPS request is being made to host 'www.wtvq.com'. Adding certificate verification is strongly advised. See: https://urllib3.readthedocs.io/en/latest/advanced-usage.html#ssl-warnings\n",
      "  InsecureRequestWarning,\n"
     ]
    },
    {
     "name": "stdout",
     "output_type": "stream",
     "text": [
      "51\n"
     ]
    },
    {
     "name": "stderr",
     "output_type": "stream",
     "text": [
      "/Users/adrien/opt/anaconda3/lib/python3.7/site-packages/urllib3/connectionpool.py:1020: InsecureRequestWarning: Unverified HTTPS request is being made to host 'www.ecowatch.com'. Adding certificate verification is strongly advised. See: https://urllib3.readthedocs.io/en/latest/advanced-usage.html#ssl-warnings\n",
      "  InsecureRequestWarning,\n",
      "/Users/adrien/opt/anaconda3/lib/python3.7/site-packages/urllib3/connectionpool.py:1020: InsecureRequestWarning: Unverified HTTPS request is being made to host 'www.ecowatch.com'. Adding certificate verification is strongly advised. See: https://urllib3.readthedocs.io/en/latest/advanced-usage.html#ssl-warnings\n",
      "  InsecureRequestWarning,\n"
     ]
    },
    {
     "name": "stdout",
     "output_type": "stream",
     "text": [
      "52\n",
      "53\n"
     ]
    },
    {
     "name": "stderr",
     "output_type": "stream",
     "text": [
      "/Users/adrien/opt/anaconda3/lib/python3.7/site-packages/urllib3/connectionpool.py:1020: InsecureRequestWarning: Unverified HTTPS request is being made to host 'www.newyorker.com'. Adding certificate verification is strongly advised. See: https://urllib3.readthedocs.io/en/latest/advanced-usage.html#ssl-warnings\n",
      "  InsecureRequestWarning,\n",
      "/Users/adrien/opt/anaconda3/lib/python3.7/site-packages/urllib3/connectionpool.py:1020: InsecureRequestWarning: Unverified HTTPS request is being made to host 'www.newyorker.com'. Adding certificate verification is strongly advised. See: https://urllib3.readthedocs.io/en/latest/advanced-usage.html#ssl-warnings\n",
      "  InsecureRequestWarning,\n"
     ]
    },
    {
     "name": "stdout",
     "output_type": "stream",
     "text": [
      "54\n"
     ]
    },
    {
     "name": "stderr",
     "output_type": "stream",
     "text": [
      "/Users/adrien/opt/anaconda3/lib/python3.7/site-packages/urllib3/connectionpool.py:1020: InsecureRequestWarning: Unverified HTTPS request is being made to host 'www.bostonglobe.com'. Adding certificate verification is strongly advised. See: https://urllib3.readthedocs.io/en/latest/advanced-usage.html#ssl-warnings\n",
      "  InsecureRequestWarning,\n",
      "/Users/adrien/opt/anaconda3/lib/python3.7/site-packages/urllib3/connectionpool.py:1020: InsecureRequestWarning: Unverified HTTPS request is being made to host 'www.bostonglobe.com'. Adding certificate verification is strongly advised. See: https://urllib3.readthedocs.io/en/latest/advanced-usage.html#ssl-warnings\n",
      "  InsecureRequestWarning,\n"
     ]
    },
    {
     "name": "stdout",
     "output_type": "stream",
     "text": [
      "55\n"
     ]
    },
    {
     "name": "stderr",
     "output_type": "stream",
     "text": [
      "/Users/adrien/opt/anaconda3/lib/python3.7/site-packages/urllib3/connectionpool.py:1020: InsecureRequestWarning: Unverified HTTPS request is being made to host 'world.wng.org'. Adding certificate verification is strongly advised. See: https://urllib3.readthedocs.io/en/latest/advanced-usage.html#ssl-warnings\n",
      "  InsecureRequestWarning,\n",
      "/Users/adrien/opt/anaconda3/lib/python3.7/site-packages/urllib3/connectionpool.py:1020: InsecureRequestWarning: Unverified HTTPS request is being made to host 'wng.org'. Adding certificate verification is strongly advised. See: https://urllib3.readthedocs.io/en/latest/advanced-usage.html#ssl-warnings\n",
      "  InsecureRequestWarning,\n",
      "/Users/adrien/opt/anaconda3/lib/python3.7/site-packages/urllib3/connectionpool.py:1020: InsecureRequestWarning: Unverified HTTPS request is being made to host 'world.wng.org'. Adding certificate verification is strongly advised. See: https://urllib3.readthedocs.io/en/latest/advanced-usage.html#ssl-warnings\n",
      "  InsecureRequestWarning,\n",
      "/Users/adrien/opt/anaconda3/lib/python3.7/site-packages/urllib3/connectionpool.py:1020: InsecureRequestWarning: Unverified HTTPS request is being made to host 'wng.org'. Adding certificate verification is strongly advised. See: https://urllib3.readthedocs.io/en/latest/advanced-usage.html#ssl-warnings\n",
      "  InsecureRequestWarning,\n"
     ]
    },
    {
     "name": "stdout",
     "output_type": "stream",
     "text": [
      "56\n"
     ]
    },
    {
     "name": "stderr",
     "output_type": "stream",
     "text": [
      "/Users/adrien/opt/anaconda3/lib/python3.7/site-packages/urllib3/connectionpool.py:1020: InsecureRequestWarning: Unverified HTTPS request is being made to host 'mondovisione.com'. Adding certificate verification is strongly advised. See: https://urllib3.readthedocs.io/en/latest/advanced-usage.html#ssl-warnings\n",
      "  InsecureRequestWarning,\n",
      "/Users/adrien/opt/anaconda3/lib/python3.7/site-packages/urllib3/connectionpool.py:1020: InsecureRequestWarning: Unverified HTTPS request is being made to host 'mondovisione.com'. Adding certificate verification is strongly advised. See: https://urllib3.readthedocs.io/en/latest/advanced-usage.html#ssl-warnings\n",
      "  InsecureRequestWarning,\n",
      "/Users/adrien/opt/anaconda3/lib/python3.7/site-packages/urllib3/connectionpool.py:1020: InsecureRequestWarning: Unverified HTTPS request is being made to host 'mondovisione.com'. Adding certificate verification is strongly advised. See: https://urllib3.readthedocs.io/en/latest/advanced-usage.html#ssl-warnings\n",
      "  InsecureRequestWarning,\n",
      "/Users/adrien/opt/anaconda3/lib/python3.7/site-packages/urllib3/connectionpool.py:1020: InsecureRequestWarning: Unverified HTTPS request is being made to host 'mondovisione.com'. Adding certificate verification is strongly advised. See: https://urllib3.readthedocs.io/en/latest/advanced-usage.html#ssl-warnings\n",
      "  InsecureRequestWarning,\n"
     ]
    },
    {
     "name": "stdout",
     "output_type": "stream",
     "text": [
      "57\n"
     ]
    },
    {
     "name": "stderr",
     "output_type": "stream",
     "text": [
      "/Users/adrien/opt/anaconda3/lib/python3.7/site-packages/urllib3/connectionpool.py:1020: InsecureRequestWarning: Unverified HTTPS request is being made to host 'www.irishtimes.com'. Adding certificate verification is strongly advised. See: https://urllib3.readthedocs.io/en/latest/advanced-usage.html#ssl-warnings\n",
      "  InsecureRequestWarning,\n",
      "/Users/adrien/opt/anaconda3/lib/python3.7/site-packages/urllib3/connectionpool.py:1020: InsecureRequestWarning: Unverified HTTPS request is being made to host 'www.irishtimes.com'. Adding certificate verification is strongly advised. See: https://urllib3.readthedocs.io/en/latest/advanced-usage.html#ssl-warnings\n",
      "  InsecureRequestWarning,\n",
      "/Users/adrien/opt/anaconda3/lib/python3.7/site-packages/urllib3/connectionpool.py:1020: InsecureRequestWarning: Unverified HTTPS request is being made to host 'www.irishtimes.com'. Adding certificate verification is strongly advised. See: https://urllib3.readthedocs.io/en/latest/advanced-usage.html#ssl-warnings\n",
      "  InsecureRequestWarning,\n",
      "/Users/adrien/opt/anaconda3/lib/python3.7/site-packages/urllib3/connectionpool.py:1020: InsecureRequestWarning: Unverified HTTPS request is being made to host 'www.irishtimes.com'. Adding certificate verification is strongly advised. See: https://urllib3.readthedocs.io/en/latest/advanced-usage.html#ssl-warnings\n",
      "  InsecureRequestWarning,\n"
     ]
    },
    {
     "name": "stdout",
     "output_type": "stream",
     "text": [
      "58\n"
     ]
    },
    {
     "name": "stderr",
     "output_type": "stream",
     "text": [
      "/Users/adrien/opt/anaconda3/lib/python3.7/site-packages/urllib3/connectionpool.py:1020: InsecureRequestWarning: Unverified HTTPS request is being made to host 'www.rawstory.com'. Adding certificate verification is strongly advised. See: https://urllib3.readthedocs.io/en/latest/advanced-usage.html#ssl-warnings\n",
      "  InsecureRequestWarning,\n",
      "/Users/adrien/opt/anaconda3/lib/python3.7/site-packages/urllib3/connectionpool.py:1020: InsecureRequestWarning: Unverified HTTPS request is being made to host 'www.rawstory.com'. Adding certificate verification is strongly advised. See: https://urllib3.readthedocs.io/en/latest/advanced-usage.html#ssl-warnings\n",
      "  InsecureRequestWarning,\n"
     ]
    },
    {
     "name": "stdout",
     "output_type": "stream",
     "text": [
      "59\n"
     ]
    },
    {
     "name": "stderr",
     "output_type": "stream",
     "text": [
      "/Users/adrien/opt/anaconda3/lib/python3.7/site-packages/urllib3/connectionpool.py:1020: InsecureRequestWarning: Unverified HTTPS request is being made to host 'www.prokerala.com'. Adding certificate verification is strongly advised. See: https://urllib3.readthedocs.io/en/latest/advanced-usage.html#ssl-warnings\n",
      "  InsecureRequestWarning,\n",
      "/Users/adrien/opt/anaconda3/lib/python3.7/site-packages/urllib3/connectionpool.py:1020: InsecureRequestWarning: Unverified HTTPS request is being made to host 'www.prokerala.com'. Adding certificate verification is strongly advised. See: https://urllib3.readthedocs.io/en/latest/advanced-usage.html#ssl-warnings\n",
      "  InsecureRequestWarning,\n"
     ]
    },
    {
     "name": "stdout",
     "output_type": "stream",
     "text": [
      "60\n"
     ]
    },
    {
     "name": "stderr",
     "output_type": "stream",
     "text": [
      "/Users/adrien/opt/anaconda3/lib/python3.7/site-packages/urllib3/connectionpool.py:1020: InsecureRequestWarning: Unverified HTTPS request is being made to host 'cnsnews.com'. Adding certificate verification is strongly advised. See: https://urllib3.readthedocs.io/en/latest/advanced-usage.html#ssl-warnings\n",
      "  InsecureRequestWarning,\n",
      "/Users/adrien/opt/anaconda3/lib/python3.7/site-packages/urllib3/connectionpool.py:1020: InsecureRequestWarning: Unverified HTTPS request is being made to host 'cnsnews.com'. Adding certificate verification is strongly advised. See: https://urllib3.readthedocs.io/en/latest/advanced-usage.html#ssl-warnings\n",
      "  InsecureRequestWarning,\n"
     ]
    },
    {
     "name": "stdout",
     "output_type": "stream",
     "text": [
      "61\n"
     ]
    },
    {
     "name": "stderr",
     "output_type": "stream",
     "text": [
      "/Users/adrien/opt/anaconda3/lib/python3.7/site-packages/urllib3/connectionpool.py:1020: InsecureRequestWarning: Unverified HTTPS request is being made to host 'auckland.scoop.co.nz'. Adding certificate verification is strongly advised. See: https://urllib3.readthedocs.io/en/latest/advanced-usage.html#ssl-warnings\n",
      "  InsecureRequestWarning,\n",
      "/Users/adrien/opt/anaconda3/lib/python3.7/site-packages/urllib3/connectionpool.py:1020: InsecureRequestWarning: Unverified HTTPS request is being made to host 'auckland.scoop.co.nz'. Adding certificate verification is strongly advised. See: https://urllib3.readthedocs.io/en/latest/advanced-usage.html#ssl-warnings\n",
      "  InsecureRequestWarning,\n"
     ]
    },
    {
     "name": "stdout",
     "output_type": "stream",
     "text": [
      "62\n"
     ]
    },
    {
     "name": "stderr",
     "output_type": "stream",
     "text": [
      "/Users/adrien/opt/anaconda3/lib/python3.7/site-packages/urllib3/connectionpool.py:1020: InsecureRequestWarning: Unverified HTTPS request is being made to host 'www.nhregister.com'. Adding certificate verification is strongly advised. See: https://urllib3.readthedocs.io/en/latest/advanced-usage.html#ssl-warnings\n",
      "  InsecureRequestWarning,\n",
      "/Users/adrien/opt/anaconda3/lib/python3.7/site-packages/urllib3/connectionpool.py:1020: InsecureRequestWarning: Unverified HTTPS request is being made to host 'www.nhregister.com'. Adding certificate verification is strongly advised. See: https://urllib3.readthedocs.io/en/latest/advanced-usage.html#ssl-warnings\n",
      "  InsecureRequestWarning,\n",
      "/Users/adrien/opt/anaconda3/lib/python3.7/site-packages/urllib3/connectionpool.py:1020: InsecureRequestWarning: Unverified HTTPS request is being made to host 'www.nhregister.com'. Adding certificate verification is strongly advised. See: https://urllib3.readthedocs.io/en/latest/advanced-usage.html#ssl-warnings\n",
      "  InsecureRequestWarning,\n",
      "/Users/adrien/opt/anaconda3/lib/python3.7/site-packages/urllib3/connectionpool.py:1020: InsecureRequestWarning: Unverified HTTPS request is being made to host 'www.nhregister.com'. Adding certificate verification is strongly advised. See: https://urllib3.readthedocs.io/en/latest/advanced-usage.html#ssl-warnings\n",
      "  InsecureRequestWarning,\n"
     ]
    },
    {
     "name": "stdout",
     "output_type": "stream",
     "text": [
      "63\n",
      "64\n"
     ]
    },
    {
     "name": "stderr",
     "output_type": "stream",
     "text": [
      "/Users/adrien/opt/anaconda3/lib/python3.7/site-packages/urllib3/connectionpool.py:1020: InsecureRequestWarning: Unverified HTTPS request is being made to host 'www.trust.org'. Adding certificate verification is strongly advised. See: https://urllib3.readthedocs.io/en/latest/advanced-usage.html#ssl-warnings\n",
      "  InsecureRequestWarning,\n",
      "/Users/adrien/opt/anaconda3/lib/python3.7/site-packages/urllib3/connectionpool.py:1020: InsecureRequestWarning: Unverified HTTPS request is being made to host 'www.trust.org'. Adding certificate verification is strongly advised. See: https://urllib3.readthedocs.io/en/latest/advanced-usage.html#ssl-warnings\n",
      "  InsecureRequestWarning,\n"
     ]
    },
    {
     "name": "stdout",
     "output_type": "stream",
     "text": [
      "65\n"
     ]
    },
    {
     "name": "stderr",
     "output_type": "stream",
     "text": [
      "/Users/adrien/opt/anaconda3/lib/python3.7/site-packages/urllib3/connectionpool.py:1020: InsecureRequestWarning: Unverified HTTPS request is being made to host 'www.smh.com.au'. Adding certificate verification is strongly advised. See: https://urllib3.readthedocs.io/en/latest/advanced-usage.html#ssl-warnings\n",
      "  InsecureRequestWarning,\n",
      "/Users/adrien/opt/anaconda3/lib/python3.7/site-packages/urllib3/connectionpool.py:1020: InsecureRequestWarning: Unverified HTTPS request is being made to host 'www.smh.com.au'. Adding certificate verification is strongly advised. See: https://urllib3.readthedocs.io/en/latest/advanced-usage.html#ssl-warnings\n",
      "  InsecureRequestWarning,\n"
     ]
    },
    {
     "name": "stdout",
     "output_type": "stream",
     "text": [
      "66\n"
     ]
    },
    {
     "name": "stderr",
     "output_type": "stream",
     "text": [
      "/Users/adrien/opt/anaconda3/lib/python3.7/site-packages/urllib3/connectionpool.py:1020: InsecureRequestWarning: Unverified HTTPS request is being made to host 'www.washingtonexaminer.com'. Adding certificate verification is strongly advised. See: https://urllib3.readthedocs.io/en/latest/advanced-usage.html#ssl-warnings\n",
      "  InsecureRequestWarning,\n",
      "/Users/adrien/opt/anaconda3/lib/python3.7/site-packages/urllib3/connectionpool.py:1020: InsecureRequestWarning: Unverified HTTPS request is being made to host 'www.washingtonexaminer.com'. Adding certificate verification is strongly advised. See: https://urllib3.readthedocs.io/en/latest/advanced-usage.html#ssl-warnings\n",
      "  InsecureRequestWarning,\n",
      "/Users/adrien/opt/anaconda3/lib/python3.7/site-packages/urllib3/connectionpool.py:1020: InsecureRequestWarning: Unverified HTTPS request is being made to host 'rappler.com'. Adding certificate verification is strongly advised. See: https://urllib3.readthedocs.io/en/latest/advanced-usage.html#ssl-warnings\n",
      "  InsecureRequestWarning,\n"
     ]
    },
    {
     "name": "stdout",
     "output_type": "stream",
     "text": [
      "67\n"
     ]
    },
    {
     "name": "stderr",
     "output_type": "stream",
     "text": [
      "/Users/adrien/opt/anaconda3/lib/python3.7/site-packages/urllib3/connectionpool.py:1020: InsecureRequestWarning: Unverified HTTPS request is being made to host 'www.rappler.com'. Adding certificate verification is strongly advised. See: https://urllib3.readthedocs.io/en/latest/advanced-usage.html#ssl-warnings\n",
      "  InsecureRequestWarning,\n",
      "/Users/adrien/opt/anaconda3/lib/python3.7/site-packages/urllib3/connectionpool.py:1020: InsecureRequestWarning: Unverified HTTPS request is being made to host 'www.rappler.com'. Adding certificate verification is strongly advised. See: https://urllib3.readthedocs.io/en/latest/advanced-usage.html#ssl-warnings\n",
      "  InsecureRequestWarning,\n",
      "/Users/adrien/opt/anaconda3/lib/python3.7/site-packages/urllib3/connectionpool.py:1020: InsecureRequestWarning: Unverified HTTPS request is being made to host 'rappler.com'. Adding certificate verification is strongly advised. See: https://urllib3.readthedocs.io/en/latest/advanced-usage.html#ssl-warnings\n",
      "  InsecureRequestWarning,\n",
      "/Users/adrien/opt/anaconda3/lib/python3.7/site-packages/urllib3/connectionpool.py:1020: InsecureRequestWarning: Unverified HTTPS request is being made to host 'www.rappler.com'. Adding certificate verification is strongly advised. See: https://urllib3.readthedocs.io/en/latest/advanced-usage.html#ssl-warnings\n",
      "  InsecureRequestWarning,\n",
      "/Users/adrien/opt/anaconda3/lib/python3.7/site-packages/urllib3/connectionpool.py:1020: InsecureRequestWarning: Unverified HTTPS request is being made to host 'www.rappler.com'. Adding certificate verification is strongly advised. See: https://urllib3.readthedocs.io/en/latest/advanced-usage.html#ssl-warnings\n",
      "  InsecureRequestWarning,\n"
     ]
    },
    {
     "name": "stdout",
     "output_type": "stream",
     "text": [
      "68\n"
     ]
    },
    {
     "name": "stderr",
     "output_type": "stream",
     "text": [
      "/Users/adrien/opt/anaconda3/lib/python3.7/site-packages/urllib3/connectionpool.py:1020: InsecureRequestWarning: Unverified HTTPS request is being made to host 'www.newswire.ca'. Adding certificate verification is strongly advised. See: https://urllib3.readthedocs.io/en/latest/advanced-usage.html#ssl-warnings\n",
      "  InsecureRequestWarning,\n",
      "/Users/adrien/opt/anaconda3/lib/python3.7/site-packages/urllib3/connectionpool.py:1020: InsecureRequestWarning: Unverified HTTPS request is being made to host 'www.newswire.ca'. Adding certificate verification is strongly advised. See: https://urllib3.readthedocs.io/en/latest/advanced-usage.html#ssl-warnings\n",
      "  InsecureRequestWarning,\n"
     ]
    },
    {
     "name": "stdout",
     "output_type": "stream",
     "text": [
      "69\n"
     ]
    },
    {
     "name": "stderr",
     "output_type": "stream",
     "text": [
      "/Users/adrien/opt/anaconda3/lib/python3.7/site-packages/urllib3/connectionpool.py:1020: InsecureRequestWarning: Unverified HTTPS request is being made to host 'www.euronews.com'. Adding certificate verification is strongly advised. See: https://urllib3.readthedocs.io/en/latest/advanced-usage.html#ssl-warnings\n",
      "  InsecureRequestWarning,\n",
      "/Users/adrien/opt/anaconda3/lib/python3.7/site-packages/urllib3/connectionpool.py:1020: InsecureRequestWarning: Unverified HTTPS request is being made to host 'www.euronews.com'. Adding certificate verification is strongly advised. See: https://urllib3.readthedocs.io/en/latest/advanced-usage.html#ssl-warnings\n",
      "  InsecureRequestWarning,\n",
      "/Users/adrien/opt/anaconda3/lib/python3.7/site-packages/urllib3/connectionpool.py:1020: InsecureRequestWarning: Unverified HTTPS request is being made to host 'www.euronews.com'. Adding certificate verification is strongly advised. See: https://urllib3.readthedocs.io/en/latest/advanced-usage.html#ssl-warnings\n",
      "  InsecureRequestWarning,\n",
      "/Users/adrien/opt/anaconda3/lib/python3.7/site-packages/urllib3/connectionpool.py:1020: InsecureRequestWarning: Unverified HTTPS request is being made to host 'www.euronews.com'. Adding certificate verification is strongly advised. See: https://urllib3.readthedocs.io/en/latest/advanced-usage.html#ssl-warnings\n",
      "  InsecureRequestWarning,\n"
     ]
    },
    {
     "name": "stdout",
     "output_type": "stream",
     "text": [
      "70\n"
     ]
    },
    {
     "name": "stderr",
     "output_type": "stream",
     "text": [
      "/Users/adrien/opt/anaconda3/lib/python3.7/site-packages/urllib3/connectionpool.py:1020: InsecureRequestWarning: Unverified HTTPS request is being made to host 'tribune.com.pk'. Adding certificate verification is strongly advised. See: https://urllib3.readthedocs.io/en/latest/advanced-usage.html#ssl-warnings\n",
      "  InsecureRequestWarning,\n",
      "/Users/adrien/opt/anaconda3/lib/python3.7/site-packages/urllib3/connectionpool.py:1020: InsecureRequestWarning: Unverified HTTPS request is being made to host 'tribune.com.pk'. Adding certificate verification is strongly advised. See: https://urllib3.readthedocs.io/en/latest/advanced-usage.html#ssl-warnings\n",
      "  InsecureRequestWarning,\n",
      "/Users/adrien/opt/anaconda3/lib/python3.7/site-packages/urllib3/connectionpool.py:1020: InsecureRequestWarning: Unverified HTTPS request is being made to host 'tribune.com.pk'. Adding certificate verification is strongly advised. See: https://urllib3.readthedocs.io/en/latest/advanced-usage.html#ssl-warnings\n",
      "  InsecureRequestWarning,\n",
      "/Users/adrien/opt/anaconda3/lib/python3.7/site-packages/urllib3/connectionpool.py:1020: InsecureRequestWarning: Unverified HTTPS request is being made to host 'tribune.com.pk'. Adding certificate verification is strongly advised. See: https://urllib3.readthedocs.io/en/latest/advanced-usage.html#ssl-warnings\n",
      "  InsecureRequestWarning,\n"
     ]
    },
    {
     "name": "stdout",
     "output_type": "stream",
     "text": [
      "71\n"
     ]
    },
    {
     "name": "stderr",
     "output_type": "stream",
     "text": [
      "/Users/adrien/opt/anaconda3/lib/python3.7/site-packages/urllib3/connectionpool.py:1020: InsecureRequestWarning: Unverified HTTPS request is being made to host 'www.sbs.com.au'. Adding certificate verification is strongly advised. See: https://urllib3.readthedocs.io/en/latest/advanced-usage.html#ssl-warnings\n",
      "  InsecureRequestWarning,\n",
      "/Users/adrien/opt/anaconda3/lib/python3.7/site-packages/urllib3/connectionpool.py:1020: InsecureRequestWarning: Unverified HTTPS request is being made to host 'www.sbs.com.au'. Adding certificate verification is strongly advised. See: https://urllib3.readthedocs.io/en/latest/advanced-usage.html#ssl-warnings\n",
      "  InsecureRequestWarning,\n",
      "/Users/adrien/opt/anaconda3/lib/python3.7/site-packages/urllib3/connectionpool.py:1020: InsecureRequestWarning: Unverified HTTPS request is being made to host 'www.sbs.com.au'. Adding certificate verification is strongly advised. See: https://urllib3.readthedocs.io/en/latest/advanced-usage.html#ssl-warnings\n",
      "  InsecureRequestWarning,\n",
      "/Users/adrien/opt/anaconda3/lib/python3.7/site-packages/urllib3/connectionpool.py:1020: InsecureRequestWarning: Unverified HTTPS request is being made to host 'www.sbs.com.au'. Adding certificate verification is strongly advised. See: https://urllib3.readthedocs.io/en/latest/advanced-usage.html#ssl-warnings\n",
      "  InsecureRequestWarning,\n"
     ]
    },
    {
     "name": "stdout",
     "output_type": "stream",
     "text": [
      "72\n"
     ]
    },
    {
     "name": "stderr",
     "output_type": "stream",
     "text": [
      "/Users/adrien/opt/anaconda3/lib/python3.7/site-packages/urllib3/connectionpool.py:1020: InsecureRequestWarning: Unverified HTTPS request is being made to host 'www.business-standard.com'. Adding certificate verification is strongly advised. See: https://urllib3.readthedocs.io/en/latest/advanced-usage.html#ssl-warnings\n",
      "  InsecureRequestWarning,\n",
      "/Users/adrien/opt/anaconda3/lib/python3.7/site-packages/urllib3/connectionpool.py:1020: InsecureRequestWarning: Unverified HTTPS request is being made to host 'www.business-standard.com'. Adding certificate verification is strongly advised. See: https://urllib3.readthedocs.io/en/latest/advanced-usage.html#ssl-warnings\n",
      "  InsecureRequestWarning,\n"
     ]
    },
    {
     "name": "stdout",
     "output_type": "stream",
     "text": [
      "73\n",
      "74\n"
     ]
    },
    {
     "name": "stderr",
     "output_type": "stream",
     "text": [
      "/Users/adrien/opt/anaconda3/lib/python3.7/site-packages/urllib3/connectionpool.py:1020: InsecureRequestWarning: Unverified HTTPS request is being made to host 'allafrica.com'. Adding certificate verification is strongly advised. See: https://urllib3.readthedocs.io/en/latest/advanced-usage.html#ssl-warnings\n",
      "  InsecureRequestWarning,\n",
      "/Users/adrien/opt/anaconda3/lib/python3.7/site-packages/urllib3/connectionpool.py:1020: InsecureRequestWarning: Unverified HTTPS request is being made to host 'allafrica.com'. Adding certificate verification is strongly advised. See: https://urllib3.readthedocs.io/en/latest/advanced-usage.html#ssl-warnings\n",
      "  InsecureRequestWarning,\n"
     ]
    },
    {
     "name": "stdout",
     "output_type": "stream",
     "text": [
      "75\n"
     ]
    },
    {
     "name": "stderr",
     "output_type": "stream",
     "text": [
      "/Users/adrien/opt/anaconda3/lib/python3.7/site-packages/urllib3/connectionpool.py:1020: InsecureRequestWarning: Unverified HTTPS request is being made to host 'www.euronews.com'. Adding certificate verification is strongly advised. See: https://urllib3.readthedocs.io/en/latest/advanced-usage.html#ssl-warnings\n",
      "  InsecureRequestWarning,\n",
      "/Users/adrien/opt/anaconda3/lib/python3.7/site-packages/urllib3/connectionpool.py:1020: InsecureRequestWarning: Unverified HTTPS request is being made to host 'www.euronews.com'. Adding certificate verification is strongly advised. See: https://urllib3.readthedocs.io/en/latest/advanced-usage.html#ssl-warnings\n",
      "  InsecureRequestWarning,\n",
      "/Users/adrien/opt/anaconda3/lib/python3.7/site-packages/urllib3/connectionpool.py:1020: InsecureRequestWarning: Unverified HTTPS request is being made to host 'www.euronews.com'. Adding certificate verification is strongly advised. See: https://urllib3.readthedocs.io/en/latest/advanced-usage.html#ssl-warnings\n",
      "  InsecureRequestWarning,\n",
      "/Users/adrien/opt/anaconda3/lib/python3.7/site-packages/urllib3/connectionpool.py:1020: InsecureRequestWarning: Unverified HTTPS request is being made to host 'www.euronews.com'. Adding certificate verification is strongly advised. See: https://urllib3.readthedocs.io/en/latest/advanced-usage.html#ssl-warnings\n",
      "  InsecureRequestWarning,\n"
     ]
    },
    {
     "name": "stdout",
     "output_type": "stream",
     "text": [
      "76\n"
     ]
    },
    {
     "name": "stderr",
     "output_type": "stream",
     "text": [
      "/Users/adrien/opt/anaconda3/lib/python3.7/site-packages/urllib3/connectionpool.py:1020: InsecureRequestWarning: Unverified HTTPS request is being made to host 'www.nzherald.co.nz'. Adding certificate verification is strongly advised. See: https://urllib3.readthedocs.io/en/latest/advanced-usage.html#ssl-warnings\n",
      "  InsecureRequestWarning,\n",
      "/Users/adrien/opt/anaconda3/lib/python3.7/site-packages/urllib3/connectionpool.py:1020: InsecureRequestWarning: Unverified HTTPS request is being made to host 'www.nzherald.co.nz'. Adding certificate verification is strongly advised. See: https://urllib3.readthedocs.io/en/latest/advanced-usage.html#ssl-warnings\n",
      "  InsecureRequestWarning,\n",
      "/Users/adrien/opt/anaconda3/lib/python3.7/site-packages/urllib3/connectionpool.py:1020: InsecureRequestWarning: Unverified HTTPS request is being made to host 'www.nzherald.co.nz'. Adding certificate verification is strongly advised. See: https://urllib3.readthedocs.io/en/latest/advanced-usage.html#ssl-warnings\n",
      "  InsecureRequestWarning,\n",
      "/Users/adrien/opt/anaconda3/lib/python3.7/site-packages/urllib3/connectionpool.py:1020: InsecureRequestWarning: Unverified HTTPS request is being made to host 'www.nzherald.co.nz'. Adding certificate verification is strongly advised. See: https://urllib3.readthedocs.io/en/latest/advanced-usage.html#ssl-warnings\n",
      "  InsecureRequestWarning,\n"
     ]
    },
    {
     "name": "stdout",
     "output_type": "stream",
     "text": [
      "77\n"
     ]
    },
    {
     "name": "stderr",
     "output_type": "stream",
     "text": [
      "/Users/adrien/opt/anaconda3/lib/python3.7/site-packages/urllib3/connectionpool.py:1020: InsecureRequestWarning: Unverified HTTPS request is being made to host 'feeds.theguardian.com'. Adding certificate verification is strongly advised. See: https://urllib3.readthedocs.io/en/latest/advanced-usage.html#ssl-warnings\n",
      "  InsecureRequestWarning,\n",
      "/Users/adrien/opt/anaconda3/lib/python3.7/site-packages/urllib3/connectionpool.py:1020: InsecureRequestWarning: Unverified HTTPS request is being made to host 'www.dailyclimate.org'. Adding certificate verification is strongly advised. See: https://urllib3.readthedocs.io/en/latest/advanced-usage.html#ssl-warnings\n",
      "  InsecureRequestWarning,\n",
      "/Users/adrien/opt/anaconda3/lib/python3.7/site-packages/urllib3/connectionpool.py:1020: InsecureRequestWarning: Unverified HTTPS request is being made to host 'www.dailyclimate.org'. Adding certificate verification is strongly advised. See: https://urllib3.readthedocs.io/en/latest/advanced-usage.html#ssl-warnings\n",
      "  InsecureRequestWarning,\n",
      "/Users/adrien/opt/anaconda3/lib/python3.7/site-packages/urllib3/connectionpool.py:1020: InsecureRequestWarning: Unverified HTTPS request is being made to host 'www.dailyclimate.org'. Adding certificate verification is strongly advised. See: https://urllib3.readthedocs.io/en/latest/advanced-usage.html#ssl-warnings\n",
      "  InsecureRequestWarning,\n",
      "/Users/adrien/opt/anaconda3/lib/python3.7/site-packages/urllib3/connectionpool.py:1020: InsecureRequestWarning: Unverified HTTPS request is being made to host 'www.dailyclimate.org'. Adding certificate verification is strongly advised. See: https://urllib3.readthedocs.io/en/latest/advanced-usage.html#ssl-warnings\n",
      "  InsecureRequestWarning,\n"
     ]
    },
    {
     "name": "stdout",
     "output_type": "stream",
     "text": [
      "78\n"
     ]
    },
    {
     "name": "stderr",
     "output_type": "stream",
     "text": [
      "/Users/adrien/opt/anaconda3/lib/python3.7/site-packages/urllib3/connectionpool.py:1020: InsecureRequestWarning: Unverified HTTPS request is being made to host 'feeds.theguardian.com'. Adding certificate verification is strongly advised. See: https://urllib3.readthedocs.io/en/latest/advanced-usage.html#ssl-warnings\n",
      "  InsecureRequestWarning,\n",
      "/Users/adrien/opt/anaconda3/lib/python3.7/site-packages/urllib3/connectionpool.py:1020: InsecureRequestWarning: Unverified HTTPS request is being made to host 'exclaim.ca'. Adding certificate verification is strongly advised. See: https://urllib3.readthedocs.io/en/latest/advanced-usage.html#ssl-warnings\n",
      "  InsecureRequestWarning,\n",
      "/Users/adrien/opt/anaconda3/lib/python3.7/site-packages/urllib3/connectionpool.py:1020: InsecureRequestWarning: Unverified HTTPS request is being made to host 'exclaim.ca'. Adding certificate verification is strongly advised. See: https://urllib3.readthedocs.io/en/latest/advanced-usage.html#ssl-warnings\n",
      "  InsecureRequestWarning,\n",
      "/Users/adrien/opt/anaconda3/lib/python3.7/site-packages/urllib3/connectionpool.py:1020: InsecureRequestWarning: Unverified HTTPS request is being made to host 'exclaim.ca'. Adding certificate verification is strongly advised. See: https://urllib3.readthedocs.io/en/latest/advanced-usage.html#ssl-warnings\n",
      "  InsecureRequestWarning,\n",
      "/Users/adrien/opt/anaconda3/lib/python3.7/site-packages/urllib3/connectionpool.py:1020: InsecureRequestWarning: Unverified HTTPS request is being made to host 'exclaim.ca'. Adding certificate verification is strongly advised. See: https://urllib3.readthedocs.io/en/latest/advanced-usage.html#ssl-warnings\n",
      "  InsecureRequestWarning,\n",
      "/Users/adrien/opt/anaconda3/lib/python3.7/site-packages/urllib3/connectionpool.py:1020: InsecureRequestWarning: Unverified HTTPS request is being made to host 'exclaim.ca'. Adding certificate verification is strongly advised. See: https://urllib3.readthedocs.io/en/latest/advanced-usage.html#ssl-warnings\n",
      "  InsecureRequestWarning,\n",
      "/Users/adrien/opt/anaconda3/lib/python3.7/site-packages/urllib3/connectionpool.py:1020: InsecureRequestWarning: Unverified HTTPS request is being made to host 'exclaim.ca'. Adding certificate verification is strongly advised. See: https://urllib3.readthedocs.io/en/latest/advanced-usage.html#ssl-warnings\n",
      "  InsecureRequestWarning,\n"
     ]
    },
    {
     "name": "stdout",
     "output_type": "stream",
     "text": [
      "79\n"
     ]
    },
    {
     "name": "stderr",
     "output_type": "stream",
     "text": [
      "/Users/adrien/opt/anaconda3/lib/python3.7/site-packages/urllib3/connectionpool.py:1020: InsecureRequestWarning: Unverified HTTPS request is being made to host 'www.bristolpost.co.uk'. Adding certificate verification is strongly advised. See: https://urllib3.readthedocs.io/en/latest/advanced-usage.html#ssl-warnings\n",
      "  InsecureRequestWarning,\n",
      "/Users/adrien/opt/anaconda3/lib/python3.7/site-packages/urllib3/connectionpool.py:1020: InsecureRequestWarning: Unverified HTTPS request is being made to host 'www.bristolpost.co.uk'. Adding certificate verification is strongly advised. See: https://urllib3.readthedocs.io/en/latest/advanced-usage.html#ssl-warnings\n",
      "  InsecureRequestWarning,\n"
     ]
    },
    {
     "name": "stdout",
     "output_type": "stream",
     "text": [
      "80\n"
     ]
    },
    {
     "name": "stderr",
     "output_type": "stream",
     "text": [
      "/Users/adrien/opt/anaconda3/lib/python3.7/site-packages/urllib3/connectionpool.py:1020: InsecureRequestWarning: Unverified HTTPS request is being made to host 'www.ecowatch.com'. Adding certificate verification is strongly advised. See: https://urllib3.readthedocs.io/en/latest/advanced-usage.html#ssl-warnings\n",
      "  InsecureRequestWarning,\n",
      "/Users/adrien/opt/anaconda3/lib/python3.7/site-packages/urllib3/connectionpool.py:1020: InsecureRequestWarning: Unverified HTTPS request is being made to host 'www.ecowatch.com'. Adding certificate verification is strongly advised. See: https://urllib3.readthedocs.io/en/latest/advanced-usage.html#ssl-warnings\n",
      "  InsecureRequestWarning,\n",
      "/Users/adrien/opt/anaconda3/lib/python3.7/site-packages/urllib3/connectionpool.py:1020: InsecureRequestWarning: Unverified HTTPS request is being made to host 'www.ecowatch.com'. Adding certificate verification is strongly advised. See: https://urllib3.readthedocs.io/en/latest/advanced-usage.html#ssl-warnings\n",
      "  InsecureRequestWarning,\n",
      "/Users/adrien/opt/anaconda3/lib/python3.7/site-packages/urllib3/connectionpool.py:1020: InsecureRequestWarning: Unverified HTTPS request is being made to host 'www.ecowatch.com'. Adding certificate verification is strongly advised. See: https://urllib3.readthedocs.io/en/latest/advanced-usage.html#ssl-warnings\n",
      "  InsecureRequestWarning,\n"
     ]
    },
    {
     "name": "stdout",
     "output_type": "stream",
     "text": [
      "81\n"
     ]
    },
    {
     "name": "stderr",
     "output_type": "stream",
     "text": [
      "/Users/adrien/opt/anaconda3/lib/python3.7/site-packages/urllib3/connectionpool.py:1020: InsecureRequestWarning: Unverified HTTPS request is being made to host 'federalnewsradio.com'. Adding certificate verification is strongly advised. See: https://urllib3.readthedocs.io/en/latest/advanced-usage.html#ssl-warnings\n",
      "  InsecureRequestWarning,\n",
      "/Users/adrien/opt/anaconda3/lib/python3.7/site-packages/urllib3/connectionpool.py:1020: InsecureRequestWarning: Unverified HTTPS request is being made to host 'federalnewsnetwork.com'. Adding certificate verification is strongly advised. See: https://urllib3.readthedocs.io/en/latest/advanced-usage.html#ssl-warnings\n",
      "  InsecureRequestWarning,\n",
      "/Users/adrien/opt/anaconda3/lib/python3.7/site-packages/urllib3/connectionpool.py:1020: InsecureRequestWarning: Unverified HTTPS request is being made to host 'federalnewsradio.com'. Adding certificate verification is strongly advised. See: https://urllib3.readthedocs.io/en/latest/advanced-usage.html#ssl-warnings\n",
      "  InsecureRequestWarning,\n",
      "/Users/adrien/opt/anaconda3/lib/python3.7/site-packages/urllib3/connectionpool.py:1020: InsecureRequestWarning: Unverified HTTPS request is being made to host 'federalnewsnetwork.com'. Adding certificate verification is strongly advised. See: https://urllib3.readthedocs.io/en/latest/advanced-usage.html#ssl-warnings\n",
      "  InsecureRequestWarning,\n"
     ]
    },
    {
     "name": "stdout",
     "output_type": "stream",
     "text": [
      "82\n"
     ]
    },
    {
     "name": "stderr",
     "output_type": "stream",
     "text": [
      "/Users/adrien/opt/anaconda3/lib/python3.7/site-packages/urllib3/connectionpool.py:1020: InsecureRequestWarning: Unverified HTTPS request is being made to host 'www.dailyclimate.org'. Adding certificate verification is strongly advised. See: https://urllib3.readthedocs.io/en/latest/advanced-usage.html#ssl-warnings\n",
      "  InsecureRequestWarning,\n",
      "/Users/adrien/opt/anaconda3/lib/python3.7/site-packages/urllib3/connectionpool.py:1020: InsecureRequestWarning: Unverified HTTPS request is being made to host 'www.dailyclimate.org'. Adding certificate verification is strongly advised. See: https://urllib3.readthedocs.io/en/latest/advanced-usage.html#ssl-warnings\n",
      "  InsecureRequestWarning,\n",
      "/Users/adrien/opt/anaconda3/lib/python3.7/site-packages/urllib3/connectionpool.py:1020: InsecureRequestWarning: Unverified HTTPS request is being made to host 'www.dailyclimate.org'. Adding certificate verification is strongly advised. See: https://urllib3.readthedocs.io/en/latest/advanced-usage.html#ssl-warnings\n",
      "  InsecureRequestWarning,\n",
      "/Users/adrien/opt/anaconda3/lib/python3.7/site-packages/urllib3/connectionpool.py:1020: InsecureRequestWarning: Unverified HTTPS request is being made to host 'www.dailyclimate.org'. Adding certificate verification is strongly advised. See: https://urllib3.readthedocs.io/en/latest/advanced-usage.html#ssl-warnings\n",
      "  InsecureRequestWarning,\n"
     ]
    },
    {
     "name": "stdout",
     "output_type": "stream",
     "text": [
      "83\n"
     ]
    },
    {
     "name": "stderr",
     "output_type": "stream",
     "text": [
      "/Users/adrien/opt/anaconda3/lib/python3.7/site-packages/urllib3/connectionpool.py:1020: InsecureRequestWarning: Unverified HTTPS request is being made to host 'aninews.in'. Adding certificate verification is strongly advised. See: https://urllib3.readthedocs.io/en/latest/advanced-usage.html#ssl-warnings\n",
      "  InsecureRequestWarning,\n",
      "/Users/adrien/opt/anaconda3/lib/python3.7/site-packages/urllib3/connectionpool.py:1020: InsecureRequestWarning: Unverified HTTPS request is being made to host 'eu.timesonline.com'. Adding certificate verification is strongly advised. See: https://urllib3.readthedocs.io/en/latest/advanced-usage.html#ssl-warnings\n",
      "  InsecureRequestWarning,\n",
      "/Users/adrien/opt/anaconda3/lib/python3.7/site-packages/urllib3/connectionpool.py:1020: InsecureRequestWarning: Unverified HTTPS request is being made to host 'eu.timesonline.com'. Adding certificate verification is strongly advised. See: https://urllib3.readthedocs.io/en/latest/advanced-usage.html#ssl-warnings\n",
      "  InsecureRequestWarning,\n",
      "/Users/adrien/opt/anaconda3/lib/python3.7/site-packages/urllib3/connectionpool.py:1020: InsecureRequestWarning: Unverified HTTPS request is being made to host 'eu.timesonline.com'. Adding certificate verification is strongly advised. See: https://urllib3.readthedocs.io/en/latest/advanced-usage.html#ssl-warnings\n",
      "  InsecureRequestWarning,\n",
      "/Users/adrien/opt/anaconda3/lib/python3.7/site-packages/urllib3/connectionpool.py:1020: InsecureRequestWarning: Unverified HTTPS request is being made to host 'eu.timesonline.com'. Adding certificate verification is strongly advised. See: https://urllib3.readthedocs.io/en/latest/advanced-usage.html#ssl-warnings\n",
      "  InsecureRequestWarning,\n",
      "/Users/adrien/opt/anaconda3/lib/python3.7/site-packages/urllib3/connectionpool.py:1020: InsecureRequestWarning: Unverified HTTPS request is being made to host 'eu.timesonline.com'. Adding certificate verification is strongly advised. See: https://urllib3.readthedocs.io/en/latest/advanced-usage.html#ssl-warnings\n",
      "  InsecureRequestWarning,\n",
      "/Users/adrien/opt/anaconda3/lib/python3.7/site-packages/urllib3/connectionpool.py:1020: InsecureRequestWarning: Unverified HTTPS request is being made to host 'eu.timesonline.com'. Adding certificate verification is strongly advised. See: https://urllib3.readthedocs.io/en/latest/advanced-usage.html#ssl-warnings\n",
      "  InsecureRequestWarning,\n"
     ]
    },
    {
     "name": "stdout",
     "output_type": "stream",
     "text": [
      "84\n"
     ]
    },
    {
     "name": "stderr",
     "output_type": "stream",
     "text": [
      "/Users/adrien/opt/anaconda3/lib/python3.7/site-packages/urllib3/connectionpool.py:1020: InsecureRequestWarning: Unverified HTTPS request is being made to host 'www.wtvq.com'. Adding certificate verification is strongly advised. See: https://urllib3.readthedocs.io/en/latest/advanced-usage.html#ssl-warnings\n",
      "  InsecureRequestWarning,\n",
      "/Users/adrien/opt/anaconda3/lib/python3.7/site-packages/urllib3/connectionpool.py:1020: InsecureRequestWarning: Unverified HTTPS request is being made to host 'www.wtvq.com'. Adding certificate verification is strongly advised. See: https://urllib3.readthedocs.io/en/latest/advanced-usage.html#ssl-warnings\n",
      "  InsecureRequestWarning,\n"
     ]
    },
    {
     "name": "stdout",
     "output_type": "stream",
     "text": [
      "85\n"
     ]
    },
    {
     "name": "stderr",
     "output_type": "stream",
     "text": [
      "/Users/adrien/opt/anaconda3/lib/python3.7/site-packages/urllib3/connectionpool.py:1020: InsecureRequestWarning: Unverified HTTPS request is being made to host 'www.newsbusters.org'. Adding certificate verification is strongly advised. See: https://urllib3.readthedocs.io/en/latest/advanced-usage.html#ssl-warnings\n",
      "  InsecureRequestWarning,\n",
      "/Users/adrien/opt/anaconda3/lib/python3.7/site-packages/urllib3/connectionpool.py:1020: InsecureRequestWarning: Unverified HTTPS request is being made to host 'www.newsbusters.org'. Adding certificate verification is strongly advised. See: https://urllib3.readthedocs.io/en/latest/advanced-usage.html#ssl-warnings\n",
      "  InsecureRequestWarning,\n"
     ]
    },
    {
     "name": "stdout",
     "output_type": "stream",
     "text": [
      "86\n"
     ]
    },
    {
     "name": "stderr",
     "output_type": "stream",
     "text": [
      "/Users/adrien/opt/anaconda3/lib/python3.7/site-packages/urllib3/connectionpool.py:1020: InsecureRequestWarning: Unverified HTTPS request is being made to host 'www.business-standard.com'. Adding certificate verification is strongly advised. See: https://urllib3.readthedocs.io/en/latest/advanced-usage.html#ssl-warnings\n",
      "  InsecureRequestWarning,\n",
      "/Users/adrien/opt/anaconda3/lib/python3.7/site-packages/urllib3/connectionpool.py:1020: InsecureRequestWarning: Unverified HTTPS request is being made to host 'www.business-standard.com'. Adding certificate verification is strongly advised. See: https://urllib3.readthedocs.io/en/latest/advanced-usage.html#ssl-warnings\n",
      "  InsecureRequestWarning,\n"
     ]
    },
    {
     "name": "stdout",
     "output_type": "stream",
     "text": [
      "87\n"
     ]
    },
    {
     "name": "stderr",
     "output_type": "stream",
     "text": [
      "/Users/adrien/opt/anaconda3/lib/python3.7/site-packages/urllib3/connectionpool.py:1020: InsecureRequestWarning: Unverified HTTPS request is being made to host 'www.buzzfeed.com'. Adding certificate verification is strongly advised. See: https://urllib3.readthedocs.io/en/latest/advanced-usage.html#ssl-warnings\n",
      "  InsecureRequestWarning,\n",
      "/Users/adrien/opt/anaconda3/lib/python3.7/site-packages/urllib3/connectionpool.py:1020: InsecureRequestWarning: Unverified HTTPS request is being made to host 'www.buzzfeednews.com'. Adding certificate verification is strongly advised. See: https://urllib3.readthedocs.io/en/latest/advanced-usage.html#ssl-warnings\n",
      "  InsecureRequestWarning,\n",
      "/Users/adrien/opt/anaconda3/lib/python3.7/site-packages/urllib3/connectionpool.py:1020: InsecureRequestWarning: Unverified HTTPS request is being made to host 'www.buzzfeed.com'. Adding certificate verification is strongly advised. See: https://urllib3.readthedocs.io/en/latest/advanced-usage.html#ssl-warnings\n",
      "  InsecureRequestWarning,\n",
      "/Users/adrien/opt/anaconda3/lib/python3.7/site-packages/urllib3/connectionpool.py:1020: InsecureRequestWarning: Unverified HTTPS request is being made to host 'www.buzzfeednews.com'. Adding certificate verification is strongly advised. See: https://urllib3.readthedocs.io/en/latest/advanced-usage.html#ssl-warnings\n",
      "  InsecureRequestWarning,\n"
     ]
    },
    {
     "name": "stdout",
     "output_type": "stream",
     "text": [
      "88\n"
     ]
    },
    {
     "name": "stderr",
     "output_type": "stream",
     "text": [
      "/Users/adrien/opt/anaconda3/lib/python3.7/site-packages/urllib3/connectionpool.py:1020: InsecureRequestWarning: Unverified HTTPS request is being made to host 'www.ekklesia.co.uk'. Adding certificate verification is strongly advised. See: https://urllib3.readthedocs.io/en/latest/advanced-usage.html#ssl-warnings\n",
      "  InsecureRequestWarning,\n",
      "/Users/adrien/opt/anaconda3/lib/python3.7/site-packages/urllib3/connectionpool.py:1020: InsecureRequestWarning: Unverified HTTPS request is being made to host 'www.ekklesia.co.uk'. Adding certificate verification is strongly advised. See: https://urllib3.readthedocs.io/en/latest/advanced-usage.html#ssl-warnings\n",
      "  InsecureRequestWarning,\n"
     ]
    },
    {
     "name": "stdout",
     "output_type": "stream",
     "text": [
      "89\n",
      "90\n"
     ]
    },
    {
     "name": "stderr",
     "output_type": "stream",
     "text": [
      "/Users/adrien/opt/anaconda3/lib/python3.7/site-packages/urllib3/connectionpool.py:1020: InsecureRequestWarning: Unverified HTTPS request is being made to host 'www.euronews.com'. Adding certificate verification is strongly advised. See: https://urllib3.readthedocs.io/en/latest/advanced-usage.html#ssl-warnings\n",
      "  InsecureRequestWarning,\n",
      "/Users/adrien/opt/anaconda3/lib/python3.7/site-packages/urllib3/connectionpool.py:1020: InsecureRequestWarning: Unverified HTTPS request is being made to host 'www.euronews.com'. Adding certificate verification is strongly advised. See: https://urllib3.readthedocs.io/en/latest/advanced-usage.html#ssl-warnings\n",
      "  InsecureRequestWarning,\n",
      "/Users/adrien/opt/anaconda3/lib/python3.7/site-packages/urllib3/connectionpool.py:1020: InsecureRequestWarning: Unverified HTTPS request is being made to host 'www.euronews.com'. Adding certificate verification is strongly advised. See: https://urllib3.readthedocs.io/en/latest/advanced-usage.html#ssl-warnings\n",
      "  InsecureRequestWarning,\n",
      "/Users/adrien/opt/anaconda3/lib/python3.7/site-packages/urllib3/connectionpool.py:1020: InsecureRequestWarning: Unverified HTTPS request is being made to host 'www.euronews.com'. Adding certificate verification is strongly advised. See: https://urllib3.readthedocs.io/en/latest/advanced-usage.html#ssl-warnings\n",
      "  InsecureRequestWarning,\n"
     ]
    },
    {
     "name": "stdout",
     "output_type": "stream",
     "text": [
      "91\n"
     ]
    },
    {
     "name": "stderr",
     "output_type": "stream",
     "text": [
      "/Users/adrien/opt/anaconda3/lib/python3.7/site-packages/urllib3/connectionpool.py:1020: InsecureRequestWarning: Unverified HTTPS request is being made to host 'allafrica.com'. Adding certificate verification is strongly advised. See: https://urllib3.readthedocs.io/en/latest/advanced-usage.html#ssl-warnings\n",
      "  InsecureRequestWarning,\n",
      "/Users/adrien/opt/anaconda3/lib/python3.7/site-packages/urllib3/connectionpool.py:1020: InsecureRequestWarning: Unverified HTTPS request is being made to host 'allafrica.com'. Adding certificate verification is strongly advised. See: https://urllib3.readthedocs.io/en/latest/advanced-usage.html#ssl-warnings\n",
      "  InsecureRequestWarning,\n"
     ]
    },
    {
     "name": "stdout",
     "output_type": "stream",
     "text": [
      "92\n",
      "93\n"
     ]
    },
    {
     "name": "stderr",
     "output_type": "stream",
     "text": [
      "/Users/adrien/opt/anaconda3/lib/python3.7/site-packages/urllib3/connectionpool.py:1020: InsecureRequestWarning: Unverified HTTPS request is being made to host 'www.investorideas.com'. Adding certificate verification is strongly advised. See: https://urllib3.readthedocs.io/en/latest/advanced-usage.html#ssl-warnings\n",
      "  InsecureRequestWarning,\n",
      "/Users/adrien/opt/anaconda3/lib/python3.7/site-packages/urllib3/connectionpool.py:1020: InsecureRequestWarning: Unverified HTTPS request is being made to host 'www.investorideas.com'. Adding certificate verification is strongly advised. See: https://urllib3.readthedocs.io/en/latest/advanced-usage.html#ssl-warnings\n",
      "  InsecureRequestWarning,\n"
     ]
    },
    {
     "name": "stdout",
     "output_type": "stream",
     "text": [
      "94\n"
     ]
    },
    {
     "name": "stderr",
     "output_type": "stream",
     "text": [
      "/Users/adrien/opt/anaconda3/lib/python3.7/site-packages/urllib3/connectionpool.py:1020: InsecureRequestWarning: Unverified HTTPS request is being made to host 'www.cbc.ca'. Adding certificate verification is strongly advised. See: https://urllib3.readthedocs.io/en/latest/advanced-usage.html#ssl-warnings\n",
      "  InsecureRequestWarning,\n",
      "/Users/adrien/opt/anaconda3/lib/python3.7/site-packages/urllib3/connectionpool.py:1020: InsecureRequestWarning: Unverified HTTPS request is being made to host 'www.cbc.ca'. Adding certificate verification is strongly advised. See: https://urllib3.readthedocs.io/en/latest/advanced-usage.html#ssl-warnings\n",
      "  InsecureRequestWarning,\n"
     ]
    },
    {
     "name": "stdout",
     "output_type": "stream",
     "text": [
      "95\n"
     ]
    },
    {
     "name": "stderr",
     "output_type": "stream",
     "text": [
      "/Users/adrien/opt/anaconda3/lib/python3.7/site-packages/urllib3/connectionpool.py:1020: InsecureRequestWarning: Unverified HTTPS request is being made to host 'www.prokerala.com'. Adding certificate verification is strongly advised. See: https://urllib3.readthedocs.io/en/latest/advanced-usage.html#ssl-warnings\n",
      "  InsecureRequestWarning,\n",
      "/Users/adrien/opt/anaconda3/lib/python3.7/site-packages/urllib3/connectionpool.py:1020: InsecureRequestWarning: Unverified HTTPS request is being made to host 'www.prokerala.com'. Adding certificate verification is strongly advised. See: https://urllib3.readthedocs.io/en/latest/advanced-usage.html#ssl-warnings\n",
      "  InsecureRequestWarning,\n"
     ]
    },
    {
     "name": "stdout",
     "output_type": "stream",
     "text": [
      "96\n"
     ]
    },
    {
     "name": "stderr",
     "output_type": "stream",
     "text": [
      "/Users/adrien/opt/anaconda3/lib/python3.7/site-packages/urllib3/connectionpool.py:1020: InsecureRequestWarning: Unverified HTTPS request is being made to host 'thediplomat.com'. Adding certificate verification is strongly advised. See: https://urllib3.readthedocs.io/en/latest/advanced-usage.html#ssl-warnings\n",
      "  InsecureRequestWarning,\n",
      "/Users/adrien/opt/anaconda3/lib/python3.7/site-packages/urllib3/connectionpool.py:1020: InsecureRequestWarning: Unverified HTTPS request is being made to host 'thediplomat.com'. Adding certificate verification is strongly advised. See: https://urllib3.readthedocs.io/en/latest/advanced-usage.html#ssl-warnings\n",
      "  InsecureRequestWarning,\n"
     ]
    },
    {
     "name": "stdout",
     "output_type": "stream",
     "text": [
      "97\n"
     ]
    },
    {
     "name": "stderr",
     "output_type": "stream",
     "text": [
      "/Users/adrien/opt/anaconda3/lib/python3.7/site-packages/urllib3/connectionpool.py:1020: InsecureRequestWarning: Unverified HTTPS request is being made to host 'worldbulletin.dunyabulteni.net'. Adding certificate verification is strongly advised. See: https://urllib3.readthedocs.io/en/latest/advanced-usage.html#ssl-warnings\n",
      "  InsecureRequestWarning,\n",
      "/Users/adrien/opt/anaconda3/lib/python3.7/site-packages/urllib3/connectionpool.py:1020: InsecureRequestWarning: Unverified HTTPS request is being made to host 'worldbulletin.dunyabulteni.net'. Adding certificate verification is strongly advised. See: https://urllib3.readthedocs.io/en/latest/advanced-usage.html#ssl-warnings\n",
      "  InsecureRequestWarning,\n"
     ]
    },
    {
     "name": "stdout",
     "output_type": "stream",
     "text": [
      "98\n"
     ]
    },
    {
     "name": "stderr",
     "output_type": "stream",
     "text": [
      "/Users/adrien/opt/anaconda3/lib/python3.7/site-packages/urllib3/connectionpool.py:1020: InsecureRequestWarning: Unverified HTTPS request is being made to host 'rushlimbaugh.com'. Adding certificate verification is strongly advised. See: https://urllib3.readthedocs.io/en/latest/advanced-usage.html#ssl-warnings\n",
      "  InsecureRequestWarning,\n",
      "/Users/adrien/opt/anaconda3/lib/python3.7/site-packages/urllib3/connectionpool.py:1020: InsecureRequestWarning: Unverified HTTPS request is being made to host 'www.rushlimbaugh.com'. Adding certificate verification is strongly advised. See: https://urllib3.readthedocs.io/en/latest/advanced-usage.html#ssl-warnings\n",
      "  InsecureRequestWarning,\n",
      "/Users/adrien/opt/anaconda3/lib/python3.7/site-packages/urllib3/connectionpool.py:1020: InsecureRequestWarning: Unverified HTTPS request is being made to host 'rushlimbaugh.com'. Adding certificate verification is strongly advised. See: https://urllib3.readthedocs.io/en/latest/advanced-usage.html#ssl-warnings\n",
      "  InsecureRequestWarning,\n",
      "/Users/adrien/opt/anaconda3/lib/python3.7/site-packages/urllib3/connectionpool.py:1020: InsecureRequestWarning: Unverified HTTPS request is being made to host 'www.rushlimbaugh.com'. Adding certificate verification is strongly advised. See: https://urllib3.readthedocs.io/en/latest/advanced-usage.html#ssl-warnings\n",
      "  InsecureRequestWarning,\n"
     ]
    },
    {
     "name": "stdout",
     "output_type": "stream",
     "text": [
      "99\n"
     ]
    },
    {
     "name": "stderr",
     "output_type": "stream",
     "text": [
      "/Users/adrien/opt/anaconda3/lib/python3.7/site-packages/urllib3/connectionpool.py:1020: InsecureRequestWarning: Unverified HTTPS request is being made to host 'www.dailyclimate.org'. Adding certificate verification is strongly advised. See: https://urllib3.readthedocs.io/en/latest/advanced-usage.html#ssl-warnings\n",
      "  InsecureRequestWarning,\n",
      "/Users/adrien/opt/anaconda3/lib/python3.7/site-packages/urllib3/connectionpool.py:1020: InsecureRequestWarning: Unverified HTTPS request is being made to host 'www.dailyclimate.org'. Adding certificate verification is strongly advised. See: https://urllib3.readthedocs.io/en/latest/advanced-usage.html#ssl-warnings\n",
      "  InsecureRequestWarning,\n",
      "/Users/adrien/opt/anaconda3/lib/python3.7/site-packages/urllib3/connectionpool.py:1020: InsecureRequestWarning: Unverified HTTPS request is being made to host 'www.dailyclimate.org'. Adding certificate verification is strongly advised. See: https://urllib3.readthedocs.io/en/latest/advanced-usage.html#ssl-warnings\n",
      "  InsecureRequestWarning,\n",
      "/Users/adrien/opt/anaconda3/lib/python3.7/site-packages/urllib3/connectionpool.py:1020: InsecureRequestWarning: Unverified HTTPS request is being made to host 'www.dailyclimate.org'. Adding certificate verification is strongly advised. See: https://urllib3.readthedocs.io/en/latest/advanced-usage.html#ssl-warnings\n",
      "  InsecureRequestWarning,\n"
     ]
    },
    {
     "name": "stdout",
     "output_type": "stream",
     "text": [
      "100\n"
     ]
    },
    {
     "name": "stderr",
     "output_type": "stream",
     "text": [
      "/Users/adrien/opt/anaconda3/lib/python3.7/site-packages/urllib3/connectionpool.py:1020: InsecureRequestWarning: Unverified HTTPS request is being made to host 'www.cairnspost.com.au'. Adding certificate verification is strongly advised. See: https://urllib3.readthedocs.io/en/latest/advanced-usage.html#ssl-warnings\n",
      "  InsecureRequestWarning,\n",
      "/Users/adrien/opt/anaconda3/lib/python3.7/site-packages/urllib3/connectionpool.py:1020: InsecureRequestWarning: Unverified HTTPS request is being made to host 'tags.news.com.au'. Adding certificate verification is strongly advised. See: https://urllib3.readthedocs.io/en/latest/advanced-usage.html#ssl-warnings\n",
      "  InsecureRequestWarning,\n",
      "/Users/adrien/opt/anaconda3/lib/python3.7/site-packages/urllib3/connectionpool.py:1020: InsecureRequestWarning: Unverified HTTPS request is being made to host 'www.cairnspost.com.au'. Adding certificate verification is strongly advised. See: https://urllib3.readthedocs.io/en/latest/advanced-usage.html#ssl-warnings\n",
      "  InsecureRequestWarning,\n",
      "/Users/adrien/opt/anaconda3/lib/python3.7/site-packages/urllib3/connectionpool.py:1020: InsecureRequestWarning: Unverified HTTPS request is being made to host 'www.cairnspost.com.au'. Adding certificate verification is strongly advised. See: https://urllib3.readthedocs.io/en/latest/advanced-usage.html#ssl-warnings\n",
      "  InsecureRequestWarning,\n",
      "/Users/adrien/opt/anaconda3/lib/python3.7/site-packages/urllib3/connectionpool.py:1020: InsecureRequestWarning: Unverified HTTPS request is being made to host 'tags.news.com.au'. Adding certificate verification is strongly advised. See: https://urllib3.readthedocs.io/en/latest/advanced-usage.html#ssl-warnings\n",
      "  InsecureRequestWarning,\n",
      "/Users/adrien/opt/anaconda3/lib/python3.7/site-packages/urllib3/connectionpool.py:1020: InsecureRequestWarning: Unverified HTTPS request is being made to host 'www.cairnspost.com.au'. Adding certificate verification is strongly advised. See: https://urllib3.readthedocs.io/en/latest/advanced-usage.html#ssl-warnings\n",
      "  InsecureRequestWarning,\n"
     ]
    },
    {
     "name": "stdout",
     "output_type": "stream",
     "text": [
      "101\n",
      "102\n"
     ]
    },
    {
     "name": "stderr",
     "output_type": "stream",
     "text": [
      "/Users/adrien/opt/anaconda3/lib/python3.7/site-packages/urllib3/connectionpool.py:1020: InsecureRequestWarning: Unverified HTTPS request is being made to host 'leadership.ng'. Adding certificate verification is strongly advised. See: https://urllib3.readthedocs.io/en/latest/advanced-usage.html#ssl-warnings\n",
      "  InsecureRequestWarning,\n",
      "/Users/adrien/opt/anaconda3/lib/python3.7/site-packages/urllib3/connectionpool.py:1020: InsecureRequestWarning: Unverified HTTPS request is being made to host 'leadership.ng'. Adding certificate verification is strongly advised. See: https://urllib3.readthedocs.io/en/latest/advanced-usage.html#ssl-warnings\n",
      "  InsecureRequestWarning,\n"
     ]
    },
    {
     "name": "stdout",
     "output_type": "stream",
     "text": [
      "103\n"
     ]
    },
    {
     "name": "stderr",
     "output_type": "stream",
     "text": [
      "/Users/adrien/opt/anaconda3/lib/python3.7/site-packages/urllib3/connectionpool.py:1020: InsecureRequestWarning: Unverified HTTPS request is being made to host 'www.eurekalert.org'. Adding certificate verification is strongly advised. See: https://urllib3.readthedocs.io/en/latest/advanced-usage.html#ssl-warnings\n",
      "  InsecureRequestWarning,\n",
      "/Users/adrien/opt/anaconda3/lib/python3.7/site-packages/urllib3/connectionpool.py:1020: InsecureRequestWarning: Unverified HTTPS request is being made to host 'www.eurekalert.org'. Adding certificate verification is strongly advised. See: https://urllib3.readthedocs.io/en/latest/advanced-usage.html#ssl-warnings\n",
      "  InsecureRequestWarning,\n",
      "/Users/adrien/opt/anaconda3/lib/python3.7/site-packages/urllib3/connectionpool.py:1020: InsecureRequestWarning: Unverified HTTPS request is being made to host 'www.eurekalert.org'. Adding certificate verification is strongly advised. See: https://urllib3.readthedocs.io/en/latest/advanced-usage.html#ssl-warnings\n",
      "  InsecureRequestWarning,\n",
      "/Users/adrien/opt/anaconda3/lib/python3.7/site-packages/urllib3/connectionpool.py:1020: InsecureRequestWarning: Unverified HTTPS request is being made to host 'www.eurekalert.org'. Adding certificate verification is strongly advised. See: https://urllib3.readthedocs.io/en/latest/advanced-usage.html#ssl-warnings\n",
      "  InsecureRequestWarning,\n"
     ]
    },
    {
     "name": "stdout",
     "output_type": "stream",
     "text": [
      "104\n"
     ]
    },
    {
     "name": "stderr",
     "output_type": "stream",
     "text": [
      "/Users/adrien/opt/anaconda3/lib/python3.7/site-packages/urllib3/connectionpool.py:1020: InsecureRequestWarning: Unverified HTTPS request is being made to host 'www.uq.edu.au'. Adding certificate verification is strongly advised. See: https://urllib3.readthedocs.io/en/latest/advanced-usage.html#ssl-warnings\n",
      "  InsecureRequestWarning,\n",
      "/Users/adrien/opt/anaconda3/lib/python3.7/site-packages/urllib3/connectionpool.py:1020: InsecureRequestWarning: Unverified HTTPS request is being made to host 'kutv.com'. Adding certificate verification is strongly advised. See: https://urllib3.readthedocs.io/en/latest/advanced-usage.html#ssl-warnings\n",
      "  InsecureRequestWarning,\n",
      "/Users/adrien/opt/anaconda3/lib/python3.7/site-packages/urllib3/connectionpool.py:1020: InsecureRequestWarning: Unverified HTTPS request is being made to host 'kutv.com'. Adding certificate verification is strongly advised. See: https://urllib3.readthedocs.io/en/latest/advanced-usage.html#ssl-warnings\n",
      "  InsecureRequestWarning,\n"
     ]
    },
    {
     "name": "stdout",
     "output_type": "stream",
     "text": [
      "105\n"
     ]
    },
    {
     "name": "stderr",
     "output_type": "stream",
     "text": [
      "/Users/adrien/opt/anaconda3/lib/python3.7/site-packages/urllib3/connectionpool.py:1020: InsecureRequestWarning: Unverified HTTPS request is being made to host 'www.carbonbrief.org'. Adding certificate verification is strongly advised. See: https://urllib3.readthedocs.io/en/latest/advanced-usage.html#ssl-warnings\n",
      "  InsecureRequestWarning,\n",
      "/Users/adrien/opt/anaconda3/lib/python3.7/site-packages/urllib3/connectionpool.py:1020: InsecureRequestWarning: Unverified HTTPS request is being made to host 'economictimes.indiatimes.com'. Adding certificate verification is strongly advised. See: https://urllib3.readthedocs.io/en/latest/advanced-usage.html#ssl-warnings\n",
      "  InsecureRequestWarning,\n",
      "/Users/adrien/opt/anaconda3/lib/python3.7/site-packages/urllib3/connectionpool.py:1020: InsecureRequestWarning: Unverified HTTPS request is being made to host 'economictimes.indiatimes.com'. Adding certificate verification is strongly advised. See: https://urllib3.readthedocs.io/en/latest/advanced-usage.html#ssl-warnings\n",
      "  InsecureRequestWarning,\n"
     ]
    },
    {
     "name": "stdout",
     "output_type": "stream",
     "text": [
      "106\n"
     ]
    },
    {
     "name": "stderr",
     "output_type": "stream",
     "text": [
      "/Users/adrien/opt/anaconda3/lib/python3.7/site-packages/urllib3/connectionpool.py:1020: InsecureRequestWarning: Unverified HTTPS request is being made to host 'www.dw.com'. Adding certificate verification is strongly advised. See: https://urllib3.readthedocs.io/en/latest/advanced-usage.html#ssl-warnings\n",
      "  InsecureRequestWarning,\n",
      "/Users/adrien/opt/anaconda3/lib/python3.7/site-packages/urllib3/connectionpool.py:1020: InsecureRequestWarning: Unverified HTTPS request is being made to host 'www.dw.com'. Adding certificate verification is strongly advised. See: https://urllib3.readthedocs.io/en/latest/advanced-usage.html#ssl-warnings\n",
      "  InsecureRequestWarning,\n"
     ]
    },
    {
     "name": "stdout",
     "output_type": "stream",
     "text": [
      "107\n"
     ]
    },
    {
     "name": "stderr",
     "output_type": "stream",
     "text": [
      "/Users/adrien/opt/anaconda3/lib/python3.7/site-packages/urllib3/connectionpool.py:1020: InsecureRequestWarning: Unverified HTTPS request is being made to host 'www.climatecentral.org'. Adding certificate verification is strongly advised. See: https://urllib3.readthedocs.io/en/latest/advanced-usage.html#ssl-warnings\n",
      "  InsecureRequestWarning,\n",
      "/Users/adrien/opt/anaconda3/lib/python3.7/site-packages/urllib3/connectionpool.py:1020: InsecureRequestWarning: Unverified HTTPS request is being made to host 'www.climatecentral.org'. Adding certificate verification is strongly advised. See: https://urllib3.readthedocs.io/en/latest/advanced-usage.html#ssl-warnings\n",
      "  InsecureRequestWarning,\n"
     ]
    },
    {
     "name": "stdout",
     "output_type": "stream",
     "text": [
      "108\n"
     ]
    },
    {
     "name": "stderr",
     "output_type": "stream",
     "text": [
      "/Users/adrien/opt/anaconda3/lib/python3.7/site-packages/urllib3/connectionpool.py:1020: InsecureRequestWarning: Unverified HTTPS request is being made to host 'auckland.scoop.co.nz'. Adding certificate verification is strongly advised. See: https://urllib3.readthedocs.io/en/latest/advanced-usage.html#ssl-warnings\n",
      "  InsecureRequestWarning,\n",
      "/Users/adrien/opt/anaconda3/lib/python3.7/site-packages/urllib3/connectionpool.py:1020: InsecureRequestWarning: Unverified HTTPS request is being made to host 'auckland.scoop.co.nz'. Adding certificate verification is strongly advised. See: https://urllib3.readthedocs.io/en/latest/advanced-usage.html#ssl-warnings\n",
      "  InsecureRequestWarning,\n",
      "/Users/adrien/opt/anaconda3/lib/python3.7/site-packages/urllib3/connectionpool.py:1020: InsecureRequestWarning: Unverified HTTPS request is being made to host 'www.ucanews.com'. Adding certificate verification is strongly advised. See: https://urllib3.readthedocs.io/en/latest/advanced-usage.html#ssl-warnings\n",
      "  InsecureRequestWarning,\n"
     ]
    },
    {
     "name": "stdout",
     "output_type": "stream",
     "text": [
      "109\n"
     ]
    },
    {
     "name": "stderr",
     "output_type": "stream",
     "text": [
      "/Users/adrien/opt/anaconda3/lib/python3.7/site-packages/urllib3/connectionpool.py:1020: InsecureRequestWarning: Unverified HTTPS request is being made to host 'www.ucanews.com'. Adding certificate verification is strongly advised. See: https://urllib3.readthedocs.io/en/latest/advanced-usage.html#ssl-warnings\n",
      "  InsecureRequestWarning,\n"
     ]
    },
    {
     "name": "stdout",
     "output_type": "stream",
     "text": [
      "110\n"
     ]
    },
    {
     "name": "stderr",
     "output_type": "stream",
     "text": [
      "/Users/adrien/opt/anaconda3/lib/python3.7/site-packages/urllib3/connectionpool.py:1020: InsecureRequestWarning: Unverified HTTPS request is being made to host 'www.huffingtonpost.com'. Adding certificate verification is strongly advised. See: https://urllib3.readthedocs.io/en/latest/advanced-usage.html#ssl-warnings\n",
      "  InsecureRequestWarning,\n",
      "/Users/adrien/opt/anaconda3/lib/python3.7/site-packages/urllib3/connectionpool.py:1020: InsecureRequestWarning: Unverified HTTPS request is being made to host 'www.huffpost.com'. Adding certificate verification is strongly advised. See: https://urllib3.readthedocs.io/en/latest/advanced-usage.html#ssl-warnings\n",
      "  InsecureRequestWarning,\n",
      "/Users/adrien/opt/anaconda3/lib/python3.7/site-packages/urllib3/connectionpool.py:1020: InsecureRequestWarning: Unverified HTTPS request is being made to host 'www.huffingtonpost.com'. Adding certificate verification is strongly advised. See: https://urllib3.readthedocs.io/en/latest/advanced-usage.html#ssl-warnings\n",
      "  InsecureRequestWarning,\n",
      "/Users/adrien/opt/anaconda3/lib/python3.7/site-packages/urllib3/connectionpool.py:1020: InsecureRequestWarning: Unverified HTTPS request is being made to host 'www.huffpost.com'. Adding certificate verification is strongly advised. See: https://urllib3.readthedocs.io/en/latest/advanced-usage.html#ssl-warnings\n",
      "  InsecureRequestWarning,\n"
     ]
    },
    {
     "name": "stdout",
     "output_type": "stream",
     "text": [
      "111\n"
     ]
    },
    {
     "name": "stderr",
     "output_type": "stream",
     "text": [
      "/Users/adrien/opt/anaconda3/lib/python3.7/site-packages/urllib3/connectionpool.py:1020: InsecureRequestWarning: Unverified HTTPS request is being made to host 'www.newswire.ca'. Adding certificate verification is strongly advised. See: https://urllib3.readthedocs.io/en/latest/advanced-usage.html#ssl-warnings\n",
      "  InsecureRequestWarning,\n",
      "/Users/adrien/opt/anaconda3/lib/python3.7/site-packages/urllib3/connectionpool.py:1020: InsecureRequestWarning: Unverified HTTPS request is being made to host 'www.newswire.ca'. Adding certificate verification is strongly advised. See: https://urllib3.readthedocs.io/en/latest/advanced-usage.html#ssl-warnings\n",
      "  InsecureRequestWarning,\n"
     ]
    },
    {
     "name": "stdout",
     "output_type": "stream",
     "text": [
      "112\n"
     ]
    },
    {
     "name": "stderr",
     "output_type": "stream",
     "text": [
      "/Users/adrien/opt/anaconda3/lib/python3.7/site-packages/urllib3/connectionpool.py:1020: InsecureRequestWarning: Unverified HTTPS request is being made to host 'www.salon.com'. Adding certificate verification is strongly advised. See: https://urllib3.readthedocs.io/en/latest/advanced-usage.html#ssl-warnings\n",
      "  InsecureRequestWarning,\n",
      "/Users/adrien/opt/anaconda3/lib/python3.7/site-packages/urllib3/connectionpool.py:1020: InsecureRequestWarning: Unverified HTTPS request is being made to host 'www.salon.com'. Adding certificate verification is strongly advised. See: https://urllib3.readthedocs.io/en/latest/advanced-usage.html#ssl-warnings\n",
      "  InsecureRequestWarning,\n"
     ]
    },
    {
     "name": "stdout",
     "output_type": "stream",
     "text": [
      "113\n"
     ]
    },
    {
     "name": "stderr",
     "output_type": "stream",
     "text": [
      "/Users/adrien/opt/anaconda3/lib/python3.7/site-packages/urllib3/connectionpool.py:1020: InsecureRequestWarning: Unverified HTTPS request is being made to host 'mondovisione.com'. Adding certificate verification is strongly advised. See: https://urllib3.readthedocs.io/en/latest/advanced-usage.html#ssl-warnings\n",
      "  InsecureRequestWarning,\n",
      "/Users/adrien/opt/anaconda3/lib/python3.7/site-packages/urllib3/connectionpool.py:1020: InsecureRequestWarning: Unverified HTTPS request is being made to host 'mondovisione.com'. Adding certificate verification is strongly advised. See: https://urllib3.readthedocs.io/en/latest/advanced-usage.html#ssl-warnings\n",
      "  InsecureRequestWarning,\n",
      "/Users/adrien/opt/anaconda3/lib/python3.7/site-packages/urllib3/connectionpool.py:1020: InsecureRequestWarning: Unverified HTTPS request is being made to host 'mondovisione.com'. Adding certificate verification is strongly advised. See: https://urllib3.readthedocs.io/en/latest/advanced-usage.html#ssl-warnings\n",
      "  InsecureRequestWarning,\n",
      "/Users/adrien/opt/anaconda3/lib/python3.7/site-packages/urllib3/connectionpool.py:1020: InsecureRequestWarning: Unverified HTTPS request is being made to host 'mondovisione.com'. Adding certificate verification is strongly advised. See: https://urllib3.readthedocs.io/en/latest/advanced-usage.html#ssl-warnings\n",
      "  InsecureRequestWarning,\n"
     ]
    },
    {
     "name": "stdout",
     "output_type": "stream",
     "text": [
      "114\n"
     ]
    },
    {
     "name": "stderr",
     "output_type": "stream",
     "text": [
      "/Users/adrien/opt/anaconda3/lib/python3.7/site-packages/urllib3/connectionpool.py:1020: InsecureRequestWarning: Unverified HTTPS request is being made to host 'scroll.in'. Adding certificate verification is strongly advised. See: https://urllib3.readthedocs.io/en/latest/advanced-usage.html#ssl-warnings\n",
      "  InsecureRequestWarning,\n",
      "/Users/adrien/opt/anaconda3/lib/python3.7/site-packages/urllib3/connectionpool.py:1020: InsecureRequestWarning: Unverified HTTPS request is being made to host 'scroll.in'. Adding certificate verification is strongly advised. See: https://urllib3.readthedocs.io/en/latest/advanced-usage.html#ssl-warnings\n",
      "  InsecureRequestWarning,\n"
     ]
    },
    {
     "name": "stdout",
     "output_type": "stream",
     "text": [
      "115\n"
     ]
    },
    {
     "name": "stderr",
     "output_type": "stream",
     "text": [
      "/Users/adrien/opt/anaconda3/lib/python3.7/site-packages/urllib3/connectionpool.py:1020: InsecureRequestWarning: Unverified HTTPS request is being made to host 'www.breitbart.com'. Adding certificate verification is strongly advised. See: https://urllib3.readthedocs.io/en/latest/advanced-usage.html#ssl-warnings\n",
      "  InsecureRequestWarning,\n",
      "/Users/adrien/opt/anaconda3/lib/python3.7/site-packages/urllib3/connectionpool.py:1020: InsecureRequestWarning: Unverified HTTPS request is being made to host 'www.breitbart.com'. Adding certificate verification is strongly advised. See: https://urllib3.readthedocs.io/en/latest/advanced-usage.html#ssl-warnings\n",
      "  InsecureRequestWarning,\n",
      "/Users/adrien/opt/anaconda3/lib/python3.7/site-packages/urllib3/connectionpool.py:1020: InsecureRequestWarning: Unverified HTTPS request is being made to host 'www.breitbart.com'. Adding certificate verification is strongly advised. See: https://urllib3.readthedocs.io/en/latest/advanced-usage.html#ssl-warnings\n",
      "  InsecureRequestWarning,\n",
      "/Users/adrien/opt/anaconda3/lib/python3.7/site-packages/urllib3/connectionpool.py:1020: InsecureRequestWarning: Unverified HTTPS request is being made to host 'www.breitbart.com'. Adding certificate verification is strongly advised. See: https://urllib3.readthedocs.io/en/latest/advanced-usage.html#ssl-warnings\n",
      "  InsecureRequestWarning,\n"
     ]
    },
    {
     "name": "stdout",
     "output_type": "stream",
     "text": [
      "116\n"
     ]
    },
    {
     "name": "stderr",
     "output_type": "stream",
     "text": [
      "/Users/adrien/opt/anaconda3/lib/python3.7/site-packages/urllib3/connectionpool.py:1020: InsecureRequestWarning: Unverified HTTPS request is being made to host 'cnsnews.com'. Adding certificate verification is strongly advised. See: https://urllib3.readthedocs.io/en/latest/advanced-usage.html#ssl-warnings\n",
      "  InsecureRequestWarning,\n",
      "/Users/adrien/opt/anaconda3/lib/python3.7/site-packages/urllib3/connectionpool.py:1020: InsecureRequestWarning: Unverified HTTPS request is being made to host 'cnsnews.com'. Adding certificate verification is strongly advised. See: https://urllib3.readthedocs.io/en/latest/advanced-usage.html#ssl-warnings\n",
      "  InsecureRequestWarning,\n"
     ]
    },
    {
     "name": "stdout",
     "output_type": "stream",
     "text": [
      "117\n"
     ]
    },
    {
     "name": "stderr",
     "output_type": "stream",
     "text": [
      "/Users/adrien/opt/anaconda3/lib/python3.7/site-packages/urllib3/connectionpool.py:1020: InsecureRequestWarning: Unverified HTTPS request is being made to host 'news.investors.com'. Adding certificate verification is strongly advised. See: https://urllib3.readthedocs.io/en/latest/advanced-usage.html#ssl-warnings\n",
      "  InsecureRequestWarning,\n",
      "/Users/adrien/opt/anaconda3/lib/python3.7/site-packages/urllib3/connectionpool.py:1020: InsecureRequestWarning: Unverified HTTPS request is being made to host 'news.investors.com'. Adding certificate verification is strongly advised. See: https://urllib3.readthedocs.io/en/latest/advanced-usage.html#ssl-warnings\n",
      "  InsecureRequestWarning,\n"
     ]
    },
    {
     "name": "stdout",
     "output_type": "stream",
     "text": [
      "118\n"
     ]
    },
    {
     "name": "stderr",
     "output_type": "stream",
     "text": [
      "/Users/adrien/opt/anaconda3/lib/python3.7/site-packages/urllib3/connectionpool.py:1020: InsecureRequestWarning: Unverified HTTPS request is being made to host 'www.nydailynews.com'. Adding certificate verification is strongly advised. See: https://urllib3.readthedocs.io/en/latest/advanced-usage.html#ssl-warnings\n",
      "  InsecureRequestWarning,\n",
      "/Users/adrien/opt/anaconda3/lib/python3.7/site-packages/urllib3/connectionpool.py:1020: InsecureRequestWarning: Unverified HTTPS request is being made to host 'www.nydailynews.com'. Adding certificate verification is strongly advised. See: https://urllib3.readthedocs.io/en/latest/advanced-usage.html#ssl-warnings\n",
      "  InsecureRequestWarning,\n"
     ]
    },
    {
     "name": "stdout",
     "output_type": "stream",
     "text": [
      "119\n"
     ]
    },
    {
     "name": "stderr",
     "output_type": "stream",
     "text": [
      "/Users/adrien/opt/anaconda3/lib/python3.7/site-packages/urllib3/connectionpool.py:1020: InsecureRequestWarning: Unverified HTTPS request is being made to host 'newswithviews.com'. Adding certificate verification is strongly advised. See: https://urllib3.readthedocs.io/en/latest/advanced-usage.html#ssl-warnings\n",
      "  InsecureRequestWarning,\n",
      "/Users/adrien/opt/anaconda3/lib/python3.7/site-packages/urllib3/connectionpool.py:1020: InsecureRequestWarning: Unverified HTTPS request is being made to host 'newswithviews.com'. Adding certificate verification is strongly advised. See: https://urllib3.readthedocs.io/en/latest/advanced-usage.html#ssl-warnings\n",
      "  InsecureRequestWarning,\n"
     ]
    },
    {
     "name": "stdout",
     "output_type": "stream",
     "text": [
      "120\n"
     ]
    },
    {
     "name": "stderr",
     "output_type": "stream",
     "text": [
      "/Users/adrien/opt/anaconda3/lib/python3.7/site-packages/urllib3/connectionpool.py:1020: InsecureRequestWarning: Unverified HTTPS request is being made to host 'slate.com'. Adding certificate verification is strongly advised. See: https://urllib3.readthedocs.io/en/latest/advanced-usage.html#ssl-warnings\n",
      "  InsecureRequestWarning,\n",
      "/Users/adrien/opt/anaconda3/lib/python3.7/site-packages/urllib3/connectionpool.py:1020: InsecureRequestWarning: Unverified HTTPS request is being made to host 'slate.com'. Adding certificate verification is strongly advised. See: https://urllib3.readthedocs.io/en/latest/advanced-usage.html#ssl-warnings\n",
      "  InsecureRequestWarning,\n"
     ]
    },
    {
     "name": "stdout",
     "output_type": "stream",
     "text": [
      "121\n"
     ]
    },
    {
     "name": "stderr",
     "output_type": "stream",
     "text": [
      "/Users/adrien/opt/anaconda3/lib/python3.7/site-packages/urllib3/connectionpool.py:1020: InsecureRequestWarning: Unverified HTTPS request is being made to host 'www.hortweek.com'. Adding certificate verification is strongly advised. See: https://urllib3.readthedocs.io/en/latest/advanced-usage.html#ssl-warnings\n",
      "  InsecureRequestWarning,\n",
      "/Users/adrien/opt/anaconda3/lib/python3.7/site-packages/urllib3/connectionpool.py:1020: InsecureRequestWarning: Unverified HTTPS request is being made to host 'www.hortweek.com'. Adding certificate verification is strongly advised. See: https://urllib3.readthedocs.io/en/latest/advanced-usage.html#ssl-warnings\n",
      "  InsecureRequestWarning,\n",
      "/Users/adrien/opt/anaconda3/lib/python3.7/site-packages/urllib3/connectionpool.py:1020: InsecureRequestWarning: Unverified HTTPS request is being made to host 'www.hortweek.com'. Adding certificate verification is strongly advised. See: https://urllib3.readthedocs.io/en/latest/advanced-usage.html#ssl-warnings\n",
      "  InsecureRequestWarning,\n",
      "/Users/adrien/opt/anaconda3/lib/python3.7/site-packages/urllib3/connectionpool.py:1020: InsecureRequestWarning: Unverified HTTPS request is being made to host 'www.hortweek.com'. Adding certificate verification is strongly advised. See: https://urllib3.readthedocs.io/en/latest/advanced-usage.html#ssl-warnings\n",
      "  InsecureRequestWarning,\n"
     ]
    },
    {
     "name": "stdout",
     "output_type": "stream",
     "text": [
      "122\n"
     ]
    },
    {
     "name": "stderr",
     "output_type": "stream",
     "text": [
      "/Users/adrien/opt/anaconda3/lib/python3.7/site-packages/urllib3/connectionpool.py:1020: InsecureRequestWarning: Unverified HTTPS request is being made to host 'www.newswire.ca'. Adding certificate verification is strongly advised. See: https://urllib3.readthedocs.io/en/latest/advanced-usage.html#ssl-warnings\n",
      "  InsecureRequestWarning,\n",
      "/Users/adrien/opt/anaconda3/lib/python3.7/site-packages/urllib3/connectionpool.py:1020: InsecureRequestWarning: Unverified HTTPS request is being made to host 'www.newswire.ca'. Adding certificate verification is strongly advised. See: https://urllib3.readthedocs.io/en/latest/advanced-usage.html#ssl-warnings\n",
      "  InsecureRequestWarning,\n"
     ]
    },
    {
     "name": "stdout",
     "output_type": "stream",
     "text": [
      "123\n"
     ]
    },
    {
     "name": "stderr",
     "output_type": "stream",
     "text": [
      "/Users/adrien/opt/anaconda3/lib/python3.7/site-packages/urllib3/connectionpool.py:1020: InsecureRequestWarning: Unverified HTTPS request is being made to host 'www.ecowatch.com'. Adding certificate verification is strongly advised. See: https://urllib3.readthedocs.io/en/latest/advanced-usage.html#ssl-warnings\n",
      "  InsecureRequestWarning,\n",
      "/Users/adrien/opt/anaconda3/lib/python3.7/site-packages/urllib3/connectionpool.py:1020: InsecureRequestWarning: Unverified HTTPS request is being made to host 'www.ecowatch.com'. Adding certificate verification is strongly advised. See: https://urllib3.readthedocs.io/en/latest/advanced-usage.html#ssl-warnings\n",
      "  InsecureRequestWarning,\n",
      "/Users/adrien/opt/anaconda3/lib/python3.7/site-packages/urllib3/connectionpool.py:1020: InsecureRequestWarning: Unverified HTTPS request is being made to host 'www.ecowatch.com'. Adding certificate verification is strongly advised. See: https://urllib3.readthedocs.io/en/latest/advanced-usage.html#ssl-warnings\n",
      "  InsecureRequestWarning,\n",
      "/Users/adrien/opt/anaconda3/lib/python3.7/site-packages/urllib3/connectionpool.py:1020: InsecureRequestWarning: Unverified HTTPS request is being made to host 'www.ecowatch.com'. Adding certificate verification is strongly advised. See: https://urllib3.readthedocs.io/en/latest/advanced-usage.html#ssl-warnings\n",
      "  InsecureRequestWarning,\n"
     ]
    },
    {
     "name": "stdout",
     "output_type": "stream",
     "text": [
      "124\n"
     ]
    },
    {
     "name": "stderr",
     "output_type": "stream",
     "text": [
      "/Users/adrien/opt/anaconda3/lib/python3.7/site-packages/urllib3/connectionpool.py:1020: InsecureRequestWarning: Unverified HTTPS request is being made to host 'www.rawstory.com'. Adding certificate verification is strongly advised. See: https://urllib3.readthedocs.io/en/latest/advanced-usage.html#ssl-warnings\n",
      "  InsecureRequestWarning,\n",
      "/Users/adrien/opt/anaconda3/lib/python3.7/site-packages/urllib3/connectionpool.py:1020: InsecureRequestWarning: Unverified HTTPS request is being made to host 'www.rawstory.com'. Adding certificate verification is strongly advised. See: https://urllib3.readthedocs.io/en/latest/advanced-usage.html#ssl-warnings\n",
      "  InsecureRequestWarning,\n"
     ]
    },
    {
     "name": "stdout",
     "output_type": "stream",
     "text": [
      "125\n"
     ]
    },
    {
     "name": "stderr",
     "output_type": "stream",
     "text": [
      "/Users/adrien/opt/anaconda3/lib/python3.7/site-packages/urllib3/connectionpool.py:1020: InsecureRequestWarning: Unverified HTTPS request is being made to host 'www.afr.com'. Adding certificate verification is strongly advised. See: https://urllib3.readthedocs.io/en/latest/advanced-usage.html#ssl-warnings\n",
      "  InsecureRequestWarning,\n",
      "/Users/adrien/opt/anaconda3/lib/python3.7/site-packages/urllib3/connectionpool.py:1020: InsecureRequestWarning: Unverified HTTPS request is being made to host 'www.afr.com'. Adding certificate verification is strongly advised. See: https://urllib3.readthedocs.io/en/latest/advanced-usage.html#ssl-warnings\n",
      "  InsecureRequestWarning,\n",
      "/Users/adrien/opt/anaconda3/lib/python3.7/site-packages/urllib3/connectionpool.py:1020: InsecureRequestWarning: Unverified HTTPS request is being made to host 'www.afr.com'. Adding certificate verification is strongly advised. See: https://urllib3.readthedocs.io/en/latest/advanced-usage.html#ssl-warnings\n",
      "  InsecureRequestWarning,\n",
      "/Users/adrien/opt/anaconda3/lib/python3.7/site-packages/urllib3/connectionpool.py:1020: InsecureRequestWarning: Unverified HTTPS request is being made to host 'www.afr.com'. Adding certificate verification is strongly advised. See: https://urllib3.readthedocs.io/en/latest/advanced-usage.html#ssl-warnings\n",
      "  InsecureRequestWarning,\n"
     ]
    },
    {
     "name": "stdout",
     "output_type": "stream",
     "text": [
      "126\n",
      "127\n"
     ]
    },
    {
     "name": "stderr",
     "output_type": "stream",
     "text": [
      "/Users/adrien/opt/anaconda3/lib/python3.7/site-packages/urllib3/connectionpool.py:1020: InsecureRequestWarning: Unverified HTTPS request is being made to host 'feeds.theguardian.com'. Adding certificate verification is strongly advised. See: https://urllib3.readthedocs.io/en/latest/advanced-usage.html#ssl-warnings\n",
      "  InsecureRequestWarning,\n",
      "/Users/adrien/opt/anaconda3/lib/python3.7/site-packages/urllib3/connectionpool.py:1020: InsecureRequestWarning: Unverified HTTPS request is being made to host 'cnsnews.com'. Adding certificate verification is strongly advised. See: https://urllib3.readthedocs.io/en/latest/advanced-usage.html#ssl-warnings\n",
      "  InsecureRequestWarning,\n",
      "/Users/adrien/opt/anaconda3/lib/python3.7/site-packages/urllib3/connectionpool.py:1020: InsecureRequestWarning: Unverified HTTPS request is being made to host 'cnsnews.com'. Adding certificate verification is strongly advised. See: https://urllib3.readthedocs.io/en/latest/advanced-usage.html#ssl-warnings\n",
      "  InsecureRequestWarning,\n"
     ]
    },
    {
     "name": "stdout",
     "output_type": "stream",
     "text": [
      "128\n"
     ]
    },
    {
     "name": "stderr",
     "output_type": "stream",
     "text": [
      "/Users/adrien/opt/anaconda3/lib/python3.7/site-packages/urllib3/connectionpool.py:1020: InsecureRequestWarning: Unverified HTTPS request is being made to host 'www.hotpress.com'. Adding certificate verification is strongly advised. See: https://urllib3.readthedocs.io/en/latest/advanced-usage.html#ssl-warnings\n",
      "  InsecureRequestWarning,\n",
      "/Users/adrien/opt/anaconda3/lib/python3.7/site-packages/urllib3/connectionpool.py:1020: InsecureRequestWarning: Unverified HTTPS request is being made to host 'www.hotpress.com'. Adding certificate verification is strongly advised. See: https://urllib3.readthedocs.io/en/latest/advanced-usage.html#ssl-warnings\n",
      "  InsecureRequestWarning,\n",
      "/Users/adrien/opt/anaconda3/lib/python3.7/site-packages/urllib3/connectionpool.py:1020: InsecureRequestWarning: Unverified HTTPS request is being made to host 'www.hotpress.com'. Adding certificate verification is strongly advised. See: https://urllib3.readthedocs.io/en/latest/advanced-usage.html#ssl-warnings\n",
      "  InsecureRequestWarning,\n",
      "/Users/adrien/opt/anaconda3/lib/python3.7/site-packages/urllib3/connectionpool.py:1020: InsecureRequestWarning: Unverified HTTPS request is being made to host 'www.hotpress.com'. Adding certificate verification is strongly advised. See: https://urllib3.readthedocs.io/en/latest/advanced-usage.html#ssl-warnings\n",
      "  InsecureRequestWarning,\n",
      "/Users/adrien/opt/anaconda3/lib/python3.7/site-packages/urllib3/connectionpool.py:1020: InsecureRequestWarning: Unverified HTTPS request is being made to host 'www.hotpress.com'. Adding certificate verification is strongly advised. See: https://urllib3.readthedocs.io/en/latest/advanced-usage.html#ssl-warnings\n",
      "  InsecureRequestWarning,\n",
      "/Users/adrien/opt/anaconda3/lib/python3.7/site-packages/urllib3/connectionpool.py:1020: InsecureRequestWarning: Unverified HTTPS request is being made to host 'www.hotpress.com'. Adding certificate verification is strongly advised. See: https://urllib3.readthedocs.io/en/latest/advanced-usage.html#ssl-warnings\n",
      "  InsecureRequestWarning,\n"
     ]
    },
    {
     "name": "stdout",
     "output_type": "stream",
     "text": [
      "129\n"
     ]
    },
    {
     "name": "stderr",
     "output_type": "stream",
     "text": [
      "/Users/adrien/opt/anaconda3/lib/python3.7/site-packages/urllib3/connectionpool.py:1020: InsecureRequestWarning: Unverified HTTPS request is being made to host 'www.politico.com'. Adding certificate verification is strongly advised. See: https://urllib3.readthedocs.io/en/latest/advanced-usage.html#ssl-warnings\n",
      "  InsecureRequestWarning,\n",
      "/Users/adrien/opt/anaconda3/lib/python3.7/site-packages/urllib3/connectionpool.py:1020: InsecureRequestWarning: Unverified HTTPS request is being made to host 'www.politico.com'. Adding certificate verification is strongly advised. See: https://urllib3.readthedocs.io/en/latest/advanced-usage.html#ssl-warnings\n",
      "  InsecureRequestWarning,\n",
      "/Users/adrien/opt/anaconda3/lib/python3.7/site-packages/urllib3/connectionpool.py:1020: InsecureRequestWarning: Unverified HTTPS request is being made to host 'www.thestar.com'. Adding certificate verification is strongly advised. See: https://urllib3.readthedocs.io/en/latest/advanced-usage.html#ssl-warnings\n",
      "  InsecureRequestWarning,\n"
     ]
    },
    {
     "name": "stdout",
     "output_type": "stream",
     "text": [
      "130\n"
     ]
    },
    {
     "name": "stderr",
     "output_type": "stream",
     "text": [
      "/Users/adrien/opt/anaconda3/lib/python3.7/site-packages/urllib3/connectionpool.py:1020: InsecureRequestWarning: Unverified HTTPS request is being made to host 'www.thestar.com'. Adding certificate verification is strongly advised. See: https://urllib3.readthedocs.io/en/latest/advanced-usage.html#ssl-warnings\n",
      "  InsecureRequestWarning,\n"
     ]
    },
    {
     "name": "stdout",
     "output_type": "stream",
     "text": [
      "131\n",
      "132\n"
     ]
    },
    {
     "name": "stderr",
     "output_type": "stream",
     "text": [
      "/Users/adrien/opt/anaconda3/lib/python3.7/site-packages/urllib3/connectionpool.py:1020: InsecureRequestWarning: Unverified HTTPS request is being made to host 'auckland.scoop.co.nz'. Adding certificate verification is strongly advised. See: https://urllib3.readthedocs.io/en/latest/advanced-usage.html#ssl-warnings\n",
      "  InsecureRequestWarning,\n",
      "/Users/adrien/opt/anaconda3/lib/python3.7/site-packages/urllib3/connectionpool.py:1020: InsecureRequestWarning: Unverified HTTPS request is being made to host 'auckland.scoop.co.nz'. Adding certificate verification is strongly advised. See: https://urllib3.readthedocs.io/en/latest/advanced-usage.html#ssl-warnings\n",
      "  InsecureRequestWarning,\n"
     ]
    },
    {
     "name": "stdout",
     "output_type": "stream",
     "text": [
      "133\n"
     ]
    },
    {
     "name": "stderr",
     "output_type": "stream",
     "text": [
      "/Users/adrien/opt/anaconda3/lib/python3.7/site-packages/urllib3/connectionpool.py:1020: InsecureRequestWarning: Unverified HTTPS request is being made to host 'www.mcgilldaily.com'. Adding certificate verification is strongly advised. See: https://urllib3.readthedocs.io/en/latest/advanced-usage.html#ssl-warnings\n",
      "  InsecureRequestWarning,\n",
      "/Users/adrien/opt/anaconda3/lib/python3.7/site-packages/urllib3/connectionpool.py:1020: InsecureRequestWarning: Unverified HTTPS request is being made to host 'www.mcgilldaily.com'. Adding certificate verification is strongly advised. See: https://urllib3.readthedocs.io/en/latest/advanced-usage.html#ssl-warnings\n",
      "  InsecureRequestWarning,\n"
     ]
    },
    {
     "name": "stdout",
     "output_type": "stream",
     "text": [
      "134\n"
     ]
    },
    {
     "name": "stderr",
     "output_type": "stream",
     "text": [
      "/Users/adrien/opt/anaconda3/lib/python3.7/site-packages/urllib3/connectionpool.py:1020: InsecureRequestWarning: Unverified HTTPS request is being made to host 'www.worldbank.org'. Adding certificate verification is strongly advised. See: https://urllib3.readthedocs.io/en/latest/advanced-usage.html#ssl-warnings\n",
      "  InsecureRequestWarning,\n",
      "/Users/adrien/opt/anaconda3/lib/python3.7/site-packages/urllib3/connectionpool.py:1020: InsecureRequestWarning: Unverified HTTPS request is being made to host 'www.worldbank.org'. Adding certificate verification is strongly advised. See: https://urllib3.readthedocs.io/en/latest/advanced-usage.html#ssl-warnings\n",
      "  InsecureRequestWarning,\n"
     ]
    },
    {
     "name": "stdout",
     "output_type": "stream",
     "text": [
      "135\n"
     ]
    },
    {
     "name": "stderr",
     "output_type": "stream",
     "text": [
      "/Users/adrien/opt/anaconda3/lib/python3.7/site-packages/urllib3/connectionpool.py:1020: InsecureRequestWarning: Unverified HTTPS request is being made to host 'economictimes.indiatimes.com'. Adding certificate verification is strongly advised. See: https://urllib3.readthedocs.io/en/latest/advanced-usage.html#ssl-warnings\n",
      "  InsecureRequestWarning,\n",
      "/Users/adrien/opt/anaconda3/lib/python3.7/site-packages/urllib3/connectionpool.py:1020: InsecureRequestWarning: Unverified HTTPS request is being made to host 'economictimes.indiatimes.com'. Adding certificate verification is strongly advised. See: https://urllib3.readthedocs.io/en/latest/advanced-usage.html#ssl-warnings\n",
      "  InsecureRequestWarning,\n"
     ]
    },
    {
     "name": "stdout",
     "output_type": "stream",
     "text": [
      "136\n"
     ]
    },
    {
     "name": "stderr",
     "output_type": "stream",
     "text": [
      "/Users/adrien/opt/anaconda3/lib/python3.7/site-packages/urllib3/connectionpool.py:1020: InsecureRequestWarning: Unverified HTTPS request is being made to host 'eu.clarionledger.com'. Adding certificate verification is strongly advised. See: https://urllib3.readthedocs.io/en/latest/advanced-usage.html#ssl-warnings\n",
      "  InsecureRequestWarning,\n",
      "/Users/adrien/opt/anaconda3/lib/python3.7/site-packages/urllib3/connectionpool.py:1020: InsecureRequestWarning: Unverified HTTPS request is being made to host 'eu.clarionledger.com'. Adding certificate verification is strongly advised. See: https://urllib3.readthedocs.io/en/latest/advanced-usage.html#ssl-warnings\n",
      "  InsecureRequestWarning,\n"
     ]
    },
    {
     "name": "stdout",
     "output_type": "stream",
     "text": [
      "137\n"
     ]
    },
    {
     "name": "stderr",
     "output_type": "stream",
     "text": [
      "/Users/adrien/opt/anaconda3/lib/python3.7/site-packages/urllib3/connectionpool.py:1020: InsecureRequestWarning: Unverified HTTPS request is being made to host 'www.thestar.com.my'. Adding certificate verification is strongly advised. See: https://urllib3.readthedocs.io/en/latest/advanced-usage.html#ssl-warnings\n",
      "  InsecureRequestWarning,\n",
      "/Users/adrien/opt/anaconda3/lib/python3.7/site-packages/urllib3/connectionpool.py:1020: InsecureRequestWarning: Unverified HTTPS request is being made to host 'www.thestar.com.my'. Adding certificate verification is strongly advised. See: https://urllib3.readthedocs.io/en/latest/advanced-usage.html#ssl-warnings\n",
      "  InsecureRequestWarning,\n"
     ]
    },
    {
     "name": "stdout",
     "output_type": "stream",
     "text": [
      "138\n"
     ]
    },
    {
     "name": "stderr",
     "output_type": "stream",
     "text": [
      "/Users/adrien/opt/anaconda3/lib/python3.7/site-packages/urllib3/connectionpool.py:1020: InsecureRequestWarning: Unverified HTTPS request is being made to host 'www.todayonline.com'. Adding certificate verification is strongly advised. See: https://urllib3.readthedocs.io/en/latest/advanced-usage.html#ssl-warnings\n",
      "  InsecureRequestWarning,\n",
      "/Users/adrien/opt/anaconda3/lib/python3.7/site-packages/urllib3/connectionpool.py:1020: InsecureRequestWarning: Unverified HTTPS request is being made to host 'www.todayonline.com'. Adding certificate verification is strongly advised. See: https://urllib3.readthedocs.io/en/latest/advanced-usage.html#ssl-warnings\n",
      "  InsecureRequestWarning,\n"
     ]
    },
    {
     "name": "stdout",
     "output_type": "stream",
     "text": [
      "139\n"
     ]
    },
    {
     "name": "stderr",
     "output_type": "stream",
     "text": [
      "/Users/adrien/opt/anaconda3/lib/python3.7/site-packages/urllib3/connectionpool.py:1020: InsecureRequestWarning: Unverified HTTPS request is being made to host 'www.politico.com'. Adding certificate verification is strongly advised. See: https://urllib3.readthedocs.io/en/latest/advanced-usage.html#ssl-warnings\n",
      "  InsecureRequestWarning,\n",
      "/Users/adrien/opt/anaconda3/lib/python3.7/site-packages/urllib3/connectionpool.py:1020: InsecureRequestWarning: Unverified HTTPS request is being made to host 'www.politico.com'. Adding certificate verification is strongly advised. See: https://urllib3.readthedocs.io/en/latest/advanced-usage.html#ssl-warnings\n",
      "  InsecureRequestWarning,\n"
     ]
    },
    {
     "name": "stdout",
     "output_type": "stream",
     "text": [
      "140\n"
     ]
    },
    {
     "name": "stderr",
     "output_type": "stream",
     "text": [
      "/Users/adrien/opt/anaconda3/lib/python3.7/site-packages/urllib3/connectionpool.py:1020: InsecureRequestWarning: Unverified HTTPS request is being made to host 'www.centralwesterndaily.com.au'. Adding certificate verification is strongly advised. See: https://urllib3.readthedocs.io/en/latest/advanced-usage.html#ssl-warnings\n",
      "  InsecureRequestWarning,\n",
      "/Users/adrien/opt/anaconda3/lib/python3.7/site-packages/urllib3/connectionpool.py:1020: InsecureRequestWarning: Unverified HTTPS request is being made to host 'www.centralwesterndaily.com.au'. Adding certificate verification is strongly advised. See: https://urllib3.readthedocs.io/en/latest/advanced-usage.html#ssl-warnings\n",
      "  InsecureRequestWarning,\n"
     ]
    },
    {
     "name": "stdout",
     "output_type": "stream",
     "text": [
      "141\n"
     ]
    },
    {
     "name": "stderr",
     "output_type": "stream",
     "text": [
      "/Users/adrien/opt/anaconda3/lib/python3.7/site-packages/urllib3/connectionpool.py:1020: InsecureRequestWarning: Unverified HTTPS request is being made to host 'www.scienceworldreport.com'. Adding certificate verification is strongly advised. See: https://urllib3.readthedocs.io/en/latest/advanced-usage.html#ssl-warnings\n",
      "  InsecureRequestWarning,\n",
      "/Users/adrien/opt/anaconda3/lib/python3.7/site-packages/urllib3/connectionpool.py:1020: InsecureRequestWarning: Unverified HTTPS request is being made to host 'www.scienceworldreport.com'. Adding certificate verification is strongly advised. See: https://urllib3.readthedocs.io/en/latest/advanced-usage.html#ssl-warnings\n",
      "  InsecureRequestWarning,\n"
     ]
    },
    {
     "name": "stdout",
     "output_type": "stream",
     "text": [
      "142\n"
     ]
    },
    {
     "name": "stderr",
     "output_type": "stream",
     "text": [
      "/Users/adrien/opt/anaconda3/lib/python3.7/site-packages/urllib3/connectionpool.py:1020: InsecureRequestWarning: Unverified HTTPS request is being made to host 'worldbulletin.dunyabulteni.net'. Adding certificate verification is strongly advised. See: https://urllib3.readthedocs.io/en/latest/advanced-usage.html#ssl-warnings\n",
      "  InsecureRequestWarning,\n",
      "/Users/adrien/opt/anaconda3/lib/python3.7/site-packages/urllib3/connectionpool.py:1020: InsecureRequestWarning: Unverified HTTPS request is being made to host 'worldbulletin.dunyabulteni.net'. Adding certificate verification is strongly advised. See: https://urllib3.readthedocs.io/en/latest/advanced-usage.html#ssl-warnings\n",
      "  InsecureRequestWarning,\n"
     ]
    },
    {
     "name": "stdout",
     "output_type": "stream",
     "text": [
      "143\n",
      "144\n"
     ]
    },
    {
     "name": "stderr",
     "output_type": "stream",
     "text": [
      "/Users/adrien/opt/anaconda3/lib/python3.7/site-packages/urllib3/connectionpool.py:1020: InsecureRequestWarning: Unverified HTTPS request is being made to host 'au.news.yahoo.com'. Adding certificate verification is strongly advised. See: https://urllib3.readthedocs.io/en/latest/advanced-usage.html#ssl-warnings\n",
      "  InsecureRequestWarning,\n",
      "/Users/adrien/opt/anaconda3/lib/python3.7/site-packages/urllib3/connectionpool.py:1020: InsecureRequestWarning: Unverified HTTPS request is being made to host 'au.news.yahoo.com'. Adding certificate verification is strongly advised. See: https://urllib3.readthedocs.io/en/latest/advanced-usage.html#ssl-warnings\n",
      "  InsecureRequestWarning,\n",
      "/Users/adrien/opt/anaconda3/lib/python3.7/site-packages/urllib3/connectionpool.py:1020: InsecureRequestWarning: Unverified HTTPS request is being made to host 'au.news.yahoo.com'. Adding certificate verification is strongly advised. See: https://urllib3.readthedocs.io/en/latest/advanced-usage.html#ssl-warnings\n",
      "  InsecureRequestWarning,\n",
      "/Users/adrien/opt/anaconda3/lib/python3.7/site-packages/urllib3/connectionpool.py:1020: InsecureRequestWarning: Unverified HTTPS request is being made to host 'au.news.yahoo.com'. Adding certificate verification is strongly advised. See: https://urllib3.readthedocs.io/en/latest/advanced-usage.html#ssl-warnings\n",
      "  InsecureRequestWarning,\n"
     ]
    },
    {
     "name": "stdout",
     "output_type": "stream",
     "text": [
      "145\n"
     ]
    },
    {
     "name": "stderr",
     "output_type": "stream",
     "text": [
      "/Users/adrien/opt/anaconda3/lib/python3.7/site-packages/urllib3/connectionpool.py:1020: InsecureRequestWarning: Unverified HTTPS request is being made to host 'jamesbrody.wordpress.com'. Adding certificate verification is strongly advised. See: https://urllib3.readthedocs.io/en/latest/advanced-usage.html#ssl-warnings\n",
      "  InsecureRequestWarning,\n",
      "/Users/adrien/opt/anaconda3/lib/python3.7/site-packages/urllib3/connectionpool.py:1020: InsecureRequestWarning: Unverified HTTPS request is being made to host 'jamesbrody.wordpress.com'. Adding certificate verification is strongly advised. See: https://urllib3.readthedocs.io/en/latest/advanced-usage.html#ssl-warnings\n",
      "  InsecureRequestWarning,\n"
     ]
    },
    {
     "name": "stdout",
     "output_type": "stream",
     "text": [
      "146\n"
     ]
    },
    {
     "name": "stderr",
     "output_type": "stream",
     "text": [
      "/Users/adrien/opt/anaconda3/lib/python3.7/site-packages/urllib3/connectionpool.py:1020: InsecureRequestWarning: Unverified HTTPS request is being made to host 'www.10news.com'. Adding certificate verification is strongly advised. See: https://urllib3.readthedocs.io/en/latest/advanced-usage.html#ssl-warnings\n",
      "  InsecureRequestWarning,\n",
      "/Users/adrien/opt/anaconda3/lib/python3.7/site-packages/urllib3/connectionpool.py:1020: InsecureRequestWarning: Unverified HTTPS request is being made to host 'www.10news.com'. Adding certificate verification is strongly advised. See: https://urllib3.readthedocs.io/en/latest/advanced-usage.html#ssl-warnings\n",
      "  InsecureRequestWarning,\n"
     ]
    },
    {
     "name": "stdout",
     "output_type": "stream",
     "text": [
      "147\n"
     ]
    },
    {
     "name": "stderr",
     "output_type": "stream",
     "text": [
      "/Users/adrien/opt/anaconda3/lib/python3.7/site-packages/urllib3/connectionpool.py:1020: InsecureRequestWarning: Unverified HTTPS request is being made to host 'www.eurekalert.org'. Adding certificate verification is strongly advised. See: https://urllib3.readthedocs.io/en/latest/advanced-usage.html#ssl-warnings\n",
      "  InsecureRequestWarning,\n",
      "/Users/adrien/opt/anaconda3/lib/python3.7/site-packages/urllib3/connectionpool.py:1020: InsecureRequestWarning: Unverified HTTPS request is being made to host 'www.eurekalert.org'. Adding certificate verification is strongly advised. See: https://urllib3.readthedocs.io/en/latest/advanced-usage.html#ssl-warnings\n",
      "  InsecureRequestWarning,\n",
      "/Users/adrien/opt/anaconda3/lib/python3.7/site-packages/urllib3/connectionpool.py:1020: InsecureRequestWarning: Unverified HTTPS request is being made to host 'www.eurekalert.org'. Adding certificate verification is strongly advised. See: https://urllib3.readthedocs.io/en/latest/advanced-usage.html#ssl-warnings\n",
      "  InsecureRequestWarning,\n",
      "/Users/adrien/opt/anaconda3/lib/python3.7/site-packages/urllib3/connectionpool.py:1020: InsecureRequestWarning: Unverified HTTPS request is being made to host 'www.eurekalert.org'. Adding certificate verification is strongly advised. See: https://urllib3.readthedocs.io/en/latest/advanced-usage.html#ssl-warnings\n",
      "  InsecureRequestWarning,\n"
     ]
    },
    {
     "name": "stdout",
     "output_type": "stream",
     "text": [
      "148\n"
     ]
    },
    {
     "name": "stderr",
     "output_type": "stream",
     "text": [
      "/Users/adrien/opt/anaconda3/lib/python3.7/site-packages/urllib3/connectionpool.py:1020: InsecureRequestWarning: Unverified HTTPS request is being made to host 'punchng.com'. Adding certificate verification is strongly advised. See: https://urllib3.readthedocs.io/en/latest/advanced-usage.html#ssl-warnings\n",
      "  InsecureRequestWarning,\n",
      "/Users/adrien/opt/anaconda3/lib/python3.7/site-packages/urllib3/connectionpool.py:1020: InsecureRequestWarning: Unverified HTTPS request is being made to host 'punchng.com'. Adding certificate verification is strongly advised. See: https://urllib3.readthedocs.io/en/latest/advanced-usage.html#ssl-warnings\n",
      "  InsecureRequestWarning,\n"
     ]
    },
    {
     "name": "stdout",
     "output_type": "stream",
     "text": [
      "149\n"
     ]
    },
    {
     "name": "stderr",
     "output_type": "stream",
     "text": [
      "/Users/adrien/opt/anaconda3/lib/python3.7/site-packages/urllib3/connectionpool.py:1020: InsecureRequestWarning: Unverified HTTPS request is being made to host 'www.chroniclejournal.com'. Adding certificate verification is strongly advised. See: https://urllib3.readthedocs.io/en/latest/advanced-usage.html#ssl-warnings\n",
      "  InsecureRequestWarning,\n",
      "/Users/adrien/opt/anaconda3/lib/python3.7/site-packages/urllib3/connectionpool.py:1020: InsecureRequestWarning: Unverified HTTPS request is being made to host 'www.chroniclejournal.com'. Adding certificate verification is strongly advised. See: https://urllib3.readthedocs.io/en/latest/advanced-usage.html#ssl-warnings\n",
      "  InsecureRequestWarning,\n"
     ]
    },
    {
     "name": "stdout",
     "output_type": "stream",
     "text": [
      "150\n"
     ]
    },
    {
     "name": "stderr",
     "output_type": "stream",
     "text": [
      "/Users/adrien/opt/anaconda3/lib/python3.7/site-packages/urllib3/connectionpool.py:1020: InsecureRequestWarning: Unverified HTTPS request is being made to host 'www.eurekalert.org'. Adding certificate verification is strongly advised. See: https://urllib3.readthedocs.io/en/latest/advanced-usage.html#ssl-warnings\n",
      "  InsecureRequestWarning,\n",
      "/Users/adrien/opt/anaconda3/lib/python3.7/site-packages/urllib3/connectionpool.py:1020: InsecureRequestWarning: Unverified HTTPS request is being made to host 'www.eurekalert.org'. Adding certificate verification is strongly advised. See: https://urllib3.readthedocs.io/en/latest/advanced-usage.html#ssl-warnings\n",
      "  InsecureRequestWarning,\n",
      "/Users/adrien/opt/anaconda3/lib/python3.7/site-packages/urllib3/connectionpool.py:1020: InsecureRequestWarning: Unverified HTTPS request is being made to host 'www.eurekalert.org'. Adding certificate verification is strongly advised. See: https://urllib3.readthedocs.io/en/latest/advanced-usage.html#ssl-warnings\n",
      "  InsecureRequestWarning,\n",
      "/Users/adrien/opt/anaconda3/lib/python3.7/site-packages/urllib3/connectionpool.py:1020: InsecureRequestWarning: Unverified HTTPS request is being made to host 'www.eurekalert.org'. Adding certificate verification is strongly advised. See: https://urllib3.readthedocs.io/en/latest/advanced-usage.html#ssl-warnings\n",
      "  InsecureRequestWarning,\n"
     ]
    },
    {
     "name": "stdout",
     "output_type": "stream",
     "text": [
      "151\n"
     ]
    },
    {
     "name": "stderr",
     "output_type": "stream",
     "text": [
      "/Users/adrien/opt/anaconda3/lib/python3.7/site-packages/urllib3/connectionpool.py:1020: InsecureRequestWarning: Unverified HTTPS request is being made to host 'feeds.theguardian.com'. Adding certificate verification is strongly advised. See: https://urllib3.readthedocs.io/en/latest/advanced-usage.html#ssl-warnings\n",
      "  InsecureRequestWarning,\n",
      "/Users/adrien/opt/anaconda3/lib/python3.7/site-packages/urllib3/connectionpool.py:1020: InsecureRequestWarning: Unverified HTTPS request is being made to host 'www.globalcapital.com'. Adding certificate verification is strongly advised. See: https://urllib3.readthedocs.io/en/latest/advanced-usage.html#ssl-warnings\n",
      "  InsecureRequestWarning,\n",
      "/Users/adrien/opt/anaconda3/lib/python3.7/site-packages/urllib3/connectionpool.py:1020: InsecureRequestWarning: Unverified HTTPS request is being made to host 'www.globalcapital.com'. Adding certificate verification is strongly advised. See: https://urllib3.readthedocs.io/en/latest/advanced-usage.html#ssl-warnings\n",
      "  InsecureRequestWarning,\n",
      "/Users/adrien/opt/anaconda3/lib/python3.7/site-packages/urllib3/connectionpool.py:1020: InsecureRequestWarning: Unverified HTTPS request is being made to host 'www.globalcapital.com'. Adding certificate verification is strongly advised. See: https://urllib3.readthedocs.io/en/latest/advanced-usage.html#ssl-warnings\n",
      "  InsecureRequestWarning,\n",
      "/Users/adrien/opt/anaconda3/lib/python3.7/site-packages/urllib3/connectionpool.py:1020: InsecureRequestWarning: Unverified HTTPS request is being made to host 'www.globalcapital.com'. Adding certificate verification is strongly advised. See: https://urllib3.readthedocs.io/en/latest/advanced-usage.html#ssl-warnings\n",
      "  InsecureRequestWarning,\n"
     ]
    },
    {
     "name": "stdout",
     "output_type": "stream",
     "text": [
      "152\n"
     ]
    },
    {
     "name": "stderr",
     "output_type": "stream",
     "text": [
      "/Users/adrien/opt/anaconda3/lib/python3.7/site-packages/urllib3/connectionpool.py:1020: InsecureRequestWarning: Unverified HTTPS request is being made to host 'www.prokerala.com'. Adding certificate verification is strongly advised. See: https://urllib3.readthedocs.io/en/latest/advanced-usage.html#ssl-warnings\n",
      "  InsecureRequestWarning,\n",
      "/Users/adrien/opt/anaconda3/lib/python3.7/site-packages/urllib3/connectionpool.py:1020: InsecureRequestWarning: Unverified HTTPS request is being made to host 'www.prokerala.com'. Adding certificate verification is strongly advised. See: https://urllib3.readthedocs.io/en/latest/advanced-usage.html#ssl-warnings\n",
      "  InsecureRequestWarning,\n"
     ]
    },
    {
     "name": "stdout",
     "output_type": "stream",
     "text": [
      "153\n",
      "154\n"
     ]
    },
    {
     "name": "stderr",
     "output_type": "stream",
     "text": [
      "/Users/adrien/opt/anaconda3/lib/python3.7/site-packages/urllib3/connectionpool.py:1020: InsecureRequestWarning: Unverified HTTPS request is being made to host 'www.bostonglobe.com'. Adding certificate verification is strongly advised. See: https://urllib3.readthedocs.io/en/latest/advanced-usage.html#ssl-warnings\n",
      "  InsecureRequestWarning,\n",
      "/Users/adrien/opt/anaconda3/lib/python3.7/site-packages/urllib3/connectionpool.py:1020: InsecureRequestWarning: Unverified HTTPS request is being made to host 'www.bostonglobe.com'. Adding certificate verification is strongly advised. See: https://urllib3.readthedocs.io/en/latest/advanced-usage.html#ssl-warnings\n",
      "  InsecureRequestWarning,\n"
     ]
    },
    {
     "name": "stdout",
     "output_type": "stream",
     "text": [
      "155\n"
     ]
    },
    {
     "name": "stderr",
     "output_type": "stream",
     "text": [
      "/Users/adrien/opt/anaconda3/lib/python3.7/site-packages/urllib3/connectionpool.py:1020: InsecureRequestWarning: Unverified HTTPS request is being made to host 'www.fox6now.com'. Adding certificate verification is strongly advised. See: https://urllib3.readthedocs.io/en/latest/advanced-usage.html#ssl-warnings\n",
      "  InsecureRequestWarning,\n",
      "/Users/adrien/opt/anaconda3/lib/python3.7/site-packages/urllib3/connectionpool.py:1020: InsecureRequestWarning: Unverified HTTPS request is being made to host 'www.fox6now.com'. Adding certificate verification is strongly advised. See: https://urllib3.readthedocs.io/en/latest/advanced-usage.html#ssl-warnings\n",
      "  InsecureRequestWarning,\n",
      "/Users/adrien/opt/anaconda3/lib/python3.7/site-packages/urllib3/connectionpool.py:1020: InsecureRequestWarning: Unverified HTTPS request is being made to host 'www.fox6now.com'. Adding certificate verification is strongly advised. See: https://urllib3.readthedocs.io/en/latest/advanced-usage.html#ssl-warnings\n",
      "  InsecureRequestWarning,\n",
      "/Users/adrien/opt/anaconda3/lib/python3.7/site-packages/urllib3/connectionpool.py:1020: InsecureRequestWarning: Unverified HTTPS request is being made to host 'www.fox6now.com'. Adding certificate verification is strongly advised. See: https://urllib3.readthedocs.io/en/latest/advanced-usage.html#ssl-warnings\n",
      "  InsecureRequestWarning,\n"
     ]
    },
    {
     "name": "stdout",
     "output_type": "stream",
     "text": [
      "156\n"
     ]
    },
    {
     "name": "stderr",
     "output_type": "stream",
     "text": [
      "/Users/adrien/opt/anaconda3/lib/python3.7/site-packages/urllib3/connectionpool.py:1020: InsecureRequestWarning: Unverified HTTPS request is being made to host 'www.utv.ie'. Adding certificate verification is strongly advised. See: https://urllib3.readthedocs.io/en/latest/advanced-usage.html#ssl-warnings\n",
      "  InsecureRequestWarning,\n",
      "/Users/adrien/opt/anaconda3/lib/python3.7/site-packages/urllib3/connectionpool.py:1020: InsecureRequestWarning: Unverified HTTPS request is being made to host 'www.utv.ie'. Adding certificate verification is strongly advised. See: https://urllib3.readthedocs.io/en/latest/advanced-usage.html#ssl-warnings\n",
      "  InsecureRequestWarning,\n"
     ]
    },
    {
     "name": "stdout",
     "output_type": "stream",
     "text": [
      "157\n"
     ]
    },
    {
     "name": "stderr",
     "output_type": "stream",
     "text": [
      "/Users/adrien/opt/anaconda3/lib/python3.7/site-packages/urllib3/connectionpool.py:1020: InsecureRequestWarning: Unverified HTTPS request is being made to host 'www.rediff.com'. Adding certificate verification is strongly advised. See: https://urllib3.readthedocs.io/en/latest/advanced-usage.html#ssl-warnings\n",
      "  InsecureRequestWarning,\n",
      "/Users/adrien/opt/anaconda3/lib/python3.7/site-packages/urllib3/connectionpool.py:1020: InsecureRequestWarning: Unverified HTTPS request is being made to host 'www.rediff.com'. Adding certificate verification is strongly advised. See: https://urllib3.readthedocs.io/en/latest/advanced-usage.html#ssl-warnings\n",
      "  InsecureRequestWarning,\n"
     ]
    },
    {
     "name": "stdout",
     "output_type": "stream",
     "text": [
      "158\n"
     ]
    },
    {
     "name": "stderr",
     "output_type": "stream",
     "text": [
      "/Users/adrien/opt/anaconda3/lib/python3.7/site-packages/urllib3/connectionpool.py:1020: InsecureRequestWarning: Unverified HTTPS request is being made to host 'business.scoop.co.nz'. Adding certificate verification is strongly advised. See: https://urllib3.readthedocs.io/en/latest/advanced-usage.html#ssl-warnings\n",
      "  InsecureRequestWarning,\n",
      "/Users/adrien/opt/anaconda3/lib/python3.7/site-packages/urllib3/connectionpool.py:1020: InsecureRequestWarning: Unverified HTTPS request is being made to host 'business.scoop.co.nz'. Adding certificate verification is strongly advised. See: https://urllib3.readthedocs.io/en/latest/advanced-usage.html#ssl-warnings\n",
      "  InsecureRequestWarning,\n"
     ]
    },
    {
     "name": "stdout",
     "output_type": "stream",
     "text": [
      "159\n"
     ]
    },
    {
     "name": "stderr",
     "output_type": "stream",
     "text": [
      "/Users/adrien/opt/anaconda3/lib/python3.7/site-packages/urllib3/connectionpool.py:1020: InsecureRequestWarning: Unverified HTTPS request is being made to host 'www.thedailybeast.com'. Adding certificate verification is strongly advised. See: https://urllib3.readthedocs.io/en/latest/advanced-usage.html#ssl-warnings\n",
      "  InsecureRequestWarning,\n",
      "/Users/adrien/opt/anaconda3/lib/python3.7/site-packages/urllib3/connectionpool.py:1020: InsecureRequestWarning: Unverified HTTPS request is being made to host 'www.thedailybeast.com'. Adding certificate verification is strongly advised. See: https://urllib3.readthedocs.io/en/latest/advanced-usage.html#ssl-warnings\n",
      "  InsecureRequestWarning,\n",
      "/Users/adrien/opt/anaconda3/lib/python3.7/site-packages/urllib3/connectionpool.py:1020: InsecureRequestWarning: Unverified HTTPS request is being made to host 'www.thedailybeast.com'. Adding certificate verification is strongly advised. See: https://urllib3.readthedocs.io/en/latest/advanced-usage.html#ssl-warnings\n",
      "  InsecureRequestWarning,\n",
      "/Users/adrien/opt/anaconda3/lib/python3.7/site-packages/urllib3/connectionpool.py:1020: InsecureRequestWarning: Unverified HTTPS request is being made to host 'www.thedailybeast.com'. Adding certificate verification is strongly advised. See: https://urllib3.readthedocs.io/en/latest/advanced-usage.html#ssl-warnings\n",
      "  InsecureRequestWarning,\n"
     ]
    },
    {
     "name": "stdout",
     "output_type": "stream",
     "text": [
      "160\n"
     ]
    },
    {
     "name": "stderr",
     "output_type": "stream",
     "text": [
      "/Users/adrien/opt/anaconda3/lib/python3.7/site-packages/urllib3/connectionpool.py:1020: InsecureRequestWarning: Unverified HTTPS request is being made to host 'www.bbc.co.uk'. Adding certificate verification is strongly advised. See: https://urllib3.readthedocs.io/en/latest/advanced-usage.html#ssl-warnings\n",
      "  InsecureRequestWarning,\n",
      "/Users/adrien/opt/anaconda3/lib/python3.7/site-packages/urllib3/connectionpool.py:1020: InsecureRequestWarning: Unverified HTTPS request is being made to host 'www.bbc.co.uk'. Adding certificate verification is strongly advised. See: https://urllib3.readthedocs.io/en/latest/advanced-usage.html#ssl-warnings\n",
      "  InsecureRequestWarning,\n"
     ]
    },
    {
     "name": "stdout",
     "output_type": "stream",
     "text": [
      "161\n"
     ]
    },
    {
     "name": "stderr",
     "output_type": "stream",
     "text": [
      "/Users/adrien/opt/anaconda3/lib/python3.7/site-packages/urllib3/connectionpool.py:1020: InsecureRequestWarning: Unverified HTTPS request is being made to host 'www.mercurynews.com'. Adding certificate verification is strongly advised. See: https://urllib3.readthedocs.io/en/latest/advanced-usage.html#ssl-warnings\n",
      "  InsecureRequestWarning,\n",
      "/Users/adrien/opt/anaconda3/lib/python3.7/site-packages/urllib3/connectionpool.py:1020: InsecureRequestWarning: Unverified HTTPS request is being made to host 'www.mercurynews.com'. Adding certificate verification is strongly advised. See: https://urllib3.readthedocs.io/en/latest/advanced-usage.html#ssl-warnings\n",
      "  InsecureRequestWarning,\n",
      "/Users/adrien/opt/anaconda3/lib/python3.7/site-packages/urllib3/connectionpool.py:1020: InsecureRequestWarning: Unverified HTTPS request is being made to host 'www.mercurynews.com'. Adding certificate verification is strongly advised. See: https://urllib3.readthedocs.io/en/latest/advanced-usage.html#ssl-warnings\n",
      "  InsecureRequestWarning,\n",
      "/Users/adrien/opt/anaconda3/lib/python3.7/site-packages/urllib3/connectionpool.py:1020: InsecureRequestWarning: Unverified HTTPS request is being made to host 'www.mercurynews.com'. Adding certificate verification is strongly advised. See: https://urllib3.readthedocs.io/en/latest/advanced-usage.html#ssl-warnings\n",
      "  InsecureRequestWarning,\n"
     ]
    },
    {
     "name": "stdout",
     "output_type": "stream",
     "text": [
      "162\n"
     ]
    },
    {
     "name": "stderr",
     "output_type": "stream",
     "text": [
      "/Users/adrien/opt/anaconda3/lib/python3.7/site-packages/urllib3/connectionpool.py:1020: InsecureRequestWarning: Unverified HTTPS request is being made to host 'www.politico.eu'. Adding certificate verification is strongly advised. See: https://urllib3.readthedocs.io/en/latest/advanced-usage.html#ssl-warnings\n",
      "  InsecureRequestWarning,\n",
      "/Users/adrien/opt/anaconda3/lib/python3.7/site-packages/urllib3/connectionpool.py:1020: InsecureRequestWarning: Unverified HTTPS request is being made to host 'www.abc.net.au'. Adding certificate verification is strongly advised. See: https://urllib3.readthedocs.io/en/latest/advanced-usage.html#ssl-warnings\n",
      "  InsecureRequestWarning,\n",
      "/Users/adrien/opt/anaconda3/lib/python3.7/site-packages/urllib3/connectionpool.py:1020: InsecureRequestWarning: Unverified HTTPS request is being made to host 'www.abc.net.au'. Adding certificate verification is strongly advised. See: https://urllib3.readthedocs.io/en/latest/advanced-usage.html#ssl-warnings\n",
      "  InsecureRequestWarning,\n"
     ]
    },
    {
     "name": "stdout",
     "output_type": "stream",
     "text": [
      "163\n"
     ]
    },
    {
     "name": "stderr",
     "output_type": "stream",
     "text": [
      "/Users/adrien/opt/anaconda3/lib/python3.7/site-packages/urllib3/connectionpool.py:1020: InsecureRequestWarning: Unverified HTTPS request is being made to host 'netindian.in'. Adding certificate verification is strongly advised. See: https://urllib3.readthedocs.io/en/latest/advanced-usage.html#ssl-warnings\n",
      "  InsecureRequestWarning,\n",
      "/Users/adrien/opt/anaconda3/lib/python3.7/site-packages/urllib3/connectionpool.py:1020: InsecureRequestWarning: Unverified HTTPS request is being made to host 'www.netindian.in'. Adding certificate verification is strongly advised. See: https://urllib3.readthedocs.io/en/latest/advanced-usage.html#ssl-warnings\n",
      "  InsecureRequestWarning,\n",
      "/Users/adrien/opt/anaconda3/lib/python3.7/site-packages/urllib3/connectionpool.py:1020: InsecureRequestWarning: Unverified HTTPS request is being made to host 'netindian.in'. Adding certificate verification is strongly advised. See: https://urllib3.readthedocs.io/en/latest/advanced-usage.html#ssl-warnings\n",
      "  InsecureRequestWarning,\n",
      "/Users/adrien/opt/anaconda3/lib/python3.7/site-packages/urllib3/connectionpool.py:1020: InsecureRequestWarning: Unverified HTTPS request is being made to host 'www.netindian.in'. Adding certificate verification is strongly advised. See: https://urllib3.readthedocs.io/en/latest/advanced-usage.html#ssl-warnings\n",
      "  InsecureRequestWarning,\n"
     ]
    },
    {
     "name": "stdout",
     "output_type": "stream",
     "text": [
      "164\n"
     ]
    },
    {
     "name": "stderr",
     "output_type": "stream",
     "text": [
      "/Users/adrien/opt/anaconda3/lib/python3.7/site-packages/urllib3/connectionpool.py:1020: InsecureRequestWarning: Unverified HTTPS request is being made to host 'netindian.in'. Adding certificate verification is strongly advised. See: https://urllib3.readthedocs.io/en/latest/advanced-usage.html#ssl-warnings\n",
      "  InsecureRequestWarning,\n",
      "/Users/adrien/opt/anaconda3/lib/python3.7/site-packages/urllib3/connectionpool.py:1020: InsecureRequestWarning: Unverified HTTPS request is being made to host 'www.netindian.in'. Adding certificate verification is strongly advised. See: https://urllib3.readthedocs.io/en/latest/advanced-usage.html#ssl-warnings\n",
      "  InsecureRequestWarning,\n",
      "/Users/adrien/opt/anaconda3/lib/python3.7/site-packages/urllib3/connectionpool.py:1020: InsecureRequestWarning: Unverified HTTPS request is being made to host 'netindian.in'. Adding certificate verification is strongly advised. See: https://urllib3.readthedocs.io/en/latest/advanced-usage.html#ssl-warnings\n",
      "  InsecureRequestWarning,\n",
      "/Users/adrien/opt/anaconda3/lib/python3.7/site-packages/urllib3/connectionpool.py:1020: InsecureRequestWarning: Unverified HTTPS request is being made to host 'www.netindian.in'. Adding certificate verification is strongly advised. See: https://urllib3.readthedocs.io/en/latest/advanced-usage.html#ssl-warnings\n",
      "  InsecureRequestWarning,\n"
     ]
    },
    {
     "name": "stdout",
     "output_type": "stream",
     "text": [
      "165\n"
     ]
    },
    {
     "name": "stderr",
     "output_type": "stream",
     "text": [
      "/Users/adrien/opt/anaconda3/lib/python3.7/site-packages/urllib3/connectionpool.py:1020: InsecureRequestWarning: Unverified HTTPS request is being made to host 'www.pressdemocrat.com'. Adding certificate verification is strongly advised. See: https://urllib3.readthedocs.io/en/latest/advanced-usage.html#ssl-warnings\n",
      "  InsecureRequestWarning,\n",
      "/Users/adrien/opt/anaconda3/lib/python3.7/site-packages/urllib3/connectionpool.py:1020: InsecureRequestWarning: Unverified HTTPS request is being made to host 'www.pressdemocrat.com'. Adding certificate verification is strongly advised. See: https://urllib3.readthedocs.io/en/latest/advanced-usage.html#ssl-warnings\n",
      "  InsecureRequestWarning,\n",
      "/Users/adrien/opt/anaconda3/lib/python3.7/site-packages/urllib3/connectionpool.py:1020: InsecureRequestWarning: Unverified HTTPS request is being made to host 'www.pressdemocrat.com'. Adding certificate verification is strongly advised. See: https://urllib3.readthedocs.io/en/latest/advanced-usage.html#ssl-warnings\n",
      "  InsecureRequestWarning,\n",
      "/Users/adrien/opt/anaconda3/lib/python3.7/site-packages/urllib3/connectionpool.py:1020: InsecureRequestWarning: Unverified HTTPS request is being made to host 'www.pressdemocrat.com'. Adding certificate verification is strongly advised. See: https://urllib3.readthedocs.io/en/latest/advanced-usage.html#ssl-warnings\n",
      "  InsecureRequestWarning,\n",
      "/Users/adrien/opt/anaconda3/lib/python3.7/site-packages/urllib3/connectionpool.py:1020: InsecureRequestWarning: Unverified HTTPS request is being made to host 'www.pressdemocrat.com'. Adding certificate verification is strongly advised. See: https://urllib3.readthedocs.io/en/latest/advanced-usage.html#ssl-warnings\n",
      "  InsecureRequestWarning,\n",
      "/Users/adrien/opt/anaconda3/lib/python3.7/site-packages/urllib3/connectionpool.py:1020: InsecureRequestWarning: Unverified HTTPS request is being made to host 'www.pressdemocrat.com'. Adding certificate verification is strongly advised. See: https://urllib3.readthedocs.io/en/latest/advanced-usage.html#ssl-warnings\n",
      "  InsecureRequestWarning,\n"
     ]
    },
    {
     "name": "stdout",
     "output_type": "stream",
     "text": [
      "166\n"
     ]
    },
    {
     "name": "stderr",
     "output_type": "stream",
     "text": [
      "/Users/adrien/opt/anaconda3/lib/python3.7/site-packages/urllib3/connectionpool.py:1020: InsecureRequestWarning: Unverified HTTPS request is being made to host 'www.wbur.org'. Adding certificate verification is strongly advised. See: https://urllib3.readthedocs.io/en/latest/advanced-usage.html#ssl-warnings\n",
      "  InsecureRequestWarning,\n",
      "/Users/adrien/opt/anaconda3/lib/python3.7/site-packages/urllib3/connectionpool.py:1020: InsecureRequestWarning: Unverified HTTPS request is being made to host 'www.wbur.org'. Adding certificate verification is strongly advised. See: https://urllib3.readthedocs.io/en/latest/advanced-usage.html#ssl-warnings\n",
      "  InsecureRequestWarning,\n"
     ]
    },
    {
     "name": "stdout",
     "output_type": "stream",
     "text": [
      "167\n"
     ]
    },
    {
     "name": "stderr",
     "output_type": "stream",
     "text": [
      "/Users/adrien/opt/anaconda3/lib/python3.7/site-packages/urllib3/connectionpool.py:1020: InsecureRequestWarning: Unverified HTTPS request is being made to host 'www.theblaze.com'. Adding certificate verification is strongly advised. See: https://urllib3.readthedocs.io/en/latest/advanced-usage.html#ssl-warnings\n",
      "  InsecureRequestWarning,\n",
      "/Users/adrien/opt/anaconda3/lib/python3.7/site-packages/urllib3/connectionpool.py:1020: InsecureRequestWarning: Unverified HTTPS request is being made to host 'www.theblaze.com'. Adding certificate verification is strongly advised. See: https://urllib3.readthedocs.io/en/latest/advanced-usage.html#ssl-warnings\n",
      "  InsecureRequestWarning,\n"
     ]
    },
    {
     "name": "stdout",
     "output_type": "stream",
     "text": [
      "168\n"
     ]
    },
    {
     "name": "stderr",
     "output_type": "stream",
     "text": [
      "/Users/adrien/opt/anaconda3/lib/python3.7/site-packages/urllib3/connectionpool.py:1020: InsecureRequestWarning: Unverified HTTPS request is being made to host 'home.nzcity.co.nz'. Adding certificate verification is strongly advised. See: https://urllib3.readthedocs.io/en/latest/advanced-usage.html#ssl-warnings\n",
      "  InsecureRequestWarning,\n",
      "/Users/adrien/opt/anaconda3/lib/python3.7/site-packages/urllib3/connectionpool.py:1020: InsecureRequestWarning: Unverified HTTPS request is being made to host 'news.yahoo.com'. Adding certificate verification is strongly advised. See: https://urllib3.readthedocs.io/en/latest/advanced-usage.html#ssl-warnings\n",
      "  InsecureRequestWarning,\n",
      "/Users/adrien/opt/anaconda3/lib/python3.7/site-packages/urllib3/connectionpool.py:1020: InsecureRequestWarning: Unverified HTTPS request is being made to host 'home.nzcity.co.nz'. Adding certificate verification is strongly advised. See: https://urllib3.readthedocs.io/en/latest/advanced-usage.html#ssl-warnings\n",
      "  InsecureRequestWarning,\n",
      "/Users/adrien/opt/anaconda3/lib/python3.7/site-packages/urllib3/connectionpool.py:1020: InsecureRequestWarning: Unverified HTTPS request is being made to host 'news.yahoo.com'. Adding certificate verification is strongly advised. See: https://urllib3.readthedocs.io/en/latest/advanced-usage.html#ssl-warnings\n",
      "  InsecureRequestWarning,\n"
     ]
    },
    {
     "name": "stdout",
     "output_type": "stream",
     "text": [
      "169\n",
      "170\n",
      "171\n"
     ]
    },
    {
     "name": "stderr",
     "output_type": "stream",
     "text": [
      "/Users/adrien/opt/anaconda3/lib/python3.7/site-packages/urllib3/connectionpool.py:1020: InsecureRequestWarning: Unverified HTTPS request is being made to host 'aninews.in'. Adding certificate verification is strongly advised. See: https://urllib3.readthedocs.io/en/latest/advanced-usage.html#ssl-warnings\n",
      "  InsecureRequestWarning,\n",
      "/Users/adrien/opt/anaconda3/lib/python3.7/site-packages/urllib3/connectionpool.py:1020: InsecureRequestWarning: Unverified HTTPS request is being made to host 'www.takepart.com'. Adding certificate verification is strongly advised. See: https://urllib3.readthedocs.io/en/latest/advanced-usage.html#ssl-warnings\n",
      "  InsecureRequestWarning,\n",
      "/Users/adrien/opt/anaconda3/lib/python3.7/site-packages/urllib3/connectionpool.py:1020: InsecureRequestWarning: Unverified HTTPS request is being made to host 'participant.com'. Adding certificate verification is strongly advised. See: https://urllib3.readthedocs.io/en/latest/advanced-usage.html#ssl-warnings\n",
      "  InsecureRequestWarning,\n",
      "/Users/adrien/opt/anaconda3/lib/python3.7/site-packages/urllib3/connectionpool.py:1020: InsecureRequestWarning: Unverified HTTPS request is being made to host 'www.takepart.com'. Adding certificate verification is strongly advised. See: https://urllib3.readthedocs.io/en/latest/advanced-usage.html#ssl-warnings\n",
      "  InsecureRequestWarning,\n",
      "/Users/adrien/opt/anaconda3/lib/python3.7/site-packages/urllib3/connectionpool.py:1020: InsecureRequestWarning: Unverified HTTPS request is being made to host 'participant.com'. Adding certificate verification is strongly advised. See: https://urllib3.readthedocs.io/en/latest/advanced-usage.html#ssl-warnings\n",
      "  InsecureRequestWarning,\n"
     ]
    },
    {
     "name": "stdout",
     "output_type": "stream",
     "text": [
      "172\n"
     ]
    },
    {
     "name": "stderr",
     "output_type": "stream",
     "text": [
      "/Users/adrien/opt/anaconda3/lib/python3.7/site-packages/urllib3/connectionpool.py:1020: InsecureRequestWarning: Unverified HTTPS request is being made to host 'www.whec.com'. Adding certificate verification is strongly advised. See: https://urllib3.readthedocs.io/en/latest/advanced-usage.html#ssl-warnings\n",
      "  InsecureRequestWarning,\n",
      "/Users/adrien/opt/anaconda3/lib/python3.7/site-packages/urllib3/connectionpool.py:1020: InsecureRequestWarning: Unverified HTTPS request is being made to host 'www.whec.com'. Adding certificate verification is strongly advised. See: https://urllib3.readthedocs.io/en/latest/advanced-usage.html#ssl-warnings\n",
      "  InsecureRequestWarning,\n"
     ]
    },
    {
     "name": "stdout",
     "output_type": "stream",
     "text": [
      "173\n"
     ]
    },
    {
     "name": "stderr",
     "output_type": "stream",
     "text": [
      "/Users/adrien/opt/anaconda3/lib/python3.7/site-packages/urllib3/connectionpool.py:1020: InsecureRequestWarning: Unverified HTTPS request is being made to host 'archives.sfweekly.com'. Adding certificate verification is strongly advised. See: https://urllib3.readthedocs.io/en/latest/advanced-usage.html#ssl-warnings\n",
      "  InsecureRequestWarning,\n",
      "/Users/adrien/opt/anaconda3/lib/python3.7/site-packages/urllib3/connectionpool.py:1020: InsecureRequestWarning: Unverified HTTPS request is being made to host 'archives.sfweekly.com'. Adding certificate verification is strongly advised. See: https://urllib3.readthedocs.io/en/latest/advanced-usage.html#ssl-warnings\n",
      "  InsecureRequestWarning,\n"
     ]
    },
    {
     "name": "stdout",
     "output_type": "stream",
     "text": [
      "174\n"
     ]
    },
    {
     "name": "stderr",
     "output_type": "stream",
     "text": [
      "/Users/adrien/opt/anaconda3/lib/python3.7/site-packages/urllib3/connectionpool.py:1020: InsecureRequestWarning: Unverified HTTPS request is being made to host 'www.walesonline.co.uk'. Adding certificate verification is strongly advised. See: https://urllib3.readthedocs.io/en/latest/advanced-usage.html#ssl-warnings\n",
      "  InsecureRequestWarning,\n",
      "/Users/adrien/opt/anaconda3/lib/python3.7/site-packages/urllib3/connectionpool.py:1020: InsecureRequestWarning: Unverified HTTPS request is being made to host 'www.walesonline.co.uk'. Adding certificate verification is strongly advised. See: https://urllib3.readthedocs.io/en/latest/advanced-usage.html#ssl-warnings\n",
      "  InsecureRequestWarning,\n"
     ]
    },
    {
     "name": "stdout",
     "output_type": "stream",
     "text": [
      "175\n"
     ]
    },
    {
     "name": "stderr",
     "output_type": "stream",
     "text": [
      "/Users/adrien/opt/anaconda3/lib/python3.7/site-packages/urllib3/connectionpool.py:1020: InsecureRequestWarning: Unverified HTTPS request is being made to host 'www.thewhig.com'. Adding certificate verification is strongly advised. See: https://urllib3.readthedocs.io/en/latest/advanced-usage.html#ssl-warnings\n",
      "  InsecureRequestWarning,\n",
      "/Users/adrien/opt/anaconda3/lib/python3.7/site-packages/urllib3/connectionpool.py:1020: InsecureRequestWarning: Unverified HTTPS request is being made to host 'www.thewhig.com'. Adding certificate verification is strongly advised. See: https://urllib3.readthedocs.io/en/latest/advanced-usage.html#ssl-warnings\n",
      "  InsecureRequestWarning,\n"
     ]
    },
    {
     "name": "stdout",
     "output_type": "stream",
     "text": [
      "176\n"
     ]
    },
    {
     "name": "stderr",
     "output_type": "stream",
     "text": [
      "/Users/adrien/opt/anaconda3/lib/python3.7/site-packages/urllib3/connectionpool.py:1020: InsecureRequestWarning: Unverified HTTPS request is being made to host 'www.news18.com'. Adding certificate verification is strongly advised. See: https://urllib3.readthedocs.io/en/latest/advanced-usage.html#ssl-warnings\n",
      "  InsecureRequestWarning,\n",
      "/Users/adrien/opt/anaconda3/lib/python3.7/site-packages/urllib3/connectionpool.py:1020: InsecureRequestWarning: Unverified HTTPS request is being made to host 'www.news18.com'. Adding certificate verification is strongly advised. See: https://urllib3.readthedocs.io/en/latest/advanced-usage.html#ssl-warnings\n",
      "  InsecureRequestWarning,\n"
     ]
    },
    {
     "name": "stdout",
     "output_type": "stream",
     "text": [
      "177\n"
     ]
    },
    {
     "name": "stderr",
     "output_type": "stream",
     "text": [
      "/Users/adrien/opt/anaconda3/lib/python3.7/site-packages/urllib3/connectionpool.py:1020: InsecureRequestWarning: Unverified HTTPS request is being made to host 'www.globalcapital.com'. Adding certificate verification is strongly advised. See: https://urllib3.readthedocs.io/en/latest/advanced-usage.html#ssl-warnings\n",
      "  InsecureRequestWarning,\n",
      "/Users/adrien/opt/anaconda3/lib/python3.7/site-packages/urllib3/connectionpool.py:1020: InsecureRequestWarning: Unverified HTTPS request is being made to host 'www.globalcapital.com'. Adding certificate verification is strongly advised. See: https://urllib3.readthedocs.io/en/latest/advanced-usage.html#ssl-warnings\n",
      "  InsecureRequestWarning,\n",
      "/Users/adrien/opt/anaconda3/lib/python3.7/site-packages/urllib3/connectionpool.py:1020: InsecureRequestWarning: Unverified HTTPS request is being made to host 'www.globalcapital.com'. Adding certificate verification is strongly advised. See: https://urllib3.readthedocs.io/en/latest/advanced-usage.html#ssl-warnings\n",
      "  InsecureRequestWarning,\n",
      "/Users/adrien/opt/anaconda3/lib/python3.7/site-packages/urllib3/connectionpool.py:1020: InsecureRequestWarning: Unverified HTTPS request is being made to host 'www.globalcapital.com'. Adding certificate verification is strongly advised. See: https://urllib3.readthedocs.io/en/latest/advanced-usage.html#ssl-warnings\n",
      "  InsecureRequestWarning,\n"
     ]
    },
    {
     "name": "stdout",
     "output_type": "stream",
     "text": [
      "178\n"
     ]
    },
    {
     "name": "stderr",
     "output_type": "stream",
     "text": [
      "/Users/adrien/opt/anaconda3/lib/python3.7/site-packages/urllib3/connectionpool.py:1020: InsecureRequestWarning: Unverified HTTPS request is being made to host 'www.all4women.co.za'. Adding certificate verification is strongly advised. See: https://urllib3.readthedocs.io/en/latest/advanced-usage.html#ssl-warnings\n",
      "  InsecureRequestWarning,\n",
      "/Users/adrien/opt/anaconda3/lib/python3.7/site-packages/urllib3/connectionpool.py:1020: InsecureRequestWarning: Unverified HTTPS request is being made to host 'www.all4women.co.za'. Adding certificate verification is strongly advised. See: https://urllib3.readthedocs.io/en/latest/advanced-usage.html#ssl-warnings\n",
      "  InsecureRequestWarning,\n"
     ]
    },
    {
     "name": "stdout",
     "output_type": "stream",
     "text": [
      "179\n",
      "180\n"
     ]
    },
    {
     "name": "stderr",
     "output_type": "stream",
     "text": [
      "/Users/adrien/opt/anaconda3/lib/python3.7/site-packages/urllib3/connectionpool.py:1020: InsecureRequestWarning: Unverified HTTPS request is being made to host 'www.thoughtco.com'. Adding certificate verification is strongly advised. See: https://urllib3.readthedocs.io/en/latest/advanced-usage.html#ssl-warnings\n",
      "  InsecureRequestWarning,\n",
      "/Users/adrien/opt/anaconda3/lib/python3.7/site-packages/urllib3/connectionpool.py:1020: InsecureRequestWarning: Unverified HTTPS request is being made to host 'www.liveabout.com'. Adding certificate verification is strongly advised. See: https://urllib3.readthedocs.io/en/latest/advanced-usage.html#ssl-warnings\n",
      "  InsecureRequestWarning,\n",
      "/Users/adrien/opt/anaconda3/lib/python3.7/site-packages/urllib3/connectionpool.py:1020: InsecureRequestWarning: Unverified HTTPS request is being made to host 'www.thoughtco.com'. Adding certificate verification is strongly advised. See: https://urllib3.readthedocs.io/en/latest/advanced-usage.html#ssl-warnings\n",
      "  InsecureRequestWarning,\n",
      "/Users/adrien/opt/anaconda3/lib/python3.7/site-packages/urllib3/connectionpool.py:1020: InsecureRequestWarning: Unverified HTTPS request is being made to host 'www.liveabout.com'. Adding certificate verification is strongly advised. See: https://urllib3.readthedocs.io/en/latest/advanced-usage.html#ssl-warnings\n",
      "  InsecureRequestWarning,\n"
     ]
    },
    {
     "name": "stdout",
     "output_type": "stream",
     "text": [
      "181\n"
     ]
    },
    {
     "name": "stderr",
     "output_type": "stream",
     "text": [
      "/Users/adrien/opt/anaconda3/lib/python3.7/site-packages/urllib3/connectionpool.py:1020: InsecureRequestWarning: Unverified HTTPS request is being made to host 'kutv.com'. Adding certificate verification is strongly advised. See: https://urllib3.readthedocs.io/en/latest/advanced-usage.html#ssl-warnings\n",
      "  InsecureRequestWarning,\n",
      "/Users/adrien/opt/anaconda3/lib/python3.7/site-packages/urllib3/connectionpool.py:1020: InsecureRequestWarning: Unverified HTTPS request is being made to host 'kutv.com'. Adding certificate verification is strongly advised. See: https://urllib3.readthedocs.io/en/latest/advanced-usage.html#ssl-warnings\n",
      "  InsecureRequestWarning,\n"
     ]
    },
    {
     "name": "stdout",
     "output_type": "stream",
     "text": [
      "182\n"
     ]
    },
    {
     "name": "stderr",
     "output_type": "stream",
     "text": [
      "/Users/adrien/opt/anaconda3/lib/python3.7/site-packages/urllib3/connectionpool.py:1020: InsecureRequestWarning: Unverified HTTPS request is being made to host 'satprnews.com'. Adding certificate verification is strongly advised. See: https://urllib3.readthedocs.io/en/latest/advanced-usage.html#ssl-warnings\n",
      "  InsecureRequestWarning,\n",
      "/Users/adrien/opt/anaconda3/lib/python3.7/site-packages/urllib3/connectionpool.py:1020: InsecureRequestWarning: Unverified HTTPS request is being made to host 'thejapanherald.com'. Adding certificate verification is strongly advised. See: https://urllib3.readthedocs.io/en/latest/advanced-usage.html#ssl-warnings\n",
      "  InsecureRequestWarning,\n",
      "/Users/adrien/opt/anaconda3/lib/python3.7/site-packages/urllib3/connectionpool.py:1020: InsecureRequestWarning: Unverified HTTPS request is being made to host 'satprnews.com'. Adding certificate verification is strongly advised. See: https://urllib3.readthedocs.io/en/latest/advanced-usage.html#ssl-warnings\n",
      "  InsecureRequestWarning,\n",
      "/Users/adrien/opt/anaconda3/lib/python3.7/site-packages/urllib3/connectionpool.py:1020: InsecureRequestWarning: Unverified HTTPS request is being made to host 'thejapanherald.com'. Adding certificate verification is strongly advised. See: https://urllib3.readthedocs.io/en/latest/advanced-usage.html#ssl-warnings\n",
      "  InsecureRequestWarning,\n"
     ]
    },
    {
     "name": "stdout",
     "output_type": "stream",
     "text": [
      "183\n"
     ]
    },
    {
     "name": "stderr",
     "output_type": "stream",
     "text": [
      "/Users/adrien/opt/anaconda3/lib/python3.7/site-packages/urllib3/connectionpool.py:1020: InsecureRequestWarning: Unverified HTTPS request is being made to host 'mondovisione.com'. Adding certificate verification is strongly advised. See: https://urllib3.readthedocs.io/en/latest/advanced-usage.html#ssl-warnings\n",
      "  InsecureRequestWarning,\n",
      "/Users/adrien/opt/anaconda3/lib/python3.7/site-packages/urllib3/connectionpool.py:1020: InsecureRequestWarning: Unverified HTTPS request is being made to host 'mondovisione.com'. Adding certificate verification is strongly advised. See: https://urllib3.readthedocs.io/en/latest/advanced-usage.html#ssl-warnings\n",
      "  InsecureRequestWarning,\n",
      "/Users/adrien/opt/anaconda3/lib/python3.7/site-packages/urllib3/connectionpool.py:1020: InsecureRequestWarning: Unverified HTTPS request is being made to host 'mondovisione.com'. Adding certificate verification is strongly advised. See: https://urllib3.readthedocs.io/en/latest/advanced-usage.html#ssl-warnings\n",
      "  InsecureRequestWarning,\n",
      "/Users/adrien/opt/anaconda3/lib/python3.7/site-packages/urllib3/connectionpool.py:1020: InsecureRequestWarning: Unverified HTTPS request is being made to host 'mondovisione.com'. Adding certificate verification is strongly advised. See: https://urllib3.readthedocs.io/en/latest/advanced-usage.html#ssl-warnings\n",
      "  InsecureRequestWarning,\n"
     ]
    },
    {
     "name": "stdout",
     "output_type": "stream",
     "text": [
      "184\n"
     ]
    },
    {
     "name": "stderr",
     "output_type": "stream",
     "text": [
      "/Users/adrien/opt/anaconda3/lib/python3.7/site-packages/urllib3/connectionpool.py:1020: InsecureRequestWarning: Unverified HTTPS request is being made to host 'www.wwno.org'. Adding certificate verification is strongly advised. See: https://urllib3.readthedocs.io/en/latest/advanced-usage.html#ssl-warnings\n",
      "  InsecureRequestWarning,\n",
      "/Users/adrien/opt/anaconda3/lib/python3.7/site-packages/urllib3/connectionpool.py:1020: InsecureRequestWarning: Unverified HTTPS request is being made to host 'www.wwno.org'. Adding certificate verification is strongly advised. See: https://urllib3.readthedocs.io/en/latest/advanced-usage.html#ssl-warnings\n",
      "  InsecureRequestWarning,\n",
      "/Users/adrien/opt/anaconda3/lib/python3.7/site-packages/urllib3/connectionpool.py:1020: InsecureRequestWarning: Unverified HTTPS request is being made to host 'www.wwno.org'. Adding certificate verification is strongly advised. See: https://urllib3.readthedocs.io/en/latest/advanced-usage.html#ssl-warnings\n",
      "  InsecureRequestWarning,\n",
      "/Users/adrien/opt/anaconda3/lib/python3.7/site-packages/urllib3/connectionpool.py:1020: InsecureRequestWarning: Unverified HTTPS request is being made to host 'www.wwno.org'. Adding certificate verification is strongly advised. See: https://urllib3.readthedocs.io/en/latest/advanced-usage.html#ssl-warnings\n",
      "  InsecureRequestWarning,\n"
     ]
    },
    {
     "name": "stdout",
     "output_type": "stream",
     "text": [
      "185\n"
     ]
    },
    {
     "name": "stderr",
     "output_type": "stream",
     "text": [
      "/Users/adrien/opt/anaconda3/lib/python3.7/site-packages/urllib3/connectionpool.py:1020: InsecureRequestWarning: Unverified HTTPS request is being made to host 'au.news.yahoo.com'. Adding certificate verification is strongly advised. See: https://urllib3.readthedocs.io/en/latest/advanced-usage.html#ssl-warnings\n",
      "  InsecureRequestWarning,\n",
      "/Users/adrien/opt/anaconda3/lib/python3.7/site-packages/urllib3/connectionpool.py:1020: InsecureRequestWarning: Unverified HTTPS request is being made to host 'au.news.yahoo.com'. Adding certificate verification is strongly advised. See: https://urllib3.readthedocs.io/en/latest/advanced-usage.html#ssl-warnings\n",
      "  InsecureRequestWarning,\n",
      "/Users/adrien/opt/anaconda3/lib/python3.7/site-packages/urllib3/connectionpool.py:1020: InsecureRequestWarning: Unverified HTTPS request is being made to host 'daily49er.com'. Adding certificate verification is strongly advised. See: https://urllib3.readthedocs.io/en/latest/advanced-usage.html#ssl-warnings\n",
      "  InsecureRequestWarning,\n",
      "/Users/adrien/opt/anaconda3/lib/python3.7/site-packages/urllib3/connectionpool.py:1020: InsecureRequestWarning: Unverified HTTPS request is being made to host 'www.dailyclimate.org'. Adding certificate verification is strongly advised. See: https://urllib3.readthedocs.io/en/latest/advanced-usage.html#ssl-warnings\n",
      "  InsecureRequestWarning,\n",
      "/Users/adrien/opt/anaconda3/lib/python3.7/site-packages/urllib3/connectionpool.py:1020: InsecureRequestWarning: Unverified HTTPS request is being made to host 'www.dailyclimate.org'. Adding certificate verification is strongly advised. See: https://urllib3.readthedocs.io/en/latest/advanced-usage.html#ssl-warnings\n",
      "  InsecureRequestWarning,\n",
      "/Users/adrien/opt/anaconda3/lib/python3.7/site-packages/urllib3/connectionpool.py:1020: InsecureRequestWarning: Unverified HTTPS request is being made to host 'www.dailyclimate.org'. Adding certificate verification is strongly advised. See: https://urllib3.readthedocs.io/en/latest/advanced-usage.html#ssl-warnings\n",
      "  InsecureRequestWarning,\n",
      "/Users/adrien/opt/anaconda3/lib/python3.7/site-packages/urllib3/connectionpool.py:1020: InsecureRequestWarning: Unverified HTTPS request is being made to host 'www.dailyclimate.org'. Adding certificate verification is strongly advised. See: https://urllib3.readthedocs.io/en/latest/advanced-usage.html#ssl-warnings\n",
      "  InsecureRequestWarning,\n"
     ]
    },
    {
     "name": "stdout",
     "output_type": "stream",
     "text": [
      "186\n"
     ]
    },
    {
     "name": "stderr",
     "output_type": "stream",
     "text": [
      "/Users/adrien/opt/anaconda3/lib/python3.7/site-packages/urllib3/connectionpool.py:1020: InsecureRequestWarning: Unverified HTTPS request is being made to host 'cleantechnica.com'. Adding certificate verification is strongly advised. See: https://urllib3.readthedocs.io/en/latest/advanced-usage.html#ssl-warnings\n",
      "  InsecureRequestWarning,\n",
      "/Users/adrien/opt/anaconda3/lib/python3.7/site-packages/urllib3/connectionpool.py:1020: InsecureRequestWarning: Unverified HTTPS request is being made to host 'dailybulletin.com'. Adding certificate verification is strongly advised. See: https://urllib3.readthedocs.io/en/latest/advanced-usage.html#ssl-warnings\n",
      "  InsecureRequestWarning,\n",
      "/Users/adrien/opt/anaconda3/lib/python3.7/site-packages/urllib3/connectionpool.py:1020: InsecureRequestWarning: Unverified HTTPS request is being made to host 'www.dailybulletin.com'. Adding certificate verification is strongly advised. See: https://urllib3.readthedocs.io/en/latest/advanced-usage.html#ssl-warnings\n",
      "  InsecureRequestWarning,\n",
      "/Users/adrien/opt/anaconda3/lib/python3.7/site-packages/urllib3/connectionpool.py:1020: InsecureRequestWarning: Unverified HTTPS request is being made to host 'dailybulletin.com'. Adding certificate verification is strongly advised. See: https://urllib3.readthedocs.io/en/latest/advanced-usage.html#ssl-warnings\n",
      "  InsecureRequestWarning,\n",
      "/Users/adrien/opt/anaconda3/lib/python3.7/site-packages/urllib3/connectionpool.py:1020: InsecureRequestWarning: Unverified HTTPS request is being made to host 'www.dailybulletin.com'. Adding certificate verification is strongly advised. See: https://urllib3.readthedocs.io/en/latest/advanced-usage.html#ssl-warnings\n",
      "  InsecureRequestWarning,\n"
     ]
    },
    {
     "name": "stdout",
     "output_type": "stream",
     "text": [
      "187\n"
     ]
    },
    {
     "name": "stderr",
     "output_type": "stream",
     "text": [
      "/Users/adrien/opt/anaconda3/lib/python3.7/site-packages/urllib3/connectionpool.py:1020: InsecureRequestWarning: Unverified HTTPS request is being made to host 'ew.com'. Adding certificate verification is strongly advised. See: https://urllib3.readthedocs.io/en/latest/advanced-usage.html#ssl-warnings\n",
      "  InsecureRequestWarning,\n",
      "/Users/adrien/opt/anaconda3/lib/python3.7/site-packages/urllib3/connectionpool.py:1020: InsecureRequestWarning: Unverified HTTPS request is being made to host 'ew.com'. Adding certificate verification is strongly advised. See: https://urllib3.readthedocs.io/en/latest/advanced-usage.html#ssl-warnings\n",
      "  InsecureRequestWarning,\n"
     ]
    },
    {
     "name": "stdout",
     "output_type": "stream",
     "text": [
      "188\n"
     ]
    },
    {
     "name": "stderr",
     "output_type": "stream",
     "text": [
      "/Users/adrien/opt/anaconda3/lib/python3.7/site-packages/urllib3/connectionpool.py:1020: InsecureRequestWarning: Unverified HTTPS request is being made to host 'www.gulf-times.com'. Adding certificate verification is strongly advised. See: https://urllib3.readthedocs.io/en/latest/advanced-usage.html#ssl-warnings\n",
      "  InsecureRequestWarning,\n",
      "/Users/adrien/opt/anaconda3/lib/python3.7/site-packages/urllib3/connectionpool.py:1020: InsecureRequestWarning: Unverified HTTPS request is being made to host 'www.gulf-times.com'. Adding certificate verification is strongly advised. See: https://urllib3.readthedocs.io/en/latest/advanced-usage.html#ssl-warnings\n",
      "  InsecureRequestWarning,\n",
      "/Users/adrien/opt/anaconda3/lib/python3.7/site-packages/urllib3/connectionpool.py:1020: InsecureRequestWarning: Unverified HTTPS request is being made to host 'www.gulf-times.com'. Adding certificate verification is strongly advised. See: https://urllib3.readthedocs.io/en/latest/advanced-usage.html#ssl-warnings\n",
      "  InsecureRequestWarning,\n",
      "/Users/adrien/opt/anaconda3/lib/python3.7/site-packages/urllib3/connectionpool.py:1020: InsecureRequestWarning: Unverified HTTPS request is being made to host 'www.gulf-times.com'. Adding certificate verification is strongly advised. See: https://urllib3.readthedocs.io/en/latest/advanced-usage.html#ssl-warnings\n",
      "  InsecureRequestWarning,\n"
     ]
    },
    {
     "name": "stdout",
     "output_type": "stream",
     "text": [
      "189\n"
     ]
    },
    {
     "name": "stderr",
     "output_type": "stream",
     "text": [
      "/Users/adrien/opt/anaconda3/lib/python3.7/site-packages/urllib3/connectionpool.py:1020: InsecureRequestWarning: Unverified HTTPS request is being made to host 'www.trust.org'. Adding certificate verification is strongly advised. See: https://urllib3.readthedocs.io/en/latest/advanced-usage.html#ssl-warnings\n",
      "  InsecureRequestWarning,\n",
      "/Users/adrien/opt/anaconda3/lib/python3.7/site-packages/urllib3/connectionpool.py:1020: InsecureRequestWarning: Unverified HTTPS request is being made to host 'www.trust.org'. Adding certificate verification is strongly advised. See: https://urllib3.readthedocs.io/en/latest/advanced-usage.html#ssl-warnings\n",
      "  InsecureRequestWarning,\n"
     ]
    },
    {
     "name": "stdout",
     "output_type": "stream",
     "text": [
      "190\n"
     ]
    },
    {
     "name": "stderr",
     "output_type": "stream",
     "text": [
      "/Users/adrien/opt/anaconda3/lib/python3.7/site-packages/urllib3/connectionpool.py:1020: InsecureRequestWarning: Unverified HTTPS request is being made to host 'journal.com.ph'. Adding certificate verification is strongly advised. See: https://urllib3.readthedocs.io/en/latest/advanced-usage.html#ssl-warnings\n",
      "  InsecureRequestWarning,\n",
      "/Users/adrien/opt/anaconda3/lib/python3.7/site-packages/urllib3/connectionpool.py:1020: InsecureRequestWarning: Unverified HTTPS request is being made to host 'journal.com.ph'. Adding certificate verification is strongly advised. See: https://urllib3.readthedocs.io/en/latest/advanced-usage.html#ssl-warnings\n",
      "  InsecureRequestWarning,\n",
      "/Users/adrien/opt/anaconda3/lib/python3.7/site-packages/urllib3/connectionpool.py:1020: InsecureRequestWarning: Unverified HTTPS request is being made to host 'journal.com.ph'. Adding certificate verification is strongly advised. See: https://urllib3.readthedocs.io/en/latest/advanced-usage.html#ssl-warnings\n",
      "  InsecureRequestWarning,\n",
      "/Users/adrien/opt/anaconda3/lib/python3.7/site-packages/urllib3/connectionpool.py:1020: InsecureRequestWarning: Unverified HTTPS request is being made to host 'journal.com.ph'. Adding certificate verification is strongly advised. See: https://urllib3.readthedocs.io/en/latest/advanced-usage.html#ssl-warnings\n",
      "  InsecureRequestWarning,\n"
     ]
    },
    {
     "name": "stdout",
     "output_type": "stream",
     "text": [
      "191\n",
      "192\n"
     ]
    },
    {
     "name": "stderr",
     "output_type": "stream",
     "text": [
      "/Users/adrien/opt/anaconda3/lib/python3.7/site-packages/urllib3/connectionpool.py:1020: InsecureRequestWarning: Unverified HTTPS request is being made to host 'journal.com.ph'. Adding certificate verification is strongly advised. See: https://urllib3.readthedocs.io/en/latest/advanced-usage.html#ssl-warnings\n",
      "  InsecureRequestWarning,\n",
      "/Users/adrien/opt/anaconda3/lib/python3.7/site-packages/urllib3/connectionpool.py:1020: InsecureRequestWarning: Unverified HTTPS request is being made to host 'journal.com.ph'. Adding certificate verification is strongly advised. See: https://urllib3.readthedocs.io/en/latest/advanced-usage.html#ssl-warnings\n",
      "  InsecureRequestWarning,\n",
      "/Users/adrien/opt/anaconda3/lib/python3.7/site-packages/urllib3/connectionpool.py:1020: InsecureRequestWarning: Unverified HTTPS request is being made to host 'journal.com.ph'. Adding certificate verification is strongly advised. See: https://urllib3.readthedocs.io/en/latest/advanced-usage.html#ssl-warnings\n",
      "  InsecureRequestWarning,\n",
      "/Users/adrien/opt/anaconda3/lib/python3.7/site-packages/urllib3/connectionpool.py:1020: InsecureRequestWarning: Unverified HTTPS request is being made to host 'journal.com.ph'. Adding certificate verification is strongly advised. See: https://urllib3.readthedocs.io/en/latest/advanced-usage.html#ssl-warnings\n",
      "  InsecureRequestWarning,\n"
     ]
    },
    {
     "name": "stdout",
     "output_type": "stream",
     "text": [
      "193\n"
     ]
    },
    {
     "name": "stderr",
     "output_type": "stream",
     "text": [
      "/Users/adrien/opt/anaconda3/lib/python3.7/site-packages/urllib3/connectionpool.py:1020: InsecureRequestWarning: Unverified HTTPS request is being made to host 'www.newsbusters.org'. Adding certificate verification is strongly advised. See: https://urllib3.readthedocs.io/en/latest/advanced-usage.html#ssl-warnings\n",
      "  InsecureRequestWarning,\n",
      "/Users/adrien/opt/anaconda3/lib/python3.7/site-packages/urllib3/connectionpool.py:1020: InsecureRequestWarning: Unverified HTTPS request is being made to host 'www.newsbusters.org'. Adding certificate verification is strongly advised. See: https://urllib3.readthedocs.io/en/latest/advanced-usage.html#ssl-warnings\n",
      "  InsecureRequestWarning,\n"
     ]
    },
    {
     "name": "stdout",
     "output_type": "stream",
     "text": [
      "194\n",
      "195\n"
     ]
    },
    {
     "name": "stderr",
     "output_type": "stream",
     "text": [
      "/Users/adrien/opt/anaconda3/lib/python3.7/site-packages/urllib3/connectionpool.py:1020: InsecureRequestWarning: Unverified HTTPS request is being made to host 'pjmedia.com'. Adding certificate verification is strongly advised. See: https://urllib3.readthedocs.io/en/latest/advanced-usage.html#ssl-warnings\n",
      "  InsecureRequestWarning,\n",
      "/Users/adrien/opt/anaconda3/lib/python3.7/site-packages/urllib3/connectionpool.py:1020: InsecureRequestWarning: Unverified HTTPS request is being made to host 'pjmedia.com'. Adding certificate verification is strongly advised. See: https://urllib3.readthedocs.io/en/latest/advanced-usage.html#ssl-warnings\n",
      "  InsecureRequestWarning,\n",
      "/Users/adrien/opt/anaconda3/lib/python3.7/site-packages/urllib3/connectionpool.py:1020: InsecureRequestWarning: Unverified HTTPS request is being made to host 'pjmedia.com'. Adding certificate verification is strongly advised. See: https://urllib3.readthedocs.io/en/latest/advanced-usage.html#ssl-warnings\n",
      "  InsecureRequestWarning,\n",
      "/Users/adrien/opt/anaconda3/lib/python3.7/site-packages/urllib3/connectionpool.py:1020: InsecureRequestWarning: Unverified HTTPS request is being made to host 'pjmedia.com'. Adding certificate verification is strongly advised. See: https://urllib3.readthedocs.io/en/latest/advanced-usage.html#ssl-warnings\n",
      "  InsecureRequestWarning,\n"
     ]
    },
    {
     "name": "stdout",
     "output_type": "stream",
     "text": [
      "196\n"
     ]
    },
    {
     "name": "stderr",
     "output_type": "stream",
     "text": [
      "/Users/adrien/opt/anaconda3/lib/python3.7/site-packages/urllib3/connectionpool.py:1020: InsecureRequestWarning: Unverified HTTPS request is being made to host 'www.takepart.com'. Adding certificate verification is strongly advised. See: https://urllib3.readthedocs.io/en/latest/advanced-usage.html#ssl-warnings\n",
      "  InsecureRequestWarning,\n",
      "/Users/adrien/opt/anaconda3/lib/python3.7/site-packages/urllib3/connectionpool.py:1020: InsecureRequestWarning: Unverified HTTPS request is being made to host 'participant.com'. Adding certificate verification is strongly advised. See: https://urllib3.readthedocs.io/en/latest/advanced-usage.html#ssl-warnings\n",
      "  InsecureRequestWarning,\n",
      "/Users/adrien/opt/anaconda3/lib/python3.7/site-packages/urllib3/connectionpool.py:1020: InsecureRequestWarning: Unverified HTTPS request is being made to host 'www.takepart.com'. Adding certificate verification is strongly advised. See: https://urllib3.readthedocs.io/en/latest/advanced-usage.html#ssl-warnings\n",
      "  InsecureRequestWarning,\n",
      "/Users/adrien/opt/anaconda3/lib/python3.7/site-packages/urllib3/connectionpool.py:1020: InsecureRequestWarning: Unverified HTTPS request is being made to host 'participant.com'. Adding certificate verification is strongly advised. See: https://urllib3.readthedocs.io/en/latest/advanced-usage.html#ssl-warnings\n",
      "  InsecureRequestWarning,\n"
     ]
    },
    {
     "name": "stdout",
     "output_type": "stream",
     "text": [
      "197\n"
     ]
    },
    {
     "name": "stderr",
     "output_type": "stream",
     "text": [
      "/Users/adrien/opt/anaconda3/lib/python3.7/site-packages/urllib3/connectionpool.py:1020: InsecureRequestWarning: Unverified HTTPS request is being made to host 'news.sky.com'. Adding certificate verification is strongly advised. See: https://urllib3.readthedocs.io/en/latest/advanced-usage.html#ssl-warnings\n",
      "  InsecureRequestWarning,\n",
      "/Users/adrien/opt/anaconda3/lib/python3.7/site-packages/urllib3/connectionpool.py:1020: InsecureRequestWarning: Unverified HTTPS request is being made to host 'news.sky.com'. Adding certificate verification is strongly advised. See: https://urllib3.readthedocs.io/en/latest/advanced-usage.html#ssl-warnings\n",
      "  InsecureRequestWarning,\n"
     ]
    },
    {
     "name": "stdout",
     "output_type": "stream",
     "text": [
      "198\n"
     ]
    },
    {
     "name": "stderr",
     "output_type": "stream",
     "text": [
      "/Users/adrien/opt/anaconda3/lib/python3.7/site-packages/urllib3/connectionpool.py:1020: InsecureRequestWarning: Unverified HTTPS request is being made to host 'www.walesonline.co.uk'. Adding certificate verification is strongly advised. See: https://urllib3.readthedocs.io/en/latest/advanced-usage.html#ssl-warnings\n",
      "  InsecureRequestWarning,\n",
      "/Users/adrien/opt/anaconda3/lib/python3.7/site-packages/urllib3/connectionpool.py:1020: InsecureRequestWarning: Unverified HTTPS request is being made to host 'www.walesonline.co.uk'. Adding certificate verification is strongly advised. See: https://urllib3.readthedocs.io/en/latest/advanced-usage.html#ssl-warnings\n",
      "  InsecureRequestWarning,\n"
     ]
    },
    {
     "name": "stdout",
     "output_type": "stream",
     "text": [
      "199\n"
     ]
    },
    {
     "name": "stderr",
     "output_type": "stream",
     "text": [
      "/Users/adrien/opt/anaconda3/lib/python3.7/site-packages/urllib3/connectionpool.py:1020: InsecureRequestWarning: Unverified HTTPS request is being made to host 'www.torontosun.com'. Adding certificate verification is strongly advised. See: https://urllib3.readthedocs.io/en/latest/advanced-usage.html#ssl-warnings\n",
      "  InsecureRequestWarning,\n",
      "/Users/adrien/opt/anaconda3/lib/python3.7/site-packages/urllib3/connectionpool.py:1020: InsecureRequestWarning: Unverified HTTPS request is being made to host 'torontosun.com'. Adding certificate verification is strongly advised. See: https://urllib3.readthedocs.io/en/latest/advanced-usage.html#ssl-warnings\n",
      "  InsecureRequestWarning,\n",
      "/Users/adrien/opt/anaconda3/lib/python3.7/site-packages/urllib3/connectionpool.py:1020: InsecureRequestWarning: Unverified HTTPS request is being made to host 'www.torontosun.com'. Adding certificate verification is strongly advised. See: https://urllib3.readthedocs.io/en/latest/advanced-usage.html#ssl-warnings\n",
      "  InsecureRequestWarning,\n",
      "/Users/adrien/opt/anaconda3/lib/python3.7/site-packages/urllib3/connectionpool.py:1020: InsecureRequestWarning: Unverified HTTPS request is being made to host 'torontosun.com'. Adding certificate verification is strongly advised. See: https://urllib3.readthedocs.io/en/latest/advanced-usage.html#ssl-warnings\n",
      "  InsecureRequestWarning,\n"
     ]
    },
    {
     "name": "stdout",
     "output_type": "stream",
     "text": [
      "200\n"
     ]
    },
    {
     "name": "stderr",
     "output_type": "stream",
     "text": [
      "/Users/adrien/opt/anaconda3/lib/python3.7/site-packages/urllib3/connectionpool.py:1020: InsecureRequestWarning: Unverified HTTPS request is being made to host 'www.newswire.ca'. Adding certificate verification is strongly advised. See: https://urllib3.readthedocs.io/en/latest/advanced-usage.html#ssl-warnings\n",
      "  InsecureRequestWarning,\n",
      "/Users/adrien/opt/anaconda3/lib/python3.7/site-packages/urllib3/connectionpool.py:1020: InsecureRequestWarning: Unverified HTTPS request is being made to host 'www.newswire.ca'. Adding certificate verification is strongly advised. See: https://urllib3.readthedocs.io/en/latest/advanced-usage.html#ssl-warnings\n",
      "  InsecureRequestWarning,\n"
     ]
    },
    {
     "name": "stdout",
     "output_type": "stream",
     "text": [
      "201\n"
     ]
    },
    {
     "name": "stderr",
     "output_type": "stream",
     "text": [
      "/Users/adrien/opt/anaconda3/lib/python3.7/site-packages/urllib3/connectionpool.py:1020: InsecureRequestWarning: Unverified HTTPS request is being made to host 'www.nzherald.co.nz'. Adding certificate verification is strongly advised. See: https://urllib3.readthedocs.io/en/latest/advanced-usage.html#ssl-warnings\n",
      "  InsecureRequestWarning,\n",
      "/Users/adrien/opt/anaconda3/lib/python3.7/site-packages/urllib3/connectionpool.py:1020: InsecureRequestWarning: Unverified HTTPS request is being made to host 'www.nzherald.co.nz'. Adding certificate verification is strongly advised. See: https://urllib3.readthedocs.io/en/latest/advanced-usage.html#ssl-warnings\n",
      "  InsecureRequestWarning,\n",
      "/Users/adrien/opt/anaconda3/lib/python3.7/site-packages/urllib3/connectionpool.py:1020: InsecureRequestWarning: Unverified HTTPS request is being made to host 'www.nzherald.co.nz'. Adding certificate verification is strongly advised. See: https://urllib3.readthedocs.io/en/latest/advanced-usage.html#ssl-warnings\n",
      "  InsecureRequestWarning,\n",
      "/Users/adrien/opt/anaconda3/lib/python3.7/site-packages/urllib3/connectionpool.py:1020: InsecureRequestWarning: Unverified HTTPS request is being made to host 'www.nzherald.co.nz'. Adding certificate verification is strongly advised. See: https://urllib3.readthedocs.io/en/latest/advanced-usage.html#ssl-warnings\n",
      "  InsecureRequestWarning,\n"
     ]
    },
    {
     "name": "stdout",
     "output_type": "stream",
     "text": [
      "202\n"
     ]
    },
    {
     "name": "stderr",
     "output_type": "stream",
     "text": [
      "/Users/adrien/opt/anaconda3/lib/python3.7/site-packages/urllib3/connectionpool.py:1020: InsecureRequestWarning: Unverified HTTPS request is being made to host 'www.newswire.ca'. Adding certificate verification is strongly advised. See: https://urllib3.readthedocs.io/en/latest/advanced-usage.html#ssl-warnings\n",
      "  InsecureRequestWarning,\n",
      "/Users/adrien/opt/anaconda3/lib/python3.7/site-packages/urllib3/connectionpool.py:1020: InsecureRequestWarning: Unverified HTTPS request is being made to host 'www.newswire.ca'. Adding certificate verification is strongly advised. See: https://urllib3.readthedocs.io/en/latest/advanced-usage.html#ssl-warnings\n",
      "  InsecureRequestWarning,\n"
     ]
    },
    {
     "name": "stdout",
     "output_type": "stream",
     "text": [
      "203\n"
     ]
    },
    {
     "name": "stderr",
     "output_type": "stream",
     "text": [
      "/Users/adrien/opt/anaconda3/lib/python3.7/site-packages/urllib3/connectionpool.py:1020: InsecureRequestWarning: Unverified HTTPS request is being made to host 'mondovisione.com'. Adding certificate verification is strongly advised. See: https://urllib3.readthedocs.io/en/latest/advanced-usage.html#ssl-warnings\n",
      "  InsecureRequestWarning,\n",
      "/Users/adrien/opt/anaconda3/lib/python3.7/site-packages/urllib3/connectionpool.py:1020: InsecureRequestWarning: Unverified HTTPS request is being made to host 'mondovisione.com'. Adding certificate verification is strongly advised. See: https://urllib3.readthedocs.io/en/latest/advanced-usage.html#ssl-warnings\n",
      "  InsecureRequestWarning,\n",
      "/Users/adrien/opt/anaconda3/lib/python3.7/site-packages/urllib3/connectionpool.py:1020: InsecureRequestWarning: Unverified HTTPS request is being made to host 'mondovisione.com'. Adding certificate verification is strongly advised. See: https://urllib3.readthedocs.io/en/latest/advanced-usage.html#ssl-warnings\n",
      "  InsecureRequestWarning,\n",
      "/Users/adrien/opt/anaconda3/lib/python3.7/site-packages/urllib3/connectionpool.py:1020: InsecureRequestWarning: Unverified HTTPS request is being made to host 'mondovisione.com'. Adding certificate verification is strongly advised. See: https://urllib3.readthedocs.io/en/latest/advanced-usage.html#ssl-warnings\n",
      "  InsecureRequestWarning,\n"
     ]
    },
    {
     "name": "stdout",
     "output_type": "stream",
     "text": [
      "204\n"
     ]
    },
    {
     "name": "stderr",
     "output_type": "stream",
     "text": [
      "/Users/adrien/opt/anaconda3/lib/python3.7/site-packages/urllib3/connectionpool.py:1020: InsecureRequestWarning: Unverified HTTPS request is being made to host 'bellingencourier.com.au'. Adding certificate verification is strongly advised. See: https://urllib3.readthedocs.io/en/latest/advanced-usage.html#ssl-warnings\n",
      "  InsecureRequestWarning,\n",
      "/Users/adrien/opt/anaconda3/lib/python3.7/site-packages/urllib3/connectionpool.py:1020: InsecureRequestWarning: Unverified HTTPS request is being made to host 'www.bellingencourier.com.au'. Adding certificate verification is strongly advised. See: https://urllib3.readthedocs.io/en/latest/advanced-usage.html#ssl-warnings\n",
      "  InsecureRequestWarning,\n",
      "/Users/adrien/opt/anaconda3/lib/python3.7/site-packages/urllib3/connectionpool.py:1020: InsecureRequestWarning: Unverified HTTPS request is being made to host 'www.macleayargus.com.au'. Adding certificate verification is strongly advised. See: https://urllib3.readthedocs.io/en/latest/advanced-usage.html#ssl-warnings\n",
      "  InsecureRequestWarning,\n",
      "/Users/adrien/opt/anaconda3/lib/python3.7/site-packages/urllib3/connectionpool.py:1020: InsecureRequestWarning: Unverified HTTPS request is being made to host 'bellingencourier.com.au'. Adding certificate verification is strongly advised. See: https://urllib3.readthedocs.io/en/latest/advanced-usage.html#ssl-warnings\n",
      "  InsecureRequestWarning,\n",
      "/Users/adrien/opt/anaconda3/lib/python3.7/site-packages/urllib3/connectionpool.py:1020: InsecureRequestWarning: Unverified HTTPS request is being made to host 'www.bellingencourier.com.au'. Adding certificate verification is strongly advised. See: https://urllib3.readthedocs.io/en/latest/advanced-usage.html#ssl-warnings\n",
      "  InsecureRequestWarning,\n",
      "/Users/adrien/opt/anaconda3/lib/python3.7/site-packages/urllib3/connectionpool.py:1020: InsecureRequestWarning: Unverified HTTPS request is being made to host 'www.macleayargus.com.au'. Adding certificate verification is strongly advised. See: https://urllib3.readthedocs.io/en/latest/advanced-usage.html#ssl-warnings\n",
      "  InsecureRequestWarning,\n"
     ]
    },
    {
     "name": "stdout",
     "output_type": "stream",
     "text": [
      "205\n",
      "206\n"
     ]
    },
    {
     "name": "stderr",
     "output_type": "stream",
     "text": [
      "/Users/adrien/opt/anaconda3/lib/python3.7/site-packages/urllib3/connectionpool.py:1020: InsecureRequestWarning: Unverified HTTPS request is being made to host 'www.upi.com'. Adding certificate verification is strongly advised. See: https://urllib3.readthedocs.io/en/latest/advanced-usage.html#ssl-warnings\n",
      "  InsecureRequestWarning,\n",
      "/Users/adrien/opt/anaconda3/lib/python3.7/site-packages/urllib3/connectionpool.py:1020: InsecureRequestWarning: Unverified HTTPS request is being made to host 'www.upi.com'. Adding certificate verification is strongly advised. See: https://urllib3.readthedocs.io/en/latest/advanced-usage.html#ssl-warnings\n",
      "  InsecureRequestWarning,\n"
     ]
    },
    {
     "name": "stdout",
     "output_type": "stream",
     "text": [
      "207\n"
     ]
    },
    {
     "name": "stderr",
     "output_type": "stream",
     "text": [
      "/Users/adrien/opt/anaconda3/lib/python3.7/site-packages/urllib3/connectionpool.py:1020: InsecureRequestWarning: Unverified HTTPS request is being made to host 'asia.nikkei.com'. Adding certificate verification is strongly advised. See: https://urllib3.readthedocs.io/en/latest/advanced-usage.html#ssl-warnings\n",
      "  InsecureRequestWarning,\n",
      "/Users/adrien/opt/anaconda3/lib/python3.7/site-packages/urllib3/connectionpool.py:1020: InsecureRequestWarning: Unverified HTTPS request is being made to host 'asia.nikkei.com'. Adding certificate verification is strongly advised. See: https://urllib3.readthedocs.io/en/latest/advanced-usage.html#ssl-warnings\n",
      "  InsecureRequestWarning,\n"
     ]
    },
    {
     "name": "stdout",
     "output_type": "stream",
     "text": [
      "208\n"
     ]
    },
    {
     "name": "stderr",
     "output_type": "stream",
     "text": [
      "/Users/adrien/opt/anaconda3/lib/python3.7/site-packages/urllib3/connectionpool.py:1020: InsecureRequestWarning: Unverified HTTPS request is being made to host 'kobi5.com'. Adding certificate verification is strongly advised. See: https://urllib3.readthedocs.io/en/latest/advanced-usage.html#ssl-warnings\n",
      "  InsecureRequestWarning,\n",
      "/Users/adrien/opt/anaconda3/lib/python3.7/site-packages/urllib3/connectionpool.py:1020: InsecureRequestWarning: Unverified HTTPS request is being made to host 'kobi5.com'. Adding certificate verification is strongly advised. See: https://urllib3.readthedocs.io/en/latest/advanced-usage.html#ssl-warnings\n",
      "  InsecureRequestWarning,\n"
     ]
    },
    {
     "name": "stdout",
     "output_type": "stream",
     "text": [
      "209\n"
     ]
    },
    {
     "name": "stderr",
     "output_type": "stream",
     "text": [
      "/Users/adrien/opt/anaconda3/lib/python3.7/site-packages/urllib3/connectionpool.py:1020: InsecureRequestWarning: Unverified HTTPS request is being made to host 'www.moneycontrol.com'. Adding certificate verification is strongly advised. See: https://urllib3.readthedocs.io/en/latest/advanced-usage.html#ssl-warnings\n",
      "  InsecureRequestWarning,\n",
      "/Users/adrien/opt/anaconda3/lib/python3.7/site-packages/urllib3/connectionpool.py:1020: InsecureRequestWarning: Unverified HTTPS request is being made to host 'www.moneycontrol.com'. Adding certificate verification is strongly advised. See: https://urllib3.readthedocs.io/en/latest/advanced-usage.html#ssl-warnings\n",
      "  InsecureRequestWarning,\n",
      "/Users/adrien/opt/anaconda3/lib/python3.7/site-packages/urllib3/connectionpool.py:1020: InsecureRequestWarning: Unverified HTTPS request is being made to host 'www.moneycontrol.com'. Adding certificate verification is strongly advised. See: https://urllib3.readthedocs.io/en/latest/advanced-usage.html#ssl-warnings\n",
      "  InsecureRequestWarning,\n",
      "/Users/adrien/opt/anaconda3/lib/python3.7/site-packages/urllib3/connectionpool.py:1020: InsecureRequestWarning: Unverified HTTPS request is being made to host 'www.moneycontrol.com'. Adding certificate verification is strongly advised. See: https://urllib3.readthedocs.io/en/latest/advanced-usage.html#ssl-warnings\n",
      "  InsecureRequestWarning,\n"
     ]
    },
    {
     "name": "stdout",
     "output_type": "stream",
     "text": [
      "210\n"
     ]
    },
    {
     "name": "stderr",
     "output_type": "stream",
     "text": [
      "/Users/adrien/opt/anaconda3/lib/python3.7/site-packages/urllib3/connectionpool.py:1020: InsecureRequestWarning: Unverified HTTPS request is being made to host 'www.news.com.au'. Adding certificate verification is strongly advised. See: https://urllib3.readthedocs.io/en/latest/advanced-usage.html#ssl-warnings\n",
      "  InsecureRequestWarning,\n",
      "/Users/adrien/opt/anaconda3/lib/python3.7/site-packages/urllib3/connectionpool.py:1020: InsecureRequestWarning: Unverified HTTPS request is being made to host 'www.news.com.au'. Adding certificate verification is strongly advised. See: https://urllib3.readthedocs.io/en/latest/advanced-usage.html#ssl-warnings\n",
      "  InsecureRequestWarning,\n"
     ]
    },
    {
     "name": "stdout",
     "output_type": "stream",
     "text": [
      "211\n"
     ]
    },
    {
     "name": "stderr",
     "output_type": "stream",
     "text": [
      "/Users/adrien/opt/anaconda3/lib/python3.7/site-packages/urllib3/connectionpool.py:1020: InsecureRequestWarning: Unverified HTTPS request is being made to host 'aninews.in'. Adding certificate verification is strongly advised. See: https://urllib3.readthedocs.io/en/latest/advanced-usage.html#ssl-warnings\n",
      "  InsecureRequestWarning,\n",
      "/Users/adrien/opt/anaconda3/lib/python3.7/site-packages/urllib3/connectionpool.py:1020: InsecureRequestWarning: Unverified HTTPS request is being made to host 'feeds.theguardian.com'. Adding certificate verification is strongly advised. See: https://urllib3.readthedocs.io/en/latest/advanced-usage.html#ssl-warnings\n",
      "  InsecureRequestWarning,\n"
     ]
    },
    {
     "name": "stdout",
     "output_type": "stream",
     "text": [
      "212\n"
     ]
    },
    {
     "name": "stderr",
     "output_type": "stream",
     "text": [
      "/Users/adrien/opt/anaconda3/lib/python3.7/site-packages/urllib3/connectionpool.py:1020: InsecureRequestWarning: Unverified HTTPS request is being made to host 'globalnews.ca'. Adding certificate verification is strongly advised. See: https://urllib3.readthedocs.io/en/latest/advanced-usage.html#ssl-warnings\n",
      "  InsecureRequestWarning,\n",
      "/Users/adrien/opt/anaconda3/lib/python3.7/site-packages/urllib3/connectionpool.py:1020: InsecureRequestWarning: Unverified HTTPS request is being made to host 'globalnews.ca'. Adding certificate verification is strongly advised. See: https://urllib3.readthedocs.io/en/latest/advanced-usage.html#ssl-warnings\n",
      "  InsecureRequestWarning,\n",
      "/Users/adrien/opt/anaconda3/lib/python3.7/site-packages/urllib3/connectionpool.py:1020: InsecureRequestWarning: Unverified HTTPS request is being made to host 'www.ekklesia.co.uk'. Adding certificate verification is strongly advised. See: https://urllib3.readthedocs.io/en/latest/advanced-usage.html#ssl-warnings\n",
      "  InsecureRequestWarning,\n"
     ]
    },
    {
     "name": "stdout",
     "output_type": "stream",
     "text": [
      "213\n"
     ]
    },
    {
     "name": "stderr",
     "output_type": "stream",
     "text": [
      "/Users/adrien/opt/anaconda3/lib/python3.7/site-packages/urllib3/connectionpool.py:1020: InsecureRequestWarning: Unverified HTTPS request is being made to host 'www.ekklesia.co.uk'. Adding certificate verification is strongly advised. See: https://urllib3.readthedocs.io/en/latest/advanced-usage.html#ssl-warnings\n",
      "  InsecureRequestWarning,\n"
     ]
    },
    {
     "name": "stdout",
     "output_type": "stream",
     "text": [
      "214\n"
     ]
    },
    {
     "name": "stderr",
     "output_type": "stream",
     "text": [
      "/Users/adrien/opt/anaconda3/lib/python3.7/site-packages/urllib3/connectionpool.py:1020: InsecureRequestWarning: Unverified HTTPS request is being made to host 'express.co.uk'. Adding certificate verification is strongly advised. See: https://urllib3.readthedocs.io/en/latest/advanced-usage.html#ssl-warnings\n",
      "  InsecureRequestWarning,\n",
      "/Users/adrien/opt/anaconda3/lib/python3.7/site-packages/urllib3/connectionpool.py:1020: InsecureRequestWarning: Unverified HTTPS request is being made to host 'www.express.co.uk'. Adding certificate verification is strongly advised. See: https://urllib3.readthedocs.io/en/latest/advanced-usage.html#ssl-warnings\n",
      "  InsecureRequestWarning,\n",
      "/Users/adrien/opt/anaconda3/lib/python3.7/site-packages/urllib3/connectionpool.py:1020: InsecureRequestWarning: Unverified HTTPS request is being made to host 'express.co.uk'. Adding certificate verification is strongly advised. See: https://urllib3.readthedocs.io/en/latest/advanced-usage.html#ssl-warnings\n",
      "  InsecureRequestWarning,\n",
      "/Users/adrien/opt/anaconda3/lib/python3.7/site-packages/urllib3/connectionpool.py:1020: InsecureRequestWarning: Unverified HTTPS request is being made to host 'www.express.co.uk'. Adding certificate verification is strongly advised. See: https://urllib3.readthedocs.io/en/latest/advanced-usage.html#ssl-warnings\n",
      "  InsecureRequestWarning,\n"
     ]
    },
    {
     "name": "stdout",
     "output_type": "stream",
     "text": [
      "215\n"
     ]
    },
    {
     "name": "stderr",
     "output_type": "stream",
     "text": [
      "/Users/adrien/opt/anaconda3/lib/python3.7/site-packages/urllib3/connectionpool.py:1020: InsecureRequestWarning: Unverified HTTPS request is being made to host 'www.edie.net'. Adding certificate verification is strongly advised. See: https://urllib3.readthedocs.io/en/latest/advanced-usage.html#ssl-warnings\n",
      "  InsecureRequestWarning,\n",
      "/Users/adrien/opt/anaconda3/lib/python3.7/site-packages/urllib3/connectionpool.py:1020: InsecureRequestWarning: Unverified HTTPS request is being made to host 'www.edie.net'. Adding certificate verification is strongly advised. See: https://urllib3.readthedocs.io/en/latest/advanced-usage.html#ssl-warnings\n",
      "  InsecureRequestWarning,\n"
     ]
    },
    {
     "name": "stdout",
     "output_type": "stream",
     "text": [
      "216\n",
      "217\n"
     ]
    },
    {
     "name": "stderr",
     "output_type": "stream",
     "text": [
      "/Users/adrien/opt/anaconda3/lib/python3.7/site-packages/urllib3/connectionpool.py:1020: InsecureRequestWarning: Unverified HTTPS request is being made to host 'www.trust.org'. Adding certificate verification is strongly advised. See: https://urllib3.readthedocs.io/en/latest/advanced-usage.html#ssl-warnings\n",
      "  InsecureRequestWarning,\n",
      "/Users/adrien/opt/anaconda3/lib/python3.7/site-packages/urllib3/connectionpool.py:1020: InsecureRequestWarning: Unverified HTTPS request is being made to host 'www.trust.org'. Adding certificate verification is strongly advised. See: https://urllib3.readthedocs.io/en/latest/advanced-usage.html#ssl-warnings\n",
      "  InsecureRequestWarning,\n"
     ]
    },
    {
     "name": "stdout",
     "output_type": "stream",
     "text": [
      "218\n"
     ]
    },
    {
     "name": "stderr",
     "output_type": "stream",
     "text": [
      "/Users/adrien/opt/anaconda3/lib/python3.7/site-packages/urllib3/connectionpool.py:1020: InsecureRequestWarning: Unverified HTTPS request is being made to host 'www.thestar.com.my'. Adding certificate verification is strongly advised. See: https://urllib3.readthedocs.io/en/latest/advanced-usage.html#ssl-warnings\n",
      "  InsecureRequestWarning,\n",
      "/Users/adrien/opt/anaconda3/lib/python3.7/site-packages/urllib3/connectionpool.py:1020: InsecureRequestWarning: Unverified HTTPS request is being made to host 'www.thestar.com.my'. Adding certificate verification is strongly advised. See: https://urllib3.readthedocs.io/en/latest/advanced-usage.html#ssl-warnings\n",
      "  InsecureRequestWarning,\n"
     ]
    },
    {
     "name": "stdout",
     "output_type": "stream",
     "text": [
      "219\n"
     ]
    },
    {
     "name": "stderr",
     "output_type": "stream",
     "text": [
      "/Users/adrien/opt/anaconda3/lib/python3.7/site-packages/urllib3/connectionpool.py:1020: InsecureRequestWarning: Unverified HTTPS request is being made to host 'www.nj.com'. Adding certificate verification is strongly advised. See: https://urllib3.readthedocs.io/en/latest/advanced-usage.html#ssl-warnings\n",
      "  InsecureRequestWarning,\n",
      "/Users/adrien/opt/anaconda3/lib/python3.7/site-packages/urllib3/connectionpool.py:1020: InsecureRequestWarning: Unverified HTTPS request is being made to host 'www.nj.com'. Adding certificate verification is strongly advised. See: https://urllib3.readthedocs.io/en/latest/advanced-usage.html#ssl-warnings\n",
      "  InsecureRequestWarning,\n",
      "/Users/adrien/opt/anaconda3/lib/python3.7/site-packages/urllib3/connectionpool.py:1020: InsecureRequestWarning: Unverified HTTPS request is being made to host 'www.nj.com'. Adding certificate verification is strongly advised. See: https://urllib3.readthedocs.io/en/latest/advanced-usage.html#ssl-warnings\n",
      "  InsecureRequestWarning,\n",
      "/Users/adrien/opt/anaconda3/lib/python3.7/site-packages/urllib3/connectionpool.py:1020: InsecureRequestWarning: Unverified HTTPS request is being made to host 'www.nj.com'. Adding certificate verification is strongly advised. See: https://urllib3.readthedocs.io/en/latest/advanced-usage.html#ssl-warnings\n",
      "  InsecureRequestWarning,\n"
     ]
    },
    {
     "name": "stdout",
     "output_type": "stream",
     "text": [
      "220\n"
     ]
    },
    {
     "name": "stderr",
     "output_type": "stream",
     "text": [
      "/Users/adrien/opt/anaconda3/lib/python3.7/site-packages/urllib3/connectionpool.py:1020: InsecureRequestWarning: Unverified HTTPS request is being made to host 'www.naturalgasintel.com'. Adding certificate verification is strongly advised. See: https://urllib3.readthedocs.io/en/latest/advanced-usage.html#ssl-warnings\n",
      "  InsecureRequestWarning,\n",
      "/Users/adrien/opt/anaconda3/lib/python3.7/site-packages/urllib3/connectionpool.py:1020: InsecureRequestWarning: Unverified HTTPS request is being made to host 'www.naturalgasintel.com'. Adding certificate verification is strongly advised. See: https://urllib3.readthedocs.io/en/latest/advanced-usage.html#ssl-warnings\n",
      "  InsecureRequestWarning,\n",
      "/Users/adrien/opt/anaconda3/lib/python3.7/site-packages/urllib3/connectionpool.py:1020: InsecureRequestWarning: Unverified HTTPS request is being made to host 'www.naturalgasintel.com'. Adding certificate verification is strongly advised. See: https://urllib3.readthedocs.io/en/latest/advanced-usage.html#ssl-warnings\n",
      "  InsecureRequestWarning,\n",
      "/Users/adrien/opt/anaconda3/lib/python3.7/site-packages/urllib3/connectionpool.py:1020: InsecureRequestWarning: Unverified HTTPS request is being made to host 'www.naturalgasintel.com'. Adding certificate verification is strongly advised. See: https://urllib3.readthedocs.io/en/latest/advanced-usage.html#ssl-warnings\n",
      "  InsecureRequestWarning,\n"
     ]
    },
    {
     "name": "stdout",
     "output_type": "stream",
     "text": [
      "221\n"
     ]
    },
    {
     "name": "stderr",
     "output_type": "stream",
     "text": [
      "/Users/adrien/opt/anaconda3/lib/python3.7/site-packages/urllib3/connectionpool.py:1020: InsecureRequestWarning: Unverified HTTPS request is being made to host 'deseretnews.com'. Adding certificate verification is strongly advised. See: https://urllib3.readthedocs.io/en/latest/advanced-usage.html#ssl-warnings\n",
      "  InsecureRequestWarning,\n",
      "/Users/adrien/opt/anaconda3/lib/python3.7/site-packages/urllib3/connectionpool.py:1020: InsecureRequestWarning: Unverified HTTPS request is being made to host 'www.deseret.com'. Adding certificate verification is strongly advised. See: https://urllib3.readthedocs.io/en/latest/advanced-usage.html#ssl-warnings\n",
      "  InsecureRequestWarning,\n",
      "/Users/adrien/opt/anaconda3/lib/python3.7/site-packages/urllib3/connectionpool.py:1020: InsecureRequestWarning: Unverified HTTPS request is being made to host 'www.deseret.com'. Adding certificate verification is strongly advised. See: https://urllib3.readthedocs.io/en/latest/advanced-usage.html#ssl-warnings\n",
      "  InsecureRequestWarning,\n",
      "/Users/adrien/opt/anaconda3/lib/python3.7/site-packages/urllib3/connectionpool.py:1020: InsecureRequestWarning: Unverified HTTPS request is being made to host 'deseretnews.com'. Adding certificate verification is strongly advised. See: https://urllib3.readthedocs.io/en/latest/advanced-usage.html#ssl-warnings\n",
      "  InsecureRequestWarning,\n",
      "/Users/adrien/opt/anaconda3/lib/python3.7/site-packages/urllib3/connectionpool.py:1020: InsecureRequestWarning: Unverified HTTPS request is being made to host 'www.deseret.com'. Adding certificate verification is strongly advised. See: https://urllib3.readthedocs.io/en/latest/advanced-usage.html#ssl-warnings\n",
      "  InsecureRequestWarning,\n",
      "/Users/adrien/opt/anaconda3/lib/python3.7/site-packages/urllib3/connectionpool.py:1020: InsecureRequestWarning: Unverified HTTPS request is being made to host 'www.deseret.com'. Adding certificate verification is strongly advised. See: https://urllib3.readthedocs.io/en/latest/advanced-usage.html#ssl-warnings\n",
      "  InsecureRequestWarning,\n"
     ]
    },
    {
     "name": "stdout",
     "output_type": "stream",
     "text": [
      "222\n"
     ]
    },
    {
     "name": "stderr",
     "output_type": "stream",
     "text": [
      "/Users/adrien/opt/anaconda3/lib/python3.7/site-packages/urllib3/connectionpool.py:1020: InsecureRequestWarning: Unverified HTTPS request is being made to host 'www.stuff.co.nz'. Adding certificate verification is strongly advised. See: https://urllib3.readthedocs.io/en/latest/advanced-usage.html#ssl-warnings\n",
      "  InsecureRequestWarning,\n",
      "/Users/adrien/opt/anaconda3/lib/python3.7/site-packages/urllib3/connectionpool.py:1020: InsecureRequestWarning: Unverified HTTPS request is being made to host 'www.stuff.co.nz'. Adding certificate verification is strongly advised. See: https://urllib3.readthedocs.io/en/latest/advanced-usage.html#ssl-warnings\n",
      "  InsecureRequestWarning,\n"
     ]
    },
    {
     "name": "stdout",
     "output_type": "stream",
     "text": [
      "223\n"
     ]
    },
    {
     "name": "stderr",
     "output_type": "stream",
     "text": [
      "/Users/adrien/opt/anaconda3/lib/python3.7/site-packages/urllib3/connectionpool.py:1020: InsecureRequestWarning: Unverified HTTPS request is being made to host 'www.alaskasnewssource.com'. Adding certificate verification is strongly advised. See: https://urllib3.readthedocs.io/en/latest/advanced-usage.html#ssl-warnings\n",
      "  InsecureRequestWarning,\n",
      "/Users/adrien/opt/anaconda3/lib/python3.7/site-packages/urllib3/connectionpool.py:1020: InsecureRequestWarning: Unverified HTTPS request is being made to host 'www.alaskasnewssource.com'. Adding certificate verification is strongly advised. See: https://urllib3.readthedocs.io/en/latest/advanced-usage.html#ssl-warnings\n",
      "  InsecureRequestWarning,\n",
      "/Users/adrien/opt/anaconda3/lib/python3.7/site-packages/urllib3/connectionpool.py:1020: InsecureRequestWarning: Unverified HTTPS request is being made to host 'www.alaskasnewssource.com'. Adding certificate verification is strongly advised. See: https://urllib3.readthedocs.io/en/latest/advanced-usage.html#ssl-warnings\n",
      "  InsecureRequestWarning,\n",
      "/Users/adrien/opt/anaconda3/lib/python3.7/site-packages/urllib3/connectionpool.py:1020: InsecureRequestWarning: Unverified HTTPS request is being made to host 'www.alaskasnewssource.com'. Adding certificate verification is strongly advised. See: https://urllib3.readthedocs.io/en/latest/advanced-usage.html#ssl-warnings\n",
      "  InsecureRequestWarning,\n"
     ]
    },
    {
     "name": "stdout",
     "output_type": "stream",
     "text": [
      "224\n"
     ]
    },
    {
     "name": "stderr",
     "output_type": "stream",
     "text": [
      "/Users/adrien/opt/anaconda3/lib/python3.7/site-packages/urllib3/connectionpool.py:1020: InsecureRequestWarning: Unverified HTTPS request is being made to host 'www.edie.net'. Adding certificate verification is strongly advised. See: https://urllib3.readthedocs.io/en/latest/advanced-usage.html#ssl-warnings\n",
      "  InsecureRequestWarning,\n",
      "/Users/adrien/opt/anaconda3/lib/python3.7/site-packages/urllib3/connectionpool.py:1020: InsecureRequestWarning: Unverified HTTPS request is being made to host 'www.edie.net'. Adding certificate verification is strongly advised. See: https://urllib3.readthedocs.io/en/latest/advanced-usage.html#ssl-warnings\n",
      "  InsecureRequestWarning,\n"
     ]
    },
    {
     "name": "stdout",
     "output_type": "stream",
     "text": [
      "225\n"
     ]
    },
    {
     "name": "stderr",
     "output_type": "stream",
     "text": [
      "/Users/adrien/opt/anaconda3/lib/python3.7/site-packages/urllib3/connectionpool.py:1020: InsecureRequestWarning: Unverified HTTPS request is being made to host 'www.standardmedia.co.ke'. Adding certificate verification is strongly advised. See: https://urllib3.readthedocs.io/en/latest/advanced-usage.html#ssl-warnings\n",
      "  InsecureRequestWarning,\n",
      "/Users/adrien/opt/anaconda3/lib/python3.7/site-packages/urllib3/connectionpool.py:1020: InsecureRequestWarning: Unverified HTTPS request is being made to host 'www.standardmedia.co.ke'. Adding certificate verification is strongly advised. See: https://urllib3.readthedocs.io/en/latest/advanced-usage.html#ssl-warnings\n",
      "  InsecureRequestWarning,\n",
      "/Users/adrien/opt/anaconda3/lib/python3.7/site-packages/urllib3/connectionpool.py:1020: InsecureRequestWarning: Unverified HTTPS request is being made to host 'www.standardmedia.co.ke'. Adding certificate verification is strongly advised. See: https://urllib3.readthedocs.io/en/latest/advanced-usage.html#ssl-warnings\n",
      "  InsecureRequestWarning,\n",
      "/Users/adrien/opt/anaconda3/lib/python3.7/site-packages/urllib3/connectionpool.py:1020: InsecureRequestWarning: Unverified HTTPS request is being made to host 'www.standardmedia.co.ke'. Adding certificate verification is strongly advised. See: https://urllib3.readthedocs.io/en/latest/advanced-usage.html#ssl-warnings\n",
      "  InsecureRequestWarning,\n",
      "/Users/adrien/opt/anaconda3/lib/python3.7/site-packages/urllib3/connectionpool.py:1020: InsecureRequestWarning: Unverified HTTPS request is being made to host 'www.standardmedia.co.ke'. Adding certificate verification is strongly advised. See: https://urllib3.readthedocs.io/en/latest/advanced-usage.html#ssl-warnings\n",
      "  InsecureRequestWarning,\n",
      "/Users/adrien/opt/anaconda3/lib/python3.7/site-packages/urllib3/connectionpool.py:1020: InsecureRequestWarning: Unverified HTTPS request is being made to host 'www.standardmedia.co.ke'. Adding certificate verification is strongly advised. See: https://urllib3.readthedocs.io/en/latest/advanced-usage.html#ssl-warnings\n",
      "  InsecureRequestWarning,\n"
     ]
    },
    {
     "name": "stdout",
     "output_type": "stream",
     "text": [
      "226\n"
     ]
    },
    {
     "name": "stderr",
     "output_type": "stream",
     "text": [
      "/Users/adrien/opt/anaconda3/lib/python3.7/site-packages/urllib3/connectionpool.py:1020: InsecureRequestWarning: Unverified HTTPS request is being made to host 'www.buzzfeed.com'. Adding certificate verification is strongly advised. See: https://urllib3.readthedocs.io/en/latest/advanced-usage.html#ssl-warnings\n",
      "  InsecureRequestWarning,\n",
      "/Users/adrien/opt/anaconda3/lib/python3.7/site-packages/urllib3/connectionpool.py:1020: InsecureRequestWarning: Unverified HTTPS request is being made to host 'www.buzzfeednews.com'. Adding certificate verification is strongly advised. See: https://urllib3.readthedocs.io/en/latest/advanced-usage.html#ssl-warnings\n",
      "  InsecureRequestWarning,\n",
      "/Users/adrien/opt/anaconda3/lib/python3.7/site-packages/urllib3/connectionpool.py:1020: InsecureRequestWarning: Unverified HTTPS request is being made to host 'www.buzzfeed.com'. Adding certificate verification is strongly advised. See: https://urllib3.readthedocs.io/en/latest/advanced-usage.html#ssl-warnings\n",
      "  InsecureRequestWarning,\n",
      "/Users/adrien/opt/anaconda3/lib/python3.7/site-packages/urllib3/connectionpool.py:1020: InsecureRequestWarning: Unverified HTTPS request is being made to host 'www.buzzfeednews.com'. Adding certificate verification is strongly advised. See: https://urllib3.readthedocs.io/en/latest/advanced-usage.html#ssl-warnings\n",
      "  InsecureRequestWarning,\n"
     ]
    },
    {
     "name": "stdout",
     "output_type": "stream",
     "text": [
      "227\n"
     ]
    },
    {
     "name": "stderr",
     "output_type": "stream",
     "text": [
      "/Users/adrien/opt/anaconda3/lib/python3.7/site-packages/urllib3/connectionpool.py:1020: InsecureRequestWarning: Unverified HTTPS request is being made to host 'www.9news.com.au'. Adding certificate verification is strongly advised. See: https://urllib3.readthedocs.io/en/latest/advanced-usage.html#ssl-warnings\n",
      "  InsecureRequestWarning,\n",
      "/Users/adrien/opt/anaconda3/lib/python3.7/site-packages/urllib3/connectionpool.py:1020: InsecureRequestWarning: Unverified HTTPS request is being made to host 'www.9news.com.au'. Adding certificate verification is strongly advised. See: https://urllib3.readthedocs.io/en/latest/advanced-usage.html#ssl-warnings\n",
      "  InsecureRequestWarning,\n"
     ]
    },
    {
     "name": "stdout",
     "output_type": "stream",
     "text": [
      "228\n"
     ]
    },
    {
     "name": "stderr",
     "output_type": "stream",
     "text": [
      "/Users/adrien/opt/anaconda3/lib/python3.7/site-packages/urllib3/connectionpool.py:1020: InsecureRequestWarning: Unverified HTTPS request is being made to host 'abcnews.go.com'. Adding certificate verification is strongly advised. See: https://urllib3.readthedocs.io/en/latest/advanced-usage.html#ssl-warnings\n",
      "  InsecureRequestWarning,\n",
      "/Users/adrien/opt/anaconda3/lib/python3.7/site-packages/urllib3/connectionpool.py:1020: InsecureRequestWarning: Unverified HTTPS request is being made to host 'abcnews.go.com'. Adding certificate verification is strongly advised. See: https://urllib3.readthedocs.io/en/latest/advanced-usage.html#ssl-warnings\n",
      "  InsecureRequestWarning,\n"
     ]
    },
    {
     "name": "stdout",
     "output_type": "stream",
     "text": [
      "229\n",
      "230\n",
      "231\n"
     ]
    },
    {
     "name": "stderr",
     "output_type": "stream",
     "text": [
      "/Users/adrien/opt/anaconda3/lib/python3.7/site-packages/urllib3/connectionpool.py:1020: InsecureRequestWarning: Unverified HTTPS request is being made to host 'dentonrc.com'. Adding certificate verification is strongly advised. See: https://urllib3.readthedocs.io/en/latest/advanced-usage.html#ssl-warnings\n",
      "  InsecureRequestWarning,\n",
      "/Users/adrien/opt/anaconda3/lib/python3.7/site-packages/urllib3/connectionpool.py:1020: InsecureRequestWarning: Unverified HTTPS request is being made to host 'dentonrc.com'. Adding certificate verification is strongly advised. See: https://urllib3.readthedocs.io/en/latest/advanced-usage.html#ssl-warnings\n",
      "  InsecureRequestWarning,\n"
     ]
    },
    {
     "name": "stdout",
     "output_type": "stream",
     "text": [
      "232\n"
     ]
    },
    {
     "name": "stderr",
     "output_type": "stream",
     "text": [
      "/Users/adrien/opt/anaconda3/lib/python3.7/site-packages/urllib3/connectionpool.py:1020: InsecureRequestWarning: Unverified HTTPS request is being made to host 'www.voanews.com'. Adding certificate verification is strongly advised. See: https://urllib3.readthedocs.io/en/latest/advanced-usage.html#ssl-warnings\n",
      "  InsecureRequestWarning,\n",
      "/Users/adrien/opt/anaconda3/lib/python3.7/site-packages/urllib3/connectionpool.py:1020: InsecureRequestWarning: Unverified HTTPS request is being made to host 'www.voanews.com'. Adding certificate verification is strongly advised. See: https://urllib3.readthedocs.io/en/latest/advanced-usage.html#ssl-warnings\n",
      "  InsecureRequestWarning,\n",
      "/Users/adrien/opt/anaconda3/lib/python3.7/site-packages/urllib3/connectionpool.py:1020: InsecureRequestWarning: Unverified HTTPS request is being made to host 'www.voanews.com'. Adding certificate verification is strongly advised. See: https://urllib3.readthedocs.io/en/latest/advanced-usage.html#ssl-warnings\n",
      "  InsecureRequestWarning,\n",
      "/Users/adrien/opt/anaconda3/lib/python3.7/site-packages/urllib3/connectionpool.py:1020: InsecureRequestWarning: Unverified HTTPS request is being made to host 'www.voanews.com'. Adding certificate verification is strongly advised. See: https://urllib3.readthedocs.io/en/latest/advanced-usage.html#ssl-warnings\n",
      "  InsecureRequestWarning,\n",
      "/Users/adrien/opt/anaconda3/lib/python3.7/site-packages/urllib3/connectionpool.py:1020: InsecureRequestWarning: Unverified HTTPS request is being made to host 'www.voanews.com'. Adding certificate verification is strongly advised. See: https://urllib3.readthedocs.io/en/latest/advanced-usage.html#ssl-warnings\n",
      "  InsecureRequestWarning,\n",
      "/Users/adrien/opt/anaconda3/lib/python3.7/site-packages/urllib3/connectionpool.py:1020: InsecureRequestWarning: Unverified HTTPS request is being made to host 'www.voanews.com'. Adding certificate verification is strongly advised. See: https://urllib3.readthedocs.io/en/latest/advanced-usage.html#ssl-warnings\n",
      "  InsecureRequestWarning,\n"
     ]
    },
    {
     "name": "stdout",
     "output_type": "stream",
     "text": [
      "233\n"
     ]
    },
    {
     "name": "stderr",
     "output_type": "stream",
     "text": [
      "/Users/adrien/opt/anaconda3/lib/python3.7/site-packages/urllib3/connectionpool.py:1020: InsecureRequestWarning: Unverified HTTPS request is being made to host 'www.wnd.com'. Adding certificate verification is strongly advised. See: https://urllib3.readthedocs.io/en/latest/advanced-usage.html#ssl-warnings\n",
      "  InsecureRequestWarning,\n",
      "/Users/adrien/opt/anaconda3/lib/python3.7/site-packages/urllib3/connectionpool.py:1020: InsecureRequestWarning: Unverified HTTPS request is being made to host 'www.wnd.com'. Adding certificate verification is strongly advised. See: https://urllib3.readthedocs.io/en/latest/advanced-usage.html#ssl-warnings\n",
      "  InsecureRequestWarning,\n"
     ]
    },
    {
     "name": "stdout",
     "output_type": "stream",
     "text": [
      "234\n",
      "235\n"
     ]
    },
    {
     "name": "stderr",
     "output_type": "stream",
     "text": [
      "/Users/adrien/opt/anaconda3/lib/python3.7/site-packages/urllib3/connectionpool.py:1020: InsecureRequestWarning: Unverified HTTPS request is being made to host 'thediplomat.com'. Adding certificate verification is strongly advised. See: https://urllib3.readthedocs.io/en/latest/advanced-usage.html#ssl-warnings\n",
      "  InsecureRequestWarning,\n",
      "/Users/adrien/opt/anaconda3/lib/python3.7/site-packages/urllib3/connectionpool.py:1020: InsecureRequestWarning: Unverified HTTPS request is being made to host 'thediplomat.com'. Adding certificate verification is strongly advised. See: https://urllib3.readthedocs.io/en/latest/advanced-usage.html#ssl-warnings\n",
      "  InsecureRequestWarning,\n"
     ]
    },
    {
     "name": "stdout",
     "output_type": "stream",
     "text": [
      "236\n"
     ]
    },
    {
     "name": "stderr",
     "output_type": "stream",
     "text": [
      "/Users/adrien/opt/anaconda3/lib/python3.7/site-packages/urllib3/connectionpool.py:1020: InsecureRequestWarning: Unverified HTTPS request is being made to host 'www.dnaindia.com'. Adding certificate verification is strongly advised. See: https://urllib3.readthedocs.io/en/latest/advanced-usage.html#ssl-warnings\n",
      "  InsecureRequestWarning,\n",
      "/Users/adrien/opt/anaconda3/lib/python3.7/site-packages/urllib3/connectionpool.py:1020: InsecureRequestWarning: Unverified HTTPS request is being made to host 'www.dnaindia.com'. Adding certificate verification is strongly advised. See: https://urllib3.readthedocs.io/en/latest/advanced-usage.html#ssl-warnings\n",
      "  InsecureRequestWarning,\n"
     ]
    },
    {
     "name": "stdout",
     "output_type": "stream",
     "text": [
      "237\n"
     ]
    },
    {
     "name": "stderr",
     "output_type": "stream",
     "text": [
      "/Users/adrien/opt/anaconda3/lib/python3.7/site-packages/urllib3/connectionpool.py:1020: InsecureRequestWarning: Unverified HTTPS request is being made to host 'dailyadvertiser.com.au'. Adding certificate verification is strongly advised. See: https://urllib3.readthedocs.io/en/latest/advanced-usage.html#ssl-warnings\n",
      "  InsecureRequestWarning,\n",
      "/Users/adrien/opt/anaconda3/lib/python3.7/site-packages/urllib3/connectionpool.py:1020: InsecureRequestWarning: Unverified HTTPS request is being made to host 'www.dailyadvertiser.com.au'. Adding certificate verification is strongly advised. See: https://urllib3.readthedocs.io/en/latest/advanced-usage.html#ssl-warnings\n",
      "  InsecureRequestWarning,\n",
      "/Users/adrien/opt/anaconda3/lib/python3.7/site-packages/urllib3/connectionpool.py:1020: InsecureRequestWarning: Unverified HTTPS request is being made to host 'dailyadvertiser.com.au'. Adding certificate verification is strongly advised. See: https://urllib3.readthedocs.io/en/latest/advanced-usage.html#ssl-warnings\n",
      "  InsecureRequestWarning,\n",
      "/Users/adrien/opt/anaconda3/lib/python3.7/site-packages/urllib3/connectionpool.py:1020: InsecureRequestWarning: Unverified HTTPS request is being made to host 'www.dailyadvertiser.com.au'. Adding certificate verification is strongly advised. See: https://urllib3.readthedocs.io/en/latest/advanced-usage.html#ssl-warnings\n",
      "  InsecureRequestWarning,\n"
     ]
    },
    {
     "name": "stdout",
     "output_type": "stream",
     "text": [
      "238\n"
     ]
    },
    {
     "name": "stderr",
     "output_type": "stream",
     "text": [
      "/Users/adrien/opt/anaconda3/lib/python3.7/site-packages/urllib3/connectionpool.py:1020: InsecureRequestWarning: Unverified HTTPS request is being made to host 'www.wwf.org.uk'. Adding certificate verification is strongly advised. See: https://urllib3.readthedocs.io/en/latest/advanced-usage.html#ssl-warnings\n",
      "  InsecureRequestWarning,\n",
      "/Users/adrien/opt/anaconda3/lib/python3.7/site-packages/urllib3/connectionpool.py:1020: InsecureRequestWarning: Unverified HTTPS request is being made to host 'www.wwf.org.uk'. Adding certificate verification is strongly advised. See: https://urllib3.readthedocs.io/en/latest/advanced-usage.html#ssl-warnings\n",
      "  InsecureRequestWarning,\n",
      "/Users/adrien/opt/anaconda3/lib/python3.7/site-packages/urllib3/connectionpool.py:1020: InsecureRequestWarning: Unverified HTTPS request is being made to host 'www.wwf.org.uk'. Adding certificate verification is strongly advised. See: https://urllib3.readthedocs.io/en/latest/advanced-usage.html#ssl-warnings\n",
      "  InsecureRequestWarning,\n",
      "/Users/adrien/opt/anaconda3/lib/python3.7/site-packages/urllib3/connectionpool.py:1020: InsecureRequestWarning: Unverified HTTPS request is being made to host 'www.wwf.org.uk'. Adding certificate verification is strongly advised. See: https://urllib3.readthedocs.io/en/latest/advanced-usage.html#ssl-warnings\n",
      "  InsecureRequestWarning,\n"
     ]
    },
    {
     "name": "stdout",
     "output_type": "stream",
     "text": [
      "239\n"
     ]
    },
    {
     "name": "stderr",
     "output_type": "stream",
     "text": [
      "/Users/adrien/opt/anaconda3/lib/python3.7/site-packages/urllib3/connectionpool.py:1020: InsecureRequestWarning: Unverified HTTPS request is being made to host 'yourmiddleeast.com'. Adding certificate verification is strongly advised. See: https://urllib3.readthedocs.io/en/latest/advanced-usage.html#ssl-warnings\n",
      "  InsecureRequestWarning,\n",
      "/Users/adrien/opt/anaconda3/lib/python3.7/site-packages/urllib3/connectionpool.py:1020: InsecureRequestWarning: Unverified HTTPS request is being made to host 'yourmiddleeast.com'. Adding certificate verification is strongly advised. See: https://urllib3.readthedocs.io/en/latest/advanced-usage.html#ssl-warnings\n",
      "  InsecureRequestWarning,\n"
     ]
    },
    {
     "name": "stdout",
     "output_type": "stream",
     "text": [
      "240\n"
     ]
    },
    {
     "name": "stderr",
     "output_type": "stream",
     "text": [
      "/Users/adrien/opt/anaconda3/lib/python3.7/site-packages/urllib3/connectionpool.py:1020: InsecureRequestWarning: Unverified HTTPS request is being made to host 'www.wired.com'. Adding certificate verification is strongly advised. See: https://urllib3.readthedocs.io/en/latest/advanced-usage.html#ssl-warnings\n",
      "  InsecureRequestWarning,\n",
      "/Users/adrien/opt/anaconda3/lib/python3.7/site-packages/urllib3/connectionpool.py:1020: InsecureRequestWarning: Unverified HTTPS request is being made to host 'www.wired.com'. Adding certificate verification is strongly advised. See: https://urllib3.readthedocs.io/en/latest/advanced-usage.html#ssl-warnings\n",
      "  InsecureRequestWarning,\n"
     ]
    },
    {
     "name": "stdout",
     "output_type": "stream",
     "text": [
      "241\n",
      "242\n",
      "243\n",
      "244\n"
     ]
    },
    {
     "name": "stderr",
     "output_type": "stream",
     "text": [
      "/Users/adrien/opt/anaconda3/lib/python3.7/site-packages/urllib3/connectionpool.py:1020: InsecureRequestWarning: Unverified HTTPS request is being made to host 'www.dailytimes.com.pk'. Adding certificate verification is strongly advised. See: https://urllib3.readthedocs.io/en/latest/advanced-usage.html#ssl-warnings\n",
      "  InsecureRequestWarning,\n",
      "/Users/adrien/opt/anaconda3/lib/python3.7/site-packages/urllib3/connectionpool.py:1020: InsecureRequestWarning: Unverified HTTPS request is being made to host 'dailytimes.com.pk'. Adding certificate verification is strongly advised. See: https://urllib3.readthedocs.io/en/latest/advanced-usage.html#ssl-warnings\n",
      "  InsecureRequestWarning,\n",
      "/Users/adrien/opt/anaconda3/lib/python3.7/site-packages/urllib3/connectionpool.py:1020: InsecureRequestWarning: Unverified HTTPS request is being made to host 'www.dailytimes.com.pk'. Adding certificate verification is strongly advised. See: https://urllib3.readthedocs.io/en/latest/advanced-usage.html#ssl-warnings\n",
      "  InsecureRequestWarning,\n",
      "/Users/adrien/opt/anaconda3/lib/python3.7/site-packages/urllib3/connectionpool.py:1020: InsecureRequestWarning: Unverified HTTPS request is being made to host 'dailytimes.com.pk'. Adding certificate verification is strongly advised. See: https://urllib3.readthedocs.io/en/latest/advanced-usage.html#ssl-warnings\n",
      "  InsecureRequestWarning,\n"
     ]
    },
    {
     "name": "stdout",
     "output_type": "stream",
     "text": [
      "245\n"
     ]
    },
    {
     "name": "stderr",
     "output_type": "stream",
     "text": [
      "/Users/adrien/opt/anaconda3/lib/python3.7/site-packages/urllib3/connectionpool.py:1020: InsecureRequestWarning: Unverified HTTPS request is being made to host 'eu.blueridgenow.com'. Adding certificate verification is strongly advised. See: https://urllib3.readthedocs.io/en/latest/advanced-usage.html#ssl-warnings\n",
      "  InsecureRequestWarning,\n",
      "/Users/adrien/opt/anaconda3/lib/python3.7/site-packages/urllib3/connectionpool.py:1020: InsecureRequestWarning: Unverified HTTPS request is being made to host 'eu.blueridgenow.com'. Adding certificate verification is strongly advised. See: https://urllib3.readthedocs.io/en/latest/advanced-usage.html#ssl-warnings\n",
      "  InsecureRequestWarning,\n"
     ]
    },
    {
     "name": "stdout",
     "output_type": "stream",
     "text": [
      "246\n"
     ]
    },
    {
     "name": "stderr",
     "output_type": "stream",
     "text": [
      "/Users/adrien/opt/anaconda3/lib/python3.7/site-packages/urllib3/connectionpool.py:1020: InsecureRequestWarning: Unverified HTTPS request is being made to host 'www.sbs.com.au'. Adding certificate verification is strongly advised. See: https://urllib3.readthedocs.io/en/latest/advanced-usage.html#ssl-warnings\n",
      "  InsecureRequestWarning,\n",
      "/Users/adrien/opt/anaconda3/lib/python3.7/site-packages/urllib3/connectionpool.py:1020: InsecureRequestWarning: Unverified HTTPS request is being made to host 'www.sbs.com.au'. Adding certificate verification is strongly advised. See: https://urllib3.readthedocs.io/en/latest/advanced-usage.html#ssl-warnings\n",
      "  InsecureRequestWarning,\n",
      "/Users/adrien/opt/anaconda3/lib/python3.7/site-packages/urllib3/connectionpool.py:1020: InsecureRequestWarning: Unverified HTTPS request is being made to host 'www.sbs.com.au'. Adding certificate verification is strongly advised. See: https://urllib3.readthedocs.io/en/latest/advanced-usage.html#ssl-warnings\n",
      "  InsecureRequestWarning,\n",
      "/Users/adrien/opt/anaconda3/lib/python3.7/site-packages/urllib3/connectionpool.py:1020: InsecureRequestWarning: Unverified HTTPS request is being made to host 'www.sbs.com.au'. Adding certificate verification is strongly advised. See: https://urllib3.readthedocs.io/en/latest/advanced-usage.html#ssl-warnings\n",
      "  InsecureRequestWarning,\n"
     ]
    },
    {
     "name": "stdout",
     "output_type": "stream",
     "text": [
      "247\n"
     ]
    },
    {
     "name": "stderr",
     "output_type": "stream",
     "text": [
      "/Users/adrien/opt/anaconda3/lib/python3.7/site-packages/urllib3/connectionpool.py:1020: InsecureRequestWarning: Unverified HTTPS request is being made to host 'dominicantoday.com'. Adding certificate verification is strongly advised. See: https://urllib3.readthedocs.io/en/latest/advanced-usage.html#ssl-warnings\n",
      "  InsecureRequestWarning,\n",
      "/Users/adrien/opt/anaconda3/lib/python3.7/site-packages/urllib3/connectionpool.py:1020: InsecureRequestWarning: Unverified HTTPS request is being made to host 'dominicantoday.com'. Adding certificate verification is strongly advised. See: https://urllib3.readthedocs.io/en/latest/advanced-usage.html#ssl-warnings\n",
      "  InsecureRequestWarning,\n"
     ]
    },
    {
     "name": "stdout",
     "output_type": "stream",
     "text": [
      "248\n"
     ]
    },
    {
     "name": "stderr",
     "output_type": "stream",
     "text": [
      "/Users/adrien/opt/anaconda3/lib/python3.7/site-packages/urllib3/connectionpool.py:1020: InsecureRequestWarning: Unverified HTTPS request is being made to host 'economictimes.indiatimes.com'. Adding certificate verification is strongly advised. See: https://urllib3.readthedocs.io/en/latest/advanced-usage.html#ssl-warnings\n",
      "  InsecureRequestWarning,\n",
      "/Users/adrien/opt/anaconda3/lib/python3.7/site-packages/urllib3/connectionpool.py:1020: InsecureRequestWarning: Unverified HTTPS request is being made to host 'economictimes.indiatimes.com'. Adding certificate verification is strongly advised. See: https://urllib3.readthedocs.io/en/latest/advanced-usage.html#ssl-warnings\n",
      "  InsecureRequestWarning,\n"
     ]
    },
    {
     "name": "stdout",
     "output_type": "stream",
     "text": [
      "249\n"
     ]
    },
    {
     "name": "stderr",
     "output_type": "stream",
     "text": [
      "/Users/adrien/opt/anaconda3/lib/python3.7/site-packages/urllib3/connectionpool.py:1020: InsecureRequestWarning: Unverified HTTPS request is being made to host 'news.sky.com'. Adding certificate verification is strongly advised. See: https://urllib3.readthedocs.io/en/latest/advanced-usage.html#ssl-warnings\n",
      "  InsecureRequestWarning,\n",
      "/Users/adrien/opt/anaconda3/lib/python3.7/site-packages/urllib3/connectionpool.py:1020: InsecureRequestWarning: Unverified HTTPS request is being made to host 'news.sky.com'. Adding certificate verification is strongly advised. See: https://urllib3.readthedocs.io/en/latest/advanced-usage.html#ssl-warnings\n",
      "  InsecureRequestWarning,\n"
     ]
    },
    {
     "name": "stdout",
     "output_type": "stream",
     "text": [
      "250\n"
     ]
    },
    {
     "name": "stderr",
     "output_type": "stream",
     "text": [
      "/Users/adrien/opt/anaconda3/lib/python3.7/site-packages/urllib3/connectionpool.py:1020: InsecureRequestWarning: Unverified HTTPS request is being made to host 'new-magazine.co.uk'. Adding certificate verification is strongly advised. See: https://urllib3.readthedocs.io/en/latest/advanced-usage.html#ssl-warnings\n",
      "  InsecureRequestWarning,\n",
      "/Users/adrien/opt/anaconda3/lib/python3.7/site-packages/urllib3/connectionpool.py:1020: InsecureRequestWarning: Unverified HTTPS request is being made to host 'new-magazine.co.uk'. Adding certificate verification is strongly advised. See: https://urllib3.readthedocs.io/en/latest/advanced-usage.html#ssl-warnings\n",
      "  InsecureRequestWarning,\n"
     ]
    },
    {
     "name": "stdout",
     "output_type": "stream",
     "text": [
      "251\n"
     ]
    },
    {
     "name": "stderr",
     "output_type": "stream",
     "text": [
      "/Users/adrien/opt/anaconda3/lib/python3.7/site-packages/urllib3/connectionpool.py:1020: InsecureRequestWarning: Unverified HTTPS request is being made to host 'www.startribune.com'. Adding certificate verification is strongly advised. See: https://urllib3.readthedocs.io/en/latest/advanced-usage.html#ssl-warnings\n",
      "  InsecureRequestWarning,\n",
      "/Users/adrien/opt/anaconda3/lib/python3.7/site-packages/urllib3/connectionpool.py:1020: InsecureRequestWarning: Unverified HTTPS request is being made to host 'www.startribune.com'. Adding certificate verification is strongly advised. See: https://urllib3.readthedocs.io/en/latest/advanced-usage.html#ssl-warnings\n",
      "  InsecureRequestWarning,\n",
      "/Users/adrien/opt/anaconda3/lib/python3.7/site-packages/urllib3/connectionpool.py:1020: InsecureRequestWarning: Unverified HTTPS request is being made to host 'www.startribune.com'. Adding certificate verification is strongly advised. See: https://urllib3.readthedocs.io/en/latest/advanced-usage.html#ssl-warnings\n",
      "  InsecureRequestWarning,\n",
      "/Users/adrien/opt/anaconda3/lib/python3.7/site-packages/urllib3/connectionpool.py:1020: InsecureRequestWarning: Unverified HTTPS request is being made to host 'www.startribune.com'. Adding certificate verification is strongly advised. See: https://urllib3.readthedocs.io/en/latest/advanced-usage.html#ssl-warnings\n",
      "  InsecureRequestWarning,\n"
     ]
    },
    {
     "name": "stdout",
     "output_type": "stream",
     "text": [
      "252\n"
     ]
    },
    {
     "name": "stderr",
     "output_type": "stream",
     "text": [
      "/Users/adrien/opt/anaconda3/lib/python3.7/site-packages/urllib3/connectionpool.py:1020: InsecureRequestWarning: Unverified HTTPS request is being made to host 'www.ndtv.com'. Adding certificate verification is strongly advised. See: https://urllib3.readthedocs.io/en/latest/advanced-usage.html#ssl-warnings\n",
      "  InsecureRequestWarning,\n",
      "/Users/adrien/opt/anaconda3/lib/python3.7/site-packages/urllib3/connectionpool.py:1020: InsecureRequestWarning: Unverified HTTPS request is being made to host 'www.ndtv.com'. Adding certificate verification is strongly advised. See: https://urllib3.readthedocs.io/en/latest/advanced-usage.html#ssl-warnings\n",
      "  InsecureRequestWarning,\n"
     ]
    },
    {
     "name": "stdout",
     "output_type": "stream",
     "text": [
      "253\n"
     ]
    },
    {
     "name": "stderr",
     "output_type": "stream",
     "text": [
      "/Users/adrien/opt/anaconda3/lib/python3.7/site-packages/urllib3/connectionpool.py:1020: InsecureRequestWarning: Unverified HTTPS request is being made to host 'www.india.com'. Adding certificate verification is strongly advised. See: https://urllib3.readthedocs.io/en/latest/advanced-usage.html#ssl-warnings\n",
      "  InsecureRequestWarning,\n",
      "/Users/adrien/opt/anaconda3/lib/python3.7/site-packages/urllib3/connectionpool.py:1020: InsecureRequestWarning: Unverified HTTPS request is being made to host 'www.india.com'. Adding certificate verification is strongly advised. See: https://urllib3.readthedocs.io/en/latest/advanced-usage.html#ssl-warnings\n",
      "  InsecureRequestWarning,\n"
     ]
    },
    {
     "name": "stdout",
     "output_type": "stream",
     "text": [
      "254\n"
     ]
    },
    {
     "name": "stderr",
     "output_type": "stream",
     "text": [
      "/Users/adrien/opt/anaconda3/lib/python3.7/site-packages/urllib3/connectionpool.py:1020: InsecureRequestWarning: Unverified HTTPS request is being made to host 'www.news18.com'. Adding certificate verification is strongly advised. See: https://urllib3.readthedocs.io/en/latest/advanced-usage.html#ssl-warnings\n",
      "  InsecureRequestWarning,\n",
      "/Users/adrien/opt/anaconda3/lib/python3.7/site-packages/urllib3/connectionpool.py:1020: InsecureRequestWarning: Unverified HTTPS request is being made to host 'www.news18.com'. Adding certificate verification is strongly advised. See: https://urllib3.readthedocs.io/en/latest/advanced-usage.html#ssl-warnings\n",
      "  InsecureRequestWarning,\n"
     ]
    },
    {
     "name": "stdout",
     "output_type": "stream",
     "text": [
      "255\n"
     ]
    },
    {
     "name": "stderr",
     "output_type": "stream",
     "text": [
      "/Users/adrien/opt/anaconda3/lib/python3.7/site-packages/urllib3/connectionpool.py:1020: InsecureRequestWarning: Unverified HTTPS request is being made to host 'bdnews24.com'. Adding certificate verification is strongly advised. See: https://urllib3.readthedocs.io/en/latest/advanced-usage.html#ssl-warnings\n",
      "  InsecureRequestWarning,\n",
      "/Users/adrien/opt/anaconda3/lib/python3.7/site-packages/urllib3/connectionpool.py:1020: InsecureRequestWarning: Unverified HTTPS request is being made to host 'bdnews24.com'. Adding certificate verification is strongly advised. See: https://urllib3.readthedocs.io/en/latest/advanced-usage.html#ssl-warnings\n",
      "  InsecureRequestWarning,\n"
     ]
    },
    {
     "name": "stdout",
     "output_type": "stream",
     "text": [
      "256\n"
     ]
    },
    {
     "name": "stderr",
     "output_type": "stream",
     "text": [
      "/Users/adrien/opt/anaconda3/lib/python3.7/site-packages/urllib3/connectionpool.py:1020: InsecureRequestWarning: Unverified HTTPS request is being made to host 'pjmedia.com'. Adding certificate verification is strongly advised. See: https://urllib3.readthedocs.io/en/latest/advanced-usage.html#ssl-warnings\n",
      "  InsecureRequestWarning,\n",
      "/Users/adrien/opt/anaconda3/lib/python3.7/site-packages/urllib3/connectionpool.py:1020: InsecureRequestWarning: Unverified HTTPS request is being made to host 'pjmedia.com'. Adding certificate verification is strongly advised. See: https://urllib3.readthedocs.io/en/latest/advanced-usage.html#ssl-warnings\n",
      "  InsecureRequestWarning,\n",
      "/Users/adrien/opt/anaconda3/lib/python3.7/site-packages/urllib3/connectionpool.py:1020: InsecureRequestWarning: Unverified HTTPS request is being made to host 'pjmedia.com'. Adding certificate verification is strongly advised. See: https://urllib3.readthedocs.io/en/latest/advanced-usage.html#ssl-warnings\n",
      "  InsecureRequestWarning,\n",
      "/Users/adrien/opt/anaconda3/lib/python3.7/site-packages/urllib3/connectionpool.py:1020: InsecureRequestWarning: Unverified HTTPS request is being made to host 'pjmedia.com'. Adding certificate verification is strongly advised. See: https://urllib3.readthedocs.io/en/latest/advanced-usage.html#ssl-warnings\n",
      "  InsecureRequestWarning,\n"
     ]
    },
    {
     "name": "stdout",
     "output_type": "stream",
     "text": [
      "257\n"
     ]
    },
    {
     "name": "stderr",
     "output_type": "stream",
     "text": [
      "/Users/adrien/opt/anaconda3/lib/python3.7/site-packages/urllib3/connectionpool.py:1020: InsecureRequestWarning: Unverified HTTPS request is being made to host 'www.afr.com'. Adding certificate verification is strongly advised. See: https://urllib3.readthedocs.io/en/latest/advanced-usage.html#ssl-warnings\n",
      "  InsecureRequestWarning,\n",
      "/Users/adrien/opt/anaconda3/lib/python3.7/site-packages/urllib3/connectionpool.py:1020: InsecureRequestWarning: Unverified HTTPS request is being made to host 'www.afr.com'. Adding certificate verification is strongly advised. See: https://urllib3.readthedocs.io/en/latest/advanced-usage.html#ssl-warnings\n",
      "  InsecureRequestWarning,\n",
      "/Users/adrien/opt/anaconda3/lib/python3.7/site-packages/urllib3/connectionpool.py:1020: InsecureRequestWarning: Unverified HTTPS request is being made to host 'www.afr.com'. Adding certificate verification is strongly advised. See: https://urllib3.readthedocs.io/en/latest/advanced-usage.html#ssl-warnings\n",
      "  InsecureRequestWarning,\n",
      "/Users/adrien/opt/anaconda3/lib/python3.7/site-packages/urllib3/connectionpool.py:1020: InsecureRequestWarning: Unverified HTTPS request is being made to host 'www.afr.com'. Adding certificate verification is strongly advised. See: https://urllib3.readthedocs.io/en/latest/advanced-usage.html#ssl-warnings\n",
      "  InsecureRequestWarning,\n"
     ]
    },
    {
     "name": "stdout",
     "output_type": "stream",
     "text": [
      "258\n"
     ]
    },
    {
     "name": "stderr",
     "output_type": "stream",
     "text": [
      "/Users/adrien/opt/anaconda3/lib/python3.7/site-packages/urllib3/connectionpool.py:1020: InsecureRequestWarning: Unverified HTTPS request is being made to host 'www.eenews.net'. Adding certificate verification is strongly advised. See: https://urllib3.readthedocs.io/en/latest/advanced-usage.html#ssl-warnings\n",
      "  InsecureRequestWarning,\n",
      "/Users/adrien/opt/anaconda3/lib/python3.7/site-packages/urllib3/connectionpool.py:1020: InsecureRequestWarning: Unverified HTTPS request is being made to host 'legacy-assets.eenews.net'. Adding certificate verification is strongly advised. See: https://urllib3.readthedocs.io/en/latest/advanced-usage.html#ssl-warnings\n",
      "  InsecureRequestWarning,\n",
      "/Users/adrien/opt/anaconda3/lib/python3.7/site-packages/urllib3/connectionpool.py:1020: InsecureRequestWarning: Unverified HTTPS request is being made to host 'www.eenews.net'. Adding certificate verification is strongly advised. See: https://urllib3.readthedocs.io/en/latest/advanced-usage.html#ssl-warnings\n",
      "  InsecureRequestWarning,\n",
      "/Users/adrien/opt/anaconda3/lib/python3.7/site-packages/urllib3/connectionpool.py:1020: InsecureRequestWarning: Unverified HTTPS request is being made to host 'legacy-assets.eenews.net'. Adding certificate verification is strongly advised. See: https://urllib3.readthedocs.io/en/latest/advanced-usage.html#ssl-warnings\n",
      "  InsecureRequestWarning,\n"
     ]
    },
    {
     "name": "stdout",
     "output_type": "stream",
     "text": [
      "259\n"
     ]
    }
   ],
   "source": [
    "#même chose qu'après mais avec les articles\n",
    "\n",
    "doc = []\n",
    "count = 0\n",
    "\n",
    "\n",
    "for url in quotes_cop21.urls[:300]:\n",
    "    try :\n",
    "        if len(url_to_string(url[0]))>50:\n",
    "            doc.append(url_to_string(url[0]))\n",
    "            count+=1\n",
    "            print(count)\n",
    "    except:\n",
    "        continue"
   ]
  },
  {
   "cell_type": "code",
   "execution_count": 28,
   "id": "e4c715a1",
   "metadata": {},
   "outputs": [
    {
     "data": {
      "text/plain": [
       "259"
      ]
     },
     "execution_count": 28,
     "metadata": {},
     "output_type": "execute_result"
    }
   ],
   "source": [
    "len(doc)"
   ]
  },
  {
   "cell_type": "code",
   "execution_count": 58,
   "id": "189e61d1",
   "metadata": {},
   "outputs": [],
   "source": [
    "doc_1 = pd.DataFrame(doc)"
   ]
  },
  {
   "cell_type": "code",
   "execution_count": 59,
   "id": "0f9c0dde",
   "metadata": {},
   "outputs": [],
   "source": [
    "\n",
    "# Gensim\n",
    "import gensim\n",
    "import gensim.corpora as corpora\n",
    "from gensim.utils import simple_preprocess\n",
    "from gensim.models import CoherenceModel\n",
    "\n",
    "# Other NLP\n",
    "import re\n",
    "import spacy\n",
    "\n",
    "from nltk.corpus import stopwords\n",
    "\n",
    "# General Plotting\n",
    "import matplotlib.pyplot as plt\n",
    " \n",
    "import seaborn as sns\n",
    "\n",
    "\n",
    "# Special Plotting\n",
    "import pyLDAvis\n",
    "import pyLDAvis.gensim_models \n",
    "\n",
    "# ignore some warnings \n",
    "import warnings\n",
    "warnings.filterwarnings('ignore')\n",
    "\n",
    "# Set the maximum number of rows displayed by pandas\n",
    "pd.options.display.max_rows = 1000\n",
    "\n",
    "# Set some CONSTANTS that will be used later\n",
    "SEED    = 41  # base to generate a random number"
   ]
  },
  {
   "cell_type": "code",
   "execution_count": 60,
   "id": "5a6f61e6",
   "metadata": {},
   "outputs": [
    {
     "name": "stderr",
     "output_type": "stream",
     "text": [
      "[nltk_data] Downloading package wordnet to /Users/adrien/nltk_data...\n",
      "[nltk_data]   Package wordnet is already up-to-date!\n"
     ]
    },
    {
     "data": {
      "text/plain": [
       "True"
      ]
     },
     "execution_count": 60,
     "metadata": {},
     "output_type": "execute_result"
    }
   ],
   "source": [
    "\n",
    "from nltk.stem import WordNetLemmatizer \n",
    "nltk.download('wordnet')"
   ]
  },
  {
   "cell_type": "code",
   "execution_count": 61,
   "id": "8d5af7ed",
   "metadata": {},
   "outputs": [
    {
     "name": "stdout",
     "output_type": "stream",
     "text": [
      "Collecting en_core_web_sm==2.3.1\n",
      "  Using cached en_core_web_sm-2.3.1-py3-none-any.whl\n",
      "Requirement already satisfied: spacy<2.4.0,>=2.3.0 in /Users/adrien/opt/anaconda3/lib/python3.7/site-packages (from en_core_web_sm==2.3.1) (2.3.7)\n",
      "Requirement already satisfied: plac<1.2.0,>=0.9.6 in /Users/adrien/opt/anaconda3/lib/python3.7/site-packages (from spacy<2.4.0,>=2.3.0->en_core_web_sm==2.3.1) (1.1.3)\n",
      "Requirement already satisfied: cymem<2.1.0,>=2.0.2 in /Users/adrien/opt/anaconda3/lib/python3.7/site-packages (from spacy<2.4.0,>=2.3.0->en_core_web_sm==2.3.1) (2.0.6)\n",
      "Requirement already satisfied: srsly<1.1.0,>=1.0.2 in /Users/adrien/opt/anaconda3/lib/python3.7/site-packages (from spacy<2.4.0,>=2.3.0->en_core_web_sm==2.3.1) (1.0.5)\n",
      "Requirement already satisfied: catalogue<1.1.0,>=0.0.7 in /Users/adrien/opt/anaconda3/lib/python3.7/site-packages (from spacy<2.4.0,>=2.3.0->en_core_web_sm==2.3.1) (1.0.0)\n",
      "Requirement already satisfied: preshed<3.1.0,>=3.0.2 in /Users/adrien/opt/anaconda3/lib/python3.7/site-packages (from spacy<2.4.0,>=2.3.0->en_core_web_sm==2.3.1) (3.0.6)\n",
      "Requirement already satisfied: tqdm<5.0.0,>=4.38.0 in /Users/adrien/opt/anaconda3/lib/python3.7/site-packages (from spacy<2.4.0,>=2.3.0->en_core_web_sm==2.3.1) (4.59.0)\n",
      "Requirement already satisfied: setuptools in /Users/adrien/opt/anaconda3/lib/python3.7/site-packages (from spacy<2.4.0,>=2.3.0->en_core_web_sm==2.3.1) (52.0.0.post20210125)\n",
      "Requirement already satisfied: murmurhash<1.1.0,>=0.28.0 in /Users/adrien/opt/anaconda3/lib/python3.7/site-packages (from spacy<2.4.0,>=2.3.0->en_core_web_sm==2.3.1) (1.0.6)\n",
      "Requirement already satisfied: numpy>=1.15.0 in /Users/adrien/opt/anaconda3/lib/python3.7/site-packages (from spacy<2.4.0,>=2.3.0->en_core_web_sm==2.3.1) (1.20.1)\n",
      "Requirement already satisfied: thinc<7.5.0,>=7.4.1 in /Users/adrien/opt/anaconda3/lib/python3.7/site-packages (from spacy<2.4.0,>=2.3.0->en_core_web_sm==2.3.1) (7.4.5)\n",
      "Requirement already satisfied: requests<3.0.0,>=2.13.0 in /Users/adrien/opt/anaconda3/lib/python3.7/site-packages (from spacy<2.4.0,>=2.3.0->en_core_web_sm==2.3.1) (2.25.1)\n",
      "Requirement already satisfied: blis<0.8.0,>=0.4.0 in /Users/adrien/opt/anaconda3/lib/python3.7/site-packages (from spacy<2.4.0,>=2.3.0->en_core_web_sm==2.3.1) (0.7.5)\n",
      "Requirement already satisfied: wasabi<1.1.0,>=0.4.0 in /Users/adrien/opt/anaconda3/lib/python3.7/site-packages (from spacy<2.4.0,>=2.3.0->en_core_web_sm==2.3.1) (0.8.2)\n",
      "Requirement already satisfied: importlib-metadata>=0.20 in /Users/adrien/opt/anaconda3/lib/python3.7/site-packages (from catalogue<1.1.0,>=0.0.7->spacy<2.4.0,>=2.3.0->en_core_web_sm==2.3.1) (3.10.0)\n",
      "Requirement already satisfied: typing-extensions>=3.6.4 in /Users/adrien/opt/anaconda3/lib/python3.7/site-packages (from importlib-metadata>=0.20->catalogue<1.1.0,>=0.0.7->spacy<2.4.0,>=2.3.0->en_core_web_sm==2.3.1) (3.7.4.3)\n",
      "Requirement already satisfied: zipp>=0.5 in /Users/adrien/opt/anaconda3/lib/python3.7/site-packages (from importlib-metadata>=0.20->catalogue<1.1.0,>=0.0.7->spacy<2.4.0,>=2.3.0->en_core_web_sm==2.3.1) (3.4.1)\n",
      "Requirement already satisfied: urllib3<1.27,>=1.21.1 in /Users/adrien/opt/anaconda3/lib/python3.7/site-packages (from requests<3.0.0,>=2.13.0->spacy<2.4.0,>=2.3.0->en_core_web_sm==2.3.1) (1.26.4)\n",
      "Requirement already satisfied: certifi>=2017.4.17 in /Users/adrien/opt/anaconda3/lib/python3.7/site-packages (from requests<3.0.0,>=2.13.0->spacy<2.4.0,>=2.3.0->en_core_web_sm==2.3.1) (2020.12.5)\n",
      "Requirement already satisfied: chardet<5,>=3.0.2 in /Users/adrien/opt/anaconda3/lib/python3.7/site-packages (from requests<3.0.0,>=2.13.0->spacy<2.4.0,>=2.3.0->en_core_web_sm==2.3.1) (4.0.0)\n",
      "Requirement already satisfied: idna<3,>=2.5 in /Users/adrien/opt/anaconda3/lib/python3.7/site-packages (from requests<3.0.0,>=2.13.0->spacy<2.4.0,>=2.3.0->en_core_web_sm==2.3.1) (2.10)\n",
      "\u001b[38;5;2m✔ Download and installation successful\u001b[0m\n",
      "You can now load the model via spacy.load('en_core_web_sm')\n"
     ]
    }
   ],
   "source": [
    "! python -m spacy download en_core_web_sm"
   ]
  },
  {
   "cell_type": "code",
   "execution_count": 62,
   "id": "4b49729c",
   "metadata": {},
   "outputs": [
    {
     "name": "stderr",
     "output_type": "stream",
     "text": [
      "[nltk_data] Downloading package stopwords to\n",
      "[nltk_data]     /Users/adrien/nltk_data...\n",
      "[nltk_data]   Package stopwords is already up-to-date!\n"
     ]
    },
    {
     "data": {
      "text/plain": [
       "True"
      ]
     },
     "execution_count": 62,
     "metadata": {},
     "output_type": "execute_result"
    }
   ],
   "source": [
    "spacy.load('en_core_web_sm')\n",
    "nltk.download('stopwords')"
   ]
  },
  {
   "cell_type": "code",
   "execution_count": 63,
   "id": "e9120b1e",
   "metadata": {},
   "outputs": [],
   "source": [
    "def preprocess(txt):\n",
    "    txt = \" \".join(simple_preprocess(txt))\n",
    "    \n",
    "    \n",
    "    \n",
    "    return txt"
   ]
  },
  {
   "cell_type": "code",
   "execution_count": 64,
   "id": "3c832396",
   "metadata": {},
   "outputs": [],
   "source": [
    "doc_1[0] = doc_1[0].apply(lambda x : preprocess(x))"
   ]
  },
  {
   "cell_type": "code",
   "execution_count": 65,
   "id": "1cb3ec15",
   "metadata": {},
   "outputs": [],
   "source": [
    "def lemmatize_text(txt):\n",
    "    word_tokens = word_tokenize(txt)\n",
    "    lemmatized_output = [WordNetLemmatizer().lemmatize(w) for w in word_tokens ]\n",
    "    \n",
    "    \n",
    "    return lemmatized_output"
   ]
  },
  {
   "cell_type": "code",
   "execution_count": 66,
   "id": "4a88f3a4",
   "metadata": {},
   "outputs": [],
   "source": [
    "doc_1[0] = doc_1[0].apply(lambda x : lemmatize_text(x))\n"
   ]
  },
  {
   "cell_type": "code",
   "execution_count": 67,
   "id": "a25f4eed",
   "metadata": {},
   "outputs": [],
   "source": [
    "# Create a dictionary from ‘processed_docs’ containing the number of times a word appears in the training set.\n",
    "\n",
    "dictionary = corpora.Dictionary(doc_1[0])"
   ]
  },
  {
   "cell_type": "code",
   "execution_count": 68,
   "id": "98ef789a",
   "metadata": {},
   "outputs": [],
   "source": [
    "#Filter out tokens that appear in\n",
    "#less than 15 documents (absolute number) or\n",
    "#more than 0.5 documents (fraction of total corpus size, not absolute number).\n",
    "#after the above two steps, keep only the first 100000 most frequent tokens.\n",
    "\n",
    "dictionary.filter_extremes(no_below = 5, no_above=0.3, keep_n= 200)"
   ]
  },
  {
   "cell_type": "markdown",
   "id": "c6e70251",
   "metadata": {},
   "source": [
    "### Gensim doc2bow"
   ]
  },
  {
   "cell_type": "code",
   "execution_count": 69,
   "id": "26a951f2",
   "metadata": {},
   "outputs": [],
   "source": [
    "#For each document we create a dictionary reporting how many\n",
    "#words and how many times those words appear. Save this to ‘bow_corpus’, \n",
    "#then check our selected document earlier.\n",
    "bow_corpus = [dictionary.doc2bow(q) for q in doc_1[0]]\n",
    "#bow_corpus[12] #(token id, token count for document 12)"
   ]
  },
  {
   "cell_type": "markdown",
   "id": "9dc0af64",
   "metadata": {},
   "source": [
    "### LDA model"
   ]
  },
  {
   "cell_type": "code",
   "execution_count": 70,
   "id": "ec05b93d",
   "metadata": {},
   "outputs": [],
   "source": [
    "lda_model = gensim.models.LdaMulticore(bow_corpus, num_topics= 8, id2word=dictionary, passes=2, workers = 2)"
   ]
  },
  {
   "cell_type": "markdown",
   "id": "8dab8a7f",
   "metadata": {},
   "source": [
    " ## Visualization of the top keywwords for each model (topics)"
   ]
  },
  {
   "cell_type": "code",
   "execution_count": 71,
   "id": "d505a284",
   "metadata": {},
   "outputs": [
    {
     "name": "stdout",
     "output_type": "stream",
     "text": [
      "Topic: 0 \n",
      "Words: 0.028*\"minister\" + 0.024*\"pm\" + 0.017*\"development\" + 0.015*\"city\" + 0.013*\"being\" + 0.013*\"online\" + 0.013*\"challenge\" + 0.012*\"five\" + 0.012*\"research\" + 0.012*\"american\"\n",
      "Topic: 1 \n",
      "Words: 0.028*\"city\" + 0.019*\"don\" + 0.019*\"member\" + 0.019*\"think\" + 0.015*\"life\" + 0.014*\"them\" + 0.014*\"political\" + 0.014*\"know\" + 0.013*\"because\" + 0.012*\"power\"\n",
      "Topic: 2 \n",
      "Words: 0.031*\"china\" + 0.024*\"india\" + 0.022*\"dec\" + 0.015*\"attack\" + 0.014*\"deal\" + 0.013*\"comment\" + 0.011*\"greenhouse\" + 0.011*\"level\" + 0.010*\"pm\" + 0.010*\"minister\"\n",
      "Topic: 3 \n",
      "Words: 0.025*\"renewable\" + 0.024*\"city\" + 0.023*\"open\" + 0.020*\"fuel\" + 0.017*\"threat\" + 0.015*\"power\" + 0.014*\"planet\" + 0.014*\"company\" + 0.013*\"billion\" + 0.013*\"fossil\"\n",
      "Topic: 4 \n",
      "Words: 0.025*\"human\" + 0.024*\"scientist\" + 0.024*\"deal\" + 0.017*\"fossil\" + 0.017*\"fuel\" + 0.015*\"target\" + 0.014*\"minister\" + 0.012*\"find\" + 0.011*\"nov\" + 0.011*\"set\"\n",
      "Topic: 5 \n",
      "Words: 0.024*\"december\" + 0.023*\"key\" + 0.020*\"education\" + 0.019*\"market\" + 0.019*\"opinion\" + 0.017*\"entertainment\" + 0.016*\"minister\" + 0.015*\"research\" + 0.014*\"fund\" + 0.014*\"fuel\"\n",
      "Topic: 6 \n",
      "Words: 0.028*\"india\" + 0.023*\"market\" + 0.022*\"company\" + 0.021*\"december\" + 0.018*\"natural\" + 0.018*\"resource\" + 0.015*\"minister\" + 0.014*\"industry\" + 0.013*\"fund\" + 0.012*\"financial\"\n",
      "Topic: 7 \n",
      "Words: 0.019*\"le\" + 0.019*\"below\" + 0.018*\"culture\" + 0.017*\"down\" + 0.016*\"book\" + 0.015*\"research\" + 0.014*\"comment\" + 0.014*\"best\" + 0.014*\"december\" + 0.012*\"why\"\n"
     ]
    }
   ],
   "source": [
    "for idx, topic in lda_model.print_topics(-1):\n",
    "    print('Topic: {} \\nWords: {}'.format(idx, topic))"
   ]
  },
  {
   "cell_type": "code",
   "execution_count": 72,
   "id": "f1806912",
   "metadata": {},
   "outputs": [
    {
     "name": "stdout",
     "output_type": "stream",
     "text": [
      "The average coherence score for all the topics is  0.2747187631149406\n"
     ]
    }
   ],
   "source": [
    "cm = CoherenceModel(model=lda_model, texts = doc_1[0], dictionary = dictionary, coherence = 'c_v')\n",
    "coherence = cm.get_coherence()  # get coherence value\n",
    "print(\"The average coherence score for all the topics is \",coherence)"
   ]
  },
  {
   "cell_type": "code",
   "execution_count": 73,
   "id": "89b433cf",
   "metadata": {},
   "outputs": [
    {
     "data": {
      "text/html": [
       "\n",
       "<link rel=\"stylesheet\" type=\"text/css\" href=\"https://cdn.jsdelivr.net/gh/bmabey/pyLDAvis@3.3.1/pyLDAvis/js/ldavis.v1.0.0.css\">\n",
       "\n",
       "\n",
       "<div id=\"ldavis_el359831403828547618088464040598\"></div>\n",
       "<script type=\"text/javascript\">\n",
       "\n",
       "var ldavis_el359831403828547618088464040598_data = {\"mdsDat\": {\"x\": [-0.0028503877036816947, 0.0542985416324519, -0.06953471513196648, 0.014100634237949727, 0.02576270103716618, -0.027151123039696586, 0.0026746357376021468, 0.00269971323017473], \"y\": [0.02427268169342447, -0.023912207240040253, -0.009880890224638028, 0.047934893832904696, -0.030721658776855412, -0.02737919423233271, 0.017676655923069495, 0.0020097190244678176], \"topics\": [1, 2, 3, 4, 5, 6, 7, 8], \"cluster\": [1, 1, 1, 1, 1, 1, 1, 1], \"Freq\": [16.81880054808299, 16.570829002119908, 15.976312131327862, 15.003902169844114, 10.658554997974361, 9.129067940002848, 8.057585981384639, 7.784947229263276]}, \"tinfo\": {\"Term\": [\"city\", \"market\", \"renewable\", \"india\", \"december\", \"minister\", \"china\", \"key\", \"pm\", \"fuel\", \"open\", \"human\", \"company\", \"comment\", \"below\", \"threat\", \"scientist\", \"fossil\", \"le\", \"dec\", \"culture\", \"education\", \"down\", \"resource\", \"natural\", \"deal\", \"member\", \"research\", \"entertainment\", \"think\", \"china\", \"dec\", \"attack\", \"comment\", \"act\", \"barack\", \"hope\", \"india\", \"french\", \"major\", \"developing\", \"greenhouse\", \"monday\", \"own\", \"including\", \"special\", \"meeting\", \"newsletter\", \"threat\", \"culture\", \"call\", \"between\", \"france\", \"important\", \"meet\", \"still\", \"deal\", \"commitment\", \"being\", \"every\", \"level\", \"goal\", \"account\", \"un\", \"pm\", \"life\", \"american\", \"such\", \"told\", \"minister\", \"during\", \"natural\", \"resource\", \"company\", \"market\", \"program\", \"industry\", \"financial\", \"developed\", \"india\", \"december\", \"top\", \"fund\", \"across\", \"social\", \"environmental\", \"become\", \"focus\", \"key\", \"provide\", \"food\", \"entertainment\", \"fight\", \"face\", \"culture\", \"child\", \"result\", \"close\", \"development\", \"network\", \"legal\", \"press\", \"security\", \"reduce\", \"community\", \"information\", \"co\", \"minister\", \"research\", \"challenge\", \"pm\", \"deal\", \"best\", \"economic\", \"don\", \"member\", \"think\", \"city\", \"political\", \"then\", \"building\", \"know\", \"them\", \"life\", \"going\", \"big\", \"looking\", \"because\", \"called\", \"something\", \"go\", \"house\", \"plan\", \"told\", \"job\", \"american\", \"back\", \"log\", \"post\", \"power\", \"place\", \"subscription\", \"white\", \"many\", \"party\", \"project\", \"account\", \"community\", \"address\", \"such\", \"co\", \"any\", \"scientist\", \"human\", \"deal\", \"find\", \"target\", \"fossil\", \"website\", \"source\", \"fuel\", \"low\", \"legal\", \"nov\", \"focus\", \"effect\", \"among\", \"keep\", \"set\", \"france\", \"food\", \"doe\", \"greenhouse\", \"point\", \"goal\", \"meeting\", \"increase\", \"commitment\", \"step\", \"per\", \"rise\", \"access\", \"party\", \"information\", \"best\", \"minister\", \"development\", \"level\", \"between\", \"because\", \"pm\", \"account\", \"economic\", \"them\", \"even\", \"co\", \"education\", \"key\", \"money\", \"opinion\", \"entertainment\", \"december\", \"market\", \"fund\", \"address\", \"below\", \"join\", \"network\", \"un\", \"green\", \"house\", \"fossil\", \"community\", \"reduce\", \"research\", \"fuel\", \"end\", \"doe\", \"barack\", \"job\", \"subscription\", \"per\", \"monday\", \"rise\", \"result\", \"million\", \"minister\", \"billion\", \"pm\", \"economic\", \"india\", \"development\", \"newsletter\", \"any\", \"le\", \"down\", \"below\", \"book\", \"look\", \"culture\", \"skip\", \"free\", \"comment\", \"best\", \"why\", \"post\", \"own\", \"three\", \"without\", \"review\", \"try\", \"child\", \"social\", \"go\", \"main\", \"well\", \"research\", \"better\", \"france\", \"problem\", \"thing\", \"risk\", \"real\", \"green\", \"them\", \"december\", \"any\", \"good\", \"newsletter\", \"scientist\", \"company\", \"know\", \"think\", \"market\", \"life\", \"india\", \"un\", \"available\", \"online\", \"full\", \"pm\", \"five\", \"challenge\", \"minister\", \"being\", \"development\", \"financial\", \"project\", \"network\", \"covid\", \"again\", \"partner\", \"american\", \"down\", \"step\", \"working\", \"well\", \"looking\", \"set\", \"industry\", \"resource\", \"access\", \"big\", \"why\", \"important\", \"city\", \"result\", \"green\", \"research\", \"because\", \"level\", \"opinion\", \"meeting\", \"human\", \"during\", \"best\", \"deal\", \"co\", \"renewable\", \"open\", \"threat\", \"planet\", \"skip\", \"join\", \"fuel\", \"billion\", \"close\", \"city\", \"building\", \"green\", \"power\", \"main\", \"based\", \"fossil\", \"comment\", \"condition\", \"meet\", \"real\", \"company\", \"review\", \"statement\", \"security\", \"project\", \"program\", \"job\", \"target\", \"available\", \"already\", \"any\", \"plan\", \"set\", \"fund\", \"research\", \"house\", \"commitment\", \"think\", \"india\"], \"Freq\": [253.0, 203.0, 124.0, 301.0, 244.0, 289.0, 208.0, 152.0, 214.0, 200.0, 143.0, 180.0, 188.0, 136.0, 146.0, 107.0, 174.0, 172.0, 120.0, 150.0, 162.0, 123.0, 133.0, 139.0, 134.0, 232.0, 166.0, 215.0, 151.0, 166.0, 128.12727445568635, 90.28092618508293, 62.16245414026252, 51.99625969223012, 33.71341861475407, 28.56016297405644, 29.077539281479655, 97.85716431782915, 34.687191312226865, 23.899261439797705, 39.229925874748155, 44.51127562813243, 36.84982985387222, 24.652391111463693, 36.423214886670266, 23.077932806358692, 39.40294612512029, 40.95758452472877, 28.810339148697132, 41.49695027056853, 34.35916022647894, 33.04773487032592, 22.063467998034653, 28.704429274037796, 21.993634247371187, 25.417013960165526, 56.255736522680515, 31.935106336571096, 34.13017519381062, 23.154918758417846, 43.13234265784464, 34.96656833048306, 35.29962601010907, 33.96951898932251, 42.63558837196231, 35.9062281784686, 33.092947478027256, 32.07510423331631, 32.86608996267664, 41.67763263896457, 30.919467001182078, 71.52533582120635, 71.33998650212673, 87.26390602948995, 93.31720284241212, 43.98233743978817, 58.32327247457577, 49.716921635296764, 38.889355725597795, 115.08823631715428, 86.11940070349766, 47.460083307863734, 52.37553957275371, 29.10418028160998, 30.07447373085627, 42.6654322588386, 28.99295074475103, 27.116659572654857, 45.48432474657334, 24.558479951954915, 36.459842823393195, 41.555944300953925, 24.665421225411542, 19.20013771359778, 42.63683505515781, 23.66990623924347, 21.80143705528396, 20.24425176389714, 47.136835931872014, 20.968334165345876, 18.73175172010943, 24.967163308544485, 30.578225196326482, 33.15565590209407, 34.602033144556174, 34.16941717620085, 37.79118772937542, 60.880368269159106, 44.19360826682321, 30.850639998463983, 38.75940196358899, 38.718359575992906, 32.69469487016148, 31.264289009778754, 75.6915961740224, 74.4304463063405, 72.10558243276728, 108.95025777476168, 54.510776625952076, 35.853824225262095, 39.567981155408674, 54.27343706657308, 55.68265294579221, 58.88823184405399, 45.162796667979634, 35.396241507944076, 19.858386410328645, 51.06035128066714, 31.327138321416175, 27.966882706306535, 38.31281067430851, 43.2122467483443, 45.88417265072477, 43.37468795990386, 27.91630645675807, 43.02085195370094, 34.303751704128224, 23.92101495161682, 32.438974053177255, 47.78214170243397, 30.717785130364355, 33.10867623513547, 21.9518393153448, 39.99952016102549, 33.402126967746426, 35.53055638165079, 39.62130219012042, 36.73679603299303, 35.48826891162049, 35.64453481009625, 34.35309978477019, 32.68964387123418, 87.13781203217503, 89.73158283388516, 87.09908998255584, 43.80511597065478, 53.551194169082244, 61.71844246879373, 26.031345933729224, 28.235207775928977, 60.90278518705786, 25.28400253898654, 21.087439077741454, 40.037863301089345, 24.774170737578686, 27.076739050507854, 23.552565717068315, 27.203447791896423, 38.66797027658583, 23.03342822070181, 33.25695228947362, 27.6628308687674, 37.50850658121673, 29.623904710219858, 36.30296419198979, 35.250418876852244, 20.4659798260058, 32.09863008359963, 20.296759971360526, 23.962789782160318, 19.996413640609042, 23.398410116327167, 27.94696123382566, 32.03993367153166, 32.808595660382274, 52.24973258795276, 36.78906834534033, 35.64420208578333, 28.48192624871392, 31.629392715326087, 35.727895414078546, 30.808556137970612, 27.729694893730233, 27.52202047282506, 27.331418986592272, 27.407155962735008, 52.36953050198255, 58.93951984444082, 28.29281343390223, 49.678952833439084, 43.904432271088, 61.57635557577925, 50.17522701818141, 36.628644901777236, 31.849979234729293, 30.675552580508512, 17.275780452504186, 16.427105895857284, 29.773916726902893, 19.377237369087364, 27.288605082816066, 31.785935266862857, 26.19738862737738, 24.868625160428348, 38.49607434458073, 35.39715768158339, 20.41393608825453, 18.852649544155536, 14.54659316458459, 16.26316902354183, 19.87843745429867, 16.74202343298932, 20.900697354646454, 13.74129799973353, 13.511959208611541, 21.535371188142708, 42.262124951781445, 20.454313948560678, 28.891088856906094, 20.507726685537804, 27.414928408503787, 21.858858823854803, 19.525349634859356, 19.302591217410548, 43.389201824343985, 38.19264121649554, 41.29839025425422, 34.89991091801944, 25.896386299662435, 40.745818210368455, 16.773683622239037, 22.49290358459517, 31.80398281244706, 31.616282137866726, 26.097616930638765, 23.065360061792916, 16.80442353389754, 18.889405156487225, 15.59092162034657, 19.024317024791923, 13.080918787823387, 14.80516515250972, 15.36346244533627, 19.48250694563583, 12.622409588204585, 20.76280239354318, 32.52384449494648, 13.76344454942835, 13.314644327100757, 16.09822138521899, 17.261621409976584, 12.19463511714729, 18.91015827685558, 14.388939658176893, 22.097089126229022, 31.080718945080058, 21.291745734847712, 19.003302676335014, 19.975840337345268, 21.29980026757809, 21.738725653510627, 18.607853107997325, 19.74428029599245, 21.347026574158587, 19.863856416908067, 23.393605594492218, 18.360675358778888, 15.070460029468633, 26.414844284926968, 15.807923353328462, 47.25280963375227, 24.41273567421225, 26.14115681902744, 55.893127543553504, 26.417587308056756, 32.80384471745161, 21.66702624825858, 22.67657221394534, 13.577215147565697, 19.48966609107102, 11.571150288681133, 10.267100806652623, 23.185114794952405, 19.503769145948446, 11.520877390452563, 9.297571138365575, 18.0906913566435, 7.885882244694724, 18.400876218355968, 16.82946066696018, 17.274688638033545, 12.437676602096563, 13.13702489675671, 15.367010291221098, 13.93217222203099, 30.09382753042155, 9.986364558167411, 11.659718461458475, 24.02564003054853, 17.817311314283536, 19.40928581488756, 17.84214491461331, 15.923512774301928, 18.608425535503077, 16.227505247574637, 15.593369171244177, 16.12182840585004, 14.873386901392921, 48.096852821351604, 43.30234639712241, 32.196745459013584, 26.927577509967605, 13.550732066397682, 15.616388211067518, 37.327646377822894, 25.596817013431334, 14.53086402159994, 45.061325222080214, 18.583323298612285, 16.680617905922333, 27.758403136966308, 13.09724127724784, 13.786902146692807, 25.003529003079034, 19.67230478263051, 10.103933158349461, 12.779095923220918, 18.406473533024677, 26.54001222726203, 16.024142113805734, 14.072940010212436, 16.85711053855201, 18.245075955814798, 13.028454287177789, 12.40182738480732, 18.411110957522936, 6.935770002872305, 10.612227060684498, 19.30390799264705, 16.77870747839198, 15.475439147676493, 14.507226946941357, 15.922208942076, 14.142859394636712, 13.690206630348545, 13.813029428139723, 13.809975234155454], \"Total\": [253.0, 203.0, 124.0, 301.0, 244.0, 289.0, 208.0, 152.0, 214.0, 200.0, 143.0, 180.0, 188.0, 136.0, 146.0, 107.0, 174.0, 172.0, 120.0, 150.0, 162.0, 123.0, 133.0, 139.0, 134.0, 232.0, 166.0, 215.0, 151.0, 166.0, 208.4368805994112, 150.8422129232897, 118.80068171543914, 136.57542708420374, 95.21603112091721, 84.96809937993879, 88.80515355299325, 301.3963712269465, 112.84485343184244, 80.2064492142933, 131.72032449241033, 150.26076557864707, 129.8084683047295, 88.82209298039875, 131.29183665864429, 83.32319833247942, 142.90999459639886, 150.48679592999233, 107.04100652445474, 162.8581497797943, 136.13992545792632, 131.04489252426558, 88.6646601336032, 116.89202261772286, 89.69026988913197, 104.10772432049431, 232.35794602720782, 132.04606537169875, 141.8705560451084, 96.36154798253465, 179.69206960023493, 147.04957816718175, 156.5592574629066, 151.75500714304619, 214.83211561336833, 170.6399501670306, 150.21086347309424, 142.50312975899908, 150.89500583063764, 289.785023762513, 149.4547815041641, 134.3412746406501, 139.39707603258591, 188.954105015638, 203.4211574726077, 99.80279646476663, 135.47050187570247, 125.87907400093468, 101.61000069932552, 301.3963712269465, 244.52031424342616, 136.00845914297756, 153.68076094957658, 92.08127516724622, 96.37304070386418, 139.0028712441232, 94.70977457712601, 89.75708070559946, 152.94739908022686, 82.85317047387561, 131.3750995637122, 151.1616131861827, 91.74347908079031, 73.17276153050382, 162.8581497797943, 92.13945103247173, 85.17854439838258, 79.1160111813768, 184.70102475969665, 82.51119509139042, 74.19367344040784, 99.24817910695026, 122.432148779946, 136.39237121488063, 143.1660720244523, 142.92115098850772, 161.27583157376176, 289.785023762513, 215.44380267119084, 130.8001269474548, 214.83211561336833, 232.35794602720782, 151.15857100070016, 141.10668499097238, 147.50799884968734, 166.88237161547315, 166.54230252599956, 253.01619011405285, 133.87237018637705, 94.62723758401496, 105.40183816575598, 145.2046026262579, 159.00373433249047, 170.6399501670306, 131.83854309155916, 108.20306362647317, 61.6756325118691, 161.26513373137973, 99.94981009445445, 89.52915974220963, 125.65267132170355, 147.71285102343242, 157.45118490732807, 150.89500583063764, 97.32914781601005, 150.21086347309424, 120.1553100147347, 84.21419570695207, 116.67627423567514, 171.91533061231445, 110.76412423247588, 119.9667562525994, 80.04643139774466, 146.0517814333667, 122.52061467892662, 133.7098847141547, 156.5592574629066, 143.1660720244523, 139.36957668592444, 142.50312975899908, 161.27583157376176, 159.40592777799162, 174.45461950329545, 180.701254871014, 232.35794602720782, 117.60322413479668, 146.42553553338414, 172.7719076149341, 74.70808647139725, 87.03631606629583, 200.013659518382, 86.05868098930574, 74.19367344040784, 142.89364009319382, 89.75708070559946, 99.52942215294642, 87.05921153267887, 102.11827723360737, 145.65897923913184, 88.6646601336032, 131.3750995637122, 109.59369490127212, 150.26076557864707, 119.22199630821633, 147.04957816718175, 142.90999459639886, 84.11016975171457, 132.04606537169875, 83.59193033220572, 101.32867578846611, 86.07509534291461, 102.36107695072322, 122.52061467892662, 142.92115098850772, 151.15857100070016, 289.785023762513, 184.70102475969665, 179.69206960023493, 131.04489252426558, 161.26513373137973, 214.83211561336833, 156.5592574629066, 141.10668499097238, 159.00373433249047, 128.37471271169397, 161.27583157376176, 123.7566528916068, 152.94739908022686, 94.10562781252689, 166.38306036066118, 151.1616131861827, 244.52031424342616, 203.4211574726077, 153.68076094957658, 139.36957668592444, 146.75746970884146, 83.58359416909578, 82.51119509139042, 151.75500714304619, 99.62752840007536, 147.71285102343242, 172.7719076149341, 143.1660720244523, 136.39237121488063, 215.44380267119084, 200.013659518382, 118.30840550918947, 109.59369490127212, 84.96809937993879, 97.32914781601005, 119.9667562525994, 101.32867578846611, 129.8084683047295, 86.07509534291461, 85.17854439838258, 136.63741565816804, 289.785023762513, 137.79178033467974, 214.83211561336833, 141.10668499097238, 301.3963712269465, 184.70102475969665, 150.48679592999233, 159.40592777799162, 120.37433040886664, 133.87342970203335, 146.75746970884146, 128.89036165798197, 97.39958926573722, 162.8581497797943, 69.77265519868405, 95.19372022918054, 136.57542708420374, 151.15857100070016, 128.24505692614895, 116.67627423567514, 88.82209298039875, 101.99042113176381, 88.62925299528743, 114.26856229708069, 79.22264053916331, 92.13945103247173, 96.37304070386418, 125.65267132170355, 82.58225155650982, 137.0729119198033, 215.44380267119084, 91.48948683587825, 88.6646601336032, 108.64599412218666, 117.5255048874235, 83.09258978245569, 129.9559619936105, 99.62752840007536, 159.00373433249047, 244.52031424342616, 159.40592777799162, 139.74667393901953, 150.48679592999233, 174.45461950329545, 188.954105015638, 145.2046026262579, 166.54230252599956, 203.4211574726077, 170.6399501670306, 301.3963712269465, 151.75500714304619, 56.201394592822865, 98.6289185870817, 67.07279892488107, 214.83211561336833, 111.97530884842064, 130.8001269474548, 289.785023762513, 141.8705560451084, 184.70102475969665, 125.87907400093468, 133.7098847141547, 82.51119509139042, 121.27569374346164, 72.86308394921696, 65.37054948044471, 150.21086347309424, 133.87342970203335, 83.59193033220572, 70.3704295454719, 137.0729119198033, 61.6756325118691, 145.65897923913184, 135.47050187570247, 139.39707603258591, 102.36107695072322, 108.20306362647317, 128.24505692614895, 116.89202261772286, 253.01619011405285, 85.17854439838258, 99.62752840007536, 215.44380267119084, 161.26513373137973, 179.69206960023493, 166.38306036066118, 142.90999459639886, 180.701254871014, 149.4547815041641, 151.15857100070016, 232.35794602720782, 161.27583157376176, 124.5355216132134, 143.0464288842167, 107.04100652445474, 111.46673390265428, 69.77265519868405, 83.58359416909578, 200.013659518382, 137.79178033467974, 79.1160111813768, 253.01619011405285, 105.40183816575598, 99.62752840007536, 171.91533061231445, 82.58225155650982, 90.35746312577338, 172.7719076149341, 136.57542708420374, 70.66289966908727, 89.69026988913197, 129.9559619936105, 188.954105015638, 114.26856229708069, 100.70994446098425, 122.432148779946, 133.7098847141547, 99.80279646476663, 97.32914781601005, 146.42553553338414, 56.201394592822865, 86.86980787335699, 159.40592777799162, 157.45118490732807, 145.65897923913184, 153.68076094957658, 215.44380267119084, 147.71285102343242, 132.04606537169875, 166.54230252599956, 301.3963712269465], \"Category\": [\"Default\", \"Default\", \"Default\", \"Default\", \"Default\", \"Default\", \"Default\", \"Default\", \"Default\", \"Default\", \"Default\", \"Default\", \"Default\", \"Default\", \"Default\", \"Default\", \"Default\", \"Default\", \"Default\", \"Default\", \"Default\", \"Default\", \"Default\", \"Default\", \"Default\", \"Default\", \"Default\", \"Default\", \"Default\", \"Default\", \"Topic1\", \"Topic1\", \"Topic1\", \"Topic1\", \"Topic1\", \"Topic1\", \"Topic1\", \"Topic1\", \"Topic1\", \"Topic1\", \"Topic1\", \"Topic1\", \"Topic1\", \"Topic1\", \"Topic1\", \"Topic1\", \"Topic1\", \"Topic1\", \"Topic1\", \"Topic1\", \"Topic1\", \"Topic1\", \"Topic1\", \"Topic1\", \"Topic1\", \"Topic1\", \"Topic1\", \"Topic1\", \"Topic1\", \"Topic1\", \"Topic1\", \"Topic1\", \"Topic1\", \"Topic1\", \"Topic1\", \"Topic1\", \"Topic1\", \"Topic1\", \"Topic1\", \"Topic1\", \"Topic1\", \"Topic2\", \"Topic2\", \"Topic2\", \"Topic2\", \"Topic2\", \"Topic2\", \"Topic2\", \"Topic2\", \"Topic2\", \"Topic2\", \"Topic2\", \"Topic2\", \"Topic2\", \"Topic2\", \"Topic2\", \"Topic2\", \"Topic2\", \"Topic2\", \"Topic2\", \"Topic2\", \"Topic2\", \"Topic2\", \"Topic2\", \"Topic2\", \"Topic2\", \"Topic2\", \"Topic2\", \"Topic2\", \"Topic2\", \"Topic2\", \"Topic2\", \"Topic2\", \"Topic2\", \"Topic2\", \"Topic2\", \"Topic2\", \"Topic2\", \"Topic2\", \"Topic2\", \"Topic2\", \"Topic2\", \"Topic2\", \"Topic2\", \"Topic3\", \"Topic3\", \"Topic3\", \"Topic3\", \"Topic3\", \"Topic3\", \"Topic3\", \"Topic3\", \"Topic3\", \"Topic3\", \"Topic3\", \"Topic3\", \"Topic3\", \"Topic3\", \"Topic3\", \"Topic3\", \"Topic3\", \"Topic3\", \"Topic3\", \"Topic3\", \"Topic3\", \"Topic3\", \"Topic3\", \"Topic3\", \"Topic3\", \"Topic3\", \"Topic3\", \"Topic3\", \"Topic3\", \"Topic3\", \"Topic3\", \"Topic3\", \"Topic3\", \"Topic3\", \"Topic3\", \"Topic3\", \"Topic3\", \"Topic3\", \"Topic4\", \"Topic4\", \"Topic4\", \"Topic4\", \"Topic4\", \"Topic4\", \"Topic4\", \"Topic4\", \"Topic4\", \"Topic4\", \"Topic4\", \"Topic4\", \"Topic4\", \"Topic4\", \"Topic4\", \"Topic4\", \"Topic4\", \"Topic4\", \"Topic4\", \"Topic4\", \"Topic4\", \"Topic4\", \"Topic4\", \"Topic4\", \"Topic4\", \"Topic4\", \"Topic4\", \"Topic4\", \"Topic4\", \"Topic4\", \"Topic4\", \"Topic4\", \"Topic4\", \"Topic4\", \"Topic4\", \"Topic4\", \"Topic4\", \"Topic4\", \"Topic4\", \"Topic4\", \"Topic4\", \"Topic4\", \"Topic4\", \"Topic4\", \"Topic5\", \"Topic5\", \"Topic5\", \"Topic5\", \"Topic5\", \"Topic5\", \"Topic5\", \"Topic5\", \"Topic5\", \"Topic5\", \"Topic5\", \"Topic5\", \"Topic5\", \"Topic5\", \"Topic5\", \"Topic5\", \"Topic5\", \"Topic5\", \"Topic5\", \"Topic5\", \"Topic5\", \"Topic5\", \"Topic5\", \"Topic5\", \"Topic5\", \"Topic5\", \"Topic5\", \"Topic5\", \"Topic5\", \"Topic5\", \"Topic5\", \"Topic5\", \"Topic5\", \"Topic5\", \"Topic5\", \"Topic5\", \"Topic5\", \"Topic5\", \"Topic6\", \"Topic6\", \"Topic6\", \"Topic6\", \"Topic6\", \"Topic6\", \"Topic6\", \"Topic6\", \"Topic6\", \"Topic6\", \"Topic6\", \"Topic6\", \"Topic6\", \"Topic6\", \"Topic6\", \"Topic6\", \"Topic6\", \"Topic6\", \"Topic6\", \"Topic6\", \"Topic6\", \"Topic6\", \"Topic6\", \"Topic6\", \"Topic6\", \"Topic6\", \"Topic6\", \"Topic6\", \"Topic6\", \"Topic6\", \"Topic6\", \"Topic6\", \"Topic6\", \"Topic6\", \"Topic6\", \"Topic6\", \"Topic6\", \"Topic6\", \"Topic6\", \"Topic6\", \"Topic6\", \"Topic6\", \"Topic6\", \"Topic7\", \"Topic7\", \"Topic7\", \"Topic7\", \"Topic7\", \"Topic7\", \"Topic7\", \"Topic7\", \"Topic7\", \"Topic7\", \"Topic7\", \"Topic7\", \"Topic7\", \"Topic7\", \"Topic7\", \"Topic7\", \"Topic7\", \"Topic7\", \"Topic7\", \"Topic7\", \"Topic7\", \"Topic7\", \"Topic7\", \"Topic7\", \"Topic7\", \"Topic7\", \"Topic7\", \"Topic7\", \"Topic7\", \"Topic7\", \"Topic7\", \"Topic7\", \"Topic7\", \"Topic7\", \"Topic7\", \"Topic7\", \"Topic7\", \"Topic7\", \"Topic7\", \"Topic7\", \"Topic7\", \"Topic8\", \"Topic8\", \"Topic8\", \"Topic8\", \"Topic8\", \"Topic8\", \"Topic8\", \"Topic8\", \"Topic8\", \"Topic8\", \"Topic8\", \"Topic8\", \"Topic8\", \"Topic8\", \"Topic8\", \"Topic8\", \"Topic8\", \"Topic8\", \"Topic8\", \"Topic8\", \"Topic8\", \"Topic8\", \"Topic8\", \"Topic8\", \"Topic8\", \"Topic8\", \"Topic8\", \"Topic8\", \"Topic8\", \"Topic8\", \"Topic8\", \"Topic8\", \"Topic8\", \"Topic8\", \"Topic8\", \"Topic8\", \"Topic8\", \"Topic8\", \"Topic8\"], \"logprob\": [30.0, 29.0, 28.0, 27.0, 26.0, 25.0, 24.0, 23.0, 22.0, 21.0, 20.0, 19.0, 18.0, 17.0, 16.0, 15.0, 14.0, 13.0, 12.0, 11.0, 10.0, 9.0, 8.0, 7.0, 6.0, 5.0, 4.0, 3.0, 2.0, 1.0, -3.466, -3.8161, -4.1893, -4.3679, -4.8012, -4.967, -4.9491, -3.7355, -4.7727, -5.1452, -4.6496, -4.5233, -4.7122, -5.1142, -4.7238, -5.1802, -4.6452, -4.6065, -4.9583, -4.5934, -4.7822, -4.8211, -5.2251, -4.962, -5.2283, -5.0836, -4.2891, -4.8553, -4.7889, -5.1768, -4.5548, -4.7647, -4.7552, -4.7936, -4.5664, -4.7381, -4.8197, -4.851, -4.8266, -4.5891, -4.8877, -4.0341, -4.0367, -3.8353, -3.7682, -4.5204, -4.2382, -4.3979, -4.6435, -3.5585, -3.8485, -4.4443, -4.3458, -4.9333, -4.9005, -4.5508, -4.9371, -5.004, -4.4868, -5.1031, -4.708, -4.5772, -5.0988, -5.3493, -4.5515, -5.14, -5.2222, -5.2963, -4.4511, -5.2612, -5.374, -5.0866, -4.8839, -4.803, -4.7603, -4.7729, -4.6721, -4.1953, -4.5156, -4.875, -4.6468, -4.6479, -4.817, -4.8617, -3.941, -3.9578, -3.9895, -3.5768, -4.2693, -4.6882, -4.5896, -4.2736, -4.248, -4.192, -4.4574, -4.7011, -5.279, -4.3347, -4.8232, -4.9366, -4.6219, -4.5015, -4.4415, -4.4978, -4.9384, -4.506, -4.7324, -5.0929, -4.7883, -4.401, -4.8428, -4.7679, -5.1788, -4.5788, -4.759, -4.6973, -4.5883, -4.6639, -4.6985, -4.6941, -4.731, -4.7806, -3.7374, -3.708, -3.7378, -4.4251, -4.2242, -4.0823, -4.9456, -4.8643, -4.0956, -4.9747, -5.1562, -4.515, -4.9951, -4.9062, -5.0456, -4.9015, -4.5499, -5.0679, -4.7006, -4.8848, -4.5803, -4.8163, -4.613, -4.6424, -5.1861, -4.7361, -5.1944, -5.0284, -5.2093, -5.0522, -4.8746, -4.7379, -4.7142, -4.2488, -4.5997, -4.6313, -4.8556, -4.7508, -4.6289, -4.7771, -4.8824, -4.8899, -4.8968, -4.8941, -3.9046, -3.7864, -4.5203, -3.9573, -4.0809, -3.7426, -3.9474, -4.2621, -4.4019, -4.4395, -5.0136, -5.064, -4.4693, -4.8988, -4.5564, -4.4039, -4.5973, -4.6493, -4.2124, -4.2963, -4.8467, -4.9263, -5.1856, -5.074, -4.8733, -5.045, -4.8231, -5.2425, -5.2593, -4.7932, -4.119, -4.8447, -4.4994, -4.8421, -4.5518, -4.7783, -4.8912, -4.9027, -3.9378, -4.0654, -3.9872, -4.1555, -4.4539, -4.0007, -4.8882, -4.5948, -4.2484, -4.2543, -4.4462, -4.5697, -4.8864, -4.7694, -4.9613, -4.7623, -5.1369, -5.013, -4.976, -4.7385, -5.1725, -4.6749, -4.226, -5.086, -5.1192, -4.9293, -4.8595, -5.207, -4.7683, -5.0416, -4.6126, -4.2714, -4.6497, -4.7634, -4.7135, -4.6493, -4.6289, -4.7844, -4.7252, -4.6471, -4.7191, -4.5556, -4.7978, -4.8704, -4.3092, -4.8227, -3.7277, -4.3881, -4.3197, -3.5597, -4.3091, -4.0926, -4.5074, -4.4618, -4.9748, -4.6133, -5.1347, -5.2542, -4.4397, -4.6126, -5.139, -5.3534, -4.6878, -5.5181, -4.6708, -4.76, -4.7339, -5.0624, -5.0077, -4.8509, -4.949, -4.1788, -5.2819, -5.127, -4.404, -4.703, -4.6174, -4.7016, -4.8154, -4.6596, -4.7965, -4.8363, -4.803, -4.8836, -3.6755, -3.7805, -4.0769, -4.2556, -4.9423, -4.8004, -3.929, -4.3063, -4.8725, -3.7407, -4.6265, -4.7345, -4.2252, -4.9763, -4.925, -4.3297, -4.5695, -5.2358, -5.0009, -4.636, -4.2701, -4.7746, -4.9045, -4.724, -4.6449, -4.9816, -5.0309, -4.6358, -5.6121, -5.1867, -4.5884, -4.7286, -4.8095, -4.8741, -4.781, -4.8995, -4.9321, -4.9231, -4.9234], \"loglift\": [30.0, 29.0, 28.0, 27.0, 26.0, 25.0, 24.0, 23.0, 22.0, 21.0, 20.0, 19.0, 18.0, 17.0, 16.0, 15.0, 14.0, 13.0, 12.0, 11.0, 10.0, 9.0, 8.0, 7.0, 6.0, 5.0, 4.0, 3.0, 2.0, 1.0, 1.2961, 1.2694, 1.135, 0.817, 0.7444, 0.6924, 0.6662, 0.6578, 0.603, 0.5719, 0.5714, 0.566, 0.5235, 0.5009, 0.5005, 0.4988, 0.4943, 0.4813, 0.4702, 0.4154, 0.4059, 0.4051, 0.3917, 0.3785, 0.3771, 0.3727, 0.3643, 0.3632, 0.3579, 0.3568, 0.3557, 0.3463, 0.2931, 0.2859, 0.1655, 0.224, 0.27, 0.2914, 0.2585, -0.1565, 0.2071, 1.1672, 1.1277, 1.025, 1.0183, 0.9781, 0.9548, 0.8685, 0.8371, 0.8348, 0.754, 0.7447, 0.7211, 0.6457, 0.633, 0.6164, 0.6138, 0.6006, 0.5848, 0.5815, 0.5157, 0.5062, 0.4839, 0.4596, 0.4574, 0.4384, 0.4348, 0.4345, 0.4318, 0.4276, 0.4211, 0.4175, 0.4103, 0.3832, 0.3774, 0.3666, 0.3465, 0.2373, 0.2134, 0.353, 0.085, 0.0056, 0.2664, 0.2905, 1.1668, 1.0266, 0.9969, 0.9915, 0.9356, 0.8636, 0.8543, 0.85, 0.7848, 0.7701, 0.7628, 0.7167, 0.7008, 0.684, 0.6739, 0.6705, 0.6463, 0.6049, 0.6011, 0.5874, 0.5852, 0.5837, 0.5805, 0.5755, 0.554, 0.5537, 0.5515, 0.5466, 0.5403, 0.539, 0.5344, 0.5088, 0.46, 0.4738, 0.4661, 0.4483, 0.2876, 0.2497, 1.2027, 1.1968, 0.9156, 0.9093, 0.891, 0.8675, 0.8426, 0.7711, 0.7078, 0.672, 0.6389, 0.6246, 0.6096, 0.5951, 0.5895, 0.5741, 0.5706, 0.5489, 0.5231, 0.5202, 0.5091, 0.5045, 0.498, 0.4971, 0.4835, 0.4825, 0.4814, 0.455, 0.4372, 0.421, 0.4189, 0.4015, 0.3692, 0.1838, 0.2833, 0.2792, 0.3706, 0.2679, 0.1029, 0.2712, 0.2698, 0.1429, 0.3499, 0.1245, 1.3788, 1.2852, 1.037, 1.0301, 1.0025, 0.8598, 0.8391, 0.8048, 0.7627, 0.6735, 0.6623, 0.6248, 0.6102, 0.6015, 0.55, 0.5459, 0.5405, 0.5369, 0.5167, 0.5071, 0.4817, 0.4787, 0.4739, 0.4496, 0.4412, 0.4384, 0.4125, 0.404, 0.3976, 0.3912, 0.3136, 0.3313, 0.2325, 0.3101, -0.1585, 0.1047, 0.1966, 0.1276, 1.3733, 1.1395, 1.1257, 1.0872, 1.069, 1.0082, 0.9683, 0.951, 0.9364, 0.829, 0.8016, 0.7726, 0.7287, 0.7074, 0.6559, 0.6009, 0.5926, 0.5654, 0.5575, 0.5297, 0.5154, 0.5064, 0.503, 0.4995, 0.4977, 0.4843, 0.4755, 0.4747, 0.4662, 0.4587, 0.4202, 0.331, 0.3806, 0.3985, 0.3744, 0.2907, 0.2313, 0.3391, 0.2613, 0.1393, 0.2431, -0.1623, 0.2817, 1.2024, 1.2011, 1.0733, 1.0042, 0.9954, 0.9084, 0.8729, 0.8377, 0.7904, 0.759, 0.7442, 0.714, 0.6904, 0.6785, 0.6674, 0.65, 0.5923, 0.5368, 0.4945, 0.4934, 0.4617, 0.4497, 0.4329, 0.4305, 0.4108, 0.41, 0.3968, 0.3915, 0.3894, 0.375, 0.3733, 0.325, 0.3157, 0.2931, 0.2858, 0.3241, 0.2453, 0.2983, 0.2471, -0.1495, 0.135, 1.6016, 1.358, 1.3516, 1.1324, 0.9142, 0.8755, 0.8743, 0.8697, 0.8583, 0.8275, 0.8175, 0.7658, 0.7295, 0.7116, 0.6729, 0.62, 0.6153, 0.608, 0.6044, 0.5985, 0.5901, 0.5885, 0.585, 0.5702, 0.5612, 0.5169, 0.4927, 0.4794, 0.4607, 0.4506, 0.4418, 0.314, 0.311, 0.1927, -0.052, 0.2069, 0.2865, 0.0633, -0.5301]}, \"token.table\": {\"Topic\": [1, 2, 3, 4, 5, 6, 7, 8, 1, 2, 3, 4, 5, 6, 7, 8, 1, 2, 3, 4, 5, 6, 7, 8, 1, 2, 3, 4, 5, 6, 7, 8, 1, 2, 3, 4, 5, 6, 7, 8, 1, 2, 3, 4, 5, 6, 7, 8, 1, 2, 3, 4, 5, 6, 7, 8, 1, 2, 3, 4, 5, 6, 7, 8, 1, 2, 3, 4, 5, 6, 7, 8, 1, 2, 3, 4, 5, 6, 7, 8, 1, 2, 3, 4, 5, 6, 7, 8, 1, 2, 3, 4, 5, 6, 7, 8, 1, 2, 3, 4, 5, 6, 7, 8, 1, 2, 3, 4, 5, 6, 7, 8, 1, 2, 3, 4, 5, 6, 7, 8, 1, 2, 3, 4, 5, 6, 7, 8, 1, 2, 3, 4, 5, 6, 7, 8, 1, 2, 3, 4, 5, 6, 7, 8, 1, 2, 3, 4, 5, 6, 7, 8, 1, 2, 3, 4, 5, 6, 7, 8, 1, 2, 3, 4, 5, 6, 7, 8, 1, 2, 3, 4, 5, 6, 7, 8, 1, 2, 3, 4, 5, 6, 7, 8, 1, 2, 3, 4, 5, 6, 7, 8, 1, 2, 3, 4, 5, 6, 7, 8, 1, 2, 3, 4, 5, 6, 7, 8, 1, 2, 3, 4, 5, 6, 7, 8, 1, 2, 3, 4, 5, 6, 7, 8, 1, 2, 3, 4, 5, 6, 7, 8, 1, 2, 3, 4, 5, 6, 7, 8, 1, 2, 3, 4, 5, 6, 7, 8, 1, 2, 3, 4, 5, 6, 7, 8, 1, 2, 3, 4, 5, 6, 7, 8, 1, 2, 3, 4, 5, 6, 7, 8, 1, 2, 3, 4, 5, 6, 7, 8, 1, 2, 3, 4, 5, 6, 7, 8, 1, 2, 3, 4, 5, 6, 7, 8, 1, 2, 3, 4, 5, 6, 7, 8, 1, 2, 3, 4, 5, 6, 7, 8, 1, 2, 3, 4, 5, 6, 7, 8, 1, 2, 3, 4, 5, 6, 7, 8, 1, 2, 3, 4, 5, 6, 7, 8, 1, 2, 3, 4, 5, 6, 7, 8, 1, 2, 3, 4, 5, 6, 7, 8, 1, 2, 3, 4, 5, 6, 7, 8, 1, 2, 3, 4, 5, 6, 7, 8, 1, 2, 3, 4, 5, 6, 7, 8, 1, 2, 3, 4, 5, 6, 7, 8, 1, 2, 3, 4, 5, 6, 7, 8, 1, 2, 3, 4, 5, 6, 7, 8, 1, 2, 3, 4, 5, 6, 7, 8, 1, 2, 3, 4, 5, 6, 7, 8, 1, 2, 3, 4, 5, 6, 7, 8, 1, 2, 3, 4, 5, 6, 7, 8, 1, 2, 3, 4, 5, 6, 7, 8, 1, 2, 3, 4, 5, 6, 7, 8, 1, 2, 3, 4, 5, 6, 7, 8, 1, 2, 3, 4, 5, 6, 7, 8, 1, 2, 3, 4, 5, 6, 7, 8, 1, 2, 3, 4, 5, 6, 7, 8, 1, 2, 3, 4, 5, 6, 7, 8, 1, 2, 3, 4, 5, 6, 7, 8, 1, 2, 3, 4, 5, 6, 7, 8, 1, 2, 3, 4, 5, 6, 7, 8, 1, 2, 3, 4, 5, 6, 7, 8, 1, 2, 3, 4, 5, 6, 7, 8, 1, 2, 3, 4, 5, 6, 7, 8, 1, 2, 3, 4, 5, 6, 7, 8, 1, 2, 3, 4, 5, 6, 7, 8, 1, 2, 3, 4, 5, 6, 7, 8, 1, 2, 3, 4, 5, 6, 7, 8, 1, 2, 3, 4, 5, 6, 7, 8, 1, 2, 3, 4, 5, 6, 7, 8, 1, 2, 3, 4, 5, 6, 7, 8, 1, 2, 3, 4, 5, 6, 7, 8, 1, 2, 3, 4, 5, 6, 7, 8, 1, 2, 3, 4, 5, 6, 7, 8, 1, 2, 3, 4, 5, 6, 7, 8, 1, 2, 3, 4, 5, 6, 7, 8, 1, 2, 3, 4, 5, 6, 7, 8, 1, 2, 3, 4, 5, 6, 7, 8, 1, 2, 3, 4, 5, 6, 7, 8, 1, 2, 3, 4, 5, 6, 7, 8, 1, 2, 3, 4, 5, 6, 7, 8, 1, 2, 3, 4, 5, 6, 7, 8, 1, 2, 3, 4, 5, 6, 7, 8, 1, 2, 3, 4, 5, 6, 7, 8, 1, 2, 3, 4, 5, 6, 7, 8, 1, 2, 3, 4, 5, 6, 7, 8, 1, 2, 3, 4, 5, 6, 7, 8, 1, 2, 3, 4, 5, 6, 7, 8, 1, 2, 3, 4, 5, 6, 7, 8, 1, 2, 3, 4, 5, 6, 7, 8, 1, 2, 3, 4, 5, 6, 7, 8, 1, 2, 3, 4, 5, 6, 7, 8, 1, 2, 3, 4, 5, 6, 7, 8, 1, 2, 3, 4, 5, 6, 7, 8, 1, 2, 3, 4, 5, 6, 7, 8, 1, 2, 3, 4, 5, 6, 7, 8, 1, 2, 3, 4, 5, 6, 7, 8, 1, 2, 3, 4, 5, 6, 7, 8, 1, 2, 3, 4, 5, 6, 7, 8, 1, 2, 3, 4, 5, 6, 7, 8, 1, 2, 3, 4, 5, 6, 7, 8, 1, 2, 3, 4, 5, 6, 7, 8, 1, 2, 3, 4, 5, 6, 7, 8, 1, 2, 3, 4, 5, 6, 7, 8, 1, 2, 3, 4, 5, 6, 7, 8, 1, 2, 3, 4, 5, 6, 7, 8, 1, 2, 3, 4, 5, 6, 7, 8, 1, 2, 3, 4, 5, 6, 7, 8, 1, 2, 3, 4, 5, 6, 7, 8, 1, 2, 3, 4, 5, 6, 7, 8, 1, 2, 3, 4, 5, 6, 7, 8, 1, 2, 3, 4, 5, 6, 7, 8, 1, 2, 3, 4, 5, 6, 7, 8, 1, 2, 3, 4, 5, 6, 7, 8, 1, 2, 3, 4, 5, 6, 7, 8, 1, 2, 3, 4, 5, 6, 7, 8, 1, 2, 3, 4, 5, 6, 7, 8, 1, 2, 3, 4, 5, 6, 7, 8, 1, 2, 3, 4, 5, 6, 7, 8, 1, 2, 3, 4, 5, 6, 7, 8, 1, 2, 3, 4, 5, 6, 7, 8, 1, 2, 3, 4, 5, 6, 7, 8, 1, 2, 3, 4, 5, 6, 7, 8, 1, 2, 3, 4, 5, 6, 7, 8, 1, 2, 3, 4, 5, 6, 7, 8, 1, 2, 3, 4, 5, 6, 7, 8, 1, 2, 3, 4, 5, 6, 7, 8, 1, 2, 3, 4, 5, 6, 7, 8, 1, 2, 3, 4, 5, 6, 7, 8, 1, 2, 3, 4, 5, 6, 7, 8, 1, 2, 3, 4, 5, 6, 7, 8, 1, 2, 3, 4, 5, 6, 7, 8, 1, 2, 3, 4, 5, 6, 7, 8, 1, 2, 3, 4, 5, 6, 7, 8, 1, 2, 3, 4, 5, 6, 7, 8, 1, 2, 3, 4, 5, 6, 7, 8, 1, 2, 3, 4, 5, 6, 7, 8, 1, 2, 3, 4, 5, 6, 7, 8, 1, 2, 3, 4, 5, 6, 7, 8, 1, 2, 3, 4, 5, 6, 7, 8, 1, 2, 3, 4, 5, 6, 7, 8, 1, 2, 3, 4, 5, 6, 7, 8, 1, 2, 3, 4, 5, 6, 7, 8, 1, 2, 3, 4, 5, 6, 7, 8, 1, 2, 3, 4, 5, 6, 7, 8, 1, 2, 3, 4, 5, 6, 7, 8, 1, 2, 3, 4, 5, 6, 7, 8, 1, 2, 3, 4, 5, 6, 7, 8, 1, 2, 3, 4, 5, 6, 7, 8, 1, 2, 3, 4, 5, 6, 7, 8, 1, 2, 3, 4, 5, 6, 7, 8, 1, 2, 3, 4, 5, 6, 7, 8, 1, 2, 3, 4, 5, 6, 7, 8, 1, 2, 3, 4, 5, 6, 7, 8, 1, 2, 3, 4, 5, 6, 7, 8, 1, 2, 3, 4, 5, 6, 7, 8, 1, 2, 3, 4, 5, 6, 7, 8, 1, 2, 3, 4, 5, 6, 7, 8, 1, 2, 3, 4, 5, 6, 7, 8, 1, 2, 3, 4, 5, 6, 7, 8, 1, 2, 3, 4, 5, 6, 7, 8, 1, 2, 3, 4, 5, 6, 7, 8, 1, 2, 3, 4, 5, 6, 7, 8, 1, 2, 3, 4, 5, 6, 7, 8, 1, 2, 3, 4, 5, 6, 7, 8, 1, 2, 3, 4, 5, 6, 7, 8, 1, 2, 3, 4, 5, 6, 7, 8, 1, 2, 3, 4, 5, 6, 7, 8, 1, 2, 3, 4, 5, 6, 7, 8, 1, 2, 3, 4, 5, 6, 7, 8, 1, 2, 3, 4, 5, 6, 7, 8, 1, 2, 3, 4, 5, 6, 7, 8], \"Freq\": [0.04884669201367438, 0.14654007604102312, 0.21492544486016726, 0.22469478326290213, 0.09769338402734876, 0.09769338402734876, 0.11723206083281851, 0.04884669201367438, 0.22355752427027517, 0.051098862690348607, 0.25549431345174306, 0.19800809292510085, 0.11497244105328437, 0.038324147017761455, 0.038324147017761455, 0.08303565187181648, 0.18461951106914065, 0.31493916594147525, 0.11945968363297337, 0.09773974115425094, 0.07601979867552851, 0.04343988495744486, 0.09773974115425094, 0.06515982743616729, 0.3570827265087594, 0.12602919759132683, 0.11552676445871626, 0.08401946506088456, 0.1050243313261057, 0.09452189819349513, 0.08401946506088456, 0.04200973253044228, 0.21525501270342765, 0.0789268379912568, 0.25113084815399894, 0.0789268379912568, 0.22960534688365616, 0.05740133672091404, 0.02870066836045702, 0.0645765038110283, 0.12351933945415607, 0.10979496840369428, 0.13724371050461787, 0.21958993680738856, 0.09607059735323249, 0.13724371050461787, 0.16469245260554144, 0.02744874210092357, 0.13813775227285158, 0.11511479356070965, 0.11511479356070965, 0.13813775227285158, 0.14964923162892255, 0.10360331420463868, 0.10360331420463868, 0.1266262729167806, 0.21969116771578215, 0.11983154602679026, 0.28626424884177676, 0.07323038923859405, 0.019971924337798378, 0.09985962168899189, 0.15311808658978757, 0.026629232450397836, 0.12635078823188053, 0.13783722352568786, 0.2182422705823391, 0.2756744470513757, 0.10337791764426589, 0.034459305881421966, 0.04594574117522929, 0.06891861176284393, 0.17565218803529226, 0.06273292429831866, 0.20701865018445156, 0.10037267887730986, 0.11919255616680545, 0.1317391410264692, 0.07527950915798239, 0.11919255616680545, 0.5218825271432982, 0.0673396809217159, 0.08417460115214488, 0.05892222080650141, 0.05892222080650141, 0.0673396809217159, 0.07575714103693039, 0.05892222080650141, 0.1423452221774872, 0.1423452221774872, 0.05337945831655771, 0.0711726110887436, 0.10675891663311542, 0.08896576386092951, 0.2668972915827886, 0.12455206940530132, 0.18309636084582637, 0.0582579329963993, 0.28296710312536805, 0.07490305670965625, 0.14148355156268402, 0.09154818042291318, 0.09154818042291318, 0.07490305670965625, 0.3413045626726939, 0.08238385995547783, 0.09415298280626037, 0.07061473710469528, 0.1765368427617382, 0.10592210565704292, 0.03530736855234764, 0.11769122850782547, 0.18814162562683717, 0.13280585338364978, 0.1660073167295622, 0.13280585338364978, 0.04426861779454992, 0.07747008114046237, 0.09960439003773733, 0.15494016228092475, 0.13642130503327227, 0.06200968410603285, 0.31624938894076754, 0.19843098913930513, 0.04960774728482628, 0.11161743139085913, 0.11161743139085913, 0.02480387364241314, 0.09502715047295288, 0.3061985959684037, 0.09502715047295288, 0.1794957286711332, 0.08446857819818034, 0.05279286137386271, 0.10558572274772542, 0.06335143364863524, 0.23965508381590853, 0.07048678935762015, 0.1409735787152403, 0.14802225765100233, 0.0916328261649062, 0.05638943148609612, 0.1832656523298124, 0.06343811042185814, 0.1294653010691376, 0.0749535953558165, 0.18397700678245868, 0.0749535953558165, 0.21123285963911922, 0.2793724917807706, 0.027255852856660545, 0.02044188964249541, 0.05954012359615594, 0.21831378651923844, 0.0661556928846177, 0.21831378651923844, 0.07938683146154124, 0.21169821723077667, 0.10584910861538833, 0.04630898501923239, 0.08744174086746263, 0.1858136993433581, 0.12023239369276112, 0.16395326412649244, 0.14209282890962677, 0.15302304651805962, 0.09837195847589546, 0.04372087043373132, 0.2518220997730941, 0.1678813998487294, 0.13735750896714224, 0.21366723617111014, 0.045785836322380744, 0.06867875448357112, 0.053416809042777534, 0.053416809042777534, 0.12014447247886792, 0.06469317748862119, 0.32346588744310595, 0.1663538849707402, 0.027725647495123365, 0.11090258998049346, 0.12014447247886792, 0.05545129499024673, 0.13063188498094847, 0.1451465388677205, 0.10160257720740436, 0.17417584664126462, 0.1451465388677205, 0.043543961660316155, 0.07983059637724628, 0.18869050052803665, 0.10086091646244466, 0.15517064071145334, 0.11637798053359, 0.14741210867588067, 0.09310238442687199, 0.2715486212450433, 0.054309724249008665, 0.07758532035572667, 0.10436250630374483, 0.09487500573067711, 0.37950002292270846, 0.028462501719203136, 0.0853875051576094, 0.04743750286533856, 0.0853875051576094, 0.18026251088828651, 0.24974304845280387, 0.11018075667035465, 0.13956229178244922, 0.1689438268945438, 0.13221690800442557, 0.08079922155826007, 0.05876307022418915, 0.06610845400221278, 0.15007532266269158, 0.06003012906507663, 0.3101556668362293, 0.1600803441735377, 0.13006527964099937, 0.07003515057592274, 0.06003012906507663, 0.07003515057592274, 0.1299692928190296, 0.2370028280817599, 0.07645252518766449, 0.06880727266889804, 0.10703353526273028, 0.12232404030026317, 0.19877656548792766, 0.06880727266889804, 0.22791540175987365, 0.26047474486842703, 0.13023737243421352, 0.06511868621710676, 0.05426557184758897, 0.1627967155427669, 0.043412457478071174, 0.06511868621710676, 0.614094778390008, 0.08635707821109488, 0.07196423184257907, 0.04797615456171938, 0.062369000930235195, 0.02398807728085969, 0.0383809236493755, 0.05277377001789132, 0.06323706001891671, 0.04742779501418753, 0.43080247137887007, 0.05533242751655212, 0.04742779501418753, 0.05928474376773441, 0.11856948753546882, 0.17785423130320324, 0.16431566513378626, 0.2527933309750558, 0.08847766584126952, 0.10111733239002231, 0.10111733239002231, 0.07583799929251674, 0.025279333097505578, 0.18959499823129183, 0.0930083562653313, 0.23562116920550596, 0.21081894086808428, 0.16741504127759632, 0.07440668501226504, 0.05580501375919878, 0.0930083562653313, 0.06820612792790962, 0.3807419907824275, 0.021965884083601585, 0.05857569088960423, 0.0732196136120053, 0.04393176816720317, 0.23430276355841692, 0.04393176816720317, 0.1464392272240106, 0.24233967070448217, 0.18175475302836164, 0.030292458838060272, 0.24233967070448217, 0.12116983535224109, 0.015146229419030136, 0.06815803238563561, 0.10602360593321095, 0.10477342702702669, 0.24447132972972896, 0.2584411199999992, 0.0558791610810809, 0.18160727351351294, 0.04190937081081068, 0.04889426594594579, 0.06984895135135114, 0.03175374252654334, 0.46042926663487843, 0.05821519463199612, 0.07938435631635835, 0.07409206589526779, 0.11643038926399224, 0.037046032947633895, 0.14289184136944502, 0.16982037329625196, 0.08491018664812598, 0.14151697774687666, 0.21227546662031496, 0.11321358219750131, 0.07075848887343833, 0.07075848887343833, 0.14151697774687666, 0.074211078264685, 0.1731591826175983, 0.074211078264685, 0.22263323479405497, 0.14842215652937, 0.09894810435291332, 0.15666783189211275, 0.05771972753919944, 0.25175282941281973, 0.26403345523783533, 0.024561251650031195, 0.08596438077510918, 0.04912250330006239, 0.25175282941281973, 0.04298219038755459, 0.03070156456253899, 0.2410074669598031, 0.1678444859184343, 0.05594816197281143, 0.3744223147411227, 0.04303704767139341, 0.012911114301418024, 0.06885927627422946, 0.03442963813711473, 0.5966499579648118, 0.13258887954773596, 0.02651777590954719, 0.06629443977386798, 0.04640610784170759, 0.03314721988693399, 0.039776663864320785, 0.059664995796481185, 0.07770315549768606, 0.3517090196211053, 0.06952387597161383, 0.049075677156433295, 0.2535576653082387, 0.12677883265411935, 0.049075677156433295, 0.02044819881518054, 0.20667257017487053, 0.3838204874676167, 0.08857395864637309, 0.11809861152849746, 0.05904930576424873, 0.03936620384283249, 0.029524652882124365, 0.05904930576424873, 0.29608187005527126, 0.18979607054825082, 0.05314289975351023, 0.19738791337018086, 0.07591842821930032, 0.022775528465790097, 0.07591842821930032, 0.08351027104123036, 0.09745479226993306, 0.25446529092704745, 0.059555706387181315, 0.20032373966597353, 0.11911141277436263, 0.037899085882751746, 0.17866711916154396, 0.05414155126107392, 0.10037073765885338, 0.06387228760108851, 0.23723992537547162, 0.25548915040435405, 0.1733676377743831, 0.054747675086647296, 0.09124612514441216, 0.036498450057764864, 0.10846869406929056, 0.04745505365531462, 0.5152262968291301, 0.08135152055196793, 0.07457222717263726, 0.08135152055196793, 0.0338964668966533, 0.06101364041397594, 0.1045763900361728, 0.11204613218161372, 0.12698561647249554, 0.14192510076337736, 0.037348710727204575, 0.2838502015267547, 0.1493948429088183, 0.044818452872645485, 0.2074205969725785, 0.18065664897611677, 0.21411158397169394, 0.1271287529831933, 0.040145921994692614, 0.04683690899380805, 0.10705579198584697, 0.06690986999115436, 0.15591040212876875, 0.21969193027235595, 0.10630254690597868, 0.1984314208911602, 0.14882356566837016, 0.05669469168318863, 0.05669469168318863, 0.06378152814358722, 0.08080373673937817, 0.13736635245694287, 0.12120560510906725, 0.07272336306544035, 0.42017943104476646, 0.07272336306544035, 0.05656261571756472, 0.03232149469575127, 0.23108744632974962, 0.13061464357768457, 0.08037824220165204, 0.27127656743057565, 0.050236401376032525, 0.13061464357768457, 0.030141840825619517, 0.060283681651239034, 0.1859546657341365, 0.10988230247926248, 0.13523975689755383, 0.1267872720914567, 0.16904969612194226, 0.1267872720914567, 0.042262424030485565, 0.09297733286706825, 0.12569328680422379, 0.2778483181988105, 0.08600066991867944, 0.026461744590362903, 0.29107919049399195, 0.09261610606627016, 0.026461744590362903, 0.06615436147590725, 0.13668782399919877, 0.30934612799818667, 0.18704649599890358, 0.12949372799924094, 0.028776383999831318, 0.043164575999746976, 0.07913505599953613, 0.08632915199949395, 0.13242483383919135, 0.16358361827194226, 0.2025320988128809, 0.21032179492106862, 0.046738176649126356, 0.09347635329825271, 0.09347635329825271, 0.06231756886550181, 0.23868441802293078, 0.14528616749221873, 0.14528616749221873, 0.13490858409991738, 0.051887916961506686, 0.13490858409991738, 0.10377583392301337, 0.020755166784602676, 0.21866060082111313, 0.25965946347507185, 0.19132802571847402, 0.06833143775659786, 0.05466515020527828, 0.06833143775659786, 0.08199772530791744, 0.06833143775659786, 0.1852992732598424, 0.27249893126447416, 0.10899957250578966, 0.1852992732598424, 0.04359982900231586, 0.02179991450115793, 0.09809961525521069, 0.07629970075405276, 0.05560892511767304, 0.39720660798337887, 0.11121785023534608, 0.07944132159667577, 0.12710611455468124, 0.015888264319335155, 0.1747709075126867, 0.03177652863867031, 0.09353485060402607, 0.10203801884075571, 0.1615601964978632, 0.37413940241610427, 0.11054118707748535, 0.059522177657107496, 0.08503168236729643, 0.017006336473459286, 0.13395810339139394, 0.08037486203483636, 0.22326350565232322, 0.10716648271311514, 0.10716648271311514, 0.08037486203483636, 0.2143329654262303, 0.05358324135655757, 0.07798827618914869, 0.30081192244385924, 0.07798827618914869, 0.2785295578183882, 0.06684709387641316, 0.055705911563677636, 0.11141182312735527, 0.03342354693820658, 0.08372971770548797, 0.2740245306725061, 0.05328254763076508, 0.25118915311646395, 0.11417688778021087, 0.10656509526153016, 0.06850613266812652, 0.04567075511208435, 0.09260764797284086, 0.08103169197623575, 0.03472786798981532, 0.35885463589475836, 0.18521529594568173, 0.05787977998302554, 0.052091801984722984, 0.14469944995756384, 0.24812591585925647, 0.09022760576700235, 0.045113802883501176, 0.2594043665801318, 0.11278450720875294, 0.1466198593713788, 0.045113802883501176, 0.05639225360437647, 0.14706852475451906, 0.14706852475451906, 0.05252447312661395, 0.1890881032558102, 0.08403915700258231, 0.23110768175710136, 0.07353426237725953, 0.07353426237725953, 0.31016035676930337, 0.14178759166596727, 0.05317034687473772, 0.18609621406158203, 0.10634069374947544, 0.03544689791649182, 0.08861724479122954, 0.07089379583298364, 0.07499487803042493, 0.08999385363650991, 0.044996926818254956, 0.30497917065706137, 0.17498804873765816, 0.06999521949506327, 0.049996585353616625, 0.1849873658083815, 0.17891008266166936, 0.07454586777569557, 0.10436421488597379, 0.16400090910653026, 0.08945504133083468, 0.07454586777569557, 0.2385467768822258, 0.08945504133083468, 0.06506995370279986, 0.33836375925455925, 0.08459093981363981, 0.06506995370279986, 0.24075882870035947, 0.0910979351839198, 0.019520986110839956, 0.09760493055419979, 0.1034597980548827, 0.12733513606754793, 0.30242094816042636, 0.09550135205066095, 0.11141824405910444, 0.15121047408021318, 0.06366756803377396, 0.03979223002110873, 0.2380149636349738, 0.18361154337555122, 0.10200641298641734, 0.2448153911674016, 0.05440342025942258, 0.02720171012971129, 0.06800427532427823, 0.08160513038913388, 0.20479595243440346, 0.05309524692743793, 0.34132658739067245, 0.11377552913022414, 0.030340141101393103, 0.1289455996809207, 0.10619049385487586, 0.022755105826044827, 0.1860509396548892, 0.17173932891220542, 0.2075183557689149, 0.15027191279817975, 0.042934832228051355, 0.13596030205549595, 0.07155805371341892, 0.03577902685670946, 0.06022431848259583, 0.1104112505514257, 0.06022431848259583, 0.15056079620648957, 0.19071034186155347, 0.14052340979272362, 0.12044863696519166, 0.17063556903402152, 0.29947937391844864, 0.11979174956737945, 0.046585680387314234, 0.2528936935311344, 0.11979174956737945, 0.059895874783689726, 0.046585680387314234, 0.059895874783689726, 0.32655762463937016, 0.14638790070040733, 0.12386668520803697, 0.14638790070040733, 0.07882425422329625, 0.056303038730925896, 0.03378182323855554, 0.09008486196948143, 0.11508815842504594, 0.08800859173679984, 0.2911053418986456, 0.08800859173679984, 0.1827870751456612, 0.08123870006473831, 0.05415913337649221, 0.09477848340886136, 0.03873797116127753, 0.09407792996310256, 0.06640795056219005, 0.4980596292164253, 0.03873797116127753, 0.09961192584328507, 0.10514592172346757, 0.06087395468200754, 0.24809220809567117, 0.1882078820036126, 0.11121374845668018, 0.1882078820036126, 0.034219614909747745, 0.05132942236462162, 0.11976865218411711, 0.05988432609205856, 0.2741983120671787, 0.13709915603358935, 0.15233239559287706, 0.13709915603358935, 0.1294825362539455, 0.03046647911857541, 0.053316338457506975, 0.08378281757608239, 0.16644836220550624, 0.13078085601861203, 0.05944584364482365, 0.2377833745792946, 0.13078085601861203, 0.10700251856068257, 0.09511334983171785, 0.07133501237378838, 0.32515321800675434, 0.38155734766098726, 0.006635779959321518, 0.04313256973558986, 0.08958302945084048, 0.07631146953219746, 0.02986100981694683, 0.04645045971525062, 0.06643512702313395, 0.42813748526019657, 0.09596185014452682, 0.05167176546243752, 0.11072521170522326, 0.07381680780348217, 0.1254885732659197, 0.0442900846820893, 0.10495297509328168, 0.23789341021143845, 0.13993730012437555, 0.2238996801990009, 0.05597492004975022, 0.11194984009950044, 0.06996865006218778, 0.06297178505596901, 0.08219531537585341, 0.1232929730637801, 0.2876836038154869, 0.030823243265945027, 0.16439063075170682, 0.06164648653189005, 0.11301855864179844, 0.1232929730637801, 0.20338919579849302, 0.0957125627287026, 0.07178442204652695, 0.0957125627287026, 0.20338919579849302, 0.10767663306979042, 0.0478562813643513, 0.1914251254574052, 0.22522902484326915, 0.02937769889260032, 0.09792566297533441, 0.2643992900334029, 0.12730336186793473, 0.13709592816546817, 0.048962831487667204, 0.06854796408273409, 0.06538195523517605, 0.29421879855829225, 0.04576736866462324, 0.10461112837628168, 0.38575353588753875, 0.03922917314110563, 0.019614586570552817, 0.04576736866462324, 0.13084984674283429, 0.06198150635186888, 0.37188903811121327, 0.13084984674283429, 0.04820783827367579, 0.13084984674283429, 0.06198150635186888, 0.06886834039096541, 0.21599289409700317, 0.05815193302611624, 0.10799644704850159, 0.0913816090410398, 0.04984451402238534, 0.3572190171604283, 0.06645935202984712, 0.04984451402238534, 0.14826061967177256, 0.2560865248876072, 0.13478238151979324, 0.28304300119156584, 0.04043471445593797, 0.06739119075989662, 0.04043471445593797, 0.04043471445593797, 0.2392982622753641, 0.08904121386990292, 0.1502570484054612, 0.20034273120728158, 0.10573644147050973, 0.050085682801820394, 0.10573644147050973, 0.06121583453555826, 0.21097052574594322, 0.11720584763663512, 0.3457572505280736, 0.03516175429099054, 0.09962497049113986, 0.11720584763663512, 0.02930146190915878, 0.0410220466728223, 0.2374896516211572, 0.07124689548634716, 0.28498758194538865, 0.13061930839163646, 0.09499586064846288, 0.0593724129052893, 0.03562344774317358, 0.08312137806740502, 0.05133491873726902, 0.2258736424439837, 0.19507269120162227, 0.10266983747453803, 0.030800951242361412, 0.26694157743379887, 0.05133491873726902, 0.07186888623217663, 0.1459247296453426, 0.04864157654844753, 0.3242771769896502, 0.1783524473443076, 0.09728315309689506, 0.04864157654844753, 0.12971087079586008, 0.01621385884948251, 0.16267969528535697, 0.09295982587734683, 0.09295982587734683, 0.29049945586670883, 0.13943973881602026, 0.06971986940801013, 0.05809989117334177, 0.10457980411201519, 0.14530967337199055, 0.1695279522673223, 0.21796451005798584, 0.04843655779066352, 0.0605456972383294, 0.15741881281965645, 0.03632741834299764, 0.15741881281965645, 0.2992278081763411, 0.16208172942885143, 0.1745495547695323, 0.09974260272544704, 0.08727477738476615, 0.04987130136272352, 0.0623391267034044, 0.07480695204408527, 0.19171282763691902, 0.14378462072768927, 0.2738754680527415, 0.16432528083164488, 0.04108132020791122, 0.06846886701318537, 0.05477509361054829, 0.05477509361054829, 0.02457954748720418, 0.45717958326199776, 0.054075004471849195, 0.054075004471849195, 0.24579547487204179, 0.10323409944625755, 0.0049159094974408355, 0.04915909497440836, 0.2452885918081712, 0.18954118457904137, 0.06689688867495579, 0.07804637012078175, 0.1560927402415635, 0.033448444337477894, 0.07804637012078175, 0.14494325879573752, 0.2728990376785218, 0.1679378693406288, 0.0559792897802096, 0.244909392788417, 0.0559792897802096, 0.0139948224450524, 0.1119585795604192, 0.069974112225262, 0.04194571261324865, 0.18575958443010115, 0.44342610476862854, 0.017976733977106564, 0.10786040386263938, 0.05992244659035521, 0.07789918056746177, 0.07190693590842626, 0.12441687306593725, 0.21224054817130472, 0.19028462939496285, 0.12441687306593725, 0.16101007102650702, 0.029274558368455824, 0.0658677563290256, 0.09514231469748143, 0.14493502616070383, 0.21050087132864126, 0.06901667912414468, 0.17944336572277617, 0.14493502616070383, 0.020705003737243405, 0.1932467015476051, 0.03795917351827957, 0.285035333081208, 0.13866583771518226, 0.10014754946096496, 0.10014754946096496, 0.16177681066771263, 0.07703657650843458, 0.07703657650843458, 0.05392560355590421, 0.08501085626820587, 0.1275162844023088, 0.2656589258381433, 0.05313178516762867, 0.2975379969387205, 0.07438449923468013, 0.0318790711005772, 0.0637581422011544, 0.05954982950250565, 0.5359484655225508, 0.22331186063439618, 0.05954982950250565, 0.007443728687813206, 0.022331186063439618, 0.05954982950250565, 0.029774914751252823, 0.07271740511520074, 0.25451091790320257, 0.19391308030720197, 0.012119567519200123, 0.19391308030720197, 0.08483697263440086, 0.16967394526880172, 0.012119567519200123, 0.27244915240984685, 0.10632162045262317, 0.09967651917433422, 0.15948243067893475, 0.13290202556577896, 0.13290202556577896, 0.046515708948022635, 0.05980591150460053, 0.1889517264896525, 0.1749553023052338, 0.10497318138314027, 0.27992848368837403, 0.07698033301430286, 0.034991060461046754, 0.06998212092209351, 0.06998212092209351, 0.10139014138303437, 0.22305831104267562, 0.060834084829820625, 0.13180718379794468, 0.08111211310642749, 0.08111211310642749, 0.26361436759588935, 0.040556056553213746, 0.167777694187849, 0.06990737257827041, 0.11185179612523266, 0.1328240078987138, 0.1328240078987138, 0.03495368628913521, 0.04893516080478929, 0.3006017020865628, 0.18030681690173467, 0.16828636244161901, 0.09015340845086733, 0.06611249953063604, 0.3005113615028911, 0.05409204507052039, 0.10818409014104079, 0.036061363380346934, 0.281461505365754, 0.12384306236093175, 0.10132614193167143, 0.15761844300482222, 0.045033840858520635, 0.19139382364871269, 0.033775380643890476, 0.06755076128778095, 0.1988663106448094, 0.21416371915594856, 0.07648704255569591, 0.12237926808911347, 0.0917844510668351, 0.06118963404455673, 0.15297408511139182, 0.07648704255569591, 0.13059026876357957, 0.06529513438178979, 0.2693424293248829, 0.22853297033626424, 0.07345702617951351, 0.07345702617951351, 0.10610459337040841, 0.04080945898861862, 0.07895099721524844, 0.11842649582287265, 0.1973774930381211, 0.2368529916457453, 0.16777086908240293, 0.03947549860762422, 0.07895099721524844, 0.07895099721524844, 0.15347929772206537, 0.036112775934603616, 0.27987401349317803, 0.10833832780381085, 0.13542290975476357, 0.13542290975476357, 0.09028193983650903, 0.054169163901905425, 0.1333746710916154, 0.16513054516104764, 0.2921540414387766, 0.10161879702218315, 0.10161879702218315, 0.05716057332497803, 0.04445822369720513, 0.10796997183606961, 0.19736830200132138, 0.11662672390987174, 0.13456929681908275, 0.1525118697282938, 0.017942572909211037, 0.06279900518223862, 0.07177029163684415, 0.24222473427434899, 0.2001562935654684, 0.18153710346635507, 0.01861919009911334, 0.16757271089202005, 0.1349891282185717, 0.032583582673448346, 0.21877548366458174, 0.04654797524778335, 0.2348559902286282, 0.10065256724084065, 0.15936656479799768, 0.2516314181021016, 0.050326283620420326, 0.07548942543063049, 0.06710171149389377, 0.050326283620420326, 0.1344564227475797, 0.104577217692562, 0.41083906950649357, 0.08216781390129871, 0.029879205055017715, 0.09710741642880757, 0.08963761516505314, 0.052288608846281, 0.17998517811412085, 0.12856084151008632, 0.27426312855485085, 0.03428289106935636, 0.11999011874274723, 0.19712662364879904, 0.025712168302017266, 0.04285361383669544, 0.09888588725304917, 0.15705405622543103, 0.27920721106743296, 0.0872522534585728, 0.08143543656133462, 0.0872522534585728, 0.04071771828066731, 0.16287087312266924, 0.1511362740855521, 0.25189379014258684, 0.12090901926844168, 0.21159078371977294, 0.11083326766273821, 0.020151503211406945, 0.03022725481711042, 0.10075751605703473, 0.2024925095283137, 0.1196546647212763, 0.2761261493567914, 0.1196546647212763, 0.027612614935679146, 0.14726727965695544, 0.08283784480703743, 0.027612614935679146, 0.060118555917600756, 0.44086941006240554, 0.17033590843320215, 0.050098796598000636, 0.020039518639200254, 0.030059277958800378, 0.09017783387640115, 0.13025687115480164, 0.11218317951636138, 0.1794930872261782, 0.2692396308392673, 0.052352150440968644, 0.06730990770981682, 0.022436635903272276, 0.17201420859175412, 0.13461981541963364, 0.024139088324092787, 0.3017386040511599, 0.14483452994455673, 0.2051822507547887, 0.09655635329637115, 0.06034772081023197, 0.10862589745841754, 0.06034772081023197, 0.04616948624715656, 0.21545760248673063, 0.20006777373767842, 0.07694914374526093, 0.10003388686883921, 0.14620337311599577, 0.061559314996208744, 0.1385084587414697, 0.11730861379917394, 0.24194901596079627, 0.08798146034938045, 0.16863113233631255, 0.1832947090612093, 0.043990730174690226, 0.05865430689958697, 0.1026450370742772, 0.08029837487699562, 0.21680561216788816, 0.08029837487699562, 0.11241772482779386, 0.04817902492619737, 0.04014918743849781, 0.032119349950798244, 0.38543219940957896, 0.12996428605901209, 0.20422959237844757, 0.03713265315971774, 0.11139795947915322, 0.17638010250865926, 0.1531721942838357, 0.11139795947915322, 0.07426530631943548, 0.09325877105887843, 0.5093363650138746, 0.043042509719482355, 0.12912752915844705, 0.021521254859741178, 0.021521254859741178, 0.12195377753853334, 0.05739001295930981, 0.07044027392553014, 0.2582810043936105, 0.16436063915957033, 0.11740045654255023, 0.16436063915957033, 0.07044027392553014, 0.11740045654255023, 0.058700228271275114, 0.21878283490610342, 0.035005253584976546, 0.05250788037746482, 0.2100315215098593, 0.14877232773615034, 0.1662749545286386, 0.035005253584976546, 0.14002101433990619, 0.20911972189272393, 0.05808881163686776, 0.1510309102558562, 0.23235524654747103, 0.16264867258322974, 0.05808881163686776, 0.08132433629161487, 0.05808881163686776, 0.16848674516768983, 0.22866058272757905, 0.07220860507186708, 0.09627814009582276, 0.12034767511977845, 0.14441721014373415, 0.09627814009582276, 0.060173837559889226, 0.10317869513142917, 0.06305364702476228, 0.09171439567238149, 0.4986970264685744, 0.05732149729523843, 0.12037514432000071, 0.028660748647619215, 0.0401250481066669, 0.22053031225098055, 0.2532014696214962, 0.06534231474103128, 0.040838946713144544, 0.09801347211154691, 0.08167789342628909, 0.10618126145417582, 0.13885241882469146, 0.13730701742160037, 0.10298026306620027, 0.07551885958188019, 0.2677486839721207, 0.10298026306620027, 0.07551885958188019, 0.12357631567944032, 0.10298026306620027, 0.07166131180993529, 0.07166131180993529, 0.25798072251576704, 0.07166131180993529, 0.04299678708596117, 0.24364846015377997, 0.05732904944794823, 0.2006516730678188, 0.10376345840044704, 0.3112903752013411, 0.04150538336017882, 0.11413980424049175, 0.09338711256040234, 0.15564518760067056, 0.10376345840044704, 0.06225807504026822, 0.22339090479110968, 0.04467818095822194, 0.31274726670755354, 0.1898822690724432, 0.05584772619777742, 0.07818681667688838, 0.04467818095822194, 0.04467818095822194, 0.11489456874970409, 0.24127859437437857, 0.034468370624911225, 0.32170479249917144, 0.045957827499881636, 0.057447284374852046, 0.08042619812479286, 0.10340511187473368, 0.27603357120575855, 0.10801313655877508, 0.10801313655877508, 0.18002189426462514, 0.15601897502934178, 0.09601167694113341, 0.036004378852925026, 0.048005838470566706, 0.13901308430791262, 0.1886606144178814, 0.12908357828591885, 0.1191540722639251, 0.08936555419794383, 0.08936555419794383, 0.10922456624193135, 0.13901308430791262, 0.17944315845307024, 0.09570301784163747, 0.11962877230204683, 0.23925754460409365, 0.11962877230204683, 0.023925754460409367, 0.1435545267624562, 0.09570301784163747, 0.2401358800528366, 0.14408152803170196, 0.15368696323381542, 0.15368696323381542, 0.06723804641479424, 0.11526522242536155, 0.07684348161690771, 0.048027176010567316, 0.08335642566632558, 0.09169206823295813, 0.2750762046988744, 0.20839106416581393, 0.16671285133265115, 0.050013855399795346, 0.016671285133265115, 0.10002771079959069, 0.22455647152535047, 0.13333040496817683, 0.2526260304660193, 0.14736518443851124, 0.056139117881337616, 0.06315650761650482, 0.056139117881337616, 0.07017389735167202, 0.13658819772894135, 0.13658819772894135, 0.05463527909157654, 0.36878813386814163, 0.10244114829670602, 0.05463527909157654, 0.02731763954578827, 0.12292937795604722, 0.14465069073098008, 0.04402412326595046, 0.3521929861276037, 0.17609649306380185, 0.03773496279938611, 0.13836153026441575, 0.056602444199079165, 0.05031328373251481, 0.10567781809250726, 0.09511003628325654, 0.38044014513302615, 0.17965229075726236, 0.04227112723700291, 0.10567781809250726, 0.07397447266475508, 0.03170334542775218, 0.1957022011692821, 0.1276318703277927, 0.22973736659002683, 0.1276318703277927, 0.06807033084148943, 0.14464945303816504, 0.0765791221966756, 0.025526374065558535, 0.16812545266466947, 0.030022402261548117, 0.4323225925662929, 0.04203136316616737, 0.07205376542771548, 0.12008960904619247, 0.04803584361847699, 0.08406272633233473, 0.27092420878324436, 0.06539549867181761, 0.08407992686376549, 0.04671107047986972, 0.04671107047986972, 0.09342214095973944, 0.10276435505571338, 0.2989508510711662, 0.1568774775361426, 0.0784387387680713, 0.2451210586502228, 0.1470726351901337, 0.0882435811140802, 0.18629200457416933, 0.058829054076053475, 0.03921936938403565, 0.21869511067211012, 0.05301699652657215, 0.2849663563303253, 0.11928824218478733, 0.12591536675060885, 0.06627124565821518, 0.08615261935567974, 0.03976274739492911, 0.15440216095620904, 0.3455667411877059, 0.13234470939103632, 0.08822980626069087, 0.04411490313034543, 0.12499222553597873, 0.05881987084046058, 0.051467386985403006, 0.07573592547743888, 0.18933981369359718, 0.18933981369359718, 0.12622654246239812, 0.11360388821615831, 0.16409450520111757, 0.08835857972367868, 0.05049061698495925, 0.22404532568702112, 0.07907482083071334, 0.07248525242815389, 0.17791834686910502, 0.19768705207678336, 0.11861223124607001, 0.03953741041535667, 0.08566438923327278, 0.12046888663713454, 0.06692715924285252, 0.12046888663713454, 0.3480212280628331, 0.08031259109142302, 0.10708345478856403, 0.10708345478856403, 0.053541727394282014, 0.13131697392210642, 0.13131697392210642, 0.1823846860029256, 0.14590774880234048, 0.05836309952093619, 0.1532031362424575, 0.13131697392210642, 0.06565848696105321, 0.1873912395352909, 0.06246374651176364, 0.27484048465176003, 0.09994199441882182, 0.14991299162823274, 0.11243474372117454, 0.037478247907058185, 0.07495649581411637, 0.08577328642252814, 0.14035628687322788, 0.1637490013520992, 0.13255871538027075, 0.11696357239435655, 0.2027368588168847, 0.11696357239435655, 0.038987857464785516, 0.22565912860693335, 0.09026365144277335, 0.1466784335945067, 0.19181025931589335, 0.05641478215173334, 0.1805273028855467, 0.04513182572138667, 0.06769773858208, 0.15631565802638778, 0.2131577154905288, 0.09947360056224677, 0.15631565802638778, 0.12789462929431727, 0.04263154309810576, 0.12789462929431727, 0.07105257183017627], \"Term\": [\"access\", \"access\", \"access\", \"access\", \"access\", \"access\", \"access\", \"access\", \"account\", \"account\", \"account\", \"account\", \"account\", \"account\", \"account\", \"account\", \"across\", \"across\", \"across\", \"across\", \"across\", \"across\", \"across\", \"across\", \"act\", \"act\", \"act\", \"act\", \"act\", \"act\", \"act\", \"act\", \"address\", \"address\", \"address\", \"address\", \"address\", \"address\", \"address\", \"address\", \"again\", \"again\", \"again\", \"again\", \"again\", \"again\", \"again\", \"again\", \"already\", \"already\", \"already\", \"already\", \"already\", \"already\", \"already\", \"already\", \"american\", \"american\", \"american\", \"american\", \"american\", \"american\", \"american\", \"american\", \"among\", \"among\", \"among\", \"among\", \"among\", \"among\", \"among\", \"among\", \"any\", \"any\", \"any\", \"any\", \"any\", \"any\", \"any\", \"any\", \"attack\", \"attack\", \"attack\", \"attack\", \"attack\", \"attack\", \"attack\", \"attack\", \"available\", \"available\", \"available\", \"available\", \"available\", \"available\", \"available\", \"available\", \"back\", \"back\", \"back\", \"back\", \"back\", \"back\", \"back\", \"back\", \"barack\", \"barack\", \"barack\", \"barack\", \"barack\", \"barack\", \"barack\", \"barack\", \"based\", \"based\", \"based\", \"based\", \"based\", \"based\", \"based\", \"based\", \"because\", \"because\", \"because\", \"because\", \"because\", \"because\", \"because\", \"because\", \"become\", \"become\", \"become\", \"become\", \"become\", \"become\", \"become\", \"become\", \"being\", \"being\", \"being\", \"being\", \"being\", \"being\", \"being\", \"being\", \"below\", \"below\", \"below\", \"below\", \"below\", \"below\", \"below\", \"below\", \"best\", \"best\", \"best\", \"best\", \"best\", \"best\", \"best\", \"best\", \"better\", \"better\", \"better\", \"better\", \"better\", \"better\", \"better\", \"better\", \"between\", \"between\", \"between\", \"between\", \"between\", \"between\", \"between\", \"between\", \"big\", \"big\", \"big\", \"big\", \"big\", \"big\", \"big\", \"big\", \"billion\", \"billion\", \"billion\", \"billion\", \"billion\", \"billion\", \"billion\", \"billion\", \"book\", \"book\", \"book\", \"book\", \"book\", \"book\", \"book\", \"book\", \"building\", \"building\", \"building\", \"building\", \"building\", \"building\", \"building\", \"building\", \"call\", \"call\", \"call\", \"call\", \"call\", \"call\", \"call\", \"call\", \"called\", \"called\", \"called\", \"called\", \"called\", \"called\", \"called\", \"called\", \"challenge\", \"challenge\", \"challenge\", \"challenge\", \"challenge\", \"challenge\", \"challenge\", \"challenge\", \"child\", \"child\", \"child\", \"child\", \"child\", \"child\", \"child\", \"child\", \"china\", \"china\", \"china\", \"china\", \"china\", \"china\", \"china\", \"china\", \"city\", \"city\", \"city\", \"city\", \"city\", \"city\", \"city\", \"city\", \"close\", \"close\", \"close\", \"close\", \"close\", \"close\", \"close\", \"close\", \"co\", \"co\", \"co\", \"co\", \"co\", \"co\", \"co\", \"co\", \"comment\", \"comment\", \"comment\", \"comment\", \"comment\", \"comment\", \"comment\", \"comment\", \"commitment\", \"commitment\", \"commitment\", \"commitment\", \"commitment\", \"commitment\", \"commitment\", \"commitment\", \"community\", \"community\", \"community\", \"community\", \"community\", \"community\", \"community\", \"community\", \"company\", \"company\", \"company\", \"company\", \"company\", \"company\", \"company\", \"company\", \"condition\", \"condition\", \"condition\", \"condition\", \"condition\", \"condition\", \"condition\", \"condition\", \"covid\", \"covid\", \"covid\", \"covid\", \"covid\", \"covid\", \"covid\", \"covid\", \"culture\", \"culture\", \"culture\", \"culture\", \"culture\", \"culture\", \"culture\", \"culture\", \"deal\", \"deal\", \"deal\", \"deal\", \"deal\", \"deal\", \"deal\", \"deal\", \"dec\", \"dec\", \"dec\", \"dec\", \"dec\", \"dec\", \"dec\", \"dec\", \"december\", \"december\", \"december\", \"december\", \"december\", \"december\", \"december\", \"december\", \"developed\", \"developed\", \"developed\", \"developed\", \"developed\", \"developed\", \"developed\", \"developed\", \"developing\", \"developing\", \"developing\", \"developing\", \"developing\", \"developing\", \"developing\", \"developing\", \"development\", \"development\", \"development\", \"development\", \"development\", \"development\", \"development\", \"development\", \"doe\", \"doe\", \"doe\", \"doe\", \"doe\", \"doe\", \"doe\", \"doe\", \"don\", \"don\", \"don\", \"don\", \"don\", \"don\", \"don\", \"don\", \"down\", \"down\", \"down\", \"down\", \"down\", \"down\", \"down\", \"down\", \"during\", \"during\", \"during\", \"during\", \"during\", \"during\", \"during\", \"during\", \"economic\", \"economic\", \"economic\", \"economic\", \"economic\", \"economic\", \"economic\", \"economic\", \"education\", \"education\", \"education\", \"education\", \"education\", \"education\", \"education\", \"education\", \"effect\", \"effect\", \"effect\", \"effect\", \"effect\", \"effect\", \"effect\", \"effect\", \"end\", \"end\", \"end\", \"end\", \"end\", \"end\", \"end\", \"end\", \"entertainment\", \"entertainment\", \"entertainment\", \"entertainment\", \"entertainment\", \"entertainment\", \"entertainment\", \"entertainment\", \"environmental\", \"environmental\", \"environmental\", \"environmental\", \"environmental\", \"environmental\", \"environmental\", \"environmental\", \"even\", \"even\", \"even\", \"even\", \"even\", \"even\", \"even\", \"even\", \"every\", \"every\", \"every\", \"every\", \"every\", \"every\", \"every\", \"every\", \"face\", \"face\", \"face\", \"face\", \"face\", \"face\", \"face\", \"face\", \"fight\", \"fight\", \"fight\", \"fight\", \"fight\", \"fight\", \"fight\", \"fight\", \"financial\", \"financial\", \"financial\", \"financial\", \"financial\", \"financial\", \"financial\", \"financial\", \"find\", \"find\", \"find\", \"find\", \"find\", \"find\", \"find\", \"find\", \"five\", \"five\", \"five\", \"five\", \"five\", \"five\", \"five\", \"five\", \"focus\", \"focus\", \"focus\", \"focus\", \"focus\", \"focus\", \"focus\", \"focus\", \"food\", \"food\", \"food\", \"food\", \"food\", \"food\", \"food\", \"food\", \"fossil\", \"fossil\", \"fossil\", \"fossil\", \"fossil\", \"fossil\", \"fossil\", \"fossil\", \"france\", \"france\", \"france\", \"france\", \"france\", \"france\", \"france\", \"france\", \"free\", \"free\", \"free\", \"free\", \"free\", \"free\", \"free\", \"free\", \"french\", \"french\", \"french\", \"french\", \"french\", \"french\", \"french\", \"french\", \"fuel\", \"fuel\", \"fuel\", \"fuel\", \"fuel\", \"fuel\", \"fuel\", \"fuel\", \"full\", \"full\", \"full\", \"full\", \"full\", \"full\", \"full\", \"full\", \"fund\", \"fund\", \"fund\", \"fund\", \"fund\", \"fund\", \"fund\", \"fund\", \"go\", \"go\", \"go\", \"go\", \"go\", \"go\", \"go\", \"go\", \"goal\", \"goal\", \"goal\", \"goal\", \"goal\", \"goal\", \"goal\", \"goal\", \"going\", \"going\", \"going\", \"going\", \"going\", \"going\", \"going\", \"going\", \"good\", \"good\", \"good\", \"good\", \"good\", \"good\", \"good\", \"good\", \"green\", \"green\", \"green\", \"green\", \"green\", \"green\", \"green\", \"green\", \"greenhouse\", \"greenhouse\", \"greenhouse\", \"greenhouse\", \"greenhouse\", \"greenhouse\", \"greenhouse\", \"greenhouse\", \"hope\", \"hope\", \"hope\", \"hope\", \"hope\", \"hope\", \"hope\", \"hope\", \"house\", \"house\", \"house\", \"house\", \"house\", \"house\", \"house\", \"house\", \"human\", \"human\", \"human\", \"human\", \"human\", \"human\", \"human\", \"human\", \"important\", \"important\", \"important\", \"important\", \"important\", \"important\", \"important\", \"important\", \"including\", \"including\", \"including\", \"including\", \"including\", \"including\", \"including\", \"including\", \"increase\", \"increase\", \"increase\", \"increase\", \"increase\", \"increase\", \"increase\", \"increase\", \"india\", \"india\", \"india\", \"india\", \"india\", \"india\", \"india\", \"india\", \"industry\", \"industry\", \"industry\", \"industry\", \"industry\", \"industry\", \"industry\", \"industry\", \"information\", \"information\", \"information\", \"information\", \"information\", \"information\", \"information\", \"information\", \"job\", \"job\", \"job\", \"job\", \"job\", \"job\", \"job\", \"job\", \"join\", \"join\", \"join\", \"join\", \"join\", \"join\", \"join\", \"join\", \"keep\", \"keep\", \"keep\", \"keep\", \"keep\", \"keep\", \"keep\", \"keep\", \"key\", \"key\", \"key\", \"key\", \"key\", \"key\", \"key\", \"key\", \"know\", \"know\", \"know\", \"know\", \"know\", \"know\", \"know\", \"know\", \"le\", \"le\", \"le\", \"le\", \"le\", \"le\", \"le\", \"le\", \"legal\", \"legal\", \"legal\", \"legal\", \"legal\", \"legal\", \"legal\", \"legal\", \"level\", \"level\", \"level\", \"level\", \"level\", \"level\", \"level\", \"level\", \"life\", \"life\", \"life\", \"life\", \"life\", \"life\", \"life\", \"life\", \"log\", \"log\", \"log\", \"log\", \"log\", \"log\", \"log\", \"log\", \"look\", \"look\", \"look\", \"look\", \"look\", \"look\", \"look\", \"look\", \"looking\", \"looking\", \"looking\", \"looking\", \"looking\", \"looking\", \"looking\", \"looking\", \"low\", \"low\", \"low\", \"low\", \"low\", \"low\", \"low\", \"low\", \"main\", \"main\", \"main\", \"main\", \"main\", \"main\", \"main\", \"main\", \"major\", \"major\", \"major\", \"major\", \"major\", \"major\", \"major\", \"major\", \"many\", \"many\", \"many\", \"many\", \"many\", \"many\", \"many\", \"many\", \"market\", \"market\", \"market\", \"market\", \"market\", \"market\", \"market\", \"market\", \"meet\", \"meet\", \"meet\", \"meet\", \"meet\", \"meet\", \"meet\", \"meet\", \"meeting\", \"meeting\", \"meeting\", \"meeting\", \"meeting\", \"meeting\", \"meeting\", \"meeting\", \"member\", \"member\", \"member\", \"member\", \"member\", \"member\", \"member\", \"member\", \"million\", \"million\", \"million\", \"million\", \"million\", \"million\", \"million\", \"million\", \"minister\", \"minister\", \"minister\", \"minister\", \"minister\", \"minister\", \"minister\", \"minister\", \"monday\", \"monday\", \"monday\", \"monday\", \"monday\", \"monday\", \"monday\", \"monday\", \"money\", \"money\", \"money\", \"money\", \"money\", \"money\", \"money\", \"money\", \"natural\", \"natural\", \"natural\", \"natural\", \"natural\", \"natural\", \"natural\", \"natural\", \"network\", \"network\", \"network\", \"network\", \"network\", \"network\", \"network\", \"network\", \"newsletter\", \"newsletter\", \"newsletter\", \"newsletter\", \"newsletter\", \"newsletter\", \"newsletter\", \"newsletter\", \"nov\", \"nov\", \"nov\", \"nov\", \"nov\", \"nov\", \"nov\", \"nov\", \"online\", \"online\", \"online\", \"online\", \"online\", \"online\", \"online\", \"online\", \"open\", \"open\", \"open\", \"open\", \"open\", \"open\", \"open\", \"open\", \"opinion\", \"opinion\", \"opinion\", \"opinion\", \"opinion\", \"opinion\", \"opinion\", \"opinion\", \"own\", \"own\", \"own\", \"own\", \"own\", \"own\", \"own\", \"own\", \"partner\", \"partner\", \"partner\", \"partner\", \"partner\", \"partner\", \"partner\", \"partner\", \"party\", \"party\", \"party\", \"party\", \"party\", \"party\", \"party\", \"party\", \"per\", \"per\", \"per\", \"per\", \"per\", \"per\", \"per\", \"per\", \"place\", \"place\", \"place\", \"place\", \"place\", \"place\", \"place\", \"place\", \"plan\", \"plan\", \"plan\", \"plan\", \"plan\", \"plan\", \"plan\", \"plan\", \"planet\", \"planet\", \"planet\", \"planet\", \"planet\", \"planet\", \"planet\", \"planet\", \"pm\", \"pm\", \"pm\", \"pm\", \"pm\", \"pm\", \"pm\", \"pm\", \"point\", \"point\", \"point\", \"point\", \"point\", \"point\", \"point\", \"point\", \"political\", \"political\", \"political\", \"political\", \"political\", \"political\", \"political\", \"political\", \"post\", \"post\", \"post\", \"post\", \"post\", \"post\", \"post\", \"post\", \"power\", \"power\", \"power\", \"power\", \"power\", \"power\", \"power\", \"power\", \"press\", \"press\", \"press\", \"press\", \"press\", \"press\", \"press\", \"press\", \"problem\", \"problem\", \"problem\", \"problem\", \"problem\", \"problem\", \"problem\", \"problem\", \"program\", \"program\", \"program\", \"program\", \"program\", \"program\", \"program\", \"program\", \"project\", \"project\", \"project\", \"project\", \"project\", \"project\", \"project\", \"project\", \"provide\", \"provide\", \"provide\", \"provide\", \"provide\", \"provide\", \"provide\", \"provide\", \"real\", \"real\", \"real\", \"real\", \"real\", \"real\", \"real\", \"real\", \"reduce\", \"reduce\", \"reduce\", \"reduce\", \"reduce\", \"reduce\", \"reduce\", \"reduce\", \"renewable\", \"renewable\", \"renewable\", \"renewable\", \"renewable\", \"renewable\", \"renewable\", \"renewable\", \"research\", \"research\", \"research\", \"research\", \"research\", \"research\", \"research\", \"research\", \"resource\", \"resource\", \"resource\", \"resource\", \"resource\", \"resource\", \"resource\", \"resource\", \"result\", \"result\", \"result\", \"result\", \"result\", \"result\", \"result\", \"result\", \"review\", \"review\", \"review\", \"review\", \"review\", \"review\", \"review\", \"review\", \"rise\", \"rise\", \"rise\", \"rise\", \"rise\", \"rise\", \"rise\", \"rise\", \"risk\", \"risk\", \"risk\", \"risk\", \"risk\", \"risk\", \"risk\", \"risk\", \"scientist\", \"scientist\", \"scientist\", \"scientist\", \"scientist\", \"scientist\", \"scientist\", \"scientist\", \"security\", \"security\", \"security\", \"security\", \"security\", \"security\", \"security\", \"security\", \"set\", \"set\", \"set\", \"set\", \"set\", \"set\", \"set\", \"set\", \"skip\", \"skip\", \"skip\", \"skip\", \"skip\", \"skip\", \"skip\", \"skip\", \"social\", \"social\", \"social\", \"social\", \"social\", \"social\", \"social\", \"social\", \"something\", \"something\", \"something\", \"something\", \"something\", \"something\", \"something\", \"something\", \"source\", \"source\", \"source\", \"source\", \"source\", \"source\", \"source\", \"source\", \"special\", \"special\", \"special\", \"special\", \"special\", \"special\", \"special\", \"special\", \"statement\", \"statement\", \"statement\", \"statement\", \"statement\", \"statement\", \"statement\", \"statement\", \"step\", \"step\", \"step\", \"step\", \"step\", \"step\", \"step\", \"step\", \"still\", \"still\", \"still\", \"still\", \"still\", \"still\", \"still\", \"still\", \"subscription\", \"subscription\", \"subscription\", \"subscription\", \"subscription\", \"subscription\", \"subscription\", \"subscription\", \"such\", \"such\", \"such\", \"such\", \"such\", \"such\", \"such\", \"such\", \"target\", \"target\", \"target\", \"target\", \"target\", \"target\", \"target\", \"target\", \"them\", \"them\", \"them\", \"them\", \"them\", \"them\", \"them\", \"them\", \"then\", \"then\", \"then\", \"then\", \"then\", \"then\", \"then\", \"then\", \"thing\", \"thing\", \"thing\", \"thing\", \"thing\", \"thing\", \"thing\", \"thing\", \"think\", \"think\", \"think\", \"think\", \"think\", \"think\", \"think\", \"think\", \"threat\", \"threat\", \"threat\", \"threat\", \"threat\", \"threat\", \"threat\", \"threat\", \"three\", \"three\", \"three\", \"three\", \"three\", \"three\", \"three\", \"three\", \"told\", \"told\", \"told\", \"told\", \"told\", \"told\", \"told\", \"told\", \"top\", \"top\", \"top\", \"top\", \"top\", \"top\", \"top\", \"top\", \"try\", \"try\", \"try\", \"try\", \"try\", \"try\", \"try\", \"try\", \"un\", \"un\", \"un\", \"un\", \"un\", \"un\", \"un\", \"un\", \"website\", \"website\", \"website\", \"website\", \"website\", \"website\", \"website\", \"website\", \"well\", \"well\", \"well\", \"well\", \"well\", \"well\", \"well\", \"well\", \"white\", \"white\", \"white\", \"white\", \"white\", \"white\", \"white\", \"white\", \"why\", \"why\", \"why\", \"why\", \"why\", \"why\", \"why\", \"why\", \"without\", \"without\", \"without\", \"without\", \"without\", \"without\", \"without\", \"without\", \"working\", \"working\", \"working\", \"working\", \"working\", \"working\", \"working\", \"working\"]}, \"R\": 30, \"lambda.step\": 0.01, \"plot.opts\": {\"xlab\": \"PC1\", \"ylab\": \"PC2\"}, \"topic.order\": [3, 7, 2, 5, 6, 8, 1, 4]};\n",
       "\n",
       "function LDAvis_load_lib(url, callback){\n",
       "  var s = document.createElement('script');\n",
       "  s.src = url;\n",
       "  s.async = true;\n",
       "  s.onreadystatechange = s.onload = callback;\n",
       "  s.onerror = function(){console.warn(\"failed to load library \" + url);};\n",
       "  document.getElementsByTagName(\"head\")[0].appendChild(s);\n",
       "}\n",
       "\n",
       "if(typeof(LDAvis) !== \"undefined\"){\n",
       "   // already loaded: just create the visualization\n",
       "   !function(LDAvis){\n",
       "       new LDAvis(\"#\" + \"ldavis_el359831403828547618088464040598\", ldavis_el359831403828547618088464040598_data);\n",
       "   }(LDAvis);\n",
       "}else if(typeof define === \"function\" && define.amd){\n",
       "   // require.js is available: use it to load d3/LDAvis\n",
       "   require.config({paths: {d3: \"https://d3js.org/d3.v5\"}});\n",
       "   require([\"d3\"], function(d3){\n",
       "      window.d3 = d3;\n",
       "      LDAvis_load_lib(\"https://cdn.jsdelivr.net/gh/bmabey/pyLDAvis@3.3.1/pyLDAvis/js/ldavis.v3.0.0.js\", function(){\n",
       "        new LDAvis(\"#\" + \"ldavis_el359831403828547618088464040598\", ldavis_el359831403828547618088464040598_data);\n",
       "      });\n",
       "    });\n",
       "}else{\n",
       "    // require.js not available: dynamically load d3 & LDAvis\n",
       "    LDAvis_load_lib(\"https://d3js.org/d3.v5.js\", function(){\n",
       "         LDAvis_load_lib(\"https://cdn.jsdelivr.net/gh/bmabey/pyLDAvis@3.3.1/pyLDAvis/js/ldavis.v3.0.0.js\", function(){\n",
       "                 new LDAvis(\"#\" + \"ldavis_el359831403828547618088464040598\", ldavis_el359831403828547618088464040598_data);\n",
       "            })\n",
       "         });\n",
       "}\n",
       "</script>"
      ],
      "text/plain": [
       "PreparedData(topic_coordinates=              x         y  topics  cluster       Freq\n",
       "topic                                                \n",
       "2     -0.002850  0.024273       1        1  16.818801\n",
       "6      0.054299 -0.023912       2        1  16.570829\n",
       "1     -0.069535 -0.009881       3        1  15.976312\n",
       "4      0.014101  0.047935       4        1  15.003902\n",
       "5      0.025763 -0.030722       5        1  10.658555\n",
       "7     -0.027151 -0.027379       6        1   9.129068\n",
       "0      0.002675  0.017677       7        1   8.057586\n",
       "3      0.002700  0.002010       8        1   7.784947, topic_info=              Term        Freq       Total Category  logprob  loglift\n",
       "127           city  253.000000  253.000000  Default  30.0000  30.0000\n",
       "73          market  203.000000  203.000000  Default  29.0000  29.0000\n",
       "92       renewable  124.000000  124.000000  Default  28.0000  28.0000\n",
       "12           india  301.000000  301.000000  Default  27.0000  27.0000\n",
       "5         december  244.000000  244.000000  Default  26.0000  26.0000\n",
       "134       minister  289.000000  289.000000  Default  25.0000  25.0000\n",
       "143          china  208.000000  208.000000  Default  24.0000  24.0000\n",
       "133            key  152.000000  152.000000  Default  23.0000  23.0000\n",
       "18              pm  214.000000  214.000000  Default  22.0000  22.0000\n",
       "9             fuel  200.000000  200.000000  Default  21.0000  21.0000\n",
       "16            open  143.000000  143.000000  Default  20.0000  20.0000\n",
       "10           human  180.000000  180.000000  Default  19.0000  19.0000\n",
       "45         company  188.000000  188.000000  Default  18.0000  18.0000\n",
       "44         comment  136.000000  136.000000  Default  17.0000  17.0000\n",
       "163          below  146.000000  146.000000  Default  16.0000  16.0000\n",
       "160         threat  107.000000  107.000000  Default  15.0000  15.0000\n",
       "21       scientist  174.000000  174.000000  Default  14.0000  14.0000\n",
       "8           fossil  172.000000  172.000000  Default  13.0000  13.0000\n",
       "68              le  120.000000  120.000000  Default  12.0000  12.0000\n",
       "169            dec  150.000000  150.000000  Default  11.0000  11.0000\n",
       "145        culture  162.000000  162.000000  Default  10.0000  10.0000\n",
       "146      education  123.000000  123.000000  Default   9.0000   9.0000\n",
       "106           down  133.000000  133.000000  Default   8.0000   8.0000\n",
       "179       resource  139.000000  139.000000  Default   7.0000   7.0000\n",
       "153        natural  134.000000  134.000000  Default   6.0000   6.0000\n",
       "105           deal  232.000000  232.000000  Default   5.0000   5.0000\n",
       "77          member  166.000000  166.000000  Default   4.0000   4.0000\n",
       "136       research  215.000000  215.000000  Default   3.0000   3.0000\n",
       "7    entertainment  151.000000  151.000000  Default   2.0000   2.0000\n",
       "159          think  166.000000  166.000000  Default   1.0000   1.0000\n",
       "143          china  128.127274  208.436881   Topic1  -3.4660   1.2961\n",
       "169            dec   90.280926  150.842213   Topic1  -3.8161   1.2694\n",
       "103         attack   62.162454  118.800682   Topic1  -4.1893   1.1350\n",
       "44         comment   51.996260  136.575427   Topic1  -4.3679   0.8170\n",
       "191            act   33.713419   95.216031   Topic1  -4.8012   0.7444\n",
       "34          barack   28.560163   84.968099   Topic1  -4.9670   0.6924\n",
       "185           hope   29.077539   88.805154   Topic1  -4.9491   0.6662\n",
       "12           india   97.857164  301.396371   Topic1  -3.7355   0.6578\n",
       "131         french   34.687191  112.844853   Topic1  -4.7727   0.6030\n",
       "152          major   23.899261   80.206449   Topic1  -5.1452   0.5719\n",
       "170     developing   39.229926  131.720324   Topic1  -4.6496   0.5714\n",
       "60      greenhouse   44.511276  150.260766   Topic1  -4.5233   0.5660\n",
       "79          monday   36.849830  129.808468   Topic1  -4.7122   0.5235\n",
       "195            own   24.652391   88.822093   Topic1  -5.1142   0.5009\n",
       "11       including   36.423215  131.291837   Topic1  -4.7238   0.5005\n",
       "189        special   23.077933   83.323198   Topic1  -5.1802   0.4988\n",
       "76         meeting   39.402946  142.909995   Topic1  -4.6452   0.4943\n",
       "84      newsletter   40.957585  150.486796   Topic1  -4.6065   0.4813\n",
       "160         threat   28.810339  107.041007   Topic1  -4.9583   0.4702\n",
       "145        culture   41.496950  162.858150   Topic1  -4.5934   0.4154\n",
       "40            call   34.359160  136.139925   Topic1  -4.7822   0.4059\n",
       "183        between   33.047735  131.044893   Topic1  -4.8211   0.4051\n",
       "130         france   22.063468   88.664660   Topic1  -5.2251   0.3917\n",
       "62       important   28.704429  116.892023   Topic1  -4.9620   0.3785\n",
       "75            meet   21.993634   89.690270   Topic1  -5.2283   0.3771\n",
       "98           still   25.417014  104.107724   Topic1  -5.0836   0.3727\n",
       "105           deal   56.255737  232.357946   Topic1  -4.2891   0.3643\n",
       "193     commitment   31.935106  132.046065   Topic1  -4.8553   0.3632\n",
       "3            being   34.130175  141.870556   Topic1  -4.7889   0.3579\n",
       "147          every   23.154919   96.361548   Topic1  -5.1768   0.3568\n",
       "69           level   43.132343  179.692070   Topic1  -4.5548   0.3557\n",
       "57            goal   34.966568  147.049578   Topic1  -4.7647   0.3463\n",
       "28         account   35.299626  156.559257   Topic1  -4.7552   0.2931\n",
       "139             un   33.969519  151.755007   Topic1  -4.7936   0.2859\n",
       "18              pm   42.635588  214.832116   Topic1  -4.5664   0.1655\n",
       "14            life   35.906228  170.639950   Topic1  -4.7381   0.2240\n",
       "30        american   33.092947  150.210863   Topic1  -4.8197   0.2700\n",
       "99            such   32.075104  142.503130   Topic1  -4.8510   0.2914\n",
       "123           told   32.866090  150.895006   Topic1  -4.8266   0.2585\n",
       "134       minister   41.677633  289.785024   Topic1  -4.5891  -0.1565\n",
       "171         during   30.919467  149.454782   Topic1  -4.8877   0.2071\n",
       "153        natural   71.525336  134.341275   Topic2  -4.0341   1.1672\n",
       "179       resource   71.339987  139.397076   Topic2  -4.0367   1.1277\n",
       "45         company   87.263906  188.954105   Topic2  -3.8353   1.0250\n",
       "73          market   93.317203  203.421157   Topic2  -3.7682   1.0183\n",
       "89         program   43.982337   99.802796   Topic2  -4.5204   0.9781\n",
       "64        industry   58.323272  135.470502   Topic2  -4.2382   0.9548\n",
       "54       financial   49.716922  125.879074   Topic2  -4.3979   0.8685\n",
       "164      developed   38.889356  101.610001   Topic2  -4.6435   0.8371\n",
       "12           india  115.088236  301.396371   Topic2  -3.5585   0.8348\n",
       "5         december   86.119401  244.520314   Topic2  -3.8485   0.7540\n",
       "161            top   47.460083  136.008459   Topic2  -4.4443   0.7447\n",
       "132           fund   52.375540  153.680761   Topic2  -4.3458   0.7211\n",
       "125         across   29.104180   92.081275   Topic2  -4.9333   0.6457\n",
       "180         social   30.074474   96.373041   Topic2  -4.9005   0.6330\n",
       "53   environmental   42.665432  139.002871   Topic2  -4.5508   0.6164\n",
       "36          become   28.992951   94.709775   Topic2  -4.9371   0.6138\n",
       "197          focus   27.116660   89.757081   Topic2  -5.0040   0.6006\n",
       "133            key   45.484325  152.947399   Topic2  -4.4868   0.5848\n",
       "90         provide   24.558480   82.853170   Topic2  -5.1031   0.5815\n",
       "129           food   36.459843  131.375100   Topic2  -4.7080   0.5157\n",
       "7    entertainment   41.555944  151.161613   Topic2  -4.5772   0.5062\n",
       "108          fight   24.665421   91.743479   Topic2  -5.0988   0.4839\n",
       "148           face   19.200138   73.172762   Topic2  -5.3493   0.4596\n",
       "145        culture   42.636835  162.858150   Topic2  -4.5515   0.4574\n",
       "187          child   23.669906   92.139451   Topic2  -5.1400   0.4384\n",
       "190         result   21.801437   85.178544   Topic2  -5.2222   0.4348\n",
       "43           close   20.244252   79.116011   Topic2  -5.2963   0.4345\n",
       "48     development   47.136836  184.701025   Topic2  -4.4511   0.4318\n",
       "165        network   20.968334   82.511195   Topic2  -5.2612   0.4276\n",
       "151          legal   18.731752   74.193673   Topic2  -5.3740   0.4211\n",
       "88           press   24.967163   99.248179   Topic2  -5.0866   0.4175\n",
       "158       security   30.578225  122.432149   Topic2  -4.8839   0.4103\n",
       "91          reduce   33.155656  136.392371   Topic2  -4.8030   0.3832\n",
       "4        community   34.602033  143.166072   Topic2  -4.7603   0.3774\n",
       "173    information   34.169417  142.921151   Topic2  -4.7729   0.3666\n",
       "128             co   37.791188  161.275832   Topic2  -4.6721   0.3465\n",
       "134       minister   60.880368  289.785024   Topic2  -4.1953   0.2373\n",
       "136       research   44.193608  215.443803   Topic2  -4.5156   0.2134\n",
       "142      challenge   30.850640  130.800127   Topic2  -4.8750   0.3530\n",
       "18              pm   38.759402  214.832116   Topic2  -4.6468   0.0850\n",
       "105           deal   38.718360  232.357946   Topic2  -4.6479   0.0056\n",
       "192           best   32.694695  151.158571   Topic2  -4.8170   0.2664\n",
       "51        economic   31.264289  141.106685   Topic2  -4.8617   0.2905\n",
       "50             don   75.691596  147.507999   Topic3  -3.9410   1.1668\n",
       "77          member   74.430446  166.882372   Topic3  -3.9578   1.0266\n",
       "159          think   72.105582  166.542303   Topic3  -3.9895   0.9969\n",
       "127           city  108.950258  253.016190   Topic3  -3.5768   0.9915\n",
       "135      political   54.510777  133.872370   Topic3  -4.2693   0.9356\n",
       "101           then   35.853824   94.627238   Topic3  -4.6882   0.8636\n",
       "39        building   39.567981  105.401838   Topic3  -4.5896   0.8543\n",
       "13            know   54.273437  145.204603   Topic3  -4.2736   0.8500\n",
       "120           them   55.682653  159.003734   Topic3  -4.2480   0.7848\n",
       "14            life   58.888232  170.639950   Topic3  -4.1920   0.7701\n",
       "58           going   45.162797  131.838543   Topic3  -4.4574   0.7628\n",
       "37             big   35.396242  108.203064   Topic3  -4.7011   0.7167\n",
       "112        looking   19.858386   61.675633   Topic3  -5.2790   0.7008\n",
       "104        because   51.060351  161.265134   Topic3  -4.3347   0.6840\n",
       "41          called   31.327138   99.949810   Topic3  -4.8232   0.6739\n",
       "118      something   27.966883   89.529160   Topic3  -4.9366   0.6705\n",
       "110             go   38.312811  125.652671   Topic3  -4.6219   0.6463\n",
       "150          house   43.212247  147.712851   Topic3  -4.5015   0.6049\n",
       "177           plan   45.884173  157.451185   Topic3  -4.4415   0.6011\n",
       "123           told   43.374688  150.895006   Topic3  -4.4978   0.5874\n",
       "65             job   27.916306   97.329148   Topic3  -4.9384   0.5852\n",
       "30        american   43.020852  150.210863   Topic3  -4.5060   0.5837\n",
       "33            back   34.303752  120.155310   Topic3  -4.7324   0.5805\n",
       "70             log   23.921015   84.214196   Topic3  -5.0929   0.5755\n",
       "19            post   32.438974  116.676274   Topic3  -4.7883   0.5540\n",
       "115          power   47.782142  171.915331   Topic3  -4.4010   0.5537\n",
       "154          place   30.717785  110.764124   Topic3  -4.8428   0.5515\n",
       "22    subscription   33.108676  119.966756   Topic3  -4.7679   0.5466\n",
       "162          white   21.951839   80.046431   Topic3  -5.1788   0.5403\n",
       "72            many   39.999520  146.051781   Topic3  -4.5788   0.5390\n",
       "175          party   33.402127  122.520615   Topic3  -4.7590   0.5344\n",
       "157        project   35.530556  133.709885   Topic3  -4.6973   0.5088\n",
       "28         account   39.621302  156.559257   Topic3  -4.5883   0.4600\n",
       "4        community   36.736796  143.166072   Topic3  -4.6639   0.4738\n",
       "0          address   35.488269  139.369577   Topic3  -4.6985   0.4661\n",
       "99            such   35.644535  142.503130   Topic3  -4.6941   0.4483\n",
       "128             co   34.353100  161.275832   Topic3  -4.7310   0.2876\n",
       "31             any   32.689644  159.405928   Topic3  -4.7806   0.2497\n",
       "21       scientist   87.137812  174.454620   Topic4  -3.7374   1.2027\n",
       "10           human   89.731583  180.701255   Topic4  -3.7080   1.1968\n",
       "105           deal   87.099090  232.357946   Topic4  -3.7378   0.9156\n",
       "109           find   43.805116  117.603224   Topic4  -4.4251   0.9093\n",
       "100         target   53.551194  146.425536   Topic4  -4.2242   0.8910\n",
       "8           fossil   61.718442  172.771908   Topic4  -4.0823   0.8675\n",
       "166        website   26.031346   74.708086   Topic4  -4.9456   0.8426\n",
       "138         source   28.235208   87.036316   Topic4  -4.8643   0.7711\n",
       "9             fuel   60.902785  200.013660   Topic4  -4.0956   0.7078\n",
       "113            low   25.284003   86.058681   Topic4  -4.9747   0.6720\n",
       "151          legal   21.087439   74.193673   Topic4  -5.1562   0.6389\n",
       "15             nov   40.037863  142.893640   Topic4  -4.5150   0.6246\n",
       "197          focus   24.774171   89.757081   Topic4  -4.9951   0.6096\n",
       "52          effect   27.076739   99.529422   Topic4  -4.9062   0.5951\n",
       "126          among   23.552566   87.059212   Topic4  -5.0456   0.5895\n",
       "67            keep   27.203448  102.118277   Topic4  -4.9015   0.5741\n",
       "93             set   38.667970  145.658979   Topic4  -4.5499   0.5706\n",
       "130         france   23.033428   88.664660   Topic4  -5.0679   0.5489\n",
       "129           food   33.256952  131.375100   Topic4  -4.7006   0.5231\n",
       "49             doe   27.662831  109.593695   Topic4  -4.8848   0.5202\n",
       "60      greenhouse   37.508507  150.260766   Topic4  -4.5803   0.5091\n",
       "155          point   29.623905  119.221996   Topic4  -4.8163   0.5045\n",
       "57            goal   36.302964  147.049578   Topic4  -4.6130   0.4980\n",
       "76         meeting   35.250419  142.909995   Topic4  -4.6424   0.4971\n",
       "63        increase   20.465980   84.110170   Topic4  -5.1861   0.4835\n",
       "193     commitment   32.098630  132.046065   Topic4  -4.7361   0.4825\n",
       "97            step   20.296760   83.591930   Topic4  -5.1944   0.4814\n",
       "199            per   23.962790  101.328676   Topic4  -5.0284   0.4550\n",
       "137           rise   19.996414   86.075095   Topic4  -5.2093   0.4372\n",
       "182         access   23.398410  102.361077   Topic4  -5.0522   0.4210\n",
       "175          party   27.946961  122.520615   Topic4  -4.8746   0.4189\n",
       "173    information   32.039934  142.921151   Topic4  -4.7379   0.4015\n",
       "192           best   32.808596  151.158571   Topic4  -4.7142   0.3692\n",
       "134       minister   52.249733  289.785024   Topic4  -4.2488   0.1838\n",
       "48     development   36.789068  184.701025   Topic4  -4.5997   0.2833\n",
       "69           level   35.644202  179.692070   Topic4  -4.6313   0.2792\n",
       "183        between   28.481926  131.044893   Topic4  -4.8556   0.3706\n",
       "104        because   31.629393  161.265134   Topic4  -4.7508   0.2679\n",
       "18              pm   35.727895  214.832116   Topic4  -4.6289   0.1029\n",
       "28         account   30.808556  156.559257   Topic4  -4.7771   0.2712\n",
       "51        economic   27.729695  141.106685   Topic4  -4.8824   0.2698\n",
       "120           them   27.522020  159.003734   Topic4  -4.8899   0.1429\n",
       "107           even   27.331419  128.374713   Topic4  -4.8968   0.3499\n",
       "128             co   27.407156  161.275832   Topic4  -4.8941   0.1245\n",
       "146      education   52.369531  123.756653   Topic5  -3.9046   1.3788\n",
       "133            key   58.939520  152.947399   Topic5  -3.7864   1.2852\n",
       "80           money   28.292813   94.105628   Topic5  -4.5203   1.0370\n",
       "17         opinion   49.678953  166.383060   Topic5  -3.9573   1.0301\n",
       "7    entertainment   43.904432  151.161613   Topic5  -4.0809   1.0025\n",
       "5         december   61.576356  244.520314   Topic5  -3.7426   0.8598\n",
       "73          market   50.175227  203.421157   Topic5  -3.9474   0.8391\n",
       "132           fund   36.628645  153.680761   Topic5  -4.2621   0.8048\n",
       "0          address   31.849979  139.369577   Topic5  -4.4019   0.7627\n",
       "163          below   30.675553  146.757470   Topic5  -4.4395   0.6735\n",
       "66            join   17.275780   83.583594   Topic5  -5.0136   0.6623\n",
       "165        network   16.427106   82.511195   Topic5  -5.0640   0.6248\n",
       "139             un   29.773917  151.755007   Topic5  -4.4693   0.6102\n",
       "172          green   19.377237   99.627528   Topic5  -4.8988   0.6015\n",
       "150          house   27.288605  147.712851   Topic5  -4.5564   0.5500\n",
       "8           fossil   31.785935  172.771908   Topic5  -4.4039   0.5459\n",
       "4        community   26.197389  143.166072   Topic5  -4.5973   0.5405\n",
       "91          reduce   24.868625  136.392371   Topic5  -4.6493   0.5369\n",
       "136       research   38.496074  215.443803   Topic5  -4.2124   0.5167\n",
       "9             fuel   35.397158  200.013660   Topic5  -4.2963   0.5071\n",
       "6              end   20.413936  118.308406   Topic5  -4.8467   0.4817\n",
       "49             doe   18.852650  109.593695   Topic5  -4.9263   0.4787\n",
       "34          barack   14.546593   84.968099   Topic5  -5.1856   0.4739\n",
       "65             job   16.263169   97.329148   Topic5  -5.0740   0.4496\n",
       "22    subscription   19.878437  119.966756   Topic5  -4.8733   0.4412\n",
       "199            per   16.742023  101.328676   Topic5  -5.0450   0.4384\n",
       "79          monday   20.900697  129.808468   Topic5  -4.8231   0.4125\n",
       "137           rise   13.741298   86.075095   Topic5  -5.2425   0.4040\n",
       "190         result   13.511959   85.178544   Topic5  -5.2593   0.3976\n",
       "78         million   21.535371  136.637416   Topic5  -4.7932   0.3912\n",
       "134       minister   42.262125  289.785024   Topic5  -4.1190   0.3136\n",
       "38         billion   20.454314  137.791780   Topic5  -4.8447   0.3313\n",
       "18              pm   28.891089  214.832116   Topic5  -4.4994   0.2325\n",
       "51        economic   20.507727  141.106685   Topic5  -4.8421   0.3101\n",
       "12           india   27.414928  301.396371   Topic5  -4.5518  -0.1585\n",
       "48     development   21.858859  184.701025   Topic5  -4.7783   0.1047\n",
       "84      newsletter   19.525350  150.486796   Topic5  -4.8912   0.1966\n",
       "31             any   19.302591  159.405928   Topic5  -4.9027   0.1276\n",
       "68              le   43.389202  120.374330   Topic6  -3.9378   1.3733\n",
       "106           down   38.192641  133.873430   Topic6  -4.0654   1.1395\n",
       "163          below   41.298390  146.757470   Topic6  -3.9872   1.1257\n",
       "188           book   34.899911  128.890362   Topic6  -4.1555   1.0872\n",
       "111           look   25.896386   97.399589   Topic6  -4.4539   1.0690\n",
       "145        culture   40.745818  162.858150   Topic6  -4.0007   1.0082\n",
       "95            skip   16.773684   69.772655   Topic6  -4.8882   0.9683\n",
       "56            free   22.492904   95.193720   Topic6  -4.5948   0.9510\n",
       "44         comment   31.803983  136.575427   Topic6  -4.2484   0.9364\n",
       "192           best   31.616282  151.158571   Topic6  -4.2543   0.8290\n",
       "102            why   26.097617  128.245057   Topic6  -4.4462   0.8016\n",
       "19            post   23.065360  116.676274   Topic6  -4.5697   0.7726\n",
       "195            own   16.804424   88.822093   Topic6  -4.8864   0.7287\n",
       "122          three   18.889405  101.990421   Topic6  -4.7694   0.7074\n",
       "140        without   15.590922   88.629253   Topic6  -4.9613   0.6559\n",
       "194         review   19.024317  114.268562   Topic6  -4.7623   0.6009\n",
       "24             try   13.080919   79.222641   Topic6  -5.1369   0.5926\n",
       "187          child   14.805165   92.139451   Topic6  -5.0130   0.5654\n",
       "180         social   15.363462   96.373041   Topic6  -4.9760   0.5575\n",
       "110             go   19.482507  125.652671   Topic6  -4.7385   0.5297\n",
       "71            main   12.622410   82.582252   Topic6  -5.1725   0.5154\n",
       "124           well   20.762802  137.072912   Topic6  -4.6749   0.5064\n",
       "136       research   32.523844  215.443803   Topic6  -4.2260   0.5030\n",
       "186         better   13.763445   91.489487   Topic6  -5.0860   0.4995\n",
       "130         france   13.314644   88.664660   Topic6  -5.1192   0.4977\n",
       "156        problem   16.098221  108.645994   Topic6  -4.9293   0.4843\n",
       "121          thing   17.261621  117.525505   Topic6  -4.8595   0.4755\n",
       "117           risk   12.194635   83.092590   Topic6  -5.2070   0.4747\n",
       "116           real   18.910158  129.955962   Topic6  -4.7683   0.4662\n",
       "172          green   14.388940   99.627528   Topic6  -5.0416   0.4587\n",
       "120           them   22.097089  159.003734   Topic6  -4.6126   0.4202\n",
       "5         december   31.080719  244.520314   Topic6  -4.2714   0.3310\n",
       "31             any   21.291746  159.405928   Topic6  -4.6497   0.3806\n",
       "59            good   19.003303  139.746674   Topic6  -4.7634   0.3985\n",
       "84      newsletter   19.975840  150.486796   Topic6  -4.7135   0.3744\n",
       "21       scientist   21.299800  174.454620   Topic6  -4.6493   0.2907\n",
       "45         company   21.738726  188.954105   Topic6  -4.6289   0.2313\n",
       "13            know   18.607853  145.204603   Topic6  -4.7844   0.3391\n",
       "159          think   19.744280  166.542303   Topic6  -4.7252   0.2613\n",
       "73          market   21.347027  203.421157   Topic6  -4.6471   0.1393\n",
       "14            life   19.863856  170.639950   Topic6  -4.7191   0.2431\n",
       "12           india   23.393606  301.396371   Topic6  -4.5556  -0.1623\n",
       "139             un   18.360675  151.755007   Topic6  -4.7978   0.2817\n",
       "32       available   15.070460   56.201395   Topic7  -4.8704   1.2024\n",
       "86          online   26.414844   98.628919   Topic7  -4.3092   1.2011\n",
       "149           full   15.807923   67.072799   Topic7  -4.8227   1.0733\n",
       "18              pm   47.252810  214.832116   Topic7  -3.7277   1.0042\n",
       "55            five   24.412736  111.975309   Topic7  -4.3881   0.9954\n",
       "142      challenge   26.141157  130.800127   Topic7  -4.3197   0.9084\n",
       "134       minister   55.893128  289.785024   Topic7  -3.5597   0.8729\n",
       "3            being   26.417587  141.870556   Topic7  -4.3091   0.8377\n",
       "48     development   32.803845  184.701025   Topic7  -4.0926   0.7904\n",
       "54       financial   21.667026  125.879074   Topic7  -4.5074   0.7590\n",
       "157        project   22.676572  133.709885   Topic7  -4.4618   0.7442\n",
       "165        network   13.577215   82.511195   Topic7  -4.9748   0.7140\n",
       "46           covid   19.489666  121.275694   Topic7  -4.6133   0.6904\n",
       "2            again   11.571150   72.863084   Topic7  -5.1347   0.6785\n",
       "87         partner   10.267101   65.370549   Topic7  -5.2542   0.6674\n",
       "30        american   23.185115  150.210863   Topic7  -4.4397   0.6500\n",
       "106           down   19.503769  133.873430   Topic7  -4.6126   0.5923\n",
       "97            step   11.520877   83.591930   Topic7  -5.1390   0.5368\n",
       "27         working    9.297571   70.370430   Topic7  -5.3534   0.4945\n",
       "124           well   18.090691  137.072912   Topic7  -4.6878   0.4934\n",
       "112        looking    7.885882   61.675633   Topic7  -5.5181   0.4617\n",
       "93             set   18.400876  145.658979   Topic7  -4.6708   0.4497\n",
       "64        industry   16.829461  135.470502   Topic7  -4.7600   0.4329\n",
       "179       resource   17.274689  139.397076   Topic7  -4.7339   0.4305\n",
       "182         access   12.437677  102.361077   Topic7  -5.0624   0.4108\n",
       "37             big   13.137025  108.203064   Topic7  -5.0077   0.4100\n",
       "102            why   15.367010  128.245057   Topic7  -4.8509   0.3968\n",
       "62       important   13.932172  116.892023   Topic7  -4.9490   0.3915\n",
       "127           city   30.093828  253.016190   Topic7  -4.1788   0.3894\n",
       "190         result    9.986365   85.178544   Topic7  -5.2819   0.3750\n",
       "172          green   11.659718   99.627528   Topic7  -5.1270   0.3733\n",
       "136       research   24.025640  215.443803   Topic7  -4.4040   0.3250\n",
       "104        because   17.817311  161.265134   Topic7  -4.7030   0.3157\n",
       "69           level   19.409286  179.692070   Topic7  -4.6174   0.2931\n",
       "17         opinion   17.842145  166.383060   Topic7  -4.7016   0.2858\n",
       "76         meeting   15.923513  142.909995   Topic7  -4.8154   0.3241\n",
       "10           human   18.608426  180.701255   Topic7  -4.6596   0.2453\n",
       "171         during   16.227505  149.454782   Topic7  -4.7965   0.2983\n",
       "192           best   15.593369  151.158571   Topic7  -4.8363   0.2471\n",
       "105           deal   16.121828  232.357946   Topic7  -4.8030  -0.1495\n",
       "128             co   14.873387  161.275832   Topic7  -4.8836   0.1350\n",
       "92       renewable   48.096853  124.535522   Topic8  -3.6755   1.6016\n",
       "16            open   43.302346  143.046429   Topic8  -3.7805   1.3580\n",
       "160         threat   32.196745  107.041007   Topic8  -4.0769   1.3516\n",
       "114         planet   26.927578  111.466734   Topic8  -4.2556   1.1324\n",
       "95            skip   13.550732   69.772655   Topic8  -4.9423   0.9142\n",
       "66            join   15.616388   83.583594   Topic8  -4.8004   0.8755\n",
       "9             fuel   37.327646  200.013660   Topic8  -3.9290   0.8743\n",
       "38         billion   25.596817  137.791780   Topic8  -4.3063   0.8697\n",
       "43           close   14.530864   79.116011   Topic8  -4.8725   0.8583\n",
       "127           city   45.061325  253.016190   Topic8  -3.7407   0.8275\n",
       "39        building   18.583323  105.401838   Topic8  -4.6265   0.8175\n",
       "172          green   16.680618   99.627528   Topic8  -4.7345   0.7658\n",
       "115          power   27.758403  171.915331   Topic8  -4.2252   0.7295\n",
       "71            main   13.097241   82.582252   Topic8  -4.9763   0.7116\n",
       "35           based   13.786902   90.357463   Topic8  -4.9250   0.6729\n",
       "8           fossil   25.003529  172.771908   Topic8  -4.3297   0.6200\n",
       "44         comment   19.672305  136.575427   Topic8  -4.5695   0.6153\n",
       "144      condition   10.103933   70.662900   Topic8  -5.2358   0.6080\n",
       "75            meet   12.779096   89.690270   Topic8  -5.0009   0.6044\n",
       "116           real   18.406474  129.955962   Topic8  -4.6360   0.5985\n",
       "45         company   26.540012  188.954105   Topic8  -4.2701   0.5901\n",
       "194         review   16.024142  114.268562   Topic8  -4.7746   0.5885\n",
       "96       statement   14.072940  100.709944   Topic8  -4.9045   0.5850\n",
       "158       security   16.857111  122.432149   Topic8  -4.7240   0.5702\n",
       "157        project   18.245076  133.709885   Topic8  -4.6449   0.5612\n",
       "89         program   13.028454   99.802796   Topic8  -4.9816   0.5169\n",
       "65             job   12.401827   97.329148   Topic8  -5.0309   0.4927\n",
       "100         target   18.411111  146.425536   Topic8  -4.6358   0.4794\n",
       "32       available    6.935770   56.201395   Topic8  -5.6121   0.4607\n",
       "29         already   10.612227   86.869808   Topic8  -5.1867   0.4506\n",
       "31             any   19.303908  159.405928   Topic8  -4.5884   0.4418\n",
       "177           plan   16.778707  157.451185   Topic8  -4.7286   0.3140\n",
       "93             set   15.475439  145.658979   Topic8  -4.8095   0.3110\n",
       "132           fund   14.507227  153.680761   Topic8  -4.8741   0.1927\n",
       "136       research   15.922209  215.443803   Topic8  -4.7810  -0.0520\n",
       "150          house   14.142859  147.712851   Topic8  -4.8995   0.2069\n",
       "193     commitment   13.690207  132.046065   Topic8  -4.9321   0.2865\n",
       "159          think   13.813029  166.542303   Topic8  -4.9231   0.0633\n",
       "12           india   13.809975  301.396371   Topic8  -4.9234  -0.5301, token_table=      Topic      Freq     Term\n",
       "term                          \n",
       "182       1  0.048847   access\n",
       "182       2  0.146540   access\n",
       "182       3  0.214925   access\n",
       "182       4  0.224695   access\n",
       "182       5  0.097693   access\n",
       "...     ...       ...      ...\n",
       "27        4  0.156316  working\n",
       "27        5  0.127895  working\n",
       "27        6  0.042632  working\n",
       "27        7  0.127895  working\n",
       "27        8  0.071053  working\n",
       "\n",
       "[1400 rows x 3 columns], R=30, lambda_step=0.01, plot_opts={'xlab': 'PC1', 'ylab': 'PC2'}, topic_order=[3, 7, 2, 5, 6, 8, 1, 4])"
      ]
     },
     "execution_count": 73,
     "metadata": {},
     "output_type": "execute_result"
    }
   ],
   "source": [
    "# Visualize topics-keywords\n",
    "pyLDAvis.enable_notebook()\n",
    "vis = pyLDAvis.gensim_models.prepare(lda_model, bow_corpus, dictionary)\n",
    "vis"
   ]
  },
  {
   "cell_type": "markdown",
   "id": "f226d120",
   "metadata": {},
   "source": [
    "## Keywords "
   ]
  },
  {
   "cell_type": "markdown",
   "id": "2b18246b",
   "metadata": {},
   "source": [
    "## Trump out of paris agreements"
   ]
  },
  {
   "cell_type": "code",
   "execution_count": 47,
   "id": "6a241b54",
   "metadata": {},
   "outputs": [],
   "source": [
    "quote_trump = \" \".join([quote for quote in quotes_Trump_Paris_Agreement.quotation])\n"
   ]
  },
  {
   "cell_type": "code",
   "execution_count": 48,
   "id": "ab3e848b",
   "metadata": {},
   "outputs": [
    {
     "data": {
      "text/html": [
       "<div>\n",
       "<style scoped>\n",
       "    .dataframe tbody tr th:only-of-type {\n",
       "        vertical-align: middle;\n",
       "    }\n",
       "\n",
       "    .dataframe tbody tr th {\n",
       "        vertical-align: top;\n",
       "    }\n",
       "\n",
       "    .dataframe thead th {\n",
       "        text-align: right;\n",
       "    }\n",
       "</style>\n",
       "<table border=\"1\" class=\"dataframe\">\n",
       "  <thead>\n",
       "    <tr style=\"text-align: right;\">\n",
       "      <th></th>\n",
       "      <th>Entity</th>\n",
       "      <th>Count</th>\n",
       "    </tr>\n",
       "  </thead>\n",
       "  <tbody>\n",
       "    <tr>\n",
       "      <th>0</th>\n",
       "      <td>Trump</td>\n",
       "      <td>128</td>\n",
       "    </tr>\n",
       "    <tr>\n",
       "      <th>1</th>\n",
       "      <td>Paris</td>\n",
       "      <td>124</td>\n",
       "    </tr>\n",
       "    <tr>\n",
       "      <th>2</th>\n",
       "      <td>U.S.</td>\n",
       "      <td>93</td>\n",
       "    </tr>\n",
       "    <tr>\n",
       "      <th>3</th>\n",
       "      <td>China</td>\n",
       "      <td>91</td>\n",
       "    </tr>\n",
       "    <tr>\n",
       "      <th>4</th>\n",
       "      <td>the Paris Agreement</td>\n",
       "      <td>72</td>\n",
       "    </tr>\n",
       "    <tr>\n",
       "      <th>5</th>\n",
       "      <td>US</td>\n",
       "      <td>65</td>\n",
       "    </tr>\n",
       "    <tr>\n",
       "      <th>6</th>\n",
       "      <td>the United States</td>\n",
       "      <td>62</td>\n",
       "    </tr>\n",
       "    <tr>\n",
       "      <th>7</th>\n",
       "      <td>America</td>\n",
       "      <td>44</td>\n",
       "    </tr>\n",
       "    <tr>\n",
       "      <th>8</th>\n",
       "      <td>American</td>\n",
       "      <td>38</td>\n",
       "    </tr>\n",
       "    <tr>\n",
       "      <th>9</th>\n",
       "      <td>today</td>\n",
       "      <td>35</td>\n",
       "    </tr>\n",
       "  </tbody>\n",
       "</table>\n",
       "</div>"
      ],
      "text/plain": [
       "                Entity  Count\n",
       "0                Trump    128\n",
       "1                Paris    124\n",
       "2                 U.S.     93\n",
       "3                China     91\n",
       "4  the Paris Agreement     72\n",
       "5                   US     65\n",
       "6    the United States     62\n",
       "7              America     44\n",
       "8             American     38\n",
       "9                today     35"
      ]
     },
     "execution_count": 48,
     "metadata": {},
     "output_type": "execute_result"
    }
   ],
   "source": [
    "article = nlp(quote_trump)\n",
    "items = [x.text for x in article.ents]\n",
    "sentences = [x for x in article.sents]\n",
    "count_trump = Counter(items).most_common(10)\n",
    "count_trump = pd.DataFrame(count_trump, columns = [\"Entity\", \"Count\"])\n",
    "count_trump "
   ]
  },
  {
   "cell_type": "code",
   "execution_count": 49,
   "id": "0007bde2",
   "metadata": {},
   "outputs": [
    {
     "data": {
      "text/plain": [
       "(array([0, 1, 2, 3, 4, 5, 6, 7, 8, 9]),\n",
       " [Text(0, 0, 'Trump'),\n",
       "  Text(1, 0, 'Paris'),\n",
       "  Text(2, 0, 'U.S.'),\n",
       "  Text(3, 0, 'China'),\n",
       "  Text(4, 0, 'the Paris Agreement'),\n",
       "  Text(5, 0, 'US'),\n",
       "  Text(6, 0, 'the United States'),\n",
       "  Text(7, 0, 'America'),\n",
       "  Text(8, 0, 'American'),\n",
       "  Text(9, 0, 'today')])"
      ]
     },
     "execution_count": 49,
     "metadata": {},
     "output_type": "execute_result"
    },
    {
     "data": {
      "image/png": "[encoded data removed]",
      "text/plain": [
       "<Figure size 432x288 with 1 Axes>"
      ]
     },
     "metadata": {
      "needs_background": "light"
     },
     "output_type": "display_data"
    }
   ],
   "source": [
    "sns.barplot(x = count_trump.Entity, y = count_trump.Count, palette=\"rocket_r\")\n",
    "plt.xticks(rotation= 90, )\n"
   ]
  },
  {
   "cell_type": "code",
   "execution_count": 50,
   "id": "06d26131",
   "metadata": {},
   "outputs": [
    {
     "data": {
      "text/html": [
       "<span class=\"tex2jax_ignore\"><div class=\"entities\" style=\"line-height: 2.5; direction: ltr\">[\n",
       "<mark class=\"entity\" style=\"background: #c887fb; padding: 0.45em 0.6em; margin: 0 0.25em; line-height: 1; border-radius: 0.35em;\">\n",
       "    American\n",
       "    <span style=\"font-size: 0.8em; font-weight: bold; line-height: 1; border-radius: 0.35em; text-transform: uppercase; vertical-align: middle; margin-left: 0.5rem\">NORP</span>\n",
       "</mark>\n",
       " Rivers will continue to stand with these local leaders, and we will continue helping communities build their resilience with innovative river conservation solutions., We will work to ensure \n",
       "<mark class=\"entity\" style=\"background: #feca74; padding: 0.45em 0.6em; margin: 0 0.25em; line-height: 1; border-radius: 0.35em;\">\n",
       "    the United States\n",
       "    <span style=\"font-size: 0.8em; font-weight: bold; line-height: 1; border-radius: 0.35em; text-transform: uppercase; vertical-align: middle; margin-left: 0.5rem\">GPE</span>\n",
       "</mark>\n",
       " remains a global leader in river restoration and protection, because a healthy river is a community's best defense against the impacts of climate change., In \n",
       "<mark class=\"entity\" style=\"background: #feca74; padding: 0.45em 0.6em; margin: 0 0.25em; line-height: 1; border-radius: 0.35em;\">\n",
       "    Massachusetts\n",
       "    <span style=\"font-size: 0.8em; font-weight: bold; line-height: 1; border-radius: 0.35em; text-transform: uppercase; vertical-align: middle; margin-left: 0.5rem\">GPE</span>\n",
       "</mark>\n",
       " and around the world, climate change is a shared reality and our ability to rise and respond to this challenge will shape future generations., He believes that global warming is naturally occurring., That there are shifts naturally occurring., we're rescinding our leadership on addressing climate change., Through our witness, we recognize that our government has a moral responsibility, as \n",
       "<mark class=\"entity\" style=\"background: #e4e7d2; padding: 0.45em 0.6em; margin: 0 0.25em; line-height: 1; border-radius: 0.35em;\">\n",
       "    one\n",
       "    <span style=\"font-size: 0.8em; font-weight: bold; line-height: 1; border-radius: 0.35em; text-transform: uppercase; vertical-align: middle; margin-left: 0.5rem\">CARDINAL</span>\n",
       "</mark>\n",
       " of the richest countries in the world and \n",
       "<mark class=\"entity\" style=\"background: #e4e7d2; padding: 0.45em 0.6em; margin: 0 0.25em; line-height: 1; border-radius: 0.35em;\">\n",
       "    one\n",
       "    <span style=\"font-size: 0.8em; font-weight: bold; line-height: 1; border-radius: 0.35em; text-transform: uppercase; vertical-align: middle; margin-left: 0.5rem\">CARDINAL</span>\n",
       "</mark>\n",
       " of the largest historical contributors to climate change, to protect all life on \n",
       "<mark class=\"entity\" style=\"background: #ff9561; padding: 0.45em 0.6em; margin: 0 0.25em; line-height: 1; border-radius: 0.35em;\">\n",
       "    earth\n",
       "    <span style=\"font-size: 0.8em; font-weight: bold; line-height: 1; border-radius: 0.35em; text-transform: uppercase; vertical-align: middle; margin-left: 0.5rem\">LOC</span>\n",
       "</mark>\n",
       " and to prevent the worst impacts of climate., The same week President \n",
       "<mark class=\"entity\" style=\"background: #aa9cfc; padding: 0.45em 0.6em; margin: 0 0.25em; line-height: 1; border-radius: 0.35em;\">\n",
       "    Donald Trump\n",
       "    <span style=\"font-size: 0.8em; font-weight: bold; line-height: 1; border-radius: 0.35em; text-transform: uppercase; vertical-align: middle; margin-left: 0.5rem\">PERSON</span>\n",
       "</mark>\n",
       " put \n",
       "<mark class=\"entity\" style=\"background: #feca74; padding: 0.45em 0.6em; margin: 0 0.25em; line-height: 1; border-radius: 0.35em;\">\n",
       "    America\n",
       "    <span style=\"font-size: 0.8em; font-weight: bold; line-height: 1; border-radius: 0.35em; text-transform: uppercase; vertical-align: middle; margin-left: 0.5rem\">GPE</span>\n",
       "</mark>\n",
       " on a rogue path on climate change policy by withdrawing from the \n",
       "<mark class=\"entity\" style=\"background: #bfe1d9; padding: 0.45em 0.6em; margin: 0 0.25em; line-height: 1; border-radius: 0.35em;\">\n",
       "    2015\n",
       "    <span style=\"font-size: 0.8em; font-weight: bold; line-height: 1; border-radius: 0.35em; text-transform: uppercase; vertical-align: middle; margin-left: 0.5rem\">DATE</span>\n",
       "</mark>\n",
       " \n",
       "<mark class=\"entity\" style=\"background: #ffeb80; padding: 0.45em 0.6em; margin: 0 0.25em; line-height: 1; border-radius: 0.35em;\">\n",
       "    Paris Accords\n",
       "    <span style=\"font-size: 0.8em; font-weight: bold; line-height: 1; border-radius: 0.35em; text-transform: uppercase; vertical-align: middle; margin-left: 0.5rem\">EVENT</span>\n",
       "</mark>\n",
       ", \n",
       "<mark class=\"entity\" style=\"background: #feca74; padding: 0.45em 0.6em; margin: 0 0.25em; line-height: 1; border-radius: 0.35em;\">\n",
       "    California\n",
       "    <span style=\"font-size: 0.8em; font-weight: bold; line-height: 1; border-radius: 0.35em; text-transform: uppercase; vertical-align: middle; margin-left: 0.5rem\">GPE</span>\n",
       "</mark>\n",
       "'s political leaders moved aggressively in the opposite direction., State legislators approved more ambitious carbon reduction goals and Gov. \n",
       "<mark class=\"entity\" style=\"background: #aa9cfc; padding: 0.45em 0.6em; margin: 0 0.25em; line-height: 1; border-radius: 0.35em;\">\n",
       "    Jerry Brown\n",
       "    <span style=\"font-size: 0.8em; font-weight: bold; line-height: 1; border-radius: 0.35em; text-transform: uppercase; vertical-align: middle; margin-left: 0.5rem\">PERSON</span>\n",
       "</mark>\n",
       " prepared to go overseas to lead \n",
       "<mark class=\"entity\" style=\"background: #feca74; padding: 0.45em 0.6em; margin: 0 0.25em; line-height: 1; border-radius: 0.35em;\">\n",
       "    America\n",
       "    <span style=\"font-size: 0.8em; font-weight: bold; line-height: 1; border-radius: 0.35em; text-transform: uppercase; vertical-align: middle; margin-left: 0.5rem\">GPE</span>\n",
       "</mark>\n",
       "'s anti-global warming agenda., dangerous threat of climate change., a critical step forward in addressing climate change., not a benefit-cost analysis of climate change abdicating its leadership and taking a backseat to other countries in the global fight against climate change., The President is abandoning the fight against the \n",
       "<mark class=\"entity\" style=\"background: #ff9561; padding: 0.45em 0.6em; margin: 0 0.25em; line-height: 1; border-radius: 0.35em;\">\n",
       "    Earth\n",
       "    <span style=\"font-size: 0.8em; font-weight: bold; line-height: 1; border-radius: 0.35em; text-transform: uppercase; vertical-align: middle; margin-left: 0.5rem\">LOC</span>\n",
       "</mark>\n",
       "'s biggest threat., \n",
       "<mark class=\"entity\" style=\"background: #7aecec; padding: 0.45em 0.6em; margin: 0 0.25em; line-height: 1; border-radius: 0.35em;\">\n",
       "    Humankind\n",
       "    <span style=\"font-size: 0.8em; font-weight: bold; line-height: 1; border-radius: 0.35em; text-transform: uppercase; vertical-align: middle; margin-left: 0.5rem\">ORG</span>\n",
       "</mark>\n",
       " is facing violent weather and dangerous high temperatures., In \n",
       "<mark class=\"entity\" style=\"background: #bfe1d9; padding: 0.45em 0.6em; margin: 0 0.25em; line-height: 1; border-radius: 0.35em;\">\n",
       "    the last five years\n",
       "    <span style=\"font-size: 0.8em; font-weight: bold; line-height: 1; border-radius: 0.35em; text-transform: uppercase; vertical-align: middle; margin-left: 0.5rem\">DATE</span>\n",
       "</mark>\n",
       ", \n",
       "<mark class=\"entity\" style=\"background: #feca74; padding: 0.45em 0.6em; margin: 0 0.25em; line-height: 1; border-radius: 0.35em;\">\n",
       "    Dallas County\n",
       "    <span style=\"font-size: 0.8em; font-weight: bold; line-height: 1; border-radius: 0.35em; text-transform: uppercase; vertical-align: middle; margin-left: 0.5rem\">GPE</span>\n",
       "</mark>\n",
       " has fought \n",
       "<mark class=\"entity\" style=\"background: #e4e7d2; padding: 0.45em 0.6em; margin: 0 0.25em; line-height: 1; border-radius: 0.35em;\">\n",
       "    two\n",
       "    <span style=\"font-size: 0.8em; font-weight: bold; line-height: 1; border-radius: 0.35em; text-transform: uppercase; vertical-align: middle; margin-left: 0.5rem\">CARDINAL</span>\n",
       "</mark>\n",
       " deadly emerging disease emergencies exacerbated by climate change that claimed \n",
       "<mark class=\"entity\" style=\"background: #e4e7d2; padding: 0.45em 0.6em; margin: 0 0.25em; line-height: 1; border-radius: 0.35em;\">\n",
       "    19\n",
       "    <span style=\"font-size: 0.8em; font-weight: bold; line-height: 1; border-radius: 0.35em; text-transform: uppercase; vertical-align: middle; margin-left: 0.5rem\">CARDINAL</span>\n",
       "</mark>\n",
       " lives to \n",
       "<mark class=\"entity\" style=\"background: #ff9561; padding: 0.45em 0.6em; margin: 0 0.25em; line-height: 1; border-radius: 0.35em;\">\n",
       "    West Nile Virus\n",
       "    <span style=\"font-size: 0.8em; font-weight: bold; line-height: 1; border-radius: 0.35em; text-transform: uppercase; vertical-align: middle; margin-left: 0.5rem\">LOC</span>\n",
       "</mark>\n",
       " and another to Ebola., Increasingly violent weather claimed \n",
       "<mark class=\"entity\" style=\"background: #e4e7d2; padding: 0.45em 0.6em; margin: 0 0.25em; line-height: 1; border-radius: 0.35em;\">\n",
       "    four\n",
       "    <span style=\"font-size: 0.8em; font-weight: bold; line-height: 1; border-radius: 0.35em; text-transform: uppercase; vertical-align: middle; margin-left: 0.5rem\">CARDINAL</span>\n",
       "</mark>\n",
       " lives in the flooding of \n",
       "<mark class=\"entity\" style=\"background: #bfe1d9; padding: 0.45em 0.6em; margin: 0 0.25em; line-height: 1; border-radius: 0.35em;\">\n",
       "    2015\n",
       "    <span style=\"font-size: 0.8em; font-weight: bold; line-height: 1; border-radius: 0.35em; text-transform: uppercase; vertical-align: middle; margin-left: 0.5rem\">DATE</span>\n",
       "</mark>\n",
       " and \n",
       "<mark class=\"entity\" style=\"background: #e4e7d2; padding: 0.45em 0.6em; margin: 0 0.25em; line-height: 1; border-radius: 0.35em;\">\n",
       "    nine\n",
       "    <span style=\"font-size: 0.8em; font-weight: bold; line-height: 1; border-radius: 0.35em; text-transform: uppercase; vertical-align: middle; margin-left: 0.5rem\">CARDINAL</span>\n",
       "</mark>\n",
       " more in the \n",
       "<mark class=\"entity\" style=\"background: #bfe1d9; padding: 0.45em 0.6em; margin: 0 0.25em; line-height: 1; border-radius: 0.35em;\">\n",
       "    2016\n",
       "    <span style=\"font-size: 0.8em; font-weight: bold; line-height: 1; border-radius: 0.35em; text-transform: uppercase; vertical-align: middle; margin-left: 0.5rem\">DATE</span>\n",
       "</mark>\n",
       " tornadoes., \n",
       "<mark class=\"entity\" style=\"background: #feca74; padding: 0.45em 0.6em; margin: 0 0.25em; line-height: 1; border-radius: 0.35em;\">\n",
       "    Counties\n",
       "    <span style=\"font-size: 0.8em; font-weight: bold; line-height: 1; border-radius: 0.35em; text-transform: uppercase; vertical-align: middle; margin-left: 0.5rem\">GPE</span>\n",
       "</mark>\n",
       ", cities and business will need to redouble our efforts, to demonstrate to the world that President \n",
       "<mark class=\"entity\" style=\"background: #aa9cfc; padding: 0.45em 0.6em; margin: 0 0.25em; line-height: 1; border-radius: 0.35em;\">\n",
       "    Trump\n",
       "    <span style=\"font-size: 0.8em; font-weight: bold; line-height: 1; border-radius: 0.35em; text-transform: uppercase; vertical-align: middle; margin-left: 0.5rem\">PERSON</span>\n",
       "</mark>\n",
       "'s action does not reflect the views and values of most \n",
       "<mark class=\"entity\" style=\"background: #c887fb; padding: 0.45em 0.6em; margin: 0 0.25em; line-height: 1; border-radius: 0.35em;\">\n",
       "    Americans\n",
       "    <span style=\"font-size: 0.8em; font-weight: bold; line-height: 1; border-radius: 0.35em; text-transform: uppercase; vertical-align: middle; margin-left: 0.5rem\">NORP</span>\n",
       "</mark>\n",
       "., Everyone has a role to play., We must think globally and act locally., \n",
       "<mark class=\"entity\" style=\"background: #feca74; padding: 0.45em 0.6em; margin: 0 0.25em; line-height: 1; border-radius: 0.35em;\">\n",
       "    The United States\n",
       "    <span style=\"font-size: 0.8em; font-weight: bold; line-height: 1; border-radius: 0.35em; text-transform: uppercase; vertical-align: middle; margin-left: 0.5rem\">GPE</span>\n",
       "</mark>\n",
       " and \n",
       "<mark class=\"entity\" style=\"background: #feca74; padding: 0.45em 0.6em; margin: 0 0.25em; line-height: 1; border-radius: 0.35em;\">\n",
       "    France\n",
       "    <span style=\"font-size: 0.8em; font-weight: bold; line-height: 1; border-radius: 0.35em; text-transform: uppercase; vertical-align: middle; margin-left: 0.5rem\">GPE</span>\n",
       "</mark>\n",
       " will continue to work together, but not on the subject of climate change.]</div></span>"
      ],
      "text/plain": [
       "<IPython.core.display.HTML object>"
      ]
     },
     "metadata": {},
     "output_type": "display_data"
    }
   ],
   "source": [
    "displacy.render(nlp(str(sentences[:20])), jupyter=True, style='ent')"
   ]
  },
  {
   "cell_type": "markdown",
   "id": "cc6d5072",
   "metadata": {},
   "source": [
    "## COP21"
   ]
  },
  {
   "cell_type": "code",
   "execution_count": 51,
   "id": "b4f54fc9",
   "metadata": {},
   "outputs": [],
   "source": [
    "total_quotes_cop21 = \" \".join([quote for quote in quotes_cop21.quotation])\n"
   ]
  },
  {
   "cell_type": "code",
   "execution_count": 52,
   "id": "23c0c162",
   "metadata": {},
   "outputs": [
    {
     "data": {
      "text/html": [
       "<div>\n",
       "<style scoped>\n",
       "    .dataframe tbody tr th:only-of-type {\n",
       "        vertical-align: middle;\n",
       "    }\n",
       "\n",
       "    .dataframe tbody tr th {\n",
       "        vertical-align: top;\n",
       "    }\n",
       "\n",
       "    .dataframe thead th {\n",
       "        text-align: right;\n",
       "    }\n",
       "</style>\n",
       "<table border=\"1\" class=\"dataframe\">\n",
       "  <thead>\n",
       "    <tr style=\"text-align: right;\">\n",
       "      <th></th>\n",
       "      <th>Entity</th>\n",
       "      <th>Number of occurences</th>\n",
       "    </tr>\n",
       "  </thead>\n",
       "  <tbody>\n",
       "    <tr>\n",
       "      <th>0</th>\n",
       "      <td>Paris</td>\n",
       "      <td>76</td>\n",
       "    </tr>\n",
       "    <tr>\n",
       "      <th>1</th>\n",
       "      <td>today</td>\n",
       "      <td>31</td>\n",
       "    </tr>\n",
       "    <tr>\n",
       "      <th>2</th>\n",
       "      <td>first</td>\n",
       "      <td>27</td>\n",
       "    </tr>\n",
       "    <tr>\n",
       "      <th>3</th>\n",
       "      <td>India</td>\n",
       "      <td>25</td>\n",
       "    </tr>\n",
       "    <tr>\n",
       "      <th>4</th>\n",
       "      <td>Canada</td>\n",
       "      <td>24</td>\n",
       "    </tr>\n",
       "    <tr>\n",
       "      <th>5</th>\n",
       "      <td>Obama</td>\n",
       "      <td>19</td>\n",
       "    </tr>\n",
       "    <tr>\n",
       "      <th>6</th>\n",
       "      <td>one</td>\n",
       "      <td>18</td>\n",
       "    </tr>\n",
       "    <tr>\n",
       "      <th>7</th>\n",
       "      <td>the United States</td>\n",
       "      <td>17</td>\n",
       "    </tr>\n",
       "    <tr>\n",
       "      <th>8</th>\n",
       "      <td>two</td>\n",
       "      <td>17</td>\n",
       "    </tr>\n",
       "    <tr>\n",
       "      <th>9</th>\n",
       "      <td>America</td>\n",
       "      <td>11</td>\n",
       "    </tr>\n",
       "  </tbody>\n",
       "</table>\n",
       "</div>"
      ],
      "text/plain": [
       "              Entity  Number of occurences\n",
       "0              Paris                    76\n",
       "1              today                    31\n",
       "2              first                    27\n",
       "3              India                    25\n",
       "4             Canada                    24\n",
       "5              Obama                    19\n",
       "6                one                    18\n",
       "7  the United States                    17\n",
       "8                two                    17\n",
       "9            America                    11"
      ]
     },
     "execution_count": 52,
     "metadata": {},
     "output_type": "execute_result"
    }
   ],
   "source": [
    "article = nlp(total_quotes_cop21)\n",
    "items = [x.text for x in article.ents]\n",
    "sentences = [x for x in article.sents]\n",
    "count_cop21 = Counter(items).most_common(10)\n",
    "count_cop21 = pd.DataFrame(count_cop21 , columns = [\"Entity\", \"Number of occurences\"])\n",
    "count_cop21\n"
   ]
  },
  {
   "cell_type": "code",
   "execution_count": 53,
   "id": "1816cf2d",
   "metadata": {},
   "outputs": [
    {
     "data": {
      "text/plain": [
       "(array([0, 1, 2, 3, 4, 5, 6, 7, 8, 9]),\n",
       " [Text(0, 0, 'Paris'),\n",
       "  Text(1, 0, 'today'),\n",
       "  Text(2, 0, 'first'),\n",
       "  Text(3, 0, 'India'),\n",
       "  Text(4, 0, 'Canada'),\n",
       "  Text(5, 0, 'Obama'),\n",
       "  Text(6, 0, 'one'),\n",
       "  Text(7, 0, 'the United States'),\n",
       "  Text(8, 0, 'two'),\n",
       "  Text(9, 0, 'America')])"
      ]
     },
     "execution_count": 53,
     "metadata": {},
     "output_type": "execute_result"
    },
    {
     "data": {
      "image/png": "[encoded data removed]",
      "text/plain": [
       "<Figure size 432x288 with 1 Axes>"
      ]
     },
     "metadata": {
      "needs_background": "light"
     },
     "output_type": "display_data"
    }
   ],
   "source": [
    "sns.barplot(x = count_cop21.Entity, y = count_trump.Count, palette=\"rocket_r\")\n",
    "plt.xticks(rotation= 90, )"
   ]
  },
  {
   "cell_type": "code",
   "execution_count": 54,
   "id": "9034524c",
   "metadata": {},
   "outputs": [
    {
     "data": {
      "text/html": [
       "<span class=\"tex2jax_ignore\"><div class=\"entities\" style=\"line-height: 2.5; direction: ltr\">[Women of Color Speak Out -- Climate Change and \n",
       "<mark class=\"entity\" style=\"background: #7aecec; padding: 0.45em 0.6em; margin: 0 0.25em; line-height: 1; border-radius: 0.35em;\">\n",
       "    the Systems of Oppression\n",
       "    <span style=\"font-size: 0.8em; font-weight: bold; line-height: 1; border-radius: 0.35em; text-transform: uppercase; vertical-align: middle; margin-left: 0.5rem\">ORG</span>\n",
       "</mark>\n",
       ", You can make a very reasonable argument that climate change is not that indirectly related to terrorism, only acceptable decision by \n",
       "<mark class=\"entity\" style=\"background: #7aecec; padding: 0.45em 0.6em; margin: 0 0.25em; line-height: 1; border-radius: 0.35em;\">\n",
       "    EPA\n",
       "    <span style=\"font-size: 0.8em; font-weight: bold; line-height: 1; border-radius: 0.35em; text-transform: uppercase; vertical-align: middle; margin-left: 0.5rem\">ORG</span>\n",
       "</mark>\n",
       " would have been a return to the volumes \n",
       "<mark class=\"entity\" style=\"background: #7aecec; padding: 0.45em 0.6em; margin: 0 0.25em; line-height: 1; border-radius: 0.35em;\">\n",
       "    Congress\n",
       "    <span style=\"font-size: 0.8em; font-weight: bold; line-height: 1; border-radius: 0.35em; text-transform: uppercase; vertical-align: middle; margin-left: 0.5rem\">ORG</span>\n",
       "</mark>\n",
       " wrote into law., Instead, President \n",
       "<mark class=\"entity\" style=\"background: #aa9cfc; padding: 0.45em 0.6em; margin: 0 0.25em; line-height: 1; border-radius: 0.35em;\">\n",
       "    Obama\n",
       "    <span style=\"font-size: 0.8em; font-weight: bold; line-height: 1; border-radius: 0.35em; text-transform: uppercase; vertical-align: middle; margin-left: 0.5rem\">PERSON</span>\n",
       "</mark>\n",
       " is handing Big Oil a victory by turning away from reduced greenhouse gas emissions just as he's attending the climate change talks in \n",
       "<mark class=\"entity\" style=\"background: #feca74; padding: 0.45em 0.6em; margin: 0 0.25em; line-height: 1; border-radius: 0.35em;\">\n",
       "    Paris\n",
       "    <span style=\"font-size: 0.8em; font-weight: bold; line-height: 1; border-radius: 0.35em; text-transform: uppercase; vertical-align: middle; margin-left: 0.5rem\">GPE</span>\n",
       "</mark>\n",
       "., can't strengthen resilience to climate change climate change is, real and human activity significantly contributes I am optimistic that we can invent the tools we need to generate clean, affordable, reliable energy that will help the poorest improve their lives and also stop climate change., Oh, I found climate change., The more severe the climate change is --, the higher the increase in temperature is -- the more severe the impact is going to be on farm income, , We know how large the phenomenon is, and we know how disastrous climate change can be for humanity, , We'll demonstrate that we are serious about climate change, Even if one does not agree with every action that took place, this general atmosphere of defiance is something to celebrate., After all, government response to the climate crisis is wholly inadequate and puts us all in great danger., \n",
       "<mark class=\"entity\" style=\"background: #aa9cfc; padding: 0.45em 0.6em; margin: 0 0.25em; line-height: 1; border-radius: 0.35em;\">\n",
       "    Obedience\n",
       "    <span style=\"font-size: 0.8em; font-weight: bold; line-height: 1; border-radius: 0.35em; text-transform: uppercase; vertical-align: middle; margin-left: 0.5rem\">PERSON</span>\n",
       "</mark>\n",
       " in the face of this failure would be tantamount to acquiescence., Just imagine \n",
       "<mark class=\"entity\" style=\"background: #7aecec; padding: 0.45em 0.6em; margin: 0 0.25em; line-height: 1; border-radius: 0.35em;\">\n",
       "    the Byron Industrial Estate\n",
       "    <span style=\"font-size: 0.8em; font-weight: bold; line-height: 1; border-radius: 0.35em; text-transform: uppercase; vertical-align: middle; margin-left: 0.5rem\">ORG</span>\n",
       "</mark>\n",
       " or our \n",
       "<mark class=\"entity\" style=\"background: #7aecec; padding: 0.45em 0.6em; margin: 0 0.25em; line-height: 1; border-radius: 0.35em;\">\n",
       "    CBD\n",
       "    <span style=\"font-size: 0.8em; font-weight: bold; line-height: 1; border-radius: 0.35em; text-transform: uppercase; vertical-align: middle; margin-left: 0.5rem\">ORG</span>\n",
       "</mark>\n",
       "'s as renewable energy hubs-generating and selling energy to businesses and residents around them., It is delusional for President \n",
       "<mark class=\"entity\" style=\"background: #aa9cfc; padding: 0.45em 0.6em; margin: 0 0.25em; line-height: 1; border-radius: 0.35em;\">\n",
       "    Obama\n",
       "    <span style=\"font-size: 0.8em; font-weight: bold; line-height: 1; border-radius: 0.35em; text-transform: uppercase; vertical-align: middle; margin-left: 0.5rem\">PERSON</span>\n",
       "</mark>\n",
       " and \n",
       "<mark class=\"entity\" style=\"background: #aa9cfc; padding: 0.45em 0.6em; margin: 0 0.25em; line-height: 1; border-radius: 0.35em;\">\n",
       "    Hillary Clinton\n",
       "    <span style=\"font-size: 0.8em; font-weight: bold; line-height: 1; border-radius: 0.35em; text-transform: uppercase; vertical-align: middle; margin-left: 0.5rem\">PERSON</span>\n",
       "</mark>\n",
       " and anyone else to say that climate change is our near-term most severe security threat., It is ISIS, period, followed closely by \n",
       "<mark class=\"entity\" style=\"background: #feca74; padding: 0.45em 0.6em; margin: 0 0.25em; line-height: 1; border-radius: 0.35em;\">\n",
       "    Iran\n",
       "    <span style=\"font-size: 0.8em; font-weight: bold; line-height: 1; border-radius: 0.35em; text-transform: uppercase; vertical-align: middle; margin-left: 0.5rem\">GPE</span>\n",
       "</mark>\n",
       " and perhaps \n",
       "<mark class=\"entity\" style=\"background: #feca74; padding: 0.45em 0.6em; margin: 0 0.25em; line-height: 1; border-radius: 0.35em;\">\n",
       "    Russia\n",
       "    <span style=\"font-size: 0.8em; font-weight: bold; line-height: 1; border-radius: 0.35em; text-transform: uppercase; vertical-align: middle; margin-left: 0.5rem\">GPE</span>\n",
       "</mark>\n",
       ", , We have a threat from nuclear proliferation, which is why we've committed significant effort in getting the \n",
       "<mark class=\"entity\" style=\"background: #feca74; padding: 0.45em 0.6em; margin: 0 0.25em; line-height: 1; border-radius: 0.35em;\">\n",
       "    Iran\n",
       "    <span style=\"font-size: 0.8em; font-weight: bold; line-height: 1; border-radius: 0.35em; text-transform: uppercase; vertical-align: middle; margin-left: 0.5rem\">GPE</span>\n",
       "</mark>\n",
       " deal so you wouldn't have the further spread of nuclear weapons., And, you have the threat of climate change, that again, poses a national security challenge if you are talking about the mass displacement of people, the erosion of significant parts of territory, the instability that would come from within countries because of climate change, and frankly, the effects of extreme whether events in \n",
       "<mark class=\"entity\" style=\"background: #feca74; padding: 0.45em 0.6em; margin: 0 0.25em; line-height: 1; border-radius: 0.35em;\">\n",
       "    the United States\n",
       "    <span style=\"font-size: 0.8em; font-weight: bold; line-height: 1; border-radius: 0.35em; text-transform: uppercase; vertical-align: middle; margin-left: 0.5rem\">GPE</span>\n",
       "</mark>\n",
       "., There should no longer be any debate over whether man-made climate change is real, Thanks to this president's leadership and the success that he had in getting \n",
       "<mark class=\"entity\" style=\"background: #feca74; padding: 0.45em 0.6em; margin: 0 0.25em; line-height: 1; border-radius: 0.35em;\">\n",
       "    China\n",
       "    <span style=\"font-size: 0.8em; font-weight: bold; line-height: 1; border-radius: 0.35em; text-transform: uppercase; vertical-align: middle; margin-left: 0.5rem\">GPE</span>\n",
       "</mark>\n",
       " to make a significant commitment to reduce their carbon pollution, we've actually now seen that \n",
       "<mark class=\"entity\" style=\"background: #e4e7d2; padding: 0.45em 0.6em; margin: 0 0.25em; line-height: 1; border-radius: 0.35em;\">\n",
       "    about 180\n",
       "    <span style=\"font-size: 0.8em; font-weight: bold; line-height: 1; border-radius: 0.35em; text-transform: uppercase; vertical-align: middle; margin-left: 0.5rem\">CARDINAL</span>\n",
       "</mark>\n",
       " countries have made substantial commitments., That means we actually are going to do something to follow through on the cause of climate change, \n",
       "<mark class=\"entity\" style=\"background: #c887fb; padding: 0.45em 0.6em; margin: 0 0.25em; line-height: 1; border-radius: 0.35em;\">\n",
       "    Republicans\n",
       "    <span style=\"font-size: 0.8em; font-weight: bold; line-height: 1; border-radius: 0.35em; text-transform: uppercase; vertical-align: middle; margin-left: 0.5rem\">NORP</span>\n",
       "</mark>\n",
       " are trying to kill \n",
       "<mark class=\"entity\" style=\"background: #ff8197; padding: 0.45em 0.6em; margin: 0 0.25em; line-height: 1; border-radius: 0.35em;\">\n",
       "    the Clean Power Plan\n",
       "    <span style=\"font-size: 0.8em; font-weight: bold; line-height: 1; border-radius: 0.35em; text-transform: uppercase; vertical-align: middle; margin-left: 0.5rem\">LAW</span>\n",
       "</mark>\n",
       " in part to appease their conservative base and fossil fuel industry donors.]</div></span>"
      ],
      "text/plain": [
       "<IPython.core.display.HTML object>"
      ]
     },
     "metadata": {},
     "output_type": "display_data"
    }
   ],
   "source": [
    "displacy.render(nlp(str(sentences[:20])), jupyter=True, style='ent')"
   ]
  },
  {
   "cell_type": "markdown",
   "id": "b772a1ec",
   "metadata": {},
   "source": [
    "## Prop of non male speakers"
   ]
  },
  {
   "cell_type": "code",
   "execution_count": 55,
   "id": "c4559a94",
   "metadata": {},
   "outputs": [
    {
     "data": {
      "text/html": [
       "<div>\n",
       "<style scoped>\n",
       "    .dataframe tbody tr th:only-of-type {\n",
       "        vertical-align: middle;\n",
       "    }\n",
       "\n",
       "    .dataframe tbody tr th {\n",
       "        vertical-align: top;\n",
       "    }\n",
       "\n",
       "    .dataframe thead th {\n",
       "        text-align: right;\n",
       "    }\n",
       "</style>\n",
       "<table border=\"1\" class=\"dataframe\">\n",
       "  <thead>\n",
       "    <tr style=\"text-align: right;\">\n",
       "      <th></th>\n",
       "      <th>frequency</th>\n",
       "      <th>date</th>\n",
       "      <th>date_ordinal</th>\n",
       "    </tr>\n",
       "  </thead>\n",
       "  <tbody>\n",
       "    <tr>\n",
       "      <th>0</th>\n",
       "      <td>1.000000</td>\n",
       "      <td>2015-01-01</td>\n",
       "      <td>735599</td>\n",
       "    </tr>\n",
       "    <tr>\n",
       "      <th>1</th>\n",
       "      <td>0.944444</td>\n",
       "      <td>2015-01-02</td>\n",
       "      <td>735600</td>\n",
       "    </tr>\n",
       "    <tr>\n",
       "      <th>2</th>\n",
       "      <td>0.600000</td>\n",
       "      <td>2015-01-03</td>\n",
       "      <td>735601</td>\n",
       "    </tr>\n",
       "    <tr>\n",
       "      <th>3</th>\n",
       "      <td>0.818182</td>\n",
       "      <td>2015-01-04</td>\n",
       "      <td>735602</td>\n",
       "    </tr>\n",
       "    <tr>\n",
       "      <th>4</th>\n",
       "      <td>0.800000</td>\n",
       "      <td>2015-01-05</td>\n",
       "      <td>735603</td>\n",
       "    </tr>\n",
       "    <tr>\n",
       "      <th>...</th>\n",
       "      <td>...</td>\n",
       "      <td>...</td>\n",
       "      <td>...</td>\n",
       "    </tr>\n",
       "    <tr>\n",
       "      <th>1844</th>\n",
       "      <td>0.375000</td>\n",
       "      <td>2020-04-13</td>\n",
       "      <td>737528</td>\n",
       "    </tr>\n",
       "    <tr>\n",
       "      <th>1845</th>\n",
       "      <td>0.833333</td>\n",
       "      <td>2020-04-14</td>\n",
       "      <td>737529</td>\n",
       "    </tr>\n",
       "    <tr>\n",
       "      <th>1846</th>\n",
       "      <td>0.666667</td>\n",
       "      <td>2020-04-15</td>\n",
       "      <td>737530</td>\n",
       "    </tr>\n",
       "    <tr>\n",
       "      <th>1847</th>\n",
       "      <td>0.900000</td>\n",
       "      <td>2020-04-16</td>\n",
       "      <td>737531</td>\n",
       "    </tr>\n",
       "    <tr>\n",
       "      <th>1848</th>\n",
       "      <td>1.000000</td>\n",
       "      <td>2020-04-17</td>\n",
       "      <td>737532</td>\n",
       "    </tr>\n",
       "  </tbody>\n",
       "</table>\n",
       "<p>1849 rows × 3 columns</p>\n",
       "</div>"
      ],
      "text/plain": [
       "      frequency        date  date_ordinal\n",
       "0      1.000000  2015-01-01        735599\n",
       "1      0.944444  2015-01-02        735600\n",
       "2      0.600000  2015-01-03        735601\n",
       "3      0.818182  2015-01-04        735602\n",
       "4      0.800000  2015-01-05        735603\n",
       "...         ...         ...           ...\n",
       "1844   0.375000  2020-04-13        737528\n",
       "1845   0.833333  2020-04-14        737529\n",
       "1846   0.666667  2020-04-15        737530\n",
       "1847   0.900000  2020-04-16        737531\n",
       "1848   1.000000  2020-04-17        737532\n",
       "\n",
       "[1849 rows x 3 columns]"
      ]
     },
     "execution_count": 55,
     "metadata": {},
     "output_type": "execute_result"
    }
   ],
   "source": [
    "\n",
    "non_male_speakers = quotes_all_years[(quotes_all_years.gender != 'male') & (quotes_all_years.gender != 'None')].date\n",
    "male_speakers = quotes_all_years[(quotes_all_years.gender == 'male')].date\n",
    "\n",
    "prop_male =(male_speakers.value_counts()/quotes_all_years[quotes_all_years.gender != 'None'].date.value_counts()).fillna(0)\n",
    "prop_non_male = (non_male_speakers.value_counts()/quotes_all_years[quotes_all_years.gender != 'None'].date.value_counts()).fillna(0)\n",
    "\n",
    "prop_non_male =  pd.DataFrame(prop_non_male)\n",
    "prop_non_male.rename(columns = {'date':'frequency'}, inplace = True)\n",
    "prop_non_male['date'] = prop_non_male.index\n",
    "prop_non_male.reset_index(drop = True, inplace = True)\n",
    "prop_non_male['date_ordinal'] = pd.to_datetime(prop_non_male['date']).apply(lambda date: date.toordinal())\n",
    "prop_non_male\n",
    "\n",
    "prop_male =  pd.DataFrame(prop_male)\n",
    "prop_male.rename(columns = {'date':'frequency'}, inplace = True)\n",
    "prop_male['date'] = prop_male.index\n",
    "prop_male.reset_index(drop = True, inplace = True)\n",
    "prop_male['date_ordinal'] = pd.to_datetime(prop_male['date']).apply(lambda date: date.toordinal())\n",
    "prop_male\n",
    "\n"
   ]
  },
  {
   "cell_type": "code",
   "execution_count": 56,
   "id": "87233292",
   "metadata": {},
   "outputs": [
    {
     "data": {
      "image/png": "[encoded data removed]",
      "text/plain": [
       "<Figure size 576x432 with 1 Axes>"
      ]
     },
     "metadata": {
      "needs_background": "light"
     },
     "output_type": "display_data"
    }
   ],
   "source": [
    "ax = sns.regplot(data=prop_non_male,x='date_ordinal',y=\"frequency\", scatter_kws={\"s\": 0.9} , \n",
    "                 line_kws={\"color\": \"red\"}, order = 1, label = 'non male speakers')\n",
    "\n",
    "ax = sns.regplot(data=prop_male,x='date_ordinal',y=\"frequency\", scatter_kws={\"s\": 0.9} ,\n",
    "                 line_kws={\"color\": \"green\"}, order = 1, label = 'male speakers')\n",
    "\n",
    "\n",
    "ax.set_xlabel('Date')\n",
    "ax.set_ylabel('Frequency')\n",
    "\n",
    "new_labels = [date.fromordinal(int(item)) for item in ax.get_xticks()]\n",
    "ax.set_xticklabels(new_labels)\n",
    "plot =plt.xticks(rotation= 45)\n",
    "plt.title(\"Proportion of non-male speakers\")\n",
    "ax.set_ylim(0, 1)\n",
    "plt.gcf().set_size_inches(8, 6)\n",
    "plt.legend( prop={'size': 10})\n",
    "plt.grid()\n",
    "plt.show()\n"
   ]
  },
  {
   "cell_type": "code",
   "execution_count": null,
   "id": "a430cced",
   "metadata": {},
   "outputs": [],
   "source": []
  }
 ],
 "metadata": {
  "kernelspec": {
   "display_name": "Python 3 (ipykernel)",
   "language": "python",
   "name": "python3"
  },
  "language_info": {
   "codemirror_mode": {
    "name": "ipython",
    "version": 3
   },
   "file_extension": ".py",
   "mimetype": "text/x-python",
   "name": "python",
   "nbconvert_exporter": "python",
   "pygments_lexer": "ipython3",
   "version": "3.7.10"
  }
 },
 "nbformat": 4,
 "nbformat_minor": 5
}
