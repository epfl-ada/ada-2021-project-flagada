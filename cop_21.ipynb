{
 "cells": [
  {
   "cell_type": "markdown",
   "id": "8bc559a1",
   "metadata": {},
   "source": [
    "# IMPORT OF LIBRAIRIES "
   ]
  },
  {
   "cell_type": "code",
   "execution_count": 1,
   "id": "92bae87c",
   "metadata": {},
   "outputs": [
    {
     "name": "stderr",
     "output_type": "stream",
     "text": [
      "[nltk_data] Downloading package vader_lexicon to\n",
      "[nltk_data]     /Users/adrien/nltk_data...\n",
      "[nltk_data]   Package vader_lexicon is already up-to-date!\n",
      "[nltk_data] Downloading package stopwords to\n",
      "[nltk_data]     /Users/adrien/nltk_data...\n",
      "[nltk_data]   Package stopwords is already up-to-date!\n",
      "[nltk_data] Downloading package punkt to /Users/adrien/nltk_data...\n",
      "[nltk_data]   Package punkt is already up-to-date!\n"
     ]
    }
   ],
   "source": [
    "import pandas as pd\n",
    "import matplotlib.pyplot as plt\n",
    "from matplotlib.colors import ListedColormap\n",
    "import seaborn as sns\n",
    "import calendar\n",
    "from functions import *\n",
    "import urllib.parse\n",
    "from matplotlib.pyplot import figure\n",
    "import geoip2.database\n",
    "import socket\n",
    "from tld import get_tld\n",
    "\n",
    "import re\n",
    "import json\n",
    "from urllib.request import urlopen\n",
    "import pygeoip"
   ]
  },
  {
   "cell_type": "code",
   "execution_count": 2,
   "id": "6724c7b0",
   "metadata": {},
   "outputs": [],
   "source": [
    "quotes_2020 = pd.io.json.read_json('quotes-2017.json.bz2', lines = True)"
   ]
  },
  {
   "cell_type": "markdown",
   "id": "d1f532c4",
   "metadata": {},
   "source": [
    "### Creation of a column containing the month when the month when the quote was reported\n"
   ]
  },
  {
   "cell_type": "code",
   "execution_count": 3,
   "id": "992109eb",
   "metadata": {},
   "outputs": [
    {
     "data": {
      "text/html": [
       "<div>\n",
       "<style scoped>\n",
       "    .dataframe tbody tr th:only-of-type {\n",
       "        vertical-align: middle;\n",
       "    }\n",
       "\n",
       "    .dataframe tbody tr th {\n",
       "        vertical-align: top;\n",
       "    }\n",
       "\n",
       "    .dataframe thead th {\n",
       "        text-align: right;\n",
       "    }\n",
       "</style>\n",
       "<table border=\"1\" class=\"dataframe\">\n",
       "  <thead>\n",
       "    <tr style=\"text-align: right;\">\n",
       "      <th></th>\n",
       "      <th>quoteID</th>\n",
       "      <th>quotation</th>\n",
       "      <th>speaker</th>\n",
       "      <th>qids</th>\n",
       "      <th>date</th>\n",
       "      <th>numOccurrences</th>\n",
       "      <th>probas</th>\n",
       "      <th>urls</th>\n",
       "      <th>phase</th>\n",
       "      <th>day</th>\n",
       "      <th>month</th>\n",
       "    </tr>\n",
       "  </thead>\n",
       "  <tbody>\n",
       "    <tr>\n",
       "      <th>0</th>\n",
       "      <td>2017-10-10-083023</td>\n",
       "      <td>left the realm of the merely destructive and e...</td>\n",
       "      <td>Tanya Plibersek</td>\n",
       "      <td>[Q7684036]</td>\n",
       "      <td>2017-10-10 05:07:05</td>\n",
       "      <td>86</td>\n",
       "      <td>[[Tanya Plibersek, 0.7071], [Tony Abbott, 0.13...</td>\n",
       "      <td>[http://armidaleexpress.com.au/story/4979274/a...</td>\n",
       "      <td>E</td>\n",
       "      <td>Tuesday</td>\n",
       "      <td>Oct</td>\n",
       "    </tr>\n",
       "    <tr>\n",
       "      <th>1</th>\n",
       "      <td>2017-09-06-003914</td>\n",
       "      <td>advance this climate change agenda.</td>\n",
       "      <td>Rush Limbaugh</td>\n",
       "      <td>[Q319072]</td>\n",
       "      <td>2017-09-06 23:12:48</td>\n",
       "      <td>73</td>\n",
       "      <td>[[Rush Limbaugh, 0.6842], [None, 0.2011], [Al ...</td>\n",
       "      <td>[http://feeds.nydailynews.com/~r/nydnrss/sport...</td>\n",
       "      <td>E</td>\n",
       "      <td>Wednesday</td>\n",
       "      <td>Sep</td>\n",
       "    </tr>\n",
       "    <tr>\n",
       "      <th>2</th>\n",
       "      <td>2017-07-06-075459</td>\n",
       "      <td>may find some allies on climate change</td>\n",
       "      <td>Donald Trump</td>\n",
       "      <td>[Q22686, Q27947481]</td>\n",
       "      <td>2017-07-06 09:04:06</td>\n",
       "      <td>1</td>\n",
       "      <td>[[Donald Trump, 0.624], [None, 0.376]]</td>\n",
       "      <td>[https://www.carbonbrief.org/daily-brief/volvo...</td>\n",
       "      <td>E</td>\n",
       "      <td>Thursday</td>\n",
       "      <td>Jul</td>\n",
       "    </tr>\n",
       "    <tr>\n",
       "      <th>3</th>\n",
       "      <td>2017-12-20-072848</td>\n",
       "      <td>Mayor Lee's commitment to environmental policy...</td>\n",
       "      <td>Gina McCarthy</td>\n",
       "      <td>[Q5562899]</td>\n",
       "      <td>2017-12-20 09:00:35</td>\n",
       "      <td>1</td>\n",
       "      <td>[[Gina McCarthy, 0.9385], [None, 0.053], [Ed L...</td>\n",
       "      <td>[http://www.sfexaminer.com/retirement-board-he...</td>\n",
       "      <td>E</td>\n",
       "      <td>Wednesday</td>\n",
       "      <td>Dec</td>\n",
       "    </tr>\n",
       "    <tr>\n",
       "      <th>4</th>\n",
       "      <td>2017-06-06-081706</td>\n",
       "      <td>now under threat as never before: pollution, o...</td>\n",
       "      <td>António Guterres</td>\n",
       "      <td>[Q311440]</td>\n",
       "      <td>2017-06-06 11:44:00</td>\n",
       "      <td>1</td>\n",
       "      <td>[[António Guterres, 0.8775], [None, 0.1225]]</td>\n",
       "      <td>[https://sg.finance.yahoo.com/news/un-secretar...</td>\n",
       "      <td>E</td>\n",
       "      <td>Tuesday</td>\n",
       "      <td>Jun</td>\n",
       "    </tr>\n",
       "    <tr>\n",
       "      <th>...</th>\n",
       "      <td>...</td>\n",
       "      <td>...</td>\n",
       "      <td>...</td>\n",
       "      <td>...</td>\n",
       "      <td>...</td>\n",
       "      <td>...</td>\n",
       "      <td>...</td>\n",
       "      <td>...</td>\n",
       "      <td>...</td>\n",
       "      <td>...</td>\n",
       "      <td>...</td>\n",
       "    </tr>\n",
       "    <tr>\n",
       "      <th>30130</th>\n",
       "      <td>2017-09-22-018445</td>\n",
       "      <td>Climate change is a megatrend that has wide-ra...</td>\n",
       "      <td>None</td>\n",
       "      <td>[]</td>\n",
       "      <td>2017-09-22 18:40:00</td>\n",
       "      <td>1</td>\n",
       "      <td>[[None, 0.9198], [Bharat Masrani, 0.0802]]</td>\n",
       "      <td>[http://www.greenpeace.org/canada/en/blog/Blog...</td>\n",
       "      <td>E</td>\n",
       "      <td>Friday</td>\n",
       "      <td>Sep</td>\n",
       "    </tr>\n",
       "    <tr>\n",
       "      <th>30131</th>\n",
       "      <td>2017-06-12-017608</td>\n",
       "      <td>Developing countries seem to be waking up to e...</td>\n",
       "      <td>John Irvine</td>\n",
       "      <td>[Q16142752, Q58810703, Q6240858]</td>\n",
       "      <td>2017-06-12 00:00:00</td>\n",
       "      <td>2</td>\n",
       "      <td>[[John Irvine, 0.8938], [None, 0.1063]]</td>\n",
       "      <td>[http://punchng.com/nigeria-must-join-push-for...</td>\n",
       "      <td>E</td>\n",
       "      <td>Monday</td>\n",
       "      <td>Jun</td>\n",
       "    </tr>\n",
       "    <tr>\n",
       "      <th>30132</th>\n",
       "      <td>2017-09-20-032353</td>\n",
       "      <td>Global warming is an existential threat to hum...</td>\n",
       "      <td>Barbara Parker</td>\n",
       "      <td>[Q2555588, Q4859211, Q4859212]</td>\n",
       "      <td>2017-09-20 13:15:00</td>\n",
       "      <td>6</td>\n",
       "      <td>[[Barbara Parker, 0.4425], [None, 0.3065], [J....</td>\n",
       "      <td>[http://www.prnewswire.com/news-releases/san-f...</td>\n",
       "      <td>E</td>\n",
       "      <td>Wednesday</td>\n",
       "      <td>Sep</td>\n",
       "    </tr>\n",
       "    <tr>\n",
       "      <th>30133</th>\n",
       "      <td>2017-04-14-023043</td>\n",
       "      <td>global warming is dead, nailed into its coffin...</td>\n",
       "      <td>Bret Stephens</td>\n",
       "      <td>[Q4961960]</td>\n",
       "      <td>2017-04-14 20:18:33</td>\n",
       "      <td>2</td>\n",
       "      <td>[[Bret Stephens, 0.728], [None, 0.272]]</td>\n",
       "      <td>[http://www.environmentalhealthnews.org/t/2251...</td>\n",
       "      <td>E</td>\n",
       "      <td>Friday</td>\n",
       "      <td>Apr</td>\n",
       "    </tr>\n",
       "    <tr>\n",
       "      <th>30134</th>\n",
       "      <td>2017-09-24-020284</td>\n",
       "      <td>I believe in global warming. It's a problem an...</td>\n",
       "      <td>None</td>\n",
       "      <td>[]</td>\n",
       "      <td>2017-09-24 16:18:11</td>\n",
       "      <td>1</td>\n",
       "      <td>[[None, 0.4876], [Susan Rice, 0.4703], [Donald...</td>\n",
       "      <td>[http://www.gilmermirror.com/view/full_story/2...</td>\n",
       "      <td>E</td>\n",
       "      <td>Sunday</td>\n",
       "      <td>Sep</td>\n",
       "    </tr>\n",
       "  </tbody>\n",
       "</table>\n",
       "<p>30135 rows × 11 columns</p>\n",
       "</div>"
      ],
      "text/plain": [
       "                 quoteID                                          quotation  \\\n",
       "0      2017-10-10-083023  left the realm of the merely destructive and e...   \n",
       "1      2017-09-06-003914                advance this climate change agenda.   \n",
       "2      2017-07-06-075459             may find some allies on climate change   \n",
       "3      2017-12-20-072848  Mayor Lee's commitment to environmental policy...   \n",
       "4      2017-06-06-081706  now under threat as never before: pollution, o...   \n",
       "...                  ...                                                ...   \n",
       "30130  2017-09-22-018445  Climate change is a megatrend that has wide-ra...   \n",
       "30131  2017-06-12-017608  Developing countries seem to be waking up to e...   \n",
       "30132  2017-09-20-032353  Global warming is an existential threat to hum...   \n",
       "30133  2017-04-14-023043  global warming is dead, nailed into its coffin...   \n",
       "30134  2017-09-24-020284  I believe in global warming. It's a problem an...   \n",
       "\n",
       "                speaker                              qids                date  \\\n",
       "0       Tanya Plibersek                        [Q7684036] 2017-10-10 05:07:05   \n",
       "1         Rush Limbaugh                         [Q319072] 2017-09-06 23:12:48   \n",
       "2          Donald Trump               [Q22686, Q27947481] 2017-07-06 09:04:06   \n",
       "3         Gina McCarthy                        [Q5562899] 2017-12-20 09:00:35   \n",
       "4      António Guterres                         [Q311440] 2017-06-06 11:44:00   \n",
       "...                 ...                               ...                 ...   \n",
       "30130              None                                [] 2017-09-22 18:40:00   \n",
       "30131       John Irvine  [Q16142752, Q58810703, Q6240858] 2017-06-12 00:00:00   \n",
       "30132    Barbara Parker    [Q2555588, Q4859211, Q4859212] 2017-09-20 13:15:00   \n",
       "30133     Bret Stephens                        [Q4961960] 2017-04-14 20:18:33   \n",
       "30134              None                                [] 2017-09-24 16:18:11   \n",
       "\n",
       "       numOccurrences                                             probas  \\\n",
       "0                  86  [[Tanya Plibersek, 0.7071], [Tony Abbott, 0.13...   \n",
       "1                  73  [[Rush Limbaugh, 0.6842], [None, 0.2011], [Al ...   \n",
       "2                   1             [[Donald Trump, 0.624], [None, 0.376]]   \n",
       "3                   1  [[Gina McCarthy, 0.9385], [None, 0.053], [Ed L...   \n",
       "4                   1       [[António Guterres, 0.8775], [None, 0.1225]]   \n",
       "...               ...                                                ...   \n",
       "30130               1         [[None, 0.9198], [Bharat Masrani, 0.0802]]   \n",
       "30131               2            [[John Irvine, 0.8938], [None, 0.1063]]   \n",
       "30132               6  [[Barbara Parker, 0.4425], [None, 0.3065], [J....   \n",
       "30133               2            [[Bret Stephens, 0.728], [None, 0.272]]   \n",
       "30134               1  [[None, 0.4876], [Susan Rice, 0.4703], [Donald...   \n",
       "\n",
       "                                                    urls phase        day  \\\n",
       "0      [http://armidaleexpress.com.au/story/4979274/a...     E    Tuesday   \n",
       "1      [http://feeds.nydailynews.com/~r/nydnrss/sport...     E  Wednesday   \n",
       "2      [https://www.carbonbrief.org/daily-brief/volvo...     E   Thursday   \n",
       "3      [http://www.sfexaminer.com/retirement-board-he...     E  Wednesday   \n",
       "4      [https://sg.finance.yahoo.com/news/un-secretar...     E    Tuesday   \n",
       "...                                                  ...   ...        ...   \n",
       "30130  [http://www.greenpeace.org/canada/en/blog/Blog...     E     Friday   \n",
       "30131  [http://punchng.com/nigeria-must-join-push-for...     E     Monday   \n",
       "30132  [http://www.prnewswire.com/news-releases/san-f...     E  Wednesday   \n",
       "30133  [http://www.environmentalhealthnews.org/t/2251...     E     Friday   \n",
       "30134  [http://www.gilmermirror.com/view/full_story/2...     E     Sunday   \n",
       "\n",
       "      month  \n",
       "0       Oct  \n",
       "1       Sep  \n",
       "2       Jul  \n",
       "3       Dec  \n",
       "4       Jun  \n",
       "...     ...  \n",
       "30130   Sep  \n",
       "30131   Jun  \n",
       "30132   Sep  \n",
       "30133   Apr  \n",
       "30134   Sep  \n",
       "\n",
       "[30135 rows x 11 columns]"
      ]
     },
     "execution_count": 3,
     "metadata": {},
     "output_type": "execute_result"
    }
   ],
   "source": [
    "quotes_2020['month'] = quotes_2020['date'].dt.month.apply(lambda x: calendar.month_abbr[x])   \n",
    "quotes_2020"
   ]
  },
  {
   "cell_type": "code",
   "execution_count": 4,
   "id": "fcea64ee",
   "metadata": {},
   "outputs": [],
   "source": [
    "quotes_2020['date'] = quotes_2020['date'].dt.date"
   ]
  },
  {
   "cell_type": "markdown",
   "id": "4f18f732",
   "metadata": {},
   "source": [
    "### Here create a serie containing the number of quotations per day in descending order "
   ]
  },
  {
   "cell_type": "code",
   "execution_count": 5,
   "id": "b53a3aee",
   "metadata": {},
   "outputs": [
    {
     "data": {
      "text/plain": [
       "date\n",
       "2017-06-02    960\n",
       "2017-06-01    666\n",
       "2017-05-31    327\n",
       "2017-06-05    309\n",
       "2017-06-06    273\n",
       "2017-03-29    251\n",
       "2017-03-28    250\n",
       "2017-06-07    220\n",
       "2017-09-11    211\n",
       "2017-09-12    191\n",
       "Name: date, dtype: int64"
      ]
     },
     "execution_count": 5,
     "metadata": {},
     "output_type": "execute_result"
    }
   ],
   "source": [
    "quotes_date_occurence = quotes_2020.groupby('date').date.count()\n",
    "quotes_date_occurence = quotes_date_occurence.sort_values(ascending= False)\n",
    "quotes_date_occurence.head(10)"
   ]
  },
  {
   "cell_type": "markdown",
   "id": "90ff66ce",
   "metadata": {},
   "source": [
    "## Plot of the quotations reported per month"
   ]
  },
  {
   "cell_type": "code",
   "execution_count": 6,
   "id": "b87d3cb3",
   "metadata": {},
   "outputs": [
    {
     "data": {
      "text/plain": [
       "Text(-2.700000000000003, 0.5, 'Count')"
      ]
     },
     "execution_count": 6,
     "metadata": {},
     "output_type": "execute_result"
    },
    {
     "data": {
      "image/png": "[encoded data removed]",
      "text/plain": [
       "<Figure size 360x360 with 1 Axes>"
      ]
     },
     "metadata": {
      "needs_background": "light"
     },
     "output_type": "display_data"
    }
   ],
   "source": [
    "sns.displot(quotes_2020['month'])\n",
    "plt.title('Quotations reported per month')\n",
    "plt.xlabel(\"Months\")\n",
    "plt.ylabel(\"Count\")"
   ]
  },
  {
   "cell_type": "markdown",
   "id": "6b481bf6",
   "metadata": {},
   "source": [
    "### We then select  the quotations reported on peak days "
   ]
  },
  {
   "cell_type": "code",
   "execution_count": 7,
   "id": "5c3e5910",
   "metadata": {},
   "outputs": [
    {
     "data": {
      "text/html": [
       "<div>\n",
       "<style scoped>\n",
       "    .dataframe tbody tr th:only-of-type {\n",
       "        vertical-align: middle;\n",
       "    }\n",
       "\n",
       "    .dataframe tbody tr th {\n",
       "        vertical-align: top;\n",
       "    }\n",
       "\n",
       "    .dataframe thead th {\n",
       "        text-align: right;\n",
       "    }\n",
       "</style>\n",
       "<table border=\"1\" class=\"dataframe\">\n",
       "  <thead>\n",
       "    <tr style=\"text-align: right;\">\n",
       "      <th></th>\n",
       "      <th>quoteID</th>\n",
       "      <th>quotation</th>\n",
       "      <th>speaker</th>\n",
       "      <th>qids</th>\n",
       "      <th>date</th>\n",
       "      <th>numOccurrences</th>\n",
       "      <th>probas</th>\n",
       "      <th>urls</th>\n",
       "      <th>phase</th>\n",
       "      <th>day</th>\n",
       "      <th>month</th>\n",
       "    </tr>\n",
       "  </thead>\n",
       "  <tbody>\n",
       "    <tr>\n",
       "      <th>0</th>\n",
       "      <td>2017-06-06-081706</td>\n",
       "      <td>now under threat as never before: pollution, o...</td>\n",
       "      <td>António Guterres</td>\n",
       "      <td>[Q311440]</td>\n",
       "      <td>2017-06-06</td>\n",
       "      <td>1</td>\n",
       "      <td>[[António Guterres, 0.8775], [None, 0.1225]]</td>\n",
       "      <td>[https://sg.finance.yahoo.com/news/un-secretar...</td>\n",
       "      <td>E</td>\n",
       "      <td>Tuesday</td>\n",
       "      <td>Jun</td>\n",
       "    </tr>\n",
       "    <tr>\n",
       "      <th>1</th>\n",
       "      <td>2017-06-02-005735</td>\n",
       "      <td>American Rivers will continue to stand with th...</td>\n",
       "      <td>Bob Irvin</td>\n",
       "      <td>[Q4932894]</td>\n",
       "      <td>2017-06-02</td>\n",
       "      <td>2</td>\n",
       "      <td>[[Bob Irvin, 0.8016], [None, 0.1984]]</td>\n",
       "      <td>[https://insurancenewsnet.com/oarticle/america...</td>\n",
       "      <td>E</td>\n",
       "      <td>Friday</td>\n",
       "      <td>Jun</td>\n",
       "    </tr>\n",
       "    <tr>\n",
       "      <th>2</th>\n",
       "      <td>2017-06-07-029179</td>\n",
       "      <td>global warming is one of the gravest challenge...</td>\n",
       "      <td>None</td>\n",
       "      <td>[]</td>\n",
       "      <td>2017-06-07</td>\n",
       "      <td>21</td>\n",
       "      <td>[[None, 0.8978], [Donald Trump, 0.058], [Presi...</td>\n",
       "      <td>[http://mobile.sfgate.com/news/article/North-K...</td>\n",
       "      <td>E</td>\n",
       "      <td>Wednesday</td>\n",
       "      <td>Jun</td>\n",
       "    </tr>\n",
       "    <tr>\n",
       "      <th>3</th>\n",
       "      <td>2017-06-02-057495</td>\n",
       "      <td>In Massachusetts and around the world, climate...</td>\n",
       "      <td>Charlie Baker</td>\n",
       "      <td>[Q28051620, Q5076629, Q5084482, Q56254750]</td>\n",
       "      <td>2017-06-02</td>\n",
       "      <td>14</td>\n",
       "      <td>[[Charlie Baker, 0.4938], [Governor Charlie Ba...</td>\n",
       "      <td>[http://www.bostonglobe.com/metro/2017/06/01/a...</td>\n",
       "      <td>E</td>\n",
       "      <td>Friday</td>\n",
       "      <td>Jun</td>\n",
       "    </tr>\n",
       "    <tr>\n",
       "      <th>4</th>\n",
       "      <td>2017-06-06-006360</td>\n",
       "      <td>and help California and Los Angelenos on clima...</td>\n",
       "      <td>Jimmy Gomez</td>\n",
       "      <td>[Q6200205]</td>\n",
       "      <td>2017-06-06</td>\n",
       "      <td>3</td>\n",
       "      <td>[[Jimmy Gomez, 0.5484], [None, 0.2221], [Frank...</td>\n",
       "      <td>[http://nbcnews.com/news/latino/latino-asian-a...</td>\n",
       "      <td>E</td>\n",
       "      <td>Tuesday</td>\n",
       "      <td>Jun</td>\n",
       "    </tr>\n",
       "    <tr>\n",
       "      <th>...</th>\n",
       "      <td>...</td>\n",
       "      <td>...</td>\n",
       "      <td>...</td>\n",
       "      <td>...</td>\n",
       "      <td>...</td>\n",
       "      <td>...</td>\n",
       "      <td>...</td>\n",
       "      <td>...</td>\n",
       "      <td>...</td>\n",
       "      <td>...</td>\n",
       "      <td>...</td>\n",
       "    </tr>\n",
       "    <tr>\n",
       "      <th>3653</th>\n",
       "      <td>2017-06-06-078926</td>\n",
       "      <td>My sense is that people understand that there'...</td>\n",
       "      <td>Bill Morneau</td>\n",
       "      <td>[Q21175197]</td>\n",
       "      <td>2017-06-06</td>\n",
       "      <td>2</td>\n",
       "      <td>[[Bill Morneau, 0.8069], [None, 0.1931]]</td>\n",
       "      <td>[http://www.ctvnews.ca/politics/morneau-says-n...</td>\n",
       "      <td>E</td>\n",
       "      <td>Tuesday</td>\n",
       "      <td>Jun</td>\n",
       "    </tr>\n",
       "    <tr>\n",
       "      <th>3654</th>\n",
       "      <td>2017-06-02-088546</td>\n",
       "      <td>President Trump is ignoring the impact of clim...</td>\n",
       "      <td>None</td>\n",
       "      <td>[]</td>\n",
       "      <td>2017-06-02</td>\n",
       "      <td>1</td>\n",
       "      <td>[[None, 0.8048], [President Trump, 0.1952]]</td>\n",
       "      <td>[http://www.abc2news.com/news/region/baltimore...</td>\n",
       "      <td>E</td>\n",
       "      <td>Friday</td>\n",
       "      <td>Jun</td>\n",
       "    </tr>\n",
       "    <tr>\n",
       "      <th>3655</th>\n",
       "      <td>2017-06-06-130301</td>\n",
       "      <td>We are disappointed with today's decision by t...</td>\n",
       "      <td>Brad Smith</td>\n",
       "      <td>[Q15477554, Q16218831, Q23664265, Q24084114, Q...</td>\n",
       "      <td>2017-06-06</td>\n",
       "      <td>1</td>\n",
       "      <td>[[Brad Smith, 0.9061], [None, 0.0851], [Satya ...</td>\n",
       "      <td>[http://nlpc.org/2017/06/06/hypocritical-ceos-...</td>\n",
       "      <td>E</td>\n",
       "      <td>Tuesday</td>\n",
       "      <td>Jun</td>\n",
       "    </tr>\n",
       "    <tr>\n",
       "      <th>3656</th>\n",
       "      <td>2017-06-02-129517</td>\n",
       "      <td>We are on the front lines addressing climate c...</td>\n",
       "      <td>None</td>\n",
       "      <td>[]</td>\n",
       "      <td>2017-06-02</td>\n",
       "      <td>1</td>\n",
       "      <td>[[None, 0.7212], [Edward Mazria, 0.194], [Pres...</td>\n",
       "      <td>[https://www.curbed.com/2017/6/2/15727258/pari...</td>\n",
       "      <td>E</td>\n",
       "      <td>Friday</td>\n",
       "      <td>Jun</td>\n",
       "    </tr>\n",
       "    <tr>\n",
       "      <th>3657</th>\n",
       "      <td>2017-06-01-155020</td>\n",
       "      <td>We worked really hard in South Florida... to r...</td>\n",
       "      <td>None</td>\n",
       "      <td>[]</td>\n",
       "      <td>2017-06-01</td>\n",
       "      <td>3</td>\n",
       "      <td>[[None, 0.7492], [President Donald Trump, 0.25...</td>\n",
       "      <td>[http://wlrn.org/post/south-florida-protesters...</td>\n",
       "      <td>E</td>\n",
       "      <td>Thursday</td>\n",
       "      <td>Jun</td>\n",
       "    </tr>\n",
       "  </tbody>\n",
       "</table>\n",
       "<p>3658 rows × 11 columns</p>\n",
       "</div>"
      ],
      "text/plain": [
       "                quoteID                                          quotation  \\\n",
       "0     2017-06-06-081706  now under threat as never before: pollution, o...   \n",
       "1     2017-06-02-005735  American Rivers will continue to stand with th...   \n",
       "2     2017-06-07-029179  global warming is one of the gravest challenge...   \n",
       "3     2017-06-02-057495  In Massachusetts and around the world, climate...   \n",
       "4     2017-06-06-006360  and help California and Los Angelenos on clima...   \n",
       "...                 ...                                                ...   \n",
       "3653  2017-06-06-078926  My sense is that people understand that there'...   \n",
       "3654  2017-06-02-088546  President Trump is ignoring the impact of clim...   \n",
       "3655  2017-06-06-130301  We are disappointed with today's decision by t...   \n",
       "3656  2017-06-02-129517  We are on the front lines addressing climate c...   \n",
       "3657  2017-06-01-155020  We worked really hard in South Florida... to r...   \n",
       "\n",
       "               speaker                                               qids  \\\n",
       "0     António Guterres                                          [Q311440]   \n",
       "1            Bob Irvin                                         [Q4932894]   \n",
       "2                 None                                                 []   \n",
       "3        Charlie Baker         [Q28051620, Q5076629, Q5084482, Q56254750]   \n",
       "4          Jimmy Gomez                                         [Q6200205]   \n",
       "...                ...                                                ...   \n",
       "3653      Bill Morneau                                        [Q21175197]   \n",
       "3654              None                                                 []   \n",
       "3655        Brad Smith  [Q15477554, Q16218831, Q23664265, Q24084114, Q...   \n",
       "3656              None                                                 []   \n",
       "3657              None                                                 []   \n",
       "\n",
       "            date  numOccurrences  \\\n",
       "0     2017-06-06               1   \n",
       "1     2017-06-02               2   \n",
       "2     2017-06-07              21   \n",
       "3     2017-06-02              14   \n",
       "4     2017-06-06               3   \n",
       "...          ...             ...   \n",
       "3653  2017-06-06               2   \n",
       "3654  2017-06-02               1   \n",
       "3655  2017-06-06               1   \n",
       "3656  2017-06-02               1   \n",
       "3657  2017-06-01               3   \n",
       "\n",
       "                                                 probas  \\\n",
       "0          [[António Guterres, 0.8775], [None, 0.1225]]   \n",
       "1                 [[Bob Irvin, 0.8016], [None, 0.1984]]   \n",
       "2     [[None, 0.8978], [Donald Trump, 0.058], [Presi...   \n",
       "3     [[Charlie Baker, 0.4938], [Governor Charlie Ba...   \n",
       "4     [[Jimmy Gomez, 0.5484], [None, 0.2221], [Frank...   \n",
       "...                                                 ...   \n",
       "3653           [[Bill Morneau, 0.8069], [None, 0.1931]]   \n",
       "3654        [[None, 0.8048], [President Trump, 0.1952]]   \n",
       "3655  [[Brad Smith, 0.9061], [None, 0.0851], [Satya ...   \n",
       "3656  [[None, 0.7212], [Edward Mazria, 0.194], [Pres...   \n",
       "3657  [[None, 0.7492], [President Donald Trump, 0.25...   \n",
       "\n",
       "                                                   urls phase        day month  \n",
       "0     [https://sg.finance.yahoo.com/news/un-secretar...     E    Tuesday   Jun  \n",
       "1     [https://insurancenewsnet.com/oarticle/america...     E     Friday   Jun  \n",
       "2     [http://mobile.sfgate.com/news/article/North-K...     E  Wednesday   Jun  \n",
       "3     [http://www.bostonglobe.com/metro/2017/06/01/a...     E     Friday   Jun  \n",
       "4     [http://nbcnews.com/news/latino/latino-asian-a...     E    Tuesday   Jun  \n",
       "...                                                 ...   ...        ...   ...  \n",
       "3653  [http://www.ctvnews.ca/politics/morneau-says-n...     E    Tuesday   Jun  \n",
       "3654  [http://www.abc2news.com/news/region/baltimore...     E     Friday   Jun  \n",
       "3655  [http://nlpc.org/2017/06/06/hypocritical-ceos-...     E    Tuesday   Jun  \n",
       "3656  [https://www.curbed.com/2017/6/2/15727258/pari...     E     Friday   Jun  \n",
       "3657  [http://wlrn.org/post/south-florida-protesters...     E   Thursday   Jun  \n",
       "\n",
       "[3658 rows x 11 columns]"
      ]
     },
     "execution_count": 7,
     "metadata": {},
     "output_type": "execute_result"
    }
   ],
   "source": [
    "top_ten_days = quotes_date_occurence.index[:10].astype(str)\n",
    "quotations_peak  = quotes_2020[quotes_2020['date'].astype(str).apply(lambda x: x in top_ten_days.to_list())]\n",
    "quotations_peak.reset_index(drop = True, inplace = True)\n",
    "quotations_peak"
   ]
  },
  {
   "cell_type": "code",
   "execution_count": null,
   "id": "e5efdf46",
   "metadata": {},
   "outputs": [],
   "source": []
  },
  {
   "cell_type": "markdown",
   "id": "11fe6a3e",
   "metadata": {},
   "source": [
    "## Plot of the number of quotations reported per day "
   ]
  },
  {
   "cell_type": "code",
   "execution_count": 8,
   "id": "48896bd6",
   "metadata": {},
   "outputs": [
    {
     "data": {
      "text/plain": [
       "Text(0.5, 1.0, 'Number of quotations reported per day ')"
      ]
     },
     "execution_count": 8,
     "metadata": {},
     "output_type": "execute_result"
    },
    {
     "data": {
      "image/png": "[encoded data removed]",
      "text/plain": [
       "<Figure size 432x288 with 1 Axes>"
      ]
     },
     "metadata": {
      "needs_background": "light"
     },
     "output_type": "display_data"
    }
   ],
   "source": [
    "sns.histplot(quotes_2020['date'],label = \"Whole dataset\", bins =5*365)\n",
    "sns.histplot(quotations_peak['date'], color = 'red',label = \"Peaks\") \n",
    "plt.xticks(rotation= 45 )\n",
    "plt.xlabel('Dates')\n",
    "plt.ylabel('Count')\n",
    "plt.legend()\n",
    "\n",
    "plt.title('Number of quotations reported per day ')"
   ]
  },
  {
   "cell_type": "code",
   "execution_count": 9,
   "id": "0214a037",
   "metadata": {},
   "outputs": [],
   "source": [
    "date_1 = '2017-06-02'"
   ]
  },
  {
   "cell_type": "code",
   "execution_count": 10,
   "id": "91976515",
   "metadata": {},
   "outputs": [],
   "source": [
    "country_tld = pd.read_excel('tld_country.xlsx', header= 0)\n",
    "uk_tld = {\"Country\" : 'UNITED KINGDOM', \"TLD\" :'UK'}\n",
    "country_tld = country_tld.append(uk_tld,ignore_index=True)\n"
   ]
  },
  {
   "cell_type": "code",
   "execution_count": 11,
   "id": "11ff07ce",
   "metadata": {},
   "outputs": [
    {
     "data": {
      "text/html": [
       "<div>\n",
       "<style scoped>\n",
       "    .dataframe tbody tr th:only-of-type {\n",
       "        vertical-align: middle;\n",
       "    }\n",
       "\n",
       "    .dataframe tbody tr th {\n",
       "        vertical-align: top;\n",
       "    }\n",
       "\n",
       "    .dataframe thead th {\n",
       "        text-align: right;\n",
       "    }\n",
       "</style>\n",
       "<table border=\"1\" class=\"dataframe\">\n",
       "  <thead>\n",
       "    <tr style=\"text-align: right;\">\n",
       "      <th></th>\n",
       "      <th>Country</th>\n",
       "      <th>TLD</th>\n",
       "    </tr>\n",
       "  </thead>\n",
       "  <tbody>\n",
       "    <tr>\n",
       "      <th>0</th>\n",
       "      <td>AFGHANISTAN</td>\n",
       "      <td>AF</td>\n",
       "    </tr>\n",
       "    <tr>\n",
       "      <th>1</th>\n",
       "      <td>ÅLAND ISLANDS</td>\n",
       "      <td>AX</td>\n",
       "    </tr>\n",
       "    <tr>\n",
       "      <th>2</th>\n",
       "      <td>ALBANIA</td>\n",
       "      <td>AL</td>\n",
       "    </tr>\n",
       "    <tr>\n",
       "      <th>3</th>\n",
       "      <td>ALGERIA</td>\n",
       "      <td>DZ</td>\n",
       "    </tr>\n",
       "    <tr>\n",
       "      <th>4</th>\n",
       "      <td>AMERICAN SAMOA</td>\n",
       "      <td>AS</td>\n",
       "    </tr>\n",
       "    <tr>\n",
       "      <th>...</th>\n",
       "      <td>...</td>\n",
       "      <td>...</td>\n",
       "    </tr>\n",
       "    <tr>\n",
       "      <th>245</th>\n",
       "      <td>WESTERN SAHARA</td>\n",
       "      <td>EH</td>\n",
       "    </tr>\n",
       "    <tr>\n",
       "      <th>246</th>\n",
       "      <td>YEMEN</td>\n",
       "      <td>YE</td>\n",
       "    </tr>\n",
       "    <tr>\n",
       "      <th>247</th>\n",
       "      <td>ZAMBIA</td>\n",
       "      <td>ZM</td>\n",
       "    </tr>\n",
       "    <tr>\n",
       "      <th>248</th>\n",
       "      <td>ZIMBABWE</td>\n",
       "      <td>ZW</td>\n",
       "    </tr>\n",
       "    <tr>\n",
       "      <th>249</th>\n",
       "      <td>UNITED KINGDOM</td>\n",
       "      <td>UK</td>\n",
       "    </tr>\n",
       "  </tbody>\n",
       "</table>\n",
       "<p>250 rows × 2 columns</p>\n",
       "</div>"
      ],
      "text/plain": [
       "            Country TLD\n",
       "0       AFGHANISTAN  AF\n",
       "1     ÅLAND ISLANDS  AX\n",
       "2           ALBANIA  AL\n",
       "3           ALGERIA  DZ\n",
       "4    AMERICAN SAMOA  AS\n",
       "..              ...  ..\n",
       "245  WESTERN SAHARA  EH\n",
       "246           YEMEN  YE\n",
       "247          ZAMBIA  ZM\n",
       "248        ZIMBABWE  ZW\n",
       "249  UNITED KINGDOM  UK\n",
       "\n",
       "[250 rows x 2 columns]"
      ]
     },
     "execution_count": 11,
     "metadata": {},
     "output_type": "execute_result"
    }
   ],
   "source": [
    "country_tld"
   ]
  },
  {
   "cell_type": "code",
   "execution_count": 12,
   "id": "bebfad3b",
   "metadata": {},
   "outputs": [
    {
     "data": {
      "text/html": [
       "<div>\n",
       "<style scoped>\n",
       "    .dataframe tbody tr th:only-of-type {\n",
       "        vertical-align: middle;\n",
       "    }\n",
       "\n",
       "    .dataframe tbody tr th {\n",
       "        vertical-align: top;\n",
       "    }\n",
       "\n",
       "    .dataframe thead th {\n",
       "        text-align: right;\n",
       "    }\n",
       "</style>\n",
       "<table border=\"1\" class=\"dataframe\">\n",
       "  <thead>\n",
       "    <tr style=\"text-align: right;\">\n",
       "      <th></th>\n",
       "      <th>Country</th>\n",
       "      <th>TLD</th>\n",
       "    </tr>\n",
       "  </thead>\n",
       "  <tbody>\n",
       "    <tr>\n",
       "      <th>0</th>\n",
       "      <td>afghanistan</td>\n",
       "      <td>af</td>\n",
       "    </tr>\n",
       "    <tr>\n",
       "      <th>1</th>\n",
       "      <td>åland islands</td>\n",
       "      <td>ax</td>\n",
       "    </tr>\n",
       "    <tr>\n",
       "      <th>2</th>\n",
       "      <td>albania</td>\n",
       "      <td>al</td>\n",
       "    </tr>\n",
       "    <tr>\n",
       "      <th>3</th>\n",
       "      <td>algeria</td>\n",
       "      <td>dz</td>\n",
       "    </tr>\n",
       "    <tr>\n",
       "      <th>4</th>\n",
       "      <td>american samoa</td>\n",
       "      <td>as</td>\n",
       "    </tr>\n",
       "    <tr>\n",
       "      <th>...</th>\n",
       "      <td>...</td>\n",
       "      <td>...</td>\n",
       "    </tr>\n",
       "    <tr>\n",
       "      <th>245</th>\n",
       "      <td>western sahara</td>\n",
       "      <td>eh</td>\n",
       "    </tr>\n",
       "    <tr>\n",
       "      <th>246</th>\n",
       "      <td>yemen</td>\n",
       "      <td>ye</td>\n",
       "    </tr>\n",
       "    <tr>\n",
       "      <th>247</th>\n",
       "      <td>zambia</td>\n",
       "      <td>zm</td>\n",
       "    </tr>\n",
       "    <tr>\n",
       "      <th>248</th>\n",
       "      <td>zimbabwe</td>\n",
       "      <td>zw</td>\n",
       "    </tr>\n",
       "    <tr>\n",
       "      <th>249</th>\n",
       "      <td>united kingdom</td>\n",
       "      <td>uk</td>\n",
       "    </tr>\n",
       "  </tbody>\n",
       "</table>\n",
       "<p>250 rows × 2 columns</p>\n",
       "</div>"
      ],
      "text/plain": [
       "            Country TLD\n",
       "0       afghanistan  af\n",
       "1     åland islands  ax\n",
       "2           albania  al\n",
       "3           algeria  dz\n",
       "4    american samoa  as\n",
       "..              ...  ..\n",
       "245  western sahara  eh\n",
       "246           yemen  ye\n",
       "247          zambia  zm\n",
       "248        zimbabwe  zw\n",
       "249  united kingdom  uk\n",
       "\n",
       "[250 rows x 2 columns]"
      ]
     },
     "execution_count": 12,
     "metadata": {},
     "output_type": "execute_result"
    }
   ],
   "source": [
    "country_tld['TLD'] = country_tld['TLD'].str.lower()\n",
    "country_tld['Country'] = country_tld['Country'].str.lower()\n",
    "country_tld\n"
   ]
  },
  {
   "cell_type": "code",
   "execution_count": 13,
   "id": "a5571af1",
   "metadata": {},
   "outputs": [
    {
     "data": {
      "text/html": [
       "<div>\n",
       "<style scoped>\n",
       "    .dataframe tbody tr th:only-of-type {\n",
       "        vertical-align: middle;\n",
       "    }\n",
       "\n",
       "    .dataframe tbody tr th {\n",
       "        vertical-align: top;\n",
       "    }\n",
       "\n",
       "    .dataframe thead th {\n",
       "        text-align: right;\n",
       "    }\n",
       "</style>\n",
       "<table border=\"1\" class=\"dataframe\">\n",
       "  <thead>\n",
       "    <tr style=\"text-align: right;\">\n",
       "      <th></th>\n",
       "      <th>quoteID</th>\n",
       "      <th>quotation</th>\n",
       "      <th>speaker</th>\n",
       "      <th>qids</th>\n",
       "      <th>date</th>\n",
       "      <th>numOccurrences</th>\n",
       "      <th>probas</th>\n",
       "      <th>urls</th>\n",
       "      <th>phase</th>\n",
       "      <th>day</th>\n",
       "      <th>month</th>\n",
       "    </tr>\n",
       "  </thead>\n",
       "  <tbody>\n",
       "    <tr>\n",
       "      <th>0</th>\n",
       "      <td>2017-06-06-081706</td>\n",
       "      <td>now under threat as never before: pollution, o...</td>\n",
       "      <td>António Guterres</td>\n",
       "      <td>[Q311440]</td>\n",
       "      <td>2017-06-06</td>\n",
       "      <td>1</td>\n",
       "      <td>[[António Guterres, 0.8775], [None, 0.1225]]</td>\n",
       "      <td>[https://sg.finance.yahoo.com/news/un-secretar...</td>\n",
       "      <td>E</td>\n",
       "      <td>Tuesday</td>\n",
       "      <td>Jun</td>\n",
       "    </tr>\n",
       "    <tr>\n",
       "      <th>1</th>\n",
       "      <td>2017-06-02-005735</td>\n",
       "      <td>American Rivers will continue to stand with th...</td>\n",
       "      <td>Bob Irvin</td>\n",
       "      <td>[Q4932894]</td>\n",
       "      <td>2017-06-02</td>\n",
       "      <td>2</td>\n",
       "      <td>[[Bob Irvin, 0.8016], [None, 0.1984]]</td>\n",
       "      <td>[https://insurancenewsnet.com/oarticle/america...</td>\n",
       "      <td>E</td>\n",
       "      <td>Friday</td>\n",
       "      <td>Jun</td>\n",
       "    </tr>\n",
       "    <tr>\n",
       "      <th>2</th>\n",
       "      <td>2017-06-07-029179</td>\n",
       "      <td>global warming is one of the gravest challenge...</td>\n",
       "      <td>None</td>\n",
       "      <td>[]</td>\n",
       "      <td>2017-06-07</td>\n",
       "      <td>21</td>\n",
       "      <td>[[None, 0.8978], [Donald Trump, 0.058], [Presi...</td>\n",
       "      <td>[http://mobile.sfgate.com/news/article/North-K...</td>\n",
       "      <td>E</td>\n",
       "      <td>Wednesday</td>\n",
       "      <td>Jun</td>\n",
       "    </tr>\n",
       "    <tr>\n",
       "      <th>3</th>\n",
       "      <td>2017-06-02-057495</td>\n",
       "      <td>In Massachusetts and around the world, climate...</td>\n",
       "      <td>Charlie Baker</td>\n",
       "      <td>[Q28051620, Q5076629, Q5084482, Q56254750]</td>\n",
       "      <td>2017-06-02</td>\n",
       "      <td>14</td>\n",
       "      <td>[[Charlie Baker, 0.4938], [Governor Charlie Ba...</td>\n",
       "      <td>[http://www.bostonglobe.com/metro/2017/06/01/a...</td>\n",
       "      <td>E</td>\n",
       "      <td>Friday</td>\n",
       "      <td>Jun</td>\n",
       "    </tr>\n",
       "    <tr>\n",
       "      <th>4</th>\n",
       "      <td>2017-06-06-006360</td>\n",
       "      <td>and help California and Los Angelenos on clima...</td>\n",
       "      <td>Jimmy Gomez</td>\n",
       "      <td>[Q6200205]</td>\n",
       "      <td>2017-06-06</td>\n",
       "      <td>3</td>\n",
       "      <td>[[Jimmy Gomez, 0.5484], [None, 0.2221], [Frank...</td>\n",
       "      <td>[http://nbcnews.com/news/latino/latino-asian-a...</td>\n",
       "      <td>E</td>\n",
       "      <td>Tuesday</td>\n",
       "      <td>Jun</td>\n",
       "    </tr>\n",
       "    <tr>\n",
       "      <th>...</th>\n",
       "      <td>...</td>\n",
       "      <td>...</td>\n",
       "      <td>...</td>\n",
       "      <td>...</td>\n",
       "      <td>...</td>\n",
       "      <td>...</td>\n",
       "      <td>...</td>\n",
       "      <td>...</td>\n",
       "      <td>...</td>\n",
       "      <td>...</td>\n",
       "      <td>...</td>\n",
       "    </tr>\n",
       "    <tr>\n",
       "      <th>3653</th>\n",
       "      <td>2017-06-06-078926</td>\n",
       "      <td>My sense is that people understand that there'...</td>\n",
       "      <td>Bill Morneau</td>\n",
       "      <td>[Q21175197]</td>\n",
       "      <td>2017-06-06</td>\n",
       "      <td>2</td>\n",
       "      <td>[[Bill Morneau, 0.8069], [None, 0.1931]]</td>\n",
       "      <td>[http://www.ctvnews.ca/politics/morneau-says-n...</td>\n",
       "      <td>E</td>\n",
       "      <td>Tuesday</td>\n",
       "      <td>Jun</td>\n",
       "    </tr>\n",
       "    <tr>\n",
       "      <th>3654</th>\n",
       "      <td>2017-06-02-088546</td>\n",
       "      <td>President Trump is ignoring the impact of clim...</td>\n",
       "      <td>None</td>\n",
       "      <td>[]</td>\n",
       "      <td>2017-06-02</td>\n",
       "      <td>1</td>\n",
       "      <td>[[None, 0.8048], [President Trump, 0.1952]]</td>\n",
       "      <td>[http://www.abc2news.com/news/region/baltimore...</td>\n",
       "      <td>E</td>\n",
       "      <td>Friday</td>\n",
       "      <td>Jun</td>\n",
       "    </tr>\n",
       "    <tr>\n",
       "      <th>3655</th>\n",
       "      <td>2017-06-06-130301</td>\n",
       "      <td>We are disappointed with today's decision by t...</td>\n",
       "      <td>Brad Smith</td>\n",
       "      <td>[Q15477554, Q16218831, Q23664265, Q24084114, Q...</td>\n",
       "      <td>2017-06-06</td>\n",
       "      <td>1</td>\n",
       "      <td>[[Brad Smith, 0.9061], [None, 0.0851], [Satya ...</td>\n",
       "      <td>[http://nlpc.org/2017/06/06/hypocritical-ceos-...</td>\n",
       "      <td>E</td>\n",
       "      <td>Tuesday</td>\n",
       "      <td>Jun</td>\n",
       "    </tr>\n",
       "    <tr>\n",
       "      <th>3656</th>\n",
       "      <td>2017-06-02-129517</td>\n",
       "      <td>We are on the front lines addressing climate c...</td>\n",
       "      <td>None</td>\n",
       "      <td>[]</td>\n",
       "      <td>2017-06-02</td>\n",
       "      <td>1</td>\n",
       "      <td>[[None, 0.7212], [Edward Mazria, 0.194], [Pres...</td>\n",
       "      <td>[https://www.curbed.com/2017/6/2/15727258/pari...</td>\n",
       "      <td>E</td>\n",
       "      <td>Friday</td>\n",
       "      <td>Jun</td>\n",
       "    </tr>\n",
       "    <tr>\n",
       "      <th>3657</th>\n",
       "      <td>2017-06-01-155020</td>\n",
       "      <td>We worked really hard in South Florida... to r...</td>\n",
       "      <td>None</td>\n",
       "      <td>[]</td>\n",
       "      <td>2017-06-01</td>\n",
       "      <td>3</td>\n",
       "      <td>[[None, 0.7492], [President Donald Trump, 0.25...</td>\n",
       "      <td>[http://wlrn.org/post/south-florida-protesters...</td>\n",
       "      <td>E</td>\n",
       "      <td>Thursday</td>\n",
       "      <td>Jun</td>\n",
       "    </tr>\n",
       "  </tbody>\n",
       "</table>\n",
       "<p>3658 rows × 11 columns</p>\n",
       "</div>"
      ],
      "text/plain": [
       "                quoteID                                          quotation  \\\n",
       "0     2017-06-06-081706  now under threat as never before: pollution, o...   \n",
       "1     2017-06-02-005735  American Rivers will continue to stand with th...   \n",
       "2     2017-06-07-029179  global warming is one of the gravest challenge...   \n",
       "3     2017-06-02-057495  In Massachusetts and around the world, climate...   \n",
       "4     2017-06-06-006360  and help California and Los Angelenos on clima...   \n",
       "...                 ...                                                ...   \n",
       "3653  2017-06-06-078926  My sense is that people understand that there'...   \n",
       "3654  2017-06-02-088546  President Trump is ignoring the impact of clim...   \n",
       "3655  2017-06-06-130301  We are disappointed with today's decision by t...   \n",
       "3656  2017-06-02-129517  We are on the front lines addressing climate c...   \n",
       "3657  2017-06-01-155020  We worked really hard in South Florida... to r...   \n",
       "\n",
       "               speaker                                               qids  \\\n",
       "0     António Guterres                                          [Q311440]   \n",
       "1            Bob Irvin                                         [Q4932894]   \n",
       "2                 None                                                 []   \n",
       "3        Charlie Baker         [Q28051620, Q5076629, Q5084482, Q56254750]   \n",
       "4          Jimmy Gomez                                         [Q6200205]   \n",
       "...                ...                                                ...   \n",
       "3653      Bill Morneau                                        [Q21175197]   \n",
       "3654              None                                                 []   \n",
       "3655        Brad Smith  [Q15477554, Q16218831, Q23664265, Q24084114, Q...   \n",
       "3656              None                                                 []   \n",
       "3657              None                                                 []   \n",
       "\n",
       "            date  numOccurrences  \\\n",
       "0     2017-06-06               1   \n",
       "1     2017-06-02               2   \n",
       "2     2017-06-07              21   \n",
       "3     2017-06-02              14   \n",
       "4     2017-06-06               3   \n",
       "...          ...             ...   \n",
       "3653  2017-06-06               2   \n",
       "3654  2017-06-02               1   \n",
       "3655  2017-06-06               1   \n",
       "3656  2017-06-02               1   \n",
       "3657  2017-06-01               3   \n",
       "\n",
       "                                                 probas  \\\n",
       "0          [[António Guterres, 0.8775], [None, 0.1225]]   \n",
       "1                 [[Bob Irvin, 0.8016], [None, 0.1984]]   \n",
       "2     [[None, 0.8978], [Donald Trump, 0.058], [Presi...   \n",
       "3     [[Charlie Baker, 0.4938], [Governor Charlie Ba...   \n",
       "4     [[Jimmy Gomez, 0.5484], [None, 0.2221], [Frank...   \n",
       "...                                                 ...   \n",
       "3653           [[Bill Morneau, 0.8069], [None, 0.1931]]   \n",
       "3654        [[None, 0.8048], [President Trump, 0.1952]]   \n",
       "3655  [[Brad Smith, 0.9061], [None, 0.0851], [Satya ...   \n",
       "3656  [[None, 0.7212], [Edward Mazria, 0.194], [Pres...   \n",
       "3657  [[None, 0.7492], [President Donald Trump, 0.25...   \n",
       "\n",
       "                                                   urls phase        day month  \n",
       "0     [https://sg.finance.yahoo.com/news/un-secretar...     E    Tuesday   Jun  \n",
       "1     [https://insurancenewsnet.com/oarticle/america...     E     Friday   Jun  \n",
       "2     [http://mobile.sfgate.com/news/article/North-K...     E  Wednesday   Jun  \n",
       "3     [http://www.bostonglobe.com/metro/2017/06/01/a...     E     Friday   Jun  \n",
       "4     [http://nbcnews.com/news/latino/latino-asian-a...     E    Tuesday   Jun  \n",
       "...                                                 ...   ...        ...   ...  \n",
       "3653  [http://www.ctvnews.ca/politics/morneau-says-n...     E    Tuesday   Jun  \n",
       "3654  [http://www.abc2news.com/news/region/baltimore...     E     Friday   Jun  \n",
       "3655  [http://nlpc.org/2017/06/06/hypocritical-ceos-...     E    Tuesday   Jun  \n",
       "3656  [https://www.curbed.com/2017/6/2/15727258/pari...     E     Friday   Jun  \n",
       "3657  [http://wlrn.org/post/south-florida-protesters...     E   Thursday   Jun  \n",
       "\n",
       "[3658 rows x 11 columns]"
      ]
     },
     "execution_count": 13,
     "metadata": {},
     "output_type": "execute_result"
    }
   ],
   "source": [
    "quotations_peak"
   ]
  },
  {
   "cell_type": "code",
   "execution_count": 14,
   "id": "237ab183",
   "metadata": {},
   "outputs": [],
   "source": [
    "quotes_cop = quotations_peak[quotations_peak.date.astype(str)== date_1 ]\n",
    "quotes_cop.reset_index(drop = True, inplace = True)"
   ]
  },
  {
   "cell_type": "code",
   "execution_count": 38,
   "id": "4adffdea",
   "metadata": {},
   "outputs": [],
   "source": [
    "urls_vect = quotes_cop.urls\n",
    "\n"
   ]
  },
  {
   "cell_type": "code",
   "execution_count": 41,
   "id": "36137f70",
   "metadata": {},
   "outputs": [
    {
     "data": {
      "text/plain": [
       "7.129166666666666"
      ]
     },
     "execution_count": 41,
     "metadata": {},
     "output_type": "execute_result"
    }
   ],
   "source": [
    "count =pd.Series([ len(listElem) for listElem in urls_vect])\n",
    "#number of sources per quotations on average\n",
    "count.mean()\n"
   ]
  },
  {
   "cell_type": "code",
   "execution_count": 16,
   "id": "d192c9d2",
   "metadata": {},
   "outputs": [],
   "source": [
    "\n",
    "\n",
    "website_vect = []\n",
    "tld_vect = []\n",
    "for urls in urls_vect:\n",
    "    \n",
    "    for j in urls:\n",
    "        \n",
    "        parsed_url = urllib.parse.urlparse(j)[1]\n",
    "        website_vect.append(parsed_url)\n",
    "        tld_vect.append(get_tld(j))\n",
    "\n",
    "        #print(domain)\n",
    " "
   ]
  },
  {
   "cell_type": "code",
   "execution_count": 17,
   "id": "e72d030f",
   "metadata": {},
   "outputs": [
    {
     "data": {
      "text/html": [
       "<div>\n",
       "<style scoped>\n",
       "    .dataframe tbody tr th:only-of-type {\n",
       "        vertical-align: middle;\n",
       "    }\n",
       "\n",
       "    .dataframe tbody tr th {\n",
       "        vertical-align: top;\n",
       "    }\n",
       "\n",
       "    .dataframe thead th {\n",
       "        text-align: right;\n",
       "    }\n",
       "</style>\n",
       "<table border=\"1\" class=\"dataframe\">\n",
       "  <thead>\n",
       "    <tr style=\"text-align: right;\">\n",
       "      <th></th>\n",
       "      <th>Country</th>\n",
       "      <th>TLD</th>\n",
       "    </tr>\n",
       "  </thead>\n",
       "  <tbody>\n",
       "    <tr>\n",
       "      <th>0</th>\n",
       "      <td>afghanistan</td>\n",
       "      <td>af</td>\n",
       "    </tr>\n",
       "    <tr>\n",
       "      <th>1</th>\n",
       "      <td>åland islands</td>\n",
       "      <td>ax</td>\n",
       "    </tr>\n",
       "    <tr>\n",
       "      <th>2</th>\n",
       "      <td>albania</td>\n",
       "      <td>al</td>\n",
       "    </tr>\n",
       "    <tr>\n",
       "      <th>3</th>\n",
       "      <td>algeria</td>\n",
       "      <td>dz</td>\n",
       "    </tr>\n",
       "    <tr>\n",
       "      <th>4</th>\n",
       "      <td>american samoa</td>\n",
       "      <td>as</td>\n",
       "    </tr>\n",
       "    <tr>\n",
       "      <th>...</th>\n",
       "      <td>...</td>\n",
       "      <td>...</td>\n",
       "    </tr>\n",
       "    <tr>\n",
       "      <th>245</th>\n",
       "      <td>western sahara</td>\n",
       "      <td>eh</td>\n",
       "    </tr>\n",
       "    <tr>\n",
       "      <th>246</th>\n",
       "      <td>yemen</td>\n",
       "      <td>ye</td>\n",
       "    </tr>\n",
       "    <tr>\n",
       "      <th>247</th>\n",
       "      <td>zambia</td>\n",
       "      <td>zm</td>\n",
       "    </tr>\n",
       "    <tr>\n",
       "      <th>248</th>\n",
       "      <td>zimbabwe</td>\n",
       "      <td>zw</td>\n",
       "    </tr>\n",
       "    <tr>\n",
       "      <th>249</th>\n",
       "      <td>united kingdom</td>\n",
       "      <td>uk</td>\n",
       "    </tr>\n",
       "  </tbody>\n",
       "</table>\n",
       "<p>250 rows × 2 columns</p>\n",
       "</div>"
      ],
      "text/plain": [
       "            Country TLD\n",
       "0       afghanistan  af\n",
       "1     åland islands  ax\n",
       "2           albania  al\n",
       "3           algeria  dz\n",
       "4    american samoa  as\n",
       "..              ...  ..\n",
       "245  western sahara  eh\n",
       "246           yemen  ye\n",
       "247          zambia  zm\n",
       "248        zimbabwe  zw\n",
       "249  united kingdom  uk\n",
       "\n",
       "[250 rows x 2 columns]"
      ]
     },
     "execution_count": 17,
     "metadata": {},
     "output_type": "execute_result"
    }
   ],
   "source": [
    "country_tld"
   ]
  },
  {
   "cell_type": "code",
   "execution_count": 18,
   "id": "4cb31b04",
   "metadata": {},
   "outputs": [],
   "source": [
    "country_website = []\n",
    "\n",
    "for j in range(len(tld_vect)):\n",
    "    \n",
    "    \n",
    "    try:\n",
    "        ip = socket.gethostbyname(website_vect[j])\n",
    "        \n",
    "        reader = geoip2.database.Reader('GeoLite2-Country.mmdb')\n",
    "        response = reader.country(ip)\n",
    "        \n",
    "        country = np.array(country_tld.Country[country_tld.TLD ==response.country.iso_code.lower()])[0]# Results in 'US'\n",
    "        \n",
    "    except Exception:\n",
    "\n",
    "        country = None\n",
    "   \n",
    "    \n",
    "    for i in range(country_tld.shape[0]):\n",
    "        \n",
    "        if tld_vect[j] =='co.uk':\n",
    "            \n",
    "            country = np.array(country_tld.Country[country_tld.TLD == 'uk'])[0]\n",
    "        \n",
    "        elif country_tld.TLD[i] in  tld_vect[j].split('.'):\n",
    "            \n",
    "            country = country_tld.Country[i]\n",
    "    \n",
    "    country_website.append(country)\n",
    "        \n",
    "        "
   ]
  },
  {
   "cell_type": "code",
   "execution_count": 22,
   "id": "4950d09c",
   "metadata": {},
   "outputs": [
    {
     "data": {
      "text/html": [
       "<div>\n",
       "<style scoped>\n",
       "    .dataframe tbody tr th:only-of-type {\n",
       "        vertical-align: middle;\n",
       "    }\n",
       "\n",
       "    .dataframe tbody tr th {\n",
       "        vertical-align: top;\n",
       "    }\n",
       "\n",
       "    .dataframe thead th {\n",
       "        text-align: right;\n",
       "    }\n",
       "</style>\n",
       "<table border=\"1\" class=\"dataframe\">\n",
       "  <thead>\n",
       "    <tr style=\"text-align: right;\">\n",
       "      <th></th>\n",
       "      <th>website</th>\n",
       "      <th>Country</th>\n",
       "    </tr>\n",
       "  </thead>\n",
       "  <tbody>\n",
       "    <tr>\n",
       "      <th>0</th>\n",
       "      <td>insurancenewsnet.com</td>\n",
       "      <td>united states</td>\n",
       "    </tr>\n",
       "    <tr>\n",
       "      <th>1</th>\n",
       "      <td>www.americanrivers.org</td>\n",
       "      <td>united states</td>\n",
       "    </tr>\n",
       "    <tr>\n",
       "      <th>2</th>\n",
       "      <td>www.bostonglobe.com</td>\n",
       "      <td>switzerland</td>\n",
       "    </tr>\n",
       "    <tr>\n",
       "      <th>3</th>\n",
       "      <td>www.bostonglobe.com</td>\n",
       "      <td>switzerland</td>\n",
       "    </tr>\n",
       "    <tr>\n",
       "      <th>4</th>\n",
       "      <td>boston.cbslocal.com</td>\n",
       "      <td>united states</td>\n",
       "    </tr>\n",
       "    <tr>\n",
       "      <th>...</th>\n",
       "      <td>...</td>\n",
       "      <td>...</td>\n",
       "    </tr>\n",
       "    <tr>\n",
       "      <th>6839</th>\n",
       "      <td>feeds.nydailynews.com</td>\n",
       "      <td>united states</td>\n",
       "    </tr>\n",
       "    <tr>\n",
       "      <th>6840</th>\n",
       "      <td>www.nydailynews.com</td>\n",
       "      <td>switzerland</td>\n",
       "    </tr>\n",
       "    <tr>\n",
       "      <th>6841</th>\n",
       "      <td>www.eenews.net</td>\n",
       "      <td>None</td>\n",
       "    </tr>\n",
       "    <tr>\n",
       "      <th>6842</th>\n",
       "      <td>www.abc2news.com</td>\n",
       "      <td>united states</td>\n",
       "    </tr>\n",
       "    <tr>\n",
       "      <th>6843</th>\n",
       "      <td>www.curbed.com</td>\n",
       "      <td>germany</td>\n",
       "    </tr>\n",
       "  </tbody>\n",
       "</table>\n",
       "<p>6844 rows × 2 columns</p>\n",
       "</div>"
      ],
      "text/plain": [
       "                     website        Country\n",
       "0       insurancenewsnet.com  united states\n",
       "1     www.americanrivers.org  united states\n",
       "2        www.bostonglobe.com    switzerland\n",
       "3        www.bostonglobe.com    switzerland\n",
       "4        boston.cbslocal.com  united states\n",
       "...                      ...            ...\n",
       "6839   feeds.nydailynews.com  united states\n",
       "6840     www.nydailynews.com    switzerland\n",
       "6841          www.eenews.net           None\n",
       "6842        www.abc2news.com  united states\n",
       "6843          www.curbed.com        germany\n",
       "\n",
       "[6844 rows x 2 columns]"
      ]
     },
     "execution_count": 22,
     "metadata": {},
     "output_type": "execute_result"
    }
   ],
   "source": [
    "country_url = pd.DataFrame({'website': website_vect , 'Country': country_website})\n",
    "country_url"
   ]
  },
  {
   "cell_type": "code",
   "execution_count": 29,
   "id": "0a8b12c2",
   "metadata": {},
   "outputs": [
    {
     "data": {
      "text/plain": [
       "<AxesSubplot:>"
      ]
     },
     "execution_count": 29,
     "metadata": {},
     "output_type": "execute_result"
    },
    {
     "data": {
      "image/png": "[encoded data removed]",
      "text/plain": [
       "<Figure size 640x480 with 1 Axes>"
      ]
     },
     "metadata": {
      "needs_background": "light"
     },
     "output_type": "display_data"
    }
   ],
   "source": [
    "\n",
    "figure(figsize=(8, 6), dpi=80)\n",
    "country_url.Country.value_counts().plot(kind='bar')\n",
    "#plt.yscale('log')"
   ]
  },
  {
   "cell_type": "code",
   "execution_count": 56,
   "id": "d8be9ac4",
   "metadata": {},
   "outputs": [],
   "source": [
    "quotations_only = quotes_cop.quotation"
   ]
  },
  {
   "cell_type": "code",
   "execution_count": 58,
   "id": "9deee333",
   "metadata": {},
   "outputs": [
    {
     "data": {
      "text/html": [
       "<div>\n",
       "<style scoped>\n",
       "    .dataframe tbody tr th:only-of-type {\n",
       "        vertical-align: middle;\n",
       "    }\n",
       "\n",
       "    .dataframe tbody tr th {\n",
       "        vertical-align: top;\n",
       "    }\n",
       "\n",
       "    .dataframe thead th {\n",
       "        text-align: right;\n",
       "    }\n",
       "</style>\n",
       "<table border=\"1\" class=\"dataframe\">\n",
       "  <thead>\n",
       "    <tr style=\"text-align: right;\">\n",
       "      <th></th>\n",
       "      <th>quoteID</th>\n",
       "      <th>quotation</th>\n",
       "      <th>speaker</th>\n",
       "      <th>qids</th>\n",
       "      <th>date</th>\n",
       "      <th>numOccurrences</th>\n",
       "      <th>probas</th>\n",
       "      <th>urls</th>\n",
       "      <th>phase</th>\n",
       "      <th>day</th>\n",
       "      <th>month</th>\n",
       "    </tr>\n",
       "  </thead>\n",
       "  <tbody>\n",
       "    <tr>\n",
       "      <th>0</th>\n",
       "      <td>2017-06-02-005735</td>\n",
       "      <td>American Rivers will continue to stand with th...</td>\n",
       "      <td>Bob Irvin</td>\n",
       "      <td>[Q4932894]</td>\n",
       "      <td>2017-06-02</td>\n",
       "      <td>2</td>\n",
       "      <td>[[Bob Irvin, 0.8016], [None, 0.1984]]</td>\n",
       "      <td>[https://insurancenewsnet.com/oarticle/america...</td>\n",
       "      <td>E</td>\n",
       "      <td>Friday</td>\n",
       "      <td>Jun</td>\n",
       "    </tr>\n",
       "    <tr>\n",
       "      <th>1</th>\n",
       "      <td>2017-06-02-057495</td>\n",
       "      <td>In Massachusetts and around the world, climate...</td>\n",
       "      <td>Charlie Baker</td>\n",
       "      <td>[Q28051620, Q5076629, Q5084482, Q56254750]</td>\n",
       "      <td>2017-06-02</td>\n",
       "      <td>14</td>\n",
       "      <td>[[Charlie Baker, 0.4938], [Governor Charlie Ba...</td>\n",
       "      <td>[http://www.bostonglobe.com/metro/2017/06/01/a...</td>\n",
       "      <td>E</td>\n",
       "      <td>Friday</td>\n",
       "      <td>Jun</td>\n",
       "    </tr>\n",
       "    <tr>\n",
       "      <th>2</th>\n",
       "      <td>2017-06-02-029125</td>\n",
       "      <td>He believes that global warming is naturally o...</td>\n",
       "      <td>Kellyanne Conway</td>\n",
       "      <td>[Q6386365]</td>\n",
       "      <td>2017-06-02</td>\n",
       "      <td>260</td>\n",
       "      <td>[[Kellyanne Conway, 0.8911], [President Donald...</td>\n",
       "      <td>[http://abcnews.go.com/Technology/wireStory/tr...</td>\n",
       "      <td>E</td>\n",
       "      <td>Friday</td>\n",
       "      <td>Jun</td>\n",
       "    </tr>\n",
       "    <tr>\n",
       "      <th>3</th>\n",
       "      <td>2017-06-02-141583</td>\n",
       "      <td>we're rescinding our leadership on addressing ...</td>\n",
       "      <td>None</td>\n",
       "      <td>[]</td>\n",
       "      <td>2017-06-02</td>\n",
       "      <td>1</td>\n",
       "      <td>[[None, 0.6552], [President Trump, 0.3448]]</td>\n",
       "      <td>[http://midwestenergynews.com/digests/minnesot...</td>\n",
       "      <td>E</td>\n",
       "      <td>Friday</td>\n",
       "      <td>Jun</td>\n",
       "    </tr>\n",
       "    <tr>\n",
       "      <th>4</th>\n",
       "      <td>2017-06-02-123575</td>\n",
       "      <td>Through our witness, we recognize that our gov...</td>\n",
       "      <td>None</td>\n",
       "      <td>[]</td>\n",
       "      <td>2017-06-02</td>\n",
       "      <td>1</td>\n",
       "      <td>[[None, 0.8703], [President Donald Trump, 0.12...</td>\n",
       "      <td>[http://catholicphilly.com/2017/06/news/nation...</td>\n",
       "      <td>E</td>\n",
       "      <td>Friday</td>\n",
       "      <td>Jun</td>\n",
       "    </tr>\n",
       "    <tr>\n",
       "      <th>...</th>\n",
       "      <td>...</td>\n",
       "      <td>...</td>\n",
       "      <td>...</td>\n",
       "      <td>...</td>\n",
       "      <td>...</td>\n",
       "      <td>...</td>\n",
       "      <td>...</td>\n",
       "      <td>...</td>\n",
       "      <td>...</td>\n",
       "      <td>...</td>\n",
       "      <td>...</td>\n",
       "    </tr>\n",
       "    <tr>\n",
       "      <th>955</th>\n",
       "      <td>2017-06-02-034432</td>\n",
       "      <td>However, undermining action addressing climate...</td>\n",
       "      <td>Chris Lee</td>\n",
       "      <td>[Q1077464, Q1077474, Q12305774, Q16221404, Q22...</td>\n",
       "      <td>2017-06-02</td>\n",
       "      <td>1</td>\n",
       "      <td>[[Chris Lee, 0.729], [None, 0.2665], [Ivanka T...</td>\n",
       "      <td>[http://www.civilbeat.org/2017/06/pulling-out-...</td>\n",
       "      <td>E</td>\n",
       "      <td>Friday</td>\n",
       "      <td>Jun</td>\n",
       "    </tr>\n",
       "    <tr>\n",
       "      <th>956</th>\n",
       "      <td>2017-06-02-122785</td>\n",
       "      <td>This was not a litmus test on the reality of c...</td>\n",
       "      <td>R.C. Hammond</td>\n",
       "      <td>[Q7273320]</td>\n",
       "      <td>2017-06-02</td>\n",
       "      <td>115</td>\n",
       "      <td>[[R.C. Hammond, 0.7746], [None, 0.1849], [Rex ...</td>\n",
       "      <td>[http://mobile.sfgate.com/news/politics/articl...</td>\n",
       "      <td>E</td>\n",
       "      <td>Friday</td>\n",
       "      <td>Jun</td>\n",
       "    </tr>\n",
       "    <tr>\n",
       "      <th>957</th>\n",
       "      <td>2017-06-02-017552</td>\n",
       "      <td>Climate change is an international problem tha...</td>\n",
       "      <td>None</td>\n",
       "      <td>[]</td>\n",
       "      <td>2017-06-02</td>\n",
       "      <td>4</td>\n",
       "      <td>[[None, 0.7418], [President Trump, 0.1471], [G...</td>\n",
       "      <td>[http://feeds.nydailynews.com/~r/nydnrss/news/...</td>\n",
       "      <td>E</td>\n",
       "      <td>Friday</td>\n",
       "      <td>Jun</td>\n",
       "    </tr>\n",
       "    <tr>\n",
       "      <th>958</th>\n",
       "      <td>2017-06-02-088546</td>\n",
       "      <td>President Trump is ignoring the impact of clim...</td>\n",
       "      <td>None</td>\n",
       "      <td>[]</td>\n",
       "      <td>2017-06-02</td>\n",
       "      <td>1</td>\n",
       "      <td>[[None, 0.8048], [President Trump, 0.1952]]</td>\n",
       "      <td>[http://www.abc2news.com/news/region/baltimore...</td>\n",
       "      <td>E</td>\n",
       "      <td>Friday</td>\n",
       "      <td>Jun</td>\n",
       "    </tr>\n",
       "    <tr>\n",
       "      <th>959</th>\n",
       "      <td>2017-06-02-129517</td>\n",
       "      <td>We are on the front lines addressing climate c...</td>\n",
       "      <td>None</td>\n",
       "      <td>[]</td>\n",
       "      <td>2017-06-02</td>\n",
       "      <td>1</td>\n",
       "      <td>[[None, 0.7212], [Edward Mazria, 0.194], [Pres...</td>\n",
       "      <td>[https://www.curbed.com/2017/6/2/15727258/pari...</td>\n",
       "      <td>E</td>\n",
       "      <td>Friday</td>\n",
       "      <td>Jun</td>\n",
       "    </tr>\n",
       "  </tbody>\n",
       "</table>\n",
       "<p>960 rows × 11 columns</p>\n",
       "</div>"
      ],
      "text/plain": [
       "               quoteID                                          quotation  \\\n",
       "0    2017-06-02-005735  American Rivers will continue to stand with th...   \n",
       "1    2017-06-02-057495  In Massachusetts and around the world, climate...   \n",
       "2    2017-06-02-029125  He believes that global warming is naturally o...   \n",
       "3    2017-06-02-141583  we're rescinding our leadership on addressing ...   \n",
       "4    2017-06-02-123575  Through our witness, we recognize that our gov...   \n",
       "..                 ...                                                ...   \n",
       "955  2017-06-02-034432  However, undermining action addressing climate...   \n",
       "956  2017-06-02-122785  This was not a litmus test on the reality of c...   \n",
       "957  2017-06-02-017552  Climate change is an international problem tha...   \n",
       "958  2017-06-02-088546  President Trump is ignoring the impact of clim...   \n",
       "959  2017-06-02-129517  We are on the front lines addressing climate c...   \n",
       "\n",
       "              speaker                                               qids  \\\n",
       "0           Bob Irvin                                         [Q4932894]   \n",
       "1       Charlie Baker         [Q28051620, Q5076629, Q5084482, Q56254750]   \n",
       "2    Kellyanne Conway                                         [Q6386365]   \n",
       "3                None                                                 []   \n",
       "4                None                                                 []   \n",
       "..                ...                                                ...   \n",
       "955         Chris Lee  [Q1077464, Q1077474, Q12305774, Q16221404, Q22...   \n",
       "956      R.C. Hammond                                         [Q7273320]   \n",
       "957              None                                                 []   \n",
       "958              None                                                 []   \n",
       "959              None                                                 []   \n",
       "\n",
       "           date  numOccurrences  \\\n",
       "0    2017-06-02               2   \n",
       "1    2017-06-02              14   \n",
       "2    2017-06-02             260   \n",
       "3    2017-06-02               1   \n",
       "4    2017-06-02               1   \n",
       "..          ...             ...   \n",
       "955  2017-06-02               1   \n",
       "956  2017-06-02             115   \n",
       "957  2017-06-02               4   \n",
       "958  2017-06-02               1   \n",
       "959  2017-06-02               1   \n",
       "\n",
       "                                                probas  \\\n",
       "0                [[Bob Irvin, 0.8016], [None, 0.1984]]   \n",
       "1    [[Charlie Baker, 0.4938], [Governor Charlie Ba...   \n",
       "2    [[Kellyanne Conway, 0.8911], [President Donald...   \n",
       "3          [[None, 0.6552], [President Trump, 0.3448]]   \n",
       "4    [[None, 0.8703], [President Donald Trump, 0.12...   \n",
       "..                                                 ...   \n",
       "955  [[Chris Lee, 0.729], [None, 0.2665], [Ivanka T...   \n",
       "956  [[R.C. Hammond, 0.7746], [None, 0.1849], [Rex ...   \n",
       "957  [[None, 0.7418], [President Trump, 0.1471], [G...   \n",
       "958        [[None, 0.8048], [President Trump, 0.1952]]   \n",
       "959  [[None, 0.7212], [Edward Mazria, 0.194], [Pres...   \n",
       "\n",
       "                                                  urls phase     day month  \n",
       "0    [https://insurancenewsnet.com/oarticle/america...     E  Friday   Jun  \n",
       "1    [http://www.bostonglobe.com/metro/2017/06/01/a...     E  Friday   Jun  \n",
       "2    [http://abcnews.go.com/Technology/wireStory/tr...     E  Friday   Jun  \n",
       "3    [http://midwestenergynews.com/digests/minnesot...     E  Friday   Jun  \n",
       "4    [http://catholicphilly.com/2017/06/news/nation...     E  Friday   Jun  \n",
       "..                                                 ...   ...     ...   ...  \n",
       "955  [http://www.civilbeat.org/2017/06/pulling-out-...     E  Friday   Jun  \n",
       "956  [http://mobile.sfgate.com/news/politics/articl...     E  Friday   Jun  \n",
       "957  [http://feeds.nydailynews.com/~r/nydnrss/news/...     E  Friday   Jun  \n",
       "958  [http://www.abc2news.com/news/region/baltimore...     E  Friday   Jun  \n",
       "959  [https://www.curbed.com/2017/6/2/15727258/pari...     E  Friday   Jun  \n",
       "\n",
       "[960 rows x 11 columns]"
      ]
     },
     "execution_count": 58,
     "metadata": {},
     "output_type": "execute_result"
    }
   ],
   "source": [
    "quotes_cop"
   ]
  },
  {
   "cell_type": "code",
   "execution_count": 57,
   "id": "29770c34",
   "metadata": {},
   "outputs": [
    {
     "data": {
      "text/plain": [
       "\"American Rivers will continue to stand with these local leaders, and we will continue helping communities build their resilience with innovative river conservation solutions. We will work to ensure the United States remains a global leader in river restoration and protection, because a healthy river is a community's best defense against the impacts of climate change.\""
      ]
     },
     "execution_count": 57,
     "metadata": {},
     "output_type": "execute_result"
    }
   ],
   "source": [
    "quotations_only[0]"
   ]
  },
  {
   "cell_type": "markdown",
   "id": "30e68d37",
   "metadata": {},
   "source": [
    "## Pronouns"
   ]
  },
  {
   "cell_type": "code",
   "execution_count": 128,
   "id": "251b3bbe",
   "metadata": {},
   "outputs": [
    {
     "data": {
      "text/plain": [
       "(715, 11)"
      ]
     },
     "execution_count": 128,
     "metadata": {},
     "output_type": "execute_result"
    }
   ],
   "source": [
    "pronouns_us =  ['we' ,'us' , 'ours' , 'our' ,'mine' , \"mine\" , 'I' , 'Me' , 'Mine' , \"Mines\" , 'We' , 'Us' , 'Ours' , 'Our']\n",
    "pronouns_them =  ['them' , \"they\" , 'their' , 'theirs',  'He' , \"his\"  , 'him', \"They\" , 'Them' , 'Their' , 'Theirs' , 'He' , \"His\" , 'Him']\n",
    "\n",
    " \n",
    "\n",
    "mask_us_them= [ ((us in quotes) and  (them in quotes)) for quotes in quotations_only for us in pronouns_us  for them in pronouns_them ]\n",
    "            \n",
    "mask_us = [ (us in quotes)  for quotes in quotations_only for us in pronouns_us  ]            \n",
    " \n",
    "    \n",
    "mask_us_them = []\n",
    "mask_us = []\n",
    "\n",
    "\n",
    "mask_them = []\n",
    "\n",
    "for quote in quotations_only:\n",
    "    any_us = False\n",
    "    for us in pronouns_us :\n",
    "        if us in quote:\n",
    "            any_us = True\n",
    "            break\n",
    "    \n",
    "    mask_us.append(any_us)\n",
    "\n",
    "\n",
    "for quote in quotations_only:\n",
    "    any_them = False\n",
    "    for them in pronouns_them :\n",
    "        if them in quote:\n",
    "            any_them = True\n",
    "            break\n",
    "    \n",
    "    mask_them.append(any_them)\n",
    "    \n",
    "    \n",
    "for quote in quotations_only:\n",
    "    any_us_them = False\n",
    "    for them in pronouns_them :\n",
    "        for us in pronouns_us:\n",
    "            if (them in quote) and (us in quote):\n",
    "                any_us_them = True\n",
    "                break\n",
    "        break\n",
    "    \n",
    "    mask_us_them.append(any_us_them)\n",
    "\n",
    "        \n",
    "        \n",
    "        \n",
    "\n",
    "quotes_us = quotes_cop[mask_us]\n",
    "\n",
    "quotes_them = quotes_cop[mask_them]\n",
    "\n",
    "quotes_us_them = quotes_cop[mask_us_them]\n",
    "\n",
    "quotes_us_them.quotation.iloc[5]\n",
    "\n",
    "\n",
    "quotes_us.shape\n",
    "\n"
   ]
  },
  {
   "cell_type": "code",
   "execution_count": 202,
   "id": "eefa87f4",
   "metadata": {},
   "outputs": [
    {
     "data": {
      "text/plain": [
       "\"This summer broke countless heat records in Sydney. We've seen coral bleaching in the harbour and the clock is ticking on climate change. We want governments working with our cities, supporting us, having policies of their own-but if not, we need them to get out of the way and let us do what has to be done.\""
      ]
     },
     "execution_count": 202,
     "metadata": {},
     "output_type": "execute_result"
    }
   ],
   "source": [
    "quotes_us_them.quotation.iloc[2]"
   ]
  },
  {
   "cell_type": "markdown",
   "id": "3325f18a",
   "metadata": {},
   "source": [
    "## Sentiment analysis  "
   ]
  },
  {
   "cell_type": "code",
   "execution_count": 203,
   "id": "e9af7675",
   "metadata": {},
   "outputs": [
    {
     "name": "stdout",
     "output_type": "stream",
     "text": [
      "Collecting afinn\n",
      "  Downloading afinn-0.1.tar.gz (52 kB)\n",
      "\u001b[K     |████████████████████████████████| 52 kB 2.6 MB/s eta 0:00:011\n",
      "\u001b[?25hBuilding wheels for collected packages: afinn\n",
      "  Building wheel for afinn (setup.py) ... \u001b[?25ldone\n",
      "\u001b[?25h  Created wheel for afinn: filename=afinn-0.1-py3-none-any.whl size=53449 sha256=7c10f58df80729101b7c566d181d3bb1c33cbd22a7ee08cfcce00a1163889914\n",
      "  Stored in directory: /Users/adrien/Library/Caches/pip/wheels/9d/16/3a/9f0953027434eab5dadf3f33ab3298fa95afa8292fcf7aba75\n",
      "Successfully built afinn\n",
      "Installing collected packages: afinn\n",
      "Successfully installed afinn-0.1\n"
     ]
    }
   ],
   "source": [
    "!pip install afinn"
   ]
  },
  {
   "cell_type": "code",
   "execution_count": 204,
   "id": "cf936db3",
   "metadata": {},
   "outputs": [],
   "source": [
    "from afinn import Afinn"
   ]
  },
  {
   "cell_type": "code",
   "execution_count": 205,
   "id": "7345477a",
   "metadata": {},
   "outputs": [],
   "source": [
    "afinn = Afinn(language='en')"
   ]
  },
  {
   "cell_type": "code",
   "execution_count": 209,
   "id": "26fcaca8",
   "metadata": {},
   "outputs": [
    {
     "data": {
      "text/plain": [
       "8.0"
      ]
     },
     "execution_count": 209,
     "metadata": {},
     "output_type": "execute_result"
    }
   ],
   "source": [
    "afinn.score(quotes_us_them.quotation.iloc[12])"
   ]
  },
  {
   "cell_type": "code",
   "execution_count": 194,
   "id": "1215ef5f",
   "metadata": {
    "scrolled": true
   },
   "outputs": [
    {
     "data": {
      "text/plain": [
       "<AxesSubplot:ylabel='Frequency'>"
      ]
     },
     "execution_count": 194,
     "metadata": {},
     "output_type": "execute_result"
    },
    {
     "data": {
      "image/png": "[encoded data removed]",
      "text/plain": [
       "<Figure size 432x288 with 1 Axes>"
      ]
     },
     "metadata": {
      "needs_background": "light"
     },
     "output_type": "display_data"
    }
   ],
   "source": [
    "\n",
    "coumpound_sentiment_us = quotes_us.quotation.apply(lambda x : analyzer.polarity_scores(x)[\"compound\"])\n",
    "coumpound_sentiment_us.plot(kind = 'hist')"
   ]
  },
  {
   "cell_type": "code",
   "execution_count": 195,
   "id": "f95b3d74",
   "metadata": {
    "scrolled": true
   },
   "outputs": [
    {
     "data": {
      "text/plain": [
       "<AxesSubplot:ylabel='Frequency'>"
      ]
     },
     "execution_count": 195,
     "metadata": {},
     "output_type": "execute_result"
    },
    {
     "data": {
      "image/png": "[encoded data removed]",
      "text/plain": [
       "<Figure size 432x288 with 1 Axes>"
      ]
     },
     "metadata": {
      "needs_background": "light"
     },
     "output_type": "display_data"
    }
   ],
   "source": [
    "\n",
    "coumpound_sentiment_them = quotes_them.quotation.apply(lambda x : analyzer.polarity_scores(x)[\"compound\"])\n",
    "coumpound_sentiment_them.plot(kind = 'hist')"
   ]
  },
  {
   "cell_type": "code",
   "execution_count": 196,
   "id": "d715e54b",
   "metadata": {
    "scrolled": true
   },
   "outputs": [
    {
     "data": {
      "text/plain": [
       "<AxesSubplot:ylabel='Frequency'>"
      ]
     },
     "execution_count": 196,
     "metadata": {},
     "output_type": "execute_result"
    },
    {
     "data": {
      "image/png": "[encoded data removed]",
      "text/plain": [
       "<Figure size 432x288 with 1 Axes>"
      ]
     },
     "metadata": {
      "needs_background": "light"
     },
     "output_type": "display_data"
    }
   ],
   "source": [
    "\n",
    "coumpound_sentiment_us_them = quotes_us_them.quotation.apply(lambda x : analyzer.polarity_scores(x)[\"compound\"])\n",
    "coumpound_sentiment_us_them.plot(kind = 'hist')"
   ]
  },
  {
   "cell_type": "code",
   "execution_count": 168,
   "id": "b0ca6c11",
   "metadata": {},
   "outputs": [],
   "source": [
    "flat_list_us_them = \" \".join([quotes for quotes in quotes_us_them.quotation])\n",
    "\n",
    "flat_list_us = \" \".join([quotes for quotes in quotes_us.quotation])\n",
    "\n",
    "flat_list_them = \" \".join([quotes for quotes in quotes_them.quotation])\n",
    "\n"
   ]
  },
  {
   "cell_type": "code",
   "execution_count": 169,
   "id": "8a41776e",
   "metadata": {},
   "outputs": [],
   "source": [
    "analyzer = SentimentIntensityAnalyzer()\n",
    "vs = analyzer.polarity_scores(flat_list_us_them)"
   ]
  },
  {
   "cell_type": "code",
   "execution_count": 170,
   "id": "ee65a57b",
   "metadata": {},
   "outputs": [
    {
     "data": {
      "text/plain": [
       "{'neg': 0.089, 'neu': 0.737, 'pos': 0.174, 'compound': 0.9994}"
      ]
     },
     "execution_count": 170,
     "metadata": {},
     "output_type": "execute_result"
    }
   ],
   "source": [
    "vs"
   ]
  },
  {
   "cell_type": "code",
   "execution_count": 171,
   "id": "19147ec0",
   "metadata": {},
   "outputs": [],
   "source": [
    "analyzer = SentimentIntensityAnalyzer()\n",
    "vs = analyzer.polarity_scores(flat_list_us)"
   ]
  },
  {
   "cell_type": "code",
   "execution_count": 172,
   "id": "05a8a074",
   "metadata": {},
   "outputs": [
    {
     "data": {
      "text/plain": [
       "{'neg': 0.091, 'neu': 0.734, 'pos': 0.176, 'compound': 1.0}"
      ]
     },
     "execution_count": 172,
     "metadata": {},
     "output_type": "execute_result"
    }
   ],
   "source": [
    "vs"
   ]
  },
  {
   "cell_type": "code",
   "execution_count": 173,
   "id": "5439761e",
   "metadata": {},
   "outputs": [],
   "source": [
    "analyzer = SentimentIntensityAnalyzer()\n",
    "vs = analyzer.polarity_scores(flat_list_them)"
   ]
  },
  {
   "cell_type": "code",
   "execution_count": 174,
   "id": "f15fd6d8",
   "metadata": {},
   "outputs": [
    {
     "data": {
      "text/plain": [
       "{'neg': 0.086, 'neu': 0.749, 'pos': 0.165, 'compound': 1.0}"
      ]
     },
     "execution_count": 174,
     "metadata": {},
     "output_type": "execute_result"
    }
   ],
   "source": [
    "vs"
   ]
  },
  {
   "cell_type": "code",
   "execution_count": 197,
   "id": "83370b2a",
   "metadata": {},
   "outputs": [
    {
     "data": {
      "text/plain": [
       "0.4134444444444445"
      ]
     },
     "execution_count": 197,
     "metadata": {},
     "output_type": "execute_result"
    }
   ],
   "source": [
    "coumpound_sentiment_us_them.mean()"
   ]
  },
  {
   "cell_type": "code",
   "execution_count": 198,
   "id": "e231d0ad",
   "metadata": {},
   "outputs": [
    {
     "data": {
      "text/plain": [
       "0.22588447552447574"
      ]
     },
     "execution_count": 198,
     "metadata": {},
     "output_type": "execute_result"
    }
   ],
   "source": [
    "coumpound_sentiment_us.mean()"
   ]
  },
  {
   "cell_type": "code",
   "execution_count": 199,
   "id": "a9d4d4ac",
   "metadata": {},
   "outputs": [
    {
     "data": {
      "text/plain": [
       "0.2560096153846151"
      ]
     },
     "execution_count": 199,
     "metadata": {},
     "output_type": "execute_result"
    }
   ],
   "source": [
    "coumpound_sentiment_them.mean()"
   ]
  },
  {
   "cell_type": "code",
   "execution_count": null,
   "id": "fa7ab728",
   "metadata": {},
   "outputs": [],
   "source": []
  }
 ],
 "metadata": {
  "kernelspec": {
   "display_name": "Python 3 (ipykernel)",
   "language": "python",
   "name": "python3"
  },
  "language_info": {
   "codemirror_mode": {
    "name": "ipython",
    "version": 3
   },
   "file_extension": ".py",
   "mimetype": "text/x-python",
   "name": "python",
   "nbconvert_exporter": "python",
   "pygments_lexer": "ipython3",
   "version": "3.7.10"
  }
 },
 "nbformat": 4,
 "nbformat_minor": 5
}
