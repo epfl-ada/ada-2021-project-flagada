{
 "cells": [
  {
   "cell_type": "markdown",
   "id": "dc063647",
   "metadata": {},
   "source": [
    "# IMPORT OF LIBRAIRIES "
   ]
  },
  {
   "cell_type": "code",
   "execution_count": 1,
   "id": "cf88cc88",
   "metadata": {},
   "outputs": [
    {
     "name": "stderr",
     "output_type": "stream",
     "text": [
      "[nltk_data] Downloading package vader_lexicon to\n",
      "[nltk_data]     /home/main/nltk_data...\n",
      "[nltk_data]   Package vader_lexicon is already up-to-date!\n",
      "[nltk_data] Downloading package stopwords to /home/main/nltk_data...\n",
      "[nltk_data]   Package stopwords is already up-to-date!\n",
      "[nltk_data] Downloading package punkt to /home/main/nltk_data...\n",
      "[nltk_data]   Package punkt is already up-to-date!\n"
     ]
    }
   ],
   "source": [
    "import pandas as pd\n",
    "import matplotlib.pyplot as plt\n",
    "from matplotlib.colors import ListedColormap\n",
    "import seaborn as sns\n",
    "import calendar\n",
    "from functions import *"
   ]
  },
  {
   "cell_type": "markdown",
   "id": "afb051af",
   "metadata": {},
   "source": [
    "# INTRODUCTION"
   ]
  },
  {
   "cell_type": "markdown",
   "id": "b25a5dea",
   "metadata": {},
   "source": [
    "In this section, we will present our procedure to identify the major events related to climate change that took place during the scope of our study.\n",
    "To simplify our presentation we will focus on the year 2020 but this procedure will be extended to the entire data set later on.\n",
    "The objective is to identify the date of these events by determining the days where the number of citations related to climate change is the most important.\n",
    "We have therefore built a preliminary lexicon containing the terms most frequently used by speakers commenting about the climate emergency ( such as \"climate change\", \"COP26\",...)\n",
    "This lexicon is a first draft and will be improved later by a more precise method involving a larger lexicon or a more advanced selection method.\n",
    "With this lexicon we can filter our data and create a dataframe containing only the climate-related quotations for each year and this reduced dataframes will be used throughout our study.\n",
    "Every dataframes and methodology to construct them can be found in notebook \"Playground\"\n",
    "\n",
    "In this notebook we use only the dataframe for the year 2020\n",
    "\n",
    "After building these dataframe, we can identify the days where the number of quotes related to climate is the most important.\n",
    "Finally, we can identify the most frequently used words by the speakers and thus try to determine if a significant event took place on the day of this peak in the number of quotations\n",
    "\n"
   ]
  },
  {
   "cell_type": "markdown",
   "id": "dc91c88c",
   "metadata": {},
   "source": [
    "### LOADING DATA SET FOR THE YEAR 2020"
   ]
  },
  {
   "cell_type": "code",
   "execution_count": 2,
   "id": "5d0fed01",
   "metadata": {},
   "outputs": [],
   "source": [
    "quotes_2020 = pd.io.json.read_json('quotes-2020_climate.json.bz2', lines = True)"
   ]
  },
  {
   "cell_type": "markdown",
   "id": "4123de55",
   "metadata": {},
   "source": [
    "### Creation of a column containing the month when the month when the quote was reported\n"
   ]
  },
  {
   "cell_type": "code",
   "execution_count": 3,
   "id": "e9f100e3",
   "metadata": {},
   "outputs": [
    {
     "data": {
      "text/html": [
       "<div>\n",
       "<style scoped>\n",
       "    .dataframe tbody tr th:only-of-type {\n",
       "        vertical-align: middle;\n",
       "    }\n",
       "\n",
       "    .dataframe tbody tr th {\n",
       "        vertical-align: top;\n",
       "    }\n",
       "\n",
       "    .dataframe thead th {\n",
       "        text-align: right;\n",
       "    }\n",
       "</style>\n",
       "<table border=\"1\" class=\"dataframe\">\n",
       "  <thead>\n",
       "    <tr style=\"text-align: right;\">\n",
       "      <th></th>\n",
       "      <th>quoteID</th>\n",
       "      <th>quotation</th>\n",
       "      <th>speaker</th>\n",
       "      <th>qids</th>\n",
       "      <th>date</th>\n",
       "      <th>numOccurrences</th>\n",
       "      <th>probas</th>\n",
       "      <th>urls</th>\n",
       "      <th>phase</th>\n",
       "      <th>day</th>\n",
       "      <th>nationality</th>\n",
       "      <th>gender</th>\n",
       "      <th>ethnic_group</th>\n",
       "      <th>occupation</th>\n",
       "      <th>party</th>\n",
       "      <th>religion</th>\n",
       "      <th>date_of_birth</th>\n",
       "      <th>month</th>\n",
       "    </tr>\n",
       "  </thead>\n",
       "  <tbody>\n",
       "    <tr>\n",
       "      <th>0</th>\n",
       "      <td>2020-02-27-004325</td>\n",
       "      <td>And it's also in the context of decades of utt...</td>\n",
       "      <td>None</td>\n",
       "      <td>[]</td>\n",
       "      <td>2020-02-27 15:17:36</td>\n",
       "      <td>1</td>\n",
       "      <td>[[None, 0.8786], [Bernie Sanders, 0.1214]]</td>\n",
       "      <td>[http://www.eenews.net/stories/1062457547]</td>\n",
       "      <td>E</td>\n",
       "      <td>Thursday</td>\n",
       "      <td>None</td>\n",
       "      <td>None</td>\n",
       "      <td>None</td>\n",
       "      <td>None</td>\n",
       "      <td>None</td>\n",
       "      <td>None</td>\n",
       "      <td>NaN</td>\n",
       "      <td>Feb</td>\n",
       "    </tr>\n",
       "    <tr>\n",
       "      <th>1</th>\n",
       "      <td>2020-01-29-062975</td>\n",
       "      <td>Many make the link today between their experie...</td>\n",
       "      <td>Peter Maurer</td>\n",
       "      <td>[Q117796, Q42426597]</td>\n",
       "      <td>2020-01-29 09:04:36</td>\n",
       "      <td>5</td>\n",
       "      <td>[[Peter Maurer, 0.8787], [None, 0.1213]]</td>\n",
       "      <td>[http://whbl.com/news/articles/2020/jan/29/hun...</td>\n",
       "      <td>E</td>\n",
       "      <td>Wednesday</td>\n",
       "      <td>None</td>\n",
       "      <td>None</td>\n",
       "      <td>None</td>\n",
       "      <td>None</td>\n",
       "      <td>None</td>\n",
       "      <td>None</td>\n",
       "      <td>NaN</td>\n",
       "      <td>Jan</td>\n",
       "    </tr>\n",
       "    <tr>\n",
       "      <th>2</th>\n",
       "      <td>2020-02-10-076321</td>\n",
       "      <td>the National Energy and Climate Plans are how ...</td>\n",
       "      <td>Kadri Simson</td>\n",
       "      <td>[Q13570003]</td>\n",
       "      <td>2020-02-10 05:51:51</td>\n",
       "      <td>1</td>\n",
       "      <td>[[Kadri Simson, 0.9269], [None, 0.0504], [Gret...</td>\n",
       "      <td>[https://www.politico.eu/newsletter/brussels-p...</td>\n",
       "      <td>E</td>\n",
       "      <td>Monday</td>\n",
       "      <td>Estonia</td>\n",
       "      <td>female</td>\n",
       "      <td>None</td>\n",
       "      <td>politician</td>\n",
       "      <td>Estonian Centre Party</td>\n",
       "      <td>None</td>\n",
       "      <td>+1977-01-22T00:00:00Z</td>\n",
       "      <td>Feb</td>\n",
       "    </tr>\n",
       "  </tbody>\n",
       "</table>\n",
       "</div>"
      ],
      "text/plain": [
       "             quoteID                                          quotation  \\\n",
       "0  2020-02-27-004325  And it's also in the context of decades of utt...   \n",
       "1  2020-01-29-062975  Many make the link today between their experie...   \n",
       "2  2020-02-10-076321  the National Energy and Climate Plans are how ...   \n",
       "\n",
       "        speaker                  qids                date  numOccurrences  \\\n",
       "0          None                    [] 2020-02-27 15:17:36               1   \n",
       "1  Peter Maurer  [Q117796, Q42426597] 2020-01-29 09:04:36               5   \n",
       "2  Kadri Simson           [Q13570003] 2020-02-10 05:51:51               1   \n",
       "\n",
       "                                              probas  \\\n",
       "0         [[None, 0.8786], [Bernie Sanders, 0.1214]]   \n",
       "1           [[Peter Maurer, 0.8787], [None, 0.1213]]   \n",
       "2  [[Kadri Simson, 0.9269], [None, 0.0504], [Gret...   \n",
       "\n",
       "                                                urls phase        day  \\\n",
       "0         [http://www.eenews.net/stories/1062457547]     E   Thursday   \n",
       "1  [http://whbl.com/news/articles/2020/jan/29/hun...     E  Wednesday   \n",
       "2  [https://www.politico.eu/newsletter/brussels-p...     E     Monday   \n",
       "\n",
       "  nationality  gender ethnic_group  occupation                  party  \\\n",
       "0        None    None         None        None                   None   \n",
       "1        None    None         None        None                   None   \n",
       "2     Estonia  female         None  politician  Estonian Centre Party   \n",
       "\n",
       "  religion          date_of_birth month  \n",
       "0     None                    NaN   Feb  \n",
       "1     None                    NaN   Jan  \n",
       "2     None  +1977-01-22T00:00:00Z   Feb  "
      ]
     },
     "execution_count": 3,
     "metadata": {},
     "output_type": "execute_result"
    }
   ],
   "source": [
    "quotes_2020['month'] = quotes_2020['date'].dt.month.apply(lambda x: calendar.month_abbr[x])   \n",
    "quotes_2020.head(3)"
   ]
  },
  {
   "cell_type": "code",
   "execution_count": 4,
   "id": "6cffa601",
   "metadata": {},
   "outputs": [],
   "source": [
    "quotes_2020['date'] = quotes_2020['date'].dt.date"
   ]
  },
  {
   "cell_type": "markdown",
   "id": "730af57c",
   "metadata": {},
   "source": [
    "### Here create a serie containing the number of quotations per day in descending order "
   ]
  },
  {
   "cell_type": "code",
   "execution_count": 5,
   "id": "1f624405",
   "metadata": {},
   "outputs": [
    {
     "data": {
      "text/plain": [
       "date\n",
       "2020-01-14    248\n",
       "2020-01-15    228\n",
       "2020-01-21    221\n",
       "2020-02-06    219\n",
       "2020-02-07    213\n",
       "Name: date, dtype: int64"
      ]
     },
     "execution_count": 5,
     "metadata": {},
     "output_type": "execute_result"
    }
   ],
   "source": [
    "quotes_date_occurence = quotes_2020.groupby('date').date.count()\n",
    "quotes_date_occurence = quotes_date_occurence.sort_values(ascending= False)\n",
    "quotes_date_occurence.head(5)"
   ]
  },
  {
   "cell_type": "markdown",
   "id": "af2c240c",
   "metadata": {},
   "source": [
    "### We then select  the quotations reported on peak days "
   ]
  },
  {
   "cell_type": "code",
   "execution_count": 6,
   "id": "7b18c939",
   "metadata": {},
   "outputs": [],
   "source": [
    "top_ten_days = quotes_date_occurence.index[:10].astype(str)\n",
    "quotations_peak  = quotes_2020[quotes_2020['date'].astype(str).apply(lambda x: x in top_ten_days.to_list())]"
   ]
  },
  {
   "cell_type": "markdown",
   "id": "92658b65",
   "metadata": {},
   "source": [
    "## Plot of the number of quotations reported per day "
   ]
  },
  {
   "cell_type": "code",
   "execution_count": 7,
   "id": "c810e396",
   "metadata": {},
   "outputs": [
    {
     "data": {
      "text/plain": [
       "Text(0.5, 1.0, 'Plot of the number of quotations reported per day ')"
      ]
     },
     "execution_count": 7,
     "metadata": {},
     "output_type": "execute_result"
    },
    {
     "data": {
      "image/png": "[encoded data removed]",
      "image/svg+xml": "<?xml version=\"1.0\" encoding=\"utf-8\" standalone=\"no\"?>\n<!DOCTYPE svg PUBLIC \"-//W3C//DTD SVG 1.1//EN\"\n  \"http://www.w3.org/Graphics/SVG/1.1/DTD/svg11.dtd\">\n<svg height=\"315.57367pt\" version=\"1.1\" viewBox=\"0 0 393.449373 315.57367\" width=\"393.449373pt\" xmlns=\"http://www.w3.org/2000/svg\" xmlns:xlink=\"http://www.w3.org/1999/xlink\">\n <metadata>\n  <rdf:RDF xmlns:cc=\"http://creativecommons.org/ns#\" xmlns:dc=\"http://purl.org/dc/elements/1.1/\" xmlns:rdf=\"http://www.w3.org/1999/02/22-rdf-syntax-ns#\">\n   <cc:Work>\n    <dc:type rdf:resource=\"http://purl.org/dc/dcmitype/StillImage\"/>\n    <dc:date>2021-11-12T22:14:48.302223</dc:date>\n    <dc:format>image/svg+xml</dc:format>\n    <dc:creator>\n     <cc:Agent>\n      <dc:title>Matplotlib v3.4.3, https://matplotlib.org/</dc:title>\n     </cc:Agent>\n    </dc:creator>\n   </cc:Work>\n  </rdf:RDF>\n </metadata>\n <defs>\n  <style type=\"text/css\">*{stroke-linecap:butt;stroke-linejoin:round;}</style>\n </defs>\n <g id=\"figure_1\">\n  <g id=\"patch_1\">\n   <path d=\"M 0 315.57367 \nL 393.449373 315.57367 \nL 393.449373 0 \nL 0 0 \nz\n\" style=\"fill:none;\"/>\n  </g>\n  <g id=\"axes_1\">\n   <g id=\"patch_2\">\n    <path d=\"M 46.965625 239.758125 \nL 381.765625 239.758125 \nL 381.765625 22.318125 \nL 46.965625 22.318125 \nz\n\" style=\"fill:#ffffff;\"/>\n   </g>\n   <g id=\"patch_3\">\n    <path clip-path=\"url(#p9168eccf1f)\" d=\"M 62.183807 239.758125 \nL 65.028327 239.758125 \nL 65.028327 206.357203 \nL 62.183807 206.357203 \nz\n\" style=\"fill:#1f77b4;fill-opacity:0.75;stroke:#000000;stroke-linejoin:miter;stroke-width:0.284452;\"/>\n   </g>\n   <g id=\"patch_4\">\n    <path clip-path=\"url(#p9168eccf1f)\" d=\"M 65.028327 239.758125 \nL 67.872847 239.758125 \nL 67.872847 163.771028 \nL 65.028327 163.771028 \nz\n\" style=\"fill:#1f77b4;fill-opacity:0.75;stroke:#000000;stroke-linejoin:miter;stroke-width:0.284452;\"/>\n   </g>\n   <g id=\"patch_5\">\n    <path clip-path=\"url(#p9168eccf1f)\" d=\"M 67.872847 239.758125 \nL 70.717367 239.758125 \nL 70.717367 145.400521 \nL 67.872847 145.400521 \nz\n\" style=\"fill:#1f77b4;fill-opacity:0.75;stroke:#000000;stroke-linejoin:miter;stroke-width:0.284452;\"/>\n   </g>\n   <g id=\"patch_6\">\n    <path clip-path=\"url(#p9168eccf1f)\" d=\"M 70.717367 239.758125 \nL 73.561887 239.758125 \nL 73.561887 203.852134 \nL 70.717367 203.852134 \nz\n\" style=\"fill:#1f77b4;fill-opacity:0.75;stroke:#000000;stroke-linejoin:miter;stroke-width:0.284452;\"/>\n   </g>\n   <g id=\"patch_7\">\n    <path clip-path=\"url(#p9168eccf1f)\" d=\"M 73.561887 239.758125 \nL 76.406407 239.758125 \nL 76.406407 180.471489 \nL 73.561887 180.471489 \nz\n\" style=\"fill:#1f77b4;fill-opacity:0.75;stroke:#000000;stroke-linejoin:miter;stroke-width:0.284452;\"/>\n   </g>\n   <g id=\"patch_8\">\n    <path clip-path=\"url(#p9168eccf1f)\" d=\"M 76.406407 239.758125 \nL 79.250927 239.758125 \nL 79.250927 97.804208 \nL 76.406407 97.804208 \nz\n\" style=\"fill:#1f77b4;fill-opacity:0.75;stroke:#000000;stroke-linejoin:miter;stroke-width:0.284452;\"/>\n   </g>\n   <g id=\"patch_9\">\n    <path clip-path=\"url(#p9168eccf1f)\" d=\"M 79.250927 239.758125 \nL 82.095447 239.758125 \nL 82.095447 102.814346 \nL 79.250927 102.814346 \nz\n\" style=\"fill:#1f77b4;fill-opacity:0.75;stroke:#000000;stroke-linejoin:miter;stroke-width:0.284452;\"/>\n   </g>\n   <g id=\"patch_10\">\n    <path clip-path=\"url(#p9168eccf1f)\" d=\"M 82.095447 239.758125 \nL 84.939967 239.758125 \nL 84.939967 90.289001 \nL 82.095447 90.289001 \nz\n\" style=\"fill:#1f77b4;fill-opacity:0.75;stroke:#000000;stroke-linejoin:miter;stroke-width:0.284452;\"/>\n   </g>\n   <g id=\"patch_11\">\n    <path clip-path=\"url(#p9168eccf1f)\" d=\"M 84.939967 239.758125 \nL 87.784487 239.758125 \nL 87.784487 85.278862 \nL 84.939967 85.278862 \nz\n\" style=\"fill:#1f77b4;fill-opacity:0.75;stroke:#000000;stroke-linejoin:miter;stroke-width:0.284452;\"/>\n   </g>\n   <g id=\"patch_12\">\n    <path clip-path=\"url(#p9168eccf1f)\" d=\"M 87.784487 239.758125 \nL 90.629006 239.758125 \nL 90.629006 79.433701 \nL 87.784487 79.433701 \nz\n\" style=\"fill:#1f77b4;fill-opacity:0.75;stroke:#000000;stroke-linejoin:miter;stroke-width:0.284452;\"/>\n   </g>\n   <g id=\"patch_13\">\n    <path clip-path=\"url(#p9168eccf1f)\" d=\"M 90.629006 239.758125 \nL 93.473526 239.758125 \nL 93.473526 168.781166 \nL 90.629006 168.781166 \nz\n\" style=\"fill:#1f77b4;fill-opacity:0.75;stroke:#000000;stroke-linejoin:miter;stroke-width:0.284452;\"/>\n   </g>\n   <g id=\"patch_14\">\n    <path clip-path=\"url(#p9168eccf1f)\" d=\"M 93.473526 239.758125 \nL 96.318046 239.758125 \nL 96.318046 191.326789 \nL 93.473526 191.326789 \nz\n\" style=\"fill:#1f77b4;fill-opacity:0.75;stroke:#000000;stroke-linejoin:miter;stroke-width:0.284452;\"/>\n   </g>\n   <g id=\"patch_15\">\n    <path clip-path=\"url(#p9168eccf1f)\" d=\"M 96.318046 239.758125 \nL 99.162566 239.758125 \nL 99.162566 101.1443 \nL 96.318046 101.1443 \nz\n\" style=\"fill:#1f77b4;fill-opacity:0.75;stroke:#000000;stroke-linejoin:miter;stroke-width:0.284452;\"/>\n   </g>\n   <g id=\"patch_16\">\n    <path clip-path=\"url(#p9168eccf1f)\" d=\"M 99.162566 239.758125 \nL 102.007086 239.758125 \nL 102.007086 32.672411 \nL 99.162566 32.672411 \nz\n\" style=\"fill:#1f77b4;fill-opacity:0.75;stroke:#000000;stroke-linejoin:miter;stroke-width:0.284452;\"/>\n   </g>\n   <g id=\"patch_17\">\n    <path clip-path=\"url(#p9168eccf1f)\" d=\"M 102.007086 239.758125 \nL 104.851606 239.758125 \nL 104.851606 49.372872 \nL 102.007086 49.372872 \nz\n\" style=\"fill:#1f77b4;fill-opacity:0.75;stroke:#000000;stroke-linejoin:miter;stroke-width:0.284452;\"/>\n   </g>\n   <g id=\"patch_18\">\n    <path clip-path=\"url(#p9168eccf1f)\" d=\"M 104.851606 239.758125 \nL 107.696126 239.758125 \nL 107.696126 86.948908 \nL 104.851606 86.948908 \nz\n\" style=\"fill:#1f77b4;fill-opacity:0.75;stroke:#000000;stroke-linejoin:miter;stroke-width:0.284452;\"/>\n   </g>\n   <g id=\"patch_19\">\n    <path clip-path=\"url(#p9168eccf1f)\" d=\"M 107.696126 239.758125 \nL 110.540646 239.758125 \nL 110.540646 91.124024 \nL 107.696126 91.124024 \nz\n\" style=\"fill:#1f77b4;fill-opacity:0.75;stroke:#000000;stroke-linejoin:miter;stroke-width:0.284452;\"/>\n   </g>\n   <g id=\"patch_20\">\n    <path clip-path=\"url(#p9168eccf1f)\" d=\"M 110.540646 239.758125 \nL 113.385166 239.758125 \nL 113.385166 184.646604 \nL 110.540646 184.646604 \nz\n\" style=\"fill:#1f77b4;fill-opacity:0.75;stroke:#000000;stroke-linejoin:miter;stroke-width:0.284452;\"/>\n   </g>\n   <g id=\"patch_21\">\n    <path clip-path=\"url(#p9168eccf1f)\" d=\"M 113.385166 239.758125 \nL 116.229686 239.758125 \nL 116.229686 177.131397 \nL 113.385166 177.131397 \nz\n\" style=\"fill:#1f77b4;fill-opacity:0.75;stroke:#000000;stroke-linejoin:miter;stroke-width:0.284452;\"/>\n   </g>\n   <g id=\"patch_22\">\n    <path clip-path=\"url(#p9168eccf1f)\" d=\"M 116.229686 239.758125 \nL 119.074206 239.758125 \nL 119.074206 113.669646 \nL 116.229686 113.669646 \nz\n\" style=\"fill:#1f77b4;fill-opacity:0.75;stroke:#000000;stroke-linejoin:miter;stroke-width:0.284452;\"/>\n   </g>\n   <g id=\"patch_23\">\n    <path clip-path=\"url(#p9168eccf1f)\" d=\"M 119.074206 239.758125 \nL 121.918726 239.758125 \nL 121.918726 55.218033 \nL 119.074206 55.218033 \nz\n\" style=\"fill:#1f77b4;fill-opacity:0.75;stroke:#000000;stroke-linejoin:miter;stroke-width:0.284452;\"/>\n   </g>\n   <g id=\"patch_24\">\n    <path clip-path=\"url(#p9168eccf1f)\" d=\"M 121.918726 239.758125 \nL 124.763246 239.758125 \nL 124.763246 66.073332 \nL 121.918726 66.073332 \nz\n\" style=\"fill:#1f77b4;fill-opacity:0.75;stroke:#000000;stroke-linejoin:miter;stroke-width:0.284452;\"/>\n   </g>\n   <g id=\"patch_25\">\n    <path clip-path=\"url(#p9168eccf1f)\" d=\"M 124.763246 239.758125 \nL 127.607766 239.758125 \nL 127.607766 76.093609 \nL 124.763246 76.093609 \nz\n\" style=\"fill:#1f77b4;fill-opacity:0.75;stroke:#000000;stroke-linejoin:miter;stroke-width:0.284452;\"/>\n   </g>\n   <g id=\"patch_26\">\n    <path clip-path=\"url(#p9168eccf1f)\" d=\"M 127.607766 239.758125 \nL 130.452286 239.758125 \nL 130.452286 104.484392 \nL 127.607766 104.484392 \nz\n\" style=\"fill:#1f77b4;fill-opacity:0.75;stroke:#000000;stroke-linejoin:miter;stroke-width:0.284452;\"/>\n   </g>\n   <g id=\"patch_27\">\n    <path clip-path=\"url(#p9168eccf1f)\" d=\"M 130.452286 239.758125 \nL 133.296806 239.758125 \nL 133.296806 195.501904 \nL 130.452286 195.501904 \nz\n\" style=\"fill:#1f77b4;fill-opacity:0.75;stroke:#000000;stroke-linejoin:miter;stroke-width:0.284452;\"/>\n   </g>\n   <g id=\"patch_28\">\n    <path clip-path=\"url(#p9168eccf1f)\" d=\"M 133.296806 239.758125 \nL 136.141326 239.758125 \nL 136.141326 204.687157 \nL 133.296806 204.687157 \nz\n\" style=\"fill:#1f77b4;fill-opacity:0.75;stroke:#000000;stroke-linejoin:miter;stroke-width:0.284452;\"/>\n   </g>\n   <g id=\"patch_29\">\n    <path clip-path=\"url(#p9168eccf1f)\" d=\"M 136.141326 239.758125 \nL 138.985846 239.758125 \nL 138.985846 117.844761 \nL 136.141326 117.844761 \nz\n\" style=\"fill:#1f77b4;fill-opacity:0.75;stroke:#000000;stroke-linejoin:miter;stroke-width:0.284452;\"/>\n   </g>\n   <g id=\"patch_30\">\n    <path clip-path=\"url(#p9168eccf1f)\" d=\"M 138.985846 239.758125 \nL 141.830366 239.758125 \nL 141.830366 118.679784 \nL 138.985846 118.679784 \nz\n\" style=\"fill:#1f77b4;fill-opacity:0.75;stroke:#000000;stroke-linejoin:miter;stroke-width:0.284452;\"/>\n   </g>\n   <g id=\"patch_31\">\n    <path clip-path=\"url(#p9168eccf1f)\" d=\"M 141.830366 239.758125 \nL 144.674886 239.758125 \nL 144.674886 100.309277 \nL 141.830366 100.309277 \nz\n\" style=\"fill:#1f77b4;fill-opacity:0.75;stroke:#000000;stroke-linejoin:miter;stroke-width:0.284452;\"/>\n   </g>\n   <g id=\"patch_32\">\n    <path clip-path=\"url(#p9168eccf1f)\" d=\"M 144.674886 239.758125 \nL 147.519406 239.758125 \nL 147.519406 101.1443 \nL 144.674886 101.1443 \nz\n\" style=\"fill:#1f77b4;fill-opacity:0.75;stroke:#000000;stroke-linejoin:miter;stroke-width:0.284452;\"/>\n   </g>\n   <g id=\"patch_33\">\n    <path clip-path=\"url(#p9168eccf1f)\" d=\"M 147.519406 239.758125 \nL 150.363926 239.758125 \nL 150.363926 105.319415 \nL 147.519406 105.319415 \nz\n\" style=\"fill:#1f77b4;fill-opacity:0.75;stroke:#000000;stroke-linejoin:miter;stroke-width:0.284452;\"/>\n   </g>\n   <g id=\"patch_34\">\n    <path clip-path=\"url(#p9168eccf1f)\" d=\"M 150.363926 239.758125 \nL 153.208446 239.758125 \nL 153.208446 181.306512 \nL 150.363926 181.306512 \nz\n\" style=\"fill:#1f77b4;fill-opacity:0.75;stroke:#000000;stroke-linejoin:miter;stroke-width:0.284452;\"/>\n   </g>\n   <g id=\"patch_35\">\n    <path clip-path=\"url(#p9168eccf1f)\" d=\"M 153.208446 239.758125 \nL 156.052966 239.758125 \nL 156.052966 186.31665 \nL 153.208446 186.31665 \nz\n\" style=\"fill:#1f77b4;fill-opacity:0.75;stroke:#000000;stroke-linejoin:miter;stroke-width:0.284452;\"/>\n   </g>\n   <g id=\"patch_36\">\n    <path clip-path=\"url(#p9168eccf1f)\" d=\"M 156.052966 239.758125 \nL 158.897486 239.758125 \nL 158.897486 85.278862 \nL 156.052966 85.278862 \nz\n\" style=\"fill:#1f77b4;fill-opacity:0.75;stroke:#000000;stroke-linejoin:miter;stroke-width:0.284452;\"/>\n   </g>\n   <g id=\"patch_37\">\n    <path clip-path=\"url(#p9168eccf1f)\" d=\"M 158.897486 239.758125 \nL 161.742006 239.758125 \nL 161.742006 96.134162 \nL 158.897486 96.134162 \nz\n\" style=\"fill:#1f77b4;fill-opacity:0.75;stroke:#000000;stroke-linejoin:miter;stroke-width:0.284452;\"/>\n   </g>\n   <g id=\"patch_38\">\n    <path clip-path=\"url(#p9168eccf1f)\" d=\"M 161.742006 239.758125 \nL 164.586526 239.758125 \nL 164.586526 67.743378 \nL 161.742006 67.743378 \nz\n\" style=\"fill:#1f77b4;fill-opacity:0.75;stroke:#000000;stroke-linejoin:miter;stroke-width:0.284452;\"/>\n   </g>\n   <g id=\"patch_39\">\n    <path clip-path=\"url(#p9168eccf1f)\" d=\"M 164.586526 239.758125 \nL 167.431046 239.758125 \nL 167.431046 56.888079 \nL 164.586526 56.888079 \nz\n\" style=\"fill:#1f77b4;fill-opacity:0.75;stroke:#000000;stroke-linejoin:miter;stroke-width:0.284452;\"/>\n   </g>\n   <g id=\"patch_40\">\n    <path clip-path=\"url(#p9168eccf1f)\" d=\"M 167.431046 239.758125 \nL 170.275566 239.758125 \nL 170.275566 61.898217 \nL 167.431046 61.898217 \nz\n\" style=\"fill:#1f77b4;fill-opacity:0.75;stroke:#000000;stroke-linejoin:miter;stroke-width:0.284452;\"/>\n   </g>\n   <g id=\"patch_41\">\n    <path clip-path=\"url(#p9168eccf1f)\" d=\"M 170.275566 239.758125 \nL 173.120085 239.758125 \nL 173.120085 175.461351 \nL 170.275566 175.461351 \nz\n\" style=\"fill:#1f77b4;fill-opacity:0.75;stroke:#000000;stroke-linejoin:miter;stroke-width:0.284452;\"/>\n   </g>\n   <g id=\"patch_42\">\n    <path clip-path=\"url(#p9168eccf1f)\" d=\"M 173.120085 239.758125 \nL 175.964605 239.758125 \nL 175.964605 192.996835 \nL 173.120085 192.996835 \nz\n\" style=\"fill:#1f77b4;fill-opacity:0.75;stroke:#000000;stroke-linejoin:miter;stroke-width:0.284452;\"/>\n   </g>\n   <g id=\"patch_43\">\n    <path clip-path=\"url(#p9168eccf1f)\" d=\"M 175.964605 239.758125 \nL 178.809125 239.758125 \nL 178.809125 72.753517 \nL 175.964605 72.753517 \nz\n\" style=\"fill:#1f77b4;fill-opacity:0.75;stroke:#000000;stroke-linejoin:miter;stroke-width:0.284452;\"/>\n   </g>\n   <g id=\"patch_44\">\n    <path clip-path=\"url(#p9168eccf1f)\" d=\"M 178.809125 239.758125 \nL 181.653645 239.758125 \nL 181.653645 93.629093 \nL 178.809125 93.629093 \nz\n\" style=\"fill:#1f77b4;fill-opacity:0.75;stroke:#000000;stroke-linejoin:miter;stroke-width:0.284452;\"/>\n   </g>\n   <g id=\"patch_45\">\n    <path clip-path=\"url(#p9168eccf1f)\" d=\"M 181.653645 239.758125 \nL 184.498165 239.758125 \nL 184.498165 67.743378 \nL 181.653645 67.743378 \nz\n\" style=\"fill:#1f77b4;fill-opacity:0.75;stroke:#000000;stroke-linejoin:miter;stroke-width:0.284452;\"/>\n   </g>\n   <g id=\"patch_46\">\n    <path clip-path=\"url(#p9168eccf1f)\" d=\"M 184.498165 239.758125 \nL 187.342685 239.758125 \nL 187.342685 88.618954 \nL 184.498165 88.618954 \nz\n\" style=\"fill:#1f77b4;fill-opacity:0.75;stroke:#000000;stroke-linejoin:miter;stroke-width:0.284452;\"/>\n   </g>\n   <g id=\"patch_47\">\n    <path clip-path=\"url(#p9168eccf1f)\" d=\"M 187.342685 239.758125 \nL 190.187205 239.758125 \nL 190.187205 106.154438 \nL 187.342685 106.154438 \nz\n\" style=\"fill:#1f77b4;fill-opacity:0.75;stroke:#000000;stroke-linejoin:miter;stroke-width:0.284452;\"/>\n   </g>\n   <g id=\"patch_48\">\n    <path clip-path=\"url(#p9168eccf1f)\" d=\"M 190.187205 239.758125 \nL 193.031725 239.758125 \nL 193.031725 180.471489 \nL 190.187205 180.471489 \nz\n\" style=\"fill:#1f77b4;fill-opacity:0.75;stroke:#000000;stroke-linejoin:miter;stroke-width:0.284452;\"/>\n   </g>\n   <g id=\"patch_49\">\n    <path clip-path=\"url(#p9168eccf1f)\" d=\"M 193.031725 239.758125 \nL 195.876245 239.758125 \nL 195.876245 197.17195 \nL 193.031725 197.17195 \nz\n\" style=\"fill:#1f77b4;fill-opacity:0.75;stroke:#000000;stroke-linejoin:miter;stroke-width:0.284452;\"/>\n   </g>\n   <g id=\"patch_50\">\n    <path clip-path=\"url(#p9168eccf1f)\" d=\"M 195.876245 239.758125 \nL 198.720765 239.758125 \nL 198.720765 141.225406 \nL 195.876245 141.225406 \nz\n\" style=\"fill:#1f77b4;fill-opacity:0.75;stroke:#000000;stroke-linejoin:miter;stroke-width:0.284452;\"/>\n   </g>\n   <g id=\"patch_51\">\n    <path clip-path=\"url(#p9168eccf1f)\" d=\"M 198.720765 239.758125 \nL 201.565285 239.758125 \nL 201.565285 107.824484 \nL 198.720765 107.824484 \nz\n\" style=\"fill:#1f77b4;fill-opacity:0.75;stroke:#000000;stroke-linejoin:miter;stroke-width:0.284452;\"/>\n   </g>\n   <g id=\"patch_52\">\n    <path clip-path=\"url(#p9168eccf1f)\" d=\"M 201.565285 239.758125 \nL 204.409805 239.758125 \nL 204.409805 111.164577 \nL 201.565285 111.164577 \nz\n\" style=\"fill:#1f77b4;fill-opacity:0.75;stroke:#000000;stroke-linejoin:miter;stroke-width:0.284452;\"/>\n   </g>\n   <g id=\"patch_53\">\n    <path clip-path=\"url(#p9168eccf1f)\" d=\"M 204.409805 239.758125 \nL 207.254325 239.758125 \nL 207.254325 136.215268 \nL 204.409805 136.215268 \nz\n\" style=\"fill:#1f77b4;fill-opacity:0.75;stroke:#000000;stroke-linejoin:miter;stroke-width:0.284452;\"/>\n   </g>\n   <g id=\"patch_54\">\n    <path clip-path=\"url(#p9168eccf1f)\" d=\"M 207.254325 239.758125 \nL 210.098845 239.758125 \nL 210.098845 135.380245 \nL 207.254325 135.380245 \nz\n\" style=\"fill:#1f77b4;fill-opacity:0.75;stroke:#000000;stroke-linejoin:miter;stroke-width:0.284452;\"/>\n   </g>\n   <g id=\"patch_55\">\n    <path clip-path=\"url(#p9168eccf1f)\" d=\"M 210.098845 239.758125 \nL 212.943365 239.758125 \nL 212.943365 208.027249 \nL 210.098845 208.027249 \nz\n\" style=\"fill:#1f77b4;fill-opacity:0.75;stroke:#000000;stroke-linejoin:miter;stroke-width:0.284452;\"/>\n   </g>\n   <g id=\"patch_56\">\n    <path clip-path=\"url(#p9168eccf1f)\" d=\"M 212.943365 239.758125 \nL 215.787885 239.758125 \nL 215.787885 210.532319 \nL 212.943365 210.532319 \nz\n\" style=\"fill:#1f77b4;fill-opacity:0.75;stroke:#000000;stroke-linejoin:miter;stroke-width:0.284452;\"/>\n   </g>\n   <g id=\"patch_57\">\n    <path clip-path=\"url(#p9168eccf1f)\" d=\"M 215.787885 239.758125 \nL 218.632405 239.758125 \nL 218.632405 114.504669 \nL 215.787885 114.504669 \nz\n\" style=\"fill:#1f77b4;fill-opacity:0.75;stroke:#000000;stroke-linejoin:miter;stroke-width:0.284452;\"/>\n   </g>\n   <g id=\"patch_58\">\n    <path clip-path=\"url(#p9168eccf1f)\" d=\"M 218.632405 239.758125 \nL 221.476925 239.758125 \nL 221.476925 152.915729 \nL 218.632405 152.915729 \nz\n\" style=\"fill:#1f77b4;fill-opacity:0.75;stroke:#000000;stroke-linejoin:miter;stroke-width:0.284452;\"/>\n   </g>\n   <g id=\"patch_59\">\n    <path clip-path=\"url(#p9168eccf1f)\" d=\"M 221.476925 239.758125 \nL 224.321445 239.758125 \nL 224.321445 142.060429 \nL 221.476925 142.060429 \nz\n\" style=\"fill:#1f77b4;fill-opacity:0.75;stroke:#000000;stroke-linejoin:miter;stroke-width:0.284452;\"/>\n   </g>\n   <g id=\"patch_60\">\n    <path clip-path=\"url(#p9168eccf1f)\" d=\"M 224.321445 239.758125 \nL 227.165965 239.758125 \nL 227.165965 106.154438 \nL 224.321445 106.154438 \nz\n\" style=\"fill:#1f77b4;fill-opacity:0.75;stroke:#000000;stroke-linejoin:miter;stroke-width:0.284452;\"/>\n   </g>\n   <g id=\"patch_61\">\n    <path clip-path=\"url(#p9168eccf1f)\" d=\"M 227.165965 239.758125 \nL 230.010485 239.758125 \nL 230.010485 155.420798 \nL 227.165965 155.420798 \nz\n\" style=\"fill:#1f77b4;fill-opacity:0.75;stroke:#000000;stroke-linejoin:miter;stroke-width:0.284452;\"/>\n   </g>\n   <g id=\"patch_62\">\n    <path clip-path=\"url(#p9168eccf1f)\" d=\"M 230.010485 239.758125 \nL 232.855005 239.758125 \nL 232.855005 209.697296 \nL 230.010485 209.697296 \nz\n\" style=\"fill:#1f77b4;fill-opacity:0.75;stroke:#000000;stroke-linejoin:miter;stroke-width:0.284452;\"/>\n   </g>\n   <g id=\"patch_63\">\n    <path clip-path=\"url(#p9168eccf1f)\" d=\"M 232.855005 239.758125 \nL 235.699525 239.758125 \nL 235.699525 204.687157 \nL 232.855005 204.687157 \nz\n\" style=\"fill:#1f77b4;fill-opacity:0.75;stroke:#000000;stroke-linejoin:miter;stroke-width:0.284452;\"/>\n   </g>\n   <g id=\"patch_64\">\n    <path clip-path=\"url(#p9168eccf1f)\" d=\"M 235.699525 239.758125 \nL 238.544045 239.758125 \nL 238.544045 147.90559 \nL 235.699525 147.90559 \nz\n\" style=\"fill:#1f77b4;fill-opacity:0.75;stroke:#000000;stroke-linejoin:miter;stroke-width:0.284452;\"/>\n   </g>\n   <g id=\"patch_65\">\n    <path clip-path=\"url(#p9168eccf1f)\" d=\"M 238.544045 239.758125 \nL 241.388565 239.758125 \nL 241.388565 154.585775 \nL 238.544045 154.585775 \nz\n\" style=\"fill:#1f77b4;fill-opacity:0.75;stroke:#000000;stroke-linejoin:miter;stroke-width:0.284452;\"/>\n   </g>\n   <g id=\"patch_66\">\n    <path clip-path=\"url(#p9168eccf1f)\" d=\"M 241.388565 239.758125 \nL 244.233085 239.758125 \nL 244.233085 136.215268 \nL 241.388565 136.215268 \nz\n\" style=\"fill:#1f77b4;fill-opacity:0.75;stroke:#000000;stroke-linejoin:miter;stroke-width:0.284452;\"/>\n   </g>\n   <g id=\"patch_67\">\n    <path clip-path=\"url(#p9168eccf1f)\" d=\"M 244.233085 239.758125 \nL 247.077605 239.758125 \nL 247.077605 152.915729 \nL 244.233085 152.915729 \nz\n\" style=\"fill:#1f77b4;fill-opacity:0.75;stroke:#000000;stroke-linejoin:miter;stroke-width:0.284452;\"/>\n   </g>\n   <g id=\"patch_68\">\n    <path clip-path=\"url(#p9168eccf1f)\" d=\"M 247.077605 239.758125 \nL 249.922125 239.758125 \nL 249.922125 158.76089 \nL 247.077605 158.76089 \nz\n\" style=\"fill:#1f77b4;fill-opacity:0.75;stroke:#000000;stroke-linejoin:miter;stroke-width:0.284452;\"/>\n   </g>\n   <g id=\"patch_69\">\n    <path clip-path=\"url(#p9168eccf1f)\" d=\"M 249.922125 239.758125 \nL 252.766645 239.758125 \nL 252.766645 203.017111 \nL 249.922125 203.017111 \nz\n\" style=\"fill:#1f77b4;fill-opacity:0.75;stroke:#000000;stroke-linejoin:miter;stroke-width:0.284452;\"/>\n   </g>\n   <g id=\"patch_70\">\n    <path clip-path=\"url(#p9168eccf1f)\" d=\"M 252.766645 239.758125 \nL 255.611165 239.758125 \nL 255.611165 197.17195 \nL 252.766645 197.17195 \nz\n\" style=\"fill:#1f77b4;fill-opacity:0.75;stroke:#000000;stroke-linejoin:miter;stroke-width:0.284452;\"/>\n   </g>\n   <g id=\"patch_71\">\n    <path clip-path=\"url(#p9168eccf1f)\" d=\"M 255.611165 239.758125 \nL 258.455684 239.758125 \nL 258.455684 166.276097 \nL 255.611165 166.276097 \nz\n\" style=\"fill:#1f77b4;fill-opacity:0.75;stroke:#000000;stroke-linejoin:miter;stroke-width:0.284452;\"/>\n   </g>\n   <g id=\"patch_72\">\n    <path clip-path=\"url(#p9168eccf1f)\" d=\"M 258.455684 239.758125 \nL 261.300204 239.758125 \nL 261.300204 145.400521 \nL 258.455684 145.400521 \nz\n\" style=\"fill:#1f77b4;fill-opacity:0.75;stroke:#000000;stroke-linejoin:miter;stroke-width:0.284452;\"/>\n   </g>\n   <g id=\"patch_73\">\n    <path clip-path=\"url(#p9168eccf1f)\" d=\"M 261.300204 239.758125 \nL 264.144724 239.758125 \nL 264.144724 167.11112 \nL 261.300204 167.11112 \nz\n\" style=\"fill:#1f77b4;fill-opacity:0.75;stroke:#000000;stroke-linejoin:miter;stroke-width:0.284452;\"/>\n   </g>\n   <g id=\"patch_74\">\n    <path clip-path=\"url(#p9168eccf1f)\" d=\"M 264.144724 239.758125 \nL 266.989244 239.758125 \nL 266.989244 174.626328 \nL 264.144724 174.626328 \nz\n\" style=\"fill:#1f77b4;fill-opacity:0.75;stroke:#000000;stroke-linejoin:miter;stroke-width:0.284452;\"/>\n   </g>\n   <g id=\"patch_75\">\n    <path clip-path=\"url(#p9168eccf1f)\" d=\"M 266.989244 239.758125 \nL 269.833764 239.758125 \nL 269.833764 198.006973 \nL 266.989244 198.006973 \nz\n\" style=\"fill:#1f77b4;fill-opacity:0.75;stroke:#000000;stroke-linejoin:miter;stroke-width:0.284452;\"/>\n   </g>\n   <g id=\"patch_76\">\n    <path clip-path=\"url(#p9168eccf1f)\" d=\"M 269.833764 239.758125 \nL 272.678284 239.758125 \nL 272.678284 220.552595 \nL 269.833764 220.552595 \nz\n\" style=\"fill:#1f77b4;fill-opacity:0.75;stroke:#000000;stroke-linejoin:miter;stroke-width:0.284452;\"/>\n   </g>\n   <g id=\"patch_77\">\n    <path clip-path=\"url(#p9168eccf1f)\" d=\"M 272.678284 239.758125 \nL 275.522804 239.758125 \nL 275.522804 224.72771 \nL 272.678284 224.72771 \nz\n\" style=\"fill:#1f77b4;fill-opacity:0.75;stroke:#000000;stroke-linejoin:miter;stroke-width:0.284452;\"/>\n   </g>\n   <g id=\"patch_78\">\n    <path clip-path=\"url(#p9168eccf1f)\" d=\"M 275.522804 239.758125 \nL 278.367324 239.758125 \nL 278.367324 191.326789 \nL 275.522804 191.326789 \nz\n\" style=\"fill:#1f77b4;fill-opacity:0.75;stroke:#000000;stroke-linejoin:miter;stroke-width:0.284452;\"/>\n   </g>\n   <g id=\"patch_79\">\n    <path clip-path=\"url(#p9168eccf1f)\" d=\"M 278.367324 239.758125 \nL 281.211844 239.758125 \nL 281.211844 204.687157 \nL 278.367324 204.687157 \nz\n\" style=\"fill:#1f77b4;fill-opacity:0.75;stroke:#000000;stroke-linejoin:miter;stroke-width:0.284452;\"/>\n   </g>\n   <g id=\"patch_80\">\n    <path clip-path=\"url(#p9168eccf1f)\" d=\"M 281.211844 239.758125 \nL 284.056364 239.758125 \nL 284.056364 196.336927 \nL 281.211844 196.336927 \nz\n\" style=\"fill:#1f77b4;fill-opacity:0.75;stroke:#000000;stroke-linejoin:miter;stroke-width:0.284452;\"/>\n   </g>\n   <g id=\"patch_81\">\n    <path clip-path=\"url(#p9168eccf1f)\" d=\"M 284.056364 239.758125 \nL 286.900884 239.758125 \nL 286.900884 214.707434 \nL 284.056364 214.707434 \nz\n\" style=\"fill:#1f77b4;fill-opacity:0.75;stroke:#000000;stroke-linejoin:miter;stroke-width:0.284452;\"/>\n   </g>\n   <g id=\"patch_82\">\n    <path clip-path=\"url(#p9168eccf1f)\" d=\"M 286.900884 239.758125 \nL 289.745404 239.758125 \nL 289.745404 198.841996 \nL 286.900884 198.841996 \nz\n\" style=\"fill:#1f77b4;fill-opacity:0.75;stroke:#000000;stroke-linejoin:miter;stroke-width:0.284452;\"/>\n   </g>\n   <g id=\"patch_83\">\n    <path clip-path=\"url(#p9168eccf1f)\" d=\"M 289.745404 239.758125 \nL 292.589924 239.758125 \nL 292.589924 223.892687 \nL 289.745404 223.892687 \nz\n\" style=\"fill:#1f77b4;fill-opacity:0.75;stroke:#000000;stroke-linejoin:miter;stroke-width:0.284452;\"/>\n   </g>\n   <g id=\"patch_84\">\n    <path clip-path=\"url(#p9168eccf1f)\" d=\"M 292.589924 239.758125 \nL 295.434444 239.758125 \nL 295.434444 225.562733 \nL 292.589924 225.562733 \nz\n\" style=\"fill:#1f77b4;fill-opacity:0.75;stroke:#000000;stroke-linejoin:miter;stroke-width:0.284452;\"/>\n   </g>\n   <g id=\"patch_85\">\n    <path clip-path=\"url(#p9168eccf1f)\" d=\"M 295.434444 239.758125 \nL 298.278964 239.758125 \nL 298.278964 208.862272 \nL 295.434444 208.862272 \nz\n\" style=\"fill:#1f77b4;fill-opacity:0.75;stroke:#000000;stroke-linejoin:miter;stroke-width:0.284452;\"/>\n   </g>\n   <g id=\"patch_86\">\n    <path clip-path=\"url(#p9168eccf1f)\" d=\"M 298.278964 239.758125 \nL 301.123484 239.758125 \nL 301.123484 218.047526 \nL 298.278964 218.047526 \nz\n\" style=\"fill:#1f77b4;fill-opacity:0.75;stroke:#000000;stroke-linejoin:miter;stroke-width:0.284452;\"/>\n   </g>\n   <g id=\"patch_87\">\n    <path clip-path=\"url(#p9168eccf1f)\" d=\"M 301.123484 239.758125 \nL 303.968004 239.758125 \nL 303.968004 208.027249 \nL 301.123484 208.027249 \nz\n\" style=\"fill:#1f77b4;fill-opacity:0.75;stroke:#000000;stroke-linejoin:miter;stroke-width:0.284452;\"/>\n   </g>\n   <g id=\"patch_88\">\n    <path clip-path=\"url(#p9168eccf1f)\" d=\"M 303.968004 239.758125 \nL 306.812524 239.758125 \nL 306.812524 210.532319 \nL 303.968004 210.532319 \nz\n\" style=\"fill:#1f77b4;fill-opacity:0.75;stroke:#000000;stroke-linejoin:miter;stroke-width:0.284452;\"/>\n   </g>\n   <g id=\"patch_89\">\n    <path clip-path=\"url(#p9168eccf1f)\" d=\"M 306.812524 239.758125 \nL 309.657044 239.758125 \nL 309.657044 217.212503 \nL 306.812524 217.212503 \nz\n\" style=\"fill:#1f77b4;fill-opacity:0.75;stroke:#000000;stroke-linejoin:miter;stroke-width:0.284452;\"/>\n   </g>\n   <g id=\"patch_90\">\n    <path clip-path=\"url(#p9168eccf1f)\" d=\"M 309.657044 239.758125 \nL 312.501564 239.758125 \nL 312.501564 226.397756 \nL 309.657044 226.397756 \nz\n\" style=\"fill:#1f77b4;fill-opacity:0.75;stroke:#000000;stroke-linejoin:miter;stroke-width:0.284452;\"/>\n   </g>\n   <g id=\"patch_91\">\n    <path clip-path=\"url(#p9168eccf1f)\" d=\"M 312.501564 239.758125 \nL 315.346084 239.758125 \nL 315.346084 226.397756 \nL 312.501564 226.397756 \nz\n\" style=\"fill:#1f77b4;fill-opacity:0.75;stroke:#000000;stroke-linejoin:miter;stroke-width:0.284452;\"/>\n   </g>\n   <g id=\"patch_92\">\n    <path clip-path=\"url(#p9168eccf1f)\" d=\"M 315.346084 239.758125 \nL 318.190604 239.758125 \nL 318.190604 213.872411 \nL 315.346084 213.872411 \nz\n\" style=\"fill:#1f77b4;fill-opacity:0.75;stroke:#000000;stroke-linejoin:miter;stroke-width:0.284452;\"/>\n   </g>\n   <g id=\"patch_93\">\n    <path clip-path=\"url(#p9168eccf1f)\" d=\"M 318.190604 239.758125 \nL 321.035124 239.758125 \nL 321.035124 203.852134 \nL 318.190604 203.852134 \nz\n\" style=\"fill:#1f77b4;fill-opacity:0.75;stroke:#000000;stroke-linejoin:miter;stroke-width:0.284452;\"/>\n   </g>\n   <g id=\"patch_94\">\n    <path clip-path=\"url(#p9168eccf1f)\" d=\"M 321.035124 239.758125 \nL 323.879644 239.758125 \nL 323.879644 198.006973 \nL 321.035124 198.006973 \nz\n\" style=\"fill:#1f77b4;fill-opacity:0.75;stroke:#000000;stroke-linejoin:miter;stroke-width:0.284452;\"/>\n   </g>\n   <g id=\"patch_95\">\n    <path clip-path=\"url(#p9168eccf1f)\" d=\"M 323.879644 239.758125 \nL 326.724164 239.758125 \nL 326.724164 189.656743 \nL 323.879644 189.656743 \nz\n\" style=\"fill:#1f77b4;fill-opacity:0.75;stroke:#000000;stroke-linejoin:miter;stroke-width:0.284452;\"/>\n   </g>\n   <g id=\"patch_96\">\n    <path clip-path=\"url(#p9168eccf1f)\" d=\"M 326.724164 239.758125 \nL 329.568684 239.758125 \nL 329.568684 211.367342 \nL 326.724164 211.367342 \nz\n\" style=\"fill:#1f77b4;fill-opacity:0.75;stroke:#000000;stroke-linejoin:miter;stroke-width:0.284452;\"/>\n   </g>\n   <g id=\"patch_97\">\n    <path clip-path=\"url(#p9168eccf1f)\" d=\"M 329.568684 239.758125 \nL 332.413204 239.758125 \nL 332.413204 233.077941 \nL 329.568684 233.077941 \nz\n\" style=\"fill:#1f77b4;fill-opacity:0.75;stroke:#000000;stroke-linejoin:miter;stroke-width:0.284452;\"/>\n   </g>\n   <g id=\"patch_98\">\n    <path clip-path=\"url(#p9168eccf1f)\" d=\"M 332.413204 239.758125 \nL 335.257724 239.758125 \nL 335.257724 231.407895 \nL 332.413204 231.407895 \nz\n\" style=\"fill:#1f77b4;fill-opacity:0.75;stroke:#000000;stroke-linejoin:miter;stroke-width:0.284452;\"/>\n   </g>\n   <g id=\"patch_99\">\n    <path clip-path=\"url(#p9168eccf1f)\" d=\"M 335.257724 239.758125 \nL 338.102244 239.758125 \nL 338.102244 209.697296 \nL 335.257724 209.697296 \nz\n\" style=\"fill:#1f77b4;fill-opacity:0.75;stroke:#000000;stroke-linejoin:miter;stroke-width:0.284452;\"/>\n   </g>\n   <g id=\"patch_100\">\n    <path clip-path=\"url(#p9168eccf1f)\" d=\"M 338.102244 239.758125 \nL 340.946763 239.758125 \nL 340.946763 213.037388 \nL 338.102244 213.037388 \nz\n\" style=\"fill:#1f77b4;fill-opacity:0.75;stroke:#000000;stroke-linejoin:miter;stroke-width:0.284452;\"/>\n   </g>\n   <g id=\"patch_101\">\n    <path clip-path=\"url(#p9168eccf1f)\" d=\"M 340.946763 239.758125 \nL 343.791283 239.758125 \nL 343.791283 208.862272 \nL 340.946763 208.862272 \nz\n\" style=\"fill:#1f77b4;fill-opacity:0.75;stroke:#000000;stroke-linejoin:miter;stroke-width:0.284452;\"/>\n   </g>\n   <g id=\"patch_102\">\n    <path clip-path=\"url(#p9168eccf1f)\" d=\"M 343.791283 239.758125 \nL 346.635803 239.758125 \nL 346.635803 211.367342 \nL 343.791283 211.367342 \nz\n\" style=\"fill:#1f77b4;fill-opacity:0.75;stroke:#000000;stroke-linejoin:miter;stroke-width:0.284452;\"/>\n   </g>\n   <g id=\"patch_103\">\n    <path clip-path=\"url(#p9168eccf1f)\" d=\"M 346.635803 239.758125 \nL 349.480323 239.758125 \nL 349.480323 230.572872 \nL 346.635803 230.572872 \nz\n\" style=\"fill:#1f77b4;fill-opacity:0.75;stroke:#000000;stroke-linejoin:miter;stroke-width:0.284452;\"/>\n   </g>\n   <g id=\"patch_104\">\n    <path clip-path=\"url(#p9168eccf1f)\" d=\"M 349.480323 239.758125 \nL 352.324843 239.758125 \nL 352.324843 229.737849 \nL 349.480323 229.737849 \nz\n\" style=\"fill:#1f77b4;fill-opacity:0.75;stroke:#000000;stroke-linejoin:miter;stroke-width:0.284452;\"/>\n   </g>\n   <g id=\"patch_105\">\n    <path clip-path=\"url(#p9168eccf1f)\" d=\"M 352.324843 239.758125 \nL 355.169363 239.758125 \nL 355.169363 234.747987 \nL 352.324843 234.747987 \nz\n\" style=\"fill:#1f77b4;fill-opacity:0.75;stroke:#000000;stroke-linejoin:miter;stroke-width:0.284452;\"/>\n   </g>\n   <g id=\"patch_106\">\n    <path clip-path=\"url(#p9168eccf1f)\" d=\"M 355.169363 239.758125 \nL 358.013883 239.758125 \nL 358.013883 218.882549 \nL 355.169363 218.882549 \nz\n\" style=\"fill:#1f77b4;fill-opacity:0.75;stroke:#000000;stroke-linejoin:miter;stroke-width:0.284452;\"/>\n   </g>\n   <g id=\"patch_107\">\n    <path clip-path=\"url(#p9168eccf1f)\" d=\"M 358.013883 239.758125 \nL 360.858403 239.758125 \nL 360.858403 214.707434 \nL 358.013883 214.707434 \nz\n\" style=\"fill:#1f77b4;fill-opacity:0.75;stroke:#000000;stroke-linejoin:miter;stroke-width:0.284452;\"/>\n   </g>\n   <g id=\"patch_108\">\n    <path clip-path=\"url(#p9168eccf1f)\" d=\"M 360.858403 239.758125 \nL 363.702923 239.758125 \nL 363.702923 198.006973 \nL 360.858403 198.006973 \nz\n\" style=\"fill:#1f77b4;fill-opacity:0.75;stroke:#000000;stroke-linejoin:miter;stroke-width:0.284452;\"/>\n   </g>\n   <g id=\"patch_109\">\n    <path clip-path=\"url(#p9168eccf1f)\" d=\"M 363.702923 239.758125 \nL 366.547443 239.758125 \nL 366.547443 202.182088 \nL 363.702923 202.182088 \nz\n\" style=\"fill:#1f77b4;fill-opacity:0.75;stroke:#000000;stroke-linejoin:miter;stroke-width:0.284452;\"/>\n   </g>\n   <g id=\"patch_110\">\n    <path clip-path=\"url(#p9168eccf1f)\" d=\"M 99.162566 239.758125 \nL 102.007086 239.758125 \nL 102.007086 32.672411 \nL 99.162566 32.672411 \nz\n\" style=\"fill:#ff0000;fill-opacity:0.75;stroke:#000000;stroke-linejoin:miter;stroke-width:0.284452;\"/>\n   </g>\n   <g id=\"patch_111\">\n    <path clip-path=\"url(#p9168eccf1f)\" d=\"M 102.007086 239.758125 \nL 104.851606 239.758125 \nL 104.851606 49.372872 \nL 102.007086 49.372872 \nz\n\" style=\"fill:#ff0000;fill-opacity:0.75;stroke:#000000;stroke-linejoin:miter;stroke-width:0.284452;\"/>\n   </g>\n   <g id=\"patch_112\">\n    <path clip-path=\"url(#p9168eccf1f)\" d=\"M 104.851606 239.758125 \nL 107.696126 239.758125 \nL 107.696126 239.758125 \nL 104.851606 239.758125 \nz\n\" style=\"fill:#ff0000;fill-opacity:0.75;stroke:#000000;stroke-linejoin:miter;stroke-width:0.284452;\"/>\n   </g>\n   <g id=\"patch_113\">\n    <path clip-path=\"url(#p9168eccf1f)\" d=\"M 107.696126 239.758125 \nL 110.540646 239.758125 \nL 110.540646 239.758125 \nL 107.696126 239.758125 \nz\n\" style=\"fill:#ff0000;fill-opacity:0.75;stroke:#000000;stroke-linejoin:miter;stroke-width:0.284452;\"/>\n   </g>\n   <g id=\"patch_114\">\n    <path clip-path=\"url(#p9168eccf1f)\" d=\"M 110.540646 239.758125 \nL 113.385166 239.758125 \nL 113.385166 239.758125 \nL 110.540646 239.758125 \nz\n\" style=\"fill:#ff0000;fill-opacity:0.75;stroke:#000000;stroke-linejoin:miter;stroke-width:0.284452;\"/>\n   </g>\n   <g id=\"patch_115\">\n    <path clip-path=\"url(#p9168eccf1f)\" d=\"M 113.385166 239.758125 \nL 116.229686 239.758125 \nL 116.229686 239.758125 \nL 113.385166 239.758125 \nz\n\" style=\"fill:#ff0000;fill-opacity:0.75;stroke:#000000;stroke-linejoin:miter;stroke-width:0.284452;\"/>\n   </g>\n   <g id=\"patch_116\">\n    <path clip-path=\"url(#p9168eccf1f)\" d=\"M 116.229686 239.758125 \nL 119.074206 239.758125 \nL 119.074206 239.758125 \nL 116.229686 239.758125 \nz\n\" style=\"fill:#ff0000;fill-opacity:0.75;stroke:#000000;stroke-linejoin:miter;stroke-width:0.284452;\"/>\n   </g>\n   <g id=\"patch_117\">\n    <path clip-path=\"url(#p9168eccf1f)\" d=\"M 119.074206 239.758125 \nL 121.918726 239.758125 \nL 121.918726 55.218033 \nL 119.074206 55.218033 \nz\n\" style=\"fill:#ff0000;fill-opacity:0.75;stroke:#000000;stroke-linejoin:miter;stroke-width:0.284452;\"/>\n   </g>\n   <g id=\"patch_118\">\n    <path clip-path=\"url(#p9168eccf1f)\" d=\"M 121.918726 239.758125 \nL 124.763246 239.758125 \nL 124.763246 66.073332 \nL 121.918726 66.073332 \nz\n\" style=\"fill:#ff0000;fill-opacity:0.75;stroke:#000000;stroke-linejoin:miter;stroke-width:0.284452;\"/>\n   </g>\n   <g id=\"patch_119\">\n    <path clip-path=\"url(#p9168eccf1f)\" d=\"M 124.763246 239.758125 \nL 127.607766 239.758125 \nL 127.607766 76.093609 \nL 124.763246 76.093609 \nz\n\" style=\"fill:#ff0000;fill-opacity:0.75;stroke:#000000;stroke-linejoin:miter;stroke-width:0.284452;\"/>\n   </g>\n   <g id=\"patch_120\">\n    <path clip-path=\"url(#p9168eccf1f)\" d=\"M 127.607766 239.758125 \nL 130.452286 239.758125 \nL 130.452286 239.758125 \nL 127.607766 239.758125 \nz\n\" style=\"fill:#ff0000;fill-opacity:0.75;stroke:#000000;stroke-linejoin:miter;stroke-width:0.284452;\"/>\n   </g>\n   <g id=\"patch_121\">\n    <path clip-path=\"url(#p9168eccf1f)\" d=\"M 130.452286 239.758125 \nL 133.296806 239.758125 \nL 133.296806 239.758125 \nL 130.452286 239.758125 \nz\n\" style=\"fill:#ff0000;fill-opacity:0.75;stroke:#000000;stroke-linejoin:miter;stroke-width:0.284452;\"/>\n   </g>\n   <g id=\"patch_122\">\n    <path clip-path=\"url(#p9168eccf1f)\" d=\"M 133.296806 239.758125 \nL 136.141326 239.758125 \nL 136.141326 239.758125 \nL 133.296806 239.758125 \nz\n\" style=\"fill:#ff0000;fill-opacity:0.75;stroke:#000000;stroke-linejoin:miter;stroke-width:0.284452;\"/>\n   </g>\n   <g id=\"patch_123\">\n    <path clip-path=\"url(#p9168eccf1f)\" d=\"M 136.141326 239.758125 \nL 138.985846 239.758125 \nL 138.985846 239.758125 \nL 136.141326 239.758125 \nz\n\" style=\"fill:#ff0000;fill-opacity:0.75;stroke:#000000;stroke-linejoin:miter;stroke-width:0.284452;\"/>\n   </g>\n   <g id=\"patch_124\">\n    <path clip-path=\"url(#p9168eccf1f)\" d=\"M 138.985846 239.758125 \nL 141.830366 239.758125 \nL 141.830366 239.758125 \nL 138.985846 239.758125 \nz\n\" style=\"fill:#ff0000;fill-opacity:0.75;stroke:#000000;stroke-linejoin:miter;stroke-width:0.284452;\"/>\n   </g>\n   <g id=\"patch_125\">\n    <path clip-path=\"url(#p9168eccf1f)\" d=\"M 141.830366 239.758125 \nL 144.674886 239.758125 \nL 144.674886 239.758125 \nL 141.830366 239.758125 \nz\n\" style=\"fill:#ff0000;fill-opacity:0.75;stroke:#000000;stroke-linejoin:miter;stroke-width:0.284452;\"/>\n   </g>\n   <g id=\"patch_126\">\n    <path clip-path=\"url(#p9168eccf1f)\" d=\"M 144.674886 239.758125 \nL 147.519406 239.758125 \nL 147.519406 239.758125 \nL 144.674886 239.758125 \nz\n\" style=\"fill:#ff0000;fill-opacity:0.75;stroke:#000000;stroke-linejoin:miter;stroke-width:0.284452;\"/>\n   </g>\n   <g id=\"patch_127\">\n    <path clip-path=\"url(#p9168eccf1f)\" d=\"M 147.519406 239.758125 \nL 150.363926 239.758125 \nL 150.363926 239.758125 \nL 147.519406 239.758125 \nz\n\" style=\"fill:#ff0000;fill-opacity:0.75;stroke:#000000;stroke-linejoin:miter;stroke-width:0.284452;\"/>\n   </g>\n   <g id=\"patch_128\">\n    <path clip-path=\"url(#p9168eccf1f)\" d=\"M 150.363926 239.758125 \nL 153.208446 239.758125 \nL 153.208446 239.758125 \nL 150.363926 239.758125 \nz\n\" style=\"fill:#ff0000;fill-opacity:0.75;stroke:#000000;stroke-linejoin:miter;stroke-width:0.284452;\"/>\n   </g>\n   <g id=\"patch_129\">\n    <path clip-path=\"url(#p9168eccf1f)\" d=\"M 153.208446 239.758125 \nL 156.052966 239.758125 \nL 156.052966 239.758125 \nL 153.208446 239.758125 \nz\n\" style=\"fill:#ff0000;fill-opacity:0.75;stroke:#000000;stroke-linejoin:miter;stroke-width:0.284452;\"/>\n   </g>\n   <g id=\"patch_130\">\n    <path clip-path=\"url(#p9168eccf1f)\" d=\"M 156.052966 239.758125 \nL 158.897486 239.758125 \nL 158.897486 239.758125 \nL 156.052966 239.758125 \nz\n\" style=\"fill:#ff0000;fill-opacity:0.75;stroke:#000000;stroke-linejoin:miter;stroke-width:0.284452;\"/>\n   </g>\n   <g id=\"patch_131\">\n    <path clip-path=\"url(#p9168eccf1f)\" d=\"M 158.897486 239.758125 \nL 161.742006 239.758125 \nL 161.742006 239.758125 \nL 158.897486 239.758125 \nz\n\" style=\"fill:#ff0000;fill-opacity:0.75;stroke:#000000;stroke-linejoin:miter;stroke-width:0.284452;\"/>\n   </g>\n   <g id=\"patch_132\">\n    <path clip-path=\"url(#p9168eccf1f)\" d=\"M 161.742006 239.758125 \nL 164.586526 239.758125 \nL 164.586526 67.743378 \nL 161.742006 67.743378 \nz\n\" style=\"fill:#ff0000;fill-opacity:0.75;stroke:#000000;stroke-linejoin:miter;stroke-width:0.284452;\"/>\n   </g>\n   <g id=\"patch_133\">\n    <path clip-path=\"url(#p9168eccf1f)\" d=\"M 164.586526 239.758125 \nL 167.431046 239.758125 \nL 167.431046 56.888079 \nL 164.586526 56.888079 \nz\n\" style=\"fill:#ff0000;fill-opacity:0.75;stroke:#000000;stroke-linejoin:miter;stroke-width:0.284452;\"/>\n   </g>\n   <g id=\"patch_134\">\n    <path clip-path=\"url(#p9168eccf1f)\" d=\"M 167.431046 239.758125 \nL 170.275566 239.758125 \nL 170.275566 61.898217 \nL 167.431046 61.898217 \nz\n\" style=\"fill:#ff0000;fill-opacity:0.75;stroke:#000000;stroke-linejoin:miter;stroke-width:0.284452;\"/>\n   </g>\n   <g id=\"patch_135\">\n    <path clip-path=\"url(#p9168eccf1f)\" d=\"M 170.275566 239.758125 \nL 173.120085 239.758125 \nL 173.120085 239.758125 \nL 170.275566 239.758125 \nz\n\" style=\"fill:#ff0000;fill-opacity:0.75;stroke:#000000;stroke-linejoin:miter;stroke-width:0.284452;\"/>\n   </g>\n   <g id=\"patch_136\">\n    <path clip-path=\"url(#p9168eccf1f)\" d=\"M 173.120085 239.758125 \nL 175.964605 239.758125 \nL 175.964605 239.758125 \nL 173.120085 239.758125 \nz\n\" style=\"fill:#ff0000;fill-opacity:0.75;stroke:#000000;stroke-linejoin:miter;stroke-width:0.284452;\"/>\n   </g>\n   <g id=\"patch_137\">\n    <path clip-path=\"url(#p9168eccf1f)\" d=\"M 175.964605 239.758125 \nL 178.809125 239.758125 \nL 178.809125 72.753517 \nL 175.964605 72.753517 \nz\n\" style=\"fill:#ff0000;fill-opacity:0.75;stroke:#000000;stroke-linejoin:miter;stroke-width:0.284452;\"/>\n   </g>\n   <g id=\"patch_138\">\n    <path clip-path=\"url(#p9168eccf1f)\" d=\"M 178.809125 239.758125 \nL 181.653645 239.758125 \nL 181.653645 239.758125 \nL 178.809125 239.758125 \nz\n\" style=\"fill:#ff0000;fill-opacity:0.75;stroke:#000000;stroke-linejoin:miter;stroke-width:0.284452;\"/>\n   </g>\n   <g id=\"patch_139\">\n    <path clip-path=\"url(#p9168eccf1f)\" d=\"M 181.653645 239.758125 \nL 184.498165 239.758125 \nL 184.498165 67.743378 \nL 181.653645 67.743378 \nz\n\" style=\"fill:#ff0000;fill-opacity:0.75;stroke:#000000;stroke-linejoin:miter;stroke-width:0.284452;\"/>\n   </g>\n   <g id=\"matplotlib.axis_1\">\n    <g id=\"xtick_1\">\n     <g id=\"line2d_1\">\n      <defs>\n       <path d=\"M 0 0 \nL 0 3.5 \n\" id=\"m0fd1716860\" style=\"stroke:#000000;stroke-width:0.8;\"/>\n      </defs>\n      <g>\n       <use style=\"stroke:#000000;stroke-width:0.8;\" x=\"63.606067\" xlink:href=\"#m0fd1716860\" y=\"239.758125\"/>\n      </g>\n     </g>\n     <g id=\"text_1\">\n      <!-- 2020-01-01 -->\n      <g transform=\"translate(45.010263 293.224984)rotate(-45)scale(0.1 -0.1)\">\n       <defs>\n        <path d=\"M 1228 531 \nL 3431 531 \nL 3431 0 \nL 469 0 \nL 469 531 \nQ 828 903 1448 1529 \nQ 2069 2156 2228 2338 \nQ 2531 2678 2651 2914 \nQ 2772 3150 2772 3378 \nQ 2772 3750 2511 3984 \nQ 2250 4219 1831 4219 \nQ 1534 4219 1204 4116 \nQ 875 4013 500 3803 \nL 500 4441 \nQ 881 4594 1212 4672 \nQ 1544 4750 1819 4750 \nQ 2544 4750 2975 4387 \nQ 3406 4025 3406 3419 \nQ 3406 3131 3298 2873 \nQ 3191 2616 2906 2266 \nQ 2828 2175 2409 1742 \nQ 1991 1309 1228 531 \nz\n\" id=\"DejaVuSans-32\" transform=\"scale(0.015625)\"/>\n        <path d=\"M 2034 4250 \nQ 1547 4250 1301 3770 \nQ 1056 3291 1056 2328 \nQ 1056 1369 1301 889 \nQ 1547 409 2034 409 \nQ 2525 409 2770 889 \nQ 3016 1369 3016 2328 \nQ 3016 3291 2770 3770 \nQ 2525 4250 2034 4250 \nz\nM 2034 4750 \nQ 2819 4750 3233 4129 \nQ 3647 3509 3647 2328 \nQ 3647 1150 3233 529 \nQ 2819 -91 2034 -91 \nQ 1250 -91 836 529 \nQ 422 1150 422 2328 \nQ 422 3509 836 4129 \nQ 1250 4750 2034 4750 \nz\n\" id=\"DejaVuSans-30\" transform=\"scale(0.015625)\"/>\n        <path d=\"M 313 2009 \nL 1997 2009 \nL 1997 1497 \nL 313 1497 \nL 313 2009 \nz\n\" id=\"DejaVuSans-2d\" transform=\"scale(0.015625)\"/>\n        <path d=\"M 794 531 \nL 1825 531 \nL 1825 4091 \nL 703 3866 \nL 703 4441 \nL 1819 4666 \nL 2450 4666 \nL 2450 531 \nL 3481 531 \nL 3481 0 \nL 794 0 \nL 794 531 \nz\n\" id=\"DejaVuSans-31\" transform=\"scale(0.015625)\"/>\n       </defs>\n       <use xlink:href=\"#DejaVuSans-32\"/>\n       <use x=\"63.623047\" xlink:href=\"#DejaVuSans-30\"/>\n       <use x=\"127.246094\" xlink:href=\"#DejaVuSans-32\"/>\n       <use x=\"190.869141\" xlink:href=\"#DejaVuSans-30\"/>\n       <use x=\"254.492188\" xlink:href=\"#DejaVuSans-2d\"/>\n       <use x=\"290.576172\" xlink:href=\"#DejaVuSans-30\"/>\n       <use x=\"354.199219\" xlink:href=\"#DejaVuSans-31\"/>\n       <use x=\"417.822266\" xlink:href=\"#DejaVuSans-2d\"/>\n       <use x=\"453.90625\" xlink:href=\"#DejaVuSans-30\"/>\n       <use x=\"517.529297\" xlink:href=\"#DejaVuSans-31\"/>\n      </g>\n     </g>\n    </g>\n    <g id=\"xtick_2\">\n     <g id=\"line2d_2\">\n      <g>\n       <use style=\"stroke:#000000;stroke-width:0.8;\" x=\"103.429346\" xlink:href=\"#m0fd1716860\" y=\"239.758125\"/>\n      </g>\n     </g>\n     <g id=\"text_2\">\n      <!-- 2020-01-15 -->\n      <g transform=\"translate(84.833543 293.224984)rotate(-45)scale(0.1 -0.1)\">\n       <defs>\n        <path d=\"M 691 4666 \nL 3169 4666 \nL 3169 4134 \nL 1269 4134 \nL 1269 2991 \nQ 1406 3038 1543 3061 \nQ 1681 3084 1819 3084 \nQ 2600 3084 3056 2656 \nQ 3513 2228 3513 1497 \nQ 3513 744 3044 326 \nQ 2575 -91 1722 -91 \nQ 1428 -91 1123 -41 \nQ 819 9 494 109 \nL 494 744 \nQ 775 591 1075 516 \nQ 1375 441 1709 441 \nQ 2250 441 2565 725 \nQ 2881 1009 2881 1497 \nQ 2881 1984 2565 2268 \nQ 2250 2553 1709 2553 \nQ 1456 2553 1204 2497 \nQ 953 2441 691 2322 \nL 691 4666 \nz\n\" id=\"DejaVuSans-35\" transform=\"scale(0.015625)\"/>\n       </defs>\n       <use xlink:href=\"#DejaVuSans-32\"/>\n       <use x=\"63.623047\" xlink:href=\"#DejaVuSans-30\"/>\n       <use x=\"127.246094\" xlink:href=\"#DejaVuSans-32\"/>\n       <use x=\"190.869141\" xlink:href=\"#DejaVuSans-30\"/>\n       <use x=\"254.492188\" xlink:href=\"#DejaVuSans-2d\"/>\n       <use x=\"290.576172\" xlink:href=\"#DejaVuSans-30\"/>\n       <use x=\"354.199219\" xlink:href=\"#DejaVuSans-31\"/>\n       <use x=\"417.822266\" xlink:href=\"#DejaVuSans-2d\"/>\n       <use x=\"453.90625\" xlink:href=\"#DejaVuSans-31\"/>\n       <use x=\"517.529297\" xlink:href=\"#DejaVuSans-35\"/>\n      </g>\n     </g>\n    </g>\n    <g id=\"xtick_3\">\n     <g id=\"line2d_3\">\n      <g>\n       <use style=\"stroke:#000000;stroke-width:0.8;\" x=\"151.786186\" xlink:href=\"#m0fd1716860\" y=\"239.758125\"/>\n      </g>\n     </g>\n     <g id=\"text_3\">\n      <!-- 2020-02-01 -->\n      <g transform=\"translate(133.190382 293.224984)rotate(-45)scale(0.1 -0.1)\">\n       <use xlink:href=\"#DejaVuSans-32\"/>\n       <use x=\"63.623047\" xlink:href=\"#DejaVuSans-30\"/>\n       <use x=\"127.246094\" xlink:href=\"#DejaVuSans-32\"/>\n       <use x=\"190.869141\" xlink:href=\"#DejaVuSans-30\"/>\n       <use x=\"254.492188\" xlink:href=\"#DejaVuSans-2d\"/>\n       <use x=\"290.576172\" xlink:href=\"#DejaVuSans-30\"/>\n       <use x=\"354.199219\" xlink:href=\"#DejaVuSans-32\"/>\n       <use x=\"417.822266\" xlink:href=\"#DejaVuSans-2d\"/>\n       <use x=\"453.90625\" xlink:href=\"#DejaVuSans-30\"/>\n       <use x=\"517.529297\" xlink:href=\"#DejaVuSans-31\"/>\n      </g>\n     </g>\n    </g>\n    <g id=\"xtick_4\">\n     <g id=\"line2d_4\">\n      <g>\n       <use style=\"stroke:#000000;stroke-width:0.8;\" x=\"191.609465\" xlink:href=\"#m0fd1716860\" y=\"239.758125\"/>\n      </g>\n     </g>\n     <g id=\"text_4\">\n      <!-- 2020-02-15 -->\n      <g transform=\"translate(173.013662 293.224984)rotate(-45)scale(0.1 -0.1)\">\n       <use xlink:href=\"#DejaVuSans-32\"/>\n       <use x=\"63.623047\" xlink:href=\"#DejaVuSans-30\"/>\n       <use x=\"127.246094\" xlink:href=\"#DejaVuSans-32\"/>\n       <use x=\"190.869141\" xlink:href=\"#DejaVuSans-30\"/>\n       <use x=\"254.492188\" xlink:href=\"#DejaVuSans-2d\"/>\n       <use x=\"290.576172\" xlink:href=\"#DejaVuSans-30\"/>\n       <use x=\"354.199219\" xlink:href=\"#DejaVuSans-32\"/>\n       <use x=\"417.822266\" xlink:href=\"#DejaVuSans-2d\"/>\n       <use x=\"453.90625\" xlink:href=\"#DejaVuSans-31\"/>\n       <use x=\"517.529297\" xlink:href=\"#DejaVuSans-35\"/>\n      </g>\n     </g>\n    </g>\n    <g id=\"xtick_5\">\n     <g id=\"line2d_5\">\n      <g>\n       <use style=\"stroke:#000000;stroke-width:0.8;\" x=\"234.277265\" xlink:href=\"#m0fd1716860\" y=\"239.758125\"/>\n      </g>\n     </g>\n     <g id=\"text_5\">\n      <!-- 2020-03-01 -->\n      <g transform=\"translate(215.681461 293.224984)rotate(-45)scale(0.1 -0.1)\">\n       <defs>\n        <path d=\"M 2597 2516 \nQ 3050 2419 3304 2112 \nQ 3559 1806 3559 1356 \nQ 3559 666 3084 287 \nQ 2609 -91 1734 -91 \nQ 1441 -91 1130 -33 \nQ 819 25 488 141 \nL 488 750 \nQ 750 597 1062 519 \nQ 1375 441 1716 441 \nQ 2309 441 2620 675 \nQ 2931 909 2931 1356 \nQ 2931 1769 2642 2001 \nQ 2353 2234 1838 2234 \nL 1294 2234 \nL 1294 2753 \nL 1863 2753 \nQ 2328 2753 2575 2939 \nQ 2822 3125 2822 3475 \nQ 2822 3834 2567 4026 \nQ 2313 4219 1838 4219 \nQ 1578 4219 1281 4162 \nQ 984 4106 628 3988 \nL 628 4550 \nQ 988 4650 1302 4700 \nQ 1616 4750 1894 4750 \nQ 2613 4750 3031 4423 \nQ 3450 4097 3450 3541 \nQ 3450 3153 3228 2886 \nQ 3006 2619 2597 2516 \nz\n\" id=\"DejaVuSans-33\" transform=\"scale(0.015625)\"/>\n       </defs>\n       <use xlink:href=\"#DejaVuSans-32\"/>\n       <use x=\"63.623047\" xlink:href=\"#DejaVuSans-30\"/>\n       <use x=\"127.246094\" xlink:href=\"#DejaVuSans-32\"/>\n       <use x=\"190.869141\" xlink:href=\"#DejaVuSans-30\"/>\n       <use x=\"254.492188\" xlink:href=\"#DejaVuSans-2d\"/>\n       <use x=\"290.576172\" xlink:href=\"#DejaVuSans-30\"/>\n       <use x=\"354.199219\" xlink:href=\"#DejaVuSans-33\"/>\n       <use x=\"417.822266\" xlink:href=\"#DejaVuSans-2d\"/>\n       <use x=\"453.90625\" xlink:href=\"#DejaVuSans-30\"/>\n       <use x=\"517.529297\" xlink:href=\"#DejaVuSans-31\"/>\n      </g>\n     </g>\n    </g>\n    <g id=\"xtick_6\">\n     <g id=\"line2d_6\">\n      <g>\n       <use style=\"stroke:#000000;stroke-width:0.8;\" x=\"274.100544\" xlink:href=\"#m0fd1716860\" y=\"239.758125\"/>\n      </g>\n     </g>\n     <g id=\"text_6\">\n      <!-- 2020-03-15 -->\n      <g transform=\"translate(255.504741 293.224984)rotate(-45)scale(0.1 -0.1)\">\n       <use xlink:href=\"#DejaVuSans-32\"/>\n       <use x=\"63.623047\" xlink:href=\"#DejaVuSans-30\"/>\n       <use x=\"127.246094\" xlink:href=\"#DejaVuSans-32\"/>\n       <use x=\"190.869141\" xlink:href=\"#DejaVuSans-30\"/>\n       <use x=\"254.492188\" xlink:href=\"#DejaVuSans-2d\"/>\n       <use x=\"290.576172\" xlink:href=\"#DejaVuSans-30\"/>\n       <use x=\"354.199219\" xlink:href=\"#DejaVuSans-33\"/>\n       <use x=\"417.822266\" xlink:href=\"#DejaVuSans-2d\"/>\n       <use x=\"453.90625\" xlink:href=\"#DejaVuSans-31\"/>\n       <use x=\"517.529297\" xlink:href=\"#DejaVuSans-35\"/>\n      </g>\n     </g>\n    </g>\n    <g id=\"xtick_7\">\n     <g id=\"line2d_7\">\n      <g>\n       <use style=\"stroke:#000000;stroke-width:0.8;\" x=\"322.457384\" xlink:href=\"#m0fd1716860\" y=\"239.758125\"/>\n      </g>\n     </g>\n     <g id=\"text_7\">\n      <!-- 2020-04-01 -->\n      <g transform=\"translate(303.86158 293.224984)rotate(-45)scale(0.1 -0.1)\">\n       <defs>\n        <path d=\"M 2419 4116 \nL 825 1625 \nL 2419 1625 \nL 2419 4116 \nz\nM 2253 4666 \nL 3047 4666 \nL 3047 1625 \nL 3713 1625 \nL 3713 1100 \nL 3047 1100 \nL 3047 0 \nL 2419 0 \nL 2419 1100 \nL 313 1100 \nL 313 1709 \nL 2253 4666 \nz\n\" id=\"DejaVuSans-34\" transform=\"scale(0.015625)\"/>\n       </defs>\n       <use xlink:href=\"#DejaVuSans-32\"/>\n       <use x=\"63.623047\" xlink:href=\"#DejaVuSans-30\"/>\n       <use x=\"127.246094\" xlink:href=\"#DejaVuSans-32\"/>\n       <use x=\"190.869141\" xlink:href=\"#DejaVuSans-30\"/>\n       <use x=\"254.492188\" xlink:href=\"#DejaVuSans-2d\"/>\n       <use x=\"290.576172\" xlink:href=\"#DejaVuSans-30\"/>\n       <use x=\"354.199219\" xlink:href=\"#DejaVuSans-34\"/>\n       <use x=\"417.822266\" xlink:href=\"#DejaVuSans-2d\"/>\n       <use x=\"453.90625\" xlink:href=\"#DejaVuSans-30\"/>\n       <use x=\"517.529297\" xlink:href=\"#DejaVuSans-31\"/>\n      </g>\n     </g>\n    </g>\n    <g id=\"xtick_8\">\n     <g id=\"line2d_8\">\n      <g>\n       <use style=\"stroke:#000000;stroke-width:0.8;\" x=\"362.280663\" xlink:href=\"#m0fd1716860\" y=\"239.758125\"/>\n      </g>\n     </g>\n     <g id=\"text_8\">\n      <!-- 2020-04-15 -->\n      <g transform=\"translate(343.68486 293.224984)rotate(-45)scale(0.1 -0.1)\">\n       <use xlink:href=\"#DejaVuSans-32\"/>\n       <use x=\"63.623047\" xlink:href=\"#DejaVuSans-30\"/>\n       <use x=\"127.246094\" xlink:href=\"#DejaVuSans-32\"/>\n       <use x=\"190.869141\" xlink:href=\"#DejaVuSans-30\"/>\n       <use x=\"254.492188\" xlink:href=\"#DejaVuSans-2d\"/>\n       <use x=\"290.576172\" xlink:href=\"#DejaVuSans-30\"/>\n       <use x=\"354.199219\" xlink:href=\"#DejaVuSans-34\"/>\n       <use x=\"417.822266\" xlink:href=\"#DejaVuSans-2d\"/>\n       <use x=\"453.90625\" xlink:href=\"#DejaVuSans-31\"/>\n       <use x=\"517.529297\" xlink:href=\"#DejaVuSans-35\"/>\n      </g>\n     </g>\n    </g>\n    <g id=\"text_9\">\n     <!-- Dates -->\n     <g transform=\"translate(199.810156 306.293983)scale(0.1 -0.1)\">\n      <defs>\n       <path d=\"M 1259 4147 \nL 1259 519 \nL 2022 519 \nQ 2988 519 3436 956 \nQ 3884 1394 3884 2338 \nQ 3884 3275 3436 3711 \nQ 2988 4147 2022 4147 \nL 1259 4147 \nz\nM 628 4666 \nL 1925 4666 \nQ 3281 4666 3915 4102 \nQ 4550 3538 4550 2338 \nQ 4550 1131 3912 565 \nQ 3275 0 1925 0 \nL 628 0 \nL 628 4666 \nz\n\" id=\"DejaVuSans-44\" transform=\"scale(0.015625)\"/>\n       <path d=\"M 2194 1759 \nQ 1497 1759 1228 1600 \nQ 959 1441 959 1056 \nQ 959 750 1161 570 \nQ 1363 391 1709 391 \nQ 2188 391 2477 730 \nQ 2766 1069 2766 1631 \nL 2766 1759 \nL 2194 1759 \nz\nM 3341 1997 \nL 3341 0 \nL 2766 0 \nL 2766 531 \nQ 2569 213 2275 61 \nQ 1981 -91 1556 -91 \nQ 1019 -91 701 211 \nQ 384 513 384 1019 \nQ 384 1609 779 1909 \nQ 1175 2209 1959 2209 \nL 2766 2209 \nL 2766 2266 \nQ 2766 2663 2505 2880 \nQ 2244 3097 1772 3097 \nQ 1472 3097 1187 3025 \nQ 903 2953 641 2809 \nL 641 3341 \nQ 956 3463 1253 3523 \nQ 1550 3584 1831 3584 \nQ 2591 3584 2966 3190 \nQ 3341 2797 3341 1997 \nz\n\" id=\"DejaVuSans-61\" transform=\"scale(0.015625)\"/>\n       <path d=\"M 1172 4494 \nL 1172 3500 \nL 2356 3500 \nL 2356 3053 \nL 1172 3053 \nL 1172 1153 \nQ 1172 725 1289 603 \nQ 1406 481 1766 481 \nL 2356 481 \nL 2356 0 \nL 1766 0 \nQ 1100 0 847 248 \nQ 594 497 594 1153 \nL 594 3053 \nL 172 3053 \nL 172 3500 \nL 594 3500 \nL 594 4494 \nL 1172 4494 \nz\n\" id=\"DejaVuSans-74\" transform=\"scale(0.015625)\"/>\n       <path d=\"M 3597 1894 \nL 3597 1613 \nL 953 1613 \nQ 991 1019 1311 708 \nQ 1631 397 2203 397 \nQ 2534 397 2845 478 \nQ 3156 559 3463 722 \nL 3463 178 \nQ 3153 47 2828 -22 \nQ 2503 -91 2169 -91 \nQ 1331 -91 842 396 \nQ 353 884 353 1716 \nQ 353 2575 817 3079 \nQ 1281 3584 2069 3584 \nQ 2775 3584 3186 3129 \nQ 3597 2675 3597 1894 \nz\nM 3022 2063 \nQ 3016 2534 2758 2815 \nQ 2500 3097 2075 3097 \nQ 1594 3097 1305 2825 \nQ 1016 2553 972 2059 \nL 3022 2063 \nz\n\" id=\"DejaVuSans-65\" transform=\"scale(0.015625)\"/>\n       <path d=\"M 2834 3397 \nL 2834 2853 \nQ 2591 2978 2328 3040 \nQ 2066 3103 1784 3103 \nQ 1356 3103 1142 2972 \nQ 928 2841 928 2578 \nQ 928 2378 1081 2264 \nQ 1234 2150 1697 2047 \nL 1894 2003 \nQ 2506 1872 2764 1633 \nQ 3022 1394 3022 966 \nQ 3022 478 2636 193 \nQ 2250 -91 1575 -91 \nQ 1294 -91 989 -36 \nQ 684 19 347 128 \nL 347 722 \nQ 666 556 975 473 \nQ 1284 391 1588 391 \nQ 1994 391 2212 530 \nQ 2431 669 2431 922 \nQ 2431 1156 2273 1281 \nQ 2116 1406 1581 1522 \nL 1381 1569 \nQ 847 1681 609 1914 \nQ 372 2147 372 2553 \nQ 372 3047 722 3315 \nQ 1072 3584 1716 3584 \nQ 2034 3584 2315 3537 \nQ 2597 3491 2834 3397 \nz\n\" id=\"DejaVuSans-73\" transform=\"scale(0.015625)\"/>\n      </defs>\n      <use xlink:href=\"#DejaVuSans-44\"/>\n      <use x=\"77.001953\" xlink:href=\"#DejaVuSans-61\"/>\n      <use x=\"138.28125\" xlink:href=\"#DejaVuSans-74\"/>\n      <use x=\"177.490234\" xlink:href=\"#DejaVuSans-65\"/>\n      <use x=\"239.013672\" xlink:href=\"#DejaVuSans-73\"/>\n     </g>\n    </g>\n   </g>\n   <g id=\"matplotlib.axis_2\">\n    <g id=\"ytick_1\">\n     <g id=\"line2d_9\">\n      <defs>\n       <path d=\"M 0 0 \nL -3.5 0 \n\" id=\"m971611cbdd\" style=\"stroke:#000000;stroke-width:0.8;\"/>\n      </defs>\n      <g>\n       <use style=\"stroke:#000000;stroke-width:0.8;\" x=\"46.965625\" xlink:href=\"#m971611cbdd\" y=\"239.758125\"/>\n      </g>\n     </g>\n     <g id=\"text_10\">\n      <!-- 0 -->\n      <g transform=\"translate(33.603125 243.557344)scale(0.1 -0.1)\">\n       <use xlink:href=\"#DejaVuSans-30\"/>\n      </g>\n     </g>\n    </g>\n    <g id=\"ytick_2\">\n     <g id=\"line2d_10\">\n      <g>\n       <use style=\"stroke:#000000;stroke-width:0.8;\" x=\"46.965625\" xlink:href=\"#m971611cbdd\" y=\"198.006973\"/>\n      </g>\n     </g>\n     <g id=\"text_11\">\n      <!-- 50 -->\n      <g transform=\"translate(27.240625 201.806192)scale(0.1 -0.1)\">\n       <use xlink:href=\"#DejaVuSans-35\"/>\n       <use x=\"63.623047\" xlink:href=\"#DejaVuSans-30\"/>\n      </g>\n     </g>\n    </g>\n    <g id=\"ytick_3\">\n     <g id=\"line2d_11\">\n      <g>\n       <use style=\"stroke:#000000;stroke-width:0.8;\" x=\"46.965625\" xlink:href=\"#m971611cbdd\" y=\"156.255821\"/>\n      </g>\n     </g>\n     <g id=\"text_12\">\n      <!-- 100 -->\n      <g transform=\"translate(20.878125 160.05504)scale(0.1 -0.1)\">\n       <use xlink:href=\"#DejaVuSans-31\"/>\n       <use x=\"63.623047\" xlink:href=\"#DejaVuSans-30\"/>\n       <use x=\"127.246094\" xlink:href=\"#DejaVuSans-30\"/>\n      </g>\n     </g>\n    </g>\n    <g id=\"ytick_4\">\n     <g id=\"line2d_12\">\n      <g>\n       <use style=\"stroke:#000000;stroke-width:0.8;\" x=\"46.965625\" xlink:href=\"#m971611cbdd\" y=\"114.504669\"/>\n      </g>\n     </g>\n     <g id=\"text_13\">\n      <!-- 150 -->\n      <g transform=\"translate(20.878125 118.303888)scale(0.1 -0.1)\">\n       <use xlink:href=\"#DejaVuSans-31\"/>\n       <use x=\"63.623047\" xlink:href=\"#DejaVuSans-35\"/>\n       <use x=\"127.246094\" xlink:href=\"#DejaVuSans-30\"/>\n      </g>\n     </g>\n    </g>\n    <g id=\"ytick_5\">\n     <g id=\"line2d_13\">\n      <g>\n       <use style=\"stroke:#000000;stroke-width:0.8;\" x=\"46.965625\" xlink:href=\"#m971611cbdd\" y=\"72.753517\"/>\n      </g>\n     </g>\n     <g id=\"text_14\">\n      <!-- 200 -->\n      <g transform=\"translate(20.878125 76.552735)scale(0.1 -0.1)\">\n       <use xlink:href=\"#DejaVuSans-32\"/>\n       <use x=\"63.623047\" xlink:href=\"#DejaVuSans-30\"/>\n       <use x=\"127.246094\" xlink:href=\"#DejaVuSans-30\"/>\n      </g>\n     </g>\n    </g>\n    <g id=\"ytick_6\">\n     <g id=\"line2d_14\">\n      <g>\n       <use style=\"stroke:#000000;stroke-width:0.8;\" x=\"46.965625\" xlink:href=\"#m971611cbdd\" y=\"31.002365\"/>\n      </g>\n     </g>\n     <g id=\"text_15\">\n      <!-- 250 -->\n      <g transform=\"translate(20.878125 34.801583)scale(0.1 -0.1)\">\n       <use xlink:href=\"#DejaVuSans-32\"/>\n       <use x=\"63.623047\" xlink:href=\"#DejaVuSans-35\"/>\n       <use x=\"127.246094\" xlink:href=\"#DejaVuSans-30\"/>\n      </g>\n     </g>\n    </g>\n    <g id=\"text_16\">\n     <!-- Count -->\n     <g transform=\"translate(14.798438 145.886562)rotate(-90)scale(0.1 -0.1)\">\n      <defs>\n       <path d=\"M 4122 4306 \nL 4122 3641 \nQ 3803 3938 3442 4084 \nQ 3081 4231 2675 4231 \nQ 1875 4231 1450 3742 \nQ 1025 3253 1025 2328 \nQ 1025 1406 1450 917 \nQ 1875 428 2675 428 \nQ 3081 428 3442 575 \nQ 3803 722 4122 1019 \nL 4122 359 \nQ 3791 134 3420 21 \nQ 3050 -91 2638 -91 \nQ 1578 -91 968 557 \nQ 359 1206 359 2328 \nQ 359 3453 968 4101 \nQ 1578 4750 2638 4750 \nQ 3056 4750 3426 4639 \nQ 3797 4528 4122 4306 \nz\n\" id=\"DejaVuSans-43\" transform=\"scale(0.015625)\"/>\n       <path d=\"M 1959 3097 \nQ 1497 3097 1228 2736 \nQ 959 2375 959 1747 \nQ 959 1119 1226 758 \nQ 1494 397 1959 397 \nQ 2419 397 2687 759 \nQ 2956 1122 2956 1747 \nQ 2956 2369 2687 2733 \nQ 2419 3097 1959 3097 \nz\nM 1959 3584 \nQ 2709 3584 3137 3096 \nQ 3566 2609 3566 1747 \nQ 3566 888 3137 398 \nQ 2709 -91 1959 -91 \nQ 1206 -91 779 398 \nQ 353 888 353 1747 \nQ 353 2609 779 3096 \nQ 1206 3584 1959 3584 \nz\n\" id=\"DejaVuSans-6f\" transform=\"scale(0.015625)\"/>\n       <path d=\"M 544 1381 \nL 544 3500 \nL 1119 3500 \nL 1119 1403 \nQ 1119 906 1312 657 \nQ 1506 409 1894 409 \nQ 2359 409 2629 706 \nQ 2900 1003 2900 1516 \nL 2900 3500 \nL 3475 3500 \nL 3475 0 \nL 2900 0 \nL 2900 538 \nQ 2691 219 2414 64 \nQ 2138 -91 1772 -91 \nQ 1169 -91 856 284 \nQ 544 659 544 1381 \nz\nM 1991 3584 \nL 1991 3584 \nz\n\" id=\"DejaVuSans-75\" transform=\"scale(0.015625)\"/>\n       <path d=\"M 3513 2113 \nL 3513 0 \nL 2938 0 \nL 2938 2094 \nQ 2938 2591 2744 2837 \nQ 2550 3084 2163 3084 \nQ 1697 3084 1428 2787 \nQ 1159 2491 1159 1978 \nL 1159 0 \nL 581 0 \nL 581 3500 \nL 1159 3500 \nL 1159 2956 \nQ 1366 3272 1645 3428 \nQ 1925 3584 2291 3584 \nQ 2894 3584 3203 3211 \nQ 3513 2838 3513 2113 \nz\n\" id=\"DejaVuSans-6e\" transform=\"scale(0.015625)\"/>\n      </defs>\n      <use xlink:href=\"#DejaVuSans-43\"/>\n      <use x=\"69.824219\" xlink:href=\"#DejaVuSans-6f\"/>\n      <use x=\"131.005859\" xlink:href=\"#DejaVuSans-75\"/>\n      <use x=\"194.384766\" xlink:href=\"#DejaVuSans-6e\"/>\n      <use x=\"257.763672\" xlink:href=\"#DejaVuSans-74\"/>\n     </g>\n    </g>\n   </g>\n   <g id=\"patch_140\">\n    <path d=\"M 46.965625 239.758125 \nL 46.965625 22.318125 \n\" style=\"fill:none;stroke:#000000;stroke-linecap:square;stroke-linejoin:miter;stroke-width:0.8;\"/>\n   </g>\n   <g id=\"patch_141\">\n    <path d=\"M 381.765625 239.758125 \nL 381.765625 22.318125 \n\" style=\"fill:none;stroke:#000000;stroke-linecap:square;stroke-linejoin:miter;stroke-width:0.8;\"/>\n   </g>\n   <g id=\"patch_142\">\n    <path d=\"M 46.965625 239.758125 \nL 381.765625 239.758125 \n\" style=\"fill:none;stroke:#000000;stroke-linecap:square;stroke-linejoin:miter;stroke-width:0.8;\"/>\n   </g>\n   <g id=\"patch_143\">\n    <path d=\"M 46.965625 22.318125 \nL 381.765625 22.318125 \n\" style=\"fill:none;stroke:#000000;stroke-linecap:square;stroke-linejoin:miter;stroke-width:0.8;\"/>\n   </g>\n   <g id=\"text_17\">\n    <!-- Plot of the number of quotations reported per day  -->\n    <g transform=\"translate(62.306875 16.318125)scale(0.12 -0.12)\">\n     <defs>\n      <path d=\"M 1259 4147 \nL 1259 2394 \nL 2053 2394 \nQ 2494 2394 2734 2622 \nQ 2975 2850 2975 3272 \nQ 2975 3691 2734 3919 \nQ 2494 4147 2053 4147 \nL 1259 4147 \nz\nM 628 4666 \nL 2053 4666 \nQ 2838 4666 3239 4311 \nQ 3641 3956 3641 3272 \nQ 3641 2581 3239 2228 \nQ 2838 1875 2053 1875 \nL 1259 1875 \nL 1259 0 \nL 628 0 \nL 628 4666 \nz\n\" id=\"DejaVuSans-50\" transform=\"scale(0.015625)\"/>\n      <path d=\"M 603 4863 \nL 1178 4863 \nL 1178 0 \nL 603 0 \nL 603 4863 \nz\n\" id=\"DejaVuSans-6c\" transform=\"scale(0.015625)\"/>\n      <path id=\"DejaVuSans-20\" transform=\"scale(0.015625)\"/>\n      <path d=\"M 2375 4863 \nL 2375 4384 \nL 1825 4384 \nQ 1516 4384 1395 4259 \nQ 1275 4134 1275 3809 \nL 1275 3500 \nL 2222 3500 \nL 2222 3053 \nL 1275 3053 \nL 1275 0 \nL 697 0 \nL 697 3053 \nL 147 3053 \nL 147 3500 \nL 697 3500 \nL 697 3744 \nQ 697 4328 969 4595 \nQ 1241 4863 1831 4863 \nL 2375 4863 \nz\n\" id=\"DejaVuSans-66\" transform=\"scale(0.015625)\"/>\n      <path d=\"M 3513 2113 \nL 3513 0 \nL 2938 0 \nL 2938 2094 \nQ 2938 2591 2744 2837 \nQ 2550 3084 2163 3084 \nQ 1697 3084 1428 2787 \nQ 1159 2491 1159 1978 \nL 1159 0 \nL 581 0 \nL 581 4863 \nL 1159 4863 \nL 1159 2956 \nQ 1366 3272 1645 3428 \nQ 1925 3584 2291 3584 \nQ 2894 3584 3203 3211 \nQ 3513 2838 3513 2113 \nz\n\" id=\"DejaVuSans-68\" transform=\"scale(0.015625)\"/>\n      <path d=\"M 3328 2828 \nQ 3544 3216 3844 3400 \nQ 4144 3584 4550 3584 \nQ 5097 3584 5394 3201 \nQ 5691 2819 5691 2113 \nL 5691 0 \nL 5113 0 \nL 5113 2094 \nQ 5113 2597 4934 2840 \nQ 4756 3084 4391 3084 \nQ 3944 3084 3684 2787 \nQ 3425 2491 3425 1978 \nL 3425 0 \nL 2847 0 \nL 2847 2094 \nQ 2847 2600 2669 2842 \nQ 2491 3084 2119 3084 \nQ 1678 3084 1418 2786 \nQ 1159 2488 1159 1978 \nL 1159 0 \nL 581 0 \nL 581 3500 \nL 1159 3500 \nL 1159 2956 \nQ 1356 3278 1631 3431 \nQ 1906 3584 2284 3584 \nQ 2666 3584 2933 3390 \nQ 3200 3197 3328 2828 \nz\n\" id=\"DejaVuSans-6d\" transform=\"scale(0.015625)\"/>\n      <path d=\"M 3116 1747 \nQ 3116 2381 2855 2742 \nQ 2594 3103 2138 3103 \nQ 1681 3103 1420 2742 \nQ 1159 2381 1159 1747 \nQ 1159 1113 1420 752 \nQ 1681 391 2138 391 \nQ 2594 391 2855 752 \nQ 3116 1113 3116 1747 \nz\nM 1159 2969 \nQ 1341 3281 1617 3432 \nQ 1894 3584 2278 3584 \nQ 2916 3584 3314 3078 \nQ 3713 2572 3713 1747 \nQ 3713 922 3314 415 \nQ 2916 -91 2278 -91 \nQ 1894 -91 1617 61 \nQ 1341 213 1159 525 \nL 1159 0 \nL 581 0 \nL 581 4863 \nL 1159 4863 \nL 1159 2969 \nz\n\" id=\"DejaVuSans-62\" transform=\"scale(0.015625)\"/>\n      <path d=\"M 2631 2963 \nQ 2534 3019 2420 3045 \nQ 2306 3072 2169 3072 \nQ 1681 3072 1420 2755 \nQ 1159 2438 1159 1844 \nL 1159 0 \nL 581 0 \nL 581 3500 \nL 1159 3500 \nL 1159 2956 \nQ 1341 3275 1631 3429 \nQ 1922 3584 2338 3584 \nQ 2397 3584 2469 3576 \nQ 2541 3569 2628 3553 \nL 2631 2963 \nz\n\" id=\"DejaVuSans-72\" transform=\"scale(0.015625)\"/>\n      <path d=\"M 947 1747 \nQ 947 1113 1208 752 \nQ 1469 391 1925 391 \nQ 2381 391 2643 752 \nQ 2906 1113 2906 1747 \nQ 2906 2381 2643 2742 \nQ 2381 3103 1925 3103 \nQ 1469 3103 1208 2742 \nQ 947 2381 947 1747 \nz\nM 2906 525 \nQ 2725 213 2448 61 \nQ 2172 -91 1784 -91 \nQ 1150 -91 751 415 \nQ 353 922 353 1747 \nQ 353 2572 751 3078 \nQ 1150 3584 1784 3584 \nQ 2172 3584 2448 3432 \nQ 2725 3281 2906 2969 \nL 2906 3500 \nL 3481 3500 \nL 3481 -1331 \nL 2906 -1331 \nL 2906 525 \nz\n\" id=\"DejaVuSans-71\" transform=\"scale(0.015625)\"/>\n      <path d=\"M 603 3500 \nL 1178 3500 \nL 1178 0 \nL 603 0 \nL 603 3500 \nz\nM 603 4863 \nL 1178 4863 \nL 1178 4134 \nL 603 4134 \nL 603 4863 \nz\n\" id=\"DejaVuSans-69\" transform=\"scale(0.015625)\"/>\n      <path d=\"M 1159 525 \nL 1159 -1331 \nL 581 -1331 \nL 581 3500 \nL 1159 3500 \nL 1159 2969 \nQ 1341 3281 1617 3432 \nQ 1894 3584 2278 3584 \nQ 2916 3584 3314 3078 \nQ 3713 2572 3713 1747 \nQ 3713 922 3314 415 \nQ 2916 -91 2278 -91 \nQ 1894 -91 1617 61 \nQ 1341 213 1159 525 \nz\nM 3116 1747 \nQ 3116 2381 2855 2742 \nQ 2594 3103 2138 3103 \nQ 1681 3103 1420 2742 \nQ 1159 2381 1159 1747 \nQ 1159 1113 1420 752 \nQ 1681 391 2138 391 \nQ 2594 391 2855 752 \nQ 3116 1113 3116 1747 \nz\n\" id=\"DejaVuSans-70\" transform=\"scale(0.015625)\"/>\n      <path d=\"M 2906 2969 \nL 2906 4863 \nL 3481 4863 \nL 3481 0 \nL 2906 0 \nL 2906 525 \nQ 2725 213 2448 61 \nQ 2172 -91 1784 -91 \nQ 1150 -91 751 415 \nQ 353 922 353 1747 \nQ 353 2572 751 3078 \nQ 1150 3584 1784 3584 \nQ 2172 3584 2448 3432 \nQ 2725 3281 2906 2969 \nz\nM 947 1747 \nQ 947 1113 1208 752 \nQ 1469 391 1925 391 \nQ 2381 391 2643 752 \nQ 2906 1113 2906 1747 \nQ 2906 2381 2643 2742 \nQ 2381 3103 1925 3103 \nQ 1469 3103 1208 2742 \nQ 947 2381 947 1747 \nz\n\" id=\"DejaVuSans-64\" transform=\"scale(0.015625)\"/>\n      <path d=\"M 2059 -325 \nQ 1816 -950 1584 -1140 \nQ 1353 -1331 966 -1331 \nL 506 -1331 \nL 506 -850 \nL 844 -850 \nQ 1081 -850 1212 -737 \nQ 1344 -625 1503 -206 \nL 1606 56 \nL 191 3500 \nL 800 3500 \nL 1894 763 \nL 2988 3500 \nL 3597 3500 \nL 2059 -325 \nz\n\" id=\"DejaVuSans-79\" transform=\"scale(0.015625)\"/>\n     </defs>\n     <use xlink:href=\"#DejaVuSans-50\"/>\n     <use x=\"60.302734\" xlink:href=\"#DejaVuSans-6c\"/>\n     <use x=\"88.085938\" xlink:href=\"#DejaVuSans-6f\"/>\n     <use x=\"149.267578\" xlink:href=\"#DejaVuSans-74\"/>\n     <use x=\"188.476562\" xlink:href=\"#DejaVuSans-20\"/>\n     <use x=\"220.263672\" xlink:href=\"#DejaVuSans-6f\"/>\n     <use x=\"281.445312\" xlink:href=\"#DejaVuSans-66\"/>\n     <use x=\"316.650391\" xlink:href=\"#DejaVuSans-20\"/>\n     <use x=\"348.4375\" xlink:href=\"#DejaVuSans-74\"/>\n     <use x=\"387.646484\" xlink:href=\"#DejaVuSans-68\"/>\n     <use x=\"451.025391\" xlink:href=\"#DejaVuSans-65\"/>\n     <use x=\"512.548828\" xlink:href=\"#DejaVuSans-20\"/>\n     <use x=\"544.335938\" xlink:href=\"#DejaVuSans-6e\"/>\n     <use x=\"607.714844\" xlink:href=\"#DejaVuSans-75\"/>\n     <use x=\"671.09375\" xlink:href=\"#DejaVuSans-6d\"/>\n     <use x=\"768.505859\" xlink:href=\"#DejaVuSans-62\"/>\n     <use x=\"831.982422\" xlink:href=\"#DejaVuSans-65\"/>\n     <use x=\"893.505859\" xlink:href=\"#DejaVuSans-72\"/>\n     <use x=\"934.619141\" xlink:href=\"#DejaVuSans-20\"/>\n     <use x=\"966.40625\" xlink:href=\"#DejaVuSans-6f\"/>\n     <use x=\"1027.587891\" xlink:href=\"#DejaVuSans-66\"/>\n     <use x=\"1062.792969\" xlink:href=\"#DejaVuSans-20\"/>\n     <use x=\"1094.580078\" xlink:href=\"#DejaVuSans-71\"/>\n     <use x=\"1158.056641\" xlink:href=\"#DejaVuSans-75\"/>\n     <use x=\"1221.435547\" xlink:href=\"#DejaVuSans-6f\"/>\n     <use x=\"1282.617188\" xlink:href=\"#DejaVuSans-74\"/>\n     <use x=\"1321.826172\" xlink:href=\"#DejaVuSans-61\"/>\n     <use x=\"1383.105469\" xlink:href=\"#DejaVuSans-74\"/>\n     <use x=\"1422.314453\" xlink:href=\"#DejaVuSans-69\"/>\n     <use x=\"1450.097656\" xlink:href=\"#DejaVuSans-6f\"/>\n     <use x=\"1511.279297\" xlink:href=\"#DejaVuSans-6e\"/>\n     <use x=\"1574.658203\" xlink:href=\"#DejaVuSans-73\"/>\n     <use x=\"1626.757812\" xlink:href=\"#DejaVuSans-20\"/>\n     <use x=\"1658.544922\" xlink:href=\"#DejaVuSans-72\"/>\n     <use x=\"1697.408203\" xlink:href=\"#DejaVuSans-65\"/>\n     <use x=\"1758.931641\" xlink:href=\"#DejaVuSans-70\"/>\n     <use x=\"1822.408203\" xlink:href=\"#DejaVuSans-6f\"/>\n     <use x=\"1883.589844\" xlink:href=\"#DejaVuSans-72\"/>\n     <use x=\"1924.703125\" xlink:href=\"#DejaVuSans-74\"/>\n     <use x=\"1963.912109\" xlink:href=\"#DejaVuSans-65\"/>\n     <use x=\"2025.435547\" xlink:href=\"#DejaVuSans-64\"/>\n     <use x=\"2088.912109\" xlink:href=\"#DejaVuSans-20\"/>\n     <use x=\"2120.699219\" xlink:href=\"#DejaVuSans-70\"/>\n     <use x=\"2184.175781\" xlink:href=\"#DejaVuSans-65\"/>\n     <use x=\"2245.699219\" xlink:href=\"#DejaVuSans-72\"/>\n     <use x=\"2286.8125\" xlink:href=\"#DejaVuSans-20\"/>\n     <use x=\"2318.599609\" xlink:href=\"#DejaVuSans-64\"/>\n     <use x=\"2382.076172\" xlink:href=\"#DejaVuSans-61\"/>\n     <use x=\"2443.355469\" xlink:href=\"#DejaVuSans-79\"/>\n     <use x=\"2502.535156\" xlink:href=\"#DejaVuSans-20\"/>\n    </g>\n   </g>\n  </g>\n </g>\n <defs>\n  <clipPath id=\"p9168eccf1f\">\n   <rect height=\"217.44\" width=\"334.8\" x=\"46.965625\" y=\"22.318125\"/>\n  </clipPath>\n </defs>\n</svg>\n",
      "text/plain": [
       "<Figure size 432x288 with 1 Axes>"
      ]
     },
     "metadata": {
      "needs_background": "light"
     },
     "output_type": "display_data"
    }
   ],
   "source": [
    "sns.histplot(quotes_2020['date'], bins = len(quotes_date_occurence))\n",
    "sns.histplot(quotations_peak['date'], color = 'red') \n",
    "plt.xticks(rotation= 45 )\n",
    "plt.xlabel('Dates')\n",
    "plt.ylabel('Count')\n",
    "plt.title('Plot of the number of quotations reported per day ', )"
   ]
  },
  {
   "cell_type": "markdown",
   "id": "fb3a0e19",
   "metadata": {},
   "source": [
    "## Plot of the quotations reported per month"
   ]
  },
  {
   "cell_type": "code",
   "execution_count": 8,
   "id": "d51f0574",
   "metadata": {},
   "outputs": [
    {
     "data": {
      "text/plain": [
       "Text(-2.450000000000003, 0.5, 'Count')"
      ]
     },
     "execution_count": 8,
     "metadata": {},
     "output_type": "execute_result"
    },
    {
     "data": {
      "image/png": "[encoded data removed]",
      "image/svg+xml": "<?xml version=\"1.0\" encoding=\"utf-8\" standalone=\"no\"?>\n<!DOCTYPE svg PUBLIC \"-//W3C//DTD SVG 1.1//EN\"\n  \"http://www.w3.org/Graphics/SVG/1.1/DTD/svg11.dtd\">\n<svg height=\"367.274375pt\" version=\"1.1\" viewBox=\"0 0 352.803125 367.274375\" width=\"352.803125pt\" xmlns=\"http://www.w3.org/2000/svg\" xmlns:xlink=\"http://www.w3.org/1999/xlink\">\n <metadata>\n  <rdf:RDF xmlns:cc=\"http://creativecommons.org/ns#\" xmlns:dc=\"http://purl.org/dc/elements/1.1/\" xmlns:rdf=\"http://www.w3.org/1999/02/22-rdf-syntax-ns#\">\n   <cc:Work>\n    <dc:type rdf:resource=\"http://purl.org/dc/dcmitype/StillImage\"/>\n    <dc:date>2021-11-12T22:14:50.076489</dc:date>\n    <dc:format>image/svg+xml</dc:format>\n    <dc:creator>\n     <cc:Agent>\n      <dc:title>Matplotlib v3.4.3, https://matplotlib.org/</dc:title>\n     </cc:Agent>\n    </dc:creator>\n   </cc:Work>\n  </rdf:RDF>\n </metadata>\n <defs>\n  <style type=\"text/css\">*{stroke-linecap:butt;stroke-linejoin:round;}</style>\n </defs>\n <g id=\"figure_1\">\n  <g id=\"patch_1\">\n   <path d=\"M -0 367.274375 \nL 352.803125 367.274375 \nL 352.803125 0 \nL -0 0 \nz\n\" style=\"fill:none;\"/>\n  </g>\n  <g id=\"axes_1\">\n   <g id=\"patch_2\">\n    <path d=\"M 53.328125 329.718125 \nL 345.603125 329.718125 \nL 345.603125 22.318125 \nL 53.328125 22.318125 \nz\n\" style=\"fill:#ffffff;\"/>\n   </g>\n   <g id=\"patch_3\">\n    <path clip-path=\"url(#pff36aa6971)\" d=\"M 66.613352 329.718125 \nL 133.039489 329.718125 \nL 133.039489 79.125233 \nL 66.613352 79.125233 \nz\n\" style=\"fill:#1f77b4;fill-opacity:0.75;stroke:#000000;stroke-linejoin:miter;\"/>\n   </g>\n   <g id=\"patch_4\">\n    <path clip-path=\"url(#pff36aa6971)\" d=\"M 133.039489 329.718125 \nL 199.465625 329.718125 \nL 199.465625 36.95622 \nL 133.039489 36.95622 \nz\n\" style=\"fill:#1f77b4;fill-opacity:0.75;stroke:#000000;stroke-linejoin:miter;\"/>\n   </g>\n   <g id=\"patch_5\">\n    <path clip-path=\"url(#pff36aa6971)\" d=\"M 199.465625 329.718125 \nL 265.891761 329.718125 \nL 265.891761 217.603699 \nL 199.465625 217.603699 \nz\n\" style=\"fill:#1f77b4;fill-opacity:0.75;stroke:#000000;stroke-linejoin:miter;\"/>\n   </g>\n   <g id=\"patch_6\">\n    <path clip-path=\"url(#pff36aa6971)\" d=\"M 265.891761 329.718125 \nL 332.317898 329.718125 \nL 332.317898 297.435627 \nL 265.891761 297.435627 \nz\n\" style=\"fill:#1f77b4;fill-opacity:0.75;stroke:#000000;stroke-linejoin:miter;\"/>\n   </g>\n   <g id=\"matplotlib.axis_1\">\n    <g id=\"xtick_1\">\n     <g id=\"line2d_1\">\n      <defs>\n       <path d=\"M 0 0 \nL 0 3.5 \n\" id=\"mcd594e8722\" style=\"stroke:#000000;stroke-width:0.8;\"/>\n      </defs>\n      <g>\n       <use style=\"stroke:#000000;stroke-width:0.8;\" x=\"99.82642\" xlink:href=\"#mcd594e8722\" y=\"329.718125\"/>\n      </g>\n     </g>\n     <g id=\"text_1\">\n      <!-- Feb -->\n      <g transform=\"translate(90.974858 344.316562)scale(0.1 -0.1)\">\n       <defs>\n        <path d=\"M 628 4666 \nL 3309 4666 \nL 3309 4134 \nL 1259 4134 \nL 1259 2759 \nL 3109 2759 \nL 3109 2228 \nL 1259 2228 \nL 1259 0 \nL 628 0 \nL 628 4666 \nz\n\" id=\"DejaVuSans-46\" transform=\"scale(0.015625)\"/>\n        <path d=\"M 3597 1894 \nL 3597 1613 \nL 953 1613 \nQ 991 1019 1311 708 \nQ 1631 397 2203 397 \nQ 2534 397 2845 478 \nQ 3156 559 3463 722 \nL 3463 178 \nQ 3153 47 2828 -22 \nQ 2503 -91 2169 -91 \nQ 1331 -91 842 396 \nQ 353 884 353 1716 \nQ 353 2575 817 3079 \nQ 1281 3584 2069 3584 \nQ 2775 3584 3186 3129 \nQ 3597 2675 3597 1894 \nz\nM 3022 2063 \nQ 3016 2534 2758 2815 \nQ 2500 3097 2075 3097 \nQ 1594 3097 1305 2825 \nQ 1016 2553 972 2059 \nL 3022 2063 \nz\n\" id=\"DejaVuSans-65\" transform=\"scale(0.015625)\"/>\n        <path d=\"M 3116 1747 \nQ 3116 2381 2855 2742 \nQ 2594 3103 2138 3103 \nQ 1681 3103 1420 2742 \nQ 1159 2381 1159 1747 \nQ 1159 1113 1420 752 \nQ 1681 391 2138 391 \nQ 2594 391 2855 752 \nQ 3116 1113 3116 1747 \nz\nM 1159 2969 \nQ 1341 3281 1617 3432 \nQ 1894 3584 2278 3584 \nQ 2916 3584 3314 3078 \nQ 3713 2572 3713 1747 \nQ 3713 922 3314 415 \nQ 2916 -91 2278 -91 \nQ 1894 -91 1617 61 \nQ 1341 213 1159 525 \nL 1159 0 \nL 581 0 \nL 581 4863 \nL 1159 4863 \nL 1159 2969 \nz\n\" id=\"DejaVuSans-62\" transform=\"scale(0.015625)\"/>\n       </defs>\n       <use xlink:href=\"#DejaVuSans-46\"/>\n       <use x=\"52.019531\" xlink:href=\"#DejaVuSans-65\"/>\n       <use x=\"113.542969\" xlink:href=\"#DejaVuSans-62\"/>\n      </g>\n     </g>\n    </g>\n    <g id=\"xtick_2\">\n     <g id=\"line2d_2\">\n      <g>\n       <use style=\"stroke:#000000;stroke-width:0.8;\" x=\"166.252557\" xlink:href=\"#mcd594e8722\" y=\"329.718125\"/>\n      </g>\n     </g>\n     <g id=\"text_2\">\n      <!-- Jan -->\n      <g transform=\"translate(158.544744 344.316562)scale(0.1 -0.1)\">\n       <defs>\n        <path d=\"M 628 4666 \nL 1259 4666 \nL 1259 325 \nQ 1259 -519 939 -900 \nQ 619 -1281 -91 -1281 \nL -331 -1281 \nL -331 -750 \nL -134 -750 \nQ 284 -750 456 -515 \nQ 628 -281 628 325 \nL 628 4666 \nz\n\" id=\"DejaVuSans-4a\" transform=\"scale(0.015625)\"/>\n        <path d=\"M 2194 1759 \nQ 1497 1759 1228 1600 \nQ 959 1441 959 1056 \nQ 959 750 1161 570 \nQ 1363 391 1709 391 \nQ 2188 391 2477 730 \nQ 2766 1069 2766 1631 \nL 2766 1759 \nL 2194 1759 \nz\nM 3341 1997 \nL 3341 0 \nL 2766 0 \nL 2766 531 \nQ 2569 213 2275 61 \nQ 1981 -91 1556 -91 \nQ 1019 -91 701 211 \nQ 384 513 384 1019 \nQ 384 1609 779 1909 \nQ 1175 2209 1959 2209 \nL 2766 2209 \nL 2766 2266 \nQ 2766 2663 2505 2880 \nQ 2244 3097 1772 3097 \nQ 1472 3097 1187 3025 \nQ 903 2953 641 2809 \nL 641 3341 \nQ 956 3463 1253 3523 \nQ 1550 3584 1831 3584 \nQ 2591 3584 2966 3190 \nQ 3341 2797 3341 1997 \nz\n\" id=\"DejaVuSans-61\" transform=\"scale(0.015625)\"/>\n        <path d=\"M 3513 2113 \nL 3513 0 \nL 2938 0 \nL 2938 2094 \nQ 2938 2591 2744 2837 \nQ 2550 3084 2163 3084 \nQ 1697 3084 1428 2787 \nQ 1159 2491 1159 1978 \nL 1159 0 \nL 581 0 \nL 581 3500 \nL 1159 3500 \nL 1159 2956 \nQ 1366 3272 1645 3428 \nQ 1925 3584 2291 3584 \nQ 2894 3584 3203 3211 \nQ 3513 2838 3513 2113 \nz\n\" id=\"DejaVuSans-6e\" transform=\"scale(0.015625)\"/>\n       </defs>\n       <use xlink:href=\"#DejaVuSans-4a\"/>\n       <use x=\"29.492188\" xlink:href=\"#DejaVuSans-61\"/>\n       <use x=\"90.771484\" xlink:href=\"#DejaVuSans-6e\"/>\n      </g>\n     </g>\n    </g>\n    <g id=\"xtick_3\">\n     <g id=\"line2d_3\">\n      <g>\n       <use style=\"stroke:#000000;stroke-width:0.8;\" x=\"232.678693\" xlink:href=\"#mcd594e8722\" y=\"329.718125\"/>\n      </g>\n     </g>\n     <g id=\"text_3\">\n      <!-- Mar -->\n      <g transform=\"translate(223.245099 344.316562)scale(0.1 -0.1)\">\n       <defs>\n        <path d=\"M 628 4666 \nL 1569 4666 \nL 2759 1491 \nL 3956 4666 \nL 4897 4666 \nL 4897 0 \nL 4281 0 \nL 4281 4097 \nL 3078 897 \nL 2444 897 \nL 1241 4097 \nL 1241 0 \nL 628 0 \nL 628 4666 \nz\n\" id=\"DejaVuSans-4d\" transform=\"scale(0.015625)\"/>\n        <path d=\"M 2631 2963 \nQ 2534 3019 2420 3045 \nQ 2306 3072 2169 3072 \nQ 1681 3072 1420 2755 \nQ 1159 2438 1159 1844 \nL 1159 0 \nL 581 0 \nL 581 3500 \nL 1159 3500 \nL 1159 2956 \nQ 1341 3275 1631 3429 \nQ 1922 3584 2338 3584 \nQ 2397 3584 2469 3576 \nQ 2541 3569 2628 3553 \nL 2631 2963 \nz\n\" id=\"DejaVuSans-72\" transform=\"scale(0.015625)\"/>\n       </defs>\n       <use xlink:href=\"#DejaVuSans-4d\"/>\n       <use x=\"86.279297\" xlink:href=\"#DejaVuSans-61\"/>\n       <use x=\"147.558594\" xlink:href=\"#DejaVuSans-72\"/>\n      </g>\n     </g>\n    </g>\n    <g id=\"xtick_4\">\n     <g id=\"line2d_4\">\n      <g>\n       <use style=\"stroke:#000000;stroke-width:0.8;\" x=\"299.10483\" xlink:href=\"#mcd594e8722\" y=\"329.718125\"/>\n      </g>\n     </g>\n     <g id=\"text_4\">\n      <!-- Apr -->\n      <g transform=\"translate(290.45483 344.316562)scale(0.1 -0.1)\">\n       <defs>\n        <path d=\"M 2188 4044 \nL 1331 1722 \nL 3047 1722 \nL 2188 4044 \nz\nM 1831 4666 \nL 2547 4666 \nL 4325 0 \nL 3669 0 \nL 3244 1197 \nL 1141 1197 \nL 716 0 \nL 50 0 \nL 1831 4666 \nz\n\" id=\"DejaVuSans-41\" transform=\"scale(0.015625)\"/>\n        <path d=\"M 1159 525 \nL 1159 -1331 \nL 581 -1331 \nL 581 3500 \nL 1159 3500 \nL 1159 2969 \nQ 1341 3281 1617 3432 \nQ 1894 3584 2278 3584 \nQ 2916 3584 3314 3078 \nQ 3713 2572 3713 1747 \nQ 3713 922 3314 415 \nQ 2916 -91 2278 -91 \nQ 1894 -91 1617 61 \nQ 1341 213 1159 525 \nz\nM 3116 1747 \nQ 3116 2381 2855 2742 \nQ 2594 3103 2138 3103 \nQ 1681 3103 1420 2742 \nQ 1159 2381 1159 1747 \nQ 1159 1113 1420 752 \nQ 1681 391 2138 391 \nQ 2594 391 2855 752 \nQ 3116 1113 3116 1747 \nz\n\" id=\"DejaVuSans-70\" transform=\"scale(0.015625)\"/>\n       </defs>\n       <use xlink:href=\"#DejaVuSans-41\"/>\n       <use x=\"68.408203\" xlink:href=\"#DejaVuSans-70\"/>\n       <use x=\"131.884766\" xlink:href=\"#DejaVuSans-72\"/>\n      </g>\n     </g>\n    </g>\n    <g id=\"text_5\">\n     <!-- Months -->\n     <g transform=\"translate(181.189844 357.994687)scale(0.1 -0.1)\">\n      <defs>\n       <path d=\"M 1959 3097 \nQ 1497 3097 1228 2736 \nQ 959 2375 959 1747 \nQ 959 1119 1226 758 \nQ 1494 397 1959 397 \nQ 2419 397 2687 759 \nQ 2956 1122 2956 1747 \nQ 2956 2369 2687 2733 \nQ 2419 3097 1959 3097 \nz\nM 1959 3584 \nQ 2709 3584 3137 3096 \nQ 3566 2609 3566 1747 \nQ 3566 888 3137 398 \nQ 2709 -91 1959 -91 \nQ 1206 -91 779 398 \nQ 353 888 353 1747 \nQ 353 2609 779 3096 \nQ 1206 3584 1959 3584 \nz\n\" id=\"DejaVuSans-6f\" transform=\"scale(0.015625)\"/>\n       <path d=\"M 1172 4494 \nL 1172 3500 \nL 2356 3500 \nL 2356 3053 \nL 1172 3053 \nL 1172 1153 \nQ 1172 725 1289 603 \nQ 1406 481 1766 481 \nL 2356 481 \nL 2356 0 \nL 1766 0 \nQ 1100 0 847 248 \nQ 594 497 594 1153 \nL 594 3053 \nL 172 3053 \nL 172 3500 \nL 594 3500 \nL 594 4494 \nL 1172 4494 \nz\n\" id=\"DejaVuSans-74\" transform=\"scale(0.015625)\"/>\n       <path d=\"M 3513 2113 \nL 3513 0 \nL 2938 0 \nL 2938 2094 \nQ 2938 2591 2744 2837 \nQ 2550 3084 2163 3084 \nQ 1697 3084 1428 2787 \nQ 1159 2491 1159 1978 \nL 1159 0 \nL 581 0 \nL 581 4863 \nL 1159 4863 \nL 1159 2956 \nQ 1366 3272 1645 3428 \nQ 1925 3584 2291 3584 \nQ 2894 3584 3203 3211 \nQ 3513 2838 3513 2113 \nz\n\" id=\"DejaVuSans-68\" transform=\"scale(0.015625)\"/>\n       <path d=\"M 2834 3397 \nL 2834 2853 \nQ 2591 2978 2328 3040 \nQ 2066 3103 1784 3103 \nQ 1356 3103 1142 2972 \nQ 928 2841 928 2578 \nQ 928 2378 1081 2264 \nQ 1234 2150 1697 2047 \nL 1894 2003 \nQ 2506 1872 2764 1633 \nQ 3022 1394 3022 966 \nQ 3022 478 2636 193 \nQ 2250 -91 1575 -91 \nQ 1294 -91 989 -36 \nQ 684 19 347 128 \nL 347 722 \nQ 666 556 975 473 \nQ 1284 391 1588 391 \nQ 1994 391 2212 530 \nQ 2431 669 2431 922 \nQ 2431 1156 2273 1281 \nQ 2116 1406 1581 1522 \nL 1381 1569 \nQ 847 1681 609 1914 \nQ 372 2147 372 2553 \nQ 372 3047 722 3315 \nQ 1072 3584 1716 3584 \nQ 2034 3584 2315 3537 \nQ 2597 3491 2834 3397 \nz\n\" id=\"DejaVuSans-73\" transform=\"scale(0.015625)\"/>\n      </defs>\n      <use xlink:href=\"#DejaVuSans-4d\"/>\n      <use x=\"86.279297\" xlink:href=\"#DejaVuSans-6f\"/>\n      <use x=\"147.460938\" xlink:href=\"#DejaVuSans-6e\"/>\n      <use x=\"210.839844\" xlink:href=\"#DejaVuSans-74\"/>\n      <use x=\"250.048828\" xlink:href=\"#DejaVuSans-68\"/>\n      <use x=\"313.427734\" xlink:href=\"#DejaVuSans-73\"/>\n     </g>\n    </g>\n   </g>\n   <g id=\"matplotlib.axis_2\">\n    <g id=\"ytick_1\">\n     <g id=\"line2d_5\">\n      <defs>\n       <path d=\"M 0 0 \nL -3.5 0 \n\" id=\"mb2f0728e53\" style=\"stroke:#000000;stroke-width:0.8;\"/>\n      </defs>\n      <g>\n       <use style=\"stroke:#000000;stroke-width:0.8;\" x=\"53.328125\" xlink:href=\"#mb2f0728e53\" y=\"329.718125\"/>\n      </g>\n     </g>\n     <g id=\"text_6\">\n      <!-- 0 -->\n      <g transform=\"translate(39.965625 333.517344)scale(0.1 -0.1)\">\n       <defs>\n        <path d=\"M 2034 4250 \nQ 1547 4250 1301 3770 \nQ 1056 3291 1056 2328 \nQ 1056 1369 1301 889 \nQ 1547 409 2034 409 \nQ 2525 409 2770 889 \nQ 3016 1369 3016 2328 \nQ 3016 3291 2770 3770 \nQ 2525 4250 2034 4250 \nz\nM 2034 4750 \nQ 2819 4750 3233 4129 \nQ 3647 3509 3647 2328 \nQ 3647 1150 3233 529 \nQ 2819 -91 2034 -91 \nQ 1250 -91 836 529 \nQ 422 1150 422 2328 \nQ 422 3509 836 4129 \nQ 1250 4750 2034 4750 \nz\n\" id=\"DejaVuSans-30\" transform=\"scale(0.015625)\"/>\n       </defs>\n       <use xlink:href=\"#DejaVuSans-30\"/>\n      </g>\n     </g>\n    </g>\n    <g id=\"ytick_2\">\n     <g id=\"line2d_6\">\n      <g>\n       <use style=\"stroke:#000000;stroke-width:0.8;\" x=\"53.328125\" xlink:href=\"#mb2f0728e53\" y=\"262.462921\"/>\n      </g>\n     </g>\n     <g id=\"text_7\">\n      <!-- 1000 -->\n      <g transform=\"translate(20.878125 266.262139)scale(0.1 -0.1)\">\n       <defs>\n        <path d=\"M 794 531 \nL 1825 531 \nL 1825 4091 \nL 703 3866 \nL 703 4441 \nL 1819 4666 \nL 2450 4666 \nL 2450 531 \nL 3481 531 \nL 3481 0 \nL 794 0 \nL 794 531 \nz\n\" id=\"DejaVuSans-31\" transform=\"scale(0.015625)\"/>\n       </defs>\n       <use xlink:href=\"#DejaVuSans-31\"/>\n       <use x=\"63.623047\" xlink:href=\"#DejaVuSans-30\"/>\n       <use x=\"127.246094\" xlink:href=\"#DejaVuSans-30\"/>\n       <use x=\"190.869141\" xlink:href=\"#DejaVuSans-30\"/>\n      </g>\n     </g>\n    </g>\n    <g id=\"ytick_3\">\n     <g id=\"line2d_7\">\n      <g>\n       <use style=\"stroke:#000000;stroke-width:0.8;\" x=\"53.328125\" xlink:href=\"#mb2f0728e53\" y=\"195.207716\"/>\n      </g>\n     </g>\n     <g id=\"text_8\">\n      <!-- 2000 -->\n      <g transform=\"translate(20.878125 199.006935)scale(0.1 -0.1)\">\n       <defs>\n        <path d=\"M 1228 531 \nL 3431 531 \nL 3431 0 \nL 469 0 \nL 469 531 \nQ 828 903 1448 1529 \nQ 2069 2156 2228 2338 \nQ 2531 2678 2651 2914 \nQ 2772 3150 2772 3378 \nQ 2772 3750 2511 3984 \nQ 2250 4219 1831 4219 \nQ 1534 4219 1204 4116 \nQ 875 4013 500 3803 \nL 500 4441 \nQ 881 4594 1212 4672 \nQ 1544 4750 1819 4750 \nQ 2544 4750 2975 4387 \nQ 3406 4025 3406 3419 \nQ 3406 3131 3298 2873 \nQ 3191 2616 2906 2266 \nQ 2828 2175 2409 1742 \nQ 1991 1309 1228 531 \nz\n\" id=\"DejaVuSans-32\" transform=\"scale(0.015625)\"/>\n       </defs>\n       <use xlink:href=\"#DejaVuSans-32\"/>\n       <use x=\"63.623047\" xlink:href=\"#DejaVuSans-30\"/>\n       <use x=\"127.246094\" xlink:href=\"#DejaVuSans-30\"/>\n       <use x=\"190.869141\" xlink:href=\"#DejaVuSans-30\"/>\n      </g>\n     </g>\n    </g>\n    <g id=\"ytick_4\">\n     <g id=\"line2d_8\">\n      <g>\n       <use style=\"stroke:#000000;stroke-width:0.8;\" x=\"53.328125\" xlink:href=\"#mb2f0728e53\" y=\"127.952512\"/>\n      </g>\n     </g>\n     <g id=\"text_9\">\n      <!-- 3000 -->\n      <g transform=\"translate(20.878125 131.751731)scale(0.1 -0.1)\">\n       <defs>\n        <path d=\"M 2597 2516 \nQ 3050 2419 3304 2112 \nQ 3559 1806 3559 1356 \nQ 3559 666 3084 287 \nQ 2609 -91 1734 -91 \nQ 1441 -91 1130 -33 \nQ 819 25 488 141 \nL 488 750 \nQ 750 597 1062 519 \nQ 1375 441 1716 441 \nQ 2309 441 2620 675 \nQ 2931 909 2931 1356 \nQ 2931 1769 2642 2001 \nQ 2353 2234 1838 2234 \nL 1294 2234 \nL 1294 2753 \nL 1863 2753 \nQ 2328 2753 2575 2939 \nQ 2822 3125 2822 3475 \nQ 2822 3834 2567 4026 \nQ 2313 4219 1838 4219 \nQ 1578 4219 1281 4162 \nQ 984 4106 628 3988 \nL 628 4550 \nQ 988 4650 1302 4700 \nQ 1616 4750 1894 4750 \nQ 2613 4750 3031 4423 \nQ 3450 4097 3450 3541 \nQ 3450 3153 3228 2886 \nQ 3006 2619 2597 2516 \nz\n\" id=\"DejaVuSans-33\" transform=\"scale(0.015625)\"/>\n       </defs>\n       <use xlink:href=\"#DejaVuSans-33\"/>\n       <use x=\"63.623047\" xlink:href=\"#DejaVuSans-30\"/>\n       <use x=\"127.246094\" xlink:href=\"#DejaVuSans-30\"/>\n       <use x=\"190.869141\" xlink:href=\"#DejaVuSans-30\"/>\n      </g>\n     </g>\n    </g>\n    <g id=\"ytick_5\">\n     <g id=\"line2d_9\">\n      <g>\n       <use style=\"stroke:#000000;stroke-width:0.8;\" x=\"53.328125\" xlink:href=\"#mb2f0728e53\" y=\"60.697307\"/>\n      </g>\n     </g>\n     <g id=\"text_10\">\n      <!-- 4000 -->\n      <g transform=\"translate(20.878125 64.496526)scale(0.1 -0.1)\">\n       <defs>\n        <path d=\"M 2419 4116 \nL 825 1625 \nL 2419 1625 \nL 2419 4116 \nz\nM 2253 4666 \nL 3047 4666 \nL 3047 1625 \nL 3713 1625 \nL 3713 1100 \nL 3047 1100 \nL 3047 0 \nL 2419 0 \nL 2419 1100 \nL 313 1100 \nL 313 1709 \nL 2253 4666 \nz\n\" id=\"DejaVuSans-34\" transform=\"scale(0.015625)\"/>\n       </defs>\n       <use xlink:href=\"#DejaVuSans-34\"/>\n       <use x=\"63.623047\" xlink:href=\"#DejaVuSans-30\"/>\n       <use x=\"127.246094\" xlink:href=\"#DejaVuSans-30\"/>\n       <use x=\"190.869141\" xlink:href=\"#DejaVuSans-30\"/>\n      </g>\n     </g>\n    </g>\n    <g id=\"text_11\">\n     <!-- Count -->\n     <g transform=\"translate(14.798438 190.866562)rotate(-90)scale(0.1 -0.1)\">\n      <defs>\n       <path d=\"M 4122 4306 \nL 4122 3641 \nQ 3803 3938 3442 4084 \nQ 3081 4231 2675 4231 \nQ 1875 4231 1450 3742 \nQ 1025 3253 1025 2328 \nQ 1025 1406 1450 917 \nQ 1875 428 2675 428 \nQ 3081 428 3442 575 \nQ 3803 722 4122 1019 \nL 4122 359 \nQ 3791 134 3420 21 \nQ 3050 -91 2638 -91 \nQ 1578 -91 968 557 \nQ 359 1206 359 2328 \nQ 359 3453 968 4101 \nQ 1578 4750 2638 4750 \nQ 3056 4750 3426 4639 \nQ 3797 4528 4122 4306 \nz\n\" id=\"DejaVuSans-43\" transform=\"scale(0.015625)\"/>\n       <path d=\"M 544 1381 \nL 544 3500 \nL 1119 3500 \nL 1119 1403 \nQ 1119 906 1312 657 \nQ 1506 409 1894 409 \nQ 2359 409 2629 706 \nQ 2900 1003 2900 1516 \nL 2900 3500 \nL 3475 3500 \nL 3475 0 \nL 2900 0 \nL 2900 538 \nQ 2691 219 2414 64 \nQ 2138 -91 1772 -91 \nQ 1169 -91 856 284 \nQ 544 659 544 1381 \nz\nM 1991 3584 \nL 1991 3584 \nz\n\" id=\"DejaVuSans-75\" transform=\"scale(0.015625)\"/>\n      </defs>\n      <use xlink:href=\"#DejaVuSans-43\"/>\n      <use x=\"69.824219\" xlink:href=\"#DejaVuSans-6f\"/>\n      <use x=\"131.005859\" xlink:href=\"#DejaVuSans-75\"/>\n      <use x=\"194.384766\" xlink:href=\"#DejaVuSans-6e\"/>\n      <use x=\"257.763672\" xlink:href=\"#DejaVuSans-74\"/>\n     </g>\n    </g>\n   </g>\n   <g id=\"patch_7\">\n    <path d=\"M 53.328125 329.718125 \nL 53.328125 22.318125 \n\" style=\"fill:none;stroke:#000000;stroke-linecap:square;stroke-linejoin:miter;stroke-width:0.8;\"/>\n   </g>\n   <g id=\"patch_8\">\n    <path d=\"M 53.328125 329.718125 \nL 345.603125 329.718125 \n\" style=\"fill:none;stroke:#000000;stroke-linecap:square;stroke-linejoin:miter;stroke-width:0.8;\"/>\n   </g>\n   <g id=\"text_12\">\n    <!-- Plot of the quotations reported per month -->\n    <g transform=\"translate(73.892187 16.318125)scale(0.12 -0.12)\">\n     <defs>\n      <path d=\"M 1259 4147 \nL 1259 2394 \nL 2053 2394 \nQ 2494 2394 2734 2622 \nQ 2975 2850 2975 3272 \nQ 2975 3691 2734 3919 \nQ 2494 4147 2053 4147 \nL 1259 4147 \nz\nM 628 4666 \nL 2053 4666 \nQ 2838 4666 3239 4311 \nQ 3641 3956 3641 3272 \nQ 3641 2581 3239 2228 \nQ 2838 1875 2053 1875 \nL 1259 1875 \nL 1259 0 \nL 628 0 \nL 628 4666 \nz\n\" id=\"DejaVuSans-50\" transform=\"scale(0.015625)\"/>\n      <path d=\"M 603 4863 \nL 1178 4863 \nL 1178 0 \nL 603 0 \nL 603 4863 \nz\n\" id=\"DejaVuSans-6c\" transform=\"scale(0.015625)\"/>\n      <path id=\"DejaVuSans-20\" transform=\"scale(0.015625)\"/>\n      <path d=\"M 2375 4863 \nL 2375 4384 \nL 1825 4384 \nQ 1516 4384 1395 4259 \nQ 1275 4134 1275 3809 \nL 1275 3500 \nL 2222 3500 \nL 2222 3053 \nL 1275 3053 \nL 1275 0 \nL 697 0 \nL 697 3053 \nL 147 3053 \nL 147 3500 \nL 697 3500 \nL 697 3744 \nQ 697 4328 969 4595 \nQ 1241 4863 1831 4863 \nL 2375 4863 \nz\n\" id=\"DejaVuSans-66\" transform=\"scale(0.015625)\"/>\n      <path d=\"M 947 1747 \nQ 947 1113 1208 752 \nQ 1469 391 1925 391 \nQ 2381 391 2643 752 \nQ 2906 1113 2906 1747 \nQ 2906 2381 2643 2742 \nQ 2381 3103 1925 3103 \nQ 1469 3103 1208 2742 \nQ 947 2381 947 1747 \nz\nM 2906 525 \nQ 2725 213 2448 61 \nQ 2172 -91 1784 -91 \nQ 1150 -91 751 415 \nQ 353 922 353 1747 \nQ 353 2572 751 3078 \nQ 1150 3584 1784 3584 \nQ 2172 3584 2448 3432 \nQ 2725 3281 2906 2969 \nL 2906 3500 \nL 3481 3500 \nL 3481 -1331 \nL 2906 -1331 \nL 2906 525 \nz\n\" id=\"DejaVuSans-71\" transform=\"scale(0.015625)\"/>\n      <path d=\"M 603 3500 \nL 1178 3500 \nL 1178 0 \nL 603 0 \nL 603 3500 \nz\nM 603 4863 \nL 1178 4863 \nL 1178 4134 \nL 603 4134 \nL 603 4863 \nz\n\" id=\"DejaVuSans-69\" transform=\"scale(0.015625)\"/>\n      <path d=\"M 2906 2969 \nL 2906 4863 \nL 3481 4863 \nL 3481 0 \nL 2906 0 \nL 2906 525 \nQ 2725 213 2448 61 \nQ 2172 -91 1784 -91 \nQ 1150 -91 751 415 \nQ 353 922 353 1747 \nQ 353 2572 751 3078 \nQ 1150 3584 1784 3584 \nQ 2172 3584 2448 3432 \nQ 2725 3281 2906 2969 \nz\nM 947 1747 \nQ 947 1113 1208 752 \nQ 1469 391 1925 391 \nQ 2381 391 2643 752 \nQ 2906 1113 2906 1747 \nQ 2906 2381 2643 2742 \nQ 2381 3103 1925 3103 \nQ 1469 3103 1208 2742 \nQ 947 2381 947 1747 \nz\n\" id=\"DejaVuSans-64\" transform=\"scale(0.015625)\"/>\n      <path d=\"M 3328 2828 \nQ 3544 3216 3844 3400 \nQ 4144 3584 4550 3584 \nQ 5097 3584 5394 3201 \nQ 5691 2819 5691 2113 \nL 5691 0 \nL 5113 0 \nL 5113 2094 \nQ 5113 2597 4934 2840 \nQ 4756 3084 4391 3084 \nQ 3944 3084 3684 2787 \nQ 3425 2491 3425 1978 \nL 3425 0 \nL 2847 0 \nL 2847 2094 \nQ 2847 2600 2669 2842 \nQ 2491 3084 2119 3084 \nQ 1678 3084 1418 2786 \nQ 1159 2488 1159 1978 \nL 1159 0 \nL 581 0 \nL 581 3500 \nL 1159 3500 \nL 1159 2956 \nQ 1356 3278 1631 3431 \nQ 1906 3584 2284 3584 \nQ 2666 3584 2933 3390 \nQ 3200 3197 3328 2828 \nz\n\" id=\"DejaVuSans-6d\" transform=\"scale(0.015625)\"/>\n     </defs>\n     <use xlink:href=\"#DejaVuSans-50\"/>\n     <use x=\"60.302734\" xlink:href=\"#DejaVuSans-6c\"/>\n     <use x=\"88.085938\" xlink:href=\"#DejaVuSans-6f\"/>\n     <use x=\"149.267578\" xlink:href=\"#DejaVuSans-74\"/>\n     <use x=\"188.476562\" xlink:href=\"#DejaVuSans-20\"/>\n     <use x=\"220.263672\" xlink:href=\"#DejaVuSans-6f\"/>\n     <use x=\"281.445312\" xlink:href=\"#DejaVuSans-66\"/>\n     <use x=\"316.650391\" xlink:href=\"#DejaVuSans-20\"/>\n     <use x=\"348.4375\" xlink:href=\"#DejaVuSans-74\"/>\n     <use x=\"387.646484\" xlink:href=\"#DejaVuSans-68\"/>\n     <use x=\"451.025391\" xlink:href=\"#DejaVuSans-65\"/>\n     <use x=\"512.548828\" xlink:href=\"#DejaVuSans-20\"/>\n     <use x=\"544.335938\" xlink:href=\"#DejaVuSans-71\"/>\n     <use x=\"607.8125\" xlink:href=\"#DejaVuSans-75\"/>\n     <use x=\"671.191406\" xlink:href=\"#DejaVuSans-6f\"/>\n     <use x=\"732.373047\" xlink:href=\"#DejaVuSans-74\"/>\n     <use x=\"771.582031\" xlink:href=\"#DejaVuSans-61\"/>\n     <use x=\"832.861328\" xlink:href=\"#DejaVuSans-74\"/>\n     <use x=\"872.070312\" xlink:href=\"#DejaVuSans-69\"/>\n     <use x=\"899.853516\" xlink:href=\"#DejaVuSans-6f\"/>\n     <use x=\"961.035156\" xlink:href=\"#DejaVuSans-6e\"/>\n     <use x=\"1024.414062\" xlink:href=\"#DejaVuSans-73\"/>\n     <use x=\"1076.513672\" xlink:href=\"#DejaVuSans-20\"/>\n     <use x=\"1108.300781\" xlink:href=\"#DejaVuSans-72\"/>\n     <use x=\"1147.164062\" xlink:href=\"#DejaVuSans-65\"/>\n     <use x=\"1208.6875\" xlink:href=\"#DejaVuSans-70\"/>\n     <use x=\"1272.164062\" xlink:href=\"#DejaVuSans-6f\"/>\n     <use x=\"1333.345703\" xlink:href=\"#DejaVuSans-72\"/>\n     <use x=\"1374.458984\" xlink:href=\"#DejaVuSans-74\"/>\n     <use x=\"1413.667969\" xlink:href=\"#DejaVuSans-65\"/>\n     <use x=\"1475.191406\" xlink:href=\"#DejaVuSans-64\"/>\n     <use x=\"1538.667969\" xlink:href=\"#DejaVuSans-20\"/>\n     <use x=\"1570.455078\" xlink:href=\"#DejaVuSans-70\"/>\n     <use x=\"1633.931641\" xlink:href=\"#DejaVuSans-65\"/>\n     <use x=\"1695.455078\" xlink:href=\"#DejaVuSans-72\"/>\n     <use x=\"1736.568359\" xlink:href=\"#DejaVuSans-20\"/>\n     <use x=\"1768.355469\" xlink:href=\"#DejaVuSans-6d\"/>\n     <use x=\"1865.767578\" xlink:href=\"#DejaVuSans-6f\"/>\n     <use x=\"1926.949219\" xlink:href=\"#DejaVuSans-6e\"/>\n     <use x=\"1990.328125\" xlink:href=\"#DejaVuSans-74\"/>\n     <use x=\"2029.537109\" xlink:href=\"#DejaVuSans-68\"/>\n    </g>\n   </g>\n  </g>\n </g>\n <defs>\n  <clipPath id=\"pff36aa6971\">\n   <rect height=\"307.4\" width=\"292.275\" x=\"53.328125\" y=\"22.318125\"/>\n  </clipPath>\n </defs>\n</svg>\n",
      "text/plain": [
       "<Figure size 360x360 with 1 Axes>"
      ]
     },
     "metadata": {
      "needs_background": "light"
     },
     "output_type": "display_data"
    }
   ],
   "source": [
    "sns.displot(quotes_2020['month'])\n",
    "plt.title('Plot of the quotations reported per month')\n",
    "plt.xlabel(\"Months\")\n",
    "plt.ylabel(\"Count\")"
   ]
  },
  {
   "cell_type": "markdown",
   "id": "6bf2c546",
   "metadata": {},
   "source": [
    "##  Identification of  the most frequently used words by the speakers when the peak occured"
   ]
  },
  {
   "cell_type": "markdown",
   "id": "95f38c77",
   "metadata": {},
   "source": [
    "The goal here is to observe the most frequent words, and see if we can establish a link to a particular event.\n"
   ]
  },
  {
   "cell_type": "markdown",
   "id": "06dc2f3c",
   "metadata": {},
   "source": [
    "## First we will look at the frequency of  words starting with a capital letter "
   ]
  },
  {
   "cell_type": "markdown",
   "id": "65a38078",
   "metadata": {},
   "source": [
    "We do this in order to to find more easily the countries where these major events occured or the names of some  people.\n",
    "These words can be very useful keywords."
   ]
  },
  {
   "cell_type": "code",
   "execution_count": 9,
   "id": "aa9fd252",
   "metadata": {},
   "outputs": [],
   "source": [
    "key_capital_words = []\n",
    "top_ten_days = quotes_date_occurence.index[:10].astype(str)\n",
    "for d in top_ten_days:\n",
    "    _, capital_words = capital_letter_keywords(quotes_2020, d)\n",
    "    key_capital_words.append(capital_words)\n"
   ]
  },
  {
   "cell_type": "markdown",
   "id": "d6859f9b",
   "metadata": {},
   "source": [
    " We show in the following dataframe, the most frequent keywords starting with a capital letter for the 10 days where quotations on climate change were predominant."
   ]
  },
  {
   "cell_type": "code",
   "execution_count": 10,
   "id": "2e8fc6d6",
   "metadata": {},
   "outputs": [
    {
     "data": {
      "text/html": [
       "<div>\n",
       "<style scoped>\n",
       "    .dataframe tbody tr th:only-of-type {\n",
       "        vertical-align: middle;\n",
       "    }\n",
       "\n",
       "    .dataframe tbody tr th {\n",
       "        vertical-align: top;\n",
       "    }\n",
       "\n",
       "    .dataframe thead th {\n",
       "        text-align: right;\n",
       "    }\n",
       "</style>\n",
       "<table border=\"1\" class=\"dataframe\">\n",
       "  <thead>\n",
       "    <tr style=\"text-align: right;\">\n",
       "      <th></th>\n",
       "      <th>Australia</th>\n",
       "      <th>BlackRock</th>\n",
       "      <th>Minister</th>\n",
       "      <th>Canada</th>\n",
       "      <th>UK</th>\n",
       "      <th>Government</th>\n",
       "      <th>Michaels</th>\n",
       "      <th>COP26</th>\n",
       "      <th>BP</th>\n",
       "      <th>Glasgow</th>\n",
       "      <th>Scottish</th>\n",
       "      <th>Britain</th>\n",
       "      <th>Greta</th>\n",
       "      <th>Trump</th>\n",
       "    </tr>\n",
       "    <tr>\n",
       "      <th>date</th>\n",
       "      <th></th>\n",
       "      <th></th>\n",
       "      <th></th>\n",
       "      <th></th>\n",
       "      <th></th>\n",
       "      <th></th>\n",
       "      <th></th>\n",
       "      <th></th>\n",
       "      <th></th>\n",
       "      <th></th>\n",
       "      <th></th>\n",
       "      <th></th>\n",
       "      <th></th>\n",
       "      <th></th>\n",
       "    </tr>\n",
       "  </thead>\n",
       "  <tbody>\n",
       "    <tr>\n",
       "      <th>2020-01-14</th>\n",
       "      <td>21.0</td>\n",
       "      <td>11.0</td>\n",
       "      <td>0.0</td>\n",
       "      <td>0.0</td>\n",
       "      <td>0.0</td>\n",
       "      <td>0.0</td>\n",
       "      <td>0.0</td>\n",
       "      <td>0.0</td>\n",
       "      <td>0.0</td>\n",
       "      <td>0.0</td>\n",
       "      <td>0.0</td>\n",
       "      <td>0.0</td>\n",
       "      <td>0.0</td>\n",
       "      <td>0.0</td>\n",
       "    </tr>\n",
       "    <tr>\n",
       "      <th>2020-01-15</th>\n",
       "      <td>13.0</td>\n",
       "      <td>7.0</td>\n",
       "      <td>0.0</td>\n",
       "      <td>0.0</td>\n",
       "      <td>0.0</td>\n",
       "      <td>0.0</td>\n",
       "      <td>0.0</td>\n",
       "      <td>0.0</td>\n",
       "      <td>0.0</td>\n",
       "      <td>0.0</td>\n",
       "      <td>0.0</td>\n",
       "      <td>0.0</td>\n",
       "      <td>0.0</td>\n",
       "      <td>0.0</td>\n",
       "    </tr>\n",
       "    <tr>\n",
       "      <th>2020-01-21</th>\n",
       "      <td>0.0</td>\n",
       "      <td>0.0</td>\n",
       "      <td>10.0</td>\n",
       "      <td>9.0</td>\n",
       "      <td>0.0</td>\n",
       "      <td>0.0</td>\n",
       "      <td>0.0</td>\n",
       "      <td>0.0</td>\n",
       "      <td>0.0</td>\n",
       "      <td>0.0</td>\n",
       "      <td>0.0</td>\n",
       "      <td>0.0</td>\n",
       "      <td>0.0</td>\n",
       "      <td>0.0</td>\n",
       "    </tr>\n",
       "    <tr>\n",
       "      <th>2020-02-06</th>\n",
       "      <td>0.0</td>\n",
       "      <td>0.0</td>\n",
       "      <td>0.0</td>\n",
       "      <td>0.0</td>\n",
       "      <td>14.0</td>\n",
       "      <td>8.0</td>\n",
       "      <td>0.0</td>\n",
       "      <td>0.0</td>\n",
       "      <td>0.0</td>\n",
       "      <td>0.0</td>\n",
       "      <td>0.0</td>\n",
       "      <td>0.0</td>\n",
       "      <td>0.0</td>\n",
       "      <td>0.0</td>\n",
       "    </tr>\n",
       "    <tr>\n",
       "      <th>2020-02-07</th>\n",
       "      <td>0.0</td>\n",
       "      <td>0.0</td>\n",
       "      <td>0.0</td>\n",
       "      <td>0.0</td>\n",
       "      <td>0.0</td>\n",
       "      <td>0.0</td>\n",
       "      <td>11.0</td>\n",
       "      <td>0.0</td>\n",
       "      <td>0.0</td>\n",
       "      <td>0.0</td>\n",
       "      <td>0.0</td>\n",
       "      <td>0.0</td>\n",
       "      <td>0.0</td>\n",
       "      <td>0.0</td>\n",
       "    </tr>\n",
       "    <tr>\n",
       "      <th>2020-01-22</th>\n",
       "      <td>0.0</td>\n",
       "      <td>0.0</td>\n",
       "      <td>0.0</td>\n",
       "      <td>0.0</td>\n",
       "      <td>0.0</td>\n",
       "      <td>0.0</td>\n",
       "      <td>0.0</td>\n",
       "      <td>0.0</td>\n",
       "      <td>0.0</td>\n",
       "      <td>0.0</td>\n",
       "      <td>0.0</td>\n",
       "      <td>0.0</td>\n",
       "      <td>0.0</td>\n",
       "      <td>0.0</td>\n",
       "    </tr>\n",
       "    <tr>\n",
       "      <th>2020-02-05</th>\n",
       "      <td>0.0</td>\n",
       "      <td>0.0</td>\n",
       "      <td>0.0</td>\n",
       "      <td>0.0</td>\n",
       "      <td>0.0</td>\n",
       "      <td>0.0</td>\n",
       "      <td>0.0</td>\n",
       "      <td>9.0</td>\n",
       "      <td>0.0</td>\n",
       "      <td>0.0</td>\n",
       "      <td>0.0</td>\n",
       "      <td>0.0</td>\n",
       "      <td>0.0</td>\n",
       "      <td>0.0</td>\n",
       "    </tr>\n",
       "    <tr>\n",
       "      <th>2020-02-12</th>\n",
       "      <td>0.0</td>\n",
       "      <td>0.0</td>\n",
       "      <td>0.0</td>\n",
       "      <td>0.0</td>\n",
       "      <td>14.0</td>\n",
       "      <td>8.0</td>\n",
       "      <td>0.0</td>\n",
       "      <td>12.0</td>\n",
       "      <td>8.0</td>\n",
       "      <td>8.0</td>\n",
       "      <td>7.0</td>\n",
       "      <td>0.0</td>\n",
       "      <td>0.0</td>\n",
       "      <td>0.0</td>\n",
       "    </tr>\n",
       "    <tr>\n",
       "      <th>2020-02-10</th>\n",
       "      <td>0.0</td>\n",
       "      <td>0.0</td>\n",
       "      <td>0.0</td>\n",
       "      <td>0.0</td>\n",
       "      <td>0.0</td>\n",
       "      <td>0.0</td>\n",
       "      <td>0.0</td>\n",
       "      <td>7.0</td>\n",
       "      <td>0.0</td>\n",
       "      <td>0.0</td>\n",
       "      <td>0.0</td>\n",
       "      <td>7.0</td>\n",
       "      <td>7.0</td>\n",
       "      <td>0.0</td>\n",
       "    </tr>\n",
       "    <tr>\n",
       "      <th>2020-01-23</th>\n",
       "      <td>0.0</td>\n",
       "      <td>0.0</td>\n",
       "      <td>0.0</td>\n",
       "      <td>0.0</td>\n",
       "      <td>0.0</td>\n",
       "      <td>0.0</td>\n",
       "      <td>0.0</td>\n",
       "      <td>0.0</td>\n",
       "      <td>0.0</td>\n",
       "      <td>0.0</td>\n",
       "      <td>0.0</td>\n",
       "      <td>0.0</td>\n",
       "      <td>0.0</td>\n",
       "      <td>7.0</td>\n",
       "    </tr>\n",
       "  </tbody>\n",
       "</table>\n",
       "</div>"
      ],
      "text/plain": [
       "            Australia  BlackRock  Minister  Canada    UK  Government  \\\n",
       "date                                                                   \n",
       "2020-01-14       21.0       11.0       0.0     0.0   0.0         0.0   \n",
       "2020-01-15       13.0        7.0       0.0     0.0   0.0         0.0   \n",
       "2020-01-21        0.0        0.0      10.0     9.0   0.0         0.0   \n",
       "2020-02-06        0.0        0.0       0.0     0.0  14.0         8.0   \n",
       "2020-02-07        0.0        0.0       0.0     0.0   0.0         0.0   \n",
       "2020-01-22        0.0        0.0       0.0     0.0   0.0         0.0   \n",
       "2020-02-05        0.0        0.0       0.0     0.0   0.0         0.0   \n",
       "2020-02-12        0.0        0.0       0.0     0.0  14.0         8.0   \n",
       "2020-02-10        0.0        0.0       0.0     0.0   0.0         0.0   \n",
       "2020-01-23        0.0        0.0       0.0     0.0   0.0         0.0   \n",
       "\n",
       "            Michaels  COP26   BP  Glasgow  Scottish  Britain  Greta  Trump  \n",
       "date                                                                        \n",
       "2020-01-14       0.0    0.0  0.0      0.0       0.0      0.0    0.0    0.0  \n",
       "2020-01-15       0.0    0.0  0.0      0.0       0.0      0.0    0.0    0.0  \n",
       "2020-01-21       0.0    0.0  0.0      0.0       0.0      0.0    0.0    0.0  \n",
       "2020-02-06       0.0    0.0  0.0      0.0       0.0      0.0    0.0    0.0  \n",
       "2020-02-07      11.0    0.0  0.0      0.0       0.0      0.0    0.0    0.0  \n",
       "2020-01-22       0.0    0.0  0.0      0.0       0.0      0.0    0.0    0.0  \n",
       "2020-02-05       0.0    9.0  0.0      0.0       0.0      0.0    0.0    0.0  \n",
       "2020-02-12       0.0   12.0  8.0      8.0       7.0      0.0    0.0    0.0  \n",
       "2020-02-10       0.0    7.0  0.0      0.0       0.0      7.0    7.0    0.0  \n",
       "2020-01-23       0.0    0.0  0.0      0.0       0.0      0.0    0.0    7.0  "
      ]
     },
     "execution_count": 10,
     "metadata": {},
     "output_type": "execute_result"
    }
   ],
   "source": [
    "top_ten_day_key_words_capital = pd.DataFrame(key_capital_words, index = quotes_date_occurence.index[:10]).fillna(0)\n",
    "top_ten_day_key_words_capital"
   ]
  },
  {
   "cell_type": "markdown",
   "id": "0f9d0cd7",
   "metadata": {},
   "source": [
    "Next we look at the frequency of all words."
   ]
  },
  {
   "cell_type": "markdown",
   "id": "974d3a9b",
   "metadata": {},
   "source": [
    " This time, we show in the following dataframe, the most frequent keywords for the 10 days where quotations on climate change were predominant."
   ]
  },
  {
   "cell_type": "code",
   "execution_count": 11,
   "id": "7d858d22",
   "metadata": {},
   "outputs": [],
   "source": [
    "keywords = []\n",
    "top_ten_days = quotes_date_occurence.index[:10].astype(str)\n",
    "for d in top_ten_days:\n",
    "    _, words = all_keywords(quotes_2020, d)\n",
    "    keywords.append(words)"
   ]
  },
  {
   "cell_type": "code",
   "execution_count": 12,
   "id": "338957a7",
   "metadata": {
    "scrolled": true
   },
   "outputs": [
    {
     "data": {
      "text/html": [
       "<div>\n",
       "<style scoped>\n",
       "    .dataframe tbody tr th:only-of-type {\n",
       "        vertical-align: middle;\n",
       "    }\n",
       "\n",
       "    .dataframe tbody tr th {\n",
       "        vertical-align: top;\n",
       "    }\n",
       "\n",
       "    .dataframe thead th {\n",
       "        text-align: right;\n",
       "    }\n",
       "</style>\n",
       "<table border=\"1\" class=\"dataframe\">\n",
       "  <thead>\n",
       "    <tr style=\"text-align: right;\">\n",
       "      <th></th>\n",
       "      <th>people</th>\n",
       "      <th>Australia</th>\n",
       "      <th>need</th>\n",
       "      <th>around</th>\n",
       "      <th>fire</th>\n",
       "      <th>impacts</th>\n",
       "      <th>country</th>\n",
       "      <th>much</th>\n",
       "      <th>economy</th>\n",
       "      <th>address</th>\n",
       "      <th>...</th>\n",
       "      <th>communities</th>\n",
       "      <th>COP26</th>\n",
       "      <th>already</th>\n",
       "      <th>life</th>\n",
       "      <th>health</th>\n",
       "      <th>would</th>\n",
       "      <th>year</th>\n",
       "      <th>nuclear</th>\n",
       "      <th>state</th>\n",
       "      <th>political</th>\n",
       "    </tr>\n",
       "    <tr>\n",
       "      <th>date</th>\n",
       "      <th></th>\n",
       "      <th></th>\n",
       "      <th></th>\n",
       "      <th></th>\n",
       "      <th></th>\n",
       "      <th></th>\n",
       "      <th></th>\n",
       "      <th></th>\n",
       "      <th></th>\n",
       "      <th></th>\n",
       "      <th></th>\n",
       "      <th></th>\n",
       "      <th></th>\n",
       "      <th></th>\n",
       "      <th></th>\n",
       "      <th></th>\n",
       "      <th></th>\n",
       "      <th></th>\n",
       "      <th></th>\n",
       "      <th></th>\n",
       "      <th></th>\n",
       "    </tr>\n",
       "  </thead>\n",
       "  <tbody>\n",
       "    <tr>\n",
       "      <th>2020-01-14</th>\n",
       "      <td>26.0</td>\n",
       "      <td>21.0</td>\n",
       "      <td>17.0</td>\n",
       "      <td>16.0</td>\n",
       "      <td>15.0</td>\n",
       "      <td>15.0</td>\n",
       "      <td>14.0</td>\n",
       "      <td>14.0</td>\n",
       "      <td>13.0</td>\n",
       "      <td>13.0</td>\n",
       "      <td>...</td>\n",
       "      <td>0.0</td>\n",
       "      <td>0.0</td>\n",
       "      <td>0.0</td>\n",
       "      <td>0.0</td>\n",
       "      <td>0.0</td>\n",
       "      <td>0.0</td>\n",
       "      <td>0.0</td>\n",
       "      <td>0.0</td>\n",
       "      <td>0.0</td>\n",
       "      <td>0.0</td>\n",
       "    </tr>\n",
       "    <tr>\n",
       "      <th>2020-01-15</th>\n",
       "      <td>21.0</td>\n",
       "      <td>13.0</td>\n",
       "      <td>14.0</td>\n",
       "      <td>12.0</td>\n",
       "      <td>0.0</td>\n",
       "      <td>0.0</td>\n",
       "      <td>0.0</td>\n",
       "      <td>0.0</td>\n",
       "      <td>0.0</td>\n",
       "      <td>15.0</td>\n",
       "      <td>...</td>\n",
       "      <td>0.0</td>\n",
       "      <td>0.0</td>\n",
       "      <td>0.0</td>\n",
       "      <td>0.0</td>\n",
       "      <td>0.0</td>\n",
       "      <td>0.0</td>\n",
       "      <td>0.0</td>\n",
       "      <td>0.0</td>\n",
       "      <td>0.0</td>\n",
       "      <td>0.0</td>\n",
       "    </tr>\n",
       "    <tr>\n",
       "      <th>2020-01-21</th>\n",
       "      <td>22.0</td>\n",
       "      <td>0.0</td>\n",
       "      <td>17.0</td>\n",
       "      <td>0.0</td>\n",
       "      <td>0.0</td>\n",
       "      <td>0.0</td>\n",
       "      <td>0.0</td>\n",
       "      <td>0.0</td>\n",
       "      <td>0.0</td>\n",
       "      <td>0.0</td>\n",
       "      <td>...</td>\n",
       "      <td>0.0</td>\n",
       "      <td>0.0</td>\n",
       "      <td>0.0</td>\n",
       "      <td>0.0</td>\n",
       "      <td>0.0</td>\n",
       "      <td>0.0</td>\n",
       "      <td>0.0</td>\n",
       "      <td>0.0</td>\n",
       "      <td>0.0</td>\n",
       "      <td>0.0</td>\n",
       "    </tr>\n",
       "    <tr>\n",
       "      <th>2020-02-06</th>\n",
       "      <td>15.0</td>\n",
       "      <td>0.0</td>\n",
       "      <td>20.0</td>\n",
       "      <td>0.0</td>\n",
       "      <td>0.0</td>\n",
       "      <td>0.0</td>\n",
       "      <td>0.0</td>\n",
       "      <td>0.0</td>\n",
       "      <td>0.0</td>\n",
       "      <td>0.0</td>\n",
       "      <td>...</td>\n",
       "      <td>0.0</td>\n",
       "      <td>0.0</td>\n",
       "      <td>0.0</td>\n",
       "      <td>0.0</td>\n",
       "      <td>0.0</td>\n",
       "      <td>0.0</td>\n",
       "      <td>0.0</td>\n",
       "      <td>0.0</td>\n",
       "      <td>0.0</td>\n",
       "      <td>0.0</td>\n",
       "    </tr>\n",
       "    <tr>\n",
       "      <th>2020-02-07</th>\n",
       "      <td>19.0</td>\n",
       "      <td>0.0</td>\n",
       "      <td>0.0</td>\n",
       "      <td>0.0</td>\n",
       "      <td>0.0</td>\n",
       "      <td>0.0</td>\n",
       "      <td>0.0</td>\n",
       "      <td>0.0</td>\n",
       "      <td>0.0</td>\n",
       "      <td>0.0</td>\n",
       "      <td>...</td>\n",
       "      <td>0.0</td>\n",
       "      <td>0.0</td>\n",
       "      <td>0.0</td>\n",
       "      <td>0.0</td>\n",
       "      <td>0.0</td>\n",
       "      <td>0.0</td>\n",
       "      <td>0.0</td>\n",
       "      <td>0.0</td>\n",
       "      <td>0.0</td>\n",
       "      <td>0.0</td>\n",
       "    </tr>\n",
       "    <tr>\n",
       "      <th>2020-01-22</th>\n",
       "      <td>21.0</td>\n",
       "      <td>0.0</td>\n",
       "      <td>11.0</td>\n",
       "      <td>0.0</td>\n",
       "      <td>0.0</td>\n",
       "      <td>0.0</td>\n",
       "      <td>0.0</td>\n",
       "      <td>0.0</td>\n",
       "      <td>0.0</td>\n",
       "      <td>0.0</td>\n",
       "      <td>...</td>\n",
       "      <td>0.0</td>\n",
       "      <td>0.0</td>\n",
       "      <td>0.0</td>\n",
       "      <td>0.0</td>\n",
       "      <td>0.0</td>\n",
       "      <td>0.0</td>\n",
       "      <td>0.0</td>\n",
       "      <td>0.0</td>\n",
       "      <td>0.0</td>\n",
       "      <td>0.0</td>\n",
       "    </tr>\n",
       "    <tr>\n",
       "      <th>2020-02-05</th>\n",
       "      <td>18.0</td>\n",
       "      <td>0.0</td>\n",
       "      <td>17.0</td>\n",
       "      <td>0.0</td>\n",
       "      <td>0.0</td>\n",
       "      <td>0.0</td>\n",
       "      <td>0.0</td>\n",
       "      <td>0.0</td>\n",
       "      <td>0.0</td>\n",
       "      <td>0.0</td>\n",
       "      <td>...</td>\n",
       "      <td>0.0</td>\n",
       "      <td>0.0</td>\n",
       "      <td>0.0</td>\n",
       "      <td>0.0</td>\n",
       "      <td>0.0</td>\n",
       "      <td>0.0</td>\n",
       "      <td>0.0</td>\n",
       "      <td>0.0</td>\n",
       "      <td>0.0</td>\n",
       "      <td>0.0</td>\n",
       "    </tr>\n",
       "    <tr>\n",
       "      <th>2020-02-12</th>\n",
       "      <td>18.0</td>\n",
       "      <td>0.0</td>\n",
       "      <td>33.0</td>\n",
       "      <td>0.0</td>\n",
       "      <td>0.0</td>\n",
       "      <td>0.0</td>\n",
       "      <td>11.0</td>\n",
       "      <td>0.0</td>\n",
       "      <td>0.0</td>\n",
       "      <td>11.0</td>\n",
       "      <td>...</td>\n",
       "      <td>12.0</td>\n",
       "      <td>12.0</td>\n",
       "      <td>11.0</td>\n",
       "      <td>11.0</td>\n",
       "      <td>11.0</td>\n",
       "      <td>0.0</td>\n",
       "      <td>0.0</td>\n",
       "      <td>0.0</td>\n",
       "      <td>0.0</td>\n",
       "      <td>0.0</td>\n",
       "    </tr>\n",
       "    <tr>\n",
       "      <th>2020-02-10</th>\n",
       "      <td>26.0</td>\n",
       "      <td>0.0</td>\n",
       "      <td>29.0</td>\n",
       "      <td>0.0</td>\n",
       "      <td>0.0</td>\n",
       "      <td>0.0</td>\n",
       "      <td>0.0</td>\n",
       "      <td>0.0</td>\n",
       "      <td>0.0</td>\n",
       "      <td>0.0</td>\n",
       "      <td>...</td>\n",
       "      <td>0.0</td>\n",
       "      <td>0.0</td>\n",
       "      <td>0.0</td>\n",
       "      <td>0.0</td>\n",
       "      <td>0.0</td>\n",
       "      <td>17.0</td>\n",
       "      <td>11.0</td>\n",
       "      <td>0.0</td>\n",
       "      <td>0.0</td>\n",
       "      <td>0.0</td>\n",
       "    </tr>\n",
       "    <tr>\n",
       "      <th>2020-01-23</th>\n",
       "      <td>0.0</td>\n",
       "      <td>0.0</td>\n",
       "      <td>20.0</td>\n",
       "      <td>0.0</td>\n",
       "      <td>0.0</td>\n",
       "      <td>0.0</td>\n",
       "      <td>0.0</td>\n",
       "      <td>0.0</td>\n",
       "      <td>0.0</td>\n",
       "      <td>0.0</td>\n",
       "      <td>...</td>\n",
       "      <td>0.0</td>\n",
       "      <td>0.0</td>\n",
       "      <td>0.0</td>\n",
       "      <td>0.0</td>\n",
       "      <td>0.0</td>\n",
       "      <td>14.0</td>\n",
       "      <td>13.0</td>\n",
       "      <td>19.0</td>\n",
       "      <td>12.0</td>\n",
       "      <td>10.0</td>\n",
       "    </tr>\n",
       "  </tbody>\n",
       "</table>\n",
       "<p>10 rows × 58 columns</p>\n",
       "</div>"
      ],
      "text/plain": [
       "            people  Australia  need  around  fire  impacts  country  much  \\\n",
       "date                                                                        \n",
       "2020-01-14    26.0       21.0  17.0    16.0  15.0     15.0     14.0  14.0   \n",
       "2020-01-15    21.0       13.0  14.0    12.0   0.0      0.0      0.0   0.0   \n",
       "2020-01-21    22.0        0.0  17.0     0.0   0.0      0.0      0.0   0.0   \n",
       "2020-02-06    15.0        0.0  20.0     0.0   0.0      0.0      0.0   0.0   \n",
       "2020-02-07    19.0        0.0   0.0     0.0   0.0      0.0      0.0   0.0   \n",
       "2020-01-22    21.0        0.0  11.0     0.0   0.0      0.0      0.0   0.0   \n",
       "2020-02-05    18.0        0.0  17.0     0.0   0.0      0.0      0.0   0.0   \n",
       "2020-02-12    18.0        0.0  33.0     0.0   0.0      0.0     11.0   0.0   \n",
       "2020-02-10    26.0        0.0  29.0     0.0   0.0      0.0      0.0   0.0   \n",
       "2020-01-23     0.0        0.0  20.0     0.0   0.0      0.0      0.0   0.0   \n",
       "\n",
       "            economy  address  ...  communities  COP26  already  life  health  \\\n",
       "date                          ...                                              \n",
       "2020-01-14     13.0     13.0  ...          0.0    0.0      0.0   0.0     0.0   \n",
       "2020-01-15      0.0     15.0  ...          0.0    0.0      0.0   0.0     0.0   \n",
       "2020-01-21      0.0      0.0  ...          0.0    0.0      0.0   0.0     0.0   \n",
       "2020-02-06      0.0      0.0  ...          0.0    0.0      0.0   0.0     0.0   \n",
       "2020-02-07      0.0      0.0  ...          0.0    0.0      0.0   0.0     0.0   \n",
       "2020-01-22      0.0      0.0  ...          0.0    0.0      0.0   0.0     0.0   \n",
       "2020-02-05      0.0      0.0  ...          0.0    0.0      0.0   0.0     0.0   \n",
       "2020-02-12      0.0     11.0  ...         12.0   12.0     11.0  11.0    11.0   \n",
       "2020-02-10      0.0      0.0  ...          0.0    0.0      0.0   0.0     0.0   \n",
       "2020-01-23      0.0      0.0  ...          0.0    0.0      0.0   0.0     0.0   \n",
       "\n",
       "            would  year  nuclear  state  political  \n",
       "date                                                \n",
       "2020-01-14    0.0   0.0      0.0    0.0        0.0  \n",
       "2020-01-15    0.0   0.0      0.0    0.0        0.0  \n",
       "2020-01-21    0.0   0.0      0.0    0.0        0.0  \n",
       "2020-02-06    0.0   0.0      0.0    0.0        0.0  \n",
       "2020-02-07    0.0   0.0      0.0    0.0        0.0  \n",
       "2020-01-22    0.0   0.0      0.0    0.0        0.0  \n",
       "2020-02-05    0.0   0.0      0.0    0.0        0.0  \n",
       "2020-02-12    0.0   0.0      0.0    0.0        0.0  \n",
       "2020-02-10   17.0  11.0      0.0    0.0        0.0  \n",
       "2020-01-23   14.0  13.0     19.0   12.0       10.0  \n",
       "\n",
       "[10 rows x 58 columns]"
      ]
     },
     "execution_count": 12,
     "metadata": {},
     "output_type": "execute_result"
    }
   ],
   "source": [
    "top_ten_day_keywords = pd.DataFrame(keywords, index = quotes_date_occurence.index[:10]).fillna(0)\n",
    "top_ten_day_keywords"
   ]
  },
  {
   "cell_type": "markdown",
   "id": "a39e8285",
   "metadata": {},
   "source": [
    "From the different results, we see that \"Australia\" and \"fire\" are amidst the most frequent words\n",
    "on the 14th of January.\n",
    "\n",
    "This indicates that the event that \"boosted\" the number of quotes about the climate during this time is probably the big australian wildfires that began at the end of 2019. We should explore this option now.\n"
   ]
  },
  {
   "cell_type": "markdown",
   "id": "ed1fd242",
   "metadata": {},
   "source": [
    "##  We therefore explore what happened on the 14th of  january..."
   ]
  },
  {
   "cell_type": "markdown",
   "id": "edf17670",
   "metadata": {},
   "source": [
    "The most important peak occured on the 14th of January. \n",
    "\n",
    "We will then, try to determine if a particular event occured."
   ]
  },
  {
   "cell_type": "code",
   "execution_count": 13,
   "id": "6824af73",
   "metadata": {},
   "outputs": [],
   "source": [
    "filtered_sentence_df_australia,count_capital_keywords_australia =  capital_letter_keywords(\n",
    "    quotes_2020, '2020-01-14')\n",
    "_,count_keywords_australia = all_keywords(quotes_2020, '2020-01-14' )\n"
   ]
  },
  {
   "cell_type": "code",
   "execution_count": 14,
   "id": "b00b9819",
   "metadata": {},
   "outputs": [
    {
     "data": {
      "text/plain": [
       "Australia    21\n",
       "BlackRock    11\n",
       "dtype: int64"
      ]
     },
     "execution_count": 14,
     "metadata": {},
     "output_type": "execute_result"
    }
   ],
   "source": [
    "count_capital_keywords_australia"
   ]
  },
  {
   "cell_type": "code",
   "execution_count": 15,
   "id": "386083d9",
   "metadata": {},
   "outputs": [
    {
     "data": {
      "text/plain": [
       "people       26\n",
       "Australia    21\n",
       "need         17\n",
       "around       16\n",
       "fire         15\n",
       "impacts      15\n",
       "country      14\n",
       "much         14\n",
       "economy      13\n",
       "address      13\n",
       "emergency    13\n",
       "energy       13\n",
       "dtype: int64"
      ]
     },
     "execution_count": 15,
     "metadata": {},
     "output_type": "execute_result"
    }
   ],
   "source": [
    "count_keywords_australia "
   ]
  },
  {
   "cell_type": "markdown",
   "id": "23e1304d",
   "metadata": {},
   "source": [
    "From these previous results, evidences accumulate on the nature of this peak. In order to validate it with a manual manipulation, we try to look for the word \"bushfire\" on this date here below. We observe 14 occurences. This is way too specific to be a coincidence."
   ]
  },
  {
   "cell_type": "code",
   "execution_count": 16,
   "id": "7306d84a",
   "metadata": {},
   "outputs": [
    {
     "data": {
      "text/plain": [
       "14"
      ]
     },
     "execution_count": 16,
     "metadata": {},
     "output_type": "execute_result"
    }
   ],
   "source": [
    "filtered_sentence_df_australia.str.contains('bushfire').sum()"
   ]
  },
  {
   "cell_type": "markdown",
   "id": "fbbe11a9",
   "metadata": {},
   "source": [
    "This link from this precise period validates our expectation : https://edition.cnn.com/2020/01/01/australia/australia-fires-explainer-intl-hnk-scli/index.html"
   ]
  }
 ],
 "metadata": {
  "interpreter": {
   "hash": "e7370f93d1d0cde622a1f8e1c04877d8463912d04d973331ad4851f04de6915a"
  },
  "kernelspec": {
   "display_name": "Python 3.9.7 64-bit",
   "name": "python3"
  },
  "language_info": {
   "codemirror_mode": {
    "name": "ipython",
    "version": 3
   },
   "file_extension": ".py",
   "mimetype": "text/x-python",
   "name": "python",
   "nbconvert_exporter": "python",
   "pygments_lexer": "ipython3",
   "version": "3.9.7"
  }
 },
 "nbformat": 4,
 "nbformat_minor": 5
}
