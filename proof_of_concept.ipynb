{
 "cells": [
  {
   "cell_type": "markdown",
   "id": "dc063647",
   "metadata": {},
   "source": [
    "# IMPORT OF LIBRAIRIES "
   ]
  },
  {
   "cell_type": "code",
   "execution_count": 1,
   "id": "cf88cc88",
   "metadata": {},
   "outputs": [],
   "source": [
    "import pandas as pd\n",
    "import numpy as np \n",
    "import matplotlib \n",
    "import matplotlib.pyplot as plt\n",
    "from matplotlib.colors import ListedColormap\n",
    "import seaborn as sns\n",
    "import calendar"
   ]
  },
  {
   "cell_type": "markdown",
   "id": "afb051af",
   "metadata": {},
   "source": [
    "# INTRODUCTION"
   ]
  },
  {
   "cell_type": "markdown",
   "id": "b25a5dea",
   "metadata": {},
   "source": [
    "In this section, we will present our procedure to identify the major events related to climate change that took place during the scope of our study.\n",
    "To simplify our presentation we will focus on the year 2020 but this procedure will be extended to the entire data set later on.\n",
    "The objective is to identify the date of these events by determining the days where the number of citations related to climate change is the most important.\n",
    "We have therefore built a preliminary lexicon containing the terms most frequently used by speakers commenting about the climate emergency ( such as \"climate change\", \"COP26\",...)\n",
    "This lexicon is a first draft and will be improved later by a more precise method involving a larger lexicon or a more advanced selection method.\n",
    "With this lexicon we can filter our data and create a dataframe containing only the climate-related quotations for each year and this reduced dataframes will be used throughout our study.\n",
    "Every dataframes and methodology to construct them can be found in notebook \"Playground\"\n",
    "\n",
    "In this notebook we use only the dataframe for the year 2020\n",
    "\n",
    "After building these dataframe, we can identify the days where the number of quotes related to climate is the most important.\n",
    "Finally, we can identify the most frequently used words by the speakers and thus try to determine if a significant event took place on the day of this peak in the number of quotations\n",
    "\n"
   ]
  },
  {
   "cell_type": "markdown",
   "id": "dc91c88c",
   "metadata": {},
   "source": [
    "### LOADING DATA SET FOR THE YEAR 2020"
   ]
  },
  {
   "cell_type": "code",
   "execution_count": 25,
   "id": "5d0fed01",
   "metadata": {},
   "outputs": [],
   "source": [
    "quotes_2020 = pd.io.json.read_json('quotes-2020.json.bz2', lines = True)"
   ]
  },
  {
   "cell_type": "code",
   "execution_count": null,
   "id": "fc22ea74",
   "metadata": {},
   "outputs": [],
   "source": []
  },
  {
   "cell_type": "markdown",
   "id": "4123de55",
   "metadata": {},
   "source": [
    "### Creation of a column containing the month when the month when the quote was reported\n"
   ]
  },
  {
   "cell_type": "code",
   "execution_count": 26,
   "id": "e9f100e3",
   "metadata": {},
   "outputs": [
    {
     "data": {
      "text/html": [
       "<div>\n",
       "<style scoped>\n",
       "    .dataframe tbody tr th:only-of-type {\n",
       "        vertical-align: middle;\n",
       "    }\n",
       "\n",
       "    .dataframe tbody tr th {\n",
       "        vertical-align: top;\n",
       "    }\n",
       "\n",
       "    .dataframe thead th {\n",
       "        text-align: right;\n",
       "    }\n",
       "</style>\n",
       "<table border=\"1\" class=\"dataframe\">\n",
       "  <thead>\n",
       "    <tr style=\"text-align: right;\">\n",
       "      <th></th>\n",
       "      <th>quoteID</th>\n",
       "      <th>quotation</th>\n",
       "      <th>speaker</th>\n",
       "      <th>qids</th>\n",
       "      <th>date</th>\n",
       "      <th>numOccurrences</th>\n",
       "      <th>probas</th>\n",
       "      <th>urls</th>\n",
       "      <th>phase</th>\n",
       "      <th>day</th>\n",
       "      <th>nationality</th>\n",
       "      <th>gender</th>\n",
       "      <th>ethnic_group</th>\n",
       "      <th>occupation</th>\n",
       "      <th>party</th>\n",
       "      <th>religion</th>\n",
       "      <th>date_of_birth</th>\n",
       "      <th>month</th>\n",
       "    </tr>\n",
       "  </thead>\n",
       "  <tbody>\n",
       "    <tr>\n",
       "      <th>0</th>\n",
       "      <td>2020-02-27-004325</td>\n",
       "      <td>And it's also in the context of decades of utt...</td>\n",
       "      <td>None</td>\n",
       "      <td>[]</td>\n",
       "      <td>2020-02-27 15:17:36</td>\n",
       "      <td>1</td>\n",
       "      <td>[[None, 0.8786], [Bernie Sanders, 0.1214]]</td>\n",
       "      <td>[http://www.eenews.net/stories/1062457547]</td>\n",
       "      <td>E</td>\n",
       "      <td>Thursday</td>\n",
       "      <td>None</td>\n",
       "      <td>None</td>\n",
       "      <td>None</td>\n",
       "      <td>None</td>\n",
       "      <td>None</td>\n",
       "      <td>None</td>\n",
       "      <td>NaN</td>\n",
       "      <td>Feb</td>\n",
       "    </tr>\n",
       "    <tr>\n",
       "      <th>1</th>\n",
       "      <td>2020-01-29-062975</td>\n",
       "      <td>Many make the link today between their experie...</td>\n",
       "      <td>Peter Maurer</td>\n",
       "      <td>[Q117796, Q42426597]</td>\n",
       "      <td>2020-01-29 09:04:36</td>\n",
       "      <td>5</td>\n",
       "      <td>[[Peter Maurer, 0.8787], [None, 0.1213]]</td>\n",
       "      <td>[http://whbl.com/news/articles/2020/jan/29/hun...</td>\n",
       "      <td>E</td>\n",
       "      <td>Wednesday</td>\n",
       "      <td>None</td>\n",
       "      <td>None</td>\n",
       "      <td>None</td>\n",
       "      <td>None</td>\n",
       "      <td>None</td>\n",
       "      <td>None</td>\n",
       "      <td>NaN</td>\n",
       "      <td>Jan</td>\n",
       "    </tr>\n",
       "    <tr>\n",
       "      <th>2</th>\n",
       "      <td>2020-02-10-076321</td>\n",
       "      <td>the National Energy and Climate Plans are how ...</td>\n",
       "      <td>Kadri Simson</td>\n",
       "      <td>[Q13570003]</td>\n",
       "      <td>2020-02-10 05:51:51</td>\n",
       "      <td>1</td>\n",
       "      <td>[[Kadri Simson, 0.9269], [None, 0.0504], [Gret...</td>\n",
       "      <td>[https://www.politico.eu/newsletter/brussels-p...</td>\n",
       "      <td>E</td>\n",
       "      <td>Monday</td>\n",
       "      <td>Estonia</td>\n",
       "      <td>female</td>\n",
       "      <td>None</td>\n",
       "      <td>politician</td>\n",
       "      <td>Estonian Centre Party</td>\n",
       "      <td>None</td>\n",
       "      <td>+1977-01-22T00:00:00Z</td>\n",
       "      <td>Feb</td>\n",
       "    </tr>\n",
       "  </tbody>\n",
       "</table>\n",
       "</div>"
      ],
      "text/plain": [
       "             quoteID                                          quotation  \\\n",
       "0  2020-02-27-004325  And it's also in the context of decades of utt...   \n",
       "1  2020-01-29-062975  Many make the link today between their experie...   \n",
       "2  2020-02-10-076321  the National Energy and Climate Plans are how ...   \n",
       "\n",
       "        speaker                  qids                date  numOccurrences  \\\n",
       "0          None                    [] 2020-02-27 15:17:36               1   \n",
       "1  Peter Maurer  [Q117796, Q42426597] 2020-01-29 09:04:36               5   \n",
       "2  Kadri Simson           [Q13570003] 2020-02-10 05:51:51               1   \n",
       "\n",
       "                                              probas  \\\n",
       "0         [[None, 0.8786], [Bernie Sanders, 0.1214]]   \n",
       "1           [[Peter Maurer, 0.8787], [None, 0.1213]]   \n",
       "2  [[Kadri Simson, 0.9269], [None, 0.0504], [Gret...   \n",
       "\n",
       "                                                urls phase        day  \\\n",
       "0         [http://www.eenews.net/stories/1062457547]     E   Thursday   \n",
       "1  [http://whbl.com/news/articles/2020/jan/29/hun...     E  Wednesday   \n",
       "2  [https://www.politico.eu/newsletter/brussels-p...     E     Monday   \n",
       "\n",
       "  nationality  gender ethnic_group  occupation                  party  \\\n",
       "0        None    None         None        None                   None   \n",
       "1        None    None         None        None                   None   \n",
       "2     Estonia  female         None  politician  Estonian Centre Party   \n",
       "\n",
       "  religion          date_of_birth month  \n",
       "0     None                    NaN   Feb  \n",
       "1     None                    NaN   Jan  \n",
       "2     None  +1977-01-22T00:00:00Z   Feb  "
      ]
     },
     "execution_count": 26,
     "metadata": {},
     "output_type": "execute_result"
    }
   ],
   "source": [
    "quotes_2020['month'] = quotes_2020['date'].dt.month.apply(lambda x: calendar.month_abbr[x])   \n",
    "quotes_2020.head(3)"
   ]
  },
  {
   "cell_type": "code",
   "execution_count": 27,
   "id": "6cffa601",
   "metadata": {},
   "outputs": [],
   "source": [
    "quotes_2020['date'] = quotes_2020['date'].dt.date"
   ]
  },
  {
   "cell_type": "markdown",
   "id": "730af57c",
   "metadata": {},
   "source": [
    "### Here create a serie containing the number of quotations per day in descending order "
   ]
  },
  {
   "cell_type": "code",
   "execution_count": 28,
   "id": "1f624405",
   "metadata": {},
   "outputs": [
    {
     "data": {
      "text/plain": [
       "date\n",
       "2020-01-14    248\n",
       "2020-01-15    228\n",
       "2020-01-21    221\n",
       "2020-02-06    219\n",
       "2020-02-07    213\n",
       "Name: date, dtype: int64"
      ]
     },
     "execution_count": 28,
     "metadata": {},
     "output_type": "execute_result"
    }
   ],
   "source": [
    "quotes_date_occurence = quotes_2020.groupby('date').date.count()\n",
    "quotes_date_occurence = quotes_date_occurence.sort_values(ascending= False)\n",
    "quotes_date_occurence.head(5)"
   ]
  },
  {
   "cell_type": "markdown",
   "id": "af2c240c",
   "metadata": {},
   "source": [
    "### We then select  the quotations reported on peak days "
   ]
  },
  {
   "cell_type": "code",
   "execution_count": 29,
   "id": "7b18c939",
   "metadata": {},
   "outputs": [],
   "source": [
    "top_ten_days = quotes_date_occurence.index[:10].astype(str)\n",
    "quotations_peak  = quotes_2020[quotes_2020['date'].astype(str).apply(lambda x: x in top_ten_days.to_list())]"
   ]
  },
  {
   "cell_type": "code",
   "execution_count": 36,
   "id": "8453c2dc",
   "metadata": {},
   "outputs": [
    {
     "data": {
      "text/plain": [
       "date\n",
       "2020-01-14    248\n",
       "2020-01-15    228\n",
       "2020-01-21    221\n",
       "2020-02-06    219\n",
       "2020-02-07    213\n",
       "             ... \n",
       "2020-04-11     12\n",
       "2020-04-10     11\n",
       "2020-04-05     10\n",
       "2020-04-04      8\n",
       "2020-04-12      6\n",
       "Name: date, Length: 107, dtype: int64"
      ]
     },
     "execution_count": 36,
     "metadata": {},
     "output_type": "execute_result"
    }
   ],
   "source": []
  },
  {
   "cell_type": "markdown",
   "id": "92658b65",
   "metadata": {},
   "source": [
    "## Plot of the number of quotations reported per day "
   ]
  },
  {
   "cell_type": "code",
   "execution_count": 46,
   "id": "c810e396",
   "metadata": {},
   "outputs": [
    {
     "data": {
      "text/plain": [
       "Text(0.5, 1.0, 'Plot of the number of quotations reported per day ')"
      ]
     },
     "execution_count": 46,
     "metadata": {},
     "output_type": "execute_result"
    },
    {
     "data": {
      "image/png": "[encoded data removed]",
      "text/plain": [
       "<Figure size 432x288 with 1 Axes>"
      ]
     },
     "metadata": {
      "needs_background": "light"
     },
     "output_type": "display_data"
    }
   ],
   "source": [
    "sns.histplot(quotes_2020['date'], bins = len(quotes_date_occurence))\n",
    "sns.histplot(quotations_peak['date'], color = 'red') \n",
    "plt.xticks(rotation= 45 )\n",
    "plt.xlabel('Dates')\n",
    "plt.ylabel('Count')\n",
    "plt.title('Plot of the number of quotations reported per day ', )\n",
    "\n",
    "\n",
    "\n",
    "\n"
   ]
  },
  {
   "cell_type": "markdown",
   "id": "fb3a0e19",
   "metadata": {},
   "source": [
    "## Plot of the quotations reported per month"
   ]
  },
  {
   "cell_type": "code",
   "execution_count": 50,
   "id": "d51f0574",
   "metadata": {},
   "outputs": [
    {
     "data": {
      "text/plain": [
       "Text(-2.450000000000003, 0.5, 'Count')"
      ]
     },
     "execution_count": 50,
     "metadata": {},
     "output_type": "execute_result"
    },
    {
     "data": {
      "image/png": "[encoded data removed]",
      "text/plain": [
       "<Figure size 360x360 with 1 Axes>"
      ]
     },
     "metadata": {
      "needs_background": "light"
     },
     "output_type": "display_data"
    }
   ],
   "source": [
    "sns.displot(quotes_2020['month'])\n",
    "plt.title('Plot of the quotations reported per month')\n",
    "plt.xlabel(\"Months\")\n",
    "plt.ylabel(\"Count\")"
   ]
  },
  {
   "cell_type": "markdown",
   "id": "6bf2c546",
   "metadata": {},
   "source": [
    "##  Identification of  the most frequently used words by the speakers when the peak occured"
   ]
  },
  {
   "cell_type": "markdown",
   "id": "95f38c77",
   "metadata": {},
   "source": [
    "The goal here is to observe the most frequent words, and see if we can establish a link to a particular event.\n"
   ]
  },
  {
   "cell_type": "markdown",
   "id": "01ad7566",
   "metadata": {},
   "source": [
    "### Import of the useful libraries"
   ]
  },
  {
   "cell_type": "code",
   "execution_count": 56,
   "id": "08d7b36a",
   "metadata": {},
   "outputs": [],
   "source": [
    "from nltk.corpus import stopwords\n",
    "from nltk.tokenize import word_tokenize"
   ]
  },
  {
   "cell_type": "code",
   "execution_count": 57,
   "id": "87b68261",
   "metadata": {},
   "outputs": [
    {
     "name": "stderr",
     "output_type": "stream",
     "text": [
      "[nltk_data] Downloading package stopwords to\n",
      "[nltk_data]     /Users/adrien/nltk_data...\n",
      "[nltk_data]   Package stopwords is already up-to-date!\n",
      "[nltk_data] Downloading package punkt to /Users/adrien/nltk_data...\n",
      "[nltk_data]   Package punkt is already up-to-date!\n"
     ]
    },
    {
     "data": {
      "text/plain": [
       "True"
      ]
     },
     "execution_count": 57,
     "metadata": {},
     "output_type": "execute_result"
    }
   ],
   "source": [
    "import nltk\n",
    "nltk.download('stopwords')\n",
    "nltk.download('punkt')"
   ]
  },
  {
   "cell_type": "markdown",
   "id": "06dc2f3c",
   "metadata": {},
   "source": [
    "## First we will look at the frequency of  words starting with a capital letter "
   ]
  },
  {
   "cell_type": "markdown",
   "id": "65a38078",
   "metadata": {},
   "source": [
    "We do this in order to to find more easily the countries where these major events occured or the names of some  people.\n",
    "These words can be very useful keywords."
   ]
  },
  {
   "cell_type": "code",
   "execution_count": 58,
   "id": "c3e67a91",
   "metadata": {},
   "outputs": [],
   "source": [
    "def capital_letter_keywords(quotes_2020, date_choice) :\n",
    "    quotation_test= quotes_2020[quotes_2020['date'].astype(str)== date_choice].quotation\n",
    "    flat_list = [sublist[i] for sublist in quotation_test.str.split() for i in range(len(sublist)) ]\n",
    "    total_quotation = \" \".join(flat_list)\n",
    "    \n",
    "    stop_words = set(stopwords.words('english'))\n",
    "    stop_words.add('climate')\n",
    "    stop_words.add('Climate')\n",
    "    stop_words.add('change')\n",
    "    stop_words.add('warming')\n",
    "    stop_words.add('environmental')\n",
    "    stop_words.add('threat')\n",
    "    stop_words.add('emergency ')\n",
    "    stop_words.add('global')\n",
    "    stop_words.add('world')\n",
    "    word_tokens = word_tokenize(total_quotation)\n",
    "    filtered_sentence = [w for w in word_tokens if not w.lower() in stop_words]\n",
    "    filtered_sentence_join = \" \".join(filtered_sentence)\n",
    "    filtered_sentence_df = pd.Series(filtered_sentence)\n",
    "    filtered_sentence_df = filtered_sentence_df[filtered_sentence_df.apply(lambda x : len(x)>3)]\n",
    "    count_capital_letter = pd.Series([ x for x in filtered_sentence if  x[0].isupper()]).value_counts()\n",
    "    count_capital_letter = count_capital_letter[count_capital_letter>(0.03*len(quotation_test))]\n",
    "    \n",
    "    return filtered_sentence_df, count_capital_letter\n",
    "\n",
    "\n",
    " \n",
    "    "
   ]
  },
  {
   "cell_type": "code",
   "execution_count": 97,
   "id": "aa9fd252",
   "metadata": {},
   "outputs": [],
   "source": [
    "key_capital_words = []\n",
    "top_ten_days = quotes_date_occurence.index[:10].astype(str)\n",
    "for d in top_ten_days:\n",
    "    _, capital_words = capital_letter_keywords(quotes_2020, d)\n",
    "    key_capital_words.append(capital_words)\n"
   ]
  },
  {
   "cell_type": "markdown",
   "id": "d6859f9b",
   "metadata": {},
   "source": [
    " We show in the following dataframe, the most frequent keywords starting with a capital letter for the 10 days where quotations on climate change were predominant."
   ]
  },
  {
   "cell_type": "code",
   "execution_count": 102,
   "id": "2e8fc6d6",
   "metadata": {},
   "outputs": [
    {
     "data": {
      "text/html": [
       "<div>\n",
       "<style scoped>\n",
       "    .dataframe tbody tr th:only-of-type {\n",
       "        vertical-align: middle;\n",
       "    }\n",
       "\n",
       "    .dataframe tbody tr th {\n",
       "        vertical-align: top;\n",
       "    }\n",
       "\n",
       "    .dataframe thead th {\n",
       "        text-align: right;\n",
       "    }\n",
       "</style>\n",
       "<table border=\"1\" class=\"dataframe\">\n",
       "  <thead>\n",
       "    <tr style=\"text-align: right;\">\n",
       "      <th></th>\n",
       "      <th>Australia</th>\n",
       "      <th>BlackRock</th>\n",
       "      <th>Minister</th>\n",
       "      <th>Canada</th>\n",
       "      <th>UK</th>\n",
       "      <th>Government</th>\n",
       "      <th>Michaels</th>\n",
       "      <th>COP26</th>\n",
       "      <th>BP</th>\n",
       "      <th>Glasgow</th>\n",
       "      <th>Scottish</th>\n",
       "      <th>Britain</th>\n",
       "      <th>Greta</th>\n",
       "      <th>Trump</th>\n",
       "    </tr>\n",
       "    <tr>\n",
       "      <th>date</th>\n",
       "      <th></th>\n",
       "      <th></th>\n",
       "      <th></th>\n",
       "      <th></th>\n",
       "      <th></th>\n",
       "      <th></th>\n",
       "      <th></th>\n",
       "      <th></th>\n",
       "      <th></th>\n",
       "      <th></th>\n",
       "      <th></th>\n",
       "      <th></th>\n",
       "      <th></th>\n",
       "      <th></th>\n",
       "    </tr>\n",
       "  </thead>\n",
       "  <tbody>\n",
       "    <tr>\n",
       "      <th>2020-01-14</th>\n",
       "      <td>21.0</td>\n",
       "      <td>11.0</td>\n",
       "      <td>0.0</td>\n",
       "      <td>0.0</td>\n",
       "      <td>0.0</td>\n",
       "      <td>0.0</td>\n",
       "      <td>0.0</td>\n",
       "      <td>0.0</td>\n",
       "      <td>0.0</td>\n",
       "      <td>0.0</td>\n",
       "      <td>0.0</td>\n",
       "      <td>0.0</td>\n",
       "      <td>0.0</td>\n",
       "      <td>0.0</td>\n",
       "    </tr>\n",
       "    <tr>\n",
       "      <th>2020-01-15</th>\n",
       "      <td>13.0</td>\n",
       "      <td>7.0</td>\n",
       "      <td>0.0</td>\n",
       "      <td>0.0</td>\n",
       "      <td>0.0</td>\n",
       "      <td>0.0</td>\n",
       "      <td>0.0</td>\n",
       "      <td>0.0</td>\n",
       "      <td>0.0</td>\n",
       "      <td>0.0</td>\n",
       "      <td>0.0</td>\n",
       "      <td>0.0</td>\n",
       "      <td>0.0</td>\n",
       "      <td>0.0</td>\n",
       "    </tr>\n",
       "    <tr>\n",
       "      <th>2020-01-21</th>\n",
       "      <td>0.0</td>\n",
       "      <td>0.0</td>\n",
       "      <td>10.0</td>\n",
       "      <td>9.0</td>\n",
       "      <td>0.0</td>\n",
       "      <td>0.0</td>\n",
       "      <td>0.0</td>\n",
       "      <td>0.0</td>\n",
       "      <td>0.0</td>\n",
       "      <td>0.0</td>\n",
       "      <td>0.0</td>\n",
       "      <td>0.0</td>\n",
       "      <td>0.0</td>\n",
       "      <td>0.0</td>\n",
       "    </tr>\n",
       "    <tr>\n",
       "      <th>2020-02-06</th>\n",
       "      <td>0.0</td>\n",
       "      <td>0.0</td>\n",
       "      <td>0.0</td>\n",
       "      <td>0.0</td>\n",
       "      <td>14.0</td>\n",
       "      <td>8.0</td>\n",
       "      <td>0.0</td>\n",
       "      <td>0.0</td>\n",
       "      <td>0.0</td>\n",
       "      <td>0.0</td>\n",
       "      <td>0.0</td>\n",
       "      <td>0.0</td>\n",
       "      <td>0.0</td>\n",
       "      <td>0.0</td>\n",
       "    </tr>\n",
       "    <tr>\n",
       "      <th>2020-02-07</th>\n",
       "      <td>0.0</td>\n",
       "      <td>0.0</td>\n",
       "      <td>0.0</td>\n",
       "      <td>0.0</td>\n",
       "      <td>0.0</td>\n",
       "      <td>0.0</td>\n",
       "      <td>11.0</td>\n",
       "      <td>0.0</td>\n",
       "      <td>0.0</td>\n",
       "      <td>0.0</td>\n",
       "      <td>0.0</td>\n",
       "      <td>0.0</td>\n",
       "      <td>0.0</td>\n",
       "      <td>0.0</td>\n",
       "    </tr>\n",
       "    <tr>\n",
       "      <th>2020-01-22</th>\n",
       "      <td>0.0</td>\n",
       "      <td>0.0</td>\n",
       "      <td>0.0</td>\n",
       "      <td>0.0</td>\n",
       "      <td>0.0</td>\n",
       "      <td>0.0</td>\n",
       "      <td>0.0</td>\n",
       "      <td>0.0</td>\n",
       "      <td>0.0</td>\n",
       "      <td>0.0</td>\n",
       "      <td>0.0</td>\n",
       "      <td>0.0</td>\n",
       "      <td>0.0</td>\n",
       "      <td>0.0</td>\n",
       "    </tr>\n",
       "    <tr>\n",
       "      <th>2020-02-05</th>\n",
       "      <td>0.0</td>\n",
       "      <td>0.0</td>\n",
       "      <td>0.0</td>\n",
       "      <td>0.0</td>\n",
       "      <td>0.0</td>\n",
       "      <td>0.0</td>\n",
       "      <td>0.0</td>\n",
       "      <td>9.0</td>\n",
       "      <td>0.0</td>\n",
       "      <td>0.0</td>\n",
       "      <td>0.0</td>\n",
       "      <td>0.0</td>\n",
       "      <td>0.0</td>\n",
       "      <td>0.0</td>\n",
       "    </tr>\n",
       "    <tr>\n",
       "      <th>2020-02-12</th>\n",
       "      <td>0.0</td>\n",
       "      <td>0.0</td>\n",
       "      <td>0.0</td>\n",
       "      <td>0.0</td>\n",
       "      <td>14.0</td>\n",
       "      <td>8.0</td>\n",
       "      <td>0.0</td>\n",
       "      <td>12.0</td>\n",
       "      <td>8.0</td>\n",
       "      <td>8.0</td>\n",
       "      <td>7.0</td>\n",
       "      <td>0.0</td>\n",
       "      <td>0.0</td>\n",
       "      <td>0.0</td>\n",
       "    </tr>\n",
       "    <tr>\n",
       "      <th>2020-02-10</th>\n",
       "      <td>0.0</td>\n",
       "      <td>0.0</td>\n",
       "      <td>0.0</td>\n",
       "      <td>0.0</td>\n",
       "      <td>0.0</td>\n",
       "      <td>0.0</td>\n",
       "      <td>0.0</td>\n",
       "      <td>7.0</td>\n",
       "      <td>0.0</td>\n",
       "      <td>0.0</td>\n",
       "      <td>0.0</td>\n",
       "      <td>7.0</td>\n",
       "      <td>7.0</td>\n",
       "      <td>0.0</td>\n",
       "    </tr>\n",
       "    <tr>\n",
       "      <th>2020-01-23</th>\n",
       "      <td>0.0</td>\n",
       "      <td>0.0</td>\n",
       "      <td>0.0</td>\n",
       "      <td>0.0</td>\n",
       "      <td>0.0</td>\n",
       "      <td>0.0</td>\n",
       "      <td>0.0</td>\n",
       "      <td>0.0</td>\n",
       "      <td>0.0</td>\n",
       "      <td>0.0</td>\n",
       "      <td>0.0</td>\n",
       "      <td>0.0</td>\n",
       "      <td>0.0</td>\n",
       "      <td>7.0</td>\n",
       "    </tr>\n",
       "  </tbody>\n",
       "</table>\n",
       "</div>"
      ],
      "text/plain": [
       "            Australia  BlackRock  Minister  Canada    UK  Government  \\\n",
       "date                                                                   \n",
       "2020-01-14  21.0       11.0       0.0       0.0     0.0   0.0          \n",
       "2020-01-15  13.0       7.0        0.0       0.0     0.0   0.0          \n",
       "2020-01-21  0.0        0.0        10.0      9.0     0.0   0.0          \n",
       "2020-02-06  0.0        0.0        0.0       0.0     14.0  8.0          \n",
       "2020-02-07  0.0        0.0        0.0       0.0     0.0   0.0          \n",
       "2020-01-22  0.0        0.0        0.0       0.0     0.0   0.0          \n",
       "2020-02-05  0.0        0.0        0.0       0.0     0.0   0.0          \n",
       "2020-02-12  0.0        0.0        0.0       0.0     14.0  8.0          \n",
       "2020-02-10  0.0        0.0        0.0       0.0     0.0   0.0          \n",
       "2020-01-23  0.0        0.0        0.0       0.0     0.0   0.0          \n",
       "\n",
       "            Michaels  COP26   BP  Glasgow  Scottish  Britain  Greta  Trump  \n",
       "date                                                                        \n",
       "2020-01-14  0.0       0.0    0.0  0.0      0.0       0.0      0.0    0.0    \n",
       "2020-01-15  0.0       0.0    0.0  0.0      0.0       0.0      0.0    0.0    \n",
       "2020-01-21  0.0       0.0    0.0  0.0      0.0       0.0      0.0    0.0    \n",
       "2020-02-06  0.0       0.0    0.0  0.0      0.0       0.0      0.0    0.0    \n",
       "2020-02-07  11.0      0.0    0.0  0.0      0.0       0.0      0.0    0.0    \n",
       "2020-01-22  0.0       0.0    0.0  0.0      0.0       0.0      0.0    0.0    \n",
       "2020-02-05  0.0       9.0    0.0  0.0      0.0       0.0      0.0    0.0    \n",
       "2020-02-12  0.0       12.0   8.0  8.0      7.0       0.0      0.0    0.0    \n",
       "2020-02-10  0.0       7.0    0.0  0.0      0.0       7.0      7.0    0.0    \n",
       "2020-01-23  0.0       0.0    0.0  0.0      0.0       0.0      0.0    7.0    "
      ]
     },
     "execution_count": 102,
     "metadata": {},
     "output_type": "execute_result"
    }
   ],
   "source": [
    "top_ten_day_key_words_capital = pd.DataFrame(key_capital_words, index = quotes_date_occurence.index[:10]).fillna(0)\n",
    "top_ten_day_key_words_capital"
   ]
  },
  {
   "cell_type": "markdown",
   "id": "0f9d0cd7",
   "metadata": {},
   "source": [
    "Next we look at the frequency of all words."
   ]
  },
  {
   "cell_type": "code",
   "execution_count": 103,
   "id": "ea347ba1",
   "metadata": {},
   "outputs": [],
   "source": [
    "def all_keywords(quotes_2020, date_choice) :\n",
    "    quotation_test= quotes_2020[quotes_2020['date'].astype(str)== date_choice].quotation\n",
    "    flat_list = [sublist[i] for sublist in quotation_test.str.split() for i in range(len(sublist)) ]\n",
    "    \n",
    "    \n",
    "    total_quotation = \" \".join(flat_list)\n",
    "    \n",
    "    stop_words = set(stopwords.words('english'))\n",
    "    stop_words.add('climate')\n",
    "    stop_words.add('Climate')\n",
    "    stop_words.add('change')\n",
    "    stop_words.add('warming')\n",
    "    stop_words.add('environmental')\n",
    "    stop_words.add('threat')\n",
    "    stop_words.add('emergency ')\n",
    "    stop_words.add('global')\n",
    "    stop_words.add('world') \n",
    "    word_tokens = word_tokenize(total_quotation)\n",
    "    filtered_sentence = [w for w in word_tokens if not w.lower() in stop_words]\n",
    "    filtered_sentence_join = \" \".join(filtered_sentence)\n",
    "    filtered_sentence_df = pd.Series(filtered_sentence)\n",
    "    filtered_sentence_df = filtered_sentence_df[filtered_sentence_df.apply(lambda x : len(x)>3)]\n",
    "    count_words =filtered_sentence_df.value_counts()\n",
    "    count_words = count_words[count_words>(0.05*len(quotation_test))]\n",
    "    \n",
    "    return filtered_sentence_df, count_words\n"
   ]
  },
  {
   "cell_type": "markdown",
   "id": "974d3a9b",
   "metadata": {},
   "source": [
    " This time, we show in the following dataframe, the most frequent keywords for the 10 days where quotations on climate change were predominant."
   ]
  },
  {
   "cell_type": "code",
   "execution_count": 100,
   "id": "7d858d22",
   "metadata": {},
   "outputs": [],
   "source": [
    "keywords = []\n",
    "top_ten_days = quotes_date_occurence.index[:10].astype(str)\n",
    "for d in top_ten_days:\n",
    "    _, words = all_keywords(quotes_2020, d)\n",
    "    keywords.append(words)"
   ]
  },
  {
   "cell_type": "code",
   "execution_count": 104,
   "id": "338957a7",
   "metadata": {
    "scrolled": true
   },
   "outputs": [
    {
     "data": {
      "text/html": [
       "<div>\n",
       "<style scoped>\n",
       "    .dataframe tbody tr th:only-of-type {\n",
       "        vertical-align: middle;\n",
       "    }\n",
       "\n",
       "    .dataframe tbody tr th {\n",
       "        vertical-align: top;\n",
       "    }\n",
       "\n",
       "    .dataframe thead th {\n",
       "        text-align: right;\n",
       "    }\n",
       "</style>\n",
       "<table border=\"1\" class=\"dataframe\">\n",
       "  <thead>\n",
       "    <tr style=\"text-align: right;\">\n",
       "      <th></th>\n",
       "      <th>people</th>\n",
       "      <th>Australia</th>\n",
       "      <th>need</th>\n",
       "      <th>around</th>\n",
       "      <th>fire</th>\n",
       "      <th>impacts</th>\n",
       "      <th>country</th>\n",
       "      <th>much</th>\n",
       "      <th>economy</th>\n",
       "      <th>address</th>\n",
       "      <th>...</th>\n",
       "      <th>communities</th>\n",
       "      <th>COP26</th>\n",
       "      <th>already</th>\n",
       "      <th>life</th>\n",
       "      <th>health</th>\n",
       "      <th>would</th>\n",
       "      <th>year</th>\n",
       "      <th>nuclear</th>\n",
       "      <th>state</th>\n",
       "      <th>political</th>\n",
       "    </tr>\n",
       "    <tr>\n",
       "      <th>date</th>\n",
       "      <th></th>\n",
       "      <th></th>\n",
       "      <th></th>\n",
       "      <th></th>\n",
       "      <th></th>\n",
       "      <th></th>\n",
       "      <th></th>\n",
       "      <th></th>\n",
       "      <th></th>\n",
       "      <th></th>\n",
       "      <th></th>\n",
       "      <th></th>\n",
       "      <th></th>\n",
       "      <th></th>\n",
       "      <th></th>\n",
       "      <th></th>\n",
       "      <th></th>\n",
       "      <th></th>\n",
       "      <th></th>\n",
       "      <th></th>\n",
       "      <th></th>\n",
       "    </tr>\n",
       "  </thead>\n",
       "  <tbody>\n",
       "    <tr>\n",
       "      <th>2020-01-14</th>\n",
       "      <td>26.0</td>\n",
       "      <td>21.0</td>\n",
       "      <td>17.0</td>\n",
       "      <td>16.0</td>\n",
       "      <td>15.0</td>\n",
       "      <td>15.0</td>\n",
       "      <td>14.0</td>\n",
       "      <td>14.0</td>\n",
       "      <td>13.0</td>\n",
       "      <td>13.0</td>\n",
       "      <td>...</td>\n",
       "      <td>0.0</td>\n",
       "      <td>0.0</td>\n",
       "      <td>0.0</td>\n",
       "      <td>0.0</td>\n",
       "      <td>0.0</td>\n",
       "      <td>0.0</td>\n",
       "      <td>0.0</td>\n",
       "      <td>0.0</td>\n",
       "      <td>0.0</td>\n",
       "      <td>0.0</td>\n",
       "    </tr>\n",
       "    <tr>\n",
       "      <th>2020-01-15</th>\n",
       "      <td>21.0</td>\n",
       "      <td>13.0</td>\n",
       "      <td>14.0</td>\n",
       "      <td>12.0</td>\n",
       "      <td>0.0</td>\n",
       "      <td>0.0</td>\n",
       "      <td>0.0</td>\n",
       "      <td>0.0</td>\n",
       "      <td>0.0</td>\n",
       "      <td>15.0</td>\n",
       "      <td>...</td>\n",
       "      <td>0.0</td>\n",
       "      <td>0.0</td>\n",
       "      <td>0.0</td>\n",
       "      <td>0.0</td>\n",
       "      <td>0.0</td>\n",
       "      <td>0.0</td>\n",
       "      <td>0.0</td>\n",
       "      <td>0.0</td>\n",
       "      <td>0.0</td>\n",
       "      <td>0.0</td>\n",
       "    </tr>\n",
       "    <tr>\n",
       "      <th>2020-01-21</th>\n",
       "      <td>22.0</td>\n",
       "      <td>0.0</td>\n",
       "      <td>17.0</td>\n",
       "      <td>0.0</td>\n",
       "      <td>0.0</td>\n",
       "      <td>0.0</td>\n",
       "      <td>0.0</td>\n",
       "      <td>0.0</td>\n",
       "      <td>0.0</td>\n",
       "      <td>0.0</td>\n",
       "      <td>...</td>\n",
       "      <td>0.0</td>\n",
       "      <td>0.0</td>\n",
       "      <td>0.0</td>\n",
       "      <td>0.0</td>\n",
       "      <td>0.0</td>\n",
       "      <td>0.0</td>\n",
       "      <td>0.0</td>\n",
       "      <td>0.0</td>\n",
       "      <td>0.0</td>\n",
       "      <td>0.0</td>\n",
       "    </tr>\n",
       "    <tr>\n",
       "      <th>2020-02-06</th>\n",
       "      <td>15.0</td>\n",
       "      <td>0.0</td>\n",
       "      <td>20.0</td>\n",
       "      <td>0.0</td>\n",
       "      <td>0.0</td>\n",
       "      <td>0.0</td>\n",
       "      <td>0.0</td>\n",
       "      <td>0.0</td>\n",
       "      <td>0.0</td>\n",
       "      <td>0.0</td>\n",
       "      <td>...</td>\n",
       "      <td>0.0</td>\n",
       "      <td>0.0</td>\n",
       "      <td>0.0</td>\n",
       "      <td>0.0</td>\n",
       "      <td>0.0</td>\n",
       "      <td>0.0</td>\n",
       "      <td>0.0</td>\n",
       "      <td>0.0</td>\n",
       "      <td>0.0</td>\n",
       "      <td>0.0</td>\n",
       "    </tr>\n",
       "    <tr>\n",
       "      <th>2020-02-07</th>\n",
       "      <td>19.0</td>\n",
       "      <td>0.0</td>\n",
       "      <td>0.0</td>\n",
       "      <td>0.0</td>\n",
       "      <td>0.0</td>\n",
       "      <td>0.0</td>\n",
       "      <td>0.0</td>\n",
       "      <td>0.0</td>\n",
       "      <td>0.0</td>\n",
       "      <td>0.0</td>\n",
       "      <td>...</td>\n",
       "      <td>0.0</td>\n",
       "      <td>0.0</td>\n",
       "      <td>0.0</td>\n",
       "      <td>0.0</td>\n",
       "      <td>0.0</td>\n",
       "      <td>0.0</td>\n",
       "      <td>0.0</td>\n",
       "      <td>0.0</td>\n",
       "      <td>0.0</td>\n",
       "      <td>0.0</td>\n",
       "    </tr>\n",
       "    <tr>\n",
       "      <th>2020-01-22</th>\n",
       "      <td>21.0</td>\n",
       "      <td>0.0</td>\n",
       "      <td>11.0</td>\n",
       "      <td>0.0</td>\n",
       "      <td>0.0</td>\n",
       "      <td>0.0</td>\n",
       "      <td>0.0</td>\n",
       "      <td>0.0</td>\n",
       "      <td>0.0</td>\n",
       "      <td>0.0</td>\n",
       "      <td>...</td>\n",
       "      <td>0.0</td>\n",
       "      <td>0.0</td>\n",
       "      <td>0.0</td>\n",
       "      <td>0.0</td>\n",
       "      <td>0.0</td>\n",
       "      <td>0.0</td>\n",
       "      <td>0.0</td>\n",
       "      <td>0.0</td>\n",
       "      <td>0.0</td>\n",
       "      <td>0.0</td>\n",
       "    </tr>\n",
       "    <tr>\n",
       "      <th>2020-02-05</th>\n",
       "      <td>18.0</td>\n",
       "      <td>0.0</td>\n",
       "      <td>17.0</td>\n",
       "      <td>0.0</td>\n",
       "      <td>0.0</td>\n",
       "      <td>0.0</td>\n",
       "      <td>0.0</td>\n",
       "      <td>0.0</td>\n",
       "      <td>0.0</td>\n",
       "      <td>0.0</td>\n",
       "      <td>...</td>\n",
       "      <td>0.0</td>\n",
       "      <td>0.0</td>\n",
       "      <td>0.0</td>\n",
       "      <td>0.0</td>\n",
       "      <td>0.0</td>\n",
       "      <td>0.0</td>\n",
       "      <td>0.0</td>\n",
       "      <td>0.0</td>\n",
       "      <td>0.0</td>\n",
       "      <td>0.0</td>\n",
       "    </tr>\n",
       "    <tr>\n",
       "      <th>2020-02-12</th>\n",
       "      <td>18.0</td>\n",
       "      <td>0.0</td>\n",
       "      <td>33.0</td>\n",
       "      <td>0.0</td>\n",
       "      <td>0.0</td>\n",
       "      <td>0.0</td>\n",
       "      <td>11.0</td>\n",
       "      <td>0.0</td>\n",
       "      <td>0.0</td>\n",
       "      <td>11.0</td>\n",
       "      <td>...</td>\n",
       "      <td>12.0</td>\n",
       "      <td>12.0</td>\n",
       "      <td>11.0</td>\n",
       "      <td>11.0</td>\n",
       "      <td>11.0</td>\n",
       "      <td>0.0</td>\n",
       "      <td>0.0</td>\n",
       "      <td>0.0</td>\n",
       "      <td>0.0</td>\n",
       "      <td>0.0</td>\n",
       "    </tr>\n",
       "    <tr>\n",
       "      <th>2020-02-10</th>\n",
       "      <td>26.0</td>\n",
       "      <td>0.0</td>\n",
       "      <td>29.0</td>\n",
       "      <td>0.0</td>\n",
       "      <td>0.0</td>\n",
       "      <td>0.0</td>\n",
       "      <td>0.0</td>\n",
       "      <td>0.0</td>\n",
       "      <td>0.0</td>\n",
       "      <td>0.0</td>\n",
       "      <td>...</td>\n",
       "      <td>0.0</td>\n",
       "      <td>0.0</td>\n",
       "      <td>0.0</td>\n",
       "      <td>0.0</td>\n",
       "      <td>0.0</td>\n",
       "      <td>17.0</td>\n",
       "      <td>11.0</td>\n",
       "      <td>0.0</td>\n",
       "      <td>0.0</td>\n",
       "      <td>0.0</td>\n",
       "    </tr>\n",
       "    <tr>\n",
       "      <th>2020-01-23</th>\n",
       "      <td>0.0</td>\n",
       "      <td>0.0</td>\n",
       "      <td>20.0</td>\n",
       "      <td>0.0</td>\n",
       "      <td>0.0</td>\n",
       "      <td>0.0</td>\n",
       "      <td>0.0</td>\n",
       "      <td>0.0</td>\n",
       "      <td>0.0</td>\n",
       "      <td>0.0</td>\n",
       "      <td>...</td>\n",
       "      <td>0.0</td>\n",
       "      <td>0.0</td>\n",
       "      <td>0.0</td>\n",
       "      <td>0.0</td>\n",
       "      <td>0.0</td>\n",
       "      <td>14.0</td>\n",
       "      <td>13.0</td>\n",
       "      <td>19.0</td>\n",
       "      <td>12.0</td>\n",
       "      <td>10.0</td>\n",
       "    </tr>\n",
       "  </tbody>\n",
       "</table>\n",
       "<p>10 rows × 58 columns</p>\n",
       "</div>"
      ],
      "text/plain": [
       "            people  Australia  need  around  fire  impacts  country  much  \\\n",
       "date                                                                        \n",
       "2020-01-14  26.0    21.0       17.0  16.0    15.0  15.0     14.0     14.0   \n",
       "2020-01-15  21.0    13.0       14.0  12.0    0.0   0.0      0.0      0.0    \n",
       "2020-01-21  22.0    0.0        17.0  0.0     0.0   0.0      0.0      0.0    \n",
       "2020-02-06  15.0    0.0        20.0  0.0     0.0   0.0      0.0      0.0    \n",
       "2020-02-07  19.0    0.0        0.0   0.0     0.0   0.0      0.0      0.0    \n",
       "2020-01-22  21.0    0.0        11.0  0.0     0.0   0.0      0.0      0.0    \n",
       "2020-02-05  18.0    0.0        17.0  0.0     0.0   0.0      0.0      0.0    \n",
       "2020-02-12  18.0    0.0        33.0  0.0     0.0   0.0      11.0     0.0    \n",
       "2020-02-10  26.0    0.0        29.0  0.0     0.0   0.0      0.0      0.0    \n",
       "2020-01-23  0.0     0.0        20.0  0.0     0.0   0.0      0.0      0.0    \n",
       "\n",
       "            economy  address  ...  communities  COP26  already  life  health  \\\n",
       "date                          ...                                              \n",
       "2020-01-14  13.0     13.0     ...  0.0          0.0    0.0      0.0   0.0      \n",
       "2020-01-15  0.0      15.0     ...  0.0          0.0    0.0      0.0   0.0      \n",
       "2020-01-21  0.0      0.0      ...  0.0          0.0    0.0      0.0   0.0      \n",
       "2020-02-06  0.0      0.0      ...  0.0          0.0    0.0      0.0   0.0      \n",
       "2020-02-07  0.0      0.0      ...  0.0          0.0    0.0      0.0   0.0      \n",
       "2020-01-22  0.0      0.0      ...  0.0          0.0    0.0      0.0   0.0      \n",
       "2020-02-05  0.0      0.0      ...  0.0          0.0    0.0      0.0   0.0      \n",
       "2020-02-12  0.0      11.0     ...  12.0         12.0   11.0     11.0  11.0     \n",
       "2020-02-10  0.0      0.0      ...  0.0          0.0    0.0      0.0   0.0      \n",
       "2020-01-23  0.0      0.0      ...  0.0          0.0    0.0      0.0   0.0      \n",
       "\n",
       "            would  year  nuclear  state  political  \n",
       "date                                                \n",
       "2020-01-14  0.0    0.0   0.0      0.0    0.0        \n",
       "2020-01-15  0.0    0.0   0.0      0.0    0.0        \n",
       "2020-01-21  0.0    0.0   0.0      0.0    0.0        \n",
       "2020-02-06  0.0    0.0   0.0      0.0    0.0        \n",
       "2020-02-07  0.0    0.0   0.0      0.0    0.0        \n",
       "2020-01-22  0.0    0.0   0.0      0.0    0.0        \n",
       "2020-02-05  0.0    0.0   0.0      0.0    0.0        \n",
       "2020-02-12  0.0    0.0   0.0      0.0    0.0        \n",
       "2020-02-10  17.0   11.0  0.0      0.0    0.0        \n",
       "2020-01-23  14.0   13.0  19.0     12.0   10.0       \n",
       "\n",
       "[10 rows x 58 columns]"
      ]
     },
     "execution_count": 104,
     "metadata": {},
     "output_type": "execute_result"
    }
   ],
   "source": [
    "top_ten_day_keywords = pd.DataFrame(keywords, index = quotes_date_occurence.index[:10]).fillna(0)\n",
    "top_ten_day_keywords"
   ]
  },
  {
   "cell_type": "markdown",
   "id": "a39e8285",
   "metadata": {},
   "source": [
    "From the different results, we see that \"Australia\" and \"fire\" are amidst the most frequent words\n",
    "on the 14th of January.\n",
    "\n",
    "This indicates that the event that \"boosted\" the number of quotes about the climate during this time is probably the big australian wildfires that began at the end of 2019. We should explore this option now.\n"
   ]
  },
  {
   "cell_type": "markdown",
   "id": "ed1fd242",
   "metadata": {},
   "source": [
    "##  We therefore explore what happened on the 14th of  january..."
   ]
  },
  {
   "cell_type": "markdown",
   "id": "edf17670",
   "metadata": {},
   "source": [
    "The most important peak occured on the 14th of January. \n",
    "\n",
    "We will then, try to determine if a particular event occured."
   ]
  },
  {
   "cell_type": "code",
   "execution_count": 106,
   "id": "6824af73",
   "metadata": {},
   "outputs": [],
   "source": [
    "filtered_sentence_df_australia,count_capital_keywords_australia =  capital_letter_keywords(\n",
    "    quotes_2020, '2020-01-14')\n",
    "_,count_keywords_australia = all_keywords(quotes_2020, '2020-01-14' )\n"
   ]
  },
  {
   "cell_type": "code",
   "execution_count": 93,
   "id": "b00b9819",
   "metadata": {},
   "outputs": [
    {
     "data": {
      "text/plain": [
       "Australia    21\n",
       "BlackRock    11\n",
       "dtype: int64"
      ]
     },
     "execution_count": 93,
     "metadata": {},
     "output_type": "execute_result"
    }
   ],
   "source": [
    "count_capital_keywords_australia"
   ]
  },
  {
   "cell_type": "code",
   "execution_count": 95,
   "id": "386083d9",
   "metadata": {},
   "outputs": [
    {
     "data": {
      "text/plain": [
       "people       26\n",
       "Australia    21\n",
       "need         17\n",
       "around       16\n",
       "fire         15\n",
       "impacts      15\n",
       "country      14\n",
       "much         14\n",
       "economy      13\n",
       "address      13\n",
       "emergency    13\n",
       "energy       13\n",
       "dtype: int64"
      ]
     },
     "execution_count": 95,
     "metadata": {},
     "output_type": "execute_result"
    }
   ],
   "source": [
    "count_keywords_australia "
   ]
  },
  {
   "cell_type": "markdown",
   "id": "23e1304d",
   "metadata": {},
   "source": [
    "From these previous results, evidences accumulate on the nature of this peak. In order to validate it with a manual manipulation, we try to look for the word \"bushfire\" on this date here below. We observe 14 occurences. This is way too specific to be a coincidence."
   ]
  },
  {
   "cell_type": "code",
   "execution_count": 96,
   "id": "7306d84a",
   "metadata": {},
   "outputs": [
    {
     "data": {
      "text/plain": [
       "14"
      ]
     },
     "execution_count": 96,
     "metadata": {},
     "output_type": "execute_result"
    }
   ],
   "source": [
    "filtered_sentence_df_australia.str.contains('bushfire').sum()"
   ]
  },
  {
   "cell_type": "markdown",
   "id": "fbbe11a9",
   "metadata": {},
   "source": [
    "This link from this precise period validates our expectation : https://edition.cnn.com/2020/01/01/australia/australia-fires-explainer-intl-hnk-scli/index.html"
   ]
  }
 ],
 "metadata": {
  "kernelspec": {
   "display_name": "Python 3",
   "language": "python",
   "name": "python3"
  },
  "language_info": {
   "codemirror_mode": {
    "name": "ipython",
    "version": 3
   },
   "file_extension": ".py",
   "mimetype": "text/x-python",
   "name": "python",
   "nbconvert_exporter": "python",
   "pygments_lexer": "ipython3",
   "version": "3.9.5"
  }
 },
 "nbformat": 4,
 "nbformat_minor": 5
}
