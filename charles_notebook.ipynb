{
  "cells": [
    {
      "cell_type": "markdown",
      "metadata": {
        "id": "o7ABC84LWnTT"
      },
      "source": [
        "# Different imports and setup"
      ]
    },
    {
      "cell_type": "code",
      "execution_count": 1,
      "metadata": {
        "id": "mctOUaD1XKzf"
      },
      "outputs": [],
      "source": [
        "# Different libraries import\n",
        "import pandas as pd\n",
        "from datetime import datetime\n",
        "import bz2\n",
        "import json\n",
        "from tqdm.notebook import tqdm"
      ]
    },
    {
      "cell_type": "markdown",
      "metadata": {
        "id": "AEU0iRykWj1n"
      },
      "source": [
        "# Tutorial "
      ]
    },
    {
      "cell_type": "markdown",
      "metadata": {
        "id": "cKUy29h68N0J"
      },
      "source": [
        "## Extracting the domain names\n",
        "\n",
        "This is an example on how to extract domain names from a sample. To do that, we can use *tld* library. To install it:"
      ]
    },
    {
      "cell_type": "markdown",
      "metadata": {
        "id": "DK4YmTdA9wmY"
      },
      "source": [
        "Following function then gives domain name. It takes as an argument an URL and returns the domain name:"
      ]
    },
    {
      "cell_type": "code",
      "execution_count": 2,
      "metadata": {
        "id": "IdhreeYc8XEX"
      },
      "outputs": [],
      "source": [
        "from tld import get_tld\n",
        "\n",
        "def get_domain(url):\n",
        "    res = get_tld(url, as_object=True)\n",
        "    return res.tld\n"
      ]
    },
    {
      "cell_type": "markdown",
      "metadata": {
        "id": "2V67aCknDjgY"
      },
      "source": [
        "Now we will have to read the data. Each sample has property 'urls' which contains a list of links to the original articles containing the quotation. We will extract domain names for these links. Then, we will save a new file that contains samples with extracted domains. The new file will be saved in local storage in Colab but you can change path_to_out variable (optionally) if you want to save it directly to the drive. To generate a new file, run this cell:"
      ]
    },
    {
      "cell_type": "markdown",
      "metadata": {
        "id": "0vOPobprkF2h"
      },
      "source": [
        "It should take around 25min for this cell to finish running and you will be able to see a file (*quotes-2020-domains.json.bz2*) in the file explorer on the left side once it is done.\n",
        "\n",
        "You are all set, good luck! :)"
      ]
    },
    {
      "cell_type": "markdown",
      "metadata": {
        "id": "pBf_Hjz0RfmK"
      },
      "source": [
        "# Milestone 1\n",
        "\n",
        "\n"
      ]
    },
    {
      "cell_type": "markdown",
      "metadata": {
        "id": "uGTGEnFDVYkx"
      },
      "source": [
        "## Project description"
      ]
    },
    {
      "cell_type": "markdown",
      "metadata": {
        "id": "2L-_mAv9RMAC"
      },
      "source": [
        "First, one could try to associate a certain type of quote to the day(and even date) of the article. We do not have any pre-established pattern, but one could try to find one if any exists. Maybe there is a link between the nature of the quotation (political, good news/bad news, humoristic quote, and so on) and the day of the article. This can also be done with the consideration of historical event on the date of the publication. For example, there might be less joyful quotes in days during which tragic events happened."
      ]
    },
    {
      "cell_type": "markdown",
      "metadata": {
        "id": "5Ty5_qXLVqAk"
      },
      "source": [
        "## Code"
      ]
    },
    {
      "cell_type": "markdown",
      "metadata": {
        "id": "7P3g9GobcyYQ"
      },
      "source": [
        "### Functions"
      ]
    },
    {
      "cell_type": "code",
      "execution_count": 3,
      "metadata": {
        "id": "JEjr1RicVLxi"
      },
      "outputs": [],
      "source": [
        "def retrieve_day(Date):\n",
        "  \"\"\" Retrieve the day from a date with format 'YYYY-MM-DD hh:mm:ss' where Y is years, M months, D day, h hours,\n",
        "      m minut and s seconds \n",
        "      Needs the following import :\n",
        "      from datetime import datetime\n",
        "      \"\"\"\n",
        "\n",
        "  try:                        \n",
        "    date = datetime.strptime(Date, '%Y-%m-%d %H:%M:%S') # Convert to a datetime object and check that the format is correct and the numbers are valid\n",
        "  except ValueError:\n",
        "    raise ValueError('The string \\'' + Date + '\\' does not match the format \\'YYYY-MM-DD hh:mm:ss\\'') from None # Customize the error message\n",
        "\n",
        "  if (date.year not in [2015, 2016, 2017, 2018, 2019, 2020]): # Check that the year is in the correct interval and that we do not have wrong data\n",
        "    raise ValueError(f'The year {date.year} that you provided is not between 2015 and 2020 (inclusive).')\n",
        "\n",
        "  weekday = datetime.isoweekday(date) # Obtain the weekday from 1 (monday) to 7 (sunday)\n",
        "\n",
        "  # There are no switch/case statement in Python <= 3.10...\n",
        "  if (weekday == 1):\n",
        "    return 'Monday'\n",
        "  elif (weekday == 2):\n",
        "    return 'Tuesday'\n",
        "  elif (weekday == 3):\n",
        "    return 'Wednesday'\n",
        "  elif (weekday == 4):\n",
        "    return 'Thursday'\n",
        "  elif (weekday == 5):\n",
        "    return 'Friday'\n",
        "  elif (weekday == 6):\n",
        "    return 'Saturday'\n",
        "  else:\n",
        "    return 'Sunday'"
      ]
    },
    {
      "cell_type": "code",
      "execution_count": 4,
      "metadata": {
        "id": "gPQwJcIfXxWP"
      },
      "outputs": [],
      "source": [
        "def create_frame(filename, N):\n",
        "  \"\"\" Creates a DataFrame with the N first rows of the file with filename \n",
        "      It is useful to load small portions and test things.            \"\"\"\n",
        "  list_of_dicts = []\n",
        "  with bz2.open(filename, 'rb') as s_file:\n",
        "      for i, instance in enumerate(s_file):\n",
        "        if (i>N-1):\n",
        "            break\n",
        "        instance = json.loads(instance) # loading a sample\n",
        "        list_of_dicts.append(instance)\n",
        "      \n",
        "  return pd.DataFrame(list_of_dicts)\n",
        "        "
      ]
    },
    {
      "cell_type": "markdown",
      "metadata": {
        "id": "UxoFGb3Pc9MV"
      },
      "source": [
        "### Main code"
      ]
    },
    {
      "cell_type": "code",
      "execution_count": 5,
      "metadata": {
        "id": "GwpDEXswXyLV"
      },
      "outputs": [],
      "source": [
        "filename = 'quotes-2020.json.bz2' \n",
        "df = create_frame(filename, 100)"
      ]
    },
    {
      "cell_type": "code",
      "execution_count": 6,
      "metadata": {
        "colab": {
          "base_uri": "https://localhost:8080/",
          "height": 289
        },
        "id": "UPZx7VqqdDUR",
        "outputId": "3369434f-489a-4bd1-b9c8-6b50f13ec2c1"
      },
      "outputs": [
        {
          "data": {
            "text/html": [
              "<div>\n",
              "<style scoped>\n",
              "    .dataframe tbody tr th:only-of-type {\n",
              "        vertical-align: middle;\n",
              "    }\n",
              "\n",
              "    .dataframe tbody tr th {\n",
              "        vertical-align: top;\n",
              "    }\n",
              "\n",
              "    .dataframe thead th {\n",
              "        text-align: right;\n",
              "    }\n",
              "</style>\n",
              "<table border=\"1\" class=\"dataframe\">\n",
              "  <thead>\n",
              "    <tr style=\"text-align: right;\">\n",
              "      <th></th>\n",
              "      <th>quoteID</th>\n",
              "      <th>quotation</th>\n",
              "      <th>speaker</th>\n",
              "      <th>qids</th>\n",
              "      <th>date</th>\n",
              "      <th>numOccurrences</th>\n",
              "      <th>probas</th>\n",
              "      <th>urls</th>\n",
              "      <th>phase</th>\n",
              "    </tr>\n",
              "  </thead>\n",
              "  <tbody>\n",
              "    <tr>\n",
              "      <th>0</th>\n",
              "      <td>2020-01-28-000082</td>\n",
              "      <td>[ D ] espite the efforts of the partners to cr...</td>\n",
              "      <td>None</td>\n",
              "      <td>[]</td>\n",
              "      <td>2020-01-28 08:04:05</td>\n",
              "      <td>1</td>\n",
              "      <td>[[None, 0.7272], [Prime Minister Netanyahu, 0....</td>\n",
              "      <td>[http://israelnationalnews.com/News/News.aspx/...</td>\n",
              "      <td>E</td>\n",
              "    </tr>\n",
              "    <tr>\n",
              "      <th>1</th>\n",
              "      <td>2020-01-16-000088</td>\n",
              "      <td>[ Department of Homeland Security ] was livid ...</td>\n",
              "      <td>Sue Myrick</td>\n",
              "      <td>[Q367796]</td>\n",
              "      <td>2020-01-16 12:00:13</td>\n",
              "      <td>1</td>\n",
              "      <td>[[Sue Myrick, 0.8867], [None, 0.0992], [Ron Wy...</td>\n",
              "      <td>[http://thehill.com/opinion/international/4782...</td>\n",
              "      <td>E</td>\n",
              "    </tr>\n",
              "    <tr>\n",
              "      <th>2</th>\n",
              "      <td>2020-02-10-000142</td>\n",
              "      <td>... He (Madhav) also disclosed that the illega...</td>\n",
              "      <td>None</td>\n",
              "      <td>[]</td>\n",
              "      <td>2020-02-10 23:45:54</td>\n",
              "      <td>1</td>\n",
              "      <td>[[None, 0.8926], [Prakash Rai, 0.1074]]</td>\n",
              "      <td>[https://indianexpress.com/article/business/ec...</td>\n",
              "      <td>E</td>\n",
              "    </tr>\n",
              "    <tr>\n",
              "      <th>3</th>\n",
              "      <td>2020-02-15-000053</td>\n",
              "      <td>... [ I ] f it gets to the floor,</td>\n",
              "      <td>None</td>\n",
              "      <td>[]</td>\n",
              "      <td>2020-02-15 14:12:51</td>\n",
              "      <td>2</td>\n",
              "      <td>[[None, 0.581], [Andy Harris, 0.4191]]</td>\n",
              "      <td>[https://patriotpost.us/opinion/68622-trump-bu...</td>\n",
              "      <td>E</td>\n",
              "    </tr>\n",
              "    <tr>\n",
              "      <th>4</th>\n",
              "      <td>2020-01-24-000168</td>\n",
              "      <td>[ I met them ] when they just turned 4 and 7. ...</td>\n",
              "      <td>Meghan King Edmonds</td>\n",
              "      <td>[Q20684375]</td>\n",
              "      <td>2020-01-24 20:37:09</td>\n",
              "      <td>4</td>\n",
              "      <td>[[Meghan King Edmonds, 0.5446], [None, 0.2705]...</td>\n",
              "      <td>[https://people.com/parents/meghan-king-edmond...</td>\n",
              "      <td>E</td>\n",
              "    </tr>\n",
              "  </tbody>\n",
              "</table>\n",
              "</div>"
            ],
            "text/plain": [
              "             quoteID                                          quotation  \\\n",
              "0  2020-01-28-000082  [ D ] espite the efforts of the partners to cr...   \n",
              "1  2020-01-16-000088  [ Department of Homeland Security ] was livid ...   \n",
              "2  2020-02-10-000142  ... He (Madhav) also disclosed that the illega...   \n",
              "3  2020-02-15-000053                  ... [ I ] f it gets to the floor,   \n",
              "4  2020-01-24-000168  [ I met them ] when they just turned 4 and 7. ...   \n",
              "\n",
              "               speaker         qids                 date  numOccurrences  \\\n",
              "0                 None           []  2020-01-28 08:04:05               1   \n",
              "1           Sue Myrick    [Q367796]  2020-01-16 12:00:13               1   \n",
              "2                 None           []  2020-02-10 23:45:54               1   \n",
              "3                 None           []  2020-02-15 14:12:51               2   \n",
              "4  Meghan King Edmonds  [Q20684375]  2020-01-24 20:37:09               4   \n",
              "\n",
              "                                              probas  \\\n",
              "0  [[None, 0.7272], [Prime Minister Netanyahu, 0....   \n",
              "1  [[Sue Myrick, 0.8867], [None, 0.0992], [Ron Wy...   \n",
              "2            [[None, 0.8926], [Prakash Rai, 0.1074]]   \n",
              "3             [[None, 0.581], [Andy Harris, 0.4191]]   \n",
              "4  [[Meghan King Edmonds, 0.5446], [None, 0.2705]...   \n",
              "\n",
              "                                                urls phase  \n",
              "0  [http://israelnationalnews.com/News/News.aspx/...     E  \n",
              "1  [http://thehill.com/opinion/international/4782...     E  \n",
              "2  [https://indianexpress.com/article/business/ec...     E  \n",
              "3  [https://patriotpost.us/opinion/68622-trump-bu...     E  \n",
              "4  [https://people.com/parents/meghan-king-edmond...     E  "
            ]
          },
          "execution_count": 6,
          "metadata": {},
          "output_type": "execute_result"
        }
      ],
      "source": [
        "df.head()"
      ]
    },
    {
      "cell_type": "code",
      "execution_count": 7,
      "metadata": {
        "colab": {
          "base_uri": "https://localhost:8080/"
        },
        "id": "jRLjWFibRuQ1",
        "outputId": "5332a0e8-72ac-4a94-f51d-007f3b953fd3"
      },
      "outputs": [
        {
          "name": "stdout",
          "output_type": "stream",
          "text": [
            "Monday\n"
          ]
        }
      ],
      "source": [
        "a = retrieve_day(df.loc[2, 'date'])\n",
        "print(a)"
      ]
    },
    {
      "cell_type": "code",
      "execution_count": 10,
      "metadata": {},
      "outputs": [
        {
          "name": "stderr",
          "output_type": "stream",
          "text": [
            "[nltk_data] Downloading package vader_lexicon to\n",
            "[nltk_data]     /home/main/nltk_data...\n"
          ]
        },
        {
          "data": {
            "text/plain": [
              "True"
            ]
          },
          "execution_count": 10,
          "metadata": {},
          "output_type": "execute_result"
        }
      ],
      "source": [
        "import nltk\n",
        "nltk.download('vader_lexicon')"
      ]
    },
    {
      "cell_type": "code",
      "execution_count": 11,
      "metadata": {},
      "outputs": [],
      "source": [
        "from nltk.sentiment.vader import SentimentIntensityAnalyzer\n",
        "analyzer = SentimentIntensityAnalyzer()"
      ]
    },
    {
      "cell_type": "code",
      "execution_count": 17,
      "metadata": {},
      "outputs": [
        {
          "data": {
            "text/plain": [
              "{'neg': 0.0, 'neu': 0.768, 'pos': 0.232, 'compound': 0.872}"
            ]
          },
          "execution_count": 17,
          "metadata": {},
          "output_type": "execute_result"
        }
      ],
      "source": [
        "analyzer.polarity_scores(df.quotation[0])"
      ]
    },
    {
      "cell_type": "code",
      "execution_count": 18,
      "metadata": {},
      "outputs": [],
      "source": [
        "filename = 'quotes-2020_days.json.bz2' \n",
        "df = create_frame(filename, 100)"
      ]
    },
    {
      "cell_type": "code",
      "execution_count": 20,
      "metadata": {},
      "outputs": [
        {
          "data": {
            "text/html": [
              "<div>\n",
              "<style scoped>\n",
              "    .dataframe tbody tr th:only-of-type {\n",
              "        vertical-align: middle;\n",
              "    }\n",
              "\n",
              "    .dataframe tbody tr th {\n",
              "        vertical-align: top;\n",
              "    }\n",
              "\n",
              "    .dataframe thead th {\n",
              "        text-align: right;\n",
              "    }\n",
              "</style>\n",
              "<table border=\"1\" class=\"dataframe\">\n",
              "  <thead>\n",
              "    <tr style=\"text-align: right;\">\n",
              "      <th></th>\n",
              "      <th>quoteID</th>\n",
              "      <th>quotation</th>\n",
              "      <th>speaker</th>\n",
              "      <th>qids</th>\n",
              "      <th>date</th>\n",
              "      <th>numOccurrences</th>\n",
              "      <th>probas</th>\n",
              "      <th>urls</th>\n",
              "      <th>phase</th>\n",
              "      <th>day</th>\n",
              "    </tr>\n",
              "  </thead>\n",
              "  <tbody>\n",
              "    <tr>\n",
              "      <th>0</th>\n",
              "      <td>2020-01-28-000082</td>\n",
              "      <td>[ D ] espite the efforts of the partners to cr...</td>\n",
              "      <td>None</td>\n",
              "      <td>[]</td>\n",
              "      <td>2020-01-28 08:04:05</td>\n",
              "      <td>1</td>\n",
              "      <td>[[None, 0.7272], [Prime Minister Netanyahu, 0....</td>\n",
              "      <td>[http://israelnationalnews.com/News/News.aspx/...</td>\n",
              "      <td>E</td>\n",
              "      <td>Tuesday</td>\n",
              "    </tr>\n",
              "    <tr>\n",
              "      <th>1</th>\n",
              "      <td>2020-01-16-000088</td>\n",
              "      <td>[ Department of Homeland Security ] was livid ...</td>\n",
              "      <td>Sue Myrick</td>\n",
              "      <td>[Q367796]</td>\n",
              "      <td>2020-01-16 12:00:13</td>\n",
              "      <td>1</td>\n",
              "      <td>[[Sue Myrick, 0.8867], [None, 0.0992], [Ron Wy...</td>\n",
              "      <td>[http://thehill.com/opinion/international/4782...</td>\n",
              "      <td>E</td>\n",
              "      <td>Thursday</td>\n",
              "    </tr>\n",
              "    <tr>\n",
              "      <th>2</th>\n",
              "      <td>2020-02-10-000142</td>\n",
              "      <td>... He (Madhav) also disclosed that the illega...</td>\n",
              "      <td>None</td>\n",
              "      <td>[]</td>\n",
              "      <td>2020-02-10 23:45:54</td>\n",
              "      <td>1</td>\n",
              "      <td>[[None, 0.8926], [Prakash Rai, 0.1074]]</td>\n",
              "      <td>[https://indianexpress.com/article/business/ec...</td>\n",
              "      <td>E</td>\n",
              "      <td>Monday</td>\n",
              "    </tr>\n",
              "    <tr>\n",
              "      <th>3</th>\n",
              "      <td>2020-02-15-000053</td>\n",
              "      <td>... [ I ] f it gets to the floor,</td>\n",
              "      <td>None</td>\n",
              "      <td>[]</td>\n",
              "      <td>2020-02-15 14:12:51</td>\n",
              "      <td>2</td>\n",
              "      <td>[[None, 0.581], [Andy Harris, 0.4191]]</td>\n",
              "      <td>[https://patriotpost.us/opinion/68622-trump-bu...</td>\n",
              "      <td>E</td>\n",
              "      <td>Saturday</td>\n",
              "    </tr>\n",
              "    <tr>\n",
              "      <th>4</th>\n",
              "      <td>2020-01-24-000168</td>\n",
              "      <td>[ I met them ] when they just turned 4 and 7. ...</td>\n",
              "      <td>Meghan King Edmonds</td>\n",
              "      <td>[Q20684375]</td>\n",
              "      <td>2020-01-24 20:37:09</td>\n",
              "      <td>4</td>\n",
              "      <td>[[Meghan King Edmonds, 0.5446], [None, 0.2705]...</td>\n",
              "      <td>[https://people.com/parents/meghan-king-edmond...</td>\n",
              "      <td>E</td>\n",
              "      <td>Friday</td>\n",
              "    </tr>\n",
              "  </tbody>\n",
              "</table>\n",
              "</div>"
            ],
            "text/plain": [
              "             quoteID                                          quotation  \\\n",
              "0  2020-01-28-000082  [ D ] espite the efforts of the partners to cr...   \n",
              "1  2020-01-16-000088  [ Department of Homeland Security ] was livid ...   \n",
              "2  2020-02-10-000142  ... He (Madhav) also disclosed that the illega...   \n",
              "3  2020-02-15-000053                  ... [ I ] f it gets to the floor,   \n",
              "4  2020-01-24-000168  [ I met them ] when they just turned 4 and 7. ...   \n",
              "\n",
              "               speaker         qids                 date  numOccurrences  \\\n",
              "0                 None           []  2020-01-28 08:04:05               1   \n",
              "1           Sue Myrick    [Q367796]  2020-01-16 12:00:13               1   \n",
              "2                 None           []  2020-02-10 23:45:54               1   \n",
              "3                 None           []  2020-02-15 14:12:51               2   \n",
              "4  Meghan King Edmonds  [Q20684375]  2020-01-24 20:37:09               4   \n",
              "\n",
              "                                              probas  \\\n",
              "0  [[None, 0.7272], [Prime Minister Netanyahu, 0....   \n",
              "1  [[Sue Myrick, 0.8867], [None, 0.0992], [Ron Wy...   \n",
              "2            [[None, 0.8926], [Prakash Rai, 0.1074]]   \n",
              "3             [[None, 0.581], [Andy Harris, 0.4191]]   \n",
              "4  [[Meghan King Edmonds, 0.5446], [None, 0.2705]...   \n",
              "\n",
              "                                                urls phase       day  \n",
              "0  [http://israelnationalnews.com/News/News.aspx/...     E   Tuesday  \n",
              "1  [http://thehill.com/opinion/international/4782...     E  Thursday  \n",
              "2  [https://indianexpress.com/article/business/ec...     E    Monday  \n",
              "3  [https://patriotpost.us/opinion/68622-trump-bu...     E  Saturday  \n",
              "4  [https://people.com/parents/meghan-king-edmond...     E    Friday  "
            ]
          },
          "execution_count": 20,
          "metadata": {},
          "output_type": "execute_result"
        }
      ],
      "source": [
        "df.head()"
      ]
    },
    {
      "cell_type": "code",
      "execution_count": null,
      "metadata": {
        "id": "0aJiq7CklBMZ"
      },
      "outputs": [],
      "source": [
        "# To add the weekday to every quote of the dataset. This will save a new dataset with the added day in the folder \"Quotebank_days\"\n",
        "# We create a new dataset to not alter the original in case of problems\n",
        "\n",
        "years = [2015, 2016, 2017, 2018, 2019, 2020]\n",
        "\n",
        "for year in tqdm(years):\n",
        "\n",
        "  path_to_file = f'quotes-{year}.json.bz2' \n",
        "  path_to_out = f'quotes-{year}.json.bz2'\n",
        "\n",
        "  with bz2.open(path_to_file, 'rb') as s_file:\n",
        "    with bz2.open(path_to_out, 'wb') as d_file:\n",
        "      for instance in tqdm(s_file):\n",
        "        instance = json.loads(instance) # loading a sample\n",
        "        day = retrieve_day(instance['date'])\n",
        "        instance['day'] = day\n",
        "        d_file.write((json.dumps(instance)+'\\n').encode('utf-8')) # writing in the new file"
      ]
    },
    {
      "cell_type": "code",
      "execution_count": 21,
      "metadata": {},
      "outputs": [
        {
          "data": {
            "application/vnd.jupyter.widget-view+json": {
              "model_id": "fde1dcf3cc0441aaaa7752be98533bac",
              "version_major": 2,
              "version_minor": 0
            },
            "text/plain": [
              "  0%|          | 0/6 [00:00<?, ?it/s]"
            ]
          },
          "metadata": {},
          "output_type": "display_data"
        },
        {
          "data": {
            "application/vnd.jupyter.widget-view+json": {
              "model_id": "4458f6a4d97e4f41926608d5e8a86a45",
              "version_major": 2,
              "version_minor": 0
            },
            "text/plain": [
              "0it [00:00, ?it/s]"
            ]
          },
          "metadata": {},
          "output_type": "display_data"
        },
        {
          "data": {
            "application/vnd.jupyter.widget-view+json": {
              "model_id": "129fc74c7e7e4a6b8f908624be0626a1",
              "version_major": 2,
              "version_minor": 0
            },
            "text/plain": [
              "0it [00:00, ?it/s]"
            ]
          },
          "metadata": {},
          "output_type": "display_data"
        },
        {
          "data": {
            "application/vnd.jupyter.widget-view+json": {
              "model_id": "1c46ea25ce9e4e9dbcf0965d300b09d5",
              "version_major": 2,
              "version_minor": 0
            },
            "text/plain": [
              "0it [00:00, ?it/s]"
            ]
          },
          "metadata": {},
          "output_type": "display_data"
        }
      ],
      "source": [
        "years = [2015, 2016, 2017, 2018, 2019, 2020]\n",
        "\n",
        "for year in tqdm(years):\n",
        "\n",
        "  path_to_file = f'quotes-{year}_days.json.bz2' \n",
        "  path_to_out = f'quotes-{year}_days_sentiment.json.bz2'\n",
        "\n",
        "  with bz2.open(path_to_file, 'rb') as s_file:\n",
        "    with bz2.open(path_to_out, 'wb') as d_file:\n",
        "      for instance in tqdm(s_file):\n",
        "        instance = json.loads(instance) # loading a sample\n",
        "        sent = analyzer.polarity_scores(instance['quotation'])\n",
        "        instance['sentiment'] = sent\n",
        "        d_file.write((json.dumps(instance)+'\\n').encode('utf-8')) # writing in the new file"
      ]
    },
    {
      "cell_type": "code",
      "execution_count": null,
      "metadata": {},
      "outputs": [],
      "source": []
    }
  ],
  "metadata": {
    "colab": {
      "collapsed_sections": [],
      "name": "Tutorial_notebook.ipynb",
      "provenance": []
    },
    "interpreter": {
      "hash": "e7370f93d1d0cde622a1f8e1c04877d8463912d04d973331ad4851f04de6915a"
    },
    "kernelspec": {
      "display_name": "Python 3.9.7 64-bit",
      "name": "python3"
    },
    "language_info": {
      "codemirror_mode": {
        "name": "ipython",
        "version": 3
      },
      "file_extension": ".py",
      "mimetype": "text/x-python",
      "name": "python",
      "nbconvert_exporter": "python",
      "pygments_lexer": "ipython3",
      "version": "3.9.7"
    }
  },
  "nbformat": 4,
  "nbformat_minor": 0
}
