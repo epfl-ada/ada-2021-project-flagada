{
  "cells": [
    {
      "cell_type": "markdown",
      "metadata": {
        "id": "o7ABC84LWnTT"
      },
      "source": [
        "# Different imports and setup"
      ]
    },
    {
      "cell_type": "code",
      "execution_count": null,
      "metadata": {
        "colab": {
          "base_uri": "https://localhost:8080/"
        },
        "id": "CEcIlRwfWY4C",
        "outputId": "d4ef5743-079b-4912-9195-539378677715"
      },
      "outputs": [],
      "source": [
        "from google.colab import drive\n",
        "drive.mount('/content/drive')"
      ]
    },
    {
      "cell_type": "code",
      "execution_count": null,
      "metadata": {
        "colab": {
          "base_uri": "https://localhost:8080/"
        },
        "id": "BMcYYu6XW8SJ",
        "outputId": "2b231e9f-368f-415d-cdb7-a01a5d7b8d85"
      },
      "outputs": [],
      "source": [
        "# To go to the directory MyDrive directly (so that we don't type this path every second)\n",
        "%cd /content/drive/MyDrive"
      ]
    },
    {
      "cell_type": "code",
      "execution_count": null,
      "metadata": {
        "id": "NrEjjbaSXEwD"
      },
      "outputs": [],
      "source": [
        "# To list what is inside the current directory\n",
        "!ls"
      ]
    },
    {
      "cell_type": "code",
      "execution_count": null,
      "metadata": {
        "colab": {
          "base_uri": "https://localhost:8080/"
        },
        "id": "t7BjB7AW9qst",
        "outputId": "76472200-b927-472b-b727-c4a75907257a"
      },
      "outputs": [],
      "source": [
        "# To install some dependencies\n",
        "!pip install tld"
      ]
    },
    {
      "cell_type": "code",
      "execution_count": null,
      "metadata": {
        "id": "mctOUaD1XKzf"
      },
      "outputs": [],
      "source": [
        "# Different libraries import\n",
        "import pandas as pd\n",
        "from datetime import datetime\n",
        "import bz2\n",
        "import json\n",
        "from tqdm.notebook import tqdm"
      ]
    },
    {
      "cell_type": "markdown",
      "metadata": {
        "id": "AEU0iRykWj1n"
      },
      "source": [
        "# Tutorial "
      ]
    },
    {
      "cell_type": "markdown",
      "metadata": {
        "id": "cKUy29h68N0J"
      },
      "source": [
        "## Extracting the domain names\n",
        "\n",
        "This is an example on how to extract domain names from a sample. To do that, we can use *tld* library. To install it:"
      ]
    },
    {
      "cell_type": "markdown",
      "metadata": {
        "id": "DK4YmTdA9wmY"
      },
      "source": [
        "Following function then gives domain name. It takes as an argument an URL and returns the domain name:"
      ]
    },
    {
      "cell_type": "code",
      "execution_count": null,
      "metadata": {
        "id": "IdhreeYc8XEX"
      },
      "outputs": [],
      "source": [
        "from tld import get_tld\n",
        "\n",
        "def get_domain(url):\n",
        "    res = get_tld(url, as_object=True)\n",
        "    return res.tld\n"
      ]
    },
    {
      "cell_type": "markdown",
      "metadata": {
        "id": "2V67aCknDjgY"
      },
      "source": [
        "Now we will have to read the data. Each sample has property 'urls' which contains a list of links to the original articles containing the quotation. We will extract domain names for these links. Then, we will save a new file that contains samples with extracted domains. The new file will be saved in local storage in Colab but you can change path_to_out variable (optionally) if you want to save it directly to the drive. To generate a new file, run this cell:"
      ]
    },
    {
      "cell_type": "code",
      "execution_count": null,
      "metadata": {
        "id": "aHMv0FD0Eh_W"
      },
      "outputs": [],
      "source": [
        "import bz2\n",
        "import json\n",
        "\n",
        "path_to_file = 'Quotebank/quotes-2020.json.bz2' \n",
        "path_to_out = 'Test.json.bz2'\n",
        "\n",
        "with bz2.open(path_to_file, 'rb') as s_file:\n",
        "    with bz2.open(path_to_out, 'wb') as d_file:\n",
        "        for instance in s_file:\n",
        "            instance = json.loads(instance) # loading a sample\n",
        "            urls = instance['urls'] # extracting list of links\n",
        "            domains = []\n",
        "            for url in urls:\n",
        "                tld = get_domain(url)\n",
        "                domains.append(tld)\n",
        "            instance['domains'] = domains # updating the sample with domain name\n",
        "            d_file.write((json.dumps(instance)+'\\n').encode('utf-8')) # writing in the new file"
      ]
    },
    {
      "cell_type": "markdown",
      "metadata": {
        "id": "0vOPobprkF2h"
      },
      "source": [
        "It should take around 25min for this cell to finish running and you will be able to see a file (*quotes-2020-domains.json.bz2*) in the file explorer on the left side once it is done.\n",
        "\n",
        "You are all set, good luck! :)"
      ]
    },
    {
      "cell_type": "markdown",
      "metadata": {
        "id": "pBf_Hjz0RfmK"
      },
      "source": [
        "# Milestone 1\n",
        "\n",
        "\n"
      ]
    },
    {
      "cell_type": "markdown",
      "metadata": {
        "id": "uGTGEnFDVYkx"
      },
      "source": [
        "## Project description"
      ]
    },
    {
      "cell_type": "markdown",
      "metadata": {
        "id": "2L-_mAv9RMAC"
      },
      "source": [
        "First, one could try to associate a certain type of quote to the day(and even date) of the article. We do not have any pre-established pattern, but one could try to find one if any exists. Maybe there is a link between the nature of the quotation (political, good news/bad news, humoristic quote, and so on) and the day of the article. This can also be done with the consideration of historical event on the date of the publication. For example, there might be less joyful quotes in days during which tragic events happened."
      ]
    },
    {
      "cell_type": "markdown",
      "metadata": {
        "id": "5Ty5_qXLVqAk"
      },
      "source": [
        "## Code"
      ]
    },
    {
      "cell_type": "markdown",
      "metadata": {
        "id": "7P3g9GobcyYQ"
      },
      "source": [
        "### Functions"
      ]
    },
    {
      "cell_type": "code",
      "execution_count": null,
      "metadata": {
        "id": "JEjr1RicVLxi"
      },
      "outputs": [],
      "source": [
        "def retrieve_day(Date):\n",
        "  \"\"\" Retrieve the day from a date with format 'YYYY-MM-DD hh:mm:ss' where Y is years, M months, D day, h hours,\n",
        "      m minut and s seconds \n",
        "      Needs the following import :\n",
        "      from datetime import datetime\n",
        "      \"\"\"\n",
        "\n",
        "  try:                        \n",
        "    date = datetime.strptime(Date, '%Y-%m-%d %H:%M:%S') # Convert to a datetime object and check that the format is correct and the numbers are valid\n",
        "  except ValueError:\n",
        "    raise ValueError('The string \\'' + Date + '\\' does not match the format \\'YYYY-MM-DD hh:mm:ss\\'') from None # Customize the error message\n",
        "\n",
        "  if (date.year not in [2015, 2016, 2017, 2018, 2019, 2020]): # Check that the year is in the correct interval and that we do not have wrong data\n",
        "    raise ValueError(f'The year {date.year} that you provided is not between 2015 and 2020 (inclusive).')\n",
        "\n",
        "  weekday = datetime.isoweekday(date) # Obtain the weekday from 1 (monday) to 7 (sunday)\n",
        "\n",
        "  # There are no switch/case statement in Python <= 3.10...\n",
        "  if (weekday == 1):\n",
        "    return 'Monday'\n",
        "  elif (weekday == 2):\n",
        "    return 'Tuesday'\n",
        "  elif (weekday == 3):\n",
        "    return 'Wednesday'\n",
        "  elif (weekday == 4):\n",
        "    return 'Thursday'\n",
        "  elif (weekday == 5):\n",
        "    return 'Friday'\n",
        "  elif (weekday == 6):\n",
        "    return 'Saturday'\n",
        "  else:\n",
        "    return 'Sunday'"
      ]
    },
    {
      "cell_type": "code",
      "execution_count": null,
      "metadata": {
        "id": "gPQwJcIfXxWP"
      },
      "outputs": [],
      "source": [
        "def create_frame(filename, N):\n",
        "  \"\"\" Creates a DataFrame with the N first rows of the file with filename \n",
        "      It is useful to load small portions and test things.            \"\"\"\n",
        "  list_of_dicts = []\n",
        "  with bz2.open(filename, 'rb') as s_file:\n",
        "      for i, instance in enumerate(s_file):\n",
        "        if (i>N-1):\n",
        "            break\n",
        "        instance = json.loads(instance) # loading a sample\n",
        "        list_of_dicts.append(instance)\n",
        "      \n",
        "  return pd.DataFrame(list_of_dicts)\n",
        "        "
      ]
    },
    {
      "cell_type": "markdown",
      "metadata": {
        "id": "UxoFGb3Pc9MV"
      },
      "source": [
        "### Main code"
      ]
    },
    {
      "cell_type": "code",
      "execution_count": null,
      "metadata": {
        "id": "GwpDEXswXyLV"
      },
      "outputs": [],
      "source": [
        "filename = 'Quotebank/quotes-2020.json.bz2' \n",
        "df = create_frame(filename, 100)"
      ]
    },
    {
      "cell_type": "code",
      "execution_count": null,
      "metadata": {
        "colab": {
          "base_uri": "https://localhost:8080/",
          "height": 289
        },
        "id": "UPZx7VqqdDUR",
        "outputId": "3369434f-489a-4bd1-b9c8-6b50f13ec2c1"
      },
      "outputs": [],
      "source": [
        "df.head()"
      ]
    },
    {
      "cell_type": "code",
      "execution_count": null,
      "metadata": {
        "colab": {
          "base_uri": "https://localhost:8080/"
        },
        "id": "jRLjWFibRuQ1",
        "outputId": "5332a0e8-72ac-4a94-f51d-007f3b953fd3"
      },
      "outputs": [],
      "source": [
        "a = retrieve_day(df.loc[2, 'date'])\n",
        "print(a)"
      ]
    },
    {
      "cell_type": "code",
      "execution_count": null,
      "metadata": {
        "id": "0aJiq7CklBMZ"
      },
      "outputs": [],
      "source": [
        "# To add the weekday to every quote of the dataset. This will save a new dataset with the added day in the folder \"Quotebank_days\"\n",
        "# We create a new dataset to not alter the original in case of problems\n",
        "\n",
        "years = [2015, 2016, 2017, 2018, 2019, 2020]\n",
        "\n",
        "for year in tqdm(years):\n",
        "\n",
        "  path_to_file = f'Quotebank/quotes-{year}.json.bz2' \n",
        "  path_to_out = f'Quotebank_days/quotes-{year}.json.bz2'\n",
        "\n",
        "  with bz2.open(path_to_file, 'rb') as s_file:\n",
        "    with bz2.open(path_to_out, 'wb') as d_file:\n",
        "      for instance in tqdm(s_file):\n",
        "        instance = json.loads(instance) # loading a sample\n",
        "        day = retrieve_day(instance['date'])\n",
        "        instance['day'] = day\n",
        "        d_file.write((json.dumps(instance)+'\\n').encode('utf-8')) # writing in the new file"
      ]
    }
  ],
  "metadata": {
    "colab": {
      "collapsed_sections": [],
      "name": "Tutorial_notebook.ipynb",
      "provenance": []
    },
    "interpreter": {
      "hash": "76d3d9ea52ae0f582c7ab8c3bbc7d312c08f3afa3631e827e583225c1557aa69"
    },
    "kernelspec": {
      "display_name": "Python 3.9.7 64-bit ('base': conda)",
      "name": "python3"
    },
    "language_info": {
      "codemirror_mode": {
        "name": "ipython",
        "version": 3
      },
      "file_extension": ".py",
      "mimetype": "text/x-python",
      "name": "python",
      "nbconvert_exporter": "python",
      "pygments_lexer": "ipython3",
      "version": "3.9.7"
    }
  },
  "nbformat": 4,
  "nbformat_minor": 0
}
