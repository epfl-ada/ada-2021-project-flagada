{
 "cells": [
  {
   "cell_type": "markdown",
   "id": "ddd90ae5",
   "metadata": {},
   "source": [
    "### Imports"
   ]
  },
  {
   "cell_type": "code",
   "execution_count": 2,
   "id": "a844db16",
   "metadata": {},
   "outputs": [],
   "source": [
    "import pandas as pd\n",
    "import matplotlib.pyplot as plt\n",
    "import seaborn as sns\n",
    "import calendar\n",
    "\n",
    "import plotly.express as px\n",
    "import plotly.graph_objects as go"
   ]
  },
  {
   "cell_type": "markdown",
   "id": "eee19e54",
   "metadata": {},
   "source": [
    "### Datasets imports and processing"
   ]
  },
  {
   "cell_type": "code",
   "execution_count": 3,
   "id": "e235adbc",
   "metadata": {},
   "outputs": [],
   "source": [
    "def process_climate():\n",
    "    quotes_all_years = pd.io.json.read_json('quotes-all-years.json.bz2', lines = True)\n",
    "    quotes_all_years['month'] = quotes_all_years['date'].dt.month.apply(lambda x: calendar.month_abbr[x]) \n",
    "    quotes_all_years['date'] = quotes_all_years['date'].dt.date\n",
    "    return quotes_all_years\n",
    "\n",
    "def process_normal():\n",
    "    quotes_all_years_n = pd.io.json.read_json('quotes-all_days_attributes.json.bz2', lines = True)\n",
    "    quotes_all_years_n['month'] = quotes_all_years_n['date'].dt.month.apply(lambda x: calendar.month_abbr[x]) \n",
    "    quotes_all_years_n['date'] = quotes_all_years_n['date'].dt.date\n",
    "    return quotes_all_years_n\n",
    "\n",
    "def process_freq():\n",
    "    quotes_norm = pd.io.json.read_json('quote_frequency_day.json', orient = 'index')\n",
    "    quotes_norm['date'] = quotes_norm.index\n",
    "    quotes_norm['count']= quotes_norm[0]\n",
    "    quotes_norm.reset_index(drop = True, inplace = True)\n",
    "    quotes_norm = quotes_norm.drop( columns = 0)\n",
    "    return quotes_norm\n",
    "\n",
    "def process_sent():\n",
    "    sentiment_all_years = pd.read_csv('sentiment_all_years.csv')\n",
    "    sentiment_all_years['date'] = list(quotes_all_years.groupby('date').quotation.sum().index.astype(str))\n",
    "    return sentiment_all_years"
   ]
  },
  {
   "cell_type": "code",
   "execution_count": 4,
   "id": "79e78fe0",
   "metadata": {},
   "outputs": [],
   "source": [
    "quotes_all_years = process_climate()\n",
    "quotes_all_years_n = process_normal()\n",
    "quotes_norm = process_freq()\n",
    "s = process_sent()"
   ]
  },
  {
   "cell_type": "code",
   "execution_count": 5,
   "id": "b0d3111c",
   "metadata": {},
   "outputs": [],
   "source": [
    "def occurence(quotes_all_years=quotes_all_years):\n",
    "    quotes_date_occurence = quotes_all_years.groupby('date').date.count()\n",
    "    quotes_date_occurence = quotes_date_occurence.sort_values(ascending= False)\n",
    "    return quotes_date_occurence\n",
    "\n",
    "quotes_date_occurence = occurence()"
   ]
  },
  {
   "cell_type": "markdown",
   "id": "1f98acf8",
   "metadata": {},
   "source": [
    "### Sorting and defining events to study"
   ]
  },
  {
   "cell_type": "code",
   "execution_count": 6,
   "id": "c1063bbb",
   "metadata": {},
   "outputs": [],
   "source": [
    "dates_sorted = quotes_norm.sort_values(by=['date']).date\n",
    "dates_sorted.reset_index(drop = True, inplace = True)\n",
    "\n",
    "event_dict = dict({'2017-06-02': 'Trump left the Paris agreement',\n",
    "                   '2015-11-30': 'COP21 was happening',\n",
    "                   '2020-01-14': 'the Autralian bushfires happened',\n",
    "                   '2019-09-20': 'the climate strikes happened'})\n",
    "                   \n",
    "dates = ['2015-11-30', '2017-06-02', '2019-09-20', '2020-01-14']"
   ]
  },
  {
   "cell_type": "markdown",
   "id": "dab28966",
   "metadata": {},
   "source": [
    "### Function to extract the volume and the frequency for a given year"
   ]
  },
  {
   "cell_type": "code",
   "execution_count": 7,
   "id": "f44da328",
   "metadata": {},
   "outputs": [],
   "source": [
    "def extract_year(year, quotes_all_years=quotes_all_years):\n",
    "    return quotes_all_years[quotes_all_years['date'].astype(str).str.contains(year)]\n",
    "\n",
    "def extract_year_freq(year, quotes_norm=quotes_norm):\n",
    "    return quotes_norm[quotes_norm.date.astype(str).str.contains(year)]"
   ]
  },
  {
   "cell_type": "markdown",
   "id": "9a13b8ad",
   "metadata": {},
   "source": [
    "### Plotting functions"
   ]
  },
  {
   "cell_type": "code",
   "execution_count": 8,
   "id": "3e367d0c",
   "metadata": {},
   "outputs": [],
   "source": [
    "# Function used to plot the proportion of male and non-male speakers in climate quotes compared to all quotes\n",
    "def prop_male_female(quotes_all_years=quotes_all_years):\n",
    "    non_male_speakers = quotes_all_years[(quotes_all_years.gender != 'male') & (quotes_all_years.gender != 'None')].date\n",
    "    male_speakers = quotes_all_years[(quotes_all_years.gender == 'male')].date\n",
    "\n",
    "    prop_male =(male_speakers.value_counts()/quotes_all_years[quotes_all_years.gender != 'None'].date.value_counts()).fillna(0)\n",
    "    prop_non_male = (non_male_speakers.value_counts()/quotes_all_years[quotes_all_years.gender != 'None'].date.value_counts()).fillna(0)\n",
    "\n",
    "    prop_non_male =  pd.DataFrame(prop_non_male)\n",
    "    prop_non_male.rename(columns = {'date':'Non male speakers in climate quotes'}, inplace = True)\n",
    "    prop_non_male['date'] = prop_non_male.index\n",
    "    prop_non_male.reset_index(drop = True, inplace = True)\n",
    "    prop_non_male['date_ordinal'] = pd.to_datetime(prop_non_male['date']).apply(lambda date: date.toordinal())\n",
    "\n",
    "    prop_male =  pd.DataFrame(prop_male)\n",
    "    prop_male.rename(columns = {'date':'male speakers'}, inplace = True)\n",
    "    prop_male['date'] = prop_male.index\n",
    "    prop_male.reset_index(drop = True, inplace = True)\n",
    "    prop_male['date_ordinal'] = pd.to_datetime(prop_male['date']).apply(lambda date: date.toordinal())\n",
    "\n",
    "    prop_non_male['date_string'] = pd.to_datetime(prop_non_male['date'])\n",
    "    prop_male['date_string'] = pd.to_datetime(prop_male['date'])\n",
    "    prop_speakers = prop_non_male\n",
    "    prop_speakers['Male speakers in climate quotes'] = prop_male['male speakers']\n",
    "\n",
    "    non_male_speakers_n = quotes_all_years_n[(quotes_all_years_n.gender != 'male') & (quotes_all_years_n.gender != 'None')].date\n",
    "    male_speakers_n = quotes_all_years_n[(quotes_all_years_n.gender == 'male')].date\n",
    "\n",
    "    prop_male_n =(male_speakers_n.value_counts()/quotes_all_years_n[quotes_all_years_n.gender != 'None'].date.value_counts()).fillna(0)\n",
    "    prop_non_male_n = (non_male_speakers_n.value_counts()/quotes_all_years_n[quotes_all_years_n.gender != 'None'].date.value_counts()).fillna(0)\n",
    "\n",
    "    prop_non_male_n =  pd.DataFrame(prop_non_male_n)\n",
    "    prop_non_male_n.rename(columns = {'date':'Non male speakers in all quotes'}, inplace = True)\n",
    "    prop_non_male_n['date'] = prop_non_male_n.index\n",
    "    prop_non_male_n.reset_index(drop = True, inplace = True)\n",
    "    prop_non_male_n['date_ordinal'] = pd.to_datetime(prop_non_male_n['date']).apply(lambda date: date.toordinal())\n",
    "\n",
    "    prop_male_n =  pd.DataFrame(prop_male_n)\n",
    "    prop_male_n.rename(columns = {'date':'male speakers'}, inplace = True)\n",
    "    prop_male_n['date'] = prop_male_n.index\n",
    "    prop_male_n.reset_index(drop = True, inplace = True)\n",
    "    prop_male_n['date_ordinal'] = pd.to_datetime(prop_male_n['date']).apply(lambda date: date.toordinal())\n",
    "\n",
    "    prop_non_male_n['date_string'] = pd.to_datetime(prop_non_male_n['date'])\n",
    "    prop_male_n['date_string'] = pd.to_datetime(prop_male_n['date'])\n",
    "    prop_speakers['Non male speakers in all quotes'] = prop_non_male_n['Non male speakers in all quotes']\n",
    "    prop_speakers['Male speakers in all quotes'] = prop_male_n['male speakers']\n",
    "\n",
    "    fig_1 = px.scatter(prop_speakers,x='date_string',y= ['Non male speakers in climate quotes','Male speakers in climate quotes', 'Non male speakers in all quotes','Male speakers in all quotes'], trendline=\"ols\", color_discrete_sequence = ['green', 'orange', 'blue', 'red'])\n",
    "\n",
    "    fig_1.update_layout(title=\"Proportion of non-male and male speakers\", \n",
    "                    xaxis = dict(title = 'Dates'), \n",
    "                    yaxis = dict(title = 'Frequency'))\n",
    "    fig_1.update_traces(marker=dict(size=1.5, opacity=0.5), line = {'width' : 3.5})\n",
    "    fig_1.update_layout(legend={'itemsizing':'constant'})\n",
    "    fig_1.update_xaxes( gridcolor='black')\n",
    "    fig_1.update_yaxes(gridcolor='black')\n",
    "\n",
    "    fig_1.write_html('male_female_good.html')"
   ]
  },
  {
   "cell_type": "code",
   "execution_count": 9,
   "id": "67822b28",
   "metadata": {},
   "outputs": [],
   "source": [
    "# Function used to plot the proportion of democrats and republicans\n",
    "def prop_party(quotes_all_years=quotes_all_years):\n",
    "    democratic_speakers = quotes_all_years[(quotes_all_years.party.str.lower().str.contains('democr').fillna(False))].date\n",
    "    republican_speakers = quotes_all_years[(quotes_all_years.party.str.lower().str.contains('republi').fillna(False)  )].date\n",
    "\n",
    "    prop_democratic =(democratic_speakers.value_counts()/quotes_all_years[quotes_all_years.party != 'None'].date.value_counts()).fillna(0)\n",
    "    prop_republican = (republican_speakers.value_counts()/quotes_all_years[quotes_all_years.party != 'None'].date.value_counts()).fillna(0)\n",
    "\n",
    "    prop_democratic =  pd.DataFrame(prop_democratic)\n",
    "    prop_democratic.rename(columns = {'date':'democratic speakers'}, inplace = True)\n",
    "    prop_democratic['date'] = prop_democratic.index\n",
    "    prop_democratic.reset_index(drop = True, inplace = True)\n",
    "    prop_democratic['date_ordinal'] = pd.to_datetime(prop_democratic['date']).apply(lambda date: date.toordinal())\n",
    "\n",
    "    prop_republican =  pd.DataFrame(prop_republican)\n",
    "    prop_republican.rename(columns = {'date':'republican speakers'}, inplace = True)\n",
    "    prop_republican['date'] = prop_republican.index\n",
    "    prop_republican.reset_index(drop = True, inplace = True)\n",
    "    prop_republican['date_ordinal'] = pd.to_datetime(prop_republican['date']).apply(lambda date: date.toordinal())\n",
    "\n",
    "    prop_democratic['date_string'] = pd.to_datetime(prop_democratic['date'])\n",
    "    prop_republican['date_string'] = pd.to_datetime(prop_republican['date'])\n",
    "\n",
    "    prop_speakers_politic = pd.DataFrame()\n",
    "    prop_speakers_politic['date_string'] = prop_republican['date_string']\n",
    "    prop_speakers_politic['Democrats'] = prop_democratic['democratic speakers']\n",
    "    prop_speakers_politic['Republicans'] = prop_republican['republican speakers']\n",
    "\n",
    "    fig_1 = px.scatter(prop_speakers_politic,x='date_string',y= ['Democrats','Republicans'], trendline=\"ols\", color_discrete_sequence = ['blue', 'orange'])\n",
    "\n",
    "    fig_1.update_layout(title=\"Proportion of democrats and republicans quoted in the articles \", \n",
    "                    xaxis = dict(title = 'Dates'), \n",
    "                    yaxis = dict(title = 'Frequency'))\n",
    "    fig_1.update_traces(marker=dict(size=2.5), line = {'width' : 3.5})\n",
    "    fig_1.update_layout(legend={'itemsizing':'constant'})\n",
    "    fig_1.update_xaxes(gridcolor='black')\n",
    "    fig_1.update_yaxes(gridcolor='black')\n",
    "\n",
    "    fig_1.write_html('prop_demo_rep_good.html')"
   ]
  },
  {
   "cell_type": "code",
   "execution_count": 10,
   "id": "fa4293fc",
   "metadata": {},
   "outputs": [],
   "source": [
    "# Function used to plot the proportion of researchers and scientists\n",
    "def prop_res_pol(quotes_all_years=quotes_all_years):\n",
    "    research_speakers = quotes_all_years[(quotes_all_years.occupation.str.lower().str.contains('research', 'scienti').fillna(False))].date\n",
    "    politician_speakers = quotes_all_years[(quotes_all_years.occupation.str.lower().str.contains('politician').fillna(False)  )].date\n",
    "\n",
    "    prop_research  =(research_speakers.value_counts()/quotes_all_years[quotes_all_years.occupation != 'None'].date.value_counts()).fillna(0)\n",
    "    prop_politician= (politician_speakers.value_counts()/quotes_all_years[quotes_all_years.occupation != 'None'].date.value_counts()).fillna(0)\n",
    "\n",
    "    prop_research =  pd.DataFrame(prop_research)\n",
    "    prop_research.rename(columns = {'date':'research speakers'}, inplace = True)\n",
    "    prop_research['date'] = prop_research.index\n",
    "    prop_research.reset_index(drop = True, inplace = True)\n",
    "    prop_research['date_ordinal'] = pd.to_datetime(prop_research['date']).apply(lambda date: date.toordinal())\n",
    "\n",
    "    prop_politician =  pd.DataFrame(prop_politician)\n",
    "    prop_politician.rename(columns = {'date':'politician speakers'}, inplace = True)\n",
    "    prop_politician['date'] = prop_politician.index\n",
    "    prop_politician.reset_index(drop = True, inplace = True)\n",
    "    prop_politician['date_ordinal'] = pd.to_datetime(prop_politician['date']).apply(lambda date: date.toordinal())\n",
    "\n",
    "    prop_research['date_string'] = pd.to_datetime(prop_research['date'])\n",
    "    prop_politician['date_string'] = pd.to_datetime(prop_politician['date'])\n",
    "    prop_speakers_politician = pd.DataFrame()\n",
    "    prop_speakers_politician['date_string'] = prop_research['date_string']\n",
    "    prop_speakers_politician['Researchers'] = prop_research['research speakers']\n",
    "    prop_speakers_politician['Politicians'] = prop_politician['politician speakers']\n",
    "\n",
    "    fig_1 = px.scatter(prop_speakers_politician,x='date_string',y= ['Researchers','Politicians'], trendline=\"ols\", color_discrete_sequence = ['blue', 'orange'])\n",
    "\n",
    "    fig_1.update_layout(title=\"Proportion of politicians and researchers/scientists quoted in the articles \", \n",
    "                    xaxis = dict(title = 'Dates'), \n",
    "                    yaxis = dict(title = 'Frequency'))\n",
    "    fig_1.update_traces(marker=dict(size=2.5), line = {'width' : 3.5})\n",
    "    fig_1.update_layout(legend={'itemsizing':'constant'})\n",
    "    fig_1.update_xaxes(gridcolor='black')\n",
    "    fig_1.update_yaxes(gridcolor='black')\n",
    "    fig_1.update_layout(yaxis_range=[0,0.4])\n",
    "\n",
    "    fig_1.write_html('prop_research_pol.html')"
   ]
  },
  {
   "cell_type": "code",
   "execution_count": 11,
   "id": "eac248cb",
   "metadata": {},
   "outputs": [],
   "source": [
    "# Function used to plot the sentiment frequency and the evolution of the climate quotes frequency\n",
    "def plots_events(date, s=s, event=event_dict, quotes_all_years=quotes_all_years, quotes_date_occurence=quotes_date_occurence):\n",
    "    index_date_event = dates_sorted[dates_sorted == date].index[0]\n",
    "    min_event = index_date_event-30\n",
    "    max_event = index_date_event+30\n",
    "    dates_events = dates_sorted[min_event:max_event]\n",
    "    dates_events.reset_index(drop = True, inplace = True)\n",
    "    s_m = s[s['date'] >= dates_events.min().strftime('%Y-%m-%d')]\n",
    "    s_tot = s_m[s_m['date'] <= dates_events.max().strftime('%Y-%m-%d')]\n",
    "\n",
    "    interval_week = quotes_all_years[(quotes_all_years['date'] >= dates_events.min().date()) & \n",
    "                 (quotes_all_years['date'] <= dates_events.max().date())]\n",
    "\n",
    "    fig, ax = plt.subplots()\n",
    "    sns.histplot(interval_week['date'],label = \"Counts\", bins =len(interval_week), kde = True, ax=ax)\n",
    "    sns.histplot(interval_week[interval_week['date'].astype(str) == date].date, color = 'red',label = \"Peak\", ax=ax) \n",
    "    plt.xticks(rotation= 45 )\n",
    "    plt.xlabel('Dates')\n",
    "    plt.ylabel('Count')\n",
    "    plt.legend()\n",
    "    plt.ylim(0, quotes_date_occurence[0]+50)\n",
    "\n",
    "    plt.title(f'Number of quotations reported per day ({event[date]})')\n",
    "    fig.savefig(f'VOLUME_{date}.pdf',bbox_inches='tight')\n",
    "\n",
    "    fig = px.bar(s_tot, x=\"date\", y = ['positive_sentiment', 'negative_sentiment'], barmode=\"overlay\")\n",
    "\n",
    "    fig.add_hline(y=0.0047, line_dash=\"dot\", annotation_text=\"Average negative sentiment frequency over all years\", annotation_font_size=12, \n",
    "                annotation_position=\"top left\", annotation_bgcolor=\"#ffffff\", annotation_opacity=0.8)\n",
    "    fig.add_annotation(x=date, y=s_tot[s_tot['date']== date]['negative_sentiment'].values[0],\n",
    "            text=f\"When {event[date]}\",\n",
    "            showarrow=True,\n",
    "            arrowhead=1,\n",
    "            ax=-50,\n",
    "            ay=-100)\n",
    "    fig.update_layout(title=f\"Sentiment analysis when {event[date]}\", \n",
    "                  xaxis = dict(title = 'Dates'), \n",
    "                  yaxis = dict(title = 'Frequency'))\n",
    "    fig.write_html(f'{date}_good_over.html')"
   ]
  },
  {
   "cell_type": "code",
   "execution_count": 12,
   "id": "09e39c75",
   "metadata": {},
   "outputs": [],
   "source": [
    "# To save the plots for all events\n",
    "def plot_all_events(dates=dates):\n",
    "    for d in dates:\n",
    "        plots_events(d)"
   ]
  },
  {
   "cell_type": "code",
   "execution_count": 13,
   "id": "9263cd82",
   "metadata": {},
   "outputs": [],
   "source": [
    "# And a function to plot specificly for covid\n",
    "def covid_plot(quotes_all_years=quotes_all_years):\n",
    "    dates_covid = quotes_all_years[pd.to_datetime(quotes_all_years.date).dt.strftime('%m-%Y').astype(str).str.contains('|'.join(['02-2020','03-2020','04-2020']))].date\n",
    "    counts = dates_covid.value_counts()\n",
    "    counts = pd.DataFrame({'date':counts.index, 'count':counts.values})\n",
    "    counts['date'] = pd.to_datetime(counts['date'])\n",
    "    counts.sort_values('date', inplace=True)\n",
    "\n",
    "    fig = go.Figure()\n",
    "    fig.add_trace(go.Histogram(x= dates_covid))\n",
    "    fig.update_layout(\n",
    "        bargap=0.05, # gap between bars of adjacent location coordinates\n",
    "        bargroupgap=0.01 # gap between bars of the same location coordinates\n",
    "    )\n",
    "\n",
    "    fig.update_xaxes(title_text='Dates', title_font_size=16, tickfont_size=14)\n",
    "    fig.update_yaxes(title_text='Count', title_font_size=16, tickfont_size=14)\n",
    "    fig.update_layout(title='Volume of climate quotes at the beginning of the COVID-19 crisis', title_x=0.5, title_font_size=18,\n",
    "    legend_font_size=14)\n",
    "\n",
    "    fig.write_html('covid.html')"
   ]
  },
  {
   "cell_type": "markdown",
   "id": "994fce27",
   "metadata": {},
   "source": [
    "### Function calls to save all plots"
   ]
  },
  {
   "cell_type": "code",
   "execution_count": 14,
   "id": "44702750",
   "metadata": {},
   "outputs": [
    {
     "data": {
      "image/png": "[encoded data removed]",
      "text/plain": [
       "<Figure size 432x288 with 1 Axes>"
      ]
     },
     "metadata": {
      "needs_background": "light"
     },
     "output_type": "display_data"
    },
    {
     "data": {
      "image/png": "[encoded data removed]",
      "text/plain": [
       "<Figure size 432x288 with 1 Axes>"
      ]
     },
     "metadata": {
      "needs_background": "light"
     },
     "output_type": "display_data"
    },
    {
     "data": {
      "image/png": "[encoded data removed]",
      "text/plain": [
       "<Figure size 432x288 with 1 Axes>"
      ]
     },
     "metadata": {
      "needs_background": "light"
     },
     "output_type": "display_data"
    },
    {
     "data": {
      "image/png": "[encoded data removed]",
      "text/plain": [
       "<Figure size 432x288 with 1 Axes>"
      ]
     },
     "metadata": {
      "needs_background": "light"
     },
     "output_type": "display_data"
    }
   ],
   "source": [
    "plot_all_events()\n",
    "prop_res_pol()\n",
    "prop_party()\n",
    "prop_male_female()\n",
    "covid_plot()"
   ]
  },
  {
   "cell_type": "markdown",
   "id": "ecb23385",
   "metadata": {},
   "source": [
    "### Word cloud"
   ]
  },
  {
   "cell_type": "markdown",
   "id": "0884a89d",
   "metadata": {},
   "source": [
    "#### Necessary imports"
   ]
  },
  {
   "cell_type": "code",
   "execution_count": 16,
   "id": "2e7bb473",
   "metadata": {},
   "outputs": [
    {
     "name": "stderr",
     "output_type": "stream",
     "text": [
      "[nltk_data] Downloading package wordnet to /home/main/nltk_data...\n",
      "[nltk_data]   Unzipping corpora/wordnet.zip.\n"
     ]
    },
    {
     "data": {
      "text/plain": [
       "True"
      ]
     },
     "execution_count": 16,
     "metadata": {},
     "output_type": "execute_result"
    }
   ],
   "source": [
    "from nltk.stem import WordNetLemmatizer \n",
    "from nltk.tokenize import word_tokenize\n",
    "import nltk\n",
    "\n",
    "nltk.download('wordnet')"
   ]
  },
  {
   "cell_type": "markdown",
   "id": "493862df",
   "metadata": {},
   "source": [
    "#### Necessary utils"
   ]
  },
  {
   "cell_type": "code",
   "execution_count": 17,
   "id": "0a1529b8",
   "metadata": {},
   "outputs": [],
   "source": [
    "lexic = ['climate change', 'climate emergency', 'climate crisis', 'global warming', 'greenhouse effect',\n",
    "        'fossil fuel', 'renewable energy', 'renewable energy', ' ha ']\n",
    "\n",
    "def preprocess(txt):\n",
    "    txt = \" \".join(simple_preprocess(txt))    \n",
    "    return txt\n",
    "\n",
    "def lemmatize_text(txt):\n",
    "    word_tokens = word_tokenize(txt)\n",
    "    lemmatized_output = [WordNetLemmatizer().lemmatize(w) for w in word_tokens ]\n",
    "    return lemmatized_output"
   ]
  },
  {
   "cell_type": "markdown",
   "id": "fbe85bcc",
   "metadata": {},
   "source": [
    "#### Function to find the most common words for politicians and scientists"
   ]
  },
  {
   "cell_type": "code",
   "execution_count": 18,
   "id": "f024f1d6",
   "metadata": {},
   "outputs": [],
   "source": [
    "def most_common_words(quotes_all_years=quotes_all_years, lexic=lexic):\n",
    "    research_speakers_quotes = quotes_all_years[(quotes_all_years.occupation.str.lower().str.contains('research', 'scienti').fillna(False))].quotation\n",
    "    politician_speakers_quotes = quotes_all_years[(quotes_all_years.occupation.str.lower().str.contains('politician').fillna(False)  )].quotation\n",
    "\n",
    "    politician_speakers_quotes = politician_speakers_quotes.apply(lambda x : preprocess(x))\n",
    "    research_speakers_quotes = research_speakers_quotes.apply(lambda x : preprocess(x))\n",
    "\n",
    "    politician_speakers_quotes = politician_speakers_quotes.apply(lambda x : lemmatize_text(x))\n",
    "    research_speakers_quotes = research_speakers_quotes.apply(lambda x : lemmatize_text(x))\n",
    "\n",
    "    politician_speakers_quotes = politician_speakers_quotes.apply(lambda x : ' '.join(x) )\n",
    "    research_speakers_quotes = research_speakers_quotes.apply(lambda x : ' '.join(x))\n",
    "\n",
    "    politician_speakers_quotes = ''.join(politician_speakers_quotes)\n",
    "    research_speakers_quotes = ''.join(research_speakers_quotes)\n",
    "\n",
    "    for w in lexic:\n",
    "        politician_speakers_quotes = politician_speakers_quotes.replace(w, \"\")\n",
    "        research_speakers_quotes = research_speakers_quotes.replace(w, \"\")\n",
    "\n",
    "    return politician_speakers_quotes, research_speakers_quotes"
   ]
  }
 ],
 "metadata": {
  "kernelspec": {
   "display_name": "Python 3 (ipykernel)",
   "language": "python",
   "name": "python3"
  },
  "language_info": {
   "codemirror_mode": {
    "name": "ipython",
    "version": 3
   },
   "file_extension": ".py",
   "mimetype": "text/x-python",
   "name": "python",
   "nbconvert_exporter": "python",
   "pygments_lexer": "ipython3",
   "version": "3.9.9"
  }
 },
 "nbformat": 4,
 "nbformat_minor": 5
}
